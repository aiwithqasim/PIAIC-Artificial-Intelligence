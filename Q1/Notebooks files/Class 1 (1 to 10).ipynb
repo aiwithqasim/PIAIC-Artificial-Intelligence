{
  "cells": [
    {
      "cell_type": "code",
      "source": [
        "print('Checking Updates')"
      ],
      "metadata": {
        "id": "kDXmVjZea680",
        "outputId": "835c2aa2-a240-471b-e442-2238bd71e010",
        "colab": {
          "base_uri": "https://localhost:8080/"
        }
      },
      "execution_count": 1,
      "outputs": [
        {
          "output_type": "stream",
          "name": "stdout",
          "text": [
            "Checking Updates\n"
          ]
        }
      ]
    },
    {
      "cell_type": "code",
      "execution_count": null,
      "metadata": {
        "id": "GEbdzxYca3Gf",
        "outputId": "d4db012b-35b3-4d80-de72-36a94f928c0d"
      },
      "outputs": [
        {
          "name": "stdout",
          "output_type": "stream",
          "text": [
            "hello world!\n"
          ]
        }
      ],
      "source": [
        "print(\"hello world!\")"
      ]
    },
    {
      "cell_type": "code",
      "execution_count": null,
      "metadata": {
        "id": "wa-a6ijXa3Gm",
        "outputId": "8483616e-0fcc-4f34-edcb-3004c094f84f"
      },
      "outputs": [
        {
          "name": "stdout",
          "output_type": "stream",
          "text": [
            "Qasim_hassan\n"
          ]
        }
      ],
      "source": [
        "var = \"Qasim_hassan\"\n",
        "print (var)"
      ]
    },
    {
      "cell_type": "code",
      "execution_count": null,
      "metadata": {
        "id": "O6hCMp1za3Go",
        "outputId": "78da8230-5a05-4370-c5c8-0ae106931fb7"
      },
      "outputs": [
        {
          "name": "stdout",
          "output_type": "stream",
          "text": [
            "1\n"
          ]
        }
      ],
      "source": [
        "remainder = 10%3\n",
        "print(remainder)"
      ]
    },
    {
      "cell_type": "code",
      "execution_count": null,
      "metadata": {
        "id": "ApfMXZCQa3Gp",
        "outputId": "f1679f4d-2ff8-423c-c2dc-457479e20a0f"
      },
      "outputs": [
        {
          "name": "stdout",
          "output_type": "stream",
          "text": [
            "20\n"
          ]
        }
      ],
      "source": [
        "age = 19\n",
        "age1 = age+1\n",
        "print (age1)"
      ]
    },
    {
      "cell_type": "code",
      "execution_count": null,
      "metadata": {
        "id": "oKgbaiGRa3Gq",
        "outputId": "c1ab1e0d-9674-436c-c764-c81c4f269a4b"
      },
      "outputs": [
        {
          "name": "stdout",
          "output_type": "stream",
          "text": [
            "\n"
          ]
        }
      ],
      "source": [
        "age=10\n",
        "age1+=1\n",
        "print()"
      ]
    },
    {
      "cell_type": "code",
      "execution_count": null,
      "metadata": {
        "id": "9PHlES_Ka3Gr",
        "outputId": "24a56c3d-8bc3-4ecc-d39b-9f3826381ee9"
      },
      "outputs": [
        {
          "data": {
            "text/plain": [
              "5"
            ]
          },
          "execution_count": 8,
          "metadata": {},
          "output_type": "execute_result"
        }
      ],
      "source": [
        "5%10"
      ]
    },
    {
      "cell_type": "code",
      "execution_count": null,
      "metadata": {
        "id": "JA3vYBESa3Gs",
        "outputId": "50b8fe23-a6c4-4960-f2a6-f810909ab900"
      },
      "outputs": [
        {
          "data": {
            "text/plain": [
              "13"
            ]
          },
          "execution_count": 9,
          "metadata": {},
          "output_type": "execute_result"
        }
      ],
      "source": [
        "1+3*4 # BODMAS rule "
      ]
    },
    {
      "cell_type": "code",
      "execution_count": null,
      "metadata": {
        "id": "TyIAayOha3Gt",
        "outputId": "a35de87a-9afb-4a4d-e893-bba558bc4492"
      },
      "outputs": [
        {
          "data": {
            "text/plain": [
              "16"
            ]
          },
          "execution_count": 10,
          "metadata": {},
          "output_type": "execute_result"
        }
      ],
      "source": [
        "(1+3)*4"
      ]
    },
    {
      "cell_type": "code",
      "execution_count": null,
      "metadata": {
        "id": "ZplA-mSia3Gu",
        "outputId": "cc57a97b-5897-402a-abe7-a706caa9309a"
      },
      "outputs": [
        {
          "name": "stdout",
          "output_type": "stream",
          "text": [
            "0\n"
          ]
        }
      ],
      "source": [
        "A  = 2-2\n",
        "print (A)"
      ]
    },
    {
      "cell_type": "code",
      "execution_count": null,
      "metadata": {
        "id": "bGgfK5Gha3Gw",
        "outputId": "08436013-73f6-4791-8c9f-15cbba6cc8f2"
      },
      "outputs": [
        {
          "data": {
            "text/plain": [
              "34"
            ]
          },
          "execution_count": 15,
          "metadata": {},
          "output_type": "execute_result"
        }
      ],
      "source": [
        "(2*4)*4+2"
      ]
    },
    {
      "cell_type": "code",
      "execution_count": null,
      "metadata": {
        "id": "26cKMNoxa3Gx",
        "outputId": "caa15f5d-c2c3-46f4-88b7-eddd1df09b36"
      },
      "outputs": [
        {
          "data": {
            "text/plain": [
              "48"
            ]
          },
          "execution_count": 16,
          "metadata": {},
          "output_type": "execute_result"
        }
      ],
      "source": [
        "(2*4)*(4+2)"
      ]
    },
    {
      "cell_type": "code",
      "execution_count": null,
      "metadata": {
        "id": "X-Tg4DuMa3Gx",
        "outputId": "e9f14958-13e1-4439-cf89-ed47d1546821"
      },
      "outputs": [
        {
          "data": {
            "text/plain": [
              "4"
            ]
          },
          "execution_count": 17,
          "metadata": {},
          "output_type": "execute_result"
        }
      ],
      "source": [
        "2**2"
      ]
    },
    {
      "cell_type": "code",
      "execution_count": null,
      "metadata": {
        "id": "naCNOh5Sa3Gz",
        "outputId": "1ef9c78c-0e69-4978-b6b4-4f51dca551f8"
      },
      "outputs": [
        {
          "data": {
            "text/plain": [
              "9"
            ]
          },
          "execution_count": 18,
          "metadata": {},
          "output_type": "execute_result"
        }
      ],
      "source": [
        "3**2"
      ]
    },
    {
      "cell_type": "code",
      "execution_count": null,
      "metadata": {
        "id": "D93vsOgia3G0",
        "outputId": "f92805f3-f04c-4544-f7e7-da64d2e10f9b"
      },
      "outputs": [
        {
          "data": {
            "text/plain": [
              "27"
            ]
          },
          "execution_count": 20,
          "metadata": {},
          "output_type": "execute_result"
        }
      ],
      "source": [
        "3**3"
      ]
    },
    {
      "cell_type": "markdown",
      "metadata": {
        "id": "WyCzzEV3a3G1"
      },
      "source": [
        ""
      ]
    },
    {
      "cell_type": "code",
      "execution_count": null,
      "metadata": {
        "id": "JIUN3Mdoa3G3",
        "outputId": "1b429f42-64dc-45d3-c779-34906108bb76"
      },
      "outputs": [
        {
          "data": {
            "text/plain": [
              "7"
            ]
          },
          "execution_count": 21,
          "metadata": {},
          "output_type": "execute_result"
        }
      ],
      "source": [
        "5+2"
      ]
    },
    {
      "cell_type": "code",
      "execution_count": null,
      "metadata": {
        "id": "14ima2oAa3G4",
        "outputId": "4ddc5609-8061-4d2c-9b9e-194d59c54ac1"
      },
      "outputs": [
        {
          "name": "stdout",
          "output_type": "stream",
          "text": [
            "7\n"
          ]
        }
      ],
      "source": [
        "# concatinating\n",
        "add = 5+2\n",
        "print (add)"
      ]
    },
    {
      "cell_type": "code",
      "execution_count": null,
      "metadata": {
        "id": "umn1reQka3G6",
        "outputId": "19b8c8a2-2290-4557-f099-c71530ee3047"
      },
      "outputs": [
        {
          "name": "stdout",
          "output_type": "stream",
          "text": [
            "pakistanzindabad\n"
          ]
        }
      ],
      "source": [
        "str = \"pakistan\" + 'zindabad'\n",
        "print(str)"
      ]
    },
    {
      "cell_type": "code",
      "execution_count": null,
      "metadata": {
        "id": "GZsT5fDEa3G7",
        "outputId": "62400163-0b9a-488a-9f35-c987c4ba2390"
      },
      "outputs": [
        {
          "name": "stdout",
          "output_type": "stream",
          "text": [
            "pakistanzindabADpaindabad\n"
          ]
        }
      ],
      "source": [
        "str1 =  \"pakistan\"\n",
        "str2 =  \"zindabAD\"\n",
        "str3 = 'paindabad'\n",
        "print(str1+str2+str3)"
      ]
    },
    {
      "cell_type": "code",
      "execution_count": null,
      "metadata": {
        "id": "jdAsbtd5a3G8",
        "outputId": "796f4ccd-9cf3-4a24-81d7-428c38a1cb8a"
      },
      "outputs": [
        {
          "name": "stdout",
          "output_type": "stream",
          "text": [
            "pakistan zindabad paindabad\n"
          ]
        }
      ],
      "source": [
        "str4 =\"pakistan zindabad paindabad\"\n",
        "print(str4)"
      ]
    },
    {
      "cell_type": "raw",
      "metadata": {
        "id": "qOEt0N0Ga3G9"
      },
      "source": [
        ""
      ]
    },
    {
      "cell_type": "code",
      "execution_count": null,
      "metadata": {
        "id": "IRdHuiN_a3G9",
        "outputId": "101863dd-0910-443a-ac6a-84e5288394ee"
      },
      "outputs": [
        {
          "ename": "SyntaxError",
          "evalue": "unexpected character after line continuation character (<ipython-input-30-ddc0bbe7166f>, line 1)",
          "output_type": "error",
          "traceback": [
            "\u001b[1;36m  File \u001b[1;32m\"<ipython-input-30-ddc0bbe7166f>\"\u001b[1;36m, line \u001b[1;32m1\u001b[0m\n\u001b[1;33m    5 =\\+\u001b[0m\n\u001b[1;37m         ^\u001b[0m\n\u001b[1;31mSyntaxError\u001b[0m\u001b[1;31m:\u001b[0m unexpected character after line continuation character\n"
          ]
        }
      ],
      "source": [
        "5 =\\+"
      ]
    },
    {
      "cell_type": "code",
      "execution_count": null,
      "metadata": {
        "id": "4GyijlOZa3G-",
        "outputId": "8d401250-dded-47f1-b4bd-b437a47cb42e"
      },
      "outputs": [
        {
          "data": {
            "text/plain": [
              "'5 pakistan'"
            ]
          },
          "execution_count": 33,
          "metadata": {},
          "output_type": "execute_result"
        }
      ],
      "source": [
        "'5' + \" pakistan\""
      ]
    },
    {
      "cell_type": "code",
      "execution_count": null,
      "metadata": {
        "id": "UDU6v58ra3G-",
        "outputId": "e83bc74e-3f2b-46da-efa6-17eb1b0d5296"
      },
      "outputs": [
        {
          "data": {
            "text/plain": [
              "'pakistanpakistanpakistanpakistanpakistan'"
            ]
          },
          "execution_count": 34,
          "metadata": {},
          "output_type": "execute_result"
        }
      ],
      "source": [
        "\"pakistan\" * 5"
      ]
    },
    {
      "cell_type": "code",
      "execution_count": null,
      "metadata": {
        "id": "Do8g9ttla3G_",
        "outputId": "05bbe0be-dd8f-41dd-a0ac-7d5cf0439a3b"
      },
      "outputs": [
        {
          "name": "stdout",
          "output_type": "stream",
          "text": [
            "pakistan \n",
            " zindabad\n"
          ]
        }
      ],
      "source": [
        "print (\"pakistan \\n zindabad\")"
      ]
    },
    {
      "cell_type": "code",
      "execution_count": null,
      "metadata": {
        "id": "g--_ZF71a3G_",
        "outputId": "2f7c1ad8-093c-4a9d-b7b4-12aab59c840e"
      },
      "outputs": [
        {
          "name": "stdout",
          "output_type": "stream",
          "text": [
            "pakistan \t paindsabad\n"
          ]
        }
      ],
      "source": [
        "print('pakistan \\t paindsabad')"
      ]
    },
    {
      "cell_type": "code",
      "execution_count": null,
      "metadata": {
        "id": "jpSHjPLta3HA",
        "outputId": "1f69107c-61d0-41af-f4bd-c0b50cc7450f"
      },
      "outputs": [
        {
          "name": "stdout",
          "output_type": "stream",
          "text": [
            "my name is abdul hannan\n"
          ]
        }
      ],
      "source": [
        "print('''my name is abdul hannan''')"
      ]
    },
    {
      "cell_type": "code",
      "execution_count": null,
      "metadata": {
        "id": "YgGglcaEa3HA",
        "outputId": "09c0f7c1-2e74-45e4-c951-fe763de1dc4c"
      },
      "outputs": [
        {
          "name": "stdout",
          "output_type": "stream",
          "text": [
            "Enter your input: propmt\n",
            "propmt\n"
          ]
        }
      ],
      "source": [
        "# user input \n",
        "user_input = input (\"Enter your input: \")\n",
        "print(user_input)"
      ]
    },
    {
      "cell_type": "code",
      "execution_count": null,
      "metadata": {
        "id": "NUmYch-Ba3HB",
        "outputId": "27f8919f-6646-4b1a-b240-3e59c4081525"
      },
      "outputs": [
        {
          "name": "stdout",
          "output_type": "stream",
          "text": [
            "Enter your input: qasim\n",
            "qasim\n"
          ]
        }
      ],
      "source": [
        "# user input \n",
        "user_input = input (\"Enter your input: \")\n",
        "print(user_input)"
      ]
    },
    {
      "cell_type": "code",
      "execution_count": null,
      "metadata": {
        "id": "lKRbfcJIa3HB",
        "outputId": "e59fbbd3-6c4f-41be-ac17-445b9cbeaef7"
      },
      "outputs": [
        {
          "name": "stdout",
          "output_type": "stream",
          "text": [
            "Enter your input: hannan 24 qasim\n",
            "hannan 24 qasim\n"
          ]
        }
      ],
      "source": [
        "# user input \n",
        "user_input = input (\"Enter your input: \")\n",
        "print(user_input)"
      ]
    },
    {
      "cell_type": "code",
      "execution_count": null,
      "metadata": {
        "id": "XL7MyRMMa3HC",
        "outputId": "ae68b40c-b503-4cd5-cfe5-496566db6d00"
      },
      "outputs": [
        {
          "name": "stdout",
          "output_type": "stream",
          "text": [
            "Enter any number: 5\n"
          ]
        },
        {
          "ename": "TypeError",
          "evalue": "can only concatenate str (not \"int\") to str",
          "output_type": "error",
          "traceback": [
            "\u001b[1;31m---------------------------------------------------------------------------\u001b[0m",
            "\u001b[1;31mTypeError\u001b[0m                                 Traceback (most recent call last)",
            "\u001b[1;32m<ipython-input-51-482ca3115da7>\u001b[0m in \u001b[0;36m<module>\u001b[1;34m\u001b[0m\n\u001b[0;32m      1\u001b[0m \u001b[1;31m# user input\u001b[0m\u001b[1;33m\u001b[0m\u001b[1;33m\u001b[0m\u001b[1;33m\u001b[0m\u001b[0m\n\u001b[0;32m      2\u001b[0m \u001b[0muser_input\u001b[0m \u001b[1;33m=\u001b[0m \u001b[0minput\u001b[0m \u001b[1;33m(\u001b[0m\u001b[1;34m\"Enter any number: \"\u001b[0m\u001b[1;33m)\u001b[0m\u001b[1;33m\u001b[0m\u001b[1;33m\u001b[0m\u001b[0m\n\u001b[1;32m----> 3\u001b[1;33m \u001b[0mprint\u001b[0m\u001b[1;33m(\u001b[0m\u001b[0muser_input\u001b[0m \u001b[1;33m+\u001b[0m \u001b[1;36m10\u001b[0m\u001b[1;33m)\u001b[0m\u001b[1;33m\u001b[0m\u001b[1;33m\u001b[0m\u001b[0m\n\u001b[0m",
            "\u001b[1;31mTypeError\u001b[0m: can only concatenate str (not \"int\") to str"
          ]
        }
      ],
      "source": [
        "# user input \n",
        "user_input = input (\"Enter any number: \")\n",
        "print(user_input + 10)"
      ]
    },
    {
      "cell_type": "code",
      "execution_count": null,
      "metadata": {
        "id": "7-GUXUzGa3HC",
        "outputId": "651a7c5a-33c9-4c10-f0c1-f1c5f26aca98"
      },
      "outputs": [
        {
          "name": "stdout",
          "output_type": "stream",
          "text": [
            "Enter any number: 56\n",
            "<class 'str'>\n"
          ]
        }
      ],
      "source": [
        "# user input \n",
        "user_input = input (\"Enter any number: \")\n",
        "print(type(user_input))"
      ]
    },
    {
      "cell_type": "code",
      "execution_count": null,
      "metadata": {
        "id": "tgexAjhYa3HD"
      },
      "outputs": [],
      "source": [
        "# user input \n",
        "user_input = input (\"Enter any number: \")\n",
        "print(user_input + 10)"
      ]
    },
    {
      "cell_type": "code",
      "execution_count": null,
      "metadata": {
        "id": "w7SjXxcYa3HE"
      },
      "outputs": [],
      "source": [
        "#type casting means changinng data type"
      ]
    },
    {
      "cell_type": "code",
      "execution_count": null,
      "metadata": {
        "id": "6GMbmOqja3HE",
        "outputId": "dfdfcfc0-d617-42df-e07b-9da410e38684"
      },
      "outputs": [
        {
          "name": "stdout",
          "output_type": "stream",
          "text": [
            "Enter any number: 5\n",
            "15\n"
          ]
        }
      ],
      "source": [
        "#here we change the type then add the given type means number\n",
        "\n",
        "# user input \n",
        "user_input = input (\"Enter any number: \")\n",
        "print(int(user_input) + 10)"
      ]
    },
    {
      "cell_type": "code",
      "execution_count": null,
      "metadata": {
        "id": "zn-HRo2oa3HF",
        "outputId": "6899a8a5-cf59-437b-f72d-92dee67243ab"
      },
      "outputs": [
        {
          "name": "stdout",
          "output_type": "stream",
          "text": [
            "Enter name qasim\n",
            "Enter age19\n",
            "my name is qasim and my age is 23\n"
          ]
        }
      ],
      "source": [
        "user_name =input(\"Enter name \")\n",
        "user_age =input(\"Enter age\")\n",
        "user_age = int(user_age)+ 4\n",
        "print (\"my name is \" + user_name + \" and my age is \"+ str(user_age))\n",
        "# we conver user age to str b/c by default we should have  everything in string"
      ]
    },
    {
      "cell_type": "code",
      "execution_count": null,
      "metadata": {
        "id": "nd2ljx8Za3HF",
        "outputId": "38f6029c-3e49-4f41-f3fe-fa6f64c2cc96"
      },
      "outputs": [
        {
          "ename": "IndentationError",
          "evalue": "expected an indented block (<ipython-input-7-40faca0665ae>, line 4)",
          "output_type": "error",
          "traceback": [
            "\u001b[1;36m  File \u001b[1;32m\"<ipython-input-7-40faca0665ae>\"\u001b[1;36m, line \u001b[1;32m4\u001b[0m\n\u001b[1;33m    print(\"no 1\"+ no_1 + \"is greater\")\u001b[0m\n\u001b[1;37m        ^\u001b[0m\n\u001b[1;31mIndentationError\u001b[0m\u001b[1;31m:\u001b[0m expected an indented block\n"
          ]
        }
      ],
      "source": [
        "no_1=input(\"number 1\")\n",
        "no_2=innput(\"number 2\")\n",
        "if no_1>no_2 :\n",
        "print(\"no 1\"+ no_1 + \"is greater\")\n",
        "else:\n",
        "    print(\"no 2\" + no_2 + \"is greater\")\n",
        "    "
      ]
    },
    {
      "cell_type": "code",
      "execution_count": null,
      "metadata": {
        "id": "wQpyRyTha3HG"
      },
      "outputs": [],
      "source": [
        "#boolean data type\n",
        "boolean = True or False\n",
        "boolean = 1 0r 0\n",
        "boolean = Yes or No"
      ]
    },
    {
      "cell_type": "code",
      "execution_count": null,
      "metadata": {
        "id": "Bs7eLPbxa3HG"
      },
      "outputs": [],
      "source": [
        ""
      ]
    },
    {
      "cell_type": "code",
      "execution_count": null,
      "metadata": {
        "id": "X0b0auQUa3HG"
      },
      "outputs": [],
      "source": [
        ""
      ]
    },
    {
      "cell_type": "code",
      "execution_count": null,
      "metadata": {
        "id": "sCGGz2Msa3HG"
      },
      "outputs": [],
      "source": [
        ""
      ]
    },
    {
      "cell_type": "code",
      "execution_count": null,
      "metadata": {
        "id": "JHqY7nhoa3HH"
      },
      "outputs": [],
      "source": [
        ""
      ]
    },
    {
      "cell_type": "code",
      "execution_count": null,
      "metadata": {
        "id": "MNxbkDfaa3HH"
      },
      "outputs": [],
      "source": [
        ""
      ]
    },
    {
      "cell_type": "code",
      "execution_count": null,
      "metadata": {
        "id": "w3uKgd-Ea3HH"
      },
      "outputs": [],
      "source": [
        ""
      ]
    },
    {
      "cell_type": "code",
      "execution_count": null,
      "metadata": {
        "id": "YwmDC1Yma3HH"
      },
      "outputs": [],
      "source": [
        ""
      ]
    },
    {
      "cell_type": "code",
      "execution_count": null,
      "metadata": {
        "id": "PPIMHhQba3HH"
      },
      "outputs": [],
      "source": [
        ""
      ]
    },
    {
      "cell_type": "code",
      "execution_count": null,
      "metadata": {
        "id": "G24ZbCzZa3HH"
      },
      "outputs": [],
      "source": [
        ""
      ]
    },
    {
      "cell_type": "code",
      "execution_count": null,
      "metadata": {
        "id": "PfR6uc7ca3HI"
      },
      "outputs": [],
      "source": [
        ""
      ]
    },
    {
      "cell_type": "code",
      "execution_count": null,
      "metadata": {
        "id": "GzHA0aYAa3HI"
      },
      "outputs": [],
      "source": [
        ""
      ]
    },
    {
      "cell_type": "code",
      "execution_count": null,
      "metadata": {
        "id": "IJmnE_KDa3HI"
      },
      "outputs": [],
      "source": [
        ""
      ]
    },
    {
      "cell_type": "code",
      "execution_count": null,
      "metadata": {
        "id": "CLDqj2xta3HI"
      },
      "outputs": [],
      "source": [
        ""
      ]
    }
  ],
  "metadata": {
    "kernelspec": {
      "display_name": "Python 3",
      "language": "python",
      "name": "python3"
    },
    "language_info": {
      "codemirror_mode": {
        "name": "ipython",
        "version": 3
      },
      "file_extension": ".py",
      "mimetype": "text/x-python",
      "name": "python",
      "nbconvert_exporter": "python",
      "pygments_lexer": "ipython3",
      "version": "3.7.3"
    },
    "colab": {
      "name": "Class 1 (1 to 10).ipynb",
      "provenance": []
    }
  },
  "nbformat": 4,
  "nbformat_minor": 0
}