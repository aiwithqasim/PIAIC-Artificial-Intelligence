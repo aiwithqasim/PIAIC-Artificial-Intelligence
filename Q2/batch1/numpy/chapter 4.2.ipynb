{
 "cells": [
  {
   "cell_type": "markdown",
   "metadata": {},
   "source": [
    "# Numpy 3D arrays"
   ]
  },
  {
   "cell_type": "code",
   "execution_count": 1,
   "metadata": {},
   "outputs": [
    {
     "data": {
      "text/plain": [
       "array([[[ 0,  1,  2,  3,  4],\n",
       "        [ 5,  6,  7,  8,  9],\n",
       "        [10, 11, 12, 13, 14],\n",
       "        [15, 16, 17, 18, 19],\n",
       "        [20, 21, 22, 23, 24]],\n",
       "\n",
       "       [[25, 26, 27, 28, 29],\n",
       "        [30, 31, 32, 33, 34],\n",
       "        [35, 36, 37, 38, 39],\n",
       "        [40, 41, 42, 43, 44],\n",
       "        [45, 46, 47, 48, 49]]])"
      ]
     },
     "execution_count": 1,
     "metadata": {},
     "output_type": "execute_result"
    }
   ],
   "source": [
    "import numpy as np\n",
    "\n",
    "d3 = np.arange(50).reshape(2,5,5)\n",
    "d3"
   ]
  },
  {
   "cell_type": "markdown",
   "metadata": {},
   "source": [
    "Indexing 3D"
   ]
  },
  {
   "cell_type": "code",
   "execution_count": 2,
   "metadata": {},
   "outputs": [
    {
     "data": {
      "text/plain": [
       "36"
      ]
     },
     "execution_count": 2,
     "metadata": {},
     "output_type": "execute_result"
    }
   ],
   "source": [
    "d3[1,2,1]"
   ]
  },
  {
   "cell_type": "code",
   "execution_count": 3,
   "metadata": {},
   "outputs": [
    {
     "data": {
      "text/plain": [
       "array([[25, 26, 27, 28, 29],\n",
       "       [30, 31, 32, 33, 34],\n",
       "       [35, 36, 37, 38, 39],\n",
       "       [40, 41, 42, 43, 44],\n",
       "       [45, 46, 47, 48, 49]])"
      ]
     },
     "execution_count": 3,
     "metadata": {},
     "output_type": "execute_result"
    }
   ],
   "source": [
    "d3[1]"
   ]
  },
  {
   "cell_type": "code",
   "execution_count": 4,
   "metadata": {},
   "outputs": [
    {
     "data": {
      "text/plain": [
       "array([[[11, 12],\n",
       "        [16, 17],\n",
       "        [21, 22]],\n",
       "\n",
       "       [[36, 37],\n",
       "        [41, 42],\n",
       "        [46, 47]]])"
      ]
     },
     "execution_count": 4,
     "metadata": {},
     "output_type": "execute_result"
    }
   ],
   "source": [
    "d3[0:,2:,1:3]"
   ]
  },
  {
   "cell_type": "code",
   "execution_count": 5,
   "metadata": {},
   "outputs": [
    {
     "data": {
      "text/plain": [
       "array([[[45, 46, 47, 48, 49]]])"
      ]
     },
     "execution_count": 5,
     "metadata": {},
     "output_type": "execute_result"
    }
   ],
   "source": [
    "#d3[1:2,4:5,0:5]\n",
    "d3[1:,4:,:]"
   ]
  },
  {
   "cell_type": "code",
   "execution_count": 6,
   "metadata": {},
   "outputs": [],
   "source": [
    "### d3[0:,2:4,1:3]"
   ]
  },
  {
   "cell_type": "code",
   "execution_count": 7,
   "metadata": {},
   "outputs": [
    {
     "data": {
      "text/plain": [
       "array([[28],\n",
       "       [33],\n",
       "       [38],\n",
       "       [43],\n",
       "       [48]])"
      ]
     },
     "execution_count": 7,
     "metadata": {},
     "output_type": "execute_result"
    }
   ],
   "source": [
    "d3[1,:,3:4]"
   ]
  },
  {
   "cell_type": "markdown",
   "metadata": {},
   "source": [
    "# BroadCasting"
   ]
  },
  {
   "cell_type": "code",
   "execution_count": 8,
   "metadata": {},
   "outputs": [
    {
     "data": {
      "text/plain": [
       "array([[2, 3, 4],\n",
       "       [3, 4, 5],\n",
       "       [4, 5, 6]])"
      ]
     },
     "execution_count": 8,
     "metadata": {},
     "output_type": "execute_result"
    }
   ],
   "source": [
    "x = np.array([[1,2,3]])  #(1,3)\n",
    "y = np.array([[1],[2],[3]])#(3,1)\n",
    "x+y"
   ]
  },
  {
   "cell_type": "code",
   "execution_count": 9,
   "metadata": {},
   "outputs": [
    {
     "data": {
      "text/plain": [
       "((1, 3), (3, 1))"
      ]
     },
     "execution_count": 9,
     "metadata": {},
     "output_type": "execute_result"
    }
   ],
   "source": [
    "x.shape, y.shape"
   ]
  },
  {
   "cell_type": "code",
   "execution_count": 10,
   "metadata": {},
   "outputs": [
    {
     "data": {
      "text/plain": [
       "array([[1, 2, 3],\n",
       "       [1, 2, 3],\n",
       "       [1, 2, 3]])"
      ]
     },
     "execution_count": 10,
     "metadata": {},
     "output_type": "execute_result"
    }
   ],
   "source": [
    "x,y=np.broadcast_arrays(x,y)\n",
    "x "
   ]
  },
  {
   "cell_type": "code",
   "execution_count": 11,
   "metadata": {},
   "outputs": [
    {
     "data": {
      "text/plain": [
       "array([[1, 1, 1],\n",
       "       [2, 2, 2],\n",
       "       [3, 3, 3]])"
      ]
     },
     "execution_count": 11,
     "metadata": {},
     "output_type": "execute_result"
    }
   ],
   "source": [
    "y"
   ]
  },
  {
   "cell_type": "code",
   "execution_count": 12,
   "metadata": {},
   "outputs": [
    {
     "data": {
      "text/plain": [
       "array([[2, 3, 4],\n",
       "       [3, 4, 5],\n",
       "       [4, 5, 6]])"
      ]
     },
     "execution_count": 12,
     "metadata": {},
     "output_type": "execute_result"
    }
   ],
   "source": [
    "x+y"
   ]
  },
  {
   "cell_type": "markdown",
   "metadata": {},
   "source": [
    "# Pandas"
   ]
  },
  {
   "cell_type": "markdown",
   "metadata": {},
   "source": [
    "# Pandas data structure\n",
    "Series\n",
    "DataFrame"
   ]
  },
  {
   "cell_type": "markdown",
   "metadata": {},
   "source": [
    "# Series"
   ]
  },
  {
   "cell_type": "code",
   "execution_count": 13,
   "metadata": {},
   "outputs": [],
   "source": [
    "import pandas as pd"
   ]
  },
  {
   "cell_type": "code",
   "execution_count": 14,
   "metadata": {},
   "outputs": [
    {
     "data": {
      "text/plain": [
       "0    111\n",
       "1    222\n",
       "2    333\n",
       "3    444\n",
       "4    555\n",
       "5    666\n",
       "6    777\n",
       "dtype: int64"
      ]
     },
     "execution_count": 14,
     "metadata": {},
     "output_type": "execute_result"
    }
   ],
   "source": [
    "s = pd.Series([111,222,333,444,555,666,777])\n",
    "s  # pandas series object"
   ]
  },
  {
   "cell_type": "code",
   "execution_count": 15,
   "metadata": {},
   "outputs": [],
   "source": [
    "# labels/index and values"
   ]
  },
  {
   "cell_type": "code",
   "execution_count": 16,
   "metadata": {},
   "outputs": [
    {
     "data": {
      "text/plain": [
       "555"
      ]
     },
     "execution_count": 16,
     "metadata": {},
     "output_type": "execute_result"
    }
   ],
   "source": [
    "#getting a single series value\n",
    "\n",
    "s[4]"
   ]
  },
  {
   "cell_type": "code",
   "execution_count": 17,
   "metadata": {},
   "outputs": [
    {
     "data": {
      "text/plain": [
       "5    666\n",
       "0    111\n",
       "3    444\n",
       "1    222\n",
       "dtype: int64"
      ]
     },
     "execution_count": 17,
     "metadata": {},
     "output_type": "execute_result"
    }
   ],
   "source": [
    "#getting a single series value\n",
    "s[[5,0,3,1]]"
   ]
  },
  {
   "cell_type": "code",
   "execution_count": 18,
   "metadata": {},
   "outputs": [],
   "source": [
    "# updating a series value\n",
    "s[3]= 1000\n",
    "# updating multiple series value\n",
    "\n",
    "s[[2,4,0]]=[9999,7777,1111]"
   ]
  },
  {
   "cell_type": "code",
   "execution_count": 19,
   "metadata": {},
   "outputs": [
    {
     "data": {
      "text/plain": [
       "0    1111\n",
       "1     222\n",
       "2    9999\n",
       "3    1000\n",
       "4    7777\n",
       "5     666\n",
       "6     777\n",
       "dtype: int64"
      ]
     },
     "execution_count": 19,
     "metadata": {},
     "output_type": "execute_result"
    }
   ],
   "source": [
    "s"
   ]
  },
  {
   "cell_type": "code",
   "execution_count": 20,
   "metadata": {},
   "outputs": [
    {
     "data": {
      "text/plain": [
       "0    1111\n",
       "1     222\n",
       "2    9999\n",
       "3    1000\n",
       "5     666\n",
       "6     777\n",
       "dtype: int64"
      ]
     },
     "execution_count": 20,
     "metadata": {},
     "output_type": "execute_result"
    }
   ],
   "source": [
    "# deleting a value in series\n",
    "\n",
    "del s[4]\n",
    "s"
   ]
  },
  {
   "cell_type": "code",
   "execution_count": 21,
   "metadata": {},
   "outputs": [
    {
     "ename": "TypeError",
     "evalue": "'[0, 2, 6]' is an invalid key",
     "output_type": "error",
     "traceback": [
      "\u001b[0;31m---------------------------------------------------------------------------\u001b[0m",
      "\u001b[0;31mTypeError\u001b[0m                                 Traceback (most recent call last)",
      "\u001b[0;32m<ipython-input-21-17706d06cd54>\u001b[0m in \u001b[0;36m<module>\u001b[0;34m\u001b[0m\n\u001b[1;32m      1\u001b[0m \u001b[0;31m# deleting multiple values in a series\u001b[0m\u001b[0;34m\u001b[0m\u001b[0;34m\u001b[0m\u001b[0;34m\u001b[0m\u001b[0m\n\u001b[0;32m----> 2\u001b[0;31m \u001b[0;32mdel\u001b[0m \u001b[0ms\u001b[0m\u001b[0;34m[\u001b[0m\u001b[0;34m[\u001b[0m\u001b[0;36m0\u001b[0m\u001b[0;34m,\u001b[0m\u001b[0;36m2\u001b[0m\u001b[0;34m,\u001b[0m\u001b[0;36m6\u001b[0m\u001b[0;34m]\u001b[0m\u001b[0;34m]\u001b[0m\u001b[0;34m\u001b[0m\u001b[0;34m\u001b[0m\u001b[0m\n\u001b[0m\u001b[1;32m      3\u001b[0m \u001b[0;34m\u001b[0m\u001b[0m\n\u001b[1;32m      4\u001b[0m \u001b[0;31m# not allowed\u001b[0m\u001b[0;34m\u001b[0m\u001b[0;34m\u001b[0m\u001b[0;34m\u001b[0m\u001b[0m\n",
      "\u001b[0;32m~/anaconda3/lib/python3.6/site-packages/pandas/core/generic.py\u001b[0m in \u001b[0;36m__delitem__\u001b[0;34m(self, key)\u001b[0m\n\u001b[1;32m   2741\u001b[0m             \u001b[0;31m# there was no match, this call should raise the appropriate\u001b[0m\u001b[0;34m\u001b[0m\u001b[0;34m\u001b[0m\u001b[0;34m\u001b[0m\u001b[0m\n\u001b[1;32m   2742\u001b[0m             \u001b[0;31m# exception:\u001b[0m\u001b[0;34m\u001b[0m\u001b[0;34m\u001b[0m\u001b[0;34m\u001b[0m\u001b[0m\n\u001b[0;32m-> 2743\u001b[0;31m             \u001b[0mself\u001b[0m\u001b[0;34m.\u001b[0m\u001b[0m_data\u001b[0m\u001b[0;34m.\u001b[0m\u001b[0mdelete\u001b[0m\u001b[0;34m(\u001b[0m\u001b[0mkey\u001b[0m\u001b[0;34m)\u001b[0m\u001b[0;34m\u001b[0m\u001b[0;34m\u001b[0m\u001b[0m\n\u001b[0m\u001b[1;32m   2744\u001b[0m \u001b[0;34m\u001b[0m\u001b[0m\n\u001b[1;32m   2745\u001b[0m         \u001b[0;31m# delete from the caches\u001b[0m\u001b[0;34m\u001b[0m\u001b[0;34m\u001b[0m\u001b[0;34m\u001b[0m\u001b[0m\n",
      "\u001b[0;32m~/anaconda3/lib/python3.6/site-packages/pandas/core/internals.py\u001b[0m in \u001b[0;36mdelete\u001b[0;34m(self, item)\u001b[0m\n\u001b[1;32m   4781\u001b[0m         \u001b[0mEnsures\u001b[0m \u001b[0mthat\u001b[0m \u001b[0mself\u001b[0m\u001b[0;34m.\u001b[0m\u001b[0mblocks\u001b[0m \u001b[0mdoesn\u001b[0m\u001b[0;31m'\u001b[0m\u001b[0mt\u001b[0m \u001b[0mbecome\u001b[0m \u001b[0mempty\u001b[0m\u001b[0;34m.\u001b[0m\u001b[0;34m\u001b[0m\u001b[0;34m\u001b[0m\u001b[0m\n\u001b[1;32m   4782\u001b[0m         \"\"\"\n\u001b[0;32m-> 4783\u001b[0;31m         \u001b[0mloc\u001b[0m \u001b[0;34m=\u001b[0m \u001b[0mself\u001b[0m\u001b[0;34m.\u001b[0m\u001b[0mitems\u001b[0m\u001b[0;34m.\u001b[0m\u001b[0mget_loc\u001b[0m\u001b[0;34m(\u001b[0m\u001b[0mitem\u001b[0m\u001b[0;34m)\u001b[0m\u001b[0;34m\u001b[0m\u001b[0;34m\u001b[0m\u001b[0m\n\u001b[0m\u001b[1;32m   4784\u001b[0m         \u001b[0mself\u001b[0m\u001b[0;34m.\u001b[0m\u001b[0m_block\u001b[0m\u001b[0;34m.\u001b[0m\u001b[0mdelete\u001b[0m\u001b[0;34m(\u001b[0m\u001b[0mloc\u001b[0m\u001b[0;34m)\u001b[0m\u001b[0;34m\u001b[0m\u001b[0;34m\u001b[0m\u001b[0m\n\u001b[1;32m   4785\u001b[0m         \u001b[0mself\u001b[0m\u001b[0;34m.\u001b[0m\u001b[0maxes\u001b[0m\u001b[0;34m[\u001b[0m\u001b[0;36m0\u001b[0m\u001b[0;34m]\u001b[0m \u001b[0;34m=\u001b[0m \u001b[0mself\u001b[0m\u001b[0;34m.\u001b[0m\u001b[0maxes\u001b[0m\u001b[0;34m[\u001b[0m\u001b[0;36m0\u001b[0m\u001b[0;34m]\u001b[0m\u001b[0;34m.\u001b[0m\u001b[0mdelete\u001b[0m\u001b[0;34m(\u001b[0m\u001b[0mloc\u001b[0m\u001b[0;34m)\u001b[0m\u001b[0;34m\u001b[0m\u001b[0;34m\u001b[0m\u001b[0m\n",
      "\u001b[0;32m~/anaconda3/lib/python3.6/site-packages/pandas/core/indexes/base.py\u001b[0m in \u001b[0;36mget_loc\u001b[0;34m(self, key, method, tolerance)\u001b[0m\n\u001b[1;32m   3076\u001b[0m                                  'backfill or nearest lookups')\n\u001b[1;32m   3077\u001b[0m             \u001b[0;32mtry\u001b[0m\u001b[0;34m:\u001b[0m\u001b[0;34m\u001b[0m\u001b[0;34m\u001b[0m\u001b[0m\n\u001b[0;32m-> 3078\u001b[0;31m                 \u001b[0;32mreturn\u001b[0m \u001b[0mself\u001b[0m\u001b[0;34m.\u001b[0m\u001b[0m_engine\u001b[0m\u001b[0;34m.\u001b[0m\u001b[0mget_loc\u001b[0m\u001b[0;34m(\u001b[0m\u001b[0mkey\u001b[0m\u001b[0;34m)\u001b[0m\u001b[0;34m\u001b[0m\u001b[0;34m\u001b[0m\u001b[0m\n\u001b[0m\u001b[1;32m   3079\u001b[0m             \u001b[0;32mexcept\u001b[0m \u001b[0mKeyError\u001b[0m\u001b[0;34m:\u001b[0m\u001b[0;34m\u001b[0m\u001b[0;34m\u001b[0m\u001b[0m\n\u001b[1;32m   3080\u001b[0m                 \u001b[0;32mreturn\u001b[0m \u001b[0mself\u001b[0m\u001b[0;34m.\u001b[0m\u001b[0m_engine\u001b[0m\u001b[0;34m.\u001b[0m\u001b[0mget_loc\u001b[0m\u001b[0;34m(\u001b[0m\u001b[0mself\u001b[0m\u001b[0;34m.\u001b[0m\u001b[0m_maybe_cast_indexer\u001b[0m\u001b[0;34m(\u001b[0m\u001b[0mkey\u001b[0m\u001b[0;34m)\u001b[0m\u001b[0;34m)\u001b[0m\u001b[0;34m\u001b[0m\u001b[0;34m\u001b[0m\u001b[0m\n",
      "\u001b[0;32mpandas/_libs/index.pyx\u001b[0m in \u001b[0;36mpandas._libs.index.IndexEngine.get_loc\u001b[0;34m()\u001b[0m\n",
      "\u001b[0;32mpandas/_libs/index.pyx\u001b[0m in \u001b[0;36mpandas._libs.index.IndexEngine.get_loc\u001b[0;34m()\u001b[0m\n",
      "\u001b[0;31mTypeError\u001b[0m: '[0, 2, 6]' is an invalid key"
     ]
    }
   ],
   "source": [
    "# deleting multiple values in a series\n",
    "del s[[0,2,6]]\n",
    "\n",
    "# not allowed"
   ]
  },
  {
   "cell_type": "code",
   "execution_count": null,
   "metadata": {},
   "outputs": [],
   "source": [
    "s[1234]= 45676878\n",
    "s[[123,345,678]]=[23,23,23]\n",
    "#not allowed"
   ]
  },
  {
   "cell_type": "code",
   "execution_count": null,
   "metadata": {},
   "outputs": [],
   "source": [
    "s"
   ]
  },
  {
   "cell_type": "code",
   "execution_count": null,
   "metadata": {},
   "outputs": [],
   "source": [
    "s1 = pd.Series([100,200,300,400], index=[\"apples\", \"oranges\",\"bananas\", \"grapes\"])"
   ]
  },
  {
   "cell_type": "code",
   "execution_count": null,
   "metadata": {},
   "outputs": [],
   "source": [
    "s1"
   ]
  },
  {
   "cell_type": "markdown",
   "metadata": {},
   "source": [
    "# Creating a series using a dictionary"
   ]
  },
  {
   "cell_type": "code",
   "execution_count": null,
   "metadata": {},
   "outputs": [],
   "source": [
    "aDic = {\"name\":\"Nasir Hussain\", \"Class\":\"AI\", \"Time\":\"5-9\"}"
   ]
  },
  {
   "cell_type": "code",
   "execution_count": null,
   "metadata": {},
   "outputs": [],
   "source": [
    "aDic"
   ]
  },
  {
   "cell_type": "code",
   "execution_count": null,
   "metadata": {},
   "outputs": [],
   "source": [
    "s2 = pd.Series(aDic)\n",
    "s2"
   ]
  },
  {
   "cell_type": "code",
   "execution_count": null,
   "metadata": {},
   "outputs": [],
   "source": [
    "s3 = pd.Series(s1, index=[\"mango\", \"oranges\",\"bananas\", \"grapes\"])"
   ]
  },
  {
   "cell_type": "code",
   "execution_count": null,
   "metadata": {},
   "outputs": [],
   "source": [
    "s3"
   ]
  },
  {
   "cell_type": "code",
   "execution_count": null,
   "metadata": {},
   "outputs": [],
   "source": [
    "s3[\"mango\"]=100"
   ]
  },
  {
   "cell_type": "code",
   "execution_count": null,
   "metadata": {},
   "outputs": [],
   "source": [
    "s3"
   ]
  },
  {
   "cell_type": "code",
   "execution_count": null,
   "metadata": {},
   "outputs": [],
   "source": [
    "s3.values"
   ]
  },
  {
   "cell_type": "code",
   "execution_count": null,
   "metadata": {},
   "outputs": [],
   "source": [
    "s3.index"
   ]
  },
  {
   "cell_type": "code",
   "execution_count": null,
   "metadata": {},
   "outputs": [],
   "source": [
    "s3[s3>200]"
   ]
  },
  {
   "cell_type": "code",
   "execution_count": null,
   "metadata": {},
   "outputs": [],
   "source": [
    "s3>200"
   ]
  },
  {
   "cell_type": "code",
   "execution_count": null,
   "metadata": {},
   "outputs": [],
   "source": [
    "\"Mango\" in s3"
   ]
  },
  {
   "cell_type": "code",
   "execution_count": null,
   "metadata": {},
   "outputs": [],
   "source": [
    "s4= pd.Series(s3.values, index=[22,33,44,55])"
   ]
  },
  {
   "cell_type": "code",
   "execution_count": null,
   "metadata": {},
   "outputs": [],
   "source": [
    "s4"
   ]
  },
  {
   "cell_type": "code",
   "execution_count": null,
   "metadata": {},
   "outputs": [],
   "source": [
    "s3"
   ]
  },
  {
   "cell_type": "code",
   "execution_count": null,
   "metadata": {},
   "outputs": [],
   "source": [
    "s3+s4"
   ]
  },
  {
   "cell_type": "markdown",
   "metadata": {},
   "source": [
    "# DataFrame"
   ]
  },
  {
   "cell_type": "code",
   "execution_count": null,
   "metadata": {},
   "outputs": [],
   "source": [
    "df = pd.DataFrame([123,234,345,456])\n",
    "df"
   ]
  },
  {
   "cell_type": "code",
   "execution_count": null,
   "metadata": {},
   "outputs": [],
   "source": [
    "df = pd.DataFrame([\"Red\",\"Green\", \"Blue\"],index=['v1','v2','v3'])\n",
    "df"
   ]
  },
  {
   "cell_type": "code",
   "execution_count": null,
   "metadata": {},
   "outputs": [],
   "source": [
    "df = pd.DataFrame([\"Red\",\"Green\", \"Blue\"],index=['v1','v2','v3'],columns=[\"Colors\"])\n",
    "df"
   ]
  },
  {
   "cell_type": "markdown",
   "metadata": {},
   "source": [
    "# Creating a Data Frame from a dictionary"
   ]
  },
  {
   "cell_type": "code",
   "execution_count": null,
   "metadata": {},
   "outputs": [],
   "source": [
    "score = {\"Ai for EO\":[76,78,89,90,83,82,87,89,90,99],\n",
    "         \"Python1\"  :[67,78,76,75,89,90,54,78,87,45],\n",
    "         \"Python2\"  :[78,76,79,56,34,89,45,78,91,89]\n",
    "        }"
   ]
  },
  {
   "cell_type": "code",
   "execution_count": null,
   "metadata": {},
   "outputs": [],
   "source": [
    "df = pd.DataFrame(score,index=[\"Nasir\", \"Asad\",\"Ahmed\",\n",
    "                               \"Abdullah\",\"Faraz\", \"Zaid\",\n",
    "                               \"Ali\", \"Khan\", 'Faisal', \n",
    "                               \"Fahad\"])\n",
    "df"
   ]
  },
  {
   "cell_type": "code",
   "execution_count": null,
   "metadata": {},
   "outputs": [],
   "source": [
    "df.head(3)"
   ]
  },
  {
   "cell_type": "code",
   "execution_count": null,
   "metadata": {},
   "outputs": [],
   "source": [
    "df.tail(3)"
   ]
  },
  {
   "cell_type": "code",
   "execution_count": null,
   "metadata": {},
   "outputs": [],
   "source": [
    "df"
   ]
  },
  {
   "cell_type": "code",
   "execution_count": null,
   "metadata": {},
   "outputs": [],
   "source": [
    "df.info()"
   ]
  },
  {
   "cell_type": "code",
   "execution_count": null,
   "metadata": {},
   "outputs": [],
   "source": [
    "df.describe()"
   ]
  },
  {
   "cell_type": "code",
   "execution_count": null,
   "metadata": {},
   "outputs": [],
   "source": [
    "#data = pd.read_csv(\"banknotes.csv\")"
   ]
  },
  {
   "cell_type": "code",
   "execution_count": null,
   "metadata": {},
   "outputs": [],
   "source": [
    "df['Python1']"
   ]
  },
  {
   "cell_type": "code",
   "execution_count": null,
   "metadata": {},
   "outputs": [],
   "source": [
    "df['Ai for EO']"
   ]
  },
  {
   "cell_type": "code",
   "execution_count": null,
   "metadata": {},
   "outputs": [],
   "source": [
    "df.loc[['Abdullah','Fahad']]['Python1']"
   ]
  },
  {
   "cell_type": "code",
   "execution_count": null,
   "metadata": {},
   "outputs": [],
   "source": [
    "df"
   ]
  },
  {
   "cell_type": "code",
   "execution_count": null,
   "metadata": {},
   "outputs": [],
   "source": [
    "df[\"extra\"]=range(10)\n",
    "df"
   ]
  },
  {
   "cell_type": "code",
   "execution_count": null,
   "metadata": {},
   "outputs": [],
   "source": [
    "del df[\"extra\"]\n",
    "df"
   ]
  },
  {
   "cell_type": "code",
   "execution_count": null,
   "metadata": {},
   "outputs": [],
   "source": [
    "df[\"Total\"]=df[\"Ai for EO\"] + df[\"Python1\"] + df['Python2']\n",
    "df"
   ]
  },
  {
   "cell_type": "code",
   "execution_count": null,
   "metadata": {},
   "outputs": [],
   "source": [
    "# df[\"Status\"]=np.where(df['Total']>200,\"Pass\",\"Fail\")\n",
    "# df\n",
    "\n"
   ]
  },
  {
   "cell_type": "code",
   "execution_count": null,
   "metadata": {},
   "outputs": [],
   "source": [
    "df[\"Status\"]=[\"Pass\" if marks>200 else \"Fails\" for marks in df['Total']]"
   ]
  },
  {
   "cell_type": "code",
   "execution_count": null,
   "metadata": {},
   "outputs": [],
   "source": [
    "df"
   ]
  },
  {
   "cell_type": "code",
   "execution_count": null,
   "metadata": {},
   "outputs": [],
   "source": [
    "df['RevisedStatus']=np.where(((df['Ai for EO']>=50) & (df[\"Python1\"]>=50) & (df[\"Python2\"]>=50)),\"Pass\",\"Fail\")"
   ]
  },
  {
   "cell_type": "code",
   "execution_count": null,
   "metadata": {},
   "outputs": [],
   "source": [
    "df"
   ]
  },
  {
   "cell_type": "code",
   "execution_count": null,
   "metadata": {},
   "outputs": [],
   "source": [
    "df['newStatus']=[\"Pass\" if (ai>=50) & (p1>=50) & (p2>=50) else \"Fail\" for ai,p1,p2 in zip(df[\"Ai for EO\"], df['Python1'],df[\"Python2\"])]"
   ]
  },
  {
   "cell_type": "code",
   "execution_count": null,
   "metadata": {},
   "outputs": [],
   "source": [
    "df"
   ]
  },
  {
   "cell_type": "code",
   "execution_count": null,
   "metadata": {},
   "outputs": [],
   "source": [
    "x = [1,2,3,4]\n",
    "y = ['a','b','c','d']\n",
    "z = zip(x,y)\n"
   ]
  },
  {
   "cell_type": "code",
   "execution_count": null,
   "metadata": {},
   "outputs": [],
   "source": [
    "for x,y in z:\n",
    "    print(x,y)"
   ]
  },
  {
   "cell_type": "markdown",
   "metadata": {},
   "source": [
    "# 13-10-2019"
   ]
  },
  {
   "cell_type": "code",
   "execution_count": null,
   "metadata": {},
   "outputs": [],
   "source": [
    "pop = {'Nevada': {2001: 2.4, 2002: 2.9},\n",
    "       'Ohio': {2000: 1.5, 2001: 1.7, 2002: 3.6}}"
   ]
  },
  {
   "cell_type": "code",
   "execution_count": null,
   "metadata": {},
   "outputs": [],
   "source": [
    "frame3 = pd.DataFrame(pop)"
   ]
  },
  {
   "cell_type": "code",
   "execution_count": null,
   "metadata": {},
   "outputs": [],
   "source": [
    "frame3"
   ]
  },
  {
   "cell_type": "code",
   "execution_count": null,
   "metadata": {},
   "outputs": [],
   "source": [
    "pdata = {'Ohio': frame3['Ohio'][:-1],\n",
    "         \n",
    "         'Nevada': frame3['Nevada'][:2]}\n",
    "pdata = pd.DataFrame(pdata)\n",
    "pdata"
   ]
  },
  {
   "cell_type": "code",
   "execution_count": null,
   "metadata": {},
   "outputs": [],
   "source": [
    "frame3.index.name = 'year'; frame3.columns.name = 'state'"
   ]
  },
  {
   "cell_type": "code",
   "execution_count": null,
   "metadata": {},
   "outputs": [],
   "source": [
    "frame3"
   ]
  },
  {
   "cell_type": "code",
   "execution_count": null,
   "metadata": {},
   "outputs": [],
   "source": [
    "frame3.values"
   ]
  },
  {
   "cell_type": "markdown",
   "metadata": {},
   "source": [
    "# Index Objects"
   ]
  },
  {
   "cell_type": "code",
   "execution_count": null,
   "metadata": {},
   "outputs": [],
   "source": [
    "obj = pd.Series(range(3), index=['a', 'b', 'c'])"
   ]
  },
  {
   "cell_type": "code",
   "execution_count": null,
   "metadata": {},
   "outputs": [],
   "source": [
    "obj"
   ]
  },
  {
   "cell_type": "code",
   "execution_count": null,
   "metadata": {},
   "outputs": [],
   "source": [
    "index = obj.index"
   ]
  },
  {
   "cell_type": "code",
   "execution_count": null,
   "metadata": {},
   "outputs": [],
   "source": [
    "index"
   ]
  },
  {
   "cell_type": "code",
   "execution_count": null,
   "metadata": {},
   "outputs": [],
   "source": [
    "index[1:]"
   ]
  },
  {
   "cell_type": "markdown",
   "metadata": {},
   "source": [
    "# 5.2 Essential Functionality"
   ]
  },
  {
   "cell_type": "raw",
   "metadata": {},
   "source": [
    "Reindexing Series"
   ]
  },
  {
   "cell_type": "code",
   "execution_count": null,
   "metadata": {},
   "outputs": [],
   "source": [
    "obj = pd.Series([4.5, 7.2, -5.3, 3.6], index=['d', 'b', 'a', 'c'])"
   ]
  },
  {
   "cell_type": "code",
   "execution_count": null,
   "metadata": {},
   "outputs": [],
   "source": [
    "obj"
   ]
  },
  {
   "cell_type": "code",
   "execution_count": null,
   "metadata": {},
   "outputs": [],
   "source": [
    "obj2 = obj.reindex(['a', 'b', 'c', 'd', 'e'])\n"
   ]
  },
  {
   "cell_type": "code",
   "execution_count": null,
   "metadata": {},
   "outputs": [],
   "source": [
    "obj2['e']=100\n",
    "obj2"
   ]
  },
  {
   "cell_type": "code",
   "execution_count": null,
   "metadata": {},
   "outputs": [],
   "source": [
    "bj3 = pd.Series(['blue', 'purple', 'yellow'], index=[0,  4,9])"
   ]
  },
  {
   "cell_type": "code",
   "execution_count": null,
   "metadata": {},
   "outputs": [],
   "source": [
    "obj3"
   ]
  },
  {
   "cell_type": "code",
   "execution_count": null,
   "metadata": {},
   "outputs": [],
   "source": [
    "obj3.reindex(range(6))"
   ]
  },
  {
   "cell_type": "code",
   "execution_count": null,
   "metadata": {},
   "outputs": [],
   "source": [
    "obj3.reindex(range(6), method='ffill')"
   ]
  },
  {
   "cell_type": "code",
   "execution_count": null,
   "metadata": {},
   "outputs": [],
   "source": [
    "obj3.reindex(range(6), method='bfill')"
   ]
  },
  {
   "cell_type": "raw",
   "metadata": {},
   "source": [
    "###########Reindexing Frame#############\n",
    "\n",
    "            Row indexing "
   ]
  },
  {
   "cell_type": "code",
   "execution_count": null,
   "metadata": {},
   "outputs": [],
   "source": [
    "frame = pd.DataFrame(np.arange(9).reshape((3, 3)),\n",
    "                    index=['a', 'c', 'd'],\n",
    "                    columns=['Ohio', 'Texas', 'California'])\n",
    "frame"
   ]
  },
  {
   "cell_type": "code",
   "execution_count": null,
   "metadata": {},
   "outputs": [],
   "source": [
    "frame2 = frame.reindex(['a', 'b', 'c', 'd'])\n",
    "frame2\n"
   ]
  },
  {
   "cell_type": "raw",
   "metadata": {},
   "source": [
    "Column Reindexing"
   ]
  },
  {
   "cell_type": "code",
   "execution_count": null,
   "metadata": {},
   "outputs": [],
   "source": [
    "states = ['Texas', 'Utah', 'California']"
   ]
  },
  {
   "cell_type": "code",
   "execution_count": null,
   "metadata": {},
   "outputs": [],
   "source": [
    "frame.reindex(columns=states)"
   ]
  },
  {
   "cell_type": "raw",
   "metadata": {},
   "source": [
    "Row and Coulumn Idexing "
   ]
  },
  {
   "cell_type": "code",
   "execution_count": null,
   "metadata": {},
   "outputs": [],
   "source": [
    "newFrame = frame.reindex(index=['a', 'b', 'c', 'd'],\n",
    "                        columns=['Texas', 'Utah', 'California',\n",
    "                                 \"NewYork\"])\n",
    "newFrame"
   ]
  },
  {
   "cell_type": "code",
   "execution_count": null,
   "metadata": {},
   "outputs": [],
   "source": [
    "newFrame['NewYork']['b']=800"
   ]
  },
  {
   "cell_type": "code",
   "execution_count": null,
   "metadata": {},
   "outputs": [],
   "source": [
    "newFrame"
   ]
  },
  {
   "cell_type": "code",
   "execution_count": null,
   "metadata": {},
   "outputs": [],
   "source": [
    "frame.loc[['a', 'b', 'c', 'd'], states]"
   ]
  },
  {
   "cell_type": "markdown",
   "metadata": {},
   "source": [
    "# Dropping Entries from an Axis"
   ]
  },
  {
   "cell_type": "code",
   "execution_count": null,
   "metadata": {},
   "outputs": [],
   "source": [
    "obj = pd.Series(np.arange(5.), index=['a', 'b', 'c', 'd', 'e'])"
   ]
  },
  {
   "cell_type": "code",
   "execution_count": null,
   "metadata": {},
   "outputs": [],
   "source": [
    "obj.drop('c',inplace=True)"
   ]
  },
  {
   "cell_type": "code",
   "execution_count": null,
   "metadata": {},
   "outputs": [],
   "source": [
    "obj"
   ]
  },
  {
   "cell_type": "code",
   "execution_count": null,
   "metadata": {},
   "outputs": [],
   "source": [
    "data = pd.DataFrame(np.arange(16).reshape((4, 4)),\n",
    "                    index=['Ohio', 'Colorado', 'Utah', 'New York'],\n",
    "                    columns=['one', 'two', 'three', 'four'])\n",
    "data"
   ]
  },
  {
   "cell_type": "code",
   "execution_count": null,
   "metadata": {},
   "outputs": [],
   "source": [
    "data.drop(['Colorado', 'Ohio'])"
   ]
  },
  {
   "cell_type": "code",
   "execution_count": null,
   "metadata": {},
   "outputs": [],
   "source": [
    "data"
   ]
  },
  {
   "cell_type": "code",
   "execution_count": null,
   "metadata": {},
   "outputs": [],
   "source": [
    "data.drop('two', axis=1)"
   ]
  },
  {
   "cell_type": "code",
   "execution_count": null,
   "metadata": {},
   "outputs": [],
   "source": [
    "df = pd.read_csv('data.csv')"
   ]
  },
  {
   "cell_type": "code",
   "execution_count": null,
   "metadata": {},
   "outputs": [],
   "source": [
    "df"
   ]
  },
  {
   "cell_type": "code",
   "execution_count": null,
   "metadata": {},
   "outputs": [],
   "source": [
    "df.shape"
   ]
  },
  {
   "cell_type": "code",
   "execution_count": null,
   "metadata": {},
   "outputs": [],
   "source": [
    "df.columns"
   ]
  },
  {
   "cell_type": "code",
   "execution_count": null,
   "metadata": {},
   "outputs": [],
   "source": [
    "df[df['Mid']>20].count()"
   ]
  },
  {
   "cell_type": "code",
   "execution_count": null,
   "metadata": {},
   "outputs": [],
   "source": [
    "df[(df['Mid']>20) & (df['Best of Quizzes']>7) & (df['Best of Assignments']>7)]"
   ]
  },
  {
   "cell_type": "code",
   "execution_count": null,
   "metadata": {},
   "outputs": [],
   "source": [
    "df.info()"
   ]
  },
  {
   "cell_type": "code",
   "execution_count": null,
   "metadata": {},
   "outputs": [],
   "source": [
    "df"
   ]
  },
  {
   "cell_type": "code",
   "execution_count": null,
   "metadata": {},
   "outputs": [],
   "source": [
    "df1=df.copy()"
   ]
  },
  {
   "cell_type": "code",
   "execution_count": null,
   "metadata": {},
   "outputs": [],
   "source": [
    "\n",
    "\n",
    "\n",
    "df1['Quiz 1'].fillna(df1['Quiz 1'].mean(),inplace=True)"
   ]
  },
  {
   "cell_type": "code",
   "execution_count": null,
   "metadata": {},
   "outputs": [],
   "source": [
    "df1"
   ]
  },
  {
   "cell_type": "code",
   "execution_count": null,
   "metadata": {},
   "outputs": [],
   "source": [
    "df.mean"
   ]
  },
  {
   "cell_type": "markdown",
   "metadata": {},
   "source": [
    "# 19-10-2019"
   ]
  },
  {
   "cell_type": "raw",
   "metadata": {},
   "source": [
    "Function Application and Mapping"
   ]
  },
  {
   "cell_type": "code",
   "execution_count": 22,
   "metadata": {},
   "outputs": [
    {
     "data": {
      "text/html": [
       "<div>\n",
       "<style scoped>\n",
       "    .dataframe tbody tr th:only-of-type {\n",
       "        vertical-align: middle;\n",
       "    }\n",
       "\n",
       "    .dataframe tbody tr th {\n",
       "        vertical-align: top;\n",
       "    }\n",
       "\n",
       "    .dataframe thead th {\n",
       "        text-align: right;\n",
       "    }\n",
       "</style>\n",
       "<table border=\"1\" class=\"dataframe\">\n",
       "  <thead>\n",
       "    <tr style=\"text-align: right;\">\n",
       "      <th></th>\n",
       "      <th>b</th>\n",
       "      <th>d</th>\n",
       "      <th>e</th>\n",
       "    </tr>\n",
       "  </thead>\n",
       "  <tbody>\n",
       "    <tr>\n",
       "      <th>Utah</th>\n",
       "      <td>-0.012089</td>\n",
       "      <td>-1.200073</td>\n",
       "      <td>-0.153862</td>\n",
       "    </tr>\n",
       "    <tr>\n",
       "      <th>Ohio</th>\n",
       "      <td>0.566259</td>\n",
       "      <td>1.158389</td>\n",
       "      <td>-0.315582</td>\n",
       "    </tr>\n",
       "    <tr>\n",
       "      <th>Texas</th>\n",
       "      <td>0.122091</td>\n",
       "      <td>-2.147560</td>\n",
       "      <td>0.661842</td>\n",
       "    </tr>\n",
       "    <tr>\n",
       "      <th>Oregon</th>\n",
       "      <td>-0.604837</td>\n",
       "      <td>0.295723</td>\n",
       "      <td>1.576296</td>\n",
       "    </tr>\n",
       "  </tbody>\n",
       "</table>\n",
       "</div>"
      ],
      "text/plain": [
       "               b         d         e\n",
       "Utah   -0.012089 -1.200073 -0.153862\n",
       "Ohio    0.566259  1.158389 -0.315582\n",
       "Texas   0.122091 -2.147560  0.661842\n",
       "Oregon -0.604837  0.295723  1.576296"
      ]
     },
     "execution_count": 22,
     "metadata": {},
     "output_type": "execute_result"
    }
   ],
   "source": [
    "frame = pd.DataFrame(np.random.randn(4, 3), columns=list('bde'),\n",
    "                        index=['Utah', 'Ohio', 'Texas', 'Oregon'])\n",
    "frame"
   ]
  },
  {
   "cell_type": "code",
   "execution_count": 26,
   "metadata": {},
   "outputs": [
    {
     "data": {
      "text/html": [
       "<div>\n",
       "<style scoped>\n",
       "    .dataframe tbody tr th:only-of-type {\n",
       "        vertical-align: middle;\n",
       "    }\n",
       "\n",
       "    .dataframe tbody tr th {\n",
       "        vertical-align: top;\n",
       "    }\n",
       "\n",
       "    .dataframe thead th {\n",
       "        text-align: right;\n",
       "    }\n",
       "</style>\n",
       "<table border=\"1\" class=\"dataframe\">\n",
       "  <thead>\n",
       "    <tr style=\"text-align: right;\">\n",
       "      <th></th>\n",
       "      <th>b</th>\n",
       "      <th>d</th>\n",
       "      <th>e</th>\n",
       "    </tr>\n",
       "  </thead>\n",
       "  <tbody>\n",
       "    <tr>\n",
       "      <th>Utah</th>\n",
       "      <td>0.012089</td>\n",
       "      <td>1.200073</td>\n",
       "      <td>0.153862</td>\n",
       "    </tr>\n",
       "    <tr>\n",
       "      <th>Ohio</th>\n",
       "      <td>0.566259</td>\n",
       "      <td>1.158389</td>\n",
       "      <td>0.315582</td>\n",
       "    </tr>\n",
       "    <tr>\n",
       "      <th>Texas</th>\n",
       "      <td>0.122091</td>\n",
       "      <td>2.147560</td>\n",
       "      <td>0.661842</td>\n",
       "    </tr>\n",
       "    <tr>\n",
       "      <th>Oregon</th>\n",
       "      <td>0.604837</td>\n",
       "      <td>0.295723</td>\n",
       "      <td>1.576296</td>\n",
       "    </tr>\n",
       "  </tbody>\n",
       "</table>\n",
       "</div>"
      ],
      "text/plain": [
       "               b         d         e\n",
       "Utah    0.012089  1.200073  0.153862\n",
       "Ohio    0.566259  1.158389  0.315582\n",
       "Texas   0.122091  2.147560  0.661842\n",
       "Oregon  0.604837  0.295723  1.576296"
      ]
     },
     "execution_count": 26,
     "metadata": {},
     "output_type": "execute_result"
    }
   ],
   "source": [
    "frame = np.abs(frame)\n",
    "frame"
   ]
  },
  {
   "cell_type": "code",
   "execution_count": 28,
   "metadata": {},
   "outputs": [
    {
     "data": {
      "text/plain": [
       "b    0.592748\n",
       "d    1.851836\n",
       "e    1.422434\n",
       "dtype: float64"
      ]
     },
     "execution_count": 28,
     "metadata": {},
     "output_type": "execute_result"
    }
   ],
   "source": [
    "f = lambda x: x.max() - x.min()\n",
    "frame.apply(f)"
   ]
  },
  {
   "cell_type": "code",
   "execution_count": 29,
   "metadata": {},
   "outputs": [
    {
     "data": {
      "text/plain": [
       "Utah      1.187984\n",
       "Ohio      0.842807\n",
       "Texas     2.025468\n",
       "Oregon    1.280573\n",
       "dtype: float64"
      ]
     },
     "execution_count": 29,
     "metadata": {},
     "output_type": "execute_result"
    }
   ],
   "source": [
    "frame.apply(f, axis='columns')"
   ]
  },
  {
   "cell_type": "markdown",
   "metadata": {},
   "source": [
    "# Sorting and Ranking"
   ]
  },
  {
   "cell_type": "code",
   "execution_count": 30,
   "metadata": {},
   "outputs": [
    {
     "data": {
      "text/plain": [
       "d    0\n",
       "a    1\n",
       "b    2\n",
       "c    3\n",
       "dtype: int64"
      ]
     },
     "execution_count": 30,
     "metadata": {},
     "output_type": "execute_result"
    }
   ],
   "source": [
    "obj = pd.Series(range(4), index=['d', 'a', 'b', 'c'])\n",
    "obj"
   ]
  },
  {
   "cell_type": "code",
   "execution_count": 31,
   "metadata": {},
   "outputs": [
    {
     "data": {
      "text/plain": [
       "a    1\n",
       "b    2\n",
       "c    3\n",
       "d    0\n",
       "dtype: int64"
      ]
     },
     "execution_count": 31,
     "metadata": {},
     "output_type": "execute_result"
    }
   ],
   "source": [
    "obj.sort_index()"
   ]
  },
  {
   "cell_type": "code",
   "execution_count": 32,
   "metadata": {},
   "outputs": [
    {
     "data": {
      "text/html": [
       "<div>\n",
       "<style scoped>\n",
       "    .dataframe tbody tr th:only-of-type {\n",
       "        vertical-align: middle;\n",
       "    }\n",
       "\n",
       "    .dataframe tbody tr th {\n",
       "        vertical-align: top;\n",
       "    }\n",
       "\n",
       "    .dataframe thead th {\n",
       "        text-align: right;\n",
       "    }\n",
       "</style>\n",
       "<table border=\"1\" class=\"dataframe\">\n",
       "  <thead>\n",
       "    <tr style=\"text-align: right;\">\n",
       "      <th></th>\n",
       "      <th>d</th>\n",
       "      <th>a</th>\n",
       "      <th>b</th>\n",
       "      <th>c</th>\n",
       "    </tr>\n",
       "  </thead>\n",
       "  <tbody>\n",
       "    <tr>\n",
       "      <th>three</th>\n",
       "      <td>0</td>\n",
       "      <td>1</td>\n",
       "      <td>2</td>\n",
       "      <td>3</td>\n",
       "    </tr>\n",
       "    <tr>\n",
       "      <th>one</th>\n",
       "      <td>4</td>\n",
       "      <td>5</td>\n",
       "      <td>6</td>\n",
       "      <td>7</td>\n",
       "    </tr>\n",
       "  </tbody>\n",
       "</table>\n",
       "</div>"
      ],
      "text/plain": [
       "       d  a  b  c\n",
       "three  0  1  2  3\n",
       "one    4  5  6  7"
      ]
     },
     "execution_count": 32,
     "metadata": {},
     "output_type": "execute_result"
    }
   ],
   "source": [
    "frame = pd.DataFrame(np.arange(8).reshape((2, 4)),\n",
    "                    index=['three', 'one'],\n",
    "                    columns=['d', 'a', 'b', 'c'])\n",
    "frame\n"
   ]
  },
  {
   "cell_type": "code",
   "execution_count": 33,
   "metadata": {},
   "outputs": [
    {
     "data": {
      "text/html": [
       "<div>\n",
       "<style scoped>\n",
       "    .dataframe tbody tr th:only-of-type {\n",
       "        vertical-align: middle;\n",
       "    }\n",
       "\n",
       "    .dataframe tbody tr th {\n",
       "        vertical-align: top;\n",
       "    }\n",
       "\n",
       "    .dataframe thead th {\n",
       "        text-align: right;\n",
       "    }\n",
       "</style>\n",
       "<table border=\"1\" class=\"dataframe\">\n",
       "  <thead>\n",
       "    <tr style=\"text-align: right;\">\n",
       "      <th></th>\n",
       "      <th>d</th>\n",
       "      <th>a</th>\n",
       "      <th>b</th>\n",
       "      <th>c</th>\n",
       "    </tr>\n",
       "  </thead>\n",
       "  <tbody>\n",
       "    <tr>\n",
       "      <th>one</th>\n",
       "      <td>4</td>\n",
       "      <td>5</td>\n",
       "      <td>6</td>\n",
       "      <td>7</td>\n",
       "    </tr>\n",
       "    <tr>\n",
       "      <th>three</th>\n",
       "      <td>0</td>\n",
       "      <td>1</td>\n",
       "      <td>2</td>\n",
       "      <td>3</td>\n",
       "    </tr>\n",
       "  </tbody>\n",
       "</table>\n",
       "</div>"
      ],
      "text/plain": [
       "       d  a  b  c\n",
       "one    4  5  6  7\n",
       "three  0  1  2  3"
      ]
     },
     "execution_count": 33,
     "metadata": {},
     "output_type": "execute_result"
    }
   ],
   "source": [
    "frame.sort_index()"
   ]
  },
  {
   "cell_type": "code",
   "execution_count": 34,
   "metadata": {},
   "outputs": [
    {
     "data": {
      "text/html": [
       "<div>\n",
       "<style scoped>\n",
       "    .dataframe tbody tr th:only-of-type {\n",
       "        vertical-align: middle;\n",
       "    }\n",
       "\n",
       "    .dataframe tbody tr th {\n",
       "        vertical-align: top;\n",
       "    }\n",
       "\n",
       "    .dataframe thead th {\n",
       "        text-align: right;\n",
       "    }\n",
       "</style>\n",
       "<table border=\"1\" class=\"dataframe\">\n",
       "  <thead>\n",
       "    <tr style=\"text-align: right;\">\n",
       "      <th></th>\n",
       "      <th>a</th>\n",
       "      <th>b</th>\n",
       "      <th>c</th>\n",
       "      <th>d</th>\n",
       "    </tr>\n",
       "  </thead>\n",
       "  <tbody>\n",
       "    <tr>\n",
       "      <th>three</th>\n",
       "      <td>1</td>\n",
       "      <td>2</td>\n",
       "      <td>3</td>\n",
       "      <td>0</td>\n",
       "    </tr>\n",
       "    <tr>\n",
       "      <th>one</th>\n",
       "      <td>5</td>\n",
       "      <td>6</td>\n",
       "      <td>7</td>\n",
       "      <td>4</td>\n",
       "    </tr>\n",
       "  </tbody>\n",
       "</table>\n",
       "</div>"
      ],
      "text/plain": [
       "       a  b  c  d\n",
       "three  1  2  3  0\n",
       "one    5  6  7  4"
      ]
     },
     "execution_count": 34,
     "metadata": {},
     "output_type": "execute_result"
    }
   ],
   "source": [
    "frame.sort_index(axis=1)"
   ]
  },
  {
   "cell_type": "code",
   "execution_count": 35,
   "metadata": {},
   "outputs": [
    {
     "data": {
      "text/plain": [
       "0    4\n",
       "1    7\n",
       "2   -3\n",
       "3    2\n",
       "dtype: int64"
      ]
     },
     "execution_count": 35,
     "metadata": {},
     "output_type": "execute_result"
    }
   ],
   "source": [
    "obj = pd.Series([4, 7, -3, 2])\n",
    "obj"
   ]
  },
  {
   "cell_type": "code",
   "execution_count": 36,
   "metadata": {},
   "outputs": [
    {
     "data": {
      "text/plain": [
       "2   -3\n",
       "3    2\n",
       "0    4\n",
       "1    7\n",
       "dtype: int64"
      ]
     },
     "execution_count": 36,
     "metadata": {},
     "output_type": "execute_result"
    }
   ],
   "source": [
    "obj.sort_values()"
   ]
  },
  {
   "cell_type": "code",
   "execution_count": 48,
   "metadata": {},
   "outputs": [
    {
     "data": {
      "text/html": [
       "<div>\n",
       "<style scoped>\n",
       "    .dataframe tbody tr th:only-of-type {\n",
       "        vertical-align: middle;\n",
       "    }\n",
       "\n",
       "    .dataframe tbody tr th {\n",
       "        vertical-align: top;\n",
       "    }\n",
       "\n",
       "    .dataframe thead th {\n",
       "        text-align: right;\n",
       "    }\n",
       "</style>\n",
       "<table border=\"1\" class=\"dataframe\">\n",
       "  <thead>\n",
       "    <tr style=\"text-align: right;\">\n",
       "      <th></th>\n",
       "      <th>b</th>\n",
       "      <th>a</th>\n",
       "    </tr>\n",
       "  </thead>\n",
       "  <tbody>\n",
       "    <tr>\n",
       "      <th>0</th>\n",
       "      <td>4</td>\n",
       "      <td>1</td>\n",
       "    </tr>\n",
       "    <tr>\n",
       "      <th>1</th>\n",
       "      <td>7</td>\n",
       "      <td>2</td>\n",
       "    </tr>\n",
       "    <tr>\n",
       "      <th>2</th>\n",
       "      <td>-3</td>\n",
       "      <td>3</td>\n",
       "    </tr>\n",
       "    <tr>\n",
       "      <th>3</th>\n",
       "      <td>2</td>\n",
       "      <td>4</td>\n",
       "    </tr>\n",
       "  </tbody>\n",
       "</table>\n",
       "</div>"
      ],
      "text/plain": [
       "   b  a\n",
       "0  4  1\n",
       "1  7  2\n",
       "2 -3  3\n",
       "3  2  4"
      ]
     },
     "execution_count": 48,
     "metadata": {},
     "output_type": "execute_result"
    }
   ],
   "source": [
    "frame = pd.DataFrame({'b': [4, 7, -3, 2], 'a': [1,2,3,4]})\n",
    "frame"
   ]
  },
  {
   "cell_type": "code",
   "execution_count": 49,
   "metadata": {},
   "outputs": [
    {
     "data": {
      "text/html": [
       "<div>\n",
       "<style scoped>\n",
       "    .dataframe tbody tr th:only-of-type {\n",
       "        vertical-align: middle;\n",
       "    }\n",
       "\n",
       "    .dataframe tbody tr th {\n",
       "        vertical-align: top;\n",
       "    }\n",
       "\n",
       "    .dataframe thead th {\n",
       "        text-align: right;\n",
       "    }\n",
       "</style>\n",
       "<table border=\"1\" class=\"dataframe\">\n",
       "  <thead>\n",
       "    <tr style=\"text-align: right;\">\n",
       "      <th></th>\n",
       "      <th>b</th>\n",
       "      <th>a</th>\n",
       "    </tr>\n",
       "  </thead>\n",
       "  <tbody>\n",
       "    <tr>\n",
       "      <th>2</th>\n",
       "      <td>-3</td>\n",
       "      <td>3</td>\n",
       "    </tr>\n",
       "    <tr>\n",
       "      <th>3</th>\n",
       "      <td>2</td>\n",
       "      <td>4</td>\n",
       "    </tr>\n",
       "    <tr>\n",
       "      <th>0</th>\n",
       "      <td>4</td>\n",
       "      <td>1</td>\n",
       "    </tr>\n",
       "    <tr>\n",
       "      <th>1</th>\n",
       "      <td>7</td>\n",
       "      <td>2</td>\n",
       "    </tr>\n",
       "  </tbody>\n",
       "</table>\n",
       "</div>"
      ],
      "text/plain": [
       "   b  a\n",
       "2 -3  3\n",
       "3  2  4\n",
       "0  4  1\n",
       "1  7  2"
      ]
     },
     "execution_count": 49,
     "metadata": {},
     "output_type": "execute_result"
    }
   ],
   "source": [
    "frame.sort_values(by='b')"
   ]
  },
  {
   "cell_type": "code",
   "execution_count": 50,
   "metadata": {},
   "outputs": [
    {
     "data": {
      "text/html": [
       "<div>\n",
       "<style scoped>\n",
       "    .dataframe tbody tr th:only-of-type {\n",
       "        vertical-align: middle;\n",
       "    }\n",
       "\n",
       "    .dataframe tbody tr th {\n",
       "        vertical-align: top;\n",
       "    }\n",
       "\n",
       "    .dataframe thead th {\n",
       "        text-align: right;\n",
       "    }\n",
       "</style>\n",
       "<table border=\"1\" class=\"dataframe\">\n",
       "  <thead>\n",
       "    <tr style=\"text-align: right;\">\n",
       "      <th></th>\n",
       "      <th>b</th>\n",
       "      <th>a</th>\n",
       "    </tr>\n",
       "  </thead>\n",
       "  <tbody>\n",
       "    <tr>\n",
       "      <th>0</th>\n",
       "      <td>4</td>\n",
       "      <td>1</td>\n",
       "    </tr>\n",
       "    <tr>\n",
       "      <th>1</th>\n",
       "      <td>7</td>\n",
       "      <td>2</td>\n",
       "    </tr>\n",
       "    <tr>\n",
       "      <th>2</th>\n",
       "      <td>-3</td>\n",
       "      <td>3</td>\n",
       "    </tr>\n",
       "    <tr>\n",
       "      <th>3</th>\n",
       "      <td>2</td>\n",
       "      <td>4</td>\n",
       "    </tr>\n",
       "  </tbody>\n",
       "</table>\n",
       "</div>"
      ],
      "text/plain": [
       "   b  a\n",
       "0  4  1\n",
       "1  7  2\n",
       "2 -3  3\n",
       "3  2  4"
      ]
     },
     "execution_count": 50,
     "metadata": {},
     "output_type": "execute_result"
    }
   ],
   "source": [
    "frame"
   ]
  },
  {
   "cell_type": "code",
   "execution_count": 52,
   "metadata": {},
   "outputs": [
    {
     "data": {
      "text/html": [
       "<div>\n",
       "<style scoped>\n",
       "    .dataframe tbody tr th:only-of-type {\n",
       "        vertical-align: middle;\n",
       "    }\n",
       "\n",
       "    .dataframe tbody tr th {\n",
       "        vertical-align: top;\n",
       "    }\n",
       "\n",
       "    .dataframe thead th {\n",
       "        text-align: right;\n",
       "    }\n",
       "</style>\n",
       "<table border=\"1\" class=\"dataframe\">\n",
       "  <thead>\n",
       "    <tr style=\"text-align: right;\">\n",
       "      <th></th>\n",
       "      <th>b</th>\n",
       "      <th>a</th>\n",
       "    </tr>\n",
       "  </thead>\n",
       "  <tbody>\n",
       "    <tr>\n",
       "      <th>0</th>\n",
       "      <td>4</td>\n",
       "      <td>1</td>\n",
       "    </tr>\n",
       "    <tr>\n",
       "      <th>1</th>\n",
       "      <td>7</td>\n",
       "      <td>2</td>\n",
       "    </tr>\n",
       "    <tr>\n",
       "      <th>2</th>\n",
       "      <td>-3</td>\n",
       "      <td>3</td>\n",
       "    </tr>\n",
       "    <tr>\n",
       "      <th>3</th>\n",
       "      <td>2</td>\n",
       "      <td>4</td>\n",
       "    </tr>\n",
       "  </tbody>\n",
       "</table>\n",
       "</div>"
      ],
      "text/plain": [
       "   b  a\n",
       "0  4  1\n",
       "1  7  2\n",
       "2 -3  3\n",
       "3  2  4"
      ]
     },
     "execution_count": 52,
     "metadata": {},
     "output_type": "execute_result"
    }
   ],
   "source": [
    "frame.sort_values(by=['a', 'b'])"
   ]
  },
  {
   "cell_type": "code",
   "execution_count": 61,
   "metadata": {},
   "outputs": [
    {
     "data": {
      "text/plain": [
       "0    7\n",
       "1   -5\n",
       "2    7\n",
       "3    4\n",
       "4    2\n",
       "5    4\n",
       "6    0\n",
       "7    4\n",
       "dtype: int64"
      ]
     },
     "execution_count": 61,
     "metadata": {},
     "output_type": "execute_result"
    }
   ],
   "source": [
    "obj = pd.Series([7, -5, 7, 4, 2, 4,0, 4,])\n",
    "obj"
   ]
  },
  {
   "cell_type": "code",
   "execution_count": 62,
   "metadata": {},
   "outputs": [
    {
     "data": {
      "text/plain": [
       "0    7.5\n",
       "1    1.0\n",
       "2    7.5\n",
       "3    5.0\n",
       "4    3.0\n",
       "5    5.0\n",
       "6    2.0\n",
       "7    5.0\n",
       "dtype: float64"
      ]
     },
     "execution_count": 62,
     "metadata": {},
     "output_type": "execute_result"
    }
   ],
   "source": [
    "obj.rank()"
   ]
  },
  {
   "cell_type": "code",
   "execution_count": 56,
   "metadata": {},
   "outputs": [
    {
     "data": {
      "text/html": [
       "<div>\n",
       "<style scoped>\n",
       "    .dataframe tbody tr th:only-of-type {\n",
       "        vertical-align: middle;\n",
       "    }\n",
       "\n",
       "    .dataframe tbody tr th {\n",
       "        vertical-align: top;\n",
       "    }\n",
       "\n",
       "    .dataframe thead th {\n",
       "        text-align: right;\n",
       "    }\n",
       "</style>\n",
       "<table border=\"1\" class=\"dataframe\">\n",
       "  <thead>\n",
       "    <tr style=\"text-align: right;\">\n",
       "      <th></th>\n",
       "      <th>one</th>\n",
       "      <th>two</th>\n",
       "    </tr>\n",
       "  </thead>\n",
       "  <tbody>\n",
       "    <tr>\n",
       "      <th>a</th>\n",
       "      <td>1.40</td>\n",
       "      <td>NaN</td>\n",
       "    </tr>\n",
       "    <tr>\n",
       "      <th>b</th>\n",
       "      <td>7.10</td>\n",
       "      <td>-4.5</td>\n",
       "    </tr>\n",
       "    <tr>\n",
       "      <th>c</th>\n",
       "      <td>NaN</td>\n",
       "      <td>NaN</td>\n",
       "    </tr>\n",
       "    <tr>\n",
       "      <th>d</th>\n",
       "      <td>0.75</td>\n",
       "      <td>-1.3</td>\n",
       "    </tr>\n",
       "  </tbody>\n",
       "</table>\n",
       "</div>"
      ],
      "text/plain": [
       "    one  two\n",
       "a  1.40  NaN\n",
       "b  7.10 -4.5\n",
       "c   NaN  NaN\n",
       "d  0.75 -1.3"
      ]
     },
     "execution_count": 56,
     "metadata": {},
     "output_type": "execute_result"
    }
   ],
   "source": [
    "df = pd.DataFrame([[1.4, np.nan], [7.1, -4.5],\n",
    "                    [np.nan, np.nan], [0.75, -1.3]],\n",
    "                        index=['a', 'b', 'c', 'd'],\n",
    "                            columns=['one', 'two'])\n",
    "df"
   ]
  },
  {
   "cell_type": "code",
   "execution_count": 57,
   "metadata": {},
   "outputs": [
    {
     "data": {
      "text/plain": [
       "one    9.25\n",
       "two   -5.80\n",
       "dtype: float64"
      ]
     },
     "execution_count": 57,
     "metadata": {},
     "output_type": "execute_result"
    }
   ],
   "source": [
    "df.sum()"
   ]
  },
  {
   "cell_type": "code",
   "execution_count": 58,
   "metadata": {},
   "outputs": [
    {
     "data": {
      "text/plain": [
       "a    1.40\n",
       "b    2.60\n",
       "c    0.00\n",
       "d   -0.55\n",
       "dtype: float64"
      ]
     },
     "execution_count": 58,
     "metadata": {},
     "output_type": "execute_result"
    }
   ],
   "source": [
    "df.sum(axis='columns')"
   ]
  },
  {
   "cell_type": "code",
   "execution_count": 60,
   "metadata": {},
   "outputs": [
    {
     "data": {
      "text/plain": [
       "a    1.400\n",
       "b    1.300\n",
       "c      NaN\n",
       "d   -0.275\n",
       "dtype: float64"
      ]
     },
     "execution_count": 60,
     "metadata": {},
     "output_type": "execute_result"
    }
   ],
   "source": [
    "df.mean(axis='columns', skipna=True)"
   ]
  },
  {
   "cell_type": "code",
   "execution_count": 67,
   "metadata": {},
   "outputs": [],
   "source": [
    "frame = pd.DataFrame({'b': [1,0], 'a': [0,1]})\n"
   ]
  },
  {
   "cell_type": "code",
   "execution_count": 68,
   "metadata": {},
   "outputs": [
    {
     "data": {
      "text/html": [
       "<div>\n",
       "<style scoped>\n",
       "    .dataframe tbody tr th:only-of-type {\n",
       "        vertical-align: middle;\n",
       "    }\n",
       "\n",
       "    .dataframe tbody tr th {\n",
       "        vertical-align: top;\n",
       "    }\n",
       "\n",
       "    .dataframe thead th {\n",
       "        text-align: right;\n",
       "    }\n",
       "</style>\n",
       "<table border=\"1\" class=\"dataframe\">\n",
       "  <thead>\n",
       "    <tr style=\"text-align: right;\">\n",
       "      <th></th>\n",
       "      <th>b</th>\n",
       "      <th>a</th>\n",
       "    </tr>\n",
       "  </thead>\n",
       "  <tbody>\n",
       "    <tr>\n",
       "      <th>0</th>\n",
       "      <td>1</td>\n",
       "      <td>0</td>\n",
       "    </tr>\n",
       "    <tr>\n",
       "      <th>1</th>\n",
       "      <td>0</td>\n",
       "      <td>1</td>\n",
       "    </tr>\n",
       "  </tbody>\n",
       "</table>\n",
       "</div>"
      ],
      "text/plain": [
       "   b  a\n",
       "0  1  0\n",
       "1  0  1"
      ]
     },
     "execution_count": 68,
     "metadata": {},
     "output_type": "execute_result"
    }
   ],
   "source": [
    "frame"
   ]
  },
  {
   "cell_type": "code",
   "execution_count": 65,
   "metadata": {},
   "outputs": [
    {
     "data": {
      "text/html": [
       "<div>\n",
       "<style scoped>\n",
       "    .dataframe tbody tr th:only-of-type {\n",
       "        vertical-align: middle;\n",
       "    }\n",
       "\n",
       "    .dataframe tbody tr th {\n",
       "        vertical-align: top;\n",
       "    }\n",
       "\n",
       "    .dataframe thead th {\n",
       "        text-align: right;\n",
       "    }\n",
       "</style>\n",
       "<table border=\"1\" class=\"dataframe\">\n",
       "  <thead>\n",
       "    <tr style=\"text-align: right;\">\n",
       "      <th></th>\n",
       "      <th>b</th>\n",
       "      <th>a</th>\n",
       "    </tr>\n",
       "  </thead>\n",
       "  <tbody>\n",
       "    <tr>\n",
       "      <th>b</th>\n",
       "      <td>1.0</td>\n",
       "      <td>-1.0</td>\n",
       "    </tr>\n",
       "    <tr>\n",
       "      <th>a</th>\n",
       "      <td>-1.0</td>\n",
       "      <td>1.0</td>\n",
       "    </tr>\n",
       "  </tbody>\n",
       "</table>\n",
       "</div>"
      ],
      "text/plain": [
       "     b    a\n",
       "b  1.0 -1.0\n",
       "a -1.0  1.0"
      ]
     },
     "execution_count": 65,
     "metadata": {},
     "output_type": "execute_result"
    }
   ],
   "source": [
    "frame.corr()"
   ]
  },
  {
   "cell_type": "code",
   "execution_count": 66,
   "metadata": {},
   "outputs": [
    {
     "data": {
      "text/html": [
       "<div>\n",
       "<style scoped>\n",
       "    .dataframe tbody tr th:only-of-type {\n",
       "        vertical-align: middle;\n",
       "    }\n",
       "\n",
       "    .dataframe tbody tr th {\n",
       "        vertical-align: top;\n",
       "    }\n",
       "\n",
       "    .dataframe thead th {\n",
       "        text-align: right;\n",
       "    }\n",
       "</style>\n",
       "<table border=\"1\" class=\"dataframe\">\n",
       "  <thead>\n",
       "    <tr style=\"text-align: right;\">\n",
       "      <th></th>\n",
       "      <th>b</th>\n",
       "      <th>a</th>\n",
       "    </tr>\n",
       "  </thead>\n",
       "  <tbody>\n",
       "    <tr>\n",
       "      <th>b</th>\n",
       "      <td>0.5</td>\n",
       "      <td>-0.5</td>\n",
       "    </tr>\n",
       "    <tr>\n",
       "      <th>a</th>\n",
       "      <td>-0.5</td>\n",
       "      <td>0.5</td>\n",
       "    </tr>\n",
       "  </tbody>\n",
       "</table>\n",
       "</div>"
      ],
      "text/plain": [
       "     b    a\n",
       "b  0.5 -0.5\n",
       "a -0.5  0.5"
      ]
     },
     "execution_count": 66,
     "metadata": {},
     "output_type": "execute_result"
    }
   ],
   "source": [
    "frame.cov()"
   ]
  },
  {
   "cell_type": "code",
   "execution_count": 69,
   "metadata": {},
   "outputs": [
    {
     "data": {
      "text/html": [
       "<div>\n",
       "<style scoped>\n",
       "    .dataframe tbody tr th:only-of-type {\n",
       "        vertical-align: middle;\n",
       "    }\n",
       "\n",
       "    .dataframe tbody tr th {\n",
       "        vertical-align: top;\n",
       "    }\n",
       "\n",
       "    .dataframe thead th {\n",
       "        text-align: right;\n",
       "    }\n",
       "</style>\n",
       "<table border=\"1\" class=\"dataframe\">\n",
       "  <thead>\n",
       "    <tr style=\"text-align: right;\">\n",
       "      <th></th>\n",
       "      <th>b</th>\n",
       "      <th>a</th>\n",
       "    </tr>\n",
       "  </thead>\n",
       "  <tbody>\n",
       "    <tr>\n",
       "      <th>0</th>\n",
       "      <td>1</td>\n",
       "      <td>0</td>\n",
       "    </tr>\n",
       "    <tr>\n",
       "      <th>1</th>\n",
       "      <td>0</td>\n",
       "      <td>1</td>\n",
       "    </tr>\n",
       "  </tbody>\n",
       "</table>\n",
       "</div>"
      ],
      "text/plain": [
       "   b  a\n",
       "0  1  0\n",
       "1  0  1"
      ]
     },
     "execution_count": 69,
     "metadata": {},
     "output_type": "execute_result"
    }
   ],
   "source": [
    "frame"
   ]
  },
  {
   "cell_type": "code",
   "execution_count": 71,
   "metadata": {},
   "outputs": [],
   "source": [
    "import pandas_datareader.data as web"
   ]
  },
  {
   "cell_type": "code",
   "execution_count": 72,
   "metadata": {},
   "outputs": [],
   "source": [
    "all_data = {ticker: web.get_data_yahoo(ticker)\n",
    "                    for ticker in ['AAPL', 'IBM', 'MSFT', 'GOOG']}"
   ]
  },
  {
   "cell_type": "raw",
   "metadata": {},
   "source": [
    "Correlation\n",
    "\n",
    "Correlation is another way to determine how two variables are related. In addition to telling you whether variables are positively or inversely related, correlation also tells you the degree to which the variables tend to move together.\n",
    "\n",
    "As stated above, \n",
    " covariance measures variables that have different units of measurement. \n",
    "Using covariance, you could determine whether units were increasing or decreasing, but it was impossible to measure the degree to which the variables moved together because covariance does not use one standard unit of measurement. To measure the degree to which variables move together, you must use correlation.\n",
    "\n",
    "Correlation standardizes the measure of interdependence between two variables and, consequently, tells you how closely the two variables move. The correlation measurement, called a correlation coefficient, will always take on a value between 1 and – 1:\n",
    "\n",
    "If the correlation coefficient is one, the variables have a perfect positive correlation. This means that if one variable moves a given amount, the second moves proportionally in the same direction. A positive correlation coefficient less than one indicates a less than perfect positive correlation, with the strength of the correlation growing as the number approaches one.\n",
    "If correlation coefficient is zero, no relationship exists between the variables. If one variable moves, you can make no predictions about the movement of the other variable; they are uncorrelated.\n",
    "If correlation coefficient is –1, the variables are perfectly negatively correlated (or inversely correlated) and move in opposition to each other. If one variable increases, the other variable decreases proportionally. A negative correlation coefficient greater than –1 indicates a less than perfect negative correlation, with the strength of the correlation growing as the number approaches –1.\n"
   ]
  },
  {
   "cell_type": "code",
   "execution_count": 75,
   "metadata": {},
   "outputs": [
    {
     "data": {
      "text/plain": [
       "{'AAPL':                   High         Low        Open       Close      Volume  \\\n",
       " Date                                                                     \n",
       " 2014-10-20   99.959999   98.220001   98.320000   99.760002  77517300.0   \n",
       " 2014-10-21  103.019997  101.269997  103.019997  102.470001  94623900.0   \n",
       " 2014-10-22  104.110001  102.599998  102.839996  102.989998  68263100.0   \n",
       " 2014-10-23  105.050003  103.629997  104.080002  104.830002  71074700.0   \n",
       " 2014-10-24  105.489998  104.529999  105.180000  105.220001  47053900.0   \n",
       " 2014-10-27  105.480003  104.699997  104.849998  105.110001  34187700.0   \n",
       " 2014-10-28  106.739998  105.349998  105.400002  106.739998  48060900.0   \n",
       " 2014-10-29  107.370003  106.360001  106.650002  107.339996  52687900.0   \n",
       " 2014-10-30  107.349998  105.900002  106.959999  106.980003  40654800.0   \n",
       " 2014-10-31  108.040001  107.209999  108.010002  108.000000  44639300.0   \n",
       " 2014-11-03  110.300003  108.010002  108.220001  109.400002  52282600.0   \n",
       " 2014-11-04  109.489998  107.720001  109.360001  108.599998  41574400.0   \n",
       " 2014-11-05  109.300003  108.129997  109.099998  108.860001  37435900.0   \n",
       " 2014-11-06  108.790001  107.800003  108.599998  108.699997  34968500.0   \n",
       " 2014-11-07  109.320000  108.550003  108.750000  109.010002  33691500.0   \n",
       " 2014-11-10  109.330002  108.669998  109.019997  108.830002  27195500.0   \n",
       " 2014-11-11  109.750000  108.400002  108.699997  109.699997  27442300.0   \n",
       " 2014-11-12  111.430000  109.370003  109.379997  111.250000  46942400.0   \n",
       " 2014-11-13  113.449997  111.599998  111.800003  112.820000  59522900.0   \n",
       " 2014-11-14  114.190002  111.209999  113.150002  114.180000  44063600.0   \n",
       " 2014-11-17  117.279999  113.300003  114.269997  113.989998  46746700.0   \n",
       " 2014-11-18  115.690002  113.889999  113.940002  115.470001  44224000.0   \n",
       " 2014-11-19  115.739998  113.800003  115.440002  114.669998  41869200.0   \n",
       " 2014-11-20  116.860001  114.849998  114.910004  116.309998  43395500.0   \n",
       " 2014-11-21  117.570000  116.029999  117.510002  116.470001  57179300.0   \n",
       " 2014-11-24  118.769997  116.620003  116.849998  118.629997  47450800.0   \n",
       " 2014-11-25  119.750000  117.449997  119.070000  117.599998  68840400.0   \n",
       " 2014-11-26  119.099998  117.830002  117.940002  119.000000  40768300.0   \n",
       " 2014-11-28  119.400002  118.050003  119.269997  118.930000  24814400.0   \n",
       " 2014-12-01  119.250000  111.269997  118.809998  115.070000  83814000.0   \n",
       " ...                ...         ...         ...         ...         ...   \n",
       " 2019-09-09  216.440002  211.070007  214.839996  214.169998  27309400.0   \n",
       " 2019-09-10  216.779999  211.710007  213.860001  216.699997  31777900.0   \n",
       " 2019-09-11  223.710007  217.729996  218.070007  223.589996  44289600.0   \n",
       " 2019-09-12  226.419998  222.860001  224.800003  223.089996  32226700.0   \n",
       " 2019-09-13  220.789993  217.020004  220.000000  218.750000  39763300.0   \n",
       " 2019-09-16  220.130005  217.559998  217.729996  219.899994  21158100.0   \n",
       " 2019-09-17  220.820007  219.119995  219.960007  220.699997  18318700.0   \n",
       " 2019-09-18  222.850006  219.440002  221.059998  222.770004  25340000.0   \n",
       " 2019-09-19  223.759995  220.369995  222.009995  220.960007  22060600.0   \n",
       " 2019-09-20  222.559998  217.470001  221.380005  217.729996  55413100.0   \n",
       " 2019-09-23  219.839996  217.649994  218.949997  218.720001  19165500.0   \n",
       " 2019-09-24  222.490005  217.190002  221.029999  217.679993  31190800.0   \n",
       " 2019-09-25  221.500000  217.139999  218.550003  221.029999  21903400.0   \n",
       " 2019-09-26  220.940002  218.830002  220.000000  219.889999  18833500.0   \n",
       " 2019-09-27  220.960007  217.279999  220.539993  218.820007  25352000.0   \n",
       " 2019-09-30  224.580002  220.789993  220.899994  223.970001  25977400.0   \n",
       " 2019-10-01  228.220001  224.199997  225.070007  224.589996  34805800.0   \n",
       " 2019-10-02  223.580002  217.929993  223.059998  218.960007  34612300.0   \n",
       " 2019-10-03  220.960007  215.130005  218.429993  220.820007  28606500.0   \n",
       " 2019-10-04  227.490005  223.889999  225.639999  227.009995  34619700.0   \n",
       " 2019-10-07  229.929993  225.839996  226.270004  227.059998  30576500.0   \n",
       " 2019-10-08  228.059998  224.330002  225.820007  224.399994  27955000.0   \n",
       " 2019-10-09  227.789993  225.639999  227.029999  227.029999  18692600.0   \n",
       " 2019-10-10  230.440002  227.300003  227.929993  230.089996  28253400.0   \n",
       " 2019-10-11  237.639999  232.309998  232.949997  236.210007  41698900.0   \n",
       " 2019-10-14  238.130005  234.669998  234.899994  235.869995  24106900.0   \n",
       " 2019-10-15  237.649994  234.880005  236.389999  235.320007  21840000.0   \n",
       " 2019-10-16  235.240005  233.199997  233.369995  234.369995  18475800.0   \n",
       " 2019-10-17  236.149994  233.520004  235.089996  235.279999  16896300.0   \n",
       " 2019-10-18  237.580002  234.289993  234.589996  236.410004  24358400.0   \n",
       " \n",
       "              Adj Close  \n",
       " Date                    \n",
       " 2014-10-20   91.539482  \n",
       " 2014-10-21   94.026176  \n",
       " 2014-10-22   94.503311  \n",
       " 2014-10-23   96.191689  \n",
       " 2014-10-24   96.549545  \n",
       " 2014-10-27   96.448616  \n",
       " 2014-10-28   97.944298  \n",
       " 2014-10-29   98.494850  \n",
       " 2014-10-30   98.164513  \n",
       " 2014-10-31   99.100471  \n",
       " 2014-11-03  100.385109  \n",
       " 2014-11-04   99.651047  \n",
       " 2014-11-05   99.889618  \n",
       " 2014-11-06  100.175293  \n",
       " 2014-11-07  100.460983  \n",
       " 2014-11-10  100.295105  \n",
       " 2014-11-11  101.096870  \n",
       " 2014-11-12  102.525322  \n",
       " 2014-11-13  103.972198  \n",
       " 2014-11-14  105.225540  \n",
       " 2014-11-17  105.050430  \n",
       " 2014-11-18  106.414368  \n",
       " 2014-11-19  105.677094  \n",
       " 2014-11-20  107.188477  \n",
       " 2014-11-21  107.335945  \n",
       " 2014-11-24  109.326523  \n",
       " 2014-11-25  108.377327  \n",
       " 2014-11-26  109.667534  \n",
       " 2014-11-28  109.603027  \n",
       " 2014-12-01  106.045738  \n",
       " ...                ...  \n",
       " 2019-09-09  214.169998  \n",
       " 2019-09-10  216.699997  \n",
       " 2019-09-11  223.589996  \n",
       " 2019-09-12  223.089996  \n",
       " 2019-09-13  218.750000  \n",
       " 2019-09-16  219.899994  \n",
       " 2019-09-17  220.699997  \n",
       " 2019-09-18  222.770004  \n",
       " 2019-09-19  220.960007  \n",
       " 2019-09-20  217.729996  \n",
       " 2019-09-23  218.720001  \n",
       " 2019-09-24  217.679993  \n",
       " 2019-09-25  221.029999  \n",
       " 2019-09-26  219.889999  \n",
       " 2019-09-27  218.820007  \n",
       " 2019-09-30  223.970001  \n",
       " 2019-10-01  224.589996  \n",
       " 2019-10-02  218.960007  \n",
       " 2019-10-03  220.820007  \n",
       " 2019-10-04  227.009995  \n",
       " 2019-10-07  227.059998  \n",
       " 2019-10-08  224.399994  \n",
       " 2019-10-09  227.029999  \n",
       " 2019-10-10  230.089996  \n",
       " 2019-10-11  236.210007  \n",
       " 2019-10-14  235.869995  \n",
       " 2019-10-15  235.320007  \n",
       " 2019-10-16  234.369995  \n",
       " 2019-10-17  235.279999  \n",
       " 2019-10-18  236.410004  \n",
       " \n",
       " [1259 rows x 6 columns],\n",
       " 'IBM':                   High         Low        Open       Close      Volume  \\\n",
       " Date                                                                     \n",
       " 2014-10-20  170.330002  166.690002  166.850006  169.100006  23416500.0   \n",
       " 2014-10-21  166.679993  161.679993  166.399994  163.229996  20949800.0   \n",
       " 2014-10-22  165.410004  161.100006  162.410004  161.789993  11084800.0   \n",
       " 2014-10-23  162.830002  161.539993  162.119995  162.179993   7599400.0   \n",
       " 2014-10-24  162.440002  161.449997  162.080002  162.080002   6652100.0   \n",
       " 2014-10-27  162.910004  161.809998  162.000000  161.869995   4989100.0   \n",
       " 2014-10-28  163.600006  161.800003  162.000000  163.600006   7895300.0   \n",
       " 2014-10-29  164.619995  162.759995  164.330002  163.460007   4739300.0   \n",
       " 2014-10-30  164.619995  163.020004  163.500000  164.350006   3896000.0   \n",
       " 2014-10-31  165.589996  163.619995  165.479996  164.399994   5818000.0   \n",
       " 2014-11-03  164.539993  163.380005  164.250000  164.360001   4688200.0   \n",
       " 2014-11-04  164.360001  162.240005  164.339996  162.649994   4246900.0   \n",
       " 2014-11-05  163.539993  161.559998  163.130005  161.820007   4104700.0   \n",
       " 2014-11-06  161.529999  160.050003  161.279999  161.460007   4067600.0   \n",
       " 2014-11-07  162.210007  160.850006  161.419998  162.070007   3494800.0   \n",
       " 2014-11-10  164.470001  161.610001  161.899994  163.490005   4958200.0   \n",
       " 2014-11-11  163.899994  162.600006  163.699997  163.300003   3534400.0   \n",
       " 2014-11-12  163.000000  161.759995  162.279999  161.919998   3378200.0   \n",
       " 2014-11-13  162.800003  161.800003  162.000000  162.789993   3239700.0   \n",
       " 2014-11-14  164.490005  161.690002  162.100006  164.160004   4978400.0   \n",
       " 2014-11-17  164.970001  163.720001  164.160004  164.160004   4798900.0   \n",
       " 2014-11-18  164.750000  161.889999  164.729996  161.889999   5410100.0   \n",
       " 2014-11-19  162.100006  160.960007  162.050003  161.429993   3802600.0   \n",
       " 2014-11-20  161.500000  159.800003  160.949997  160.639999   4183100.0   \n",
       " 2014-11-21  161.949997  160.750000  161.830002  160.919998   4076900.0   \n",
       " 2014-11-24  163.860001  161.059998  161.539993  162.149994   6619000.0   \n",
       " 2014-11-25  163.500000  161.559998  162.649994  161.759995   4062400.0   \n",
       " 2014-11-26  162.100006  161.009995  161.929993  161.949997   3966000.0   \n",
       " 2014-11-28  163.369995  161.440002  162.750000  162.169998   2405500.0   \n",
       " 2014-12-01  163.320007  161.350006  161.639999  161.539993   4168400.0   \n",
       " ...                ...         ...         ...         ...         ...   \n",
       " 2019-09-09  143.020004  140.460007  140.589996  142.600006   4226600.0   \n",
       " 2019-09-10  145.460007  142.960007  143.000000  145.050003   4979700.0   \n",
       " 2019-09-11  145.119995  142.710007  144.850006  143.600006   3869700.0   \n",
       " 2019-09-12  144.039993  141.880005  144.029999  143.619995   2505400.0   \n",
       " 2019-09-13  144.649994  143.259995  144.320007  143.669998   2206600.0   \n",
       " 2019-09-16  143.639999  142.270004  142.559998  142.479996   1928500.0   \n",
       " 2019-09-17  142.479996  140.660004  142.479996  142.199997   2933200.0   \n",
       " 2019-09-18  142.300003  140.509995  142.050003  142.220001   1983600.0   \n",
       " 2019-09-19  145.029999  142.449997  142.460007  142.970001   3089900.0   \n",
       " 2019-09-20  143.830002  141.820007  143.250000  141.880005   5193400.0   \n",
       " 2019-09-23  142.220001  140.559998  141.190002  142.070007   1817900.0   \n",
       " 2019-09-24  142.889999  141.070007  142.500000  141.679993   3231600.0   \n",
       " 2019-09-25  143.630005  140.860001  141.740005  143.160004   2526700.0   \n",
       " 2019-09-26  143.880005  141.410004  143.169998  143.550003   2309800.0   \n",
       " 2019-09-27  145.089996  142.380005  144.410004  143.240005   2356800.0   \n",
       " 2019-09-30  146.570007  143.729996  143.729996  145.419998   3988400.0   \n",
       " 2019-10-01  147.350006  143.539993  145.589996  143.660004   2960800.0   \n",
       " 2019-10-02  142.270004  140.570007  142.190002  141.690002   3340800.0   \n",
       " 2019-10-03  142.070007  139.179993  141.619995  142.020004   2928800.0   \n",
       " 2019-10-04  143.059998  141.029999  142.059998  142.990005   2413600.0   \n",
       " 2019-10-07  142.699997  141.220001  142.259995  141.279999   2426500.0   \n",
       " 2019-10-08  140.470001  138.250000  140.240005  138.380005   3225400.0   \n",
       " 2019-10-09  140.330002  138.789993  139.770004  139.669998   2620800.0   \n",
       " 2019-10-10  141.779999  139.559998  139.770004  141.130005   2593700.0   \n",
       " 2019-10-11  144.500000  142.610001  142.770004  142.759995   2996800.0   \n",
       " 2019-10-14  142.429993  141.320007  142.309998  142.039993   2309500.0   \n",
       " 2019-10-15  143.720001  141.809998  142.539993  143.000000   3025500.0   \n",
       " 2019-10-16  142.949997  141.389999  142.490005  142.110001   5332600.0   \n",
       " 2019-10-17  136.000000  132.910004  135.000000  134.259995  15759800.0   \n",
       " 2019-10-18  134.490005  132.250000  134.220001  134.089996   7177500.0   \n",
       " \n",
       "              Adj Close  \n",
       " Date                    \n",
       " 2014-10-20  136.936264  \n",
       " 2014-10-21  132.182739  \n",
       " 2014-10-22  131.016617  \n",
       " 2014-10-23  131.332458  \n",
       " 2014-10-24  131.251480  \n",
       " 2014-10-27  131.081451  \n",
       " 2014-10-28  132.482391  \n",
       " 2014-10-29  132.369003  \n",
       " 2014-10-30  133.089706  \n",
       " 2014-10-31  133.130219  \n",
       " 2014-11-03  133.097809  \n",
       " 2014-11-04  131.713089  \n",
       " 2014-11-05  131.040939  \n",
       " 2014-11-06  131.644287  \n",
       " 2014-11-07  132.141617  \n",
       " 2014-11-10  133.299408  \n",
       " 2014-11-11  133.144485  \n",
       " 2014-11-12  132.019318  \n",
       " 2014-11-13  132.728683  \n",
       " 2014-11-14  133.845688  \n",
       " 2014-11-17  133.845688  \n",
       " 2014-11-18  131.994904  \n",
       " 2014-11-19  131.619797  \n",
       " 2014-11-20  130.975677  \n",
       " 2014-11-21  131.204025  \n",
       " 2014-11-24  132.206879  \n",
       " 2014-11-25  131.888885  \n",
       " 2014-11-26  132.043823  \n",
       " 2014-11-28  132.223190  \n",
       " 2014-12-01  131.709473  \n",
       " ...                ...  \n",
       " 2019-09-09  142.600006  \n",
       " 2019-09-10  145.050003  \n",
       " 2019-09-11  143.600006  \n",
       " 2019-09-12  143.619995  \n",
       " 2019-09-13  143.669998  \n",
       " 2019-09-16  142.479996  \n",
       " 2019-09-17  142.199997  \n",
       " 2019-09-18  142.220001  \n",
       " 2019-09-19  142.970001  \n",
       " 2019-09-20  141.880005  \n",
       " 2019-09-23  142.070007  \n",
       " 2019-09-24  141.679993  \n",
       " 2019-09-25  143.160004  \n",
       " 2019-09-26  143.550003  \n",
       " 2019-09-27  143.240005  \n",
       " 2019-09-30  145.419998  \n",
       " 2019-10-01  143.660004  \n",
       " 2019-10-02  141.690002  \n",
       " 2019-10-03  142.020004  \n",
       " 2019-10-04  142.990005  \n",
       " 2019-10-07  141.279999  \n",
       " 2019-10-08  138.380005  \n",
       " 2019-10-09  139.669998  \n",
       " 2019-10-10  141.130005  \n",
       " 2019-10-11  142.759995  \n",
       " 2019-10-14  142.039993  \n",
       " 2019-10-15  143.000000  \n",
       " 2019-10-16  142.110001  \n",
       " 2019-10-17  134.259995  \n",
       " 2019-10-18  134.089996  \n",
       " \n",
       " [1259 rows x 6 columns],\n",
       " 'MSFT':                   High         Low        Open       Close      Volume  \\\n",
       " Date                                                                     \n",
       " 2014-10-20   44.139999   42.810001   43.060001   44.080002  34527900.0   \n",
       " 2014-10-21   44.980000   44.189999   44.360001   44.880001  36433800.0   \n",
       " 2014-10-22   45.070000   44.230000   45.000000   44.380001  33570900.0   \n",
       " 2014-10-23   45.450001   44.529999   44.619999   45.020000  45451900.0   \n",
       " 2014-10-24   46.900002   45.180000   46.830002   46.130001  61076700.0   \n",
       " 2014-10-27   46.099998   45.709999   45.709999   45.910000  30371300.0   \n",
       " 2014-10-28   46.500000   45.770000   45.860001   46.490002  29049800.0   \n",
       " 2014-10-29   46.700001   46.340000   46.439999   46.619999  30276100.0   \n",
       " 2014-10-30   46.320000   45.770000   46.320000   46.049999  30073900.0   \n",
       " 2014-10-31   46.970001   46.480000   46.939999   46.950001  35849700.0   \n",
       " 2014-11-03   47.459999   46.730000   46.889999   47.439999  23130400.0   \n",
       " 2014-11-04   47.730000   47.250000   47.299999   47.570000  21530800.0   \n",
       " 2014-11-05   47.900002   47.259998   47.799999   47.860001  22449600.0   \n",
       " 2014-11-06   48.860001   47.790001   47.860001   48.700001  33037800.0   \n",
       " 2014-11-07   48.919998   48.290001   48.919998   48.680000  28000600.0   \n",
       " 2014-11-10   49.150002   48.549999   48.650002   48.889999  36370100.0   \n",
       " 2014-11-11   48.950001   48.650002   48.849998   48.869999  23445200.0   \n",
       " 2014-11-12   48.919998   48.520000   48.560001   48.779999  22722100.0   \n",
       " 2014-11-13   49.650002   48.709999   48.810001   49.610001  26210400.0   \n",
       " 2014-11-14   50.049999   49.389999   49.740002   49.580002  29081700.0   \n",
       " 2014-11-17   49.709999   49.139999   49.410000   49.459999  30318600.0   \n",
       " 2014-11-18   49.330002   48.700001   49.130001   48.740002  23995500.0   \n",
       " 2014-11-19   48.750000   47.930000   48.660000   48.220001  26177500.0   \n",
       " 2014-11-20   48.700001   47.869999   48.000000   48.700001  21510600.0   \n",
       " 2014-11-21   49.049999   47.570000   49.020000   47.980000  42884800.0   \n",
       " 2014-11-24   48.000000   47.389999   47.990002   47.590000  35434200.0   \n",
       " 2014-11-25   47.970001   47.450001   47.660000   47.470001  28008000.0   \n",
       " 2014-11-26   47.990002   47.279999   47.490002   47.750000  27163600.0   \n",
       " 2014-11-28   48.200001   47.610001   47.950001   47.810001  21534400.0   \n",
       " 2014-12-01   48.779999   47.709999   47.880001   48.619999  31191600.0   \n",
       " ...                ...         ...         ...         ...         ...   \n",
       " 2019-09-09  139.750000  136.460007  139.589996  137.520004  25773900.0   \n",
       " 2019-09-10  136.889999  134.509995  136.800003  136.080002  28903400.0   \n",
       " 2019-09-11  136.270004  135.089996  135.910004  136.119995  24726100.0   \n",
       " 2019-09-12  138.419998  136.869995  137.850006  137.520004  27010000.0   \n",
       " 2019-09-13  138.059998  136.570007  137.779999  137.320007  23363100.0   \n",
       " 2019-09-16  136.699997  135.660004  135.830002  136.330002  16731400.0   \n",
       " 2019-09-17  137.520004  136.429993  136.960007  137.389999  17814200.0   \n",
       " 2019-09-18  138.669998  136.529999  137.360001  138.520004  23982100.0   \n",
       " 2019-09-19  142.369995  140.070007  140.300003  141.070007  35772100.0   \n",
       " 2019-09-20  141.649994  138.250000  141.009995  139.440002  39167300.0   \n",
       " 2019-09-23  139.630005  138.440002  139.229996  139.139999  17139300.0   \n",
       " 2019-09-24  140.690002  136.880005  140.360001  137.380005  29773200.0   \n",
       " 2019-09-25  139.960007  136.029999  137.500000  139.360001  21382000.0   \n",
       " 2019-09-26  140.179993  138.440002  139.440002  139.539993  17456600.0   \n",
       " 2019-09-27  140.360001  136.649994  140.149994  137.729996  22477700.0   \n",
       " 2019-09-30  139.220001  137.779999  138.050003  139.029999  17280900.0   \n",
       " 2019-10-01  140.250000  137.000000  139.660004  137.070007  21466600.0   \n",
       " 2019-10-02  136.369995  133.580002  136.250000  134.649994  30521700.0   \n",
       " 2019-10-03  136.750000  133.220001  134.949997  136.279999  24132900.0   \n",
       " 2019-10-04  138.250000  136.419998  136.750000  138.119995  22897700.0   \n",
       " 2019-10-07  138.179993  137.020004  137.139999  137.119995  15303700.0   \n",
       " 2019-10-08  137.759995  135.619995  137.080002  135.669998  25550500.0   \n",
       " 2019-10-09  138.699997  136.970001  137.460007  138.240005  19749900.0   \n",
       " 2019-10-10  139.669998  138.250000  138.490005  139.100006  17654600.0   \n",
       " 2019-10-11  141.029999  139.500000  140.119995  139.679993  25446000.0   \n",
       " 2019-10-14  140.289993  139.520004  139.690002  139.550003  13304300.0   \n",
       " 2019-10-15  141.789993  139.809998  140.059998  141.570007  19695700.0   \n",
       " 2019-10-16  140.990005  139.529999  140.789993  140.410004  20751600.0   \n",
       " 2019-10-17  141.419998  139.020004  140.949997  139.690002  21460600.0   \n",
       " 2019-10-18  140.000000  136.559998  139.759995  137.410004  32273500.0   \n",
       " \n",
       "              Adj Close  \n",
       " Date                    \n",
       " 2014-10-20   39.458977  \n",
       " 2014-10-21   40.175110  \n",
       " 2014-10-22   39.727531  \n",
       " 2014-10-23   40.300430  \n",
       " 2014-10-24   41.294075  \n",
       " 2014-10-27   41.097130  \n",
       " 2014-10-28   41.616329  \n",
       " 2014-10-29   41.732697  \n",
       " 2014-10-30   41.222458  \n",
       " 2014-10-31   42.028111  \n",
       " 2014-11-03   42.466732  \n",
       " 2014-11-04   42.583115  \n",
       " 2014-11-05   42.842709  \n",
       " 2014-11-06   43.594646  \n",
       " 2014-11-07   43.576752  \n",
       " 2014-11-10   43.764729  \n",
       " 2014-11-11   43.746830  \n",
       " 2014-11-12   43.666264  \n",
       " 2014-11-13   44.409256  \n",
       " 2014-11-14   44.382393  \n",
       " 2014-11-17   44.274975  \n",
       " 2014-11-18   43.905632  \n",
       " 2014-11-19   43.437222  \n",
       " 2014-11-20   43.869606  \n",
       " 2014-11-21   43.221031  \n",
       " 2014-11-24   42.869705  \n",
       " 2014-11-25   42.761612  \n",
       " 2014-11-26   43.013840  \n",
       " 2014-11-28   43.067890  \n",
       " 2014-12-01   43.797543  \n",
       " ...                ...  \n",
       " 2019-09-09  137.520004  \n",
       " 2019-09-10  136.080002  \n",
       " 2019-09-11  136.119995  \n",
       " 2019-09-12  137.520004  \n",
       " 2019-09-13  137.320007  \n",
       " 2019-09-16  136.330002  \n",
       " 2019-09-17  137.389999  \n",
       " 2019-09-18  138.520004  \n",
       " 2019-09-19  141.070007  \n",
       " 2019-09-20  139.440002  \n",
       " 2019-09-23  139.139999  \n",
       " 2019-09-24  137.380005  \n",
       " 2019-09-25  139.360001  \n",
       " 2019-09-26  139.539993  \n",
       " 2019-09-27  137.729996  \n",
       " 2019-09-30  139.029999  \n",
       " 2019-10-01  137.070007  \n",
       " 2019-10-02  134.649994  \n",
       " 2019-10-03  136.279999  \n",
       " 2019-10-04  138.119995  \n",
       " 2019-10-07  137.119995  \n",
       " 2019-10-08  135.669998  \n",
       " 2019-10-09  138.240005  \n",
       " 2019-10-10  139.100006  \n",
       " 2019-10-11  139.679993  \n",
       " 2019-10-14  139.550003  \n",
       " 2019-10-15  141.570007  \n",
       " 2019-10-16  140.410004  \n",
       " 2019-10-17  139.690002  \n",
       " 2019-10-18  137.410004  \n",
       " \n",
       " [1259 rows x 6 columns],\n",
       " 'GOOG':                    High          Low         Open        Close     Volume  \\\n",
       " Date                                                                        \n",
       " 2014-10-20   520.331421   506.708832   508.055145   519.413940  2607500.0   \n",
       " 2014-10-21   525.347656   517.688660   523.752014   525.098328  2336200.0   \n",
       " 2014-10-22   538.322021   527.352173   528.439148   531.251465  2919200.0   \n",
       " 2014-10-23   545.721741   534.382874   537.843323   542.490601  2348800.0   \n",
       " 2014-10-24   543.388123   534.322998   542.869568   538.302063  1973100.0   \n",
       " 2014-10-27   542.919434   535.559631   535.559631   539.289368  1185300.0   \n",
       " 2014-10-28   547.476929   540.137024   541.513306   547.397095  1270900.0   \n",
       " 2014-10-29   552.672607   545.482361   548.494080   547.825928  1770500.0   \n",
       " 2014-10-30   551.286438   542.021851   547.446960   548.803284  1455600.0   \n",
       " 2014-10-31   558.037903   553.231079   557.818481   557.549255  2035000.0   \n",
       " 2014-11-03   556.372498   551.715271   553.979065   553.699829  1382200.0   \n",
       " 2014-11-04   553.979065   547.796021   551.485901   552.592834  1244200.0   \n",
       " 2014-11-05   555.275513   542.560425   555.275513   544.425293  2032200.0   \n",
       " 2014-11-06   545.387634   539.488831   544.006409   540.555908  1333200.0   \n",
       " 2014-11-07   544.714478   537.195129   544.714478   539.528748  1633700.0   \n",
       " 2014-11-10   548.085205   539.538696   539.977478   545.990967  1134600.0   \n",
       " 2014-11-11   550.428772   544.804260   546.988220   548.783325   965500.0   \n",
       " 2014-11-12   548.952820   543.677307   548.883057   545.811462  1129600.0   \n",
       " 2014-11-13   548.294678   541.991943   548.294678   543.886780  1339300.0   \n",
       " 2014-11-14   545.183228   540.665588   545.183228   542.909424  1289500.0   \n",
       " 2014-11-17   542.301086   532.598755   542.091675   535.041016  1726000.0   \n",
       " 2014-11-18   540.456177   532.707458   536.028320   533.565125  1962600.0   \n",
       " 2014-11-19   536.766296   528.628662   533.535156   535.519714  1392200.0   \n",
       " 2014-11-20   533.644897   529.625916   529.795471   533.365662  1563300.0   \n",
       " 2014-11-21   540.655640   535.090881   540.127075   536.028320  2224200.0   \n",
       " 2014-11-24   541.214111   534.153503   536.177917   537.793518  1706300.0   \n",
       " 2014-11-25   542.490601   537.127319   537.524231   539.598511  1789900.0   \n",
       " 2014-11-26   540.067261   535.571594   539.399109   538.890503  1522900.0   \n",
       " 2014-11-28   540.515991   535.130798   539.139771   540.346497  1148300.0   \n",
       " 2014-12-01   539.927612   530.403748   537.424500   532.338440  2115300.0   \n",
       " ...                 ...          ...          ...          ...        ...   \n",
       " 2019-09-09  1220.000000  1192.619995  1204.000000  1204.410034  1471900.0   \n",
       " 2019-09-10  1210.000000  1194.579956  1195.150024  1206.000000  1260100.0   \n",
       " 2019-09-11  1222.599976  1202.199951  1203.410034  1220.170044  1307000.0   \n",
       " 2019-09-12  1241.859985  1223.020020  1224.300049  1234.250000  1725900.0   \n",
       " 2019-09-13  1240.880005  1227.010010  1231.349976  1239.560059  1301400.0   \n",
       " 2019-09-16  1239.560059  1225.609985  1229.520020  1231.300049  1053300.0   \n",
       " 2019-09-17  1235.000000  1223.689941  1230.400024  1229.150024   955100.0   \n",
       " 2019-09-18  1235.609985  1216.530029  1227.510010  1232.410034  1135100.0   \n",
       " 2019-09-19  1244.439941  1232.020020  1232.060059  1238.709961   996000.0   \n",
       " 2019-09-20  1243.319946  1223.079956  1233.119995  1229.930054  2270000.0   \n",
       " 2019-09-23  1239.089966  1224.170044  1226.000000  1234.030029  1062400.0   \n",
       " 2019-09-24  1246.739990  1210.680054  1240.000000  1218.760010  1583200.0   \n",
       " 2019-09-25  1248.300049  1210.089966  1215.819946  1246.520020  1453000.0   \n",
       " 2019-09-26  1245.000000  1232.267944  1241.959961  1241.390015  1538000.0   \n",
       " 2019-09-27  1244.020020  1214.449951  1243.010010  1225.089966  1353900.0   \n",
       " 2019-09-30  1226.000000  1212.300049  1220.969971  1219.000000  1404100.0   \n",
       " 2019-10-01  1231.229980  1203.579956  1219.000000  1205.099976  1273500.0   \n",
       " 2019-10-02  1196.979980  1171.290039  1196.979980  1176.630005  1615100.0   \n",
       " 2019-10-03  1189.060059  1162.430054  1180.000000  1187.829956  1621200.0   \n",
       " 2019-10-04  1211.439941  1189.170044  1191.890015  1209.000000  1162400.0   \n",
       " 2019-10-07  1218.203979  1203.750000  1204.400024  1207.680054   842900.0   \n",
       " 2019-10-08  1206.079956  1189.010010  1197.589966  1189.130005  1039300.0   \n",
       " 2019-10-09  1208.349976  1197.630005  1199.349976  1202.310059   867700.0   \n",
       " 2019-10-10  1215.000000  1197.339966  1198.579956  1208.670044   846600.0   \n",
       " 2019-10-11  1228.390015  1213.739990  1222.209961  1215.449951  1272700.0   \n",
       " 2019-10-14  1226.329956  1211.760010  1212.339966  1217.140015   867500.0   \n",
       " 2019-10-15  1247.329956  1220.400024  1220.400024  1243.010010  1381700.0   \n",
       " 2019-10-16  1254.739990  1238.449951  1241.170044  1243.640015  1094600.0   \n",
       " 2019-10-17  1263.324951  1249.939941  1250.930054  1253.069946   952400.0   \n",
       " 2019-10-18  1258.890015  1241.079956  1253.459961  1245.489990  1352800.0   \n",
       " \n",
       "               Adj Close  \n",
       " Date                     \n",
       " 2014-10-20   519.413940  \n",
       " 2014-10-21   525.098328  \n",
       " 2014-10-22   531.251465  \n",
       " 2014-10-23   542.490601  \n",
       " 2014-10-24   538.302063  \n",
       " 2014-10-27   539.289368  \n",
       " 2014-10-28   547.397095  \n",
       " 2014-10-29   547.825928  \n",
       " 2014-10-30   548.803284  \n",
       " 2014-10-31   557.549255  \n",
       " 2014-11-03   553.699829  \n",
       " 2014-11-04   552.592834  \n",
       " 2014-11-05   544.425293  \n",
       " 2014-11-06   540.555908  \n",
       " 2014-11-07   539.528748  \n",
       " 2014-11-10   545.990967  \n",
       " 2014-11-11   548.783325  \n",
       " 2014-11-12   545.811462  \n",
       " 2014-11-13   543.886780  \n",
       " 2014-11-14   542.909424  \n",
       " 2014-11-17   535.041016  \n",
       " 2014-11-18   533.565125  \n",
       " 2014-11-19   535.519714  \n",
       " 2014-11-20   533.365662  \n",
       " 2014-11-21   536.028320  \n",
       " 2014-11-24   537.793518  \n",
       " 2014-11-25   539.598511  \n",
       " 2014-11-26   538.890503  \n",
       " 2014-11-28   540.346497  \n",
       " 2014-12-01   532.338440  \n",
       " ...                 ...  \n",
       " 2019-09-09  1204.410034  \n",
       " 2019-09-10  1206.000000  \n",
       " 2019-09-11  1220.170044  \n",
       " 2019-09-12  1234.250000  \n",
       " 2019-09-13  1239.560059  \n",
       " 2019-09-16  1231.300049  \n",
       " 2019-09-17  1229.150024  \n",
       " 2019-09-18  1232.410034  \n",
       " 2019-09-19  1238.709961  \n",
       " 2019-09-20  1229.930054  \n",
       " 2019-09-23  1234.030029  \n",
       " 2019-09-24  1218.760010  \n",
       " 2019-09-25  1246.520020  \n",
       " 2019-09-26  1241.390015  \n",
       " 2019-09-27  1225.089966  \n",
       " 2019-09-30  1219.000000  \n",
       " 2019-10-01  1205.099976  \n",
       " 2019-10-02  1176.630005  \n",
       " 2019-10-03  1187.829956  \n",
       " 2019-10-04  1209.000000  \n",
       " 2019-10-07  1207.680054  \n",
       " 2019-10-08  1189.130005  \n",
       " 2019-10-09  1202.310059  \n",
       " 2019-10-10  1208.670044  \n",
       " 2019-10-11  1215.449951  \n",
       " 2019-10-14  1217.140015  \n",
       " 2019-10-15  1243.010010  \n",
       " 2019-10-16  1243.640015  \n",
       " 2019-10-17  1253.069946  \n",
       " 2019-10-18  1245.489990  \n",
       " \n",
       " [1259 rows x 6 columns]}"
      ]
     },
     "execution_count": 75,
     "metadata": {},
     "output_type": "execute_result"
    }
   ],
   "source": [
    "all_data"
   ]
  },
  {
   "cell_type": "code",
   "execution_count": 76,
   "metadata": {},
   "outputs": [],
   "source": [
    "price = pd.DataFrame({ticker: data['Adj Close'] for ticker, data in all_data.items()})"
   ]
  },
  {
   "cell_type": "code",
   "execution_count": 77,
   "metadata": {},
   "outputs": [
    {
     "data": {
      "text/html": [
       "<div>\n",
       "<style scoped>\n",
       "    .dataframe tbody tr th:only-of-type {\n",
       "        vertical-align: middle;\n",
       "    }\n",
       "\n",
       "    .dataframe tbody tr th {\n",
       "        vertical-align: top;\n",
       "    }\n",
       "\n",
       "    .dataframe thead th {\n",
       "        text-align: right;\n",
       "    }\n",
       "</style>\n",
       "<table border=\"1\" class=\"dataframe\">\n",
       "  <thead>\n",
       "    <tr style=\"text-align: right;\">\n",
       "      <th></th>\n",
       "      <th>AAPL</th>\n",
       "      <th>IBM</th>\n",
       "      <th>MSFT</th>\n",
       "      <th>GOOG</th>\n",
       "    </tr>\n",
       "    <tr>\n",
       "      <th>Date</th>\n",
       "      <th></th>\n",
       "      <th></th>\n",
       "      <th></th>\n",
       "      <th></th>\n",
       "    </tr>\n",
       "  </thead>\n",
       "  <tbody>\n",
       "    <tr>\n",
       "      <th>2014-10-20</th>\n",
       "      <td>91.539482</td>\n",
       "      <td>136.936264</td>\n",
       "      <td>39.458977</td>\n",
       "      <td>519.413940</td>\n",
       "    </tr>\n",
       "    <tr>\n",
       "      <th>2014-10-21</th>\n",
       "      <td>94.026176</td>\n",
       "      <td>132.182739</td>\n",
       "      <td>40.175110</td>\n",
       "      <td>525.098328</td>\n",
       "    </tr>\n",
       "    <tr>\n",
       "      <th>2014-10-22</th>\n",
       "      <td>94.503311</td>\n",
       "      <td>131.016617</td>\n",
       "      <td>39.727531</td>\n",
       "      <td>531.251465</td>\n",
       "    </tr>\n",
       "    <tr>\n",
       "      <th>2014-10-23</th>\n",
       "      <td>96.191689</td>\n",
       "      <td>131.332458</td>\n",
       "      <td>40.300430</td>\n",
       "      <td>542.490601</td>\n",
       "    </tr>\n",
       "    <tr>\n",
       "      <th>2014-10-24</th>\n",
       "      <td>96.549545</td>\n",
       "      <td>131.251480</td>\n",
       "      <td>41.294075</td>\n",
       "      <td>538.302063</td>\n",
       "    </tr>\n",
       "    <tr>\n",
       "      <th>2014-10-27</th>\n",
       "      <td>96.448616</td>\n",
       "      <td>131.081451</td>\n",
       "      <td>41.097130</td>\n",
       "      <td>539.289368</td>\n",
       "    </tr>\n",
       "    <tr>\n",
       "      <th>2014-10-28</th>\n",
       "      <td>97.944298</td>\n",
       "      <td>132.482391</td>\n",
       "      <td>41.616329</td>\n",
       "      <td>547.397095</td>\n",
       "    </tr>\n",
       "    <tr>\n",
       "      <th>2014-10-29</th>\n",
       "      <td>98.494850</td>\n",
       "      <td>132.369003</td>\n",
       "      <td>41.732697</td>\n",
       "      <td>547.825928</td>\n",
       "    </tr>\n",
       "    <tr>\n",
       "      <th>2014-10-30</th>\n",
       "      <td>98.164513</td>\n",
       "      <td>133.089706</td>\n",
       "      <td>41.222458</td>\n",
       "      <td>548.803284</td>\n",
       "    </tr>\n",
       "    <tr>\n",
       "      <th>2014-10-31</th>\n",
       "      <td>99.100471</td>\n",
       "      <td>133.130219</td>\n",
       "      <td>42.028111</td>\n",
       "      <td>557.549255</td>\n",
       "    </tr>\n",
       "    <tr>\n",
       "      <th>2014-11-03</th>\n",
       "      <td>100.385109</td>\n",
       "      <td>133.097809</td>\n",
       "      <td>42.466732</td>\n",
       "      <td>553.699829</td>\n",
       "    </tr>\n",
       "    <tr>\n",
       "      <th>2014-11-04</th>\n",
       "      <td>99.651047</td>\n",
       "      <td>131.713089</td>\n",
       "      <td>42.583115</td>\n",
       "      <td>552.592834</td>\n",
       "    </tr>\n",
       "    <tr>\n",
       "      <th>2014-11-05</th>\n",
       "      <td>99.889618</td>\n",
       "      <td>131.040939</td>\n",
       "      <td>42.842709</td>\n",
       "      <td>544.425293</td>\n",
       "    </tr>\n",
       "    <tr>\n",
       "      <th>2014-11-06</th>\n",
       "      <td>100.175293</td>\n",
       "      <td>131.644287</td>\n",
       "      <td>43.594646</td>\n",
       "      <td>540.555908</td>\n",
       "    </tr>\n",
       "    <tr>\n",
       "      <th>2014-11-07</th>\n",
       "      <td>100.460983</td>\n",
       "      <td>132.141617</td>\n",
       "      <td>43.576752</td>\n",
       "      <td>539.528748</td>\n",
       "    </tr>\n",
       "    <tr>\n",
       "      <th>2014-11-10</th>\n",
       "      <td>100.295105</td>\n",
       "      <td>133.299408</td>\n",
       "      <td>43.764729</td>\n",
       "      <td>545.990967</td>\n",
       "    </tr>\n",
       "    <tr>\n",
       "      <th>2014-11-11</th>\n",
       "      <td>101.096870</td>\n",
       "      <td>133.144485</td>\n",
       "      <td>43.746830</td>\n",
       "      <td>548.783325</td>\n",
       "    </tr>\n",
       "    <tr>\n",
       "      <th>2014-11-12</th>\n",
       "      <td>102.525322</td>\n",
       "      <td>132.019318</td>\n",
       "      <td>43.666264</td>\n",
       "      <td>545.811462</td>\n",
       "    </tr>\n",
       "    <tr>\n",
       "      <th>2014-11-13</th>\n",
       "      <td>103.972198</td>\n",
       "      <td>132.728683</td>\n",
       "      <td>44.409256</td>\n",
       "      <td>543.886780</td>\n",
       "    </tr>\n",
       "    <tr>\n",
       "      <th>2014-11-14</th>\n",
       "      <td>105.225540</td>\n",
       "      <td>133.845688</td>\n",
       "      <td>44.382393</td>\n",
       "      <td>542.909424</td>\n",
       "    </tr>\n",
       "    <tr>\n",
       "      <th>2014-11-17</th>\n",
       "      <td>105.050430</td>\n",
       "      <td>133.845688</td>\n",
       "      <td>44.274975</td>\n",
       "      <td>535.041016</td>\n",
       "    </tr>\n",
       "    <tr>\n",
       "      <th>2014-11-18</th>\n",
       "      <td>106.414368</td>\n",
       "      <td>131.994904</td>\n",
       "      <td>43.905632</td>\n",
       "      <td>533.565125</td>\n",
       "    </tr>\n",
       "    <tr>\n",
       "      <th>2014-11-19</th>\n",
       "      <td>105.677094</td>\n",
       "      <td>131.619797</td>\n",
       "      <td>43.437222</td>\n",
       "      <td>535.519714</td>\n",
       "    </tr>\n",
       "    <tr>\n",
       "      <th>2014-11-20</th>\n",
       "      <td>107.188477</td>\n",
       "      <td>130.975677</td>\n",
       "      <td>43.869606</td>\n",
       "      <td>533.365662</td>\n",
       "    </tr>\n",
       "    <tr>\n",
       "      <th>2014-11-21</th>\n",
       "      <td>107.335945</td>\n",
       "      <td>131.204025</td>\n",
       "      <td>43.221031</td>\n",
       "      <td>536.028320</td>\n",
       "    </tr>\n",
       "    <tr>\n",
       "      <th>2014-11-24</th>\n",
       "      <td>109.326523</td>\n",
       "      <td>132.206879</td>\n",
       "      <td>42.869705</td>\n",
       "      <td>537.793518</td>\n",
       "    </tr>\n",
       "    <tr>\n",
       "      <th>2014-11-25</th>\n",
       "      <td>108.377327</td>\n",
       "      <td>131.888885</td>\n",
       "      <td>42.761612</td>\n",
       "      <td>539.598511</td>\n",
       "    </tr>\n",
       "    <tr>\n",
       "      <th>2014-11-26</th>\n",
       "      <td>109.667534</td>\n",
       "      <td>132.043823</td>\n",
       "      <td>43.013840</td>\n",
       "      <td>538.890503</td>\n",
       "    </tr>\n",
       "    <tr>\n",
       "      <th>2014-11-28</th>\n",
       "      <td>109.603027</td>\n",
       "      <td>132.223190</td>\n",
       "      <td>43.067890</td>\n",
       "      <td>540.346497</td>\n",
       "    </tr>\n",
       "    <tr>\n",
       "      <th>2014-12-01</th>\n",
       "      <td>106.045738</td>\n",
       "      <td>131.709473</td>\n",
       "      <td>43.797543</td>\n",
       "      <td>532.338440</td>\n",
       "    </tr>\n",
       "    <tr>\n",
       "      <th>...</th>\n",
       "      <td>...</td>\n",
       "      <td>...</td>\n",
       "      <td>...</td>\n",
       "      <td>...</td>\n",
       "    </tr>\n",
       "    <tr>\n",
       "      <th>2019-09-09</th>\n",
       "      <td>214.169998</td>\n",
       "      <td>142.600006</td>\n",
       "      <td>137.520004</td>\n",
       "      <td>1204.410034</td>\n",
       "    </tr>\n",
       "    <tr>\n",
       "      <th>2019-09-10</th>\n",
       "      <td>216.699997</td>\n",
       "      <td>145.050003</td>\n",
       "      <td>136.080002</td>\n",
       "      <td>1206.000000</td>\n",
       "    </tr>\n",
       "    <tr>\n",
       "      <th>2019-09-11</th>\n",
       "      <td>223.589996</td>\n",
       "      <td>143.600006</td>\n",
       "      <td>136.119995</td>\n",
       "      <td>1220.170044</td>\n",
       "    </tr>\n",
       "    <tr>\n",
       "      <th>2019-09-12</th>\n",
       "      <td>223.089996</td>\n",
       "      <td>143.619995</td>\n",
       "      <td>137.520004</td>\n",
       "      <td>1234.250000</td>\n",
       "    </tr>\n",
       "    <tr>\n",
       "      <th>2019-09-13</th>\n",
       "      <td>218.750000</td>\n",
       "      <td>143.669998</td>\n",
       "      <td>137.320007</td>\n",
       "      <td>1239.560059</td>\n",
       "    </tr>\n",
       "    <tr>\n",
       "      <th>2019-09-16</th>\n",
       "      <td>219.899994</td>\n",
       "      <td>142.479996</td>\n",
       "      <td>136.330002</td>\n",
       "      <td>1231.300049</td>\n",
       "    </tr>\n",
       "    <tr>\n",
       "      <th>2019-09-17</th>\n",
       "      <td>220.699997</td>\n",
       "      <td>142.199997</td>\n",
       "      <td>137.389999</td>\n",
       "      <td>1229.150024</td>\n",
       "    </tr>\n",
       "    <tr>\n",
       "      <th>2019-09-18</th>\n",
       "      <td>222.770004</td>\n",
       "      <td>142.220001</td>\n",
       "      <td>138.520004</td>\n",
       "      <td>1232.410034</td>\n",
       "    </tr>\n",
       "    <tr>\n",
       "      <th>2019-09-19</th>\n",
       "      <td>220.960007</td>\n",
       "      <td>142.970001</td>\n",
       "      <td>141.070007</td>\n",
       "      <td>1238.709961</td>\n",
       "    </tr>\n",
       "    <tr>\n",
       "      <th>2019-09-20</th>\n",
       "      <td>217.729996</td>\n",
       "      <td>141.880005</td>\n",
       "      <td>139.440002</td>\n",
       "      <td>1229.930054</td>\n",
       "    </tr>\n",
       "    <tr>\n",
       "      <th>2019-09-23</th>\n",
       "      <td>218.720001</td>\n",
       "      <td>142.070007</td>\n",
       "      <td>139.139999</td>\n",
       "      <td>1234.030029</td>\n",
       "    </tr>\n",
       "    <tr>\n",
       "      <th>2019-09-24</th>\n",
       "      <td>217.679993</td>\n",
       "      <td>141.679993</td>\n",
       "      <td>137.380005</td>\n",
       "      <td>1218.760010</td>\n",
       "    </tr>\n",
       "    <tr>\n",
       "      <th>2019-09-25</th>\n",
       "      <td>221.029999</td>\n",
       "      <td>143.160004</td>\n",
       "      <td>139.360001</td>\n",
       "      <td>1246.520020</td>\n",
       "    </tr>\n",
       "    <tr>\n",
       "      <th>2019-09-26</th>\n",
       "      <td>219.889999</td>\n",
       "      <td>143.550003</td>\n",
       "      <td>139.539993</td>\n",
       "      <td>1241.390015</td>\n",
       "    </tr>\n",
       "    <tr>\n",
       "      <th>2019-09-27</th>\n",
       "      <td>218.820007</td>\n",
       "      <td>143.240005</td>\n",
       "      <td>137.729996</td>\n",
       "      <td>1225.089966</td>\n",
       "    </tr>\n",
       "    <tr>\n",
       "      <th>2019-09-30</th>\n",
       "      <td>223.970001</td>\n",
       "      <td>145.419998</td>\n",
       "      <td>139.029999</td>\n",
       "      <td>1219.000000</td>\n",
       "    </tr>\n",
       "    <tr>\n",
       "      <th>2019-10-01</th>\n",
       "      <td>224.589996</td>\n",
       "      <td>143.660004</td>\n",
       "      <td>137.070007</td>\n",
       "      <td>1205.099976</td>\n",
       "    </tr>\n",
       "    <tr>\n",
       "      <th>2019-10-02</th>\n",
       "      <td>218.960007</td>\n",
       "      <td>141.690002</td>\n",
       "      <td>134.649994</td>\n",
       "      <td>1176.630005</td>\n",
       "    </tr>\n",
       "    <tr>\n",
       "      <th>2019-10-03</th>\n",
       "      <td>220.820007</td>\n",
       "      <td>142.020004</td>\n",
       "      <td>136.279999</td>\n",
       "      <td>1187.829956</td>\n",
       "    </tr>\n",
       "    <tr>\n",
       "      <th>2019-10-04</th>\n",
       "      <td>227.009995</td>\n",
       "      <td>142.990005</td>\n",
       "      <td>138.119995</td>\n",
       "      <td>1209.000000</td>\n",
       "    </tr>\n",
       "    <tr>\n",
       "      <th>2019-10-07</th>\n",
       "      <td>227.059998</td>\n",
       "      <td>141.279999</td>\n",
       "      <td>137.119995</td>\n",
       "      <td>1207.680054</td>\n",
       "    </tr>\n",
       "    <tr>\n",
       "      <th>2019-10-08</th>\n",
       "      <td>224.399994</td>\n",
       "      <td>138.380005</td>\n",
       "      <td>135.669998</td>\n",
       "      <td>1189.130005</td>\n",
       "    </tr>\n",
       "    <tr>\n",
       "      <th>2019-10-09</th>\n",
       "      <td>227.029999</td>\n",
       "      <td>139.669998</td>\n",
       "      <td>138.240005</td>\n",
       "      <td>1202.310059</td>\n",
       "    </tr>\n",
       "    <tr>\n",
       "      <th>2019-10-10</th>\n",
       "      <td>230.089996</td>\n",
       "      <td>141.130005</td>\n",
       "      <td>139.100006</td>\n",
       "      <td>1208.670044</td>\n",
       "    </tr>\n",
       "    <tr>\n",
       "      <th>2019-10-11</th>\n",
       "      <td>236.210007</td>\n",
       "      <td>142.759995</td>\n",
       "      <td>139.679993</td>\n",
       "      <td>1215.449951</td>\n",
       "    </tr>\n",
       "    <tr>\n",
       "      <th>2019-10-14</th>\n",
       "      <td>235.869995</td>\n",
       "      <td>142.039993</td>\n",
       "      <td>139.550003</td>\n",
       "      <td>1217.140015</td>\n",
       "    </tr>\n",
       "    <tr>\n",
       "      <th>2019-10-15</th>\n",
       "      <td>235.320007</td>\n",
       "      <td>143.000000</td>\n",
       "      <td>141.570007</td>\n",
       "      <td>1243.010010</td>\n",
       "    </tr>\n",
       "    <tr>\n",
       "      <th>2019-10-16</th>\n",
       "      <td>234.369995</td>\n",
       "      <td>142.110001</td>\n",
       "      <td>140.410004</td>\n",
       "      <td>1243.640015</td>\n",
       "    </tr>\n",
       "    <tr>\n",
       "      <th>2019-10-17</th>\n",
       "      <td>235.279999</td>\n",
       "      <td>134.259995</td>\n",
       "      <td>139.690002</td>\n",
       "      <td>1253.069946</td>\n",
       "    </tr>\n",
       "    <tr>\n",
       "      <th>2019-10-18</th>\n",
       "      <td>236.410004</td>\n",
       "      <td>134.089996</td>\n",
       "      <td>137.410004</td>\n",
       "      <td>1245.489990</td>\n",
       "    </tr>\n",
       "  </tbody>\n",
       "</table>\n",
       "<p>1259 rows × 4 columns</p>\n",
       "</div>"
      ],
      "text/plain": [
       "                  AAPL         IBM        MSFT         GOOG\n",
       "Date                                                       \n",
       "2014-10-20   91.539482  136.936264   39.458977   519.413940\n",
       "2014-10-21   94.026176  132.182739   40.175110   525.098328\n",
       "2014-10-22   94.503311  131.016617   39.727531   531.251465\n",
       "2014-10-23   96.191689  131.332458   40.300430   542.490601\n",
       "2014-10-24   96.549545  131.251480   41.294075   538.302063\n",
       "2014-10-27   96.448616  131.081451   41.097130   539.289368\n",
       "2014-10-28   97.944298  132.482391   41.616329   547.397095\n",
       "2014-10-29   98.494850  132.369003   41.732697   547.825928\n",
       "2014-10-30   98.164513  133.089706   41.222458   548.803284\n",
       "2014-10-31   99.100471  133.130219   42.028111   557.549255\n",
       "2014-11-03  100.385109  133.097809   42.466732   553.699829\n",
       "2014-11-04   99.651047  131.713089   42.583115   552.592834\n",
       "2014-11-05   99.889618  131.040939   42.842709   544.425293\n",
       "2014-11-06  100.175293  131.644287   43.594646   540.555908\n",
       "2014-11-07  100.460983  132.141617   43.576752   539.528748\n",
       "2014-11-10  100.295105  133.299408   43.764729   545.990967\n",
       "2014-11-11  101.096870  133.144485   43.746830   548.783325\n",
       "2014-11-12  102.525322  132.019318   43.666264   545.811462\n",
       "2014-11-13  103.972198  132.728683   44.409256   543.886780\n",
       "2014-11-14  105.225540  133.845688   44.382393   542.909424\n",
       "2014-11-17  105.050430  133.845688   44.274975   535.041016\n",
       "2014-11-18  106.414368  131.994904   43.905632   533.565125\n",
       "2014-11-19  105.677094  131.619797   43.437222   535.519714\n",
       "2014-11-20  107.188477  130.975677   43.869606   533.365662\n",
       "2014-11-21  107.335945  131.204025   43.221031   536.028320\n",
       "2014-11-24  109.326523  132.206879   42.869705   537.793518\n",
       "2014-11-25  108.377327  131.888885   42.761612   539.598511\n",
       "2014-11-26  109.667534  132.043823   43.013840   538.890503\n",
       "2014-11-28  109.603027  132.223190   43.067890   540.346497\n",
       "2014-12-01  106.045738  131.709473   43.797543   532.338440\n",
       "...                ...         ...         ...          ...\n",
       "2019-09-09  214.169998  142.600006  137.520004  1204.410034\n",
       "2019-09-10  216.699997  145.050003  136.080002  1206.000000\n",
       "2019-09-11  223.589996  143.600006  136.119995  1220.170044\n",
       "2019-09-12  223.089996  143.619995  137.520004  1234.250000\n",
       "2019-09-13  218.750000  143.669998  137.320007  1239.560059\n",
       "2019-09-16  219.899994  142.479996  136.330002  1231.300049\n",
       "2019-09-17  220.699997  142.199997  137.389999  1229.150024\n",
       "2019-09-18  222.770004  142.220001  138.520004  1232.410034\n",
       "2019-09-19  220.960007  142.970001  141.070007  1238.709961\n",
       "2019-09-20  217.729996  141.880005  139.440002  1229.930054\n",
       "2019-09-23  218.720001  142.070007  139.139999  1234.030029\n",
       "2019-09-24  217.679993  141.679993  137.380005  1218.760010\n",
       "2019-09-25  221.029999  143.160004  139.360001  1246.520020\n",
       "2019-09-26  219.889999  143.550003  139.539993  1241.390015\n",
       "2019-09-27  218.820007  143.240005  137.729996  1225.089966\n",
       "2019-09-30  223.970001  145.419998  139.029999  1219.000000\n",
       "2019-10-01  224.589996  143.660004  137.070007  1205.099976\n",
       "2019-10-02  218.960007  141.690002  134.649994  1176.630005\n",
       "2019-10-03  220.820007  142.020004  136.279999  1187.829956\n",
       "2019-10-04  227.009995  142.990005  138.119995  1209.000000\n",
       "2019-10-07  227.059998  141.279999  137.119995  1207.680054\n",
       "2019-10-08  224.399994  138.380005  135.669998  1189.130005\n",
       "2019-10-09  227.029999  139.669998  138.240005  1202.310059\n",
       "2019-10-10  230.089996  141.130005  139.100006  1208.670044\n",
       "2019-10-11  236.210007  142.759995  139.679993  1215.449951\n",
       "2019-10-14  235.869995  142.039993  139.550003  1217.140015\n",
       "2019-10-15  235.320007  143.000000  141.570007  1243.010010\n",
       "2019-10-16  234.369995  142.110001  140.410004  1243.640015\n",
       "2019-10-17  235.279999  134.259995  139.690002  1253.069946\n",
       "2019-10-18  236.410004  134.089996  137.410004  1245.489990\n",
       "\n",
       "[1259 rows x 4 columns]"
      ]
     },
     "execution_count": 77,
     "metadata": {},
     "output_type": "execute_result"
    }
   ],
   "source": [
    "price"
   ]
  },
  {
   "cell_type": "code",
   "execution_count": 78,
   "metadata": {},
   "outputs": [],
   "source": [
    "volume = pd.DataFrame({ticker: data['Volume']\n",
    "for ticker, data in all_data.items()})"
   ]
  },
  {
   "cell_type": "code",
   "execution_count": 79,
   "metadata": {},
   "outputs": [
    {
     "data": {
      "text/html": [
       "<div>\n",
       "<style scoped>\n",
       "    .dataframe tbody tr th:only-of-type {\n",
       "        vertical-align: middle;\n",
       "    }\n",
       "\n",
       "    .dataframe tbody tr th {\n",
       "        vertical-align: top;\n",
       "    }\n",
       "\n",
       "    .dataframe thead th {\n",
       "        text-align: right;\n",
       "    }\n",
       "</style>\n",
       "<table border=\"1\" class=\"dataframe\">\n",
       "  <thead>\n",
       "    <tr style=\"text-align: right;\">\n",
       "      <th></th>\n",
       "      <th>AAPL</th>\n",
       "      <th>IBM</th>\n",
       "      <th>MSFT</th>\n",
       "      <th>GOOG</th>\n",
       "    </tr>\n",
       "    <tr>\n",
       "      <th>Date</th>\n",
       "      <th></th>\n",
       "      <th></th>\n",
       "      <th></th>\n",
       "      <th></th>\n",
       "    </tr>\n",
       "  </thead>\n",
       "  <tbody>\n",
       "    <tr>\n",
       "      <th>2014-10-20</th>\n",
       "      <td>77517300.0</td>\n",
       "      <td>23416500.0</td>\n",
       "      <td>34527900.0</td>\n",
       "      <td>2607500.0</td>\n",
       "    </tr>\n",
       "    <tr>\n",
       "      <th>2014-10-21</th>\n",
       "      <td>94623900.0</td>\n",
       "      <td>20949800.0</td>\n",
       "      <td>36433800.0</td>\n",
       "      <td>2336200.0</td>\n",
       "    </tr>\n",
       "    <tr>\n",
       "      <th>2014-10-22</th>\n",
       "      <td>68263100.0</td>\n",
       "      <td>11084800.0</td>\n",
       "      <td>33570900.0</td>\n",
       "      <td>2919200.0</td>\n",
       "    </tr>\n",
       "    <tr>\n",
       "      <th>2014-10-23</th>\n",
       "      <td>71074700.0</td>\n",
       "      <td>7599400.0</td>\n",
       "      <td>45451900.0</td>\n",
       "      <td>2348800.0</td>\n",
       "    </tr>\n",
       "    <tr>\n",
       "      <th>2014-10-24</th>\n",
       "      <td>47053900.0</td>\n",
       "      <td>6652100.0</td>\n",
       "      <td>61076700.0</td>\n",
       "      <td>1973100.0</td>\n",
       "    </tr>\n",
       "    <tr>\n",
       "      <th>2014-10-27</th>\n",
       "      <td>34187700.0</td>\n",
       "      <td>4989100.0</td>\n",
       "      <td>30371300.0</td>\n",
       "      <td>1185300.0</td>\n",
       "    </tr>\n",
       "    <tr>\n",
       "      <th>2014-10-28</th>\n",
       "      <td>48060900.0</td>\n",
       "      <td>7895300.0</td>\n",
       "      <td>29049800.0</td>\n",
       "      <td>1270900.0</td>\n",
       "    </tr>\n",
       "    <tr>\n",
       "      <th>2014-10-29</th>\n",
       "      <td>52687900.0</td>\n",
       "      <td>4739300.0</td>\n",
       "      <td>30276100.0</td>\n",
       "      <td>1770500.0</td>\n",
       "    </tr>\n",
       "    <tr>\n",
       "      <th>2014-10-30</th>\n",
       "      <td>40654800.0</td>\n",
       "      <td>3896000.0</td>\n",
       "      <td>30073900.0</td>\n",
       "      <td>1455600.0</td>\n",
       "    </tr>\n",
       "    <tr>\n",
       "      <th>2014-10-31</th>\n",
       "      <td>44639300.0</td>\n",
       "      <td>5818000.0</td>\n",
       "      <td>35849700.0</td>\n",
       "      <td>2035000.0</td>\n",
       "    </tr>\n",
       "    <tr>\n",
       "      <th>2014-11-03</th>\n",
       "      <td>52282600.0</td>\n",
       "      <td>4688200.0</td>\n",
       "      <td>23130400.0</td>\n",
       "      <td>1382200.0</td>\n",
       "    </tr>\n",
       "    <tr>\n",
       "      <th>2014-11-04</th>\n",
       "      <td>41574400.0</td>\n",
       "      <td>4246900.0</td>\n",
       "      <td>21530800.0</td>\n",
       "      <td>1244200.0</td>\n",
       "    </tr>\n",
       "    <tr>\n",
       "      <th>2014-11-05</th>\n",
       "      <td>37435900.0</td>\n",
       "      <td>4104700.0</td>\n",
       "      <td>22449600.0</td>\n",
       "      <td>2032200.0</td>\n",
       "    </tr>\n",
       "    <tr>\n",
       "      <th>2014-11-06</th>\n",
       "      <td>34968500.0</td>\n",
       "      <td>4067600.0</td>\n",
       "      <td>33037800.0</td>\n",
       "      <td>1333200.0</td>\n",
       "    </tr>\n",
       "    <tr>\n",
       "      <th>2014-11-07</th>\n",
       "      <td>33691500.0</td>\n",
       "      <td>3494800.0</td>\n",
       "      <td>28000600.0</td>\n",
       "      <td>1633700.0</td>\n",
       "    </tr>\n",
       "    <tr>\n",
       "      <th>2014-11-10</th>\n",
       "      <td>27195500.0</td>\n",
       "      <td>4958200.0</td>\n",
       "      <td>36370100.0</td>\n",
       "      <td>1134600.0</td>\n",
       "    </tr>\n",
       "    <tr>\n",
       "      <th>2014-11-11</th>\n",
       "      <td>27442300.0</td>\n",
       "      <td>3534400.0</td>\n",
       "      <td>23445200.0</td>\n",
       "      <td>965500.0</td>\n",
       "    </tr>\n",
       "    <tr>\n",
       "      <th>2014-11-12</th>\n",
       "      <td>46942400.0</td>\n",
       "      <td>3378200.0</td>\n",
       "      <td>22722100.0</td>\n",
       "      <td>1129600.0</td>\n",
       "    </tr>\n",
       "    <tr>\n",
       "      <th>2014-11-13</th>\n",
       "      <td>59522900.0</td>\n",
       "      <td>3239700.0</td>\n",
       "      <td>26210400.0</td>\n",
       "      <td>1339300.0</td>\n",
       "    </tr>\n",
       "    <tr>\n",
       "      <th>2014-11-14</th>\n",
       "      <td>44063600.0</td>\n",
       "      <td>4978400.0</td>\n",
       "      <td>29081700.0</td>\n",
       "      <td>1289500.0</td>\n",
       "    </tr>\n",
       "    <tr>\n",
       "      <th>2014-11-17</th>\n",
       "      <td>46746700.0</td>\n",
       "      <td>4798900.0</td>\n",
       "      <td>30318600.0</td>\n",
       "      <td>1726000.0</td>\n",
       "    </tr>\n",
       "    <tr>\n",
       "      <th>2014-11-18</th>\n",
       "      <td>44224000.0</td>\n",
       "      <td>5410100.0</td>\n",
       "      <td>23995500.0</td>\n",
       "      <td>1962600.0</td>\n",
       "    </tr>\n",
       "    <tr>\n",
       "      <th>2014-11-19</th>\n",
       "      <td>41869200.0</td>\n",
       "      <td>3802600.0</td>\n",
       "      <td>26177500.0</td>\n",
       "      <td>1392200.0</td>\n",
       "    </tr>\n",
       "    <tr>\n",
       "      <th>2014-11-20</th>\n",
       "      <td>43395500.0</td>\n",
       "      <td>4183100.0</td>\n",
       "      <td>21510600.0</td>\n",
       "      <td>1563300.0</td>\n",
       "    </tr>\n",
       "    <tr>\n",
       "      <th>2014-11-21</th>\n",
       "      <td>57179300.0</td>\n",
       "      <td>4076900.0</td>\n",
       "      <td>42884800.0</td>\n",
       "      <td>2224200.0</td>\n",
       "    </tr>\n",
       "    <tr>\n",
       "      <th>2014-11-24</th>\n",
       "      <td>47450800.0</td>\n",
       "      <td>6619000.0</td>\n",
       "      <td>35434200.0</td>\n",
       "      <td>1706300.0</td>\n",
       "    </tr>\n",
       "    <tr>\n",
       "      <th>2014-11-25</th>\n",
       "      <td>68840400.0</td>\n",
       "      <td>4062400.0</td>\n",
       "      <td>28008000.0</td>\n",
       "      <td>1789900.0</td>\n",
       "    </tr>\n",
       "    <tr>\n",
       "      <th>2014-11-26</th>\n",
       "      <td>40768300.0</td>\n",
       "      <td>3966000.0</td>\n",
       "      <td>27163600.0</td>\n",
       "      <td>1522900.0</td>\n",
       "    </tr>\n",
       "    <tr>\n",
       "      <th>2014-11-28</th>\n",
       "      <td>24814400.0</td>\n",
       "      <td>2405500.0</td>\n",
       "      <td>21534400.0</td>\n",
       "      <td>1148300.0</td>\n",
       "    </tr>\n",
       "    <tr>\n",
       "      <th>2014-12-01</th>\n",
       "      <td>83814000.0</td>\n",
       "      <td>4168400.0</td>\n",
       "      <td>31191600.0</td>\n",
       "      <td>2115300.0</td>\n",
       "    </tr>\n",
       "    <tr>\n",
       "      <th>...</th>\n",
       "      <td>...</td>\n",
       "      <td>...</td>\n",
       "      <td>...</td>\n",
       "      <td>...</td>\n",
       "    </tr>\n",
       "    <tr>\n",
       "      <th>2019-09-09</th>\n",
       "      <td>27309400.0</td>\n",
       "      <td>4226600.0</td>\n",
       "      <td>25773900.0</td>\n",
       "      <td>1471900.0</td>\n",
       "    </tr>\n",
       "    <tr>\n",
       "      <th>2019-09-10</th>\n",
       "      <td>31777900.0</td>\n",
       "      <td>4979700.0</td>\n",
       "      <td>28903400.0</td>\n",
       "      <td>1260100.0</td>\n",
       "    </tr>\n",
       "    <tr>\n",
       "      <th>2019-09-11</th>\n",
       "      <td>44289600.0</td>\n",
       "      <td>3869700.0</td>\n",
       "      <td>24726100.0</td>\n",
       "      <td>1307000.0</td>\n",
       "    </tr>\n",
       "    <tr>\n",
       "      <th>2019-09-12</th>\n",
       "      <td>32226700.0</td>\n",
       "      <td>2505400.0</td>\n",
       "      <td>27010000.0</td>\n",
       "      <td>1725900.0</td>\n",
       "    </tr>\n",
       "    <tr>\n",
       "      <th>2019-09-13</th>\n",
       "      <td>39763300.0</td>\n",
       "      <td>2206600.0</td>\n",
       "      <td>23363100.0</td>\n",
       "      <td>1301400.0</td>\n",
       "    </tr>\n",
       "    <tr>\n",
       "      <th>2019-09-16</th>\n",
       "      <td>21158100.0</td>\n",
       "      <td>1928500.0</td>\n",
       "      <td>16731400.0</td>\n",
       "      <td>1053300.0</td>\n",
       "    </tr>\n",
       "    <tr>\n",
       "      <th>2019-09-17</th>\n",
       "      <td>18318700.0</td>\n",
       "      <td>2933200.0</td>\n",
       "      <td>17814200.0</td>\n",
       "      <td>955100.0</td>\n",
       "    </tr>\n",
       "    <tr>\n",
       "      <th>2019-09-18</th>\n",
       "      <td>25340000.0</td>\n",
       "      <td>1983600.0</td>\n",
       "      <td>23982100.0</td>\n",
       "      <td>1135100.0</td>\n",
       "    </tr>\n",
       "    <tr>\n",
       "      <th>2019-09-19</th>\n",
       "      <td>22060600.0</td>\n",
       "      <td>3089900.0</td>\n",
       "      <td>35772100.0</td>\n",
       "      <td>996000.0</td>\n",
       "    </tr>\n",
       "    <tr>\n",
       "      <th>2019-09-20</th>\n",
       "      <td>55413100.0</td>\n",
       "      <td>5193400.0</td>\n",
       "      <td>39167300.0</td>\n",
       "      <td>2270000.0</td>\n",
       "    </tr>\n",
       "    <tr>\n",
       "      <th>2019-09-23</th>\n",
       "      <td>19165500.0</td>\n",
       "      <td>1817900.0</td>\n",
       "      <td>17139300.0</td>\n",
       "      <td>1062400.0</td>\n",
       "    </tr>\n",
       "    <tr>\n",
       "      <th>2019-09-24</th>\n",
       "      <td>31190800.0</td>\n",
       "      <td>3231600.0</td>\n",
       "      <td>29773200.0</td>\n",
       "      <td>1583200.0</td>\n",
       "    </tr>\n",
       "    <tr>\n",
       "      <th>2019-09-25</th>\n",
       "      <td>21903400.0</td>\n",
       "      <td>2526700.0</td>\n",
       "      <td>21382000.0</td>\n",
       "      <td>1453000.0</td>\n",
       "    </tr>\n",
       "    <tr>\n",
       "      <th>2019-09-26</th>\n",
       "      <td>18833500.0</td>\n",
       "      <td>2309800.0</td>\n",
       "      <td>17456600.0</td>\n",
       "      <td>1538000.0</td>\n",
       "    </tr>\n",
       "    <tr>\n",
       "      <th>2019-09-27</th>\n",
       "      <td>25352000.0</td>\n",
       "      <td>2356800.0</td>\n",
       "      <td>22477700.0</td>\n",
       "      <td>1353900.0</td>\n",
       "    </tr>\n",
       "    <tr>\n",
       "      <th>2019-09-30</th>\n",
       "      <td>25977400.0</td>\n",
       "      <td>3988400.0</td>\n",
       "      <td>17280900.0</td>\n",
       "      <td>1404100.0</td>\n",
       "    </tr>\n",
       "    <tr>\n",
       "      <th>2019-10-01</th>\n",
       "      <td>34805800.0</td>\n",
       "      <td>2960800.0</td>\n",
       "      <td>21466600.0</td>\n",
       "      <td>1273500.0</td>\n",
       "    </tr>\n",
       "    <tr>\n",
       "      <th>2019-10-02</th>\n",
       "      <td>34612300.0</td>\n",
       "      <td>3340800.0</td>\n",
       "      <td>30521700.0</td>\n",
       "      <td>1615100.0</td>\n",
       "    </tr>\n",
       "    <tr>\n",
       "      <th>2019-10-03</th>\n",
       "      <td>28606500.0</td>\n",
       "      <td>2928800.0</td>\n",
       "      <td>24132900.0</td>\n",
       "      <td>1621200.0</td>\n",
       "    </tr>\n",
       "    <tr>\n",
       "      <th>2019-10-04</th>\n",
       "      <td>34619700.0</td>\n",
       "      <td>2413600.0</td>\n",
       "      <td>22897700.0</td>\n",
       "      <td>1162400.0</td>\n",
       "    </tr>\n",
       "    <tr>\n",
       "      <th>2019-10-07</th>\n",
       "      <td>30576500.0</td>\n",
       "      <td>2426500.0</td>\n",
       "      <td>15303700.0</td>\n",
       "      <td>842900.0</td>\n",
       "    </tr>\n",
       "    <tr>\n",
       "      <th>2019-10-08</th>\n",
       "      <td>27955000.0</td>\n",
       "      <td>3225400.0</td>\n",
       "      <td>25550500.0</td>\n",
       "      <td>1039300.0</td>\n",
       "    </tr>\n",
       "    <tr>\n",
       "      <th>2019-10-09</th>\n",
       "      <td>18692600.0</td>\n",
       "      <td>2620800.0</td>\n",
       "      <td>19749900.0</td>\n",
       "      <td>867700.0</td>\n",
       "    </tr>\n",
       "    <tr>\n",
       "      <th>2019-10-10</th>\n",
       "      <td>28253400.0</td>\n",
       "      <td>2593700.0</td>\n",
       "      <td>17654600.0</td>\n",
       "      <td>846600.0</td>\n",
       "    </tr>\n",
       "    <tr>\n",
       "      <th>2019-10-11</th>\n",
       "      <td>41698900.0</td>\n",
       "      <td>2996800.0</td>\n",
       "      <td>25446000.0</td>\n",
       "      <td>1272700.0</td>\n",
       "    </tr>\n",
       "    <tr>\n",
       "      <th>2019-10-14</th>\n",
       "      <td>24106900.0</td>\n",
       "      <td>2309500.0</td>\n",
       "      <td>13304300.0</td>\n",
       "      <td>867500.0</td>\n",
       "    </tr>\n",
       "    <tr>\n",
       "      <th>2019-10-15</th>\n",
       "      <td>21840000.0</td>\n",
       "      <td>3025500.0</td>\n",
       "      <td>19695700.0</td>\n",
       "      <td>1381700.0</td>\n",
       "    </tr>\n",
       "    <tr>\n",
       "      <th>2019-10-16</th>\n",
       "      <td>18475800.0</td>\n",
       "      <td>5332600.0</td>\n",
       "      <td>20751600.0</td>\n",
       "      <td>1094600.0</td>\n",
       "    </tr>\n",
       "    <tr>\n",
       "      <th>2019-10-17</th>\n",
       "      <td>16896300.0</td>\n",
       "      <td>15759800.0</td>\n",
       "      <td>21460600.0</td>\n",
       "      <td>952400.0</td>\n",
       "    </tr>\n",
       "    <tr>\n",
       "      <th>2019-10-18</th>\n",
       "      <td>24358400.0</td>\n",
       "      <td>7177500.0</td>\n",
       "      <td>32273500.0</td>\n",
       "      <td>1352800.0</td>\n",
       "    </tr>\n",
       "  </tbody>\n",
       "</table>\n",
       "<p>1259 rows × 4 columns</p>\n",
       "</div>"
      ],
      "text/plain": [
       "                  AAPL         IBM        MSFT       GOOG\n",
       "Date                                                     \n",
       "2014-10-20  77517300.0  23416500.0  34527900.0  2607500.0\n",
       "2014-10-21  94623900.0  20949800.0  36433800.0  2336200.0\n",
       "2014-10-22  68263100.0  11084800.0  33570900.0  2919200.0\n",
       "2014-10-23  71074700.0   7599400.0  45451900.0  2348800.0\n",
       "2014-10-24  47053900.0   6652100.0  61076700.0  1973100.0\n",
       "2014-10-27  34187700.0   4989100.0  30371300.0  1185300.0\n",
       "2014-10-28  48060900.0   7895300.0  29049800.0  1270900.0\n",
       "2014-10-29  52687900.0   4739300.0  30276100.0  1770500.0\n",
       "2014-10-30  40654800.0   3896000.0  30073900.0  1455600.0\n",
       "2014-10-31  44639300.0   5818000.0  35849700.0  2035000.0\n",
       "2014-11-03  52282600.0   4688200.0  23130400.0  1382200.0\n",
       "2014-11-04  41574400.0   4246900.0  21530800.0  1244200.0\n",
       "2014-11-05  37435900.0   4104700.0  22449600.0  2032200.0\n",
       "2014-11-06  34968500.0   4067600.0  33037800.0  1333200.0\n",
       "2014-11-07  33691500.0   3494800.0  28000600.0  1633700.0\n",
       "2014-11-10  27195500.0   4958200.0  36370100.0  1134600.0\n",
       "2014-11-11  27442300.0   3534400.0  23445200.0   965500.0\n",
       "2014-11-12  46942400.0   3378200.0  22722100.0  1129600.0\n",
       "2014-11-13  59522900.0   3239700.0  26210400.0  1339300.0\n",
       "2014-11-14  44063600.0   4978400.0  29081700.0  1289500.0\n",
       "2014-11-17  46746700.0   4798900.0  30318600.0  1726000.0\n",
       "2014-11-18  44224000.0   5410100.0  23995500.0  1962600.0\n",
       "2014-11-19  41869200.0   3802600.0  26177500.0  1392200.0\n",
       "2014-11-20  43395500.0   4183100.0  21510600.0  1563300.0\n",
       "2014-11-21  57179300.0   4076900.0  42884800.0  2224200.0\n",
       "2014-11-24  47450800.0   6619000.0  35434200.0  1706300.0\n",
       "2014-11-25  68840400.0   4062400.0  28008000.0  1789900.0\n",
       "2014-11-26  40768300.0   3966000.0  27163600.0  1522900.0\n",
       "2014-11-28  24814400.0   2405500.0  21534400.0  1148300.0\n",
       "2014-12-01  83814000.0   4168400.0  31191600.0  2115300.0\n",
       "...                ...         ...         ...        ...\n",
       "2019-09-09  27309400.0   4226600.0  25773900.0  1471900.0\n",
       "2019-09-10  31777900.0   4979700.0  28903400.0  1260100.0\n",
       "2019-09-11  44289600.0   3869700.0  24726100.0  1307000.0\n",
       "2019-09-12  32226700.0   2505400.0  27010000.0  1725900.0\n",
       "2019-09-13  39763300.0   2206600.0  23363100.0  1301400.0\n",
       "2019-09-16  21158100.0   1928500.0  16731400.0  1053300.0\n",
       "2019-09-17  18318700.0   2933200.0  17814200.0   955100.0\n",
       "2019-09-18  25340000.0   1983600.0  23982100.0  1135100.0\n",
       "2019-09-19  22060600.0   3089900.0  35772100.0   996000.0\n",
       "2019-09-20  55413100.0   5193400.0  39167300.0  2270000.0\n",
       "2019-09-23  19165500.0   1817900.0  17139300.0  1062400.0\n",
       "2019-09-24  31190800.0   3231600.0  29773200.0  1583200.0\n",
       "2019-09-25  21903400.0   2526700.0  21382000.0  1453000.0\n",
       "2019-09-26  18833500.0   2309800.0  17456600.0  1538000.0\n",
       "2019-09-27  25352000.0   2356800.0  22477700.0  1353900.0\n",
       "2019-09-30  25977400.0   3988400.0  17280900.0  1404100.0\n",
       "2019-10-01  34805800.0   2960800.0  21466600.0  1273500.0\n",
       "2019-10-02  34612300.0   3340800.0  30521700.0  1615100.0\n",
       "2019-10-03  28606500.0   2928800.0  24132900.0  1621200.0\n",
       "2019-10-04  34619700.0   2413600.0  22897700.0  1162400.0\n",
       "2019-10-07  30576500.0   2426500.0  15303700.0   842900.0\n",
       "2019-10-08  27955000.0   3225400.0  25550500.0  1039300.0\n",
       "2019-10-09  18692600.0   2620800.0  19749900.0   867700.0\n",
       "2019-10-10  28253400.0   2593700.0  17654600.0   846600.0\n",
       "2019-10-11  41698900.0   2996800.0  25446000.0  1272700.0\n",
       "2019-10-14  24106900.0   2309500.0  13304300.0   867500.0\n",
       "2019-10-15  21840000.0   3025500.0  19695700.0  1381700.0\n",
       "2019-10-16  18475800.0   5332600.0  20751600.0  1094600.0\n",
       "2019-10-17  16896300.0  15759800.0  21460600.0   952400.0\n",
       "2019-10-18  24358400.0   7177500.0  32273500.0  1352800.0\n",
       "\n",
       "[1259 rows x 4 columns]"
      ]
     },
     "execution_count": 79,
     "metadata": {},
     "output_type": "execute_result"
    }
   ],
   "source": [
    "volume"
   ]
  },
  {
   "cell_type": "code",
   "execution_count": null,
   "metadata": {},
   "outputs": [],
   "source": []
  }
 ],
 "metadata": {
  "kernelspec": {
   "display_name": "Python 3",
   "language": "python",
   "name": "python3"
  },
  "language_info": {
   "codemirror_mode": {
    "name": "ipython",
    "version": 3
   },
   "file_extension": ".py",
   "mimetype": "text/x-python",
   "name": "python",
   "nbconvert_exporter": "python",
   "pygments_lexer": "ipython3",
   "version": "3.7.3"
  }
 },
 "nbformat": 4,
 "nbformat_minor": 2
}
