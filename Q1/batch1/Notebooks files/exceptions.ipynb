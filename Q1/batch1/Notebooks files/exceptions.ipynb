{
 "cells": [
  {
   "cell_type": "markdown",
   "metadata": {},
   "source": [
    "# Error and Exception Handling"
   ]
  },
  {
   "cell_type": "code",
   "execution_count": null,
   "metadata": {},
   "outputs": [],
   "source": [
    "5/0\n",
    "print(\"hellow\")"
   ]
  },
  {
   "cell_type": "code",
   "execution_count": null,
   "metadata": {},
   "outputs": [],
   "source": [
    "\n",
    "\n",
    "a =int(input(\"Enter a number\")) \n",
    "b =int(input(\"Enter a number\")) \n",
    "try:\n",
    "    c = a/b\n",
    "    print(c)\n",
    "except ZeroDivisionError:\n",
    "    print(\"Exception is caught ZeroDivisionError\")\n",
    "\n",
    "\n",
    "print('Hello Error')"
   ]
  },
  {
   "cell_type": "code",
   "execution_count": null,
   "metadata": {},
   "outputs": [],
   "source": [
    "\n",
    "a =int(input(\"Enter a number\")) \n",
    "b =int(input(\"Enter a number\")) \n",
    "\n",
    "\n",
    "c = a/b\n",
    "print(c)\n",
    "\n",
    "print('Hello World')"
   ]
  },
  {
   "cell_type": "code",
   "execution_count": null,
   "metadata": {},
   "outputs": [],
   "source": [
    "a = [1,2,3]\n",
    "try:\n",
    "    print(a[8])\n",
    "except IndexError:\n",
    "    print('Yeah! I Have handled that error')"
   ]
  },
  {
   "cell_type": "code",
   "execution_count": null,
   "metadata": {},
   "outputs": [],
   "source": [
    "\n",
    "a =int(input(\"Enter a number\")) \n",
    "b =int(input(\"Enter a number\")) \n",
    "d = []\n",
    "try:\n",
    "    c = a/b\n",
    "    print(c)\n",
    "    print(d[2])\n",
    "except ZeroDivisionError:\n",
    "    print('Exception is caught ZeroDivisionError')\n",
    "print('Hello World')"
   ]
  },
  {
   "cell_type": "code",
   "execution_count": null,
   "metadata": {},
   "outputs": [],
   "source": [
    "\n",
    "a =int(input(\"Enter a number\")) \n",
    "b =int(input(\"Enter a number\")) \n",
    "try:\n",
    "    c = a/b\n",
    "except ZeroDivisionError:\n",
    "    print(\"Handled ZeroDivisionError\")\n",
    "else:\n",
    "    print(\"Else \" +str(c))\n",
    "\n",
    "\n",
    "\n"
   ]
  },
  {
   "cell_type": "code",
   "execution_count": null,
   "metadata": {},
   "outputs": [],
   "source": [
    "\n",
    "\n",
    "a =int(input(\"Enter a number\")) \n",
    "b =int(input(\"Enter a number\")) \n",
    "d = []\n",
    "try:\n",
    "    c = a/b\n",
    "    e = d[5]\n",
    "    print(e)\n",
    "except ZeroDivisionError:\n",
    "    print(\"Handled ZeroDivisionError\")\n",
    "else:\n",
    "    print(c)\n",
    "\n",
    "\n",
    "\n"
   ]
  },
  {
   "cell_type": "code",
   "execution_count": null,
   "metadata": {},
   "outputs": [],
   "source": [
    "\n",
    "print(\"First\")\n",
    "a =int(input(\"Enter a number\")) \n",
    "b =int(input(\"Enter a number\")) \n",
    "d = []\n",
    "try:\n",
    "    c = a/b\n",
    "#     e = d[5]\n",
    "except ZeroDivisionError:\n",
    "    print(\"Handled ZeroDivisionError\")\n",
    "else:\n",
    "    print(c)\n",
    "\n",
    "print(\"last\")\n",
    "\n"
   ]
  },
  {
   "cell_type": "code",
   "execution_count": null,
   "metadata": {},
   "outputs": [],
   "source": [
    "\n",
    "\n",
    "a =int(input(\"Enter a number\")) \n",
    "b =int(input(\"Enter a number\")) \n",
    "d = []\n",
    "try:\n",
    "    c = a/b\n",
    "    e = d[5]\n",
    "except ZeroDivisionError: #Type Z and press tab to get list of Exception\n",
    "    print(\"Exception is caught ZeroDivisionError\")\n",
    "except  IndexError:                #Type I and press tab to get list of Exception\n",
    "    print(\"Exception is caught is list index out of range\")\n",
    "else:\n",
    "    print(c)\n",
    "    print(e)\n",
    "\n",
    "\n"
   ]
  },
  {
   "cell_type": "code",
   "execution_count": null,
   "metadata": {},
   "outputs": [],
   "source": [
    "\n",
    "\n",
    " \n",
    "d = []\n",
    "try:\n",
    "    a =int(input(\"Enter a number\")) \n",
    "    b =int(input(\"Enter a number\")) \n",
    "    c = a/b\n",
    "    e = d[5]\n",
    "except:           # here we did not explain the type of exception. Genral exception will\n",
    "                  # be used. means it will catch every kind of exception\n",
    "    print(\"koi si bhi Exception is caught\")\n",
    "else:\n",
    "    print(c)\n",
    "\n",
    "\n"
   ]
  },
  {
   "cell_type": "code",
   "execution_count": 2,
   "metadata": {},
   "outputs": [
    {
     "name": "stdout",
     "output_type": "stream",
     "text": [
      "Enter a number3\n",
      "Enter a number0\n",
      "Handled Error == division by zero\n",
      "HelloWorld\n"
     ]
    }
   ],
   "source": [
    "\n",
    "# a =int(input(\"Enter a number\")) \n",
    "# b =int(input(\"Enter a number\")) \n",
    "d = []\n",
    "try:\n",
    "    '''built in message print karna hy exception ka to {except Exception as e:}\n",
    "    is me jistrah ki acception aegi wo uska message khud he utha k laega or print karega\n",
    "    is code ko khud se run kare or exception raise kar k dekhen'''\n",
    "    a =int(input(\"Enter a number\")) \n",
    "    b =int(input(\"Enter a number\"))\n",
    "    c = a/b\n",
    "    ee = d[5]\n",
    "except Exception as e:\n",
    "    print(\"Handled Error == \" +str(e))\n",
    "else:\n",
    "    print(c)\n",
    "\n",
    "print('HelloWorld')"
   ]
  },
  {
   "cell_type": "code",
   "execution_count": null,
   "metadata": {},
   "outputs": [],
   "source": [
    "\n",
    "a =int(input(\"Enter a number\")) \n",
    "b =int(input(\"Enter a number\")) \n",
    "d = []\n",
    "try:\n",
    "    c = a/b\n",
    "    e = d[5]\n",
    "    \n",
    "    \"\"\"yahan ek humne apni message likha hy or ek built in use kia hy\"\"\"\n",
    "    \n",
    "except ZeroDivisionError:\n",
    "    print(\"Handel ZeroDivisionError\")\n",
    "    \n",
    "except Exception as e:\n",
    "    \n",
    "    print(\"Handle Error == \" +str(e))\n",
    "    \n",
    "else:\n",
    "    print(c)\n",
    "\n",
    "\n",
    "\n"
   ]
  },
  {
   "cell_type": "code",
   "execution_count": null,
   "metadata": {},
   "outputs": [],
   "source": [
    "\n",
    "\n",
    "a =int(input(\"Enter a number\")) \n",
    "b =int(input(\"Enter a number\")) \n",
    "d = []\n",
    "try:\n",
    "    c = a/b\n",
    "    e = d[5]\n",
    "except ZeroDivisionError:\n",
    "    print(\"Handel ZeroDivisionError\")\n",
    "\n",
    "else:\n",
    "    print(c)\n",
    "\n",
    "finally:\n",
    "    print(\"Finally will always run\")\n",
    "\n",
    "\n",
    "\n"
   ]
  },
  {
   "cell_type": "code",
   "execution_count": null,
   "metadata": {},
   "outputs": [],
   "source": []
  },
  {
   "cell_type": "raw",
   "metadata": {},
   "source": [
    "###Rasing our own exceptions\n",
    "\n",
    "We can rasie exception by ourselves. ony any condition we defined like if a>10 raise exception\n",
    "like if user inputs value 10 raise exception bla bla bla bla......"
   ]
  },
  {
   "cell_type": "code",
   "execution_count": null,
   "metadata": {},
   "outputs": [],
   "source": [
    "\n",
    "class Student():\n",
    "    def __init__(self,name,age):\n",
    "        if age > 80 or age <16:\n",
    "            raise Exception(\"Age can not be greater then 80 and less then 16\")\n",
    "        self.name = name\n",
    "        self.age = age"
   ]
  },
  {
   "cell_type": "code",
   "execution_count": null,
   "metadata": {},
   "outputs": [],
   "source": [
    "age = int(input(\"Enter students age: \"))\n",
    "\n",
    "\n",
    "st = Student(\"ALi\",age)\n",
    "\n",
    "\n",
    "print(st.age)\n"
   ]
  },
  {
   "cell_type": "raw",
   "metadata": {},
   "source": [
    "#Catching the exception raised by ourself###\n",
    "Exception catch karne ki liye wahi kam karenge k jahan se raise hone k dar ho usko try me\n",
    "dal den. or except me catch kara den. Go through the code......"
   ]
  },
  {
   "cell_type": "code",
   "execution_count": null,
   "metadata": {},
   "outputs": [],
   "source": [
    "class Student():\n",
    "    def __init__(self,name,age):\n",
    "        if age > 80:\n",
    "            raise Exception(\"Age can not be greater then 80\")\n",
    "        self.name = name\n",
    "        self.age = age\n",
    "\n",
    "\n"
   ]
  },
  {
   "cell_type": "code",
   "execution_count": null,
   "metadata": {},
   "outputs": [],
   "source": [
    "\n",
    "'''ab humen try except laga diya hy code crash nahi hoga or izzat batch jaegi hahahahah'''\n",
    "try:\n",
    "    age = int(input(\"Enter students age: \"))\n",
    "    st = Student(\"Hello\",age)   # send different ages and see the result\n",
    "except Exception as e:\n",
    "    print(\"Exception \"+str(e))\n",
    "else :\n",
    "    print(st.age)\n"
   ]
  },
  {
   "cell_type": "raw",
   "metadata": {},
   "source": [
    "\n",
    "#####################################################\n",
    "#######Importantttttttttttttttttttttttttttttttt######\n",
    "#####################################################"
   ]
  },
  {
   "cell_type": "raw",
   "metadata": {},
   "source": [
    "Making our class of exception::::::::\n",
    "Raising exception ourselves::::::\n",
    "\n",
    "Last code me we used python exception class\n",
    "Now we will make our own exception class and will used in the code.\n",
    "Dont panic guls and guys...\n",
    "\n"
   ]
  },
  {
   "cell_type": "code",
   "execution_count": null,
   "metadata": {},
   "outputs": [],
   "source": [
    "\n",
    "class Student():\n",
    "    def __init__(self,name,age):\n",
    "        if age > 80 or age <16:\n",
    "            raise StudentAgeException(\"Age can not be greater then 80 and less then 16\")\n",
    "            # we used here own class of exceptio\n",
    "        self.name = name\n",
    "        self.age = age\n",
    "\n",
    "'''All the exception raised are derived from a class Exception by default \n",
    "   We can make our own class of exception and can derived(inherit) it from parent\n",
    "   Exception class like this:'''        \n",
    "        \n",
    "class StudentAgeException(Exception):\n",
    "    pass\n"
   ]
  },
  {
   "cell_type": "code",
   "execution_count": null,
   "metadata": {
    "scrolled": true
   },
   "outputs": [],
   "source": [
    "age = int(input(\"Enter students age: \"))\n",
    "st = Student(\"Hello\",age)\n",
    "# abhi it is creating exception that is not handled\n",
    "print(st.age)\n",
    "\n",
    "####Note###\n",
    "'''exception raise karane k liye humne Exception python ki general wali use nahiiiiiii ki hy\n",
    "   abhi code crash hogaya hy kyu k humne abhi exception catch nahiiiiiiiiiiiiiiiiii ki hy'''"
   ]
  },
  {
   "cell_type": "raw",
   "metadata": {},
   "source": [
    "\n",
    "#################################################################################\n",
    "Raising and catching our own exception [[[[defined in our own exception class]]]]\n",
    "Raising and catching our own exception [[[[defined in our own exception class]]]]\n",
    "Raising and catching our own exception [[[[defined in our own exception class]]]]\n",
    "Raising and catching our own exception [[[[defined in our own exception class]]]]\n",
    "Raising and catching our own exception [[[[defined in our own exception class]]]]\n",
    "#################################################################################"
   ]
  },
  {
   "cell_type": "code",
   "execution_count": null,
   "metadata": {},
   "outputs": [],
   "source": [
    "\n",
    "class Student():\n",
    "    def __init__(self,name,age):\n",
    "        if age > 80 or age <16:\n",
    "            raise StudentAgeException(\"Age can not be greater then 80 and less then 16\")\n",
    "        self.name = name\n",
    "        self.age = age\n",
    "\n",
    "class StudentAgeException(Exception):\n",
    "    pass\n",
    "\n",
    "\n",
    "try:\n",
    "    age = int(input(\"Enter students age: \"))\n",
    "    st = Student(\"Hello\",age)\n",
    "\n",
    "except StudentAgeException as e:\n",
    "    print(\"StudentAgeException == \"+str(e))\n",
    "else :\n",
    "    print(st.age) \n",
    "\n"
   ]
  },
  {
   "cell_type": "code",
   "execution_count": null,
   "metadata": {},
   "outputs": [],
   "source": []
  },
  {
   "cell_type": "code",
   "execution_count": null,
   "metadata": {},
   "outputs": [],
   "source": []
  }
 ],
 "metadata": {
  "kernelspec": {
   "display_name": "Python 3",
   "language": "python",
   "name": "python3"
  },
  "language_info": {
   "codemirror_mode": {
    "name": "ipython",
    "version": 3
   },
   "file_extension": ".py",
   "mimetype": "text/x-python",
   "name": "python",
   "nbconvert_exporter": "python",
   "pygments_lexer": "ipython3",
   "version": "3.7.1"
  }
 },
 "nbformat": 4,
 "nbformat_minor": 2
}
