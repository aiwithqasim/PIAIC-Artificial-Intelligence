{
 "cells": [
  {
   "cell_type": "markdown",
   "metadata": {},
   "source": [
    "# Listing 5.16 Instantiating the VGG16 convolutional base"
   ]
  },
  {
   "cell_type": "code",
   "execution_count": 1,
   "metadata": {},
   "outputs": [],
   "source": [
    "from tensorflow.keras.applications import VGG16\n",
    "\n",
    "conv_base = VGG16(weights='imagenet',\n",
    "                 include_top=False,\n",
    "                 input_shape=(150,150,3))"
   ]
  },
  {
   "cell_type": "code",
   "execution_count": 2,
   "metadata": {},
   "outputs": [
    {
     "name": "stdout",
     "output_type": "stream",
     "text": [
      "Model: \"vgg16\"\n",
      "_________________________________________________________________\n",
      "Layer (type)                 Output Shape              Param #   \n",
      "=================================================================\n",
      "input_1 (InputLayer)         [(None, 150, 150, 3)]     0         \n",
      "_________________________________________________________________\n",
      "block1_conv1 (Conv2D)        (None, 150, 150, 64)      1792      \n",
      "_________________________________________________________________\n",
      "block1_conv2 (Conv2D)        (None, 150, 150, 64)      36928     \n",
      "_________________________________________________________________\n",
      "block1_pool (MaxPooling2D)   (None, 75, 75, 64)        0         \n",
      "_________________________________________________________________\n",
      "block2_conv1 (Conv2D)        (None, 75, 75, 128)       73856     \n",
      "_________________________________________________________________\n",
      "block2_conv2 (Conv2D)        (None, 75, 75, 128)       147584    \n",
      "_________________________________________________________________\n",
      "block2_pool (MaxPooling2D)   (None, 37, 37, 128)       0         \n",
      "_________________________________________________________________\n",
      "block3_conv1 (Conv2D)        (None, 37, 37, 256)       295168    \n",
      "_________________________________________________________________\n",
      "block3_conv2 (Conv2D)        (None, 37, 37, 256)       590080    \n",
      "_________________________________________________________________\n",
      "block3_conv3 (Conv2D)        (None, 37, 37, 256)       590080    \n",
      "_________________________________________________________________\n",
      "block3_pool (MaxPooling2D)   (None, 18, 18, 256)       0         \n",
      "_________________________________________________________________\n",
      "block4_conv1 (Conv2D)        (None, 18, 18, 512)       1180160   \n",
      "_________________________________________________________________\n",
      "block4_conv2 (Conv2D)        (None, 18, 18, 512)       2359808   \n",
      "_________________________________________________________________\n",
      "block4_conv3 (Conv2D)        (None, 18, 18, 512)       2359808   \n",
      "_________________________________________________________________\n",
      "block4_pool (MaxPooling2D)   (None, 9, 9, 512)         0         \n",
      "_________________________________________________________________\n",
      "block5_conv1 (Conv2D)        (None, 9, 9, 512)         2359808   \n",
      "_________________________________________________________________\n",
      "block5_conv2 (Conv2D)        (None, 9, 9, 512)         2359808   \n",
      "_________________________________________________________________\n",
      "block5_conv3 (Conv2D)        (None, 9, 9, 512)         2359808   \n",
      "_________________________________________________________________\n",
      "block5_pool (MaxPooling2D)   (None, 4, 4, 512)         0         \n",
      "=================================================================\n",
      "Total params: 14,714,688\n",
      "Trainable params: 14,714,688\n",
      "Non-trainable params: 0\n",
      "_________________________________________________________________\n"
     ]
    }
   ],
   "source": [
    "conv_base.summary()"
   ]
  },
  {
   "cell_type": "markdown",
   "metadata": {},
   "source": [
    "# Listing 5.17 Extracting features using the pretrained convolutional base"
   ]
  },
  {
   "cell_type": "code",
   "execution_count": 3,
   "metadata": {},
   "outputs": [
    {
     "name": "stdout",
     "output_type": "stream",
     "text": [
      "Found 2000 images belonging to 2 classes.\n",
      "Found 1000 images belonging to 2 classes.\n",
      "Found 1000 images belonging to 2 classes.\n"
     ]
    }
   ],
   "source": [
    "import os\n",
    "import numpy as np\n",
    "from tensorflow.keras.preprocessing.image import ImageDataGenerator\n",
    "base_dir = './dog_cat/abc'\n",
    "\n",
    "train_dir = os.path.join(base_dir, 'train')\n",
    "validation_dir = os.path.join(base_dir, 'validation')\n",
    "test_dir = os.path.join(base_dir, 'test')\n",
    "datagen = ImageDataGenerator(rescale=1./255)\n",
    "batch_size = 20\n",
    "\n",
    "def extract_features(directory, sample_count):\n",
    "    features = np.zeros(shape=(sample_count, 4, 4, 512))\n",
    "    labels = np.zeros(shape=(sample_count))\n",
    "    generator = datagen.flow_from_directory(\n",
    "        directory,\n",
    "        target_size=(150, 150),\n",
    "        batch_size=batch_size,\n",
    "        class_mode='binary')\n",
    "    i=0\n",
    "    for inputs_batch, labels_batch in generator:\n",
    "        features_batch = conv_base.predict(inputs_batch)\n",
    "        features[i * batch_size : (i + 1) * batch_size] = features_batch\n",
    "        labels[i * batch_size : (i + 1) * batch_size] = labels_batch\n",
    "        i += 1\n",
    "        if i * batch_size >= sample_count:\n",
    "            break\n",
    "    return features, labels\n",
    "train_features, train_labels = extract_features(train_dir, 2000)\n",
    "validation_features, validation_labels = extract_features(validation_dir, 1000)\n",
    "test_features, test_labels = extract_features(test_dir, 1000)\n"
   ]
  },
  {
   "cell_type": "code",
   "execution_count": 4,
   "metadata": {},
   "outputs": [],
   "source": [
    "train_features = np.reshape(train_features, (2000, 4*4* 512))\n",
    "validation_features = np.reshape(validation_features, (1000, 4*4* 512))\n",
    "test_features = np.reshape(test_features, (1000, 4*4* 512))"
   ]
  },
  {
   "cell_type": "markdown",
   "metadata": {},
   "source": [
    "# Listing 5.18 Defining and training the densely connected classifier"
   ]
  },
  {
   "cell_type": "code",
   "execution_count": 5,
   "metadata": {},
   "outputs": [
    {
     "name": "stdout",
     "output_type": "stream",
     "text": [
      "Epoch 1/30\n",
      "100/100 [==============================] - 2s 17ms/step - loss: 0.5911 - acc: 0.6780 - val_loss: 0.4353 - val_acc: 0.8180\n",
      "Epoch 2/30\n",
      "100/100 [==============================] - 2s 16ms/step - loss: 0.4316 - acc: 0.7995 - val_loss: 0.3585 - val_acc: 0.8520\n",
      "Epoch 3/30\n",
      "100/100 [==============================] - 2s 16ms/step - loss: 0.3535 - acc: 0.8495 - val_loss: 0.3192 - val_acc: 0.8770\n",
      "Epoch 4/30\n",
      "100/100 [==============================] - 2s 16ms/step - loss: 0.3109 - acc: 0.8695 - val_loss: 0.2979 - val_acc: 0.8870\n",
      "Epoch 5/30\n",
      "100/100 [==============================] - 2s 16ms/step - loss: 0.2883 - acc: 0.8820 - val_loss: 0.2853 - val_acc: 0.8830\n",
      "Epoch 6/30\n",
      "100/100 [==============================] - 2s 16ms/step - loss: 0.2602 - acc: 0.9000 - val_loss: 0.2732 - val_acc: 0.8920\n",
      "Epoch 7/30\n",
      "100/100 [==============================] - 2s 16ms/step - loss: 0.2425 - acc: 0.9125 - val_loss: 0.2644 - val_acc: 0.8960\n",
      "Epoch 8/30\n",
      "100/100 [==============================] - 2s 16ms/step - loss: 0.2269 - acc: 0.9110 - val_loss: 0.2623 - val_acc: 0.9010\n",
      "Epoch 9/30\n",
      "100/100 [==============================] - 2s 16ms/step - loss: 0.2188 - acc: 0.9145 - val_loss: 0.2609 - val_acc: 0.8960\n",
      "Epoch 10/30\n",
      "100/100 [==============================] - 2s 16ms/step - loss: 0.2019 - acc: 0.9270 - val_loss: 0.2484 - val_acc: 0.9050\n",
      "Epoch 11/30\n",
      "100/100 [==============================] - 2s 17ms/step - loss: 0.1956 - acc: 0.9365 - val_loss: 0.2459 - val_acc: 0.9070\n",
      "Epoch 12/30\n",
      "100/100 [==============================] - 2s 16ms/step - loss: 0.1826 - acc: 0.9330 - val_loss: 0.2441 - val_acc: 0.9050\n",
      "Epoch 13/30\n",
      "100/100 [==============================] - 2s 16ms/step - loss: 0.1756 - acc: 0.9350 - val_loss: 0.2397 - val_acc: 0.9050\n",
      "Epoch 14/30\n",
      "100/100 [==============================] - 2s 16ms/step - loss: 0.1646 - acc: 0.9395 - val_loss: 0.2393 - val_acc: 0.9050\n",
      "Epoch 15/30\n",
      "100/100 [==============================] - 2s 16ms/step - loss: 0.1624 - acc: 0.9405 - val_loss: 0.2371 - val_acc: 0.9040\n",
      "Epoch 16/30\n",
      "100/100 [==============================] - 2s 16ms/step - loss: 0.1541 - acc: 0.9455 - val_loss: 0.2443 - val_acc: 0.9060\n",
      "Epoch 17/30\n",
      "100/100 [==============================] - 2s 16ms/step - loss: 0.1482 - acc: 0.9450 - val_loss: 0.2369 - val_acc: 0.9060\n",
      "Epoch 18/30\n",
      "100/100 [==============================] - 2s 16ms/step - loss: 0.1406 - acc: 0.9525 - val_loss: 0.2399 - val_acc: 0.9090\n",
      "Epoch 19/30\n",
      "100/100 [==============================] - 2s 16ms/step - loss: 0.1391 - acc: 0.9530 - val_loss: 0.2376 - val_acc: 0.9060\n",
      "Epoch 20/30\n",
      "100/100 [==============================] - 2s 16ms/step - loss: 0.1309 - acc: 0.9595 - val_loss: 0.2387 - val_acc: 0.9000\n",
      "Epoch 21/30\n",
      "100/100 [==============================] - 2s 16ms/step - loss: 0.1262 - acc: 0.9555 - val_loss: 0.2388 - val_acc: 0.9040A: 0s - loss: 0.1235 - acc\n",
      "Epoch 22/30\n",
      "100/100 [==============================] - 2s 16ms/step - loss: 0.1175 - acc: 0.9575 - val_loss: 0.2405 - val_acc: 0.9030\n",
      "Epoch 23/30\n",
      "100/100 [==============================] - 2s 16ms/step - loss: 0.1149 - acc: 0.9630 - val_loss: 0.2376 - val_acc: 0.9050\n",
      "Epoch 24/30\n",
      "100/100 [==============================] - 2s 16ms/step - loss: 0.1120 - acc: 0.9620 - val_loss: 0.2365 - val_acc: 0.9030\n",
      "Epoch 25/30\n",
      "100/100 [==============================] - 2s 16ms/step - loss: 0.1071 - acc: 0.9685 - val_loss: 0.2421 - val_acc: 0.9030\n",
      "Epoch 26/30\n",
      "100/100 [==============================] - 2s 16ms/step - loss: 0.1061 - acc: 0.9630 - val_loss: 0.2410 - val_acc: 0.9040\n",
      "Epoch 27/30\n",
      "100/100 [==============================] - 2s 16ms/step - loss: 0.1003 - acc: 0.9665 - val_loss: 0.2464 - val_acc: 0.9040\n",
      "Epoch 28/30\n",
      "100/100 [==============================] - 2s 16ms/step - loss: 0.0929 - acc: 0.9725 - val_loss: 0.2384 - val_acc: 0.9020\n",
      "Epoch 29/30\n",
      "100/100 [==============================] - 2s 16ms/step - loss: 0.0927 - acc: 0.9730 - val_loss: 0.2617 - val_acc: 0.8990\n",
      "Epoch 30/30\n",
      "100/100 [==============================] - 2s 16ms/step - loss: 0.0850 - acc: 0.9740 - val_loss: 0.2437 - val_acc: 0.9030\n"
     ]
    }
   ],
   "source": [
    "from tensorflow.keras import models\n",
    "from tensorflow.keras import layers\n",
    "from tensorflow.keras import optimizers\n",
    "model = models.Sequential()\n",
    "model.add(layers.Dense(256, activation='relu', input_dim=4 * 4 * 512))\n",
    "model.add(layers.Dropout(0.5))\n",
    "model.add(layers.Dense(1, activation='sigmoid'))\n",
    "model.compile(optimizer=optimizers.RMSprop(lr=2e-5),\n",
    "    loss='binary_crossentropy',\n",
    "    metrics=['acc'])\n",
    "history = model.fit(train_features, train_labels,\n",
    "epochs=30,\n",
    "batch_size=20,\n",
    "validation_data=(validation_features, validation_labels))"
   ]
  },
  {
   "cell_type": "markdown",
   "metadata": {},
   "source": [
    "# Listing 5.19 Plotting the results"
   ]
  },
  {
   "cell_type": "code",
   "execution_count": 6,
   "metadata": {},
   "outputs": [
    {
     "data": {
      "image/png": "[encoded data removed]",
      "text/plain": [
       "<Figure size 432x288 with 1 Axes>"
      ]
     },
     "metadata": {
      "needs_background": "light"
     },
     "output_type": "display_data"
    },
    {
     "data": {
      "image/png": "[encoded data removed]",
      "text/plain": [
       "<Figure size 432x288 with 1 Axes>"
      ]
     },
     "metadata": {
      "needs_background": "light"
     },
     "output_type": "display_data"
    }
   ],
   "source": [
    "import matplotlib.pyplot as plt\n",
    "acc = history.history['acc']\n",
    "val_acc = history.history['val_acc']\n",
    "loss = history.history['loss']\n",
    "val_loss = history.history['val_loss']\n",
    "epochs = range(1, len(acc) + 1)\n",
    "plt.plot(epochs, acc, 'bo', label='Training acc')\n",
    "plt.plot(epochs, val_acc, 'b', label='Validation acc')\n",
    "plt.title('Training and validation accuracy')\n",
    "plt.legend()\n",
    "plt.figure()\n",
    "plt.plot(epochs, loss, 'bo', label='Training loss')\n",
    "plt.plot(epochs, val_loss, 'b', label='Validation loss')\n",
    "plt.title('Training and validation loss')\n",
    "plt.legend()\n",
    "plt.show()"
   ]
  },
  {
   "cell_type": "markdown",
   "metadata": {},
   "source": [
    "# Listing 5.20 Adding a densely connected classifier on top of the convolutional base"
   ]
  },
  {
   "cell_type": "code",
   "execution_count": 7,
   "metadata": {},
   "outputs": [],
   "source": [
    "from tensorflow.keras import models\n",
    "from tensorflow.keras import layers\n",
    "model = models.Sequential()\n",
    "model.add(conv_base)\n",
    "model.add(layers.Flatten())\n",
    "model.add(layers.Dense(256, activation='relu'))\n",
    "model.add(layers.Dense(1, activation='sigmoid'))"
   ]
  },
  {
   "cell_type": "code",
   "execution_count": 8,
   "metadata": {},
   "outputs": [
    {
     "name": "stdout",
     "output_type": "stream",
     "text": [
      "This is the number of trainable weights before freezing the conv base: 30\n"
     ]
    }
   ],
   "source": [
    "print('This is the number of trainable weights before freezing the conv base:', len(model.trainable_weights))"
   ]
  },
  {
   "cell_type": "code",
   "execution_count": 9,
   "metadata": {},
   "outputs": [],
   "source": [
    "conv_base.trainable = False"
   ]
  },
  {
   "cell_type": "code",
   "execution_count": 10,
   "metadata": {},
   "outputs": [
    {
     "name": "stdout",
     "output_type": "stream",
     "text": [
      "This is the number of trainable weights after freezing the conv base: 4\n"
     ]
    }
   ],
   "source": [
    " print('This is the number of trainable weights after freezing the conv base:', len(model.trainable_weights))"
   ]
  },
  {
   "cell_type": "markdown",
   "metadata": {},
   "source": [
    "# Listing 5.21 Training the model end to end with a frozen convolutional base"
   ]
  },
  {
   "cell_type": "code",
   "execution_count": 11,
   "metadata": {
    "scrolled": true
   },
   "outputs": [
    {
     "name": "stdout",
     "output_type": "stream",
     "text": [
      "Found 2000 images belonging to 2 classes.\n",
      "Found 1000 images belonging to 2 classes.\n",
      "WARNING:tensorflow:From <ipython-input-11-524c67be24d4>:26: Model.fit_generator (from tensorflow.python.keras.engine.training) is deprecated and will be removed in a future version.\n",
      "Instructions for updating:\n",
      "Please use Model.fit, which supports generators.\n",
      "Epoch 1/30\n",
      "100/100 [==============================] - 128s 1s/step - loss: 0.6025 - acc: 0.6815 - val_loss: 0.4652 - val_acc: 0.8160\n",
      "Epoch 2/30\n",
      "100/100 [==============================] - 127s 1s/step - loss: 0.4827 - acc: 0.7830 - val_loss: 0.3810 - val_acc: 0.8460\n",
      "Epoch 3/30\n",
      "100/100 [==============================] - 128s 1s/step - loss: 0.4341 - acc: 0.8080 - val_loss: 0.3516 - val_acc: 0.8580\n",
      "Epoch 4/30\n",
      "100/100 [==============================] - 128s 1s/step - loss: 0.3987 - acc: 0.8230 - val_loss: 0.3090 - val_acc: 0.8760\n",
      "Epoch 5/30\n",
      "100/100 [==============================] - 128s 1s/step - loss: 0.3748 - acc: 0.8355 - val_loss: 0.2938 - val_acc: 0.8760\n",
      "Epoch 6/30\n",
      "100/100 [==============================] - 128s 1s/step - loss: 0.3587 - acc: 0.8485 - val_loss: 0.2826 - val_acc: 0.8840\n",
      "Epoch 7/30\n",
      "100/100 [==============================] - 129s 1s/step - loss: 0.3614 - acc: 0.8435 - val_loss: 0.2777 - val_acc: 0.8880\n",
      "Epoch 8/30\n",
      "100/100 [==============================] - 128s 1s/step - loss: 0.3510 - acc: 0.8440 - val_loss: 0.2751 - val_acc: 0.8840\n",
      "Epoch 9/30\n",
      "100/100 [==============================] - 128s 1s/step - loss: 0.3555 - acc: 0.8390 - val_loss: 0.2634 - val_acc: 0.8880\n",
      "Epoch 10/30\n",
      "100/100 [==============================] - 129s 1s/step - loss: 0.3359 - acc: 0.8605 - val_loss: 0.2574 - val_acc: 0.8920\n",
      "Epoch 11/30\n",
      "100/100 [==============================] - 128s 1s/step - loss: 0.3313 - acc: 0.8555 - val_loss: 0.2687 - val_acc: 0.8840\n",
      "Epoch 12/30\n",
      "100/100 [==============================] - 128s 1s/step - loss: 0.3278 - acc: 0.8635 - val_loss: 0.2538 - val_acc: 0.8970\n",
      "Epoch 13/30\n",
      "100/100 [==============================] - 129s 1s/step - loss: 0.3097 - acc: 0.8670 - val_loss: 0.2560 - val_acc: 0.8890\n",
      "Epoch 14/30\n",
      "100/100 [==============================] - 129s 1s/step - loss: 0.3109 - acc: 0.8630 - val_loss: 0.2532 - val_acc: 0.8940\n",
      "Epoch 15/30\n",
      "100/100 [==============================] - 128s 1s/step - loss: 0.3103 - acc: 0.8690 - val_loss: 0.2507 - val_acc: 0.8920\n",
      "Epoch 16/30\n",
      "100/100 [==============================] - 128s 1s/step - loss: 0.3153 - acc: 0.8645 - val_loss: 0.2453 - val_acc: 0.8960\n",
      "Epoch 17/30\n",
      "100/100 [==============================] - 129s 1s/step - loss: 0.3216 - acc: 0.8570 - val_loss: 0.2489 - val_acc: 0.8970\n",
      "Epoch 18/30\n",
      "100/100 [==============================] - 127s 1s/step - loss: 0.3024 - acc: 0.8690 - val_loss: 0.2475 - val_acc: 0.8960\n",
      "Epoch 19/30\n",
      "100/100 [==============================] - 128s 1s/step - loss: 0.3037 - acc: 0.8715 - val_loss: 0.2403 - val_acc: 0.9030\n",
      "Epoch 20/30\n",
      "100/100 [==============================] - 128s 1s/step - loss: 0.3042 - acc: 0.8725 - val_loss: 0.2549 - val_acc: 0.8950\n",
      "Epoch 21/30\n",
      "100/100 [==============================] - 128s 1s/step - loss: 0.2923 - acc: 0.8745 - val_loss: 0.2458 - val_acc: 0.8990\n",
      "Epoch 22/30\n",
      "100/100 [==============================] - 128s 1s/step - loss: 0.3003 - acc: 0.8655 - val_loss: 0.2431 - val_acc: 0.8970\n",
      "Epoch 23/30\n",
      "100/100 [==============================] - 128s 1s/step - loss: 0.2837 - acc: 0.8700 - val_loss: 0.2467 - val_acc: 0.8970\n",
      "Epoch 24/30\n",
      "100/100 [==============================] - 128s 1s/step - loss: 0.2949 - acc: 0.8610 - val_loss: 0.2362 - val_acc: 0.9030\n",
      "Epoch 25/30\n",
      "100/100 [==============================] - 128s 1s/step - loss: 0.2801 - acc: 0.8835 - val_loss: 0.2641 - val_acc: 0.8890\n",
      "Epoch 26/30\n",
      "100/100 [==============================] - 129s 1s/step - loss: 0.2796 - acc: 0.8740 - val_loss: 0.2417 - val_acc: 0.9030\n",
      "Epoch 27/30\n",
      "100/100 [==============================] - 128s 1s/step - loss: 0.2856 - acc: 0.8755 - val_loss: 0.2381 - val_acc: 0.9020\n",
      "Epoch 28/30\n",
      "100/100 [==============================] - 128s 1s/step - loss: 0.2754 - acc: 0.8775 - val_loss: 0.2398 - val_acc: 0.9020\n",
      "Epoch 29/30\n",
      "100/100 [==============================] - 129s 1s/step - loss: 0.2867 - acc: 0.8685 - val_loss: 0.2379 - val_acc: 0.9030\n",
      "Epoch 30/30\n",
      "100/100 [==============================] - 128s 1s/step - loss: 0.2634 - acc: 0.8915 - val_loss: 0.2327 - val_acc: 0.9070\n"
     ]
    }
   ],
   "source": [
    "from tensorflow.keras.preprocessing.image import ImageDataGenerator\n",
    "from tensorflow.keras import optimizers\n",
    "train_datagen = ImageDataGenerator(\n",
    "    rescale=1./255,\n",
    "    rotation_range=40,\n",
    "    width_shift_range=0.2,\n",
    "    height_shift_range=0.2,\n",
    "    shear_range=0.2,\n",
    "    zoom_range=0.2,\n",
    "    horizontal_flip=True,\n",
    "    fill_mode='nearest')\n",
    "test_datagen = ImageDataGenerator(rescale=1./255)\n",
    "train_generator = train_datagen.flow_from_directory(\n",
    "    train_dir,\n",
    "    target_size=(150, 150),\n",
    "    batch_size=20,\n",
    "    class_mode='binary')\n",
    "validation_generator = test_datagen.flow_from_directory(\n",
    "    validation_dir,\n",
    "    target_size=(150, 150),\n",
    "    batch_size=20,\n",
    "    class_mode='binary')\n",
    "model.compile(loss='binary_crossentropy',\n",
    "    optimizer=optimizers.RMSprop(lr=2e-5),\n",
    "    metrics=['acc'])\n",
    "history = model.fit_generator(\n",
    "    train_generator,\n",
    "    steps_per_epoch=100,\n",
    "    epochs=30,\n",
    "    validation_data=validation_generator,\n",
    "    validation_steps=50)\n"
   ]
  },
  {
   "cell_type": "code",
   "execution_count": 12,
   "metadata": {},
   "outputs": [
    {
     "data": {
      "image/png": "[encoded data removed]",
      "text/plain": [
       "<Figure size 432x288 with 1 Axes>"
      ]
     },
     "metadata": {
      "needs_background": "light"
     },
     "output_type": "display_data"
    },
    {
     "data": {
      "image/png": "[encoded data removed]",
      "text/plain": [
       "<Figure size 432x288 with 1 Axes>"
      ]
     },
     "metadata": {
      "needs_background": "light"
     },
     "output_type": "display_data"
    }
   ],
   "source": [
    "import matplotlib.pyplot as plt\n",
    "acc = history.history['acc']\n",
    "val_acc = history.history['val_acc']\n",
    "loss = history.history['loss']\n",
    "val_loss = history.history['val_loss']\n",
    "epochs = range(1, len(acc) + 1)\n",
    "plt.plot(epochs, acc, 'bo', label='Training acc')\n",
    "plt.plot(epochs, val_acc, 'b', label='Validation acc')\n",
    "plt.title('Training and validation accuracy')\n",
    "plt.legend()\n",
    "plt.figure()\n",
    "plt.plot(epochs, loss, 'bo', label='Training loss')\n",
    "plt.plot(epochs, val_loss, 'b', label='Validation loss')\n",
    "plt.title('Training and validation loss')\n",
    "plt.legend()\n",
    "plt.show()"
   ]
  },
  {
   "cell_type": "markdown",
   "metadata": {},
   "source": [
    "# As a reminder, this is what your convolutional base looks like:"
   ]
  },
  {
   "cell_type": "code",
   "execution_count": 13,
   "metadata": {},
   "outputs": [
    {
     "name": "stdout",
     "output_type": "stream",
     "text": [
      "Model: \"vgg16\"\n",
      "_________________________________________________________________\n",
      "Layer (type)                 Output Shape              Param #   \n",
      "=================================================================\n",
      "input_1 (InputLayer)         [(None, 150, 150, 3)]     0         \n",
      "_________________________________________________________________\n",
      "block1_conv1 (Conv2D)        (None, 150, 150, 64)      1792      \n",
      "_________________________________________________________________\n",
      "block1_conv2 (Conv2D)        (None, 150, 150, 64)      36928     \n",
      "_________________________________________________________________\n",
      "block1_pool (MaxPooling2D)   (None, 75, 75, 64)        0         \n",
      "_________________________________________________________________\n",
      "block2_conv1 (Conv2D)        (None, 75, 75, 128)       73856     \n",
      "_________________________________________________________________\n",
      "block2_conv2 (Conv2D)        (None, 75, 75, 128)       147584    \n",
      "_________________________________________________________________\n",
      "block2_pool (MaxPooling2D)   (None, 37, 37, 128)       0         \n",
      "_________________________________________________________________\n",
      "block3_conv1 (Conv2D)        (None, 37, 37, 256)       295168    \n",
      "_________________________________________________________________\n",
      "block3_conv2 (Conv2D)        (None, 37, 37, 256)       590080    \n",
      "_________________________________________________________________\n",
      "block3_conv3 (Conv2D)        (None, 37, 37, 256)       590080    \n",
      "_________________________________________________________________\n",
      "block3_pool (MaxPooling2D)   (None, 18, 18, 256)       0         \n",
      "_________________________________________________________________\n",
      "block4_conv1 (Conv2D)        (None, 18, 18, 512)       1180160   \n",
      "_________________________________________________________________\n",
      "block4_conv2 (Conv2D)        (None, 18, 18, 512)       2359808   \n",
      "_________________________________________________________________\n",
      "block4_conv3 (Conv2D)        (None, 18, 18, 512)       2359808   \n",
      "_________________________________________________________________\n",
      "block4_pool (MaxPooling2D)   (None, 9, 9, 512)         0         \n",
      "_________________________________________________________________\n",
      "block5_conv1 (Conv2D)        (None, 9, 9, 512)         2359808   \n",
      "_________________________________________________________________\n",
      "block5_conv2 (Conv2D)        (None, 9, 9, 512)         2359808   \n",
      "_________________________________________________________________\n",
      "block5_conv3 (Conv2D)        (None, 9, 9, 512)         2359808   \n",
      "_________________________________________________________________\n",
      "block5_pool (MaxPooling2D)   (None, 4, 4, 512)         0         \n",
      "=================================================================\n",
      "Total params: 14,714,688\n",
      "Trainable params: 0\n",
      "Non-trainable params: 14,714,688\n",
      "_________________________________________________________________\n"
     ]
    }
   ],
   "source": [
    " conv_base.summary()"
   ]
  },
  {
   "cell_type": "markdown",
   "metadata": {},
   "source": [
    "# Listing 5.22 Freezing all layers up to a specific on"
   ]
  },
  {
   "cell_type": "code",
   "execution_count": 14,
   "metadata": {},
   "outputs": [],
   "source": [
    "conv_base.trainable = True\n",
    "set_trainable = False\n",
    "for layer in conv_base.layers:\n",
    "    if layer.name == 'block5_conv1':\n",
    "        set_trainable = True\n",
    "    if set_trainable:\n",
    "        layer.trainable = True\n",
    "    else:\n",
    "        layer.trainable = False"
   ]
  },
  {
   "cell_type": "markdown",
   "metadata": {},
   "source": [
    "# Listing 5.23 Fine-tuning the model"
   ]
  },
  {
   "cell_type": "code",
   "execution_count": 15,
   "metadata": {},
   "outputs": [
    {
     "name": "stdout",
     "output_type": "stream",
     "text": [
      "Epoch 1/100\n",
      "100/100 [==============================] - 153s 2s/step - loss: 0.2931 - acc: 0.8670 - val_loss: 0.2287 - val_acc: 0.9130\n",
      "Epoch 2/100\n",
      "100/100 [==============================] - 151s 2s/step - loss: 0.2494 - acc: 0.8860 - val_loss: 0.2425 - val_acc: 0.9050\n",
      "Epoch 3/100\n",
      "100/100 [==============================] - 153s 2s/step - loss: 0.2266 - acc: 0.9030 - val_loss: 0.1953 - val_acc: 0.9200\n",
      "Epoch 4/100\n",
      "100/100 [==============================] - 154s 2s/step - loss: 0.2281 - acc: 0.9055 - val_loss: 0.1944 - val_acc: 0.9220\n",
      "Epoch 5/100\n",
      "100/100 [==============================] - 156s 2s/step - loss: 0.2189 - acc: 0.9085 - val_loss: 0.2023 - val_acc: 0.9230\n",
      "Epoch 6/100\n",
      "100/100 [==============================] - 154s 2s/step - loss: 0.1841 - acc: 0.9240 - val_loss: 0.2068 - val_acc: 0.9190\n",
      "Epoch 7/100\n",
      "100/100 [==============================] - 154s 2s/step - loss: 0.1863 - acc: 0.9210 - val_loss: 0.1978 - val_acc: 0.9250\n",
      "Epoch 8/100\n",
      "100/100 [==============================] - 156s 2s/step - loss: 0.1739 - acc: 0.9315 - val_loss: 0.1874 - val_acc: 0.9270\n",
      "Epoch 9/100\n",
      "100/100 [==============================] - 154s 2s/step - loss: 0.1697 - acc: 0.9240 - val_loss: 0.1981 - val_acc: 0.9240\n",
      "Epoch 10/100\n",
      "100/100 [==============================] - 153s 2s/step - loss: 0.1518 - acc: 0.9505 - val_loss: 0.2045 - val_acc: 0.9250\n",
      "Epoch 11/100\n",
      "100/100 [==============================] - 156s 2s/step - loss: 0.1513 - acc: 0.9395 - val_loss: 0.1836 - val_acc: 0.9300\n",
      "Epoch 12/100\n",
      "100/100 [==============================] - 154s 2s/step - loss: 0.1388 - acc: 0.9495 - val_loss: 0.2012 - val_acc: 0.9270\n",
      "Epoch 13/100\n",
      "100/100 [==============================] - 151s 2s/step - loss: 0.1397 - acc: 0.9470 - val_loss: 0.1884 - val_acc: 0.9320\n",
      "Epoch 14/100\n",
      "100/100 [==============================] - 152s 2s/step - loss: 0.1352 - acc: 0.9490 - val_loss: 0.2040 - val_acc: 0.9210\n",
      "Epoch 15/100\n",
      "100/100 [==============================] - 150s 2s/step - loss: 0.1165 - acc: 0.9520 - val_loss: 0.2084 - val_acc: 0.9270\n",
      "Epoch 16/100\n",
      "100/100 [==============================] - 149s 1s/step - loss: 0.1083 - acc: 0.9595 - val_loss: 0.2098 - val_acc: 0.9280\n",
      "Epoch 17/100\n",
      "100/100 [==============================] - 150s 2s/step - loss: 0.0990 - acc: 0.9645 - val_loss: 0.2010 - val_acc: 0.9300\n",
      "Epoch 18/100\n",
      "100/100 [==============================] - 154s 2s/step - loss: 0.1159 - acc: 0.9585 - val_loss: 0.1872 - val_acc: 0.9330\n",
      "Epoch 19/100\n",
      "100/100 [==============================] - 152s 2s/step - loss: 0.1104 - acc: 0.9620 - val_loss: 0.2027 - val_acc: 0.9360\n",
      "Epoch 20/100\n",
      "100/100 [==============================] - 152s 2s/step - loss: 0.0919 - acc: 0.9630 - val_loss: 0.1911 - val_acc: 0.9300\n",
      "Epoch 21/100\n",
      "100/100 [==============================] - 151s 2s/step - loss: 0.0946 - acc: 0.9635 - val_loss: 0.1958 - val_acc: 0.9290\n",
      "Epoch 22/100\n",
      "100/100 [==============================] - 152s 2s/step - loss: 0.0873 - acc: 0.9665 - val_loss: 0.2032 - val_acc: 0.9280\n",
      "Epoch 23/100\n",
      "100/100 [==============================] - 149s 1s/step - loss: 0.0873 - acc: 0.9730 - val_loss: 0.1853 - val_acc: 0.9330\n",
      "Epoch 24/100\n",
      "100/100 [==============================] - 150s 1s/step - loss: 0.0812 - acc: 0.9685 - val_loss: 0.2755 - val_acc: 0.9170\n",
      "Epoch 25/100\n",
      "100/100 [==============================] - 3517s 35s/step - loss: 0.0831 - acc: 0.9690 - val_loss: 0.1767 - val_acc: 0.9370\n",
      "Epoch 26/100\n",
      "100/100 [==============================] - 154s 2s/step - loss: 0.0704 - acc: 0.9730 - val_loss: 0.1930 - val_acc: 0.9340\n",
      "Epoch 27/100\n",
      "100/100 [==============================] - 153s 2s/step - loss: 0.0709 - acc: 0.9745 - val_loss: 0.2233 - val_acc: 0.9300\n",
      "Epoch 28/100\n",
      "100/100 [==============================] - 152s 2s/step - loss: 0.0831 - acc: 0.9675 - val_loss: 0.1916 - val_acc: 0.9340\n",
      "Epoch 29/100\n",
      "100/100 [==============================] - 154s 2s/step - loss: 0.0713 - acc: 0.9770 - val_loss: 0.1914 - val_acc: 0.9340\n",
      "Epoch 30/100\n",
      "100/100 [==============================] - 153s 2s/step - loss: 0.0675 - acc: 0.9725 - val_loss: 0.2102 - val_acc: 0.9340\n",
      "Epoch 31/100\n",
      "100/100 [==============================] - 153s 2s/step - loss: 0.0666 - acc: 0.9770 - val_loss: 0.1879 - val_acc: 0.9390\n",
      "Epoch 32/100\n",
      "100/100 [==============================] - 158s 2s/step - loss: 0.0545 - acc: 0.9835 - val_loss: 0.3036 - val_acc: 0.9130\n",
      "Epoch 33/100\n",
      "100/100 [==============================] - 156s 2s/step - loss: 0.0714 - acc: 0.9750 - val_loss: 0.2225 - val_acc: 0.9310\n",
      "Epoch 34/100\n",
      "100/100 [==============================] - 152s 2s/step - loss: 0.0581 - acc: 0.9785 - val_loss: 0.2475 - val_acc: 0.9240\n",
      "Epoch 35/100\n",
      "100/100 [==============================] - 150s 2s/step - loss: 0.0608 - acc: 0.9760 - val_loss: 0.2509 - val_acc: 0.9290\n",
      "Epoch 36/100\n",
      "100/100 [==============================] - 152s 2s/step - loss: 0.0589 - acc: 0.9775 - val_loss: 0.3007 - val_acc: 0.9200\n",
      "Epoch 37/100\n",
      "100/100 [==============================] - 152s 2s/step - loss: 0.0525 - acc: 0.9795 - val_loss: 0.3215 - val_acc: 0.9130\n",
      "Epoch 38/100\n",
      "100/100 [==============================] - 160s 2s/step - loss: 0.0517 - acc: 0.9775 - val_loss: 0.2277 - val_acc: 0.9310\n",
      "Epoch 39/100\n",
      "100/100 [==============================] - 157s 2s/step - loss: 0.0567 - acc: 0.9775 - val_loss: 0.2065 - val_acc: 0.9370\n",
      "Epoch 40/100\n",
      "100/100 [==============================] - 148s 1s/step - loss: 0.0555 - acc: 0.9810 - val_loss: 0.1864 - val_acc: 0.9380\n",
      "Epoch 41/100\n",
      "100/100 [==============================] - 153s 2s/step - loss: 0.0437 - acc: 0.9810 - val_loss: 0.2096 - val_acc: 0.9360\n",
      "Epoch 42/100\n",
      "100/100 [==============================] - 161s 2s/step - loss: 0.0491 - acc: 0.9820 - val_loss: 0.1751 - val_acc: 0.9420\n",
      "Epoch 43/100\n",
      "100/100 [==============================] - 150s 1s/step - loss: 0.0474 - acc: 0.9840 - val_loss: 0.2118 - val_acc: 0.9370\n",
      "Epoch 44/100\n",
      "100/100 [==============================] - 147s 1s/step - loss: 0.0403 - acc: 0.9875 - val_loss: 0.2249 - val_acc: 0.9280\n",
      "Epoch 45/100\n",
      "100/100 [==============================] - 146s 1s/step - loss: 0.0379 - acc: 0.9850 - val_loss: 0.2465 - val_acc: 0.9340\n",
      "Epoch 46/100\n",
      "100/100 [==============================] - 149s 1s/step - loss: 0.0494 - acc: 0.9850 - val_loss: 0.2085 - val_acc: 0.9370\n",
      "Epoch 47/100\n",
      "100/100 [==============================] - 147s 1s/step - loss: 0.0484 - acc: 0.9825 - val_loss: 0.2325 - val_acc: 0.9380\n",
      "Epoch 48/100\n",
      "100/100 [==============================] - 148s 1s/step - loss: 0.0384 - acc: 0.9855 - val_loss: 0.2312 - val_acc: 0.9360\n",
      "Epoch 49/100\n",
      "100/100 [==============================] - 147s 1s/step - loss: 0.0380 - acc: 0.9870 - val_loss: 0.2308 - val_acc: 0.9360\n",
      "Epoch 50/100\n",
      "100/100 [==============================] - 147s 1s/step - loss: 0.0421 - acc: 0.9845 - val_loss: 0.2259 - val_acc: 0.9390\n",
      "Epoch 51/100\n",
      "100/100 [==============================] - 148s 1s/step - loss: 0.0437 - acc: 0.9850 - val_loss: 0.2327 - val_acc: 0.9330\n",
      "Epoch 52/100\n",
      "100/100 [==============================] - 151s 2s/step - loss: 0.0387 - acc: 0.9850 - val_loss: 0.2748 - val_acc: 0.9320\n",
      "Epoch 53/100\n",
      "100/100 [==============================] - 159s 2s/step - loss: 0.0352 - acc: 0.9870 - val_loss: 0.3103 - val_acc: 0.9260\n",
      "Epoch 54/100\n",
      "100/100 [==============================] - 173s 2s/step - loss: 0.0377 - acc: 0.9865 - val_loss: 0.2199 - val_acc: 0.9330\n",
      "Epoch 55/100\n",
      "100/100 [==============================] - 165s 2s/step - loss: 0.0395 - acc: 0.9845 - val_loss: 0.2636 - val_acc: 0.9400\n",
      "Epoch 56/100\n",
      "100/100 [==============================] - 166s 2s/step - loss: 0.0267 - acc: 0.9905 - val_loss: 0.4220 - val_acc: 0.9120\n",
      "Epoch 57/100\n",
      "100/100 [==============================] - 167s 2s/step - loss: 0.0329 - acc: 0.9880 - val_loss: 0.3253 - val_acc: 0.9200\n",
      "Epoch 58/100\n",
      "100/100 [==============================] - 151s 2s/step - loss: 0.0271 - acc: 0.9900 - val_loss: 0.2617 - val_acc: 0.9350\n",
      "Epoch 59/100\n",
      "100/100 [==============================] - 145s 1s/step - loss: 0.0295 - acc: 0.9895 - val_loss: 0.2995 - val_acc: 0.9330\n",
      "Epoch 60/100\n",
      "100/100 [==============================] - 144s 1s/step - loss: 0.0348 - acc: 0.9885 - val_loss: 0.2229 - val_acc: 0.9450\n",
      "Epoch 61/100\n",
      "100/100 [==============================] - 145s 1s/step - loss: 0.0298 - acc: 0.9900 - val_loss: 0.3240 - val_acc: 0.9310\n"
     ]
    },
    {
     "name": "stdout",
     "output_type": "stream",
     "text": [
      "Epoch 62/100\n",
      "100/100 [==============================] - 145s 1s/step - loss: 0.0373 - acc: 0.9880 - val_loss: 0.2944 - val_acc: 0.9350\n",
      "Epoch 63/100\n",
      "100/100 [==============================] - 145s 1s/step - loss: 0.0310 - acc: 0.9870 - val_loss: 0.2696 - val_acc: 0.9430\n",
      "Epoch 64/100\n",
      "100/100 [==============================] - 145s 1s/step - loss: 0.0261 - acc: 0.9915 - val_loss: 0.2607 - val_acc: 0.9370\n",
      "Epoch 65/100\n",
      "100/100 [==============================] - 145s 1s/step - loss: 0.0279 - acc: 0.9910 - val_loss: 0.2736 - val_acc: 0.9370\n",
      "Epoch 66/100\n",
      "100/100 [==============================] - 145s 1s/step - loss: 0.0275 - acc: 0.9875 - val_loss: 0.3915 - val_acc: 0.9130\n",
      "Epoch 67/100\n",
      "100/100 [==============================] - 3027s 30s/step - loss: 0.0313 - acc: 0.9870 - val_loss: 0.2684 - val_acc: 0.9330\n",
      "Epoch 68/100\n",
      "100/100 [==============================] - 148s 1s/step - loss: 0.0280 - acc: 0.9925 - val_loss: 0.2866 - val_acc: 0.9290\n",
      "Epoch 69/100\n",
      "100/100 [==============================] - 151s 2s/step - loss: 0.0334 - acc: 0.9890 - val_loss: 0.2415 - val_acc: 0.9380\n",
      "Epoch 70/100\n",
      "100/100 [==============================] - 154s 2s/step - loss: 0.0275 - acc: 0.9915 - val_loss: 0.2466 - val_acc: 0.9400\n",
      "Epoch 71/100\n",
      "100/100 [==============================] - 161s 2s/step - loss: 0.0290 - acc: 0.9900 - val_loss: 0.2279 - val_acc: 0.9400\n",
      "Epoch 72/100\n",
      "100/100 [==============================] - 190s 2s/step - loss: 0.0374 - acc: 0.9875 - val_loss: 0.2432 - val_acc: 0.9400\n",
      "Epoch 73/100\n",
      "100/100 [==============================] - 197s 2s/step - loss: 0.0336 - acc: 0.9885 - val_loss: 0.2184 - val_acc: 0.9480\n",
      "Epoch 74/100\n",
      "100/100 [==============================] - 174s 2s/step - loss: 0.0228 - acc: 0.9915 - val_loss: 0.2410 - val_acc: 0.9410\n",
      "Epoch 75/100\n",
      "100/100 [==============================] - 172s 2s/step - loss: 0.0221 - acc: 0.9940 - val_loss: 0.2508 - val_acc: 0.9350\n",
      "Epoch 76/100\n",
      "100/100 [==============================] - 177s 2s/step - loss: 0.0279 - acc: 0.9885 - val_loss: 0.2343 - val_acc: 0.9430\n",
      "Epoch 77/100\n",
      "100/100 [==============================] - 174s 2s/step - loss: 0.0273 - acc: 0.9895 - val_loss: 0.2894 - val_acc: 0.9370\n",
      "Epoch 78/100\n",
      "100/100 [==============================] - 171s 2s/step - loss: 0.0228 - acc: 0.9925 - val_loss: 0.2506 - val_acc: 0.9420\n",
      "Epoch 79/100\n",
      "100/100 [==============================] - 169s 2s/step - loss: 0.0185 - acc: 0.9940 - val_loss: 0.2460 - val_acc: 0.9370\n",
      "Epoch 80/100\n",
      "100/100 [==============================] - 172s 2s/step - loss: 0.0233 - acc: 0.9895 - val_loss: 0.2746 - val_acc: 0.9390\n",
      "Epoch 81/100\n",
      "100/100 [==============================] - 168s 2s/step - loss: 0.0261 - acc: 0.9875 - val_loss: 0.2493 - val_acc: 0.9380\n",
      "Epoch 82/100\n",
      "100/100 [==============================] - 153s 2s/step - loss: 0.0193 - acc: 0.9950 - val_loss: 0.2570 - val_acc: 0.9380\n",
      "Epoch 83/100\n",
      "100/100 [==============================] - 155s 2s/step - loss: 0.0345 - acc: 0.9855 - val_loss: 0.2650 - val_acc: 0.9410\n",
      "Epoch 84/100\n",
      "100/100 [==============================] - 155s 2s/step - loss: 0.0170 - acc: 0.9955 - val_loss: 0.2348 - val_acc: 0.9490\n",
      "Epoch 85/100\n",
      "100/100 [==============================] - 156s 2s/step - loss: 0.0236 - acc: 0.9910 - val_loss: 0.2644 - val_acc: 0.9420\n",
      "Epoch 86/100\n",
      "100/100 [==============================] - 159s 2s/step - loss: 0.0234 - acc: 0.9925 - val_loss: 0.3377 - val_acc: 0.9340\n",
      "Epoch 87/100\n",
      "100/100 [==============================] - 194s 2s/step - loss: 0.0284 - acc: 0.9910 - val_loss: 0.2610 - val_acc: 0.9380\n",
      "Epoch 88/100\n",
      "100/100 [==============================] - 192s 2s/step - loss: 0.0284 - acc: 0.9890 - val_loss: 0.2258 - val_acc: 0.9410\n",
      "Epoch 89/100\n",
      "100/100 [==============================] - 170s 2s/step - loss: 0.0199 - acc: 0.9925 - val_loss: 0.3511 - val_acc: 0.9340\n",
      "Epoch 90/100\n",
      "100/100 [==============================] - 176s 2s/step - loss: 0.0214 - acc: 0.9930 - val_loss: 0.2529 - val_acc: 0.9410\n",
      "Epoch 91/100\n",
      "100/100 [==============================] - 162s 2s/step - loss: 0.0131 - acc: 0.9955 - val_loss: 0.3534 - val_acc: 0.9310\n",
      "Epoch 92/100\n",
      "100/100 [==============================] - 158s 2s/step - loss: 0.0149 - acc: 0.9945 - val_loss: 0.2525 - val_acc: 0.9440\n",
      "Epoch 93/100\n",
      "100/100 [==============================] - 153s 2s/step - loss: 0.0157 - acc: 0.9960 - val_loss: 0.3258 - val_acc: 0.9340\n",
      "Epoch 94/100\n",
      "100/100 [==============================] - 154s 2s/step - loss: 0.0217 - acc: 0.9930 - val_loss: 0.3009 - val_acc: 0.9360\n",
      "Epoch 95/100\n",
      "100/100 [==============================] - 151s 2s/step - loss: 0.0284 - acc: 0.9865 - val_loss: 0.2736 - val_acc: 0.9390\n",
      "Epoch 96/100\n",
      "100/100 [==============================] - 156s 2s/step - loss: 0.0194 - acc: 0.9930 - val_loss: 0.2730 - val_acc: 0.9380\n",
      "Epoch 97/100\n",
      "100/100 [==============================] - 156s 2s/step - loss: 0.0198 - acc: 0.9915 - val_loss: 0.3258 - val_acc: 0.9340\n",
      "Epoch 98/100\n",
      "100/100 [==============================] - 174s 2s/step - loss: 0.0132 - acc: 0.9965 - val_loss: 0.2851 - val_acc: 0.9370\n",
      "Epoch 99/100\n",
      "100/100 [==============================] - 179s 2s/step - loss: 0.0191 - acc: 0.9930 - val_loss: 0.3140 - val_acc: 0.9350\n",
      "Epoch 100/100\n",
      "100/100 [==============================] - 179s 2s/step - loss: 0.0150 - acc: 0.9950 - val_loss: 0.2920 - val_acc: 0.9370\n"
     ]
    }
   ],
   "source": [
    "model.compile(loss='binary_crossentropy',\n",
    "    optimizer=optimizers.RMSprop(lr=1e-5),\n",
    "    metrics=['acc'])\n",
    "history = model.fit_generator(\n",
    "    train_generator,\n",
    "    steps_per_epoch=100,\n",
    "    epochs=100,\n",
    "    validation_data=validation_generator,\n",
    "    validation_steps=50)"
   ]
  },
  {
   "cell_type": "code",
   "execution_count": 16,
   "metadata": {},
   "outputs": [
    {
     "data": {
      "image/png": "[encoded data removed]",
      "text/plain": [
       "<Figure size 432x288 with 1 Axes>"
      ]
     },
     "metadata": {
      "needs_background": "light"
     },
     "output_type": "display_data"
    },
    {
     "data": {
      "image/png": "[encoded data removed]",
      "text/plain": [
       "<Figure size 432x288 with 1 Axes>"
      ]
     },
     "metadata": {
      "needs_background": "light"
     },
     "output_type": "display_data"
    }
   ],
   "source": [
    "import matplotlib.pyplot as plt\n",
    "acc = history.history['acc']\n",
    "val_acc = history.history['val_acc']\n",
    "loss = history.history['loss']\n",
    "val_loss = history.history['val_loss']\n",
    "epochs = range(1, len(acc) + 1)\n",
    "plt.plot(epochs, acc, 'bo', label='Training acc')\n",
    "plt.plot(epochs, val_acc, 'b', label='Validation acc')\n",
    "plt.title('Training and validation accuracy')\n",
    "plt.legend()\n",
    "plt.figure()\n",
    "plt.plot(epochs, loss, 'bo', label='Training loss')\n",
    "plt.plot(epochs, val_loss, 'b', label='Validation loss')\n",
    "plt.title('Training and validation loss')\n",
    "plt.legend()\n",
    "plt.show()"
   ]
  },
  {
   "cell_type": "markdown",
   "metadata": {},
   "source": [
    "# Listing 5.24 Smoothing the plots"
   ]
  },
  {
   "cell_type": "code",
   "execution_count": 17,
   "metadata": {},
   "outputs": [
    {
     "data": {
      "text/plain": [
       "<matplotlib.legend.Legend at 0x1f1386b6c10>"
      ]
     },
     "execution_count": 17,
     "metadata": {},
     "output_type": "execute_result"
    },
    {
     "data": {
      "image/png": "[encoded data removed]",
      "text/plain": [
       "<Figure size 432x288 with 1 Axes>"
      ]
     },
     "metadata": {
      "needs_background": "light"
     },
     "output_type": "display_data"
    },
    {
     "data": {
      "image/png": "[encoded data removed]",
      "text/plain": [
       "<Figure size 432x288 with 1 Axes>"
      ]
     },
     "metadata": {
      "needs_background": "light"
     },
     "output_type": "display_data"
    }
   ],
   "source": [
    "def smooth_curve(points, factor=0.8):\n",
    "    smoothed_points = []\n",
    "    for point in points:\n",
    "        if smoothed_points:\n",
    "            previous = smoothed_points[-1]\n",
    "            smoothed_points.append(previous * factor + point * (1 - factor))\n",
    "        else:\n",
    "            smoothed_points.append(point)\n",
    "    return smoothed_points\n",
    "plt.plot(epochs,\n",
    "    smooth_curve(acc), 'bo', label='Smoothed training acc')\n",
    "plt.plot(epochs,\n",
    "    smooth_curve(val_acc), 'b', label='Smoothed validation acc')\n",
    "plt.title('Training and validation accuracy')\n",
    "plt.legend()\n",
    "plt.figure()\n",
    "plt.plot(epochs,\n",
    "    smooth_curve(loss), 'bo', label='Smoothed training loss')\n",
    "plt.plot(epochs,\n",
    "    smooth_curve(val_loss), 'b', label='Smoothed validation loss')\n",
    "plt.title('Training and validation loss')\n",
    "plt.legend()"
   ]
  },
  {
   "cell_type": "code",
   "execution_count": 18,
   "metadata": {},
   "outputs": [
    {
     "name": "stdout",
     "output_type": "stream",
     "text": [
      "Found 1000 images belonging to 2 classes.\n",
      "WARNING:tensorflow:From <ipython-input-18-d4b3f01ce44d>:6: Model.evaluate_generator (from tensorflow.python.keras.engine.training) is deprecated and will be removed in a future version.\n",
      "Instructions for updating:\n",
      "Please use Model.evaluate, which supports generators.\n",
      "test acc: 0.9430000185966492\n"
     ]
    }
   ],
   "source": [
    "test_generator = test_datagen.flow_from_directory(\n",
    "    test_dir,\n",
    "    target_size=(150, 150),\n",
    "    batch_size=20,\n",
    "    class_mode='binary')\n",
    "test_loss, test_acc = model.evaluate_generator(test_generator, steps=50)\n",
    "print('test acc:', test_acc)"
   ]
  },
  {
   "cell_type": "code",
   "execution_count": null,
   "metadata": {},
   "outputs": [],
   "source": []
  }
 ],
 "metadata": {
  "kernelspec": {
   "display_name": "Python 3",
   "language": "python",
   "name": "python3"
  },
  "language_info": {
   "codemirror_mode": {
    "name": "ipython",
    "version": 3
   },
   "file_extension": ".py",
   "mimetype": "text/x-python",
   "name": "python",
   "nbconvert_exporter": "python",
   "pygments_lexer": "ipython3",
   "version": "3.8.8"
  }
 },
 "nbformat": 4,
 "nbformat_minor": 4
}
