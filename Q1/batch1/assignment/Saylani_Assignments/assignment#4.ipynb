{
 "cells": [
  {
   "cell_type": "code",
   "execution_count": 9,
   "metadata": {},
   "outputs": [
    {
     "name": "stdout",
     "output_type": "stream",
     "text": [
      "first_name Sameer\n",
      "first_name Zohaib\n",
      "first_name Faisal\n",
      "first_name Malik\n",
      "\n",
      "\n",
      "last_name Ahmed\n",
      "last_name Ahmed\n",
      "last_name Hussain\n",
      "last_name Usama\n",
      "\n",
      "\n",
      "age 21\n",
      "age 20\n",
      "age 24\n",
      "age 22\n",
      "\n",
      "\n",
      "city karachi\n",
      "city lahore\n",
      "city islamabad\n",
      "city faislabad\n",
      "\n",
      "\n",
      "{'first_name': ['Sameer', 'Zohaib', 'Faisal', 'Malik'], 'last_name': ['Ahmed', 'Ahmed', 'Hussain', 'Usama'], 'age': [21, 20, 24, 22], 'city': ['karachi', 'lahore', 'islamabad', 'faislabad'], 'Qualification': ['Batchlour', 'Matric', 'Intermediat', 'Matric']}\n",
      "\n",
      "\n",
      "{'first_name': ['Sameer', 'Zohaib', 'Faisal', 'Malik'], 'last_name': ['Ahmed', 'Ahmed', 'Hussain', 'Usama'], 'age': [21, 20, 24, 22], 'city': ['karachi', 'lahore', 'islamabad', 'faislabad']}\n"
     ]
    }
   ],
   "source": [
    "first_name = [\"Sameer\",\"Zohaib\",\"Faisal\",\"Malik\"]\n",
    "last_name = [\"Ahmed\",\"Ahmed\",\"Hussain\",\"Usama\"]\n",
    "age = [21,20,24,22]\n",
    "city = [\"karachi\",'lahore','islamabad','faislabad']\n",
    "\n",
    "dic = {\"first_name\":first_name,\"last_name\":last_name,\"age\":age,\"city\":city}\n",
    "\n",
    "for key,values in dic.items():\n",
    "    for value in values:\n",
    "        print(key,value)\n",
    "    print(\"\\n\")    \n",
    "\n",
    "dic[\"Qualification\"] = [\"Batchlour\",\"Matric\",\"Intermediat\",\"Matric\"]\n",
    "print(dic)\n",
    "print(\"\\n\")\n",
    "del dic[\"Qualification\"]\n",
    "print(dic)"
   ]
  },
  {
   "cell_type": "code",
   "execution_count": 16,
   "metadata": {},
   "outputs": [
    {
     "name": "stdout",
     "output_type": "stream",
     "text": [
      "The citiy name is Karachi, Country = Pakistan\n",
      "The citiy name is Karachi, population = 15 million\n",
      "The citiy name is Karachi, facts = bussiness hub of pakistan\n",
      "\n",
      "\n",
      "The citiy name is New York, Country = United States\n",
      "The citiy name is New York, population = 8.623 million\n",
      "The citiy name is New York, facts = more then 800 launguages are spoken\n",
      "\n",
      "\n",
      "The citiy name is Riyadh, Country = Saudi Arabia\n",
      "The citiy name is Riyadh, population = 5.188 million\n",
      "The citiy name is Riyadh, facts = Riyadh mean garden or meadows\n",
      "\n",
      "\n"
     ]
    }
   ],
   "source": [
    "cities = {\n",
    "    \"Karachi\":{\"Country\":\"Pakistan\",\"population\":\"15 million\",\"facts\":\"bussiness hub of pakistan\"},\n",
    "    \"New York\":{\"Country\":\"United States\",\"population\":\"8.623 million\",\"facts\":'more then 800 launguages are spoken'}\n",
    "    ,\"Riyadh\":{\"Country\":\"Saudi Arabia\",\"population\":\"5.188 million\",\"facts\":\"Riyadh mean garden or meadows\"}}\n",
    "\n",
    "for city,info in cities.items():\n",
    "    for key,value in info.items():\n",
    "        print(f\"The citiy name is {city}, {key} = {value}\")\n",
    "    print(\"\\n\")    "
   ]
  },
  {
   "cell_type": "code",
   "execution_count": 19,
   "metadata": {},
   "outputs": [
    {
     "name": "stdout",
     "output_type": "stream",
     "text": [
      "Please Enter Your age : 16\n",
      "Your Ticket = $15 \n"
     ]
    }
   ],
   "source": [
    "age = int(input(\"Please Enter Your age : \"))\n",
    "if age <=3:\n",
    "    print(\"Your Tickert is free.\")\n",
    "    \n",
    "elif age >3 and age <12:\n",
    "    print(\"Your Ticket = $10 \")\n",
    "\n",
    "elif age>12:\n",
    "    print(\"Your Ticket = $15 \")\n",
    "else:\n",
    "    print(\"Enter proper Age \")\n",
    "\n"
   ]
  },
  {
   "cell_type": "code",
   "execution_count": 22,
   "metadata": {},
   "outputs": [
    {
     "name": "stdout",
     "output_type": "stream",
     "text": [
      "Enter Your favorite book: alice in wonderland\n",
      "One of my favorite books is alice in wonderland\n"
     ]
    }
   ],
   "source": [
    "def favorite_book(title):\n",
    "    print(f\"One of my favorite books is {title}\")\n",
    "\n",
    "x = input(\"Enter Your favorite book: \")\n",
    "favorite_book(x)\n",
    "    "
   ]
  },
  {
   "cell_type": "code",
   "execution_count": 32,
   "metadata": {},
   "outputs": [
    {
     "name": "stdout",
     "output_type": "stream",
     "text": [
      "Enter The guess Number : 3\n",
      "Think Greater Number\n",
      "Your Ramining Chances = 2 \n",
      "Enter The guess Number : 2\n",
      "Think Greater Number\n",
      "Your Ramining Chances = 1 \n",
      "Enter The guess Number : 3\n",
      "Think Greater Number\n",
      "Your Ramining Chances = 0 \n"
     ]
    }
   ],
   "source": [
    "import random\n",
    "num = random.randint(1,10)\n",
    "\n",
    "for i in range(4,1,-1):\n",
    "    guess_num = int(input(\"Enter The guess Number : \"))\n",
    "    if guess_num == num:\n",
    "        print(\"Correct Answer\")\n",
    "    elif num<guess_num:\n",
    "        print(\"Think less Number\")\n",
    "    else:\n",
    "        print(\"Think Greater Number\")\n",
    "    print(f\"Your Ramining Chances = {i-2} \")    \n",
    "        \n",
    "\n",
    "    \n"
   ]
  },
  {
   "cell_type": "code",
   "execution_count": null,
   "metadata": {},
   "outputs": [],
   "source": []
  }
 ],
 "metadata": {
  "kernelspec": {
   "display_name": "Python 3",
   "language": "python",
   "name": "python3"
  },
  "language_info": {
   "codemirror_mode": {
    "name": "ipython",
    "version": 3
   },
   "file_extension": ".py",
   "mimetype": "text/x-python",
   "name": "python",
   "nbconvert_exporter": "python",
   "pygments_lexer": "ipython3",
   "version": "3.7.1"
  }
 },
 "nbformat": 4,
 "nbformat_minor": 2
}
