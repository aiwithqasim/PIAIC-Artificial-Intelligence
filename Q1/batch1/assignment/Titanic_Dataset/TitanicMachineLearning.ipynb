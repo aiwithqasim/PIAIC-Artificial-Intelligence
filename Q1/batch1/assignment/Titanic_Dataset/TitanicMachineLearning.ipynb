{
  "nbformat": 4,
  "nbformat_minor": 0,
  "metadata": {
    "colab": {
      "name": "TitanicMachineLearning.ipynb",
      "provenance": [],
      "collapsed_sections": [],
      "toc_visible": true,
      "authorship_tag": "ABX9TyPJ+7R9qunkPccJFaPLK3Wo",
      "include_colab_link": true
    },
    "kernelspec": {
      "name": "python3",
      "display_name": "Python 3"
    }
  },
  "cells": [
    {
      "cell_type": "markdown",
      "metadata": {
        "id": "view-in-github",
        "colab_type": "text"
      },
      "source": [
        "<a href=\"https://colab.research.google.com/github/Sameer-Ahmed7/Deep_learning_Practice/blob/TitanicML/TitanicMachineLearning.ipynb\" target=\"_parent\"><img src=\"https://colab.research.google.com/assets/colab-badge.svg\" alt=\"Open In Colab\"/></a>"
      ]
    },
    {
      "cell_type": "code",
      "metadata": {
        "id": "45yL1l5BSssz",
        "colab_type": "code",
        "colab": {}
      },
      "source": [
        "#!pip install tensorflow --upgrade      "
      ],
      "execution_count": 0,
      "outputs": []
    },
    {
      "cell_type": "code",
      "metadata": {
        "id": "9PnIzSuNS4MO",
        "colab_type": "code",
        "colab": {}
      },
      "source": [
        "import tensorflow as tf\n",
        "import pandas as pd\n",
        "import numpy as np\n",
        "import matplotlib.pyplot as plt"
      ],
      "execution_count": 0,
      "outputs": []
    },
    {
      "cell_type": "code",
      "metadata": {
        "id": "T5LaxMiNTvcr",
        "colab_type": "code",
        "outputId": "f68d7d2f-ff59-470a-81c6-f2487e53dbd3",
        "colab": {
          "base_uri": "https://localhost:8080/",
          "height": 34
        }
      },
      "source": [
        "tf.__version__"
      ],
      "execution_count": 3,
      "outputs": [
        {
          "output_type": "execute_result",
          "data": {
            "text/plain": [
              "'2.1.0'"
            ]
          },
          "metadata": {
            "tags": []
          },
          "execution_count": 3
        }
      ]
    },
    {
      "cell_type": "code",
      "metadata": {
        "id": "xHQ9i7Y2duBq",
        "colab_type": "code",
        "colab": {}
      },
      "source": [
        "\n"
      ],
      "execution_count": 0,
      "outputs": []
    },
    {
      "cell_type": "markdown",
      "metadata": {
        "id": "EKz-5GEOdugg",
        "colab_type": "text"
      },
      "source": [
        "# Prepared Test data"
      ]
    },
    {
      "cell_type": "code",
      "metadata": {
        "id": "YhcVsCFSTx2X",
        "colab_type": "code",
        "colab": {}
      },
      "source": [
        "dfTest = pd.read_csv(\"test.csv\")"
      ],
      "execution_count": 0,
      "outputs": []
    },
    {
      "cell_type": "code",
      "metadata": {
        "id": "AIiMcOCIUID8",
        "colab_type": "code",
        "outputId": "28a68746-1d08-404f-f50e-52bfb74541ea",
        "colab": {
          "base_uri": "https://localhost:8080/",
          "height": 221
        }
      },
      "source": [
        "dfTest.head()"
      ],
      "execution_count": 5,
      "outputs": [
        {
          "output_type": "execute_result",
          "data": {
            "text/html": [
              "<div>\n",
              "<style scoped>\n",
              "    .dataframe tbody tr th:only-of-type {\n",
              "        vertical-align: middle;\n",
              "    }\n",
              "\n",
              "    .dataframe tbody tr th {\n",
              "        vertical-align: top;\n",
              "    }\n",
              "\n",
              "    .dataframe thead th {\n",
              "        text-align: right;\n",
              "    }\n",
              "</style>\n",
              "<table border=\"1\" class=\"dataframe\">\n",
              "  <thead>\n",
              "    <tr style=\"text-align: right;\">\n",
              "      <th></th>\n",
              "      <th>PassengerId</th>\n",
              "      <th>Pclass</th>\n",
              "      <th>Name</th>\n",
              "      <th>Sex</th>\n",
              "      <th>Age</th>\n",
              "      <th>SibSp</th>\n",
              "      <th>Parch</th>\n",
              "      <th>Ticket</th>\n",
              "      <th>Fare</th>\n",
              "      <th>Cabin</th>\n",
              "      <th>Embarked</th>\n",
              "    </tr>\n",
              "  </thead>\n",
              "  <tbody>\n",
              "    <tr>\n",
              "      <th>0</th>\n",
              "      <td>892</td>\n",
              "      <td>3</td>\n",
              "      <td>Kelly, Mr. James</td>\n",
              "      <td>male</td>\n",
              "      <td>34.5</td>\n",
              "      <td>0</td>\n",
              "      <td>0</td>\n",
              "      <td>330911</td>\n",
              "      <td>7.8292</td>\n",
              "      <td>NaN</td>\n",
              "      <td>Q</td>\n",
              "    </tr>\n",
              "    <tr>\n",
              "      <th>1</th>\n",
              "      <td>893</td>\n",
              "      <td>3</td>\n",
              "      <td>Wilkes, Mrs. James (Ellen Needs)</td>\n",
              "      <td>female</td>\n",
              "      <td>47.0</td>\n",
              "      <td>1</td>\n",
              "      <td>0</td>\n",
              "      <td>363272</td>\n",
              "      <td>7.0000</td>\n",
              "      <td>NaN</td>\n",
              "      <td>S</td>\n",
              "    </tr>\n",
              "    <tr>\n",
              "      <th>2</th>\n",
              "      <td>894</td>\n",
              "      <td>2</td>\n",
              "      <td>Myles, Mr. Thomas Francis</td>\n",
              "      <td>male</td>\n",
              "      <td>62.0</td>\n",
              "      <td>0</td>\n",
              "      <td>0</td>\n",
              "      <td>240276</td>\n",
              "      <td>9.6875</td>\n",
              "      <td>NaN</td>\n",
              "      <td>Q</td>\n",
              "    </tr>\n",
              "    <tr>\n",
              "      <th>3</th>\n",
              "      <td>895</td>\n",
              "      <td>3</td>\n",
              "      <td>Wirz, Mr. Albert</td>\n",
              "      <td>male</td>\n",
              "      <td>27.0</td>\n",
              "      <td>0</td>\n",
              "      <td>0</td>\n",
              "      <td>315154</td>\n",
              "      <td>8.6625</td>\n",
              "      <td>NaN</td>\n",
              "      <td>S</td>\n",
              "    </tr>\n",
              "    <tr>\n",
              "      <th>4</th>\n",
              "      <td>896</td>\n",
              "      <td>3</td>\n",
              "      <td>Hirvonen, Mrs. Alexander (Helga E Lindqvist)</td>\n",
              "      <td>female</td>\n",
              "      <td>22.0</td>\n",
              "      <td>1</td>\n",
              "      <td>1</td>\n",
              "      <td>3101298</td>\n",
              "      <td>12.2875</td>\n",
              "      <td>NaN</td>\n",
              "      <td>S</td>\n",
              "    </tr>\n",
              "  </tbody>\n",
              "</table>\n",
              "</div>"
            ],
            "text/plain": [
              "   PassengerId  Pclass  ... Cabin Embarked\n",
              "0          892       3  ...   NaN        Q\n",
              "1          893       3  ...   NaN        S\n",
              "2          894       2  ...   NaN        Q\n",
              "3          895       3  ...   NaN        S\n",
              "4          896       3  ...   NaN        S\n",
              "\n",
              "[5 rows x 11 columns]"
            ]
          },
          "metadata": {
            "tags": []
          },
          "execution_count": 5
        }
      ]
    },
    {
      "cell_type": "code",
      "metadata": {
        "id": "Ign4NSocUq59",
        "colab_type": "code",
        "outputId": "a867ac32-7400-4a77-afa2-d17e6ab55ecc",
        "colab": {
          "base_uri": "https://localhost:8080/",
          "height": 297
        }
      },
      "source": [
        "dfTest.describe()"
      ],
      "execution_count": 6,
      "outputs": [
        {
          "output_type": "execute_result",
          "data": {
            "text/html": [
              "<div>\n",
              "<style scoped>\n",
              "    .dataframe tbody tr th:only-of-type {\n",
              "        vertical-align: middle;\n",
              "    }\n",
              "\n",
              "    .dataframe tbody tr th {\n",
              "        vertical-align: top;\n",
              "    }\n",
              "\n",
              "    .dataframe thead th {\n",
              "        text-align: right;\n",
              "    }\n",
              "</style>\n",
              "<table border=\"1\" class=\"dataframe\">\n",
              "  <thead>\n",
              "    <tr style=\"text-align: right;\">\n",
              "      <th></th>\n",
              "      <th>PassengerId</th>\n",
              "      <th>Pclass</th>\n",
              "      <th>Age</th>\n",
              "      <th>SibSp</th>\n",
              "      <th>Parch</th>\n",
              "      <th>Fare</th>\n",
              "    </tr>\n",
              "  </thead>\n",
              "  <tbody>\n",
              "    <tr>\n",
              "      <th>count</th>\n",
              "      <td>418.000000</td>\n",
              "      <td>418.000000</td>\n",
              "      <td>332.000000</td>\n",
              "      <td>418.000000</td>\n",
              "      <td>418.000000</td>\n",
              "      <td>417.000000</td>\n",
              "    </tr>\n",
              "    <tr>\n",
              "      <th>mean</th>\n",
              "      <td>1100.500000</td>\n",
              "      <td>2.265550</td>\n",
              "      <td>30.272590</td>\n",
              "      <td>0.447368</td>\n",
              "      <td>0.392344</td>\n",
              "      <td>35.627188</td>\n",
              "    </tr>\n",
              "    <tr>\n",
              "      <th>std</th>\n",
              "      <td>120.810458</td>\n",
              "      <td>0.841838</td>\n",
              "      <td>14.181209</td>\n",
              "      <td>0.896760</td>\n",
              "      <td>0.981429</td>\n",
              "      <td>55.907576</td>\n",
              "    </tr>\n",
              "    <tr>\n",
              "      <th>min</th>\n",
              "      <td>892.000000</td>\n",
              "      <td>1.000000</td>\n",
              "      <td>0.170000</td>\n",
              "      <td>0.000000</td>\n",
              "      <td>0.000000</td>\n",
              "      <td>0.000000</td>\n",
              "    </tr>\n",
              "    <tr>\n",
              "      <th>25%</th>\n",
              "      <td>996.250000</td>\n",
              "      <td>1.000000</td>\n",
              "      <td>21.000000</td>\n",
              "      <td>0.000000</td>\n",
              "      <td>0.000000</td>\n",
              "      <td>7.895800</td>\n",
              "    </tr>\n",
              "    <tr>\n",
              "      <th>50%</th>\n",
              "      <td>1100.500000</td>\n",
              "      <td>3.000000</td>\n",
              "      <td>27.000000</td>\n",
              "      <td>0.000000</td>\n",
              "      <td>0.000000</td>\n",
              "      <td>14.454200</td>\n",
              "    </tr>\n",
              "    <tr>\n",
              "      <th>75%</th>\n",
              "      <td>1204.750000</td>\n",
              "      <td>3.000000</td>\n",
              "      <td>39.000000</td>\n",
              "      <td>1.000000</td>\n",
              "      <td>0.000000</td>\n",
              "      <td>31.500000</td>\n",
              "    </tr>\n",
              "    <tr>\n",
              "      <th>max</th>\n",
              "      <td>1309.000000</td>\n",
              "      <td>3.000000</td>\n",
              "      <td>76.000000</td>\n",
              "      <td>8.000000</td>\n",
              "      <td>9.000000</td>\n",
              "      <td>512.329200</td>\n",
              "    </tr>\n",
              "  </tbody>\n",
              "</table>\n",
              "</div>"
            ],
            "text/plain": [
              "       PassengerId      Pclass         Age       SibSp       Parch        Fare\n",
              "count   418.000000  418.000000  332.000000  418.000000  418.000000  417.000000\n",
              "mean   1100.500000    2.265550   30.272590    0.447368    0.392344   35.627188\n",
              "std     120.810458    0.841838   14.181209    0.896760    0.981429   55.907576\n",
              "min     892.000000    1.000000    0.170000    0.000000    0.000000    0.000000\n",
              "25%     996.250000    1.000000   21.000000    0.000000    0.000000    7.895800\n",
              "50%    1100.500000    3.000000   27.000000    0.000000    0.000000   14.454200\n",
              "75%    1204.750000    3.000000   39.000000    1.000000    0.000000   31.500000\n",
              "max    1309.000000    3.000000   76.000000    8.000000    9.000000  512.329200"
            ]
          },
          "metadata": {
            "tags": []
          },
          "execution_count": 6
        }
      ]
    },
    {
      "cell_type": "code",
      "metadata": {
        "id": "nl5HmVHMU-Cl",
        "colab_type": "code",
        "outputId": "4034f6db-48bb-49be-c9a5-571de1f34e8d",
        "colab": {
          "base_uri": "https://localhost:8080/",
          "height": 289
        }
      },
      "source": [
        "dfTest.info()"
      ],
      "execution_count": 7,
      "outputs": [
        {
          "output_type": "stream",
          "text": [
            "<class 'pandas.core.frame.DataFrame'>\n",
            "RangeIndex: 418 entries, 0 to 417\n",
            "Data columns (total 11 columns):\n",
            "PassengerId    418 non-null int64\n",
            "Pclass         418 non-null int64\n",
            "Name           418 non-null object\n",
            "Sex            418 non-null object\n",
            "Age            332 non-null float64\n",
            "SibSp          418 non-null int64\n",
            "Parch          418 non-null int64\n",
            "Ticket         418 non-null object\n",
            "Fare           417 non-null float64\n",
            "Cabin          91 non-null object\n",
            "Embarked       418 non-null object\n",
            "dtypes: float64(2), int64(4), object(5)\n",
            "memory usage: 36.0+ KB\n"
          ],
          "name": "stdout"
        }
      ]
    },
    {
      "cell_type": "code",
      "metadata": {
        "id": "1JkMVj1MVBjU",
        "colab_type": "code",
        "outputId": "11e918df-44e3-4b92-fc41-0e24644a6a1b",
        "colab": {
          "base_uri": "https://localhost:8080/",
          "height": 221
        }
      },
      "source": [
        "dfTest.Age"
      ],
      "execution_count": 8,
      "outputs": [
        {
          "output_type": "execute_result",
          "data": {
            "text/plain": [
              "0      34.5\n",
              "1      47.0\n",
              "2      62.0\n",
              "3      27.0\n",
              "4      22.0\n",
              "       ... \n",
              "413     NaN\n",
              "414    39.0\n",
              "415    38.5\n",
              "416     NaN\n",
              "417     NaN\n",
              "Name: Age, Length: 418, dtype: float64"
            ]
          },
          "metadata": {
            "tags": []
          },
          "execution_count": 8
        }
      ]
    },
    {
      "cell_type": "code",
      "metadata": {
        "id": "LtYtoVxSVOAh",
        "colab_type": "code",
        "colab": {}
      },
      "source": [
        "AgeMeanTest = dfTest.Age.mean()"
      ],
      "execution_count": 0,
      "outputs": []
    },
    {
      "cell_type": "code",
      "metadata": {
        "id": "v7wwS7lBVTol",
        "colab_type": "code",
        "outputId": "5cd2f9e1-12f9-4183-eeb6-3036dceeafa1",
        "colab": {
          "base_uri": "https://localhost:8080/",
          "height": 34
        }
      },
      "source": [
        "AgeMeanTest"
      ],
      "execution_count": 10,
      "outputs": [
        {
          "output_type": "execute_result",
          "data": {
            "text/plain": [
              "30.272590361445783"
            ]
          },
          "metadata": {
            "tags": []
          },
          "execution_count": 10
        }
      ]
    },
    {
      "cell_type": "code",
      "metadata": {
        "id": "k9EIi_uEVbUP",
        "colab_type": "code",
        "colab": {}
      },
      "source": [
        "dfTest.Age.fillna(AgeMeanTest,inplace=True)"
      ],
      "execution_count": 0,
      "outputs": []
    },
    {
      "cell_type": "code",
      "metadata": {
        "id": "2bG62RlBWGnu",
        "colab_type": "code",
        "outputId": "9d766cee-1f99-45c7-c98a-f251f14bc1c9",
        "colab": {
          "base_uri": "https://localhost:8080/",
          "height": 289
        }
      },
      "source": [
        "dfTest.info()"
      ],
      "execution_count": 12,
      "outputs": [
        {
          "output_type": "stream",
          "text": [
            "<class 'pandas.core.frame.DataFrame'>\n",
            "RangeIndex: 418 entries, 0 to 417\n",
            "Data columns (total 11 columns):\n",
            "PassengerId    418 non-null int64\n",
            "Pclass         418 non-null int64\n",
            "Name           418 non-null object\n",
            "Sex            418 non-null object\n",
            "Age            418 non-null float64\n",
            "SibSp          418 non-null int64\n",
            "Parch          418 non-null int64\n",
            "Ticket         418 non-null object\n",
            "Fare           417 non-null float64\n",
            "Cabin          91 non-null object\n",
            "Embarked       418 non-null object\n",
            "dtypes: float64(2), int64(4), object(5)\n",
            "memory usage: 36.0+ KB\n"
          ],
          "name": "stdout"
        }
      ]
    },
    {
      "cell_type": "code",
      "metadata": {
        "id": "ngoDV8fAWKJu",
        "colab_type": "code",
        "outputId": "2fe17f74-5716-4383-c18b-93c33bf35a28",
        "colab": {
          "base_uri": "https://localhost:8080/",
          "height": 68
        }
      },
      "source": [
        "dfTest.columns"
      ],
      "execution_count": 13,
      "outputs": [
        {
          "output_type": "execute_result",
          "data": {
            "text/plain": [
              "Index(['PassengerId', 'Pclass', 'Name', 'Sex', 'Age', 'SibSp', 'Parch',\n",
              "       'Ticket', 'Fare', 'Cabin', 'Embarked'],\n",
              "      dtype='object')"
            ]
          },
          "metadata": {
            "tags": []
          },
          "execution_count": 13
        }
      ]
    },
    {
      "cell_type": "code",
      "metadata": {
        "id": "WkFSmJ3VeR5v",
        "colab_type": "code",
        "colab": {}
      },
      "source": [
        ""
      ],
      "execution_count": 0,
      "outputs": []
    },
    {
      "cell_type": "code",
      "metadata": {
        "id": "zGvmHKG6WW7F",
        "colab_type": "code",
        "colab": {}
      },
      "source": [
        "dfTest.drop([\"PassengerId\",\"Pclass\",\"Name\",\"SibSp\",\"Parch\",\"Ticket\",\"Fare\",\"Cabin\",\"Embarked\"],axis=1,inplace=True)"
      ],
      "execution_count": 0,
      "outputs": []
    },
    {
      "cell_type": "code",
      "metadata": {
        "id": "fINf6GGdW9mb",
        "colab_type": "code",
        "outputId": "23bde3bc-5e3e-4074-9b99-181dc7fd6757",
        "colab": {
          "base_uri": "https://localhost:8080/",
          "height": 204
        }
      },
      "source": [
        "dfTest.head()"
      ],
      "execution_count": 15,
      "outputs": [
        {
          "output_type": "execute_result",
          "data": {
            "text/html": [
              "<div>\n",
              "<style scoped>\n",
              "    .dataframe tbody tr th:only-of-type {\n",
              "        vertical-align: middle;\n",
              "    }\n",
              "\n",
              "    .dataframe tbody tr th {\n",
              "        vertical-align: top;\n",
              "    }\n",
              "\n",
              "    .dataframe thead th {\n",
              "        text-align: right;\n",
              "    }\n",
              "</style>\n",
              "<table border=\"1\" class=\"dataframe\">\n",
              "  <thead>\n",
              "    <tr style=\"text-align: right;\">\n",
              "      <th></th>\n",
              "      <th>Sex</th>\n",
              "      <th>Age</th>\n",
              "    </tr>\n",
              "  </thead>\n",
              "  <tbody>\n",
              "    <tr>\n",
              "      <th>0</th>\n",
              "      <td>male</td>\n",
              "      <td>34.5</td>\n",
              "    </tr>\n",
              "    <tr>\n",
              "      <th>1</th>\n",
              "      <td>female</td>\n",
              "      <td>47.0</td>\n",
              "    </tr>\n",
              "    <tr>\n",
              "      <th>2</th>\n",
              "      <td>male</td>\n",
              "      <td>62.0</td>\n",
              "    </tr>\n",
              "    <tr>\n",
              "      <th>3</th>\n",
              "      <td>male</td>\n",
              "      <td>27.0</td>\n",
              "    </tr>\n",
              "    <tr>\n",
              "      <th>4</th>\n",
              "      <td>female</td>\n",
              "      <td>22.0</td>\n",
              "    </tr>\n",
              "  </tbody>\n",
              "</table>\n",
              "</div>"
            ],
            "text/plain": [
              "      Sex   Age\n",
              "0    male  34.5\n",
              "1  female  47.0\n",
              "2    male  62.0\n",
              "3    male  27.0\n",
              "4  female  22.0"
            ]
          },
          "metadata": {
            "tags": []
          },
          "execution_count": 15
        }
      ]
    },
    {
      "cell_type": "code",
      "metadata": {
        "id": "opEnv5qRXuXg",
        "colab_type": "code",
        "colab": {}
      },
      "source": [
        "dfTest.Age = dfTest.Age.astype(\"int64\")"
      ],
      "execution_count": 0,
      "outputs": []
    },
    {
      "cell_type": "code",
      "metadata": {
        "id": "vGjRtTvTXyka",
        "colab_type": "code",
        "outputId": "9a91afce-cf27-429f-870e-b5a70296e0e0",
        "colab": {
          "base_uri": "https://localhost:8080/",
          "height": 204
        }
      },
      "source": [
        "dfTest.head()"
      ],
      "execution_count": 17,
      "outputs": [
        {
          "output_type": "execute_result",
          "data": {
            "text/html": [
              "<div>\n",
              "<style scoped>\n",
              "    .dataframe tbody tr th:only-of-type {\n",
              "        vertical-align: middle;\n",
              "    }\n",
              "\n",
              "    .dataframe tbody tr th {\n",
              "        vertical-align: top;\n",
              "    }\n",
              "\n",
              "    .dataframe thead th {\n",
              "        text-align: right;\n",
              "    }\n",
              "</style>\n",
              "<table border=\"1\" class=\"dataframe\">\n",
              "  <thead>\n",
              "    <tr style=\"text-align: right;\">\n",
              "      <th></th>\n",
              "      <th>Sex</th>\n",
              "      <th>Age</th>\n",
              "    </tr>\n",
              "  </thead>\n",
              "  <tbody>\n",
              "    <tr>\n",
              "      <th>0</th>\n",
              "      <td>male</td>\n",
              "      <td>34</td>\n",
              "    </tr>\n",
              "    <tr>\n",
              "      <th>1</th>\n",
              "      <td>female</td>\n",
              "      <td>47</td>\n",
              "    </tr>\n",
              "    <tr>\n",
              "      <th>2</th>\n",
              "      <td>male</td>\n",
              "      <td>62</td>\n",
              "    </tr>\n",
              "    <tr>\n",
              "      <th>3</th>\n",
              "      <td>male</td>\n",
              "      <td>27</td>\n",
              "    </tr>\n",
              "    <tr>\n",
              "      <th>4</th>\n",
              "      <td>female</td>\n",
              "      <td>22</td>\n",
              "    </tr>\n",
              "  </tbody>\n",
              "</table>\n",
              "</div>"
            ],
            "text/plain": [
              "      Sex  Age\n",
              "0    male   34\n",
              "1  female   47\n",
              "2    male   62\n",
              "3    male   27\n",
              "4  female   22"
            ]
          },
          "metadata": {
            "tags": []
          },
          "execution_count": 17
        }
      ]
    },
    {
      "cell_type": "code",
      "metadata": {
        "id": "RLzKN9VgabY9",
        "colab_type": "code",
        "colab": {}
      },
      "source": [
        ""
      ],
      "execution_count": 0,
      "outputs": []
    },
    {
      "cell_type": "code",
      "metadata": {
        "id": "-MNTIMzc8Lbx",
        "colab_type": "code",
        "colab": {}
      },
      "source": [
        "df1 = pd.get_dummies(dfTest.Sex)"
      ],
      "execution_count": 0,
      "outputs": []
    },
    {
      "cell_type": "code",
      "metadata": {
        "id": "yPkCiOVH8fsh",
        "colab_type": "code",
        "outputId": "416fa933-699e-45c2-f5d5-8ceb0899d9dd",
        "colab": {
          "base_uri": "https://localhost:8080/",
          "height": 419
        }
      },
      "source": [
        "df1"
      ],
      "execution_count": 19,
      "outputs": [
        {
          "output_type": "execute_result",
          "data": {
            "text/html": [
              "<div>\n",
              "<style scoped>\n",
              "    .dataframe tbody tr th:only-of-type {\n",
              "        vertical-align: middle;\n",
              "    }\n",
              "\n",
              "    .dataframe tbody tr th {\n",
              "        vertical-align: top;\n",
              "    }\n",
              "\n",
              "    .dataframe thead th {\n",
              "        text-align: right;\n",
              "    }\n",
              "</style>\n",
              "<table border=\"1\" class=\"dataframe\">\n",
              "  <thead>\n",
              "    <tr style=\"text-align: right;\">\n",
              "      <th></th>\n",
              "      <th>female</th>\n",
              "      <th>male</th>\n",
              "    </tr>\n",
              "  </thead>\n",
              "  <tbody>\n",
              "    <tr>\n",
              "      <th>0</th>\n",
              "      <td>0</td>\n",
              "      <td>1</td>\n",
              "    </tr>\n",
              "    <tr>\n",
              "      <th>1</th>\n",
              "      <td>1</td>\n",
              "      <td>0</td>\n",
              "    </tr>\n",
              "    <tr>\n",
              "      <th>2</th>\n",
              "      <td>0</td>\n",
              "      <td>1</td>\n",
              "    </tr>\n",
              "    <tr>\n",
              "      <th>3</th>\n",
              "      <td>0</td>\n",
              "      <td>1</td>\n",
              "    </tr>\n",
              "    <tr>\n",
              "      <th>4</th>\n",
              "      <td>1</td>\n",
              "      <td>0</td>\n",
              "    </tr>\n",
              "    <tr>\n",
              "      <th>...</th>\n",
              "      <td>...</td>\n",
              "      <td>...</td>\n",
              "    </tr>\n",
              "    <tr>\n",
              "      <th>413</th>\n",
              "      <td>0</td>\n",
              "      <td>1</td>\n",
              "    </tr>\n",
              "    <tr>\n",
              "      <th>414</th>\n",
              "      <td>1</td>\n",
              "      <td>0</td>\n",
              "    </tr>\n",
              "    <tr>\n",
              "      <th>415</th>\n",
              "      <td>0</td>\n",
              "      <td>1</td>\n",
              "    </tr>\n",
              "    <tr>\n",
              "      <th>416</th>\n",
              "      <td>0</td>\n",
              "      <td>1</td>\n",
              "    </tr>\n",
              "    <tr>\n",
              "      <th>417</th>\n",
              "      <td>0</td>\n",
              "      <td>1</td>\n",
              "    </tr>\n",
              "  </tbody>\n",
              "</table>\n",
              "<p>418 rows × 2 columns</p>\n",
              "</div>"
            ],
            "text/plain": [
              "     female  male\n",
              "0         0     1\n",
              "1         1     0\n",
              "2         0     1\n",
              "3         0     1\n",
              "4         1     0\n",
              "..      ...   ...\n",
              "413       0     1\n",
              "414       1     0\n",
              "415       0     1\n",
              "416       0     1\n",
              "417       0     1\n",
              "\n",
              "[418 rows x 2 columns]"
            ]
          },
          "metadata": {
            "tags": []
          },
          "execution_count": 19
        }
      ]
    },
    {
      "cell_type": "code",
      "metadata": {
        "id": "hPNeMjl98idV",
        "colab_type": "code",
        "colab": {}
      },
      "source": [
        "test_x = pd.concat([dfTest,df1],axis=1)"
      ],
      "execution_count": 0,
      "outputs": []
    },
    {
      "cell_type": "code",
      "metadata": {
        "id": "AudC9oXD9AlR",
        "colab_type": "code",
        "outputId": "0d0a16cb-e1b8-4d5d-963c-703e11c7902a",
        "colab": {
          "base_uri": "https://localhost:8080/",
          "height": 111
        }
      },
      "source": [
        "test_x.head(2)"
      ],
      "execution_count": 21,
      "outputs": [
        {
          "output_type": "execute_result",
          "data": {
            "text/html": [
              "<div>\n",
              "<style scoped>\n",
              "    .dataframe tbody tr th:only-of-type {\n",
              "        vertical-align: middle;\n",
              "    }\n",
              "\n",
              "    .dataframe tbody tr th {\n",
              "        vertical-align: top;\n",
              "    }\n",
              "\n",
              "    .dataframe thead th {\n",
              "        text-align: right;\n",
              "    }\n",
              "</style>\n",
              "<table border=\"1\" class=\"dataframe\">\n",
              "  <thead>\n",
              "    <tr style=\"text-align: right;\">\n",
              "      <th></th>\n",
              "      <th>Sex</th>\n",
              "      <th>Age</th>\n",
              "      <th>female</th>\n",
              "      <th>male</th>\n",
              "    </tr>\n",
              "  </thead>\n",
              "  <tbody>\n",
              "    <tr>\n",
              "      <th>0</th>\n",
              "      <td>male</td>\n",
              "      <td>34</td>\n",
              "      <td>0</td>\n",
              "      <td>1</td>\n",
              "    </tr>\n",
              "    <tr>\n",
              "      <th>1</th>\n",
              "      <td>female</td>\n",
              "      <td>47</td>\n",
              "      <td>1</td>\n",
              "      <td>0</td>\n",
              "    </tr>\n",
              "  </tbody>\n",
              "</table>\n",
              "</div>"
            ],
            "text/plain": [
              "      Sex  Age  female  male\n",
              "0    male   34       0     1\n",
              "1  female   47       1     0"
            ]
          },
          "metadata": {
            "tags": []
          },
          "execution_count": 21
        }
      ]
    },
    {
      "cell_type": "code",
      "metadata": {
        "id": "-d1h1y2E9FR2",
        "colab_type": "code",
        "colab": {}
      },
      "source": [
        "test_x.drop(['Sex'],axis=1,inplace=True)"
      ],
      "execution_count": 0,
      "outputs": []
    },
    {
      "cell_type": "code",
      "metadata": {
        "id": "rcTwWlHb9-Z1",
        "colab_type": "code",
        "outputId": "4715cf6d-f656-4cd9-fad5-c4acb20b19d9",
        "colab": {
          "base_uri": "https://localhost:8080/",
          "height": 111
        }
      },
      "source": [
        "test_x.head(2)"
      ],
      "execution_count": 23,
      "outputs": [
        {
          "output_type": "execute_result",
          "data": {
            "text/html": [
              "<div>\n",
              "<style scoped>\n",
              "    .dataframe tbody tr th:only-of-type {\n",
              "        vertical-align: middle;\n",
              "    }\n",
              "\n",
              "    .dataframe tbody tr th {\n",
              "        vertical-align: top;\n",
              "    }\n",
              "\n",
              "    .dataframe thead th {\n",
              "        text-align: right;\n",
              "    }\n",
              "</style>\n",
              "<table border=\"1\" class=\"dataframe\">\n",
              "  <thead>\n",
              "    <tr style=\"text-align: right;\">\n",
              "      <th></th>\n",
              "      <th>Age</th>\n",
              "      <th>female</th>\n",
              "      <th>male</th>\n",
              "    </tr>\n",
              "  </thead>\n",
              "  <tbody>\n",
              "    <tr>\n",
              "      <th>0</th>\n",
              "      <td>34</td>\n",
              "      <td>0</td>\n",
              "      <td>1</td>\n",
              "    </tr>\n",
              "    <tr>\n",
              "      <th>1</th>\n",
              "      <td>47</td>\n",
              "      <td>1</td>\n",
              "      <td>0</td>\n",
              "    </tr>\n",
              "  </tbody>\n",
              "</table>\n",
              "</div>"
            ],
            "text/plain": [
              "   Age  female  male\n",
              "0   34       0     1\n",
              "1   47       1     0"
            ]
          },
          "metadata": {
            "tags": []
          },
          "execution_count": 23
        }
      ]
    },
    {
      "cell_type": "code",
      "metadata": {
        "id": "O7QR2wVAvVRx",
        "colab_type": "code",
        "colab": {}
      },
      "source": [
        "test_x = test_x.values"
      ],
      "execution_count": 0,
      "outputs": []
    },
    {
      "cell_type": "code",
      "metadata": {
        "id": "ZcSX_g2vvgBG",
        "colab_type": "code",
        "outputId": "823d469a-10fd-4c4f-9aa6-0be3e1c3fac0",
        "colab": {
          "base_uri": "https://localhost:8080/",
          "height": 136
        }
      },
      "source": [
        "test_x"
      ],
      "execution_count": 25,
      "outputs": [
        {
          "output_type": "execute_result",
          "data": {
            "text/plain": [
              "array([[34,  0,  1],\n",
              "       [47,  1,  0],\n",
              "       [62,  0,  1],\n",
              "       ...,\n",
              "       [38,  0,  1],\n",
              "       [30,  0,  1],\n",
              "       [30,  0,  1]])"
            ]
          },
          "metadata": {
            "tags": []
          },
          "execution_count": 25
        }
      ]
    },
    {
      "cell_type": "markdown",
      "metadata": {
        "id": "g0L5euHEee-W",
        "colab_type": "text"
      },
      "source": [
        "# Prepare Train Data Set"
      ]
    },
    {
      "cell_type": "code",
      "metadata": {
        "id": "ZCBETOeJekQi",
        "colab_type": "code",
        "colab": {}
      },
      "source": [
        "dfTrain = pd.read_csv(\"train.csv\")"
      ],
      "execution_count": 0,
      "outputs": []
    },
    {
      "cell_type": "code",
      "metadata": {
        "id": "kvT3lv6TeqxQ",
        "colab_type": "code",
        "outputId": "6354755a-76c1-4059-f021-ddd13d65712e",
        "colab": {
          "base_uri": "https://localhost:8080/",
          "height": 34
        }
      },
      "source": [
        "dfTrain.shape"
      ],
      "execution_count": 27,
      "outputs": [
        {
          "output_type": "execute_result",
          "data": {
            "text/plain": [
              "(891, 12)"
            ]
          },
          "metadata": {
            "tags": []
          },
          "execution_count": 27
        }
      ]
    },
    {
      "cell_type": "code",
      "metadata": {
        "id": "jkhVltPgeunx",
        "colab_type": "code",
        "outputId": "7ac4e1a5-bf2a-491b-895a-28360536d71b",
        "colab": {
          "base_uri": "https://localhost:8080/",
          "height": 145
        }
      },
      "source": [
        "dfTrain.head(2)"
      ],
      "execution_count": 28,
      "outputs": [
        {
          "output_type": "execute_result",
          "data": {
            "text/html": [
              "<div>\n",
              "<style scoped>\n",
              "    .dataframe tbody tr th:only-of-type {\n",
              "        vertical-align: middle;\n",
              "    }\n",
              "\n",
              "    .dataframe tbody tr th {\n",
              "        vertical-align: top;\n",
              "    }\n",
              "\n",
              "    .dataframe thead th {\n",
              "        text-align: right;\n",
              "    }\n",
              "</style>\n",
              "<table border=\"1\" class=\"dataframe\">\n",
              "  <thead>\n",
              "    <tr style=\"text-align: right;\">\n",
              "      <th></th>\n",
              "      <th>PassengerId</th>\n",
              "      <th>Survived</th>\n",
              "      <th>Pclass</th>\n",
              "      <th>Name</th>\n",
              "      <th>Sex</th>\n",
              "      <th>Age</th>\n",
              "      <th>SibSp</th>\n",
              "      <th>Parch</th>\n",
              "      <th>Ticket</th>\n",
              "      <th>Fare</th>\n",
              "      <th>Cabin</th>\n",
              "      <th>Embarked</th>\n",
              "    </tr>\n",
              "  </thead>\n",
              "  <tbody>\n",
              "    <tr>\n",
              "      <th>0</th>\n",
              "      <td>1</td>\n",
              "      <td>0</td>\n",
              "      <td>3</td>\n",
              "      <td>Braund, Mr. Owen Harris</td>\n",
              "      <td>male</td>\n",
              "      <td>22.0</td>\n",
              "      <td>1</td>\n",
              "      <td>0</td>\n",
              "      <td>A/5 21171</td>\n",
              "      <td>7.2500</td>\n",
              "      <td>NaN</td>\n",
              "      <td>S</td>\n",
              "    </tr>\n",
              "    <tr>\n",
              "      <th>1</th>\n",
              "      <td>2</td>\n",
              "      <td>1</td>\n",
              "      <td>1</td>\n",
              "      <td>Cumings, Mrs. John Bradley (Florence Briggs Th...</td>\n",
              "      <td>female</td>\n",
              "      <td>38.0</td>\n",
              "      <td>1</td>\n",
              "      <td>0</td>\n",
              "      <td>PC 17599</td>\n",
              "      <td>71.2833</td>\n",
              "      <td>C85</td>\n",
              "      <td>C</td>\n",
              "    </tr>\n",
              "  </tbody>\n",
              "</table>\n",
              "</div>"
            ],
            "text/plain": [
              "   PassengerId  Survived  Pclass  ...     Fare Cabin  Embarked\n",
              "0            1         0       3  ...   7.2500   NaN         S\n",
              "1            2         1       1  ...  71.2833   C85         C\n",
              "\n",
              "[2 rows x 12 columns]"
            ]
          },
          "metadata": {
            "tags": []
          },
          "execution_count": 28
        }
      ]
    },
    {
      "cell_type": "code",
      "metadata": {
        "id": "BQoUqNsgey-u",
        "colab_type": "code",
        "outputId": "73a4bedf-9030-417d-add1-85802c5535b8",
        "colab": {
          "base_uri": "https://localhost:8080/",
          "height": 306
        }
      },
      "source": [
        "dfTrain.info()"
      ],
      "execution_count": 29,
      "outputs": [
        {
          "output_type": "stream",
          "text": [
            "<class 'pandas.core.frame.DataFrame'>\n",
            "RangeIndex: 891 entries, 0 to 890\n",
            "Data columns (total 12 columns):\n",
            "PassengerId    891 non-null int64\n",
            "Survived       891 non-null int64\n",
            "Pclass         891 non-null int64\n",
            "Name           891 non-null object\n",
            "Sex            891 non-null object\n",
            "Age            714 non-null float64\n",
            "SibSp          891 non-null int64\n",
            "Parch          891 non-null int64\n",
            "Ticket         891 non-null object\n",
            "Fare           891 non-null float64\n",
            "Cabin          204 non-null object\n",
            "Embarked       889 non-null object\n",
            "dtypes: float64(2), int64(5), object(5)\n",
            "memory usage: 83.7+ KB\n"
          ],
          "name": "stdout"
        }
      ]
    },
    {
      "cell_type": "code",
      "metadata": {
        "id": "L7GwjnaFe2ls",
        "colab_type": "code",
        "outputId": "7d093687-2fb1-4efe-cd8d-1eee182ba553",
        "colab": {
          "base_uri": "https://localhost:8080/",
          "height": 297
        }
      },
      "source": [
        "dfTrain.describe()"
      ],
      "execution_count": 30,
      "outputs": [
        {
          "output_type": "execute_result",
          "data": {
            "text/html": [
              "<div>\n",
              "<style scoped>\n",
              "    .dataframe tbody tr th:only-of-type {\n",
              "        vertical-align: middle;\n",
              "    }\n",
              "\n",
              "    .dataframe tbody tr th {\n",
              "        vertical-align: top;\n",
              "    }\n",
              "\n",
              "    .dataframe thead th {\n",
              "        text-align: right;\n",
              "    }\n",
              "</style>\n",
              "<table border=\"1\" class=\"dataframe\">\n",
              "  <thead>\n",
              "    <tr style=\"text-align: right;\">\n",
              "      <th></th>\n",
              "      <th>PassengerId</th>\n",
              "      <th>Survived</th>\n",
              "      <th>Pclass</th>\n",
              "      <th>Age</th>\n",
              "      <th>SibSp</th>\n",
              "      <th>Parch</th>\n",
              "      <th>Fare</th>\n",
              "    </tr>\n",
              "  </thead>\n",
              "  <tbody>\n",
              "    <tr>\n",
              "      <th>count</th>\n",
              "      <td>891.000000</td>\n",
              "      <td>891.000000</td>\n",
              "      <td>891.000000</td>\n",
              "      <td>714.000000</td>\n",
              "      <td>891.000000</td>\n",
              "      <td>891.000000</td>\n",
              "      <td>891.000000</td>\n",
              "    </tr>\n",
              "    <tr>\n",
              "      <th>mean</th>\n",
              "      <td>446.000000</td>\n",
              "      <td>0.383838</td>\n",
              "      <td>2.308642</td>\n",
              "      <td>29.699118</td>\n",
              "      <td>0.523008</td>\n",
              "      <td>0.381594</td>\n",
              "      <td>32.204208</td>\n",
              "    </tr>\n",
              "    <tr>\n",
              "      <th>std</th>\n",
              "      <td>257.353842</td>\n",
              "      <td>0.486592</td>\n",
              "      <td>0.836071</td>\n",
              "      <td>14.526497</td>\n",
              "      <td>1.102743</td>\n",
              "      <td>0.806057</td>\n",
              "      <td>49.693429</td>\n",
              "    </tr>\n",
              "    <tr>\n",
              "      <th>min</th>\n",
              "      <td>1.000000</td>\n",
              "      <td>0.000000</td>\n",
              "      <td>1.000000</td>\n",
              "      <td>0.420000</td>\n",
              "      <td>0.000000</td>\n",
              "      <td>0.000000</td>\n",
              "      <td>0.000000</td>\n",
              "    </tr>\n",
              "    <tr>\n",
              "      <th>25%</th>\n",
              "      <td>223.500000</td>\n",
              "      <td>0.000000</td>\n",
              "      <td>2.000000</td>\n",
              "      <td>20.125000</td>\n",
              "      <td>0.000000</td>\n",
              "      <td>0.000000</td>\n",
              "      <td>7.910400</td>\n",
              "    </tr>\n",
              "    <tr>\n",
              "      <th>50%</th>\n",
              "      <td>446.000000</td>\n",
              "      <td>0.000000</td>\n",
              "      <td>3.000000</td>\n",
              "      <td>28.000000</td>\n",
              "      <td>0.000000</td>\n",
              "      <td>0.000000</td>\n",
              "      <td>14.454200</td>\n",
              "    </tr>\n",
              "    <tr>\n",
              "      <th>75%</th>\n",
              "      <td>668.500000</td>\n",
              "      <td>1.000000</td>\n",
              "      <td>3.000000</td>\n",
              "      <td>38.000000</td>\n",
              "      <td>1.000000</td>\n",
              "      <td>0.000000</td>\n",
              "      <td>31.000000</td>\n",
              "    </tr>\n",
              "    <tr>\n",
              "      <th>max</th>\n",
              "      <td>891.000000</td>\n",
              "      <td>1.000000</td>\n",
              "      <td>3.000000</td>\n",
              "      <td>80.000000</td>\n",
              "      <td>8.000000</td>\n",
              "      <td>6.000000</td>\n",
              "      <td>512.329200</td>\n",
              "    </tr>\n",
              "  </tbody>\n",
              "</table>\n",
              "</div>"
            ],
            "text/plain": [
              "       PassengerId    Survived      Pclass  ...       SibSp       Parch        Fare\n",
              "count   891.000000  891.000000  891.000000  ...  891.000000  891.000000  891.000000\n",
              "mean    446.000000    0.383838    2.308642  ...    0.523008    0.381594   32.204208\n",
              "std     257.353842    0.486592    0.836071  ...    1.102743    0.806057   49.693429\n",
              "min       1.000000    0.000000    1.000000  ...    0.000000    0.000000    0.000000\n",
              "25%     223.500000    0.000000    2.000000  ...    0.000000    0.000000    7.910400\n",
              "50%     446.000000    0.000000    3.000000  ...    0.000000    0.000000   14.454200\n",
              "75%     668.500000    1.000000    3.000000  ...    1.000000    0.000000   31.000000\n",
              "max     891.000000    1.000000    3.000000  ...    8.000000    6.000000  512.329200\n",
              "\n",
              "[8 rows x 7 columns]"
            ]
          },
          "metadata": {
            "tags": []
          },
          "execution_count": 30
        }
      ]
    },
    {
      "cell_type": "code",
      "metadata": {
        "id": "zVK05CZ6e88-",
        "colab_type": "code",
        "colab": {}
      },
      "source": [
        "meanTrain = dfTrain.Age.mean()"
      ],
      "execution_count": 0,
      "outputs": []
    },
    {
      "cell_type": "code",
      "metadata": {
        "id": "x9XES8KDfF1y",
        "colab_type": "code",
        "colab": {}
      },
      "source": [
        "dfTrain.Age.fillna(meanTrain,inplace=True)"
      ],
      "execution_count": 0,
      "outputs": []
    },
    {
      "cell_type": "code",
      "metadata": {
        "id": "IQCbY5EpfSjC",
        "colab_type": "code",
        "outputId": "a7810acc-48cb-40e0-84eb-5c3aca940e1d",
        "colab": {
          "base_uri": "https://localhost:8080/",
          "height": 306
        }
      },
      "source": [
        "dfTrain.info()"
      ],
      "execution_count": 33,
      "outputs": [
        {
          "output_type": "stream",
          "text": [
            "<class 'pandas.core.frame.DataFrame'>\n",
            "RangeIndex: 891 entries, 0 to 890\n",
            "Data columns (total 12 columns):\n",
            "PassengerId    891 non-null int64\n",
            "Survived       891 non-null int64\n",
            "Pclass         891 non-null int64\n",
            "Name           891 non-null object\n",
            "Sex            891 non-null object\n",
            "Age            891 non-null float64\n",
            "SibSp          891 non-null int64\n",
            "Parch          891 non-null int64\n",
            "Ticket         891 non-null object\n",
            "Fare           891 non-null float64\n",
            "Cabin          204 non-null object\n",
            "Embarked       889 non-null object\n",
            "dtypes: float64(2), int64(5), object(5)\n",
            "memory usage: 83.7+ KB\n"
          ],
          "name": "stdout"
        }
      ]
    },
    {
      "cell_type": "code",
      "metadata": {
        "id": "nlR-6uybfVW_",
        "colab_type": "code",
        "colab": {}
      },
      "source": [
        "dfTrain.drop([\"PassengerId\",\"Pclass\",\"Name\",\"SibSp\",\"Parch\",\"Ticket\",\"Fare\",\"Cabin\",\"Embarked\"],axis=1,inplace=True)"
      ],
      "execution_count": 0,
      "outputs": []
    },
    {
      "cell_type": "code",
      "metadata": {
        "id": "HQiytDoafhOs",
        "colab_type": "code",
        "outputId": "867d3bfa-e3f7-4295-ae78-feb0e3a6dc34",
        "colab": {
          "base_uri": "https://localhost:8080/",
          "height": 204
        }
      },
      "source": [
        "dfTrain.head()"
      ],
      "execution_count": 35,
      "outputs": [
        {
          "output_type": "execute_result",
          "data": {
            "text/html": [
              "<div>\n",
              "<style scoped>\n",
              "    .dataframe tbody tr th:only-of-type {\n",
              "        vertical-align: middle;\n",
              "    }\n",
              "\n",
              "    .dataframe tbody tr th {\n",
              "        vertical-align: top;\n",
              "    }\n",
              "\n",
              "    .dataframe thead th {\n",
              "        text-align: right;\n",
              "    }\n",
              "</style>\n",
              "<table border=\"1\" class=\"dataframe\">\n",
              "  <thead>\n",
              "    <tr style=\"text-align: right;\">\n",
              "      <th></th>\n",
              "      <th>Survived</th>\n",
              "      <th>Sex</th>\n",
              "      <th>Age</th>\n",
              "    </tr>\n",
              "  </thead>\n",
              "  <tbody>\n",
              "    <tr>\n",
              "      <th>0</th>\n",
              "      <td>0</td>\n",
              "      <td>male</td>\n",
              "      <td>22.0</td>\n",
              "    </tr>\n",
              "    <tr>\n",
              "      <th>1</th>\n",
              "      <td>1</td>\n",
              "      <td>female</td>\n",
              "      <td>38.0</td>\n",
              "    </tr>\n",
              "    <tr>\n",
              "      <th>2</th>\n",
              "      <td>1</td>\n",
              "      <td>female</td>\n",
              "      <td>26.0</td>\n",
              "    </tr>\n",
              "    <tr>\n",
              "      <th>3</th>\n",
              "      <td>1</td>\n",
              "      <td>female</td>\n",
              "      <td>35.0</td>\n",
              "    </tr>\n",
              "    <tr>\n",
              "      <th>4</th>\n",
              "      <td>0</td>\n",
              "      <td>male</td>\n",
              "      <td>35.0</td>\n",
              "    </tr>\n",
              "  </tbody>\n",
              "</table>\n",
              "</div>"
            ],
            "text/plain": [
              "   Survived     Sex   Age\n",
              "0         0    male  22.0\n",
              "1         1  female  38.0\n",
              "2         1  female  26.0\n",
              "3         1  female  35.0\n",
              "4         0    male  35.0"
            ]
          },
          "metadata": {
            "tags": []
          },
          "execution_count": 35
        }
      ]
    },
    {
      "cell_type": "code",
      "metadata": {
        "id": "F6lyyZ9qgEPe",
        "colab_type": "code",
        "outputId": "5fb5823f-f2c6-4e31-dab1-4394375711bf",
        "colab": {
          "base_uri": "https://localhost:8080/",
          "height": 34
        }
      },
      "source": [
        "dfTrain.shape"
      ],
      "execution_count": 36,
      "outputs": [
        {
          "output_type": "execute_result",
          "data": {
            "text/plain": [
              "(891, 3)"
            ]
          },
          "metadata": {
            "tags": []
          },
          "execution_count": 36
        }
      ]
    },
    {
      "cell_type": "code",
      "metadata": {
        "id": "sEdV3vqagJsE",
        "colab_type": "code",
        "colab": {}
      },
      "source": [
        "dfTrain.Age = dfTrain.Age.astype(\"int64\")"
      ],
      "execution_count": 0,
      "outputs": []
    },
    {
      "cell_type": "code",
      "metadata": {
        "id": "ekNCU8qagRso",
        "colab_type": "code",
        "outputId": "9af9079f-ce2f-4ed8-8e25-82c64b09eecc",
        "colab": {
          "base_uri": "https://localhost:8080/",
          "height": 85
        }
      },
      "source": [
        "dfTrain.dtypes"
      ],
      "execution_count": 38,
      "outputs": [
        {
          "output_type": "execute_result",
          "data": {
            "text/plain": [
              "Survived     int64\n",
              "Sex         object\n",
              "Age          int64\n",
              "dtype: object"
            ]
          },
          "metadata": {
            "tags": []
          },
          "execution_count": 38
        }
      ]
    },
    {
      "cell_type": "code",
      "metadata": {
        "id": "THTlpzvQgVv1",
        "colab_type": "code",
        "colab": {}
      },
      "source": [
        "df3 = dfTrain.iloc[:,1:]"
      ],
      "execution_count": 0,
      "outputs": []
    },
    {
      "cell_type": "code",
      "metadata": {
        "id": "c0wCquXb-d3I",
        "colab_type": "code",
        "colab": {}
      },
      "source": [
        "df4 = pd.get_dummies(df3.Sex)"
      ],
      "execution_count": 0,
      "outputs": []
    },
    {
      "cell_type": "code",
      "metadata": {
        "id": "woIl-tHX-unx",
        "colab_type": "code",
        "colab": {}
      },
      "source": [
        "train_x = pd.concat([df3,df4],axis=1)"
      ],
      "execution_count": 0,
      "outputs": []
    },
    {
      "cell_type": "code",
      "metadata": {
        "id": "TUKoC-sO-5fI",
        "colab_type": "code",
        "colab": {}
      },
      "source": [
        "train_x.drop([\"Sex\"],axis=1,inplace=True)"
      ],
      "execution_count": 0,
      "outputs": []
    },
    {
      "cell_type": "code",
      "metadata": {
        "id": "gbxpLoIlx2S-",
        "colab_type": "code",
        "outputId": "0d72fced-833e-4487-ecbe-a3996a601d8e",
        "colab": {
          "base_uri": "https://localhost:8080/",
          "height": 111
        }
      },
      "source": [
        "train_x.head(2)"
      ],
      "execution_count": 43,
      "outputs": [
        {
          "output_type": "execute_result",
          "data": {
            "text/html": [
              "<div>\n",
              "<style scoped>\n",
              "    .dataframe tbody tr th:only-of-type {\n",
              "        vertical-align: middle;\n",
              "    }\n",
              "\n",
              "    .dataframe tbody tr th {\n",
              "        vertical-align: top;\n",
              "    }\n",
              "\n",
              "    .dataframe thead th {\n",
              "        text-align: right;\n",
              "    }\n",
              "</style>\n",
              "<table border=\"1\" class=\"dataframe\">\n",
              "  <thead>\n",
              "    <tr style=\"text-align: right;\">\n",
              "      <th></th>\n",
              "      <th>Age</th>\n",
              "      <th>female</th>\n",
              "      <th>male</th>\n",
              "    </tr>\n",
              "  </thead>\n",
              "  <tbody>\n",
              "    <tr>\n",
              "      <th>0</th>\n",
              "      <td>22</td>\n",
              "      <td>0</td>\n",
              "      <td>1</td>\n",
              "    </tr>\n",
              "    <tr>\n",
              "      <th>1</th>\n",
              "      <td>38</td>\n",
              "      <td>1</td>\n",
              "      <td>0</td>\n",
              "    </tr>\n",
              "  </tbody>\n",
              "</table>\n",
              "</div>"
            ],
            "text/plain": [
              "   Age  female  male\n",
              "0   22       0     1\n",
              "1   38       1     0"
            ]
          },
          "metadata": {
            "tags": []
          },
          "execution_count": 43
        }
      ]
    },
    {
      "cell_type": "code",
      "metadata": {
        "id": "5MFG6729ySgY",
        "colab_type": "code",
        "colab": {}
      },
      "source": [
        "train_x = train_x.values"
      ],
      "execution_count": 0,
      "outputs": []
    },
    {
      "cell_type": "code",
      "metadata": {
        "id": "SZ4CczkCyXbi",
        "colab_type": "code",
        "outputId": "c1882bb2-7040-4356-e3b4-50f4ecd2a1bf",
        "colab": {
          "base_uri": "https://localhost:8080/",
          "height": 136
        }
      },
      "source": [
        "train_x"
      ],
      "execution_count": 45,
      "outputs": [
        {
          "output_type": "execute_result",
          "data": {
            "text/plain": [
              "array([[22,  0,  1],\n",
              "       [38,  1,  0],\n",
              "       [26,  1,  0],\n",
              "       ...,\n",
              "       [29,  1,  0],\n",
              "       [26,  0,  1],\n",
              "       [32,  0,  1]])"
            ]
          },
          "metadata": {
            "tags": []
          },
          "execution_count": 45
        }
      ]
    },
    {
      "cell_type": "code",
      "metadata": {
        "id": "eH7eovC5gj3H",
        "colab_type": "code",
        "colab": {}
      },
      "source": [
        "train_y = dfTrain.iloc[:,0]"
      ],
      "execution_count": 0,
      "outputs": []
    },
    {
      "cell_type": "code",
      "metadata": {
        "id": "NUYKkujWgqkI",
        "colab_type": "code",
        "outputId": "5abb233d-78ce-4814-93a0-279eca37310b",
        "colab": {
          "base_uri": "https://localhost:8080/",
          "height": 119
        }
      },
      "source": [
        "train_y.head()"
      ],
      "execution_count": 47,
      "outputs": [
        {
          "output_type": "execute_result",
          "data": {
            "text/plain": [
              "0    0\n",
              "1    1\n",
              "2    1\n",
              "3    1\n",
              "4    0\n",
              "Name: Survived, dtype: int64"
            ]
          },
          "metadata": {
            "tags": []
          },
          "execution_count": 47
        }
      ]
    },
    {
      "cell_type": "code",
      "metadata": {
        "id": "yjiNaVrqgsfa",
        "colab_type": "code",
        "outputId": "f4ce0e8c-b300-4f3a-c766-c1a081f6a3d7",
        "colab": {
          "base_uri": "https://localhost:8080/",
          "height": 34
        }
      },
      "source": [
        "train_x.shape,train_y.shape"
      ],
      "execution_count": 48,
      "outputs": [
        {
          "output_type": "execute_result",
          "data": {
            "text/plain": [
              "((891, 3), (891,))"
            ]
          },
          "metadata": {
            "tags": []
          },
          "execution_count": 48
        }
      ]
    },
    {
      "cell_type": "code",
      "metadata": {
        "id": "uncMjLn9yigF",
        "colab_type": "code",
        "outputId": "f4cf881f-2e54-4366-eda0-80e77cd04b1c",
        "colab": {
          "base_uri": "https://localhost:8080/",
          "height": 34
        }
      },
      "source": [
        "test_x.shape"
      ],
      "execution_count": 49,
      "outputs": [
        {
          "output_type": "execute_result",
          "data": {
            "text/plain": [
              "(418, 3)"
            ]
          },
          "metadata": {
            "tags": []
          },
          "execution_count": 49
        }
      ]
    },
    {
      "cell_type": "markdown",
      "metadata": {
        "id": "WUosWtNshdm2",
        "colab_type": "text"
      },
      "source": [
        "# Create Model"
      ]
    },
    {
      "cell_type": "code",
      "metadata": {
        "id": "-uu90pvghhLN",
        "colab_type": "code",
        "colab": {}
      },
      "source": [
        "from tensorflow.keras import models\n",
        "from tensorflow.keras import layers"
      ],
      "execution_count": 0,
      "outputs": []
    },
    {
      "cell_type": "code",
      "metadata": {
        "id": "CBRCwEifiAmI",
        "colab_type": "code",
        "colab": {}
      },
      "source": [
        "def build_model():\n",
        "  model = models.Sequential()\n",
        "  model.add(layers.Dense(100,input_dim = 3,activation=\"relu\"))\n",
        "  model.add(layers.Dense(1,activation=\"sigmoid\"))\n",
        "  model.compile(optimizer='Adam',loss='binary_crossentropy',metrics=['accuracy'])\n",
        "  return model"
      ],
      "execution_count": 0,
      "outputs": []
    },
    {
      "cell_type": "code",
      "metadata": {
        "id": "AADqxg62jpl6",
        "colab_type": "code",
        "colab": {}
      },
      "source": [
        "model = build_model()"
      ],
      "execution_count": 0,
      "outputs": []
    },
    {
      "cell_type": "code",
      "metadata": {
        "id": "tovOMJ9ikQX1",
        "colab_type": "code",
        "outputId": "4341aa9a-471b-4f18-97b7-055763793414",
        "colab": {
          "base_uri": "https://localhost:8080/",
          "height": 34
        }
      },
      "source": [
        "model"
      ],
      "execution_count": 53,
      "outputs": [
        {
          "output_type": "execute_result",
          "data": {
            "text/plain": [
              "<tensorflow.python.keras.engine.sequential.Sequential at 0x7f5e49622898>"
            ]
          },
          "metadata": {
            "tags": []
          },
          "execution_count": 53
        }
      ]
    },
    {
      "cell_type": "code",
      "metadata": {
        "id": "zSg2TjTOk9Pn",
        "colab_type": "code",
        "outputId": "4dd8ebe2-18d9-446d-bd59-c91a9f202eec",
        "colab": {
          "base_uri": "https://localhost:8080/",
          "height": 34
        }
      },
      "source": [
        "print(type(train_x))"
      ],
      "execution_count": 54,
      "outputs": [
        {
          "output_type": "stream",
          "text": [
            "<class 'numpy.ndarray'>\n"
          ],
          "name": "stdout"
        }
      ]
    },
    {
      "cell_type": "code",
      "metadata": {
        "id": "3gmgS68C517b",
        "colab_type": "code",
        "colab": {}
      },
      "source": [
        "train_x = train_x.astype(\"int64\")"
      ],
      "execution_count": 0,
      "outputs": []
    },
    {
      "cell_type": "code",
      "metadata": {
        "id": "_pNlTbntzF_n",
        "colab_type": "code",
        "colab": {}
      },
      "source": [
        "train_y = np.asarray(train_y)"
      ],
      "execution_count": 0,
      "outputs": []
    },
    {
      "cell_type": "code",
      "metadata": {
        "id": "3FaK4nyy7aV3",
        "colab_type": "code",
        "colab": {}
      },
      "source": [
        "train_y = train_y.astype(\"int64\")"
      ],
      "execution_count": 0,
      "outputs": []
    },
    {
      "cell_type": "code",
      "metadata": {
        "id": "Ghi-cM55zf-S",
        "colab_type": "code",
        "outputId": "4b3ef47d-bfe2-4984-eee6-956e6b2be691",
        "colab": {
          "base_uri": "https://localhost:8080/",
          "height": 34
        }
      },
      "source": [
        "print(type(train_y))"
      ],
      "execution_count": 58,
      "outputs": [
        {
          "output_type": "stream",
          "text": [
            "<class 'numpy.ndarray'>\n"
          ],
          "name": "stdout"
        }
      ]
    },
    {
      "cell_type": "code",
      "metadata": {
        "id": "F-a7Dpzl_mon",
        "colab_type": "code",
        "outputId": "09b8c2b2-5875-4c4d-e35f-120d810da0b9",
        "colab": {
          "base_uri": "https://localhost:8080/",
          "height": 833
        }
      },
      "source": [
        "train_x,train_y"
      ],
      "execution_count": 59,
      "outputs": [
        {
          "output_type": "execute_result",
          "data": {
            "text/plain": [
              "(array([[22,  0,  1],\n",
              "        [38,  1,  0],\n",
              "        [26,  1,  0],\n",
              "        ...,\n",
              "        [29,  1,  0],\n",
              "        [26,  0,  1],\n",
              "        [32,  0,  1]]),\n",
              " array([0, 1, 1, 1, 0, 0, 0, 0, 1, 1, 1, 1, 0, 0, 0, 1, 0, 1, 0, 1, 0, 1,\n",
              "        1, 1, 0, 1, 0, 0, 1, 0, 0, 1, 1, 0, 0, 0, 1, 0, 0, 1, 0, 0, 0, 1,\n",
              "        1, 0, 0, 1, 0, 0, 0, 0, 1, 1, 0, 1, 1, 0, 1, 0, 0, 1, 0, 0, 0, 1,\n",
              "        1, 0, 1, 0, 0, 0, 0, 0, 1, 0, 0, 0, 1, 1, 0, 1, 1, 0, 1, 1, 0, 0,\n",
              "        1, 0, 0, 0, 0, 0, 0, 0, 0, 1, 1, 0, 0, 0, 0, 0, 0, 0, 1, 1, 0, 1,\n",
              "        0, 0, 0, 0, 0, 0, 0, 0, 0, 0, 0, 0, 0, 1, 0, 1, 0, 1, 1, 0, 0, 0,\n",
              "        0, 1, 0, 0, 1, 0, 0, 0, 0, 1, 1, 0, 0, 0, 1, 0, 0, 0, 0, 1, 0, 0,\n",
              "        0, 0, 1, 0, 0, 0, 0, 1, 0, 0, 0, 1, 1, 0, 0, 0, 0, 0, 1, 0, 0, 0,\n",
              "        0, 0, 0, 0, 0, 0, 0, 1, 1, 0, 1, 1, 0, 0, 1, 0, 1, 1, 1, 1, 0, 0,\n",
              "        1, 0, 0, 0, 0, 0, 1, 0, 0, 1, 1, 1, 0, 1, 0, 0, 0, 1, 1, 0, 1, 0,\n",
              "        1, 0, 0, 0, 1, 0, 1, 0, 0, 0, 1, 0, 0, 1, 0, 0, 0, 1, 0, 0, 0, 1,\n",
              "        0, 0, 0, 0, 0, 1, 1, 0, 0, 0, 0, 0, 0, 1, 1, 1, 1, 1, 0, 1, 0, 0,\n",
              "        0, 0, 0, 1, 1, 1, 0, 1, 1, 0, 1, 1, 0, 0, 0, 1, 0, 0, 0, 1, 0, 0,\n",
              "        1, 0, 1, 1, 1, 1, 0, 0, 0, 0, 0, 0, 1, 1, 1, 1, 0, 1, 0, 1, 1, 1,\n",
              "        0, 1, 1, 1, 0, 0, 0, 1, 1, 0, 1, 1, 0, 0, 1, 1, 0, 1, 0, 1, 1, 1,\n",
              "        1, 0, 0, 0, 1, 0, 0, 1, 1, 0, 1, 1, 0, 0, 0, 1, 1, 1, 1, 0, 0, 0,\n",
              "        0, 0, 0, 0, 1, 0, 1, 1, 0, 0, 0, 0, 0, 0, 1, 1, 1, 1, 1, 0, 0, 0,\n",
              "        0, 1, 1, 0, 0, 0, 1, 1, 0, 1, 0, 0, 0, 1, 0, 1, 1, 1, 0, 1, 1, 0,\n",
              "        0, 0, 0, 1, 1, 0, 0, 0, 0, 0, 0, 1, 0, 0, 0, 0, 1, 0, 1, 0, 1, 1,\n",
              "        0, 0, 0, 0, 0, 0, 0, 0, 1, 1, 0, 1, 1, 1, 1, 0, 0, 1, 0, 1, 0, 0,\n",
              "        1, 0, 0, 1, 1, 1, 1, 1, 1, 1, 0, 0, 0, 1, 0, 1, 0, 1, 1, 0, 1, 0,\n",
              "        0, 0, 0, 0, 0, 0, 0, 1, 0, 0, 1, 1, 0, 0, 0, 0, 0, 1, 0, 0, 0, 1,\n",
              "        1, 0, 1, 0, 0, 1, 0, 0, 0, 0, 0, 0, 1, 0, 0, 0, 0, 0, 0, 0, 1, 0,\n",
              "        1, 1, 0, 1, 1, 0, 1, 1, 0, 0, 1, 0, 1, 0, 1, 0, 0, 1, 0, 0, 1, 0,\n",
              "        0, 0, 1, 0, 0, 1, 0, 1, 0, 1, 0, 1, 1, 0, 0, 1, 0, 0, 1, 1, 0, 1,\n",
              "        1, 0, 0, 1, 1, 0, 1, 0, 1, 1, 0, 0, 0, 0, 0, 0, 0, 0, 0, 1, 1, 1,\n",
              "        1, 1, 0, 0, 1, 1, 0, 1, 1, 1, 0, 0, 0, 1, 0, 1, 0, 0, 0, 1, 0, 0,\n",
              "        0, 0, 1, 0, 0, 1, 1, 0, 0, 0, 1, 0, 0, 1, 1, 1, 0, 0, 1, 0, 0, 1,\n",
              "        0, 0, 1, 0, 0, 1, 1, 0, 0, 0, 0, 1, 0, 0, 1, 0, 1, 0, 0, 1, 0, 0,\n",
              "        0, 0, 0, 1, 0, 1, 1, 1, 0, 1, 0, 1, 0, 1, 0, 1, 0, 0, 0, 0, 0, 0,\n",
              "        1, 0, 0, 0, 1, 0, 0, 0, 0, 1, 1, 0, 0, 1, 0, 0, 0, 1, 0, 1, 0, 1,\n",
              "        0, 0, 0, 0, 0, 0, 0, 1, 1, 1, 1, 0, 0, 0, 0, 1, 0, 0, 1, 1, 0, 0,\n",
              "        0, 0, 1, 1, 1, 1, 1, 0, 1, 0, 0, 0, 1, 1, 0, 0, 1, 0, 0, 0, 1, 0,\n",
              "        1, 1, 0, 0, 1, 0, 0, 0, 0, 0, 0, 1, 0, 0, 1, 0, 1, 0, 1, 0, 0, 1,\n",
              "        0, 0, 1, 1, 0, 0, 1, 1, 0, 0, 0, 1, 0, 0, 1, 1, 0, 1, 0, 0, 0, 0,\n",
              "        0, 0, 0, 0, 1, 0, 0, 1, 0, 1, 1, 1, 0, 0, 0, 0, 1, 0, 1, 0, 0, 0,\n",
              "        0, 0, 0, 0, 1, 1, 0, 0, 0, 1, 1, 1, 1, 0, 0, 0, 0, 1, 0, 0, 0, 0,\n",
              "        0, 0, 0, 0, 0, 0, 1, 1, 0, 1, 0, 0, 0, 1, 1, 1, 1, 1, 0, 0, 0, 1,\n",
              "        0, 0, 1, 1, 0, 0, 1, 0, 0, 0, 0, 0, 0, 1, 0, 0, 0, 1, 0, 1, 1, 1,\n",
              "        1, 0, 0, 0, 1, 0, 0, 1, 1, 0, 0, 1, 0, 1, 0, 0, 1, 1, 0, 0, 0, 1,\n",
              "        1, 0, 0, 0, 0, 0, 0, 1, 0, 1, 0]))"
            ]
          },
          "metadata": {
            "tags": []
          },
          "execution_count": 59
        }
      ]
    },
    {
      "cell_type": "code",
      "metadata": {
        "id": "bmhbS-jA1N2X",
        "colab_type": "code",
        "outputId": "2ac5513d-c326-47be-cff2-a9246d09b5db",
        "colab": {
          "base_uri": "https://localhost:8080/",
          "height": 34
        }
      },
      "source": [
        "'''from tensorflow.keras.utils import to_categorical\n",
        "train_y = to_categorical(train_y)'''"
      ],
      "execution_count": 60,
      "outputs": [
        {
          "output_type": "execute_result",
          "data": {
            "text/plain": [
              "'from tensorflow.keras.utils import to_categorical\\ntrain_y = to_categorical(train_y)'"
            ]
          },
          "metadata": {
            "tags": []
          },
          "execution_count": 60
        }
      ]
    },
    {
      "cell_type": "code",
      "metadata": {
        "id": "eyi-i-rq1s0v",
        "colab_type": "code",
        "outputId": "8dec194b-2bb5-4c37-eb11-c582ea380232",
        "colab": {
          "base_uri": "https://localhost:8080/",
          "height": 442
        }
      },
      "source": [
        "print(train_y)"
      ],
      "execution_count": 61,
      "outputs": [
        {
          "output_type": "stream",
          "text": [
            "[0 1 1 1 0 0 0 0 1 1 1 1 0 0 0 1 0 1 0 1 0 1 1 1 0 1 0 0 1 0 0 1 1 0 0 0 1\n",
            " 0 0 1 0 0 0 1 1 0 0 1 0 0 0 0 1 1 0 1 1 0 1 0 0 1 0 0 0 1 1 0 1 0 0 0 0 0\n",
            " 1 0 0 0 1 1 0 1 1 0 1 1 0 0 1 0 0 0 0 0 0 0 0 1 1 0 0 0 0 0 0 0 1 1 0 1 0\n",
            " 0 0 0 0 0 0 0 0 0 0 0 0 1 0 1 0 1 1 0 0 0 0 1 0 0 1 0 0 0 0 1 1 0 0 0 1 0\n",
            " 0 0 0 1 0 0 0 0 1 0 0 0 0 1 0 0 0 1 1 0 0 0 0 0 1 0 0 0 0 0 0 0 0 0 0 1 1\n",
            " 0 1 1 0 0 1 0 1 1 1 1 0 0 1 0 0 0 0 0 1 0 0 1 1 1 0 1 0 0 0 1 1 0 1 0 1 0\n",
            " 0 0 1 0 1 0 0 0 1 0 0 1 0 0 0 1 0 0 0 1 0 0 0 0 0 1 1 0 0 0 0 0 0 1 1 1 1\n",
            " 1 0 1 0 0 0 0 0 1 1 1 0 1 1 0 1 1 0 0 0 1 0 0 0 1 0 0 1 0 1 1 1 1 0 0 0 0\n",
            " 0 0 1 1 1 1 0 1 0 1 1 1 0 1 1 1 0 0 0 1 1 0 1 1 0 0 1 1 0 1 0 1 1 1 1 0 0\n",
            " 0 1 0 0 1 1 0 1 1 0 0 0 1 1 1 1 0 0 0 0 0 0 0 1 0 1 1 0 0 0 0 0 0 1 1 1 1\n",
            " 1 0 0 0 0 1 1 0 0 0 1 1 0 1 0 0 0 1 0 1 1 1 0 1 1 0 0 0 0 1 1 0 0 0 0 0 0\n",
            " 1 0 0 0 0 1 0 1 0 1 1 0 0 0 0 0 0 0 0 1 1 0 1 1 1 1 0 0 1 0 1 0 0 1 0 0 1\n",
            " 1 1 1 1 1 1 0 0 0 1 0 1 0 1 1 0 1 0 0 0 0 0 0 0 0 1 0 0 1 1 0 0 0 0 0 1 0\n",
            " 0 0 1 1 0 1 0 0 1 0 0 0 0 0 0 1 0 0 0 0 0 0 0 1 0 1 1 0 1 1 0 1 1 0 0 1 0\n",
            " 1 0 1 0 0 1 0 0 1 0 0 0 1 0 0 1 0 1 0 1 0 1 1 0 0 1 0 0 1 1 0 1 1 0 0 1 1\n",
            " 0 1 0 1 1 0 0 0 0 0 0 0 0 0 1 1 1 1 1 0 0 1 1 0 1 1 1 0 0 0 1 0 1 0 0 0 1\n",
            " 0 0 0 0 1 0 0 1 1 0 0 0 1 0 0 1 1 1 0 0 1 0 0 1 0 0 1 0 0 1 1 0 0 0 0 1 0\n",
            " 0 1 0 1 0 0 1 0 0 0 0 0 1 0 1 1 1 0 1 0 1 0 1 0 1 0 0 0 0 0 0 1 0 0 0 1 0\n",
            " 0 0 0 1 1 0 0 1 0 0 0 1 0 1 0 1 0 0 0 0 0 0 0 1 1 1 1 0 0 0 0 1 0 0 1 1 0\n",
            " 0 0 0 1 1 1 1 1 0 1 0 0 0 1 1 0 0 1 0 0 0 1 0 1 1 0 0 1 0 0 0 0 0 0 1 0 0\n",
            " 1 0 1 0 1 0 0 1 0 0 1 1 0 0 1 1 0 0 0 1 0 0 1 1 0 1 0 0 0 0 0 0 0 0 1 0 0\n",
            " 1 0 1 1 1 0 0 0 0 1 0 1 0 0 0 0 0 0 0 1 1 0 0 0 1 1 1 1 0 0 0 0 1 0 0 0 0\n",
            " 0 0 0 0 0 0 1 1 0 1 0 0 0 1 1 1 1 1 0 0 0 1 0 0 1 1 0 0 1 0 0 0 0 0 0 1 0\n",
            " 0 0 1 0 1 1 1 1 0 0 0 1 0 0 1 1 0 0 1 0 1 0 0 1 1 0 0 0 1 1 0 0 0 0 0 0 1\n",
            " 0 1 0]\n"
          ],
          "name": "stdout"
        }
      ]
    },
    {
      "cell_type": "code",
      "metadata": {
        "id": "Y5M4HQEICxML",
        "colab_type": "code",
        "outputId": "4736cba0-2475-4942-8bf5-75fef3515c36",
        "colab": {
          "base_uri": "https://localhost:8080/",
          "height": 34
        }
      },
      "source": [
        "train_y.shape"
      ],
      "execution_count": 62,
      "outputs": [
        {
          "output_type": "execute_result",
          "data": {
            "text/plain": [
              "(891,)"
            ]
          },
          "metadata": {
            "tags": []
          },
          "execution_count": 62
        }
      ]
    },
    {
      "cell_type": "code",
      "metadata": {
        "id": "RkKuajh5C5Sq",
        "colab_type": "code",
        "colab": {}
      },
      "source": [
        "#train_y.reshape(1,891)"
      ],
      "execution_count": 0,
      "outputs": []
    },
    {
      "cell_type": "code",
      "metadata": {
        "id": "PixrC4ygAz_u",
        "colab_type": "code",
        "outputId": "2b8b72e9-a93c-4276-c83e-eb18ded98036",
        "colab": {
          "base_uri": "https://localhost:8080/",
          "height": 34
        }
      },
      "source": [
        "'''from keras.utils import to_categorical\n",
        "df5 = to_categorical(train_x[:,0])'''"
      ],
      "execution_count": 64,
      "outputs": [
        {
          "output_type": "execute_result",
          "data": {
            "text/plain": [
              "'from keras.utils import to_categorical\\ndf5 = to_categorical(train_x[:,0])'"
            ]
          },
          "metadata": {
            "tags": []
          },
          "execution_count": 64
        }
      ]
    },
    {
      "cell_type": "code",
      "metadata": {
        "id": "_gfV5jTUAdRa",
        "colab_type": "code",
        "outputId": "d9ed7296-e34d-46ef-8e22-070a2dbfd0f8",
        "colab": {
          "base_uri": "https://localhost:8080/",
          "height": 34
        }
      },
      "source": [
        "'''df5 = df5.astype('int64')'''"
      ],
      "execution_count": 65,
      "outputs": [
        {
          "output_type": "execute_result",
          "data": {
            "text/plain": [
              "\"df5 = df5.astype('int64')\""
            ]
          },
          "metadata": {
            "tags": []
          },
          "execution_count": 65
        }
      ]
    },
    {
      "cell_type": "code",
      "metadata": {
        "id": "H9ESZCV46lg4",
        "colab_type": "code",
        "colab": {}
      },
      "source": [
        "#df5"
      ],
      "execution_count": 0,
      "outputs": []
    },
    {
      "cell_type": "code",
      "metadata": {
        "id": "Z2Qw6TqxByfO",
        "colab_type": "code",
        "colab": {}
      },
      "source": [
        "#df6 = train_x[:,0]"
      ],
      "execution_count": 0,
      "outputs": []
    },
    {
      "cell_type": "markdown",
      "metadata": {
        "id": "u8pPQMBdn9jp",
        "colab_type": "text"
      },
      "source": [
        "# Model Fit"
      ]
    },
    {
      "cell_type": "code",
      "metadata": {
        "id": "x2A0ZOg1z1QD",
        "colab_type": "code",
        "outputId": "5a2bd26b-3aa8-465a-e2cb-aa85ab1cac5a",
        "colab": {
          "base_uri": "https://localhost:8080/",
          "height": 1000
        }
      },
      "source": [
        "model.fit(train_x , train_y,epochs=200,batch_size=10)"
      ],
      "execution_count": 68,
      "outputs": [
        {
          "output_type": "stream",
          "text": [
            "Train on 891 samples\n",
            "Epoch 1/200\n",
            "891/891 [==============================] - 1s 646us/sample - loss: 0.6155 - accuracy: 0.6857\n",
            "Epoch 2/200\n",
            "891/891 [==============================] - 0s 229us/sample - loss: 0.5495 - accuracy: 0.7688\n",
            "Epoch 3/200\n",
            "891/891 [==============================] - 0s 223us/sample - loss: 0.5311 - accuracy: 0.7800\n",
            "Epoch 4/200\n",
            "891/891 [==============================] - 0s 234us/sample - loss: 0.5235 - accuracy: 0.7890\n",
            "Epoch 5/200\n",
            "891/891 [==============================] - 0s 227us/sample - loss: 0.5218 - accuracy: 0.7890\n",
            "Epoch 6/200\n",
            "891/891 [==============================] - 0s 247us/sample - loss: 0.5174 - accuracy: 0.7890\n",
            "Epoch 7/200\n",
            "891/891 [==============================] - 0s 296us/sample - loss: 0.5104 - accuracy: 0.7935\n",
            "Epoch 8/200\n",
            "891/891 [==============================] - 0s 234us/sample - loss: 0.5137 - accuracy: 0.7912\n",
            "Epoch 9/200\n",
            "891/891 [==============================] - 0s 279us/sample - loss: 0.5083 - accuracy: 0.7935\n",
            "Epoch 10/200\n",
            "891/891 [==============================] - 0s 263us/sample - loss: 0.5126 - accuracy: 0.7901\n",
            "Epoch 11/200\n",
            "891/891 [==============================] - 0s 234us/sample - loss: 0.5126 - accuracy: 0.7901\n",
            "Epoch 12/200\n",
            "891/891 [==============================] - 0s 242us/sample - loss: 0.5160 - accuracy: 0.7912\n",
            "Epoch 13/200\n",
            "891/891 [==============================] - 0s 269us/sample - loss: 0.5034 - accuracy: 0.7912\n",
            "Epoch 14/200\n",
            "891/891 [==============================] - 0s 266us/sample - loss: 0.5031 - accuracy: 0.7912\n",
            "Epoch 15/200\n",
            "891/891 [==============================] - 0s 248us/sample - loss: 0.5045 - accuracy: 0.7946\n",
            "Epoch 16/200\n",
            "891/891 [==============================] - 0s 244us/sample - loss: 0.5117 - accuracy: 0.7856\n",
            "Epoch 17/200\n",
            "891/891 [==============================] - 0s 274us/sample - loss: 0.5129 - accuracy: 0.7901\n",
            "Epoch 18/200\n",
            "891/891 [==============================] - 0s 241us/sample - loss: 0.5154 - accuracy: 0.7901\n",
            "Epoch 19/200\n",
            "891/891 [==============================] - 0s 258us/sample - loss: 0.5110 - accuracy: 0.7912\n",
            "Epoch 20/200\n",
            "891/891 [==============================] - 0s 240us/sample - loss: 0.5059 - accuracy: 0.7924\n",
            "Epoch 21/200\n",
            "891/891 [==============================] - 0s 264us/sample - loss: 0.5023 - accuracy: 0.7935\n",
            "Epoch 22/200\n",
            "891/891 [==============================] - 0s 275us/sample - loss: 0.5208 - accuracy: 0.7811\n",
            "Epoch 23/200\n",
            "891/891 [==============================] - 0s 247us/sample - loss: 0.5404 - accuracy: 0.7890\n",
            "Epoch 24/200\n",
            "891/891 [==============================] - 0s 237us/sample - loss: 0.5083 - accuracy: 0.7901\n",
            "Epoch 25/200\n",
            "891/891 [==============================] - 0s 232us/sample - loss: 0.5043 - accuracy: 0.7946\n",
            "Epoch 26/200\n",
            "891/891 [==============================] - 0s 257us/sample - loss: 0.5186 - accuracy: 0.7868\n",
            "Epoch 27/200\n",
            "891/891 [==============================] - 0s 217us/sample - loss: 0.5033 - accuracy: 0.7946\n",
            "Epoch 28/200\n",
            "891/891 [==============================] - 0s 224us/sample - loss: 0.5017 - accuracy: 0.7935\n",
            "Epoch 29/200\n",
            "891/891 [==============================] - 0s 196us/sample - loss: 0.5032 - accuracy: 0.7912\n",
            "Epoch 30/200\n",
            "891/891 [==============================] - 0s 206us/sample - loss: 0.4993 - accuracy: 0.7957\n",
            "Epoch 31/200\n",
            "891/891 [==============================] - 0s 195us/sample - loss: 0.5042 - accuracy: 0.7935\n",
            "Epoch 32/200\n",
            "891/891 [==============================] - 0s 200us/sample - loss: 0.4992 - accuracy: 0.7946\n",
            "Epoch 33/200\n",
            "891/891 [==============================] - 0s 235us/sample - loss: 0.5034 - accuracy: 0.7946\n",
            "Epoch 34/200\n",
            "891/891 [==============================] - 0s 199us/sample - loss: 0.5084 - accuracy: 0.7946\n",
            "Epoch 35/200\n",
            "891/891 [==============================] - 0s 202us/sample - loss: 0.5069 - accuracy: 0.7957\n",
            "Epoch 36/200\n",
            "891/891 [==============================] - 0s 205us/sample - loss: 0.5023 - accuracy: 0.7924\n",
            "Epoch 37/200\n",
            "891/891 [==============================] - 0s 220us/sample - loss: 0.5033 - accuracy: 0.7957\n",
            "Epoch 38/200\n",
            "891/891 [==============================] - 0s 204us/sample - loss: 0.5061 - accuracy: 0.7969\n",
            "Epoch 39/200\n",
            "891/891 [==============================] - 0s 207us/sample - loss: 0.5222 - accuracy: 0.7856\n",
            "Epoch 40/200\n",
            "891/891 [==============================] - 0s 208us/sample - loss: 0.5054 - accuracy: 0.7912\n",
            "Epoch 41/200\n",
            "891/891 [==============================] - 0s 199us/sample - loss: 0.5047 - accuracy: 0.7946\n",
            "Epoch 42/200\n",
            "891/891 [==============================] - 0s 192us/sample - loss: 0.5091 - accuracy: 0.7946\n",
            "Epoch 43/200\n",
            "891/891 [==============================] - 0s 208us/sample - loss: 0.4984 - accuracy: 0.7969\n",
            "Epoch 44/200\n",
            "891/891 [==============================] - 0s 189us/sample - loss: 0.4972 - accuracy: 0.7946\n",
            "Epoch 45/200\n",
            "891/891 [==============================] - 0s 205us/sample - loss: 0.4987 - accuracy: 0.7946\n",
            "Epoch 46/200\n",
            "891/891 [==============================] - 0s 193us/sample - loss: 0.4990 - accuracy: 0.7946\n",
            "Epoch 47/200\n",
            "891/891 [==============================] - 0s 196us/sample - loss: 0.4984 - accuracy: 0.7957\n",
            "Epoch 48/200\n",
            "891/891 [==============================] - 0s 200us/sample - loss: 0.5010 - accuracy: 0.7957\n",
            "Epoch 49/200\n",
            "891/891 [==============================] - 0s 192us/sample - loss: 0.5000 - accuracy: 0.7946\n",
            "Epoch 50/200\n",
            "891/891 [==============================] - 0s 202us/sample - loss: 0.5025 - accuracy: 0.7946\n",
            "Epoch 51/200\n",
            "891/891 [==============================] - 0s 193us/sample - loss: 0.5081 - accuracy: 0.7935\n",
            "Epoch 52/200\n",
            "891/891 [==============================] - 0s 205us/sample - loss: 0.5101 - accuracy: 0.7868\n",
            "Epoch 53/200\n",
            "891/891 [==============================] - 0s 185us/sample - loss: 0.5065 - accuracy: 0.7957\n",
            "Epoch 54/200\n",
            "891/891 [==============================] - 0s 190us/sample - loss: 0.5053 - accuracy: 0.7935\n",
            "Epoch 55/200\n",
            "891/891 [==============================] - 0s 192us/sample - loss: 0.5052 - accuracy: 0.7946\n",
            "Epoch 56/200\n",
            "891/891 [==============================] - 0s 196us/sample - loss: 0.5067 - accuracy: 0.7912\n",
            "Epoch 57/200\n",
            "891/891 [==============================] - 0s 185us/sample - loss: 0.5046 - accuracy: 0.7946\n",
            "Epoch 58/200\n",
            "891/891 [==============================] - 0s 193us/sample - loss: 0.5046 - accuracy: 0.7957\n",
            "Epoch 59/200\n",
            "891/891 [==============================] - 0s 191us/sample - loss: 0.5002 - accuracy: 0.7946\n",
            "Epoch 60/200\n",
            "891/891 [==============================] - 0s 185us/sample - loss: 0.5007 - accuracy: 0.7957\n",
            "Epoch 61/200\n",
            "891/891 [==============================] - 0s 199us/sample - loss: 0.4997 - accuracy: 0.7924\n",
            "Epoch 62/200\n",
            "891/891 [==============================] - 0s 204us/sample - loss: 0.5004 - accuracy: 0.7924\n",
            "Epoch 63/200\n",
            "891/891 [==============================] - 0s 183us/sample - loss: 0.5011 - accuracy: 0.7957\n",
            "Epoch 64/200\n",
            "891/891 [==============================] - 0s 184us/sample - loss: 0.5044 - accuracy: 0.7935\n",
            "Epoch 65/200\n",
            "891/891 [==============================] - 0s 187us/sample - loss: 0.5094 - accuracy: 0.7969\n",
            "Epoch 66/200\n",
            "891/891 [==============================] - 0s 188us/sample - loss: 0.5004 - accuracy: 0.7969\n",
            "Epoch 67/200\n",
            "891/891 [==============================] - 0s 192us/sample - loss: 0.5065 - accuracy: 0.7924\n",
            "Epoch 68/200\n",
            "891/891 [==============================] - 0s 181us/sample - loss: 0.5115 - accuracy: 0.7912\n",
            "Epoch 69/200\n",
            "891/891 [==============================] - 0s 188us/sample - loss: 0.5030 - accuracy: 0.7946\n",
            "Epoch 70/200\n",
            "891/891 [==============================] - 0s 210us/sample - loss: 0.5029 - accuracy: 0.7946\n",
            "Epoch 71/200\n",
            "891/891 [==============================] - 0s 193us/sample - loss: 0.5068 - accuracy: 0.7935\n",
            "Epoch 72/200\n",
            "891/891 [==============================] - 0s 192us/sample - loss: 0.5100 - accuracy: 0.7912\n",
            "Epoch 73/200\n",
            "891/891 [==============================] - 0s 186us/sample - loss: 0.5025 - accuracy: 0.7946\n",
            "Epoch 74/200\n",
            "891/891 [==============================] - 0s 191us/sample - loss: 0.4961 - accuracy: 0.7924\n",
            "Epoch 75/200\n",
            "891/891 [==============================] - 0s 194us/sample - loss: 0.5141 - accuracy: 0.7856\n",
            "Epoch 76/200\n",
            "891/891 [==============================] - 0s 184us/sample - loss: 0.4977 - accuracy: 0.7946\n",
            "Epoch 77/200\n",
            "891/891 [==============================] - 0s 189us/sample - loss: 0.4971 - accuracy: 0.7957\n",
            "Epoch 78/200\n",
            "891/891 [==============================] - 0s 190us/sample - loss: 0.5121 - accuracy: 0.7924\n",
            "Epoch 79/200\n",
            "891/891 [==============================] - 0s 192us/sample - loss: 0.5005 - accuracy: 0.7946\n",
            "Epoch 80/200\n",
            "891/891 [==============================] - 0s 176us/sample - loss: 0.5000 - accuracy: 0.7957\n",
            "Epoch 81/200\n",
            "891/891 [==============================] - 0s 198us/sample - loss: 0.5011 - accuracy: 0.7924\n",
            "Epoch 82/200\n",
            "891/891 [==============================] - 0s 195us/sample - loss: 0.5022 - accuracy: 0.7935\n",
            "Epoch 83/200\n",
            "891/891 [==============================] - 0s 193us/sample - loss: 0.5010 - accuracy: 0.7935\n",
            "Epoch 84/200\n",
            "891/891 [==============================] - 0s 173us/sample - loss: 0.5013 - accuracy: 0.7946\n",
            "Epoch 85/200\n",
            "891/891 [==============================] - 0s 196us/sample - loss: 0.4988 - accuracy: 0.7946\n",
            "Epoch 86/200\n",
            "891/891 [==============================] - 0s 188us/sample - loss: 0.5015 - accuracy: 0.7969\n",
            "Epoch 87/200\n",
            "891/891 [==============================] - 0s 200us/sample - loss: 0.5018 - accuracy: 0.7935\n",
            "Epoch 88/200\n",
            "891/891 [==============================] - 0s 195us/sample - loss: 0.5064 - accuracy: 0.7901\n",
            "Epoch 89/200\n",
            "891/891 [==============================] - 0s 196us/sample - loss: 0.4951 - accuracy: 0.7957\n",
            "Epoch 90/200\n",
            "891/891 [==============================] - 0s 200us/sample - loss: 0.5103 - accuracy: 0.7890\n",
            "Epoch 91/200\n",
            "891/891 [==============================] - 0s 188us/sample - loss: 0.5014 - accuracy: 0.7957\n",
            "Epoch 92/200\n",
            "891/891 [==============================] - 0s 193us/sample - loss: 0.4975 - accuracy: 0.7946\n",
            "Epoch 93/200\n",
            "891/891 [==============================] - 0s 232us/sample - loss: 0.4984 - accuracy: 0.7946\n",
            "Epoch 94/200\n",
            "891/891 [==============================] - 0s 199us/sample - loss: 0.5019 - accuracy: 0.7946\n",
            "Epoch 95/200\n",
            "891/891 [==============================] - 0s 191us/sample - loss: 0.4984 - accuracy: 0.7946\n",
            "Epoch 96/200\n",
            "891/891 [==============================] - 0s 199us/sample - loss: 0.5006 - accuracy: 0.7946\n",
            "Epoch 97/200\n",
            "891/891 [==============================] - 0s 199us/sample - loss: 0.4978 - accuracy: 0.7924\n",
            "Epoch 98/200\n",
            "891/891 [==============================] - 0s 205us/sample - loss: 0.4972 - accuracy: 0.7957\n",
            "Epoch 99/200\n",
            "891/891 [==============================] - 0s 209us/sample - loss: 0.4981 - accuracy: 0.7935\n",
            "Epoch 100/200\n",
            "891/891 [==============================] - 0s 200us/sample - loss: 0.5015 - accuracy: 0.7946\n",
            "Epoch 101/200\n",
            "891/891 [==============================] - 0s 197us/sample - loss: 0.4960 - accuracy: 0.7946\n",
            "Epoch 102/200\n",
            "891/891 [==============================] - 0s 197us/sample - loss: 0.5011 - accuracy: 0.7935\n",
            "Epoch 103/200\n",
            "891/891 [==============================] - 0s 202us/sample - loss: 0.5073 - accuracy: 0.7924\n",
            "Epoch 104/200\n",
            "891/891 [==============================] - 0s 206us/sample - loss: 0.4957 - accuracy: 0.7946\n",
            "Epoch 105/200\n",
            "891/891 [==============================] - 0s 208us/sample - loss: 0.4985 - accuracy: 0.7935\n",
            "Epoch 106/200\n",
            "891/891 [==============================] - 0s 195us/sample - loss: 0.4949 - accuracy: 0.7946\n",
            "Epoch 107/200\n",
            "891/891 [==============================] - 0s 191us/sample - loss: 0.4960 - accuracy: 0.7946\n",
            "Epoch 108/200\n",
            "891/891 [==============================] - 0s 187us/sample - loss: 0.5006 - accuracy: 0.7946\n",
            "Epoch 109/200\n",
            "891/891 [==============================] - 0s 196us/sample - loss: 0.5010 - accuracy: 0.7935\n",
            "Epoch 110/200\n",
            "891/891 [==============================] - 0s 193us/sample - loss: 0.4973 - accuracy: 0.7946\n",
            "Epoch 111/200\n",
            "891/891 [==============================] - 0s 203us/sample - loss: 0.5014 - accuracy: 0.7957\n",
            "Epoch 112/200\n",
            "891/891 [==============================] - 0s 197us/sample - loss: 0.5014 - accuracy: 0.7946\n",
            "Epoch 113/200\n",
            "891/891 [==============================] - 0s 195us/sample - loss: 0.5068 - accuracy: 0.7946\n",
            "Epoch 114/200\n",
            "891/891 [==============================] - 0s 190us/sample - loss: 0.5032 - accuracy: 0.7946\n",
            "Epoch 115/200\n",
            "891/891 [==============================] - 0s 207us/sample - loss: 0.4994 - accuracy: 0.7969\n",
            "Epoch 116/200\n",
            "891/891 [==============================] - 0s 208us/sample - loss: 0.5035 - accuracy: 0.7946\n",
            "Epoch 117/200\n",
            "891/891 [==============================] - 0s 197us/sample - loss: 0.5023 - accuracy: 0.7935\n",
            "Epoch 118/200\n",
            "891/891 [==============================] - 0s 183us/sample - loss: 0.5166 - accuracy: 0.7767\n",
            "Epoch 119/200\n",
            "891/891 [==============================] - 0s 190us/sample - loss: 0.4966 - accuracy: 0.7957\n",
            "Epoch 120/200\n",
            "891/891 [==============================] - 0s 185us/sample - loss: 0.4934 - accuracy: 0.7957\n",
            "Epoch 121/200\n",
            "891/891 [==============================] - 0s 198us/sample - loss: 0.5051 - accuracy: 0.7980\n",
            "Epoch 122/200\n",
            "891/891 [==============================] - 0s 196us/sample - loss: 0.4997 - accuracy: 0.7969\n",
            "Epoch 123/200\n",
            "891/891 [==============================] - 0s 197us/sample - loss: 0.4938 - accuracy: 0.7969\n",
            "Epoch 124/200\n",
            "891/891 [==============================] - 0s 197us/sample - loss: 0.4969 - accuracy: 0.7969\n",
            "Epoch 125/200\n",
            "891/891 [==============================] - 0s 196us/sample - loss: 0.5008 - accuracy: 0.7969\n",
            "Epoch 126/200\n",
            "891/891 [==============================] - 0s 204us/sample - loss: 0.4986 - accuracy: 0.7969\n",
            "Epoch 127/200\n",
            "891/891 [==============================] - 0s 190us/sample - loss: 0.5189 - accuracy: 0.7957\n",
            "Epoch 128/200\n",
            "891/891 [==============================] - 0s 205us/sample - loss: 0.4991 - accuracy: 0.7935\n",
            "Epoch 129/200\n",
            "891/891 [==============================] - 0s 199us/sample - loss: 0.4990 - accuracy: 0.7957\n",
            "Epoch 130/200\n",
            "891/891 [==============================] - 0s 203us/sample - loss: 0.4970 - accuracy: 0.7969\n",
            "Epoch 131/200\n",
            "891/891 [==============================] - 0s 195us/sample - loss: 0.4954 - accuracy: 0.7969\n",
            "Epoch 132/200\n",
            "891/891 [==============================] - 0s 199us/sample - loss: 0.5018 - accuracy: 0.7946\n",
            "Epoch 133/200\n",
            "891/891 [==============================] - 0s 193us/sample - loss: 0.4990 - accuracy: 0.7935\n",
            "Epoch 134/200\n",
            "891/891 [==============================] - 0s 199us/sample - loss: 0.5044 - accuracy: 0.7946\n",
            "Epoch 135/200\n",
            "891/891 [==============================] - 0s 194us/sample - loss: 0.4972 - accuracy: 0.7969\n",
            "Epoch 136/200\n",
            "891/891 [==============================] - 0s 199us/sample - loss: 0.4970 - accuracy: 0.7969\n",
            "Epoch 137/200\n",
            "891/891 [==============================] - 0s 168us/sample - loss: 0.4983 - accuracy: 0.7946\n",
            "Epoch 138/200\n",
            "891/891 [==============================] - 0s 176us/sample - loss: 0.4979 - accuracy: 0.7969\n",
            "Epoch 139/200\n",
            "891/891 [==============================] - 0s 179us/sample - loss: 0.4986 - accuracy: 0.7957\n",
            "Epoch 140/200\n",
            "891/891 [==============================] - 0s 200us/sample - loss: 0.4980 - accuracy: 0.7935\n",
            "Epoch 141/200\n",
            "891/891 [==============================] - 0s 187us/sample - loss: 0.5012 - accuracy: 0.7957\n",
            "Epoch 142/200\n",
            "891/891 [==============================] - 0s 192us/sample - loss: 0.5061 - accuracy: 0.7969\n",
            "Epoch 143/200\n",
            "891/891 [==============================] - 0s 187us/sample - loss: 0.4971 - accuracy: 0.7969\n",
            "Epoch 144/200\n",
            "891/891 [==============================] - 0s 182us/sample - loss: 0.5022 - accuracy: 0.7969\n",
            "Epoch 145/200\n",
            "891/891 [==============================] - 0s 192us/sample - loss: 0.4949 - accuracy: 0.7957\n",
            "Epoch 146/200\n",
            "891/891 [==============================] - 0s 193us/sample - loss: 0.5017 - accuracy: 0.7969\n",
            "Epoch 147/200\n",
            "891/891 [==============================] - 0s 193us/sample - loss: 0.5007 - accuracy: 0.7969\n",
            "Epoch 148/200\n",
            "891/891 [==============================] - 0s 172us/sample - loss: 0.5156 - accuracy: 0.7924\n",
            "Epoch 149/200\n",
            "891/891 [==============================] - 0s 200us/sample - loss: 0.4963 - accuracy: 0.7969\n",
            "Epoch 150/200\n",
            "891/891 [==============================] - 0s 174us/sample - loss: 0.4977 - accuracy: 0.7980\n",
            "Epoch 151/200\n",
            "891/891 [==============================] - 0s 173us/sample - loss: 0.4938 - accuracy: 0.7969\n",
            "Epoch 152/200\n",
            "891/891 [==============================] - 0s 195us/sample - loss: 0.5014 - accuracy: 0.7969\n",
            "Epoch 153/200\n",
            "891/891 [==============================] - 0s 217us/sample - loss: 0.4948 - accuracy: 0.7969\n",
            "Epoch 154/200\n",
            "891/891 [==============================] - 0s 183us/sample - loss: 0.4959 - accuracy: 0.7969\n",
            "Epoch 155/200\n",
            "891/891 [==============================] - 0s 186us/sample - loss: 0.5040 - accuracy: 0.7969\n",
            "Epoch 156/200\n",
            "891/891 [==============================] - 0s 175us/sample - loss: 0.5030 - accuracy: 0.7969\n",
            "Epoch 157/200\n",
            "891/891 [==============================] - 0s 191us/sample - loss: 0.4956 - accuracy: 0.7969\n",
            "Epoch 158/200\n",
            "891/891 [==============================] - 0s 202us/sample - loss: 0.4968 - accuracy: 0.7969\n",
            "Epoch 159/200\n",
            "891/891 [==============================] - 0s 183us/sample - loss: 0.4995 - accuracy: 0.7969\n",
            "Epoch 160/200\n",
            "891/891 [==============================] - 0s 193us/sample - loss: 0.4975 - accuracy: 0.7969\n",
            "Epoch 161/200\n",
            "891/891 [==============================] - 0s 172us/sample - loss: 0.4949 - accuracy: 0.7969\n",
            "Epoch 162/200\n",
            "891/891 [==============================] - 0s 200us/sample - loss: 0.4950 - accuracy: 0.7957\n",
            "Epoch 163/200\n",
            "891/891 [==============================] - 0s 188us/sample - loss: 0.4963 - accuracy: 0.7969\n",
            "Epoch 164/200\n",
            "891/891 [==============================] - 0s 205us/sample - loss: 0.4973 - accuracy: 0.7969\n",
            "Epoch 165/200\n",
            "891/891 [==============================] - 0s 198us/sample - loss: 0.5030 - accuracy: 0.7969\n",
            "Epoch 166/200\n",
            "891/891 [==============================] - 0s 197us/sample - loss: 0.5024 - accuracy: 0.7969\n",
            "Epoch 167/200\n",
            "891/891 [==============================] - 0s 191us/sample - loss: 0.4964 - accuracy: 0.7980\n",
            "Epoch 168/200\n",
            "891/891 [==============================] - 0s 204us/sample - loss: 0.5101 - accuracy: 0.7935\n",
            "Epoch 169/200\n",
            "891/891 [==============================] - 0s 209us/sample - loss: 0.4990 - accuracy: 0.7957\n",
            "Epoch 170/200\n",
            "891/891 [==============================] - 0s 192us/sample - loss: 0.4999 - accuracy: 0.7957\n",
            "Epoch 171/200\n",
            "891/891 [==============================] - 0s 210us/sample - loss: 0.4973 - accuracy: 0.7969\n",
            "Epoch 172/200\n",
            "891/891 [==============================] - 0s 198us/sample - loss: 0.5029 - accuracy: 0.7946\n",
            "Epoch 173/200\n",
            "891/891 [==============================] - 0s 228us/sample - loss: 0.4929 - accuracy: 0.7969\n",
            "Epoch 174/200\n",
            "891/891 [==============================] - 0s 198us/sample - loss: 0.5037 - accuracy: 0.7969\n",
            "Epoch 175/200\n",
            "891/891 [==============================] - 0s 186us/sample - loss: 0.4970 - accuracy: 0.7969\n",
            "Epoch 176/200\n",
            "891/891 [==============================] - 0s 187us/sample - loss: 0.4976 - accuracy: 0.7969\n",
            "Epoch 177/200\n",
            "891/891 [==============================] - 0s 202us/sample - loss: 0.4995 - accuracy: 0.7969\n",
            "Epoch 178/200\n",
            "891/891 [==============================] - 0s 191us/sample - loss: 0.4970 - accuracy: 0.7969\n",
            "Epoch 179/200\n",
            "891/891 [==============================] - 0s 197us/sample - loss: 0.4954 - accuracy: 0.7969\n",
            "Epoch 180/200\n",
            "891/891 [==============================] - 0s 198us/sample - loss: 0.4954 - accuracy: 0.7980\n",
            "Epoch 181/200\n",
            "891/891 [==============================] - 0s 195us/sample - loss: 0.4989 - accuracy: 0.7980\n",
            "Epoch 182/200\n",
            "891/891 [==============================] - 0s 196us/sample - loss: 0.4957 - accuracy: 0.7969\n",
            "Epoch 183/200\n",
            "891/891 [==============================] - 0s 205us/sample - loss: 0.4948 - accuracy: 0.7969\n",
            "Epoch 184/200\n",
            "891/891 [==============================] - 0s 208us/sample - loss: 0.4980 - accuracy: 0.7969\n",
            "Epoch 185/200\n",
            "891/891 [==============================] - 0s 200us/sample - loss: 0.5014 - accuracy: 0.7969\n",
            "Epoch 186/200\n",
            "891/891 [==============================] - 0s 197us/sample - loss: 0.5023 - accuracy: 0.7969\n",
            "Epoch 187/200\n",
            "891/891 [==============================] - 0s 196us/sample - loss: 0.5010 - accuracy: 0.7980\n",
            "Epoch 188/200\n",
            "891/891 [==============================] - 0s 206us/sample - loss: 0.5003 - accuracy: 0.7969\n",
            "Epoch 189/200\n",
            "891/891 [==============================] - 0s 199us/sample - loss: 0.4975 - accuracy: 0.7969\n",
            "Epoch 190/200\n",
            "891/891 [==============================] - 0s 194us/sample - loss: 0.5012 - accuracy: 0.7957\n",
            "Epoch 191/200\n",
            "891/891 [==============================] - 0s 196us/sample - loss: 0.4941 - accuracy: 0.7980\n",
            "Epoch 192/200\n",
            "891/891 [==============================] - 0s 201us/sample - loss: 0.4972 - accuracy: 0.7969\n",
            "Epoch 193/200\n",
            "891/891 [==============================] - 0s 209us/sample - loss: 0.4941 - accuracy: 0.7980\n",
            "Epoch 194/200\n",
            "891/891 [==============================] - 0s 185us/sample - loss: 0.4985 - accuracy: 0.7969\n",
            "Epoch 195/200\n",
            "891/891 [==============================] - 0s 197us/sample - loss: 0.4983 - accuracy: 0.7969\n",
            "Epoch 196/200\n",
            "891/891 [==============================] - 0s 193us/sample - loss: 0.5014 - accuracy: 0.7991\n",
            "Epoch 197/200\n",
            "891/891 [==============================] - 0s 195us/sample - loss: 0.4995 - accuracy: 0.7980\n",
            "Epoch 198/200\n",
            "891/891 [==============================] - 0s 189us/sample - loss: 0.4937 - accuracy: 0.7969\n",
            "Epoch 199/200\n",
            "891/891 [==============================] - 0s 195us/sample - loss: 0.4918 - accuracy: 0.7969\n",
            "Epoch 200/200\n",
            "891/891 [==============================] - 0s 199us/sample - loss: 0.4935 - accuracy: 0.7957\n"
          ],
          "name": "stdout"
        },
        {
          "output_type": "execute_result",
          "data": {
            "text/plain": [
              "<tensorflow.python.keras.callbacks.History at 0x7f5e4370f780>"
            ]
          },
          "metadata": {
            "tags": []
          },
          "execution_count": 68
        }
      ]
    },
    {
      "cell_type": "markdown",
      "metadata": {
        "id": "Y2q9Pq79oCWe",
        "colab_type": "text"
      },
      "source": [
        "# Model Save"
      ]
    },
    {
      "cell_type": "code",
      "metadata": {
        "id": "yzKHwIGPDyoM",
        "colab_type": "code",
        "colab": {}
      },
      "source": [
        "model.save('my_titanic_model.h5')"
      ],
      "execution_count": 0,
      "outputs": []
    },
    {
      "cell_type": "code",
      "metadata": {
        "id": "Y_Tp7pQnE3IE",
        "colab_type": "code",
        "colab": {}
      },
      "source": [
        "#new_model = tf.keras.models.load_model('my_model.h5')\n",
        "#new model load"
      ],
      "execution_count": 0,
      "outputs": []
    },
    {
      "cell_type": "markdown",
      "metadata": {
        "id": "AmNVaYDSoFai",
        "colab_type": "text"
      },
      "source": [
        "# Model Load"
      ]
    },
    {
      "cell_type": "code",
      "metadata": {
        "id": "isZ82O-iFJaa",
        "colab_type": "code",
        "colab": {}
      },
      "source": [
        "new_model = tf.keras.models.load_model('my_titanic_model.h5')"
      ],
      "execution_count": 0,
      "outputs": []
    },
    {
      "cell_type": "code",
      "metadata": {
        "id": "abUi7YQ-hXFX",
        "colab_type": "code",
        "colab": {}
      },
      "source": [
        "test_y = pd.read_csv(\"gender_submission.csv\")\n",
        "test_y = test_y.Survived.values.reshape(418,)"
      ],
      "execution_count": 0,
      "outputs": []
    },
    {
      "cell_type": "markdown",
      "metadata": {
        "id": "8TgyRh-KoMsT",
        "colab_type": "text"
      },
      "source": [
        "# Evaluate Test Dataset"
      ]
    },
    {
      "cell_type": "code",
      "metadata": {
        "id": "ZjFMrhguFq4z",
        "colab_type": "code",
        "outputId": "5bee8f51-da08-429e-d7c9-6df959bba815",
        "colab": {
          "base_uri": "https://localhost:8080/",
          "height": 51
        }
      },
      "source": [
        "test_loss , test_acc = model.evaluate(test_x,test_y)\n",
        "print(\"Test accuracy = \",test_acc)"
      ],
      "execution_count": 90,
      "outputs": [
        {
          "output_type": "stream",
          "text": [
            "418/418 [==============================] - 0s 214us/sample - loss: 0.2928 - accuracy: 0.9856\n",
            "Test accuracy =  0.98564595\n"
          ],
          "name": "stdout"
        }
      ]
    },
    {
      "cell_type": "code",
      "metadata": {
        "id": "YKFxbzXfGFCC",
        "colab_type": "code",
        "colab": {
          "base_uri": "https://localhost:8080/",
          "height": 34
        },
        "outputId": "e5e9f589-ee46-46cc-f3c3-9ba3364d0ab8"
      },
      "source": [
        "test_y.shape, train_y.shape"
      ],
      "execution_count": 91,
      "outputs": [
        {
          "output_type": "execute_result",
          "data": {
            "text/plain": [
              "((418,), (891,))"
            ]
          },
          "metadata": {
            "tags": []
          },
          "execution_count": 91
        }
      ]
    },
    {
      "cell_type": "markdown",
      "metadata": {
        "id": "U5cm_0TQoZHl",
        "colab_type": "text"
      },
      "source": [
        "# Predict Test DataSet"
      ]
    },
    {
      "cell_type": "code",
      "metadata": {
        "id": "8QMgD9ULz5MA",
        "colab_type": "code",
        "colab": {}
      },
      "source": [
        "prediction = model.predict(test_x)"
      ],
      "execution_count": 0,
      "outputs": []
    },
    {
      "cell_type": "code",
      "metadata": {
        "id": "up5R2KIY0aqk",
        "colab_type": "code",
        "colab": {}
      },
      "source": [
        "pred = []\n",
        "for i in range(len(prediction)):\n",
        "  if prediction[i]>0.5:\n",
        "    a = 1\n",
        "  else:\n",
        "    a = 0\n",
        "  pred.append(a)     "
      ],
      "execution_count": 0,
      "outputs": []
    },
    {
      "cell_type": "code",
      "metadata": {
        "id": "8hJW77Qy5jJn",
        "colab_type": "code",
        "colab": {}
      },
      "source": [
        "preddf = pd.DataFrame({\"Survived\":pred})"
      ],
      "execution_count": 0,
      "outputs": []
    },
    {
      "cell_type": "code",
      "metadata": {
        "id": "JPin7GLW8S6w",
        "colab_type": "code",
        "colab": {
          "base_uri": "https://localhost:8080/",
          "height": 204
        },
        "outputId": "bd1cb448-0105-4886-9c53-9c935a0d3d6a"
      },
      "source": [
        "preddf.head()"
      ],
      "execution_count": 114,
      "outputs": [
        {
          "output_type": "execute_result",
          "data": {
            "text/html": [
              "<div>\n",
              "<style scoped>\n",
              "    .dataframe tbody tr th:only-of-type {\n",
              "        vertical-align: middle;\n",
              "    }\n",
              "\n",
              "    .dataframe tbody tr th {\n",
              "        vertical-align: top;\n",
              "    }\n",
              "\n",
              "    .dataframe thead th {\n",
              "        text-align: right;\n",
              "    }\n",
              "</style>\n",
              "<table border=\"1\" class=\"dataframe\">\n",
              "  <thead>\n",
              "    <tr style=\"text-align: right;\">\n",
              "      <th></th>\n",
              "      <th>Survived</th>\n",
              "    </tr>\n",
              "  </thead>\n",
              "  <tbody>\n",
              "    <tr>\n",
              "      <th>0</th>\n",
              "      <td>0</td>\n",
              "    </tr>\n",
              "    <tr>\n",
              "      <th>1</th>\n",
              "      <td>1</td>\n",
              "    </tr>\n",
              "    <tr>\n",
              "      <th>2</th>\n",
              "      <td>0</td>\n",
              "    </tr>\n",
              "    <tr>\n",
              "      <th>3</th>\n",
              "      <td>0</td>\n",
              "    </tr>\n",
              "    <tr>\n",
              "      <th>4</th>\n",
              "      <td>1</td>\n",
              "    </tr>\n",
              "  </tbody>\n",
              "</table>\n",
              "</div>"
            ],
            "text/plain": [
              "   Survived\n",
              "0         0\n",
              "1         1\n",
              "2         0\n",
              "3         0\n",
              "4         1"
            ]
          },
          "metadata": {
            "tags": []
          },
          "execution_count": 114
        }
      ]
    },
    {
      "cell_type": "code",
      "metadata": {
        "id": "JtUl3f9X8Vll",
        "colab_type": "code",
        "colab": {}
      },
      "source": [
        ""
      ],
      "execution_count": 0,
      "outputs": []
    },
    {
      "cell_type": "code",
      "metadata": {
        "id": "7izX4jAK8tLr",
        "colab_type": "code",
        "colab": {}
      },
      "source": [
        ""
      ],
      "execution_count": 0,
      "outputs": []
    },
    {
      "cell_type": "code",
      "metadata": {
        "id": "UJ-9hdlR8vV3",
        "colab_type": "code",
        "colab": {}
      },
      "source": [
        ""
      ],
      "execution_count": 0,
      "outputs": []
    },
    {
      "cell_type": "code",
      "metadata": {
        "id": "ovt_ICJ06iOl",
        "colab_type": "code",
        "colab": {}
      },
      "source": [
        ""
      ],
      "execution_count": 0,
      "outputs": []
    },
    {
      "cell_type": "code",
      "metadata": {
        "id": "KS6ifnNV61dz",
        "colab_type": "code",
        "colab": {}
      },
      "source": [
        ""
      ],
      "execution_count": 0,
      "outputs": []
    },
    {
      "cell_type": "code",
      "metadata": {
        "id": "HDAsqVdv7L3z",
        "colab_type": "code",
        "colab": {}
      },
      "source": [
        ""
      ],
      "execution_count": 0,
      "outputs": []
    }
  ]
}