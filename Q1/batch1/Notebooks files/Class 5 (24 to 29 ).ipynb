{
 "cells": [
  {
   "cell_type": "markdown",
   "metadata": {},
   "source": [
    "# Dictionary"
   ]
  },
  {
   "cell_type": "code",
   "execution_count": 1,
   "metadata": {},
   "outputs": [
    {
     "name": "stdout",
     "output_type": "stream",
     "text": [
      "{'name': 'hamza', 'age': 23, 'cnic': '42101-4864019-9'}\n"
     ]
    }
   ],
   "source": [
    "my_dic = {'name':'hamza', 'age': 23 ,'cnic':'42101-4864019-9'}\n",
    "print(my_dic)"
   ]
  },
  {
   "cell_type": "code",
   "execution_count": 2,
   "metadata": {},
   "outputs": [
    {
     "data": {
      "text/plain": [
       "23"
      ]
     },
     "execution_count": 2,
     "metadata": {},
     "output_type": "execute_result"
    }
   ],
   "source": [
    "my_dic['age']"
   ]
  },
  {
   "cell_type": "code",
   "execution_count": 3,
   "metadata": {},
   "outputs": [],
   "source": [
    "emty_dic = {}\n",
    "emty_dic['f_name']='Qasim Hassan'\n",
    "emty_dic['age']=19"
   ]
  },
  {
   "cell_type": "code",
   "execution_count": 4,
   "metadata": {},
   "outputs": [
    {
     "name": "stdout",
     "output_type": "stream",
     "text": [
      "{'f_name': 'Qasim Hassan', 'age': 19}\n"
     ]
    }
   ],
   "source": [
    "print(emty_dic)"
   ]
  },
  {
   "cell_type": "code",
   "execution_count": 5,
   "metadata": {},
   "outputs": [
    {
     "name": "stdout",
     "output_type": "stream",
     "text": [
      "{'f_name': 'Qasim Hassan', 'age': '20'}\n"
     ]
    }
   ],
   "source": [
    "emty_dic['age']='20'\n",
    "print(emty_dic)"
   ]
  },
  {
   "cell_type": "code",
   "execution_count": 6,
   "metadata": {},
   "outputs": [
    {
     "name": "stdout",
     "output_type": "stream",
     "text": [
      "{'name': 'Qasim', 'age': '10'}\n"
     ]
    }
   ],
   "source": [
    "#ak dictionary main ak hi name se do  variables ni ho skty agr hu gay tou y ho ga\n",
    "dic1 ={ 'name':'mohsin','age':'10','name':'Qasim'}\n",
    "print (dic1)\n",
    "# it overwrite boht name and use last one name as Qasimm is here"
   ]
  },
  {
   "cell_type": "code",
   "execution_count": 7,
   "metadata": {},
   "outputs": [
    {
     "name": "stdout",
     "output_type": "stream",
     "text": [
      "{'age': '10'}\n"
     ]
    }
   ],
   "source": [
    "dic1 ={ 'name':'mohsin','age':'10','name':'Qasim'}\n",
    "del dic1['name']\n",
    "print(dic1)\n"
   ]
  },
  {
   "cell_type": "code",
   "execution_count": 8,
   "metadata": {},
   "outputs": [
    {
     "name": "stdout",
     "output_type": "stream",
     "text": [
      "hamza\n",
      "23\n",
      "42101-4864019-9\n"
     ]
    }
   ],
   "source": [
    "my_dic = {'name':'hamza', 'age': 23 ,'cnic':'42101-4864019-9'}\n",
    "for info in my_dic.values():\n",
    "    print(info)"
   ]
  },
  {
   "cell_type": "code",
   "execution_count": null,
   "metadata": {},
   "outputs": [
    {
     "name": "stdout",
     "output_type": "stream",
     "text": [
      "name\n",
      "age\n",
      "cnic\n"
     ]
    }
   ],
   "source": [
    "my_dic = {'name':'hamza', 'age': 23 ,'cnic':'42101-4864019-9'}\n",
    "for info in my_dic.keys():\n",
    "    print(info)"
   ]
  },
  {
   "cell_type": "code",
   "execution_count": null,
   "metadata": {},
   "outputs": [
    {
     "name": "stdout",
     "output_type": "stream",
     "text": [
      "('name', 'hamza')\n",
      "('age', 23)\n",
      "('cnic', '42101-4864019-9')\n"
     ]
    }
   ],
   "source": [
    "my_dic = {'name':'hamza', 'age': 23 ,'cnic':'42101-4864019-9'}\n",
    "for info in my_dic.items():\n",
    "    print(info)"
   ]
  },
  {
   "cell_type": "code",
   "execution_count": null,
   "metadata": {},
   "outputs": [
    {
     "name": "stdout",
     "output_type": "stream",
     "text": [
      "This is the key: name ,This ia the value: hamza\n",
      "This is the key: age ,This ia the value: 23\n",
      "This is the key: cnic ,This ia the value: 42101-4864019-9\n"
     ]
    }
   ],
   "source": [
    "my_dic = {'name':'hamza', 'age': 23 ,'cnic':'42101-4864019-9'}\n",
    "for key , value in my_dic.items():\n",
    "    print('This is the key:',key,\",\"'This ia the value:',value)"
   ]
  },
  {
   "cell_type": "code",
   "execution_count": null,
   "metadata": {},
   "outputs": [],
   "source": [
    "name= str(input(\"Enter your name = \"))\n",
    "age= int(input(\"Enter your age = \"))\n",
    "cnic= int(input(\"Enter your cnic = \"))\n",
    "emty_dic ={}\n",
    "emty_dic['name']=name\n",
    "empty_dic['age']=age\n",
    "emty_dic['cnic']=cnic\n",
    "print(emty_dic)\n"
   ]
  },
  {
   "cell_type": "code",
   "execution_count": null,
   "metadata": {},
   "outputs": [],
   "source": [
    "customers = [{\"customer_id\":\"123\",\"name\":\"Qasim\"},\n",
    "             {\"customer_id\":\"456\",\"name\":\"hamza\"},\n",
    "             {\"customer_id\":\"789\",\"name\":\"ali\"}]"
   ]
  },
  {
   "cell_type": "code",
   "execution_count": null,
   "metadata": {},
   "outputs": [],
   "source": [
    "for i in customer_id\n",
    "    if i[customer_id]=='456:\n",
    "    print(i)\n",
    "    customer.remove(i)\n",
    "    break\n",
    "        print(customer) #not working"
   ]
  },
  {
   "cell_type": "code",
   "execution_count": null,
   "metadata": {},
   "outputs": [],
   "source": [
    "# blank list creat karni ha foir user se input lyna ha or list main append karana ha "
   ]
  },
  {
   "cell_type": "code",
   "execution_count": null,
   "metadata": {},
   "outputs": [],
   "source": [
    "# list k ak particular value utha k lani ha "
   ]
  },
  {
   "cell_type": "code",
   "execution_count": null,
   "metadata": {},
   "outputs": [],
   "source": []
  },
  {
   "cell_type": "code",
   "execution_count": null,
   "metadata": {},
   "outputs": [],
   "source": []
  },
  {
   "cell_type": "code",
   "execution_count": null,
   "metadata": {},
   "outputs": [],
   "source": []
  },
  {
   "cell_type": "code",
   "execution_count": null,
   "metadata": {},
   "outputs": [],
   "source": []
  },
  {
   "cell_type": "code",
   "execution_count": null,
   "metadata": {},
   "outputs": [],
   "source": []
  },
  {
   "cell_type": "code",
   "execution_count": null,
   "metadata": {},
   "outputs": [],
   "source": []
  },
  {
   "cell_type": "code",
   "execution_count": null,
   "metadata": {},
   "outputs": [],
   "source": []
  },
  {
   "cell_type": "code",
   "execution_count": null,
   "metadata": {},
   "outputs": [],
   "source": []
  },
  {
   "cell_type": "code",
   "execution_count": null,
   "metadata": {},
   "outputs": [],
   "source": []
  },
  {
   "cell_type": "code",
   "execution_count": null,
   "metadata": {},
   "outputs": [],
   "source": []
  },
  {
   "cell_type": "code",
   "execution_count": null,
   "metadata": {},
   "outputs": [],
   "source": []
  },
  {
   "cell_type": "code",
   "execution_count": null,
   "metadata": {},
   "outputs": [],
   "source": []
  },
  {
   "cell_type": "code",
   "execution_count": null,
   "metadata": {},
   "outputs": [],
   "source": []
  },
  {
   "cell_type": "code",
   "execution_count": null,
   "metadata": {},
   "outputs": [],
   "source": []
  },
  {
   "cell_type": "code",
   "execution_count": null,
   "metadata": {},
   "outputs": [],
   "source": []
  },
  {
   "cell_type": "code",
   "execution_count": null,
   "metadata": {},
   "outputs": [],
   "source": []
  },
  {
   "cell_type": "code",
   "execution_count": null,
   "metadata": {},
   "outputs": [],
   "source": []
  },
  {
   "cell_type": "code",
   "execution_count": null,
   "metadata": {},
   "outputs": [],
   "source": []
  },
  {
   "cell_type": "code",
   "execution_count": null,
   "metadata": {},
   "outputs": [],
   "source": []
  },
  {
   "cell_type": "code",
   "execution_count": null,
   "metadata": {},
   "outputs": [],
   "source": []
  }
 ],
 "metadata": {
  "kernelspec": {
   "display_name": "Python 3",
   "language": "python",
   "name": "python3"
  },
  "language_info": {
   "codemirror_mode": {
    "name": "ipython",
    "version": 3
   },
   "file_extension": ".py",
   "mimetype": "text/x-python",
   "name": "python",
   "nbconvert_exporter": "python",
   "pygments_lexer": "ipython3",
   "version": "3.7.3"
  }
 },
 "nbformat": 4,
 "nbformat_minor": 2
}
