{
  "nbformat": 4,
  "nbformat_minor": 0,
  "metadata": {
    "colab": {
      "name": "8.4 Auto Encoder Anomaly deduction.ipynb",
      "provenance": []
    },
    "kernelspec": {
      "name": "python3",
      "display_name": "Python 3"
    },
    "language_info": {
      "name": "python"
    },
    "accelerator": "GPU"
  },
  "cells": [
    {
      "cell_type": "code",
      "metadata": {
        "id": "t7r22o01rFea"
      },
      "source": [
        "import numpy as np\n",
        "import keras\n",
        "from keras.datasets import mnist\n",
        "from keras.models import Sequential, Model\n",
        "from keras.layers import Dense, Input\n",
        "from keras import optimizers\n",
        "from keras.optimizers import Adam"
      ],
      "execution_count": null,
      "outputs": []
    },
    {
      "cell_type": "code",
      "metadata": {
        "colab": {
          "base_uri": "https://localhost:8080/"
        },
        "id": "CXr1EZj6rlMv",
        "outputId": "6cda75f8-887e-419e-91d2-adc5d6f33614"
      },
      "source": [
        "(x_train, y_tr), (x_test, y_test) = mnist.load_data()\n",
        "x_train = x_train.reshape(60000, 784) / 255\n",
        "val_x = x_test.reshape(10000, 784) / 255"
      ],
      "execution_count": null,
      "outputs": [
        {
          "output_type": "stream",
          "text": [
            "Downloading data from https://storage.googleapis.com/tensorflow/tf-keras-datasets/mnist.npz\n",
            "11493376/11490434 [==============================] - 0s 0us/step\n"
          ],
          "name": "stdout"
        }
      ]
    },
    {
      "cell_type": "code",
      "metadata": {
        "id": "uW-hlT2bsBDK"
      },
      "source": [
        "autoencoder = Sequential()\n",
        "autoencoder.add(Dense(512, activation=\"elu\", input_shape=(784,)))\n",
        "autoencoder.add(Dense(128, activation=\"elu\"))\n",
        "autoencoder.add(Dense(10, activation=\"linear\",name=\"latinVector\"))\n",
        "autoencoder.add(Dense(128, activation=\"elu\"))\n",
        "autoencoder.add(Dense(512, activation=\"elu\"))\n",
        "autoencoder.add(Dense(784, activation=\"sigmoid\"))\n",
        "\n",
        "autoencoder.compile(loss='mean_squared_error', optimizer=Adam())"
      ],
      "execution_count": null,
      "outputs": []
    },
    {
      "cell_type": "code",
      "metadata": {
        "colab": {
          "base_uri": "https://localhost:8080/"
        },
        "id": "SEwSEu2AtvAQ",
        "outputId": "729f3098-7fd9-40b3-b65b-465131efa254"
      },
      "source": [
        "model = autoencoder.fit(x_train,x_train, batch_size=1024, epochs=10, verbose=1,\n",
        "                        validation_data=(val_x, val_x))"
      ],
      "execution_count": null,
      "outputs": [
        {
          "output_type": "stream",
          "text": [
            "Epoch 1/10\n",
            "59/59 [==============================] - 3s 11ms/step - loss: 0.1076 - val_loss: 0.0507\n",
            "Epoch 2/10\n",
            "59/59 [==============================] - 1s 9ms/step - loss: 0.0475 - val_loss: 0.0378\n",
            "Epoch 3/10\n",
            "59/59 [==============================] - 0s 8ms/step - loss: 0.0363 - val_loss: 0.0310\n",
            "Epoch 4/10\n",
            "59/59 [==============================] - 0s 8ms/step - loss: 0.0303 - val_loss: 0.0274\n",
            "Epoch 5/10\n",
            "59/59 [==============================] - 0s 8ms/step - loss: 0.0271 - val_loss: 0.0248\n",
            "Epoch 6/10\n",
            "59/59 [==============================] - 1s 9ms/step - loss: 0.0248 - val_loss: 0.0232\n",
            "Epoch 7/10\n",
            "59/59 [==============================] - 0s 8ms/step - loss: 0.0233 - val_loss: 0.0222\n",
            "Epoch 8/10\n",
            "59/59 [==============================] - 0s 8ms/step - loss: 0.0223 - val_loss: 0.0212\n",
            "Epoch 9/10\n",
            "59/59 [==============================] - 0s 8ms/step - loss: 0.0213 - val_loss: 0.0203\n",
            "Epoch 10/10\n",
            "59/59 [==============================] - 0s 8ms/step - loss: 0.0205 - val_loss: 0.0196\n"
          ],
          "name": "stdout"
        }
      ]
    },
    {
      "cell_type": "code",
      "metadata": {
        "id": "p2xmq7jZvG3m"
      },
      "source": [
        "encoder = Model(autoencoder.input, autoencoder.get_layer('latinVector').output)\n",
        "encoded_data = encoder.predict(x_train)\n",
        "encoding_dim = 10"
      ],
      "execution_count": null,
      "outputs": []
    },
    {
      "cell_type": "code",
      "metadata": {
        "id": "RQtQk_EIwf2k"
      },
      "source": [
        "# Return Decoder \n",
        "encode_input = Input(shape=(encoding_dim,))\n",
        "\n",
        "decoder = autoencoder.layers[-3](encode_input)\n",
        "decoder = autoencoder.layers[-2](decoder)\n",
        "decoder = autoencoder.layers[-1](decoder)\n",
        "decoder = Model(encode_input,decoder)\n"
      ],
      "execution_count": null,
      "outputs": []
    },
    {
      "cell_type": "code",
      "metadata": {
        "colab": {
          "base_uri": "https://localhost:8080/"
        },
        "id": "4smKi7zUxKI9",
        "outputId": "e36b8530-f2ba-4e43-939f-1a9eb1aa8d4a"
      },
      "source": [
        "%matplotlib inline\n",
        "from keras.preprocessing import image\n",
        "\n",
        "img = image.load_img('/content/cat.jpg', target_size=(28,28), color_mode='grayscale')\n",
        "input_img = image.img_to_array(img)\n",
        "print(input_img.shape)\n",
        "inputs = input_img.reshape(1,784) / 255\n",
        "\n",
        "target_data = autoencoder.predict(inputs)\n",
        "dist = np.linalg.norm(inputs - target_data, axis=-1)\n",
        "print(dist)"
      ],
      "execution_count": null,
      "outputs": [
        {
          "output_type": "stream",
          "text": [
            "(28, 28, 1)\n",
            "[14.4620905]\n"
          ],
          "name": "stdout"
        }
      ]
    },
    {
      "cell_type": "code",
      "metadata": {
        "colab": {
          "base_uri": "https://localhost:8080/"
        },
        "id": "TUS67y_FyNFl",
        "outputId": "7eca0d14-1962-467e-dd64-8dbebc8d8dfc"
      },
      "source": [
        "inputs = x_train[0].reshape(1,784)\n",
        "target_data = autoencoder.predict(inputs)\n",
        "dist = np.linalg.norm(inputs - target_data, axis=-1)\n",
        "print(dist)"
      ],
      "execution_count": null,
      "outputs": [
        {
          "output_type": "stream",
          "text": [
            "[5.6998628]\n"
          ],
          "name": "stdout"
        }
      ]
    },
    {
      "cell_type": "markdown",
      "metadata": {
        "id": "PdHEL7Ioz4Mh"
      },
      "source": [
        "## Denoising Autoencoder"
      ]
    },
    {
      "cell_type": "code",
      "metadata": {
        "id": "G6f3giKYzcWH"
      },
      "source": [
        "import numpy as np\n",
        "import keras\n",
        "from keras.datasets import mnist\n",
        "from keras.models import Sequential, Model\n",
        "from keras.layers import Dense, Input, Conv2D, MaxPooling2D, UpSampling2D\n",
        "from keras import optimizers\n",
        "from keras.optimizers import Adam\n",
        "import matplotlib.pyplot as plt\n"
      ],
      "execution_count": 42,
      "outputs": []
    },
    {
      "cell_type": "code",
      "metadata": {
        "id": "9ogEGFJJ0CTm"
      },
      "source": [
        "(x_train, y_tr), (x_test, y_test) = mnist.load_data()\n",
        "x_train = x_train.reshape(60000, 28,28,1) / 255\n",
        "val_x = x_test.reshape(10000, 28,28,1) / 255"
      ],
      "execution_count": 43,
      "outputs": []
    },
    {
      "cell_type": "code",
      "metadata": {
        "id": "RAUeK6RB0DEJ",
        "colab": {
          "base_uri": "https://localhost:8080/",
          "height": 283
        },
        "outputId": "f02d13c6-0c0a-4cb1-c599-201abfe3735f"
      },
      "source": [
        "noise_factor = 0.5\n",
        "x_train_noisy = x_train + noise_factor * np.random.normal(loc=0.0, scale=1.0, size=x_train.shape)\n",
        "x_test_noisy = x_test + noise_factor * np.random.normal(loc=0.0, scale=1.0, size=x_test.shape)\n",
        "x_train_noisy = np.clip(x_train_noisy, 0.,1)\n",
        "x_test_noisy = np.clip(x_test_noisy, 0., 1.)\n",
        "\n",
        "plt.imshow(x_test_noisy[1].reshape(28,28))"
      ],
      "execution_count": 44,
      "outputs": [
        {
          "output_type": "execute_result",
          "data": {
            "text/plain": [
              "<matplotlib.image.AxesImage at 0x7ff54e63af50>"
            ]
          },
          "metadata": {
            "tags": []
          },
          "execution_count": 44
        },
        {
          "output_type": "display_data",
          "data": {
            "image/png": "[encoded data removed]",
            "text/plain": [
              "<Figure size 432x288 with 1 Axes>"
            ]
          },
          "metadata": {
            "tags": [],
            "needs_background": "light"
          }
        }
      ]
    },
    {
      "cell_type": "code",
      "metadata": {
        "id": "mWa5zQG91XmY"
      },
      "source": [
        "input_img = Input(shape=(28,28,1))\n",
        "nn = Conv2D(32, (3,3), activation='relu', padding='same')(input_img)\n",
        "nn = MaxPooling2D((2,2), padding='same')(nn)\n",
        "nn = Conv2D(32, (3,3), activation='relu', padding='same')(nn)\n",
        "encoded = MaxPooling2D((2,2), padding='same')(nn)"
      ],
      "execution_count": 45,
      "outputs": []
    },
    {
      "cell_type": "code",
      "metadata": {
        "id": "yhLbM4zD2qO3"
      },
      "source": [
        "\n",
        "nn = Conv2D(32, (3,3), activation='relu', padding='same')(encoded)\n",
        "nn = UpSampling2D((2,2))(nn)\n",
        "nn = Conv2D(32, (3,3), activation='relu', padding='same')(nn)\n",
        "nn = UpSampling2D((2,2))(nn)\n",
        "\n",
        "decoded = Conv2D(1, (3,3), padding='same', activation='sigmoid')(nn)"
      ],
      "execution_count": 46,
      "outputs": []
    },
    {
      "cell_type": "code",
      "metadata": {
        "colab": {
          "base_uri": "https://localhost:8080/"
        },
        "id": "mmkxmU0x33g6",
        "outputId": "a65a2f27-d312-429e-ea58-23677dd782a5"
      },
      "source": [
        "autoencoder = Model(input_img, decoded)\n",
        "autoencoder.compile(optimizer='adadelta', loss='binary_crossentropy')\n",
        "autoencoder.fit(x_train_noisy, x_train, epochs=50, batch_size=265, validation_data=(x_test_noisy, x_test))"
      ],
      "execution_count": 47,
      "outputs": [
        {
          "output_type": "stream",
          "text": [
            "Epoch 1/50\n",
            "227/227 [==============================] - 32s 17ms/step - loss: 0.6582 - val_loss: 9.7401\n",
            "Epoch 2/50\n",
            "227/227 [==============================] - 3s 15ms/step - loss: 0.6432 - val_loss: 13.6288\n",
            "Epoch 3/50\n",
            "227/227 [==============================] - 3s 15ms/step - loss: 0.6223 - val_loss: 19.6531\n",
            "Epoch 4/50\n",
            "227/227 [==============================] - 3s 15ms/step - loss: 0.5940 - val_loss: 28.7671\n",
            "Epoch 5/50\n",
            "227/227 [==============================] - 4s 15ms/step - loss: 0.5598 - val_loss: 41.6443\n",
            "Epoch 6/50\n",
            "227/227 [==============================] - 4s 16ms/step - loss: 0.5289 - val_loss: 54.1356\n",
            "Epoch 7/50\n",
            "227/227 [==============================] - 3s 15ms/step - loss: 0.5124 - val_loss: 61.9407\n",
            "Epoch 8/50\n",
            "227/227 [==============================] - 3s 15ms/step - loss: 0.5039 - val_loss: 65.1770\n",
            "Epoch 9/50\n",
            "227/227 [==============================] - 3s 15ms/step - loss: 0.4982 - val_loss: 66.0713\n",
            "Epoch 10/50\n",
            "227/227 [==============================] - 3s 15ms/step - loss: 0.4937 - val_loss: 66.0573\n",
            "Epoch 11/50\n",
            "227/227 [==============================] - 3s 15ms/step - loss: 0.4888 - val_loss: 65.6071\n",
            "Epoch 12/50\n",
            "227/227 [==============================] - 3s 15ms/step - loss: 0.4830 - val_loss: 64.8361\n",
            "Epoch 13/50\n",
            "227/227 [==============================] - 3s 15ms/step - loss: 0.4784 - val_loss: 63.9231\n",
            "Epoch 14/50\n",
            "227/227 [==============================] - 3s 15ms/step - loss: 0.4725 - val_loss: 62.8330\n",
            "Epoch 15/50\n",
            "227/227 [==============================] - 3s 15ms/step - loss: 0.4668 - val_loss: 62.0259\n",
            "Epoch 16/50\n",
            "227/227 [==============================] - 3s 15ms/step - loss: 0.4610 - val_loss: 61.0578\n",
            "Epoch 17/50\n",
            "227/227 [==============================] - 4s 15ms/step - loss: 0.4547 - val_loss: 59.9038\n",
            "Epoch 18/50\n",
            "227/227 [==============================] - 3s 15ms/step - loss: 0.4492 - val_loss: 58.5587\n",
            "Epoch 19/50\n",
            "227/227 [==============================] - 3s 15ms/step - loss: 0.4423 - val_loss: 56.9920\n",
            "Epoch 20/50\n",
            "227/227 [==============================] - 3s 15ms/step - loss: 0.4358 - val_loss: 55.4300\n",
            "Epoch 21/50\n",
            "227/227 [==============================] - 3s 15ms/step - loss: 0.4281 - val_loss: 53.6714\n",
            "Epoch 22/50\n",
            "227/227 [==============================] - 3s 15ms/step - loss: 0.4201 - val_loss: 51.8217\n",
            "Epoch 23/50\n",
            "227/227 [==============================] - 3s 15ms/step - loss: 0.4120 - val_loss: 49.7294\n",
            "Epoch 24/50\n",
            "227/227 [==============================] - 3s 15ms/step - loss: 0.4025 - val_loss: 47.0831\n",
            "Epoch 25/50\n",
            "227/227 [==============================] - 3s 15ms/step - loss: 0.3917 - val_loss: 44.5128\n",
            "Epoch 26/50\n",
            "227/227 [==============================] - 3s 15ms/step - loss: 0.3802 - val_loss: 42.0733\n",
            "Epoch 27/50\n",
            "227/227 [==============================] - 3s 15ms/step - loss: 0.3687 - val_loss: 39.4774\n",
            "Epoch 28/50\n",
            "227/227 [==============================] - 4s 15ms/step - loss: 0.3560 - val_loss: 36.7521\n",
            "Epoch 29/50\n",
            "227/227 [==============================] - 3s 15ms/step - loss: 0.3441 - val_loss: 33.8806\n",
            "Epoch 30/50\n",
            "227/227 [==============================] - 4s 15ms/step - loss: 0.3308 - val_loss: 30.5532\n",
            "Epoch 31/50\n",
            "227/227 [==============================] - 3s 15ms/step - loss: 0.3177 - val_loss: 26.8631\n",
            "Epoch 32/50\n",
            "227/227 [==============================] - 4s 15ms/step - loss: 0.3051 - val_loss: 22.7317\n",
            "Epoch 33/50\n",
            "227/227 [==============================] - 4s 15ms/step - loss: 0.2919 - val_loss: 18.2527\n",
            "Epoch 34/50\n",
            "227/227 [==============================] - 3s 15ms/step - loss: 0.2797 - val_loss: 13.6117\n",
            "Epoch 35/50\n",
            "227/227 [==============================] - 3s 15ms/step - loss: 0.2681 - val_loss: 8.6311\n",
            "Epoch 36/50\n",
            "227/227 [==============================] - 3s 15ms/step - loss: 0.2583 - val_loss: 3.4624\n",
            "Epoch 37/50\n",
            "227/227 [==============================] - 3s 15ms/step - loss: 0.2484 - val_loss: -1.7309\n",
            "Epoch 38/50\n",
            "227/227 [==============================] - 3s 15ms/step - loss: 0.2408 - val_loss: -6.7296\n",
            "Epoch 39/50\n",
            "227/227 [==============================] - 3s 15ms/step - loss: 0.2338 - val_loss: -11.5584\n",
            "Epoch 40/50\n",
            "227/227 [==============================] - 3s 15ms/step - loss: 0.2282 - val_loss: -15.9274\n",
            "Epoch 41/50\n",
            "227/227 [==============================] - 3s 15ms/step - loss: 0.2232 - val_loss: -19.7699\n",
            "Epoch 42/50\n",
            "227/227 [==============================] - 3s 15ms/step - loss: 0.2187 - val_loss: -23.1642\n",
            "Epoch 43/50\n",
            "227/227 [==============================] - 3s 15ms/step - loss: 0.2154 - val_loss: -26.0628\n",
            "Epoch 44/50\n",
            "227/227 [==============================] - 3s 15ms/step - loss: 0.2124 - val_loss: -28.5062\n",
            "Epoch 45/50\n",
            "227/227 [==============================] - 3s 15ms/step - loss: 0.2093 - val_loss: -30.6813\n",
            "Epoch 46/50\n",
            "227/227 [==============================] - 3s 15ms/step - loss: 0.2071 - val_loss: -32.2239\n",
            "Epoch 47/50\n",
            "227/227 [==============================] - 4s 15ms/step - loss: 0.2048 - val_loss: -33.9780\n",
            "Epoch 48/50\n",
            "227/227 [==============================] - 3s 15ms/step - loss: 0.2026 - val_loss: -35.3126\n",
            "Epoch 49/50\n",
            "227/227 [==============================] - 3s 15ms/step - loss: 0.2005 - val_loss: -36.4854\n",
            "Epoch 50/50\n",
            "227/227 [==============================] - 3s 15ms/step - loss: 0.1987 - val_loss: -37.5366\n"
          ],
          "name": "stdout"
        },
        {
          "output_type": "execute_result",
          "data": {
            "text/plain": [
              "<tensorflow.python.keras.callbacks.History at 0x7ff54c071450>"
            ]
          },
          "metadata": {
            "tags": []
          },
          "execution_count": 47
        }
      ]
    },
    {
      "cell_type": "code",
      "metadata": {
        "colab": {
          "base_uri": "https://localhost:8080/",
          "height": 283
        },
        "id": "nksHGcVh5UCx",
        "outputId": "60313bb6-4492-40fb-8ad9-372cf924cf50"
      },
      "source": [
        "plt.imshow(x_test_noisy[5].reshape(28,28))"
      ],
      "execution_count": 58,
      "outputs": [
        {
          "output_type": "execute_result",
          "data": {
            "text/plain": [
              "<matplotlib.image.AxesImage at 0x7ff4e08de290>"
            ]
          },
          "metadata": {
            "tags": []
          },
          "execution_count": 58
        },
        {
          "output_type": "display_data",
          "data": {
            "image/png": "[encoded data removed]",
            "text/plain": [
              "<Figure size 432x288 with 1 Axes>"
            ]
          },
          "metadata": {
            "tags": [],
            "needs_background": "light"
          }
        }
      ]
    },
    {
      "cell_type": "code",
      "metadata": {
        "id": "kcUUnITf5UEj"
      },
      "source": [
        "result = autoencoder.predict(x_test[5].reshape(1,28,28,1))"
      ],
      "execution_count": 59,
      "outputs": []
    },
    {
      "cell_type": "code",
      "metadata": {
        "colab": {
          "base_uri": "https://localhost:8080/",
          "height": 283
        },
        "id": "shC7hLhX4hon",
        "outputId": "ddfef4fc-e4eb-44a5-9960-9b5f7184eab0"
      },
      "source": [
        "plt.imshow(result.reshape(28,28))"
      ],
      "execution_count": 60,
      "outputs": [
        {
          "output_type": "execute_result",
          "data": {
            "text/plain": [
              "<matplotlib.image.AxesImage at 0x7ff4e0816510>"
            ]
          },
          "metadata": {
            "tags": []
          },
          "execution_count": 60
        },
        {
          "output_type": "display_data",
          "data": {
            "image/png": "[encoded data removed]",
            "text/plain": [
              "<Figure size 432x288 with 1 Axes>"
            ]
          },
          "metadata": {
            "tags": [],
            "needs_background": "light"
          }
        }
      ]
    },
    {
      "cell_type": "code",
      "metadata": {
        "id": "Ylck5lEH6RaH"
      },
      "source": [
        ""
      ],
      "execution_count": null,
      "outputs": []
    }
  ]
}