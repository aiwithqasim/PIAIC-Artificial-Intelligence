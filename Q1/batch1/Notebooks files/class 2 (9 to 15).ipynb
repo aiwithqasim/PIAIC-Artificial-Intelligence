{
 "cells": [
  {
   "cell_type": "code",
   "execution_count": 1,
   "metadata": {},
   "outputs": [
    {
     "data": {
      "text/plain": [
       "12"
      ]
     },
     "execution_count": 1,
     "metadata": {},
     "output_type": "execute_result"
    }
   ],
   "source": [
    "a=10\n",
    "a=a+1\n",
    "a\n",
    "a+=1\n",
    "a"
   ]
  },
  {
   "cell_type": "code",
   "execution_count": 2,
   "metadata": {},
   "outputs": [],
   "source": [
    "a=10\n",
    "a-=1\n"
   ]
  },
  {
   "cell_type": "code",
   "execution_count": 3,
   "metadata": {},
   "outputs": [
    {
     "name": "stdout",
     "output_type": "stream",
     "text": [
      "my name is mohsin\n"
     ]
    }
   ],
   "source": [
    "name='mohsin'\n",
    "if name=='mohsin':\n",
    "    print(\"my name is mohsin\")"
   ]
  },
  {
   "cell_type": "code",
   "execution_count": 4,
   "metadata": {},
   "outputs": [
    {
     "name": "stdout",
     "output_type": "stream",
     "text": [
      "my name is mohsin\n",
      "5\n"
     ]
    }
   ],
   "source": [
    "name='mohsin'\n",
    "increament = 0\n",
    "if name=='mohsin':\n",
    "    print(\"my name is mohsin\")\n",
    "    increament+=5\n",
    "    print(increament)"
   ]
  },
  {
   "cell_type": "code",
   "execution_count": 5,
   "metadata": {},
   "outputs": [
    {
     "name": "stdout",
     "output_type": "stream",
     "text": [
      "kuch bhi\n"
     ]
    }
   ],
   "source": [
    "name='Mohsin'\n",
    "increament = 0\n",
    "if name=='mohsin':\n",
    "    print(\"my name is mohsin\")\n",
    "    increament+=5\n",
    "    print(increament)\n",
    "else:\n",
    "    print(\"kuch bhi\")"
   ]
  },
  {
   "cell_type": "code",
   "execution_count": 6,
   "metadata": {},
   "outputs": [],
   "source": [
    "#comparator "
   ]
  },
  {
   "cell_type": "code",
   "execution_count": 7,
   "metadata": {},
   "outputs": [
    {
     "name": "stdout",
     "output_type": "stream",
     "text": [
      "10\n"
     ]
    }
   ],
   "source": [
    "a=10\n",
    "if a==10:\n",
    "    print(a)"
   ]
  },
  {
   "cell_type": "code",
   "execution_count": 8,
   "metadata": {},
   "outputs": [
    {
     "name": "stdout",
     "output_type": "stream",
     "text": [
      "both are same\n"
     ]
    }
   ],
   "source": [
    "num1 =69\n",
    "num2 =69\n",
    "if num1 !=num2:\n",
    "    print(\"num1 ia not equal to num2\")\n",
    "else :\n",
    "    print(\"both are same\")"
   ]
  },
  {
   "cell_type": "code",
   "execution_count": 9,
   "metadata": {},
   "outputs": [
    {
     "data": {
      "text/plain": [
       "True"
      ]
     },
     "execution_count": 9,
     "metadata": {},
     "output_type": "execute_result"
    }
   ],
   "source": [
    "9==9\n"
   ]
  },
  {
   "cell_type": "code",
   "execution_count": 10,
   "metadata": {},
   "outputs": [],
   "source": [
    "a=3\n",
    "b=7\n"
   ]
  },
  {
   "cell_type": "code",
   "execution_count": 11,
   "metadata": {},
   "outputs": [
    {
     "ename": "SyntaxError",
     "evalue": "invalid syntax (<ipython-input-11-ce537ef6385c>, line 1)",
     "output_type": "error",
     "traceback": [
      "\u001b[1;36m  File \u001b[1;32m\"<ipython-input-11-ce537ef6385c>\"\u001b[1;36m, line \u001b[1;32m1\u001b[0m\n\u001b[1;33m    a<=b >=\u001b[0m\n\u001b[1;37m            ^\u001b[0m\n\u001b[1;31mSyntaxError\u001b[0m\u001b[1;31m:\u001b[0m invalid syntax\n"
     ]
    }
   ],
   "source": [
    "a<=b >= "
   ]
  },
  {
   "cell_type": "code",
   "execution_count": null,
   "metadata": {},
   "outputs": [],
   "source": [
    "age = int (input(\"Enter your age : \")) # integer bna k same kar do type\n",
    "if(age>=18):\n",
    "  print(\"you are Adult... \")\n",
    "else:\n",
    " print (\"bachy hu \")"
   ]
  },
  {
   "cell_type": "code",
   "execution_count": null,
   "metadata": {},
   "outputs": [],
   "source": [
    " age =int (input(\"Enter your age : \")) \n",
    "ifage>=18:\n",
    "  print(\"you are Adult... \")\n",
    "else:\n",
    " print (\"bachy hu \")"
   ]
  },
  {
   "cell_type": "code",
   "execution_count": null,
   "metadata": {},
   "outputs": [],
   "source": [
    "age = int (input(\"Enter your age : \")) \n",
    "if age >=18:\n",
    " print(\"you are Adult... \")\n",
    "elif age >=15:\n",
    " print(\"you are bacha\")\n",
    "else:\n",
    " print(\"looth hu.. \")"
   ]
  },
  {
   "cell_type": "code",
   "execution_count": null,
   "metadata": {},
   "outputs": [],
   "source": [
    "ticket = input(\"do you haveticket [Y/N]\")\n",
    "if ticket=='Y' :\n",
    "    print(\"Go Ahead\")"
   ]
  },
  {
   "cell_type": "code",
   "execution_count": 19,
   "metadata": {},
   "outputs": [
    {
     "name": "stdout",
     "output_type": "stream",
     "text": [
      "you have CNIC [Y/N] : Y\n",
      "you are in list..[Y/N]..Y\n",
      "you can caste a vote..\n"
     ]
    }
   ],
   "source": [
    "CNIC = input(\"you have CNIC [Y/N] : \")\n",
    "if CNIC=='Y':\n",
    "      list = input(\"you are in list..[Y/N]..\")\n",
    "      if list =='Y':\n",
    "        print(\"you can caste a vote..\")\n",
    "else:\n",
    " print(\"you are not eligible \")"
   ]
  },
  {
   "cell_type": "code",
   "execution_count": null,
   "metadata": {},
   "outputs": [],
   "source": []
  }
 ],
 "metadata": {
  "kernelspec": {
   "display_name": "Python 3",
   "language": "python",
   "name": "python3"
  },
  "language_info": {
   "codemirror_mode": {
    "name": "ipython",
    "version": 3
   },
   "file_extension": ".py",
   "mimetype": "text/x-python",
   "name": "python",
   "nbconvert_exporter": "python",
   "pygments_lexer": "ipython3",
   "version": "3.7.3"
  }
 },
 "nbformat": 4,
 "nbformat_minor": 2
}
