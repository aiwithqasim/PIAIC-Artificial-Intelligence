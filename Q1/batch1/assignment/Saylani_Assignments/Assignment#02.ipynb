{
 "cells": [
  {
   "cell_type": "markdown",
   "metadata": {},
   "source": [
    "# Question 01"
   ]
  },
  {
   "cell_type": "code",
   "execution_count": null,
   "metadata": {},
   "outputs": [],
   "source": [
    "math = int(input(\"Enter the Math value : \"))\n",
    "english = int(input(\"Enter the English value : \"))\n",
    "urdu = int(input(\"Enter the Urdu value : \"))\n",
    "physics = int(input(\"Enter the Physics value : \"))\n",
    "chemistry = int(input(\"Enter the Chemistry value : \"))\n",
    "\n",
    "total = 500\n",
    "obtainedMarks = math+english+urdu+physics+chemistry\n",
    "percentage = (obtainedMarks/total)*100\n",
    "\n",
    "if percentage >=80 and percentage<=100:\n",
    "    grades = \"A-1\"\n",
    "elif percentage >=70 and percentage<80:\n",
    "    grades = \"A\"\n",
    "elif percentage>=60 and percentage<70:\n",
    "    grades =\"B\"\n",
    "elif percentage >=50 and percentage<60:\n",
    "    grades = \"C\"\n",
    "elif percentage >=40 and percentage<50:\n",
    "    grades = \"D\"\n",
    "else:\n",
    "    grades = \"Fail\"\n",
    "    \n",
    "\n",
    "print(\"--------------------------------------------------------------------------- \\n\")\n",
    "print(\"|        SUBJECTS      |    OBTAINED MARKS      |      TOTAL MARKS     |\\n\")\n",
    "print(f\"|        MATH          |       {math}           |         100          |\\n\")\n",
    "print(f\"|        ENGLISH       |       {english}           |         100          |\\n\")\n",
    "print(f\"|        URDU          |       {urdu}           |         100          |\\n\")\n",
    "print(f\"|        PHYSICS       |       {physics}           |         100          |\\n\")\n",
    "print(f\"|        CHEMISTRY     |       {chemistry}           |         100          |\\n\")\n",
    "print(\"--------------------------------------------------------------------------- \\n\")\n",
    "print(f\"|    PERCENTAGE       =   {percentage}%  |    GRADES     =   {grades}     |\\n\")\n",
    "print(\"--------------------------------------------------------------------------- \\n\")\n",
    "\n",
    "\n",
    "\n",
    "\n",
    "\n"
   ]
  },
  {
   "cell_type": "markdown",
   "metadata": {},
   "source": [
    "# Question 2"
   ]
  },
  {
   "cell_type": "code",
   "execution_count": null,
   "metadata": {},
   "outputs": [],
   "source": [
    "num = int(input(\"Enter the value : \"))\n",
    "if num%2 == 0:\n",
    "    print(\"Number is Even \")\n",
    "else:\n",
    "    print(\"Number is Odd  \")"
   ]
  },
  {
   "cell_type": "markdown",
   "metadata": {},
   "source": [
    "# Question 3"
   ]
  },
  {
   "cell_type": "code",
   "execution_count": null,
   "metadata": {},
   "outputs": [],
   "source": [
    "li = [1,2,3,4,5,6,7,8,9,10,11,12]\n",
    "print(len(li))\n"
   ]
  },
  {
   "cell_type": "markdown",
   "metadata": {},
   "source": [
    "# Question 4"
   ]
  },
  {
   "cell_type": "code",
   "execution_count": null,
   "metadata": {},
   "outputs": [],
   "source": [
    "lis = [2,1,2,3,4,5,6,7,8,9,8]\n",
    "sumValue= 0\n",
    "for i in range(len(lis)):\n",
    "    sumValue = sumValue+lis[i]\n",
    "    \n",
    "    \n",
    "print(sumValue)    "
   ]
  },
  {
   "cell_type": "markdown",
   "metadata": {},
   "source": [
    "# Question 5"
   ]
  },
  {
   "cell_type": "code",
   "execution_count": null,
   "metadata": {},
   "outputs": [],
   "source": [
    "lists = [1,2,502,3,4,5,8,7,9,88,71,102]\n",
    "lists.sort()\n",
    "leng = len(lists)\n",
    "lists[leng-1]"
   ]
  },
  {
   "cell_type": "markdown",
   "metadata": {},
   "source": [
    "# Question 6"
   ]
  },
  {
   "cell_type": "code",
   "execution_count": null,
   "metadata": {},
   "outputs": [],
   "source": [
    "a = [1,1,2,3,5,8,13,21,34,55,89]\n",
    "b=[]\n",
    "for i in range(len(a)):\n",
    "    if a[i]>5:\n",
    "        b.append(a[i])\n",
    "        \n",
    "b        "
   ]
  },
  {
   "cell_type": "code",
   "execution_count": null,
   "metadata": {},
   "outputs": [],
   "source": []
  }
 ],
 "metadata": {
  "kernelspec": {
   "display_name": "Python 3",
   "language": "python",
   "name": "python3"
  },
  "language_info": {
   "codemirror_mode": {
    "name": "ipython",
    "version": 3
   },
   "file_extension": ".py",
   "mimetype": "text/x-python",
   "name": "python",
   "nbconvert_exporter": "python",
   "pygments_lexer": "ipython3",
   "version": "3.7.3"
  }
 },
 "nbformat": 4,
 "nbformat_minor": 2
}
