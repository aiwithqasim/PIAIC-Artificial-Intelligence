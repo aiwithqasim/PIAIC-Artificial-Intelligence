{
 "cells": [
  {
   "cell_type": "markdown",
   "metadata": {
    "id": "xO8IoVApfprz"
   },
   "source": [
    "## Listing 6.45 Preparing the IMDB data"
   ]
  },
  {
   "cell_type": "raw",
   "metadata": {
    "colab": {
     "base_uri": "https://localhost:8080/",
     "height": 1000
    },
    "id": "Okr2EJWHoyZF",
    "outputId": "24540d5c-aae8-41da-d621-3da7ab172547"
   },
   "source": [
    "!pip install --upgrade tensorflow==2.3.0"
   ]
  },
  {
   "cell_type": "code",
   "execution_count": 1,
   "metadata": {
    "colab": {
     "base_uri": "https://localhost:8080/"
    },
    "id": "xWOIn9rOS_wV",
    "outputId": "9cfcce72-d5b7-4418-9984-791eaf9017c3"
   },
   "outputs": [
    {
     "name": "stdout",
     "output_type": "stream",
     "text": [
      "WARNING:tensorflow:From <ipython-input-1-09365002d536>:3: is_gpu_available (from tensorflow.python.framework.test_util) is deprecated and will be removed in a future version.\n",
      "Instructions for updating:\n",
      "Use `tf.config.list_physical_devices('GPU')` instead.\n"
     ]
    },
    {
     "data": {
      "text/plain": [
       "True"
      ]
     },
     "execution_count": 1,
     "metadata": {},
     "output_type": "execute_result"
    }
   ],
   "source": [
    "import tensorflow as tf\n",
    "tf.test.is_built_with_cuda()\n",
    "tf.test.is_gpu_available(cuda_only=False, min_cuda_compute_capability=None)"
   ]
  },
  {
   "cell_type": "code",
   "execution_count": 2,
   "metadata": {
    "colab": {
     "base_uri": "https://localhost:8080/"
    },
    "id": "UEDlsb3oo5kN",
    "outputId": "bed12d33-846b-46c1-c4b8-0d0f58455d33"
   },
   "outputs": [
    {
     "name": "stdout",
     "output_type": "stream",
     "text": [
      "2.4.1\n"
     ]
    }
   ],
   "source": [
    "import tensorflow as tf\n",
    "print(tf.__version__)"
   ]
  },
  {
   "cell_type": "code",
   "execution_count": 3,
   "metadata": {
    "colab": {
     "base_uri": "https://localhost:8080/"
    },
    "id": "1LoYaOgRfj8p",
    "outputId": "c22878d1-4078-4f2c-ce52-ceaf9ab043b4"
   },
   "outputs": [
    {
     "name": "stdout",
     "output_type": "stream",
     "text": [
      "Loading data...\n"
     ]
    },
    {
     "name": "stderr",
     "output_type": "stream",
     "text": [
      "<__array_function__ internals>:5: VisibleDeprecationWarning: Creating an ndarray from ragged nested sequences (which is a list-or-tuple of lists-or-tuples-or ndarrays with different lengths or shapes) is deprecated. If you meant to do this, you must specify 'dtype=object' when creating the ndarray\n",
      "C:\\ProgramData\\Anaconda3\\lib\\site-packages\\tensorflow\\python\\keras\\datasets\\imdb.py:159: VisibleDeprecationWarning: Creating an ndarray from ragged nested sequences (which is a list-or-tuple of lists-or-tuples-or ndarrays with different lengths or shapes) is deprecated. If you meant to do this, you must specify 'dtype=object' when creating the ndarray\n",
      "  x_train, y_train = np.array(xs[:idx]), np.array(labels[:idx])\n",
      "C:\\ProgramData\\Anaconda3\\lib\\site-packages\\tensorflow\\python\\keras\\datasets\\imdb.py:160: VisibleDeprecationWarning: Creating an ndarray from ragged nested sequences (which is a list-or-tuple of lists-or-tuples-or ndarrays with different lengths or shapes) is deprecated. If you meant to do this, you must specify 'dtype=object' when creating the ndarray\n",
      "  x_test, y_test = np.array(xs[idx:]), np.array(labels[idx:])\n"
     ]
    },
    {
     "name": "stdout",
     "output_type": "stream",
     "text": [
      "25000 train sequences\n",
      "25000 test sequences\n",
      "Pad sequences (samples x time)\n",
      "x_train shape: (25000, 500)\n",
      "x_test shape: (25000, 500)\n"
     ]
    }
   ],
   "source": [
    "import tensorflow as tf\n",
    "from tensorflow.keras.datasets import imdb\n",
    "from tensorflow.keras.preprocessing import sequence\n",
    "max_features = 10000\n",
    "max_len = 500\n",
    "print('Loading data...')\n",
    "(x_train, y_train), (x_test, y_test) = imdb.load_data(num_words=max_features)\n",
    "print(len(x_train), 'train sequences')\n",
    "print(len(x_test), 'test sequences')\n",
    "print('Pad sequences (samples x time)')\n",
    "x_train = sequence.pad_sequences(x_train, maxlen=max_len)\n",
    "x_test = sequence.pad_sequences(x_test, maxlen=max_len)\n",
    "print('x_train shape:', x_train.shape)\n",
    "print('x_test shape:', x_test.shape)"
   ]
  },
  {
   "cell_type": "markdown",
   "metadata": {
    "id": "_NKPLh4TgaeT"
   },
   "source": [
    "Listing 6.46 Training and evaluating a simple 1D convnet on the IMDB data"
   ]
  },
  {
   "cell_type": "code",
   "execution_count": 4,
   "metadata": {
    "colab": {
     "base_uri": "https://localhost:8080/"
    },
    "id": "thggt3Y5fuF4",
    "outputId": "3fd76899-564b-429b-af58-f0645374745e"
   },
   "outputs": [
    {
     "name": "stdout",
     "output_type": "stream",
     "text": [
      "Model: \"sequential\"\n",
      "_________________________________________________________________\n",
      "Layer (type)                 Output Shape              Param #   \n",
      "=================================================================\n",
      "embedding (Embedding)        (None, 500, 128)          1280000   \n",
      "_________________________________________________________________\n",
      "conv1d (Conv1D)              (None, 494, 32)           28704     \n",
      "_________________________________________________________________\n",
      "max_pooling1d (MaxPooling1D) (None, 98, 32)            0         \n",
      "_________________________________________________________________\n",
      "conv1d_1 (Conv1D)            (None, 92, 32)            7200      \n",
      "_________________________________________________________________\n",
      "global_max_pooling1d (Global (None, 32)                0         \n",
      "_________________________________________________________________\n",
      "dense (Dense)                (None, 1)                 33        \n",
      "=================================================================\n",
      "Total params: 1,315,937\n",
      "Trainable params: 1,315,937\n",
      "Non-trainable params: 0\n",
      "_________________________________________________________________\n",
      "Epoch 1/10\n",
      "157/157 [==============================] - 9s 45ms/step - loss: 0.8921 - acc: 0.4995 - val_loss: 0.6854 - val_acc: 0.5714\n",
      "Epoch 2/10\n",
      "157/157 [==============================] - 5s 32ms/step - loss: 0.6700 - acc: 0.6588 - val_loss: 0.6661 - val_acc: 0.6510\n",
      "Epoch 3/10\n",
      "157/157 [==============================] - 5s 33ms/step - loss: 0.6327 - acc: 0.7723 - val_loss: 0.6205 - val_acc: 0.7028\n",
      "Epoch 4/10\n",
      "157/157 [==============================] - 6s 36ms/step - loss: 0.5636 - acc: 0.8151 - val_loss: 0.5086 - val_acc: 0.8024\n",
      "Epoch 5/10\n",
      "157/157 [==============================] - 5s 33ms/step - loss: 0.4327 - acc: 0.8502 - val_loss: 0.4228 - val_acc: 0.8358\n",
      "Epoch 6/10\n",
      "157/157 [==============================] - 5s 32ms/step - loss: 0.3444 - acc: 0.8722 - val_loss: 0.3929 - val_acc: 0.8490\n",
      "Epoch 7/10\n",
      "157/157 [==============================] - 5s 30ms/step - loss: 0.2962 - acc: 0.8937 - val_loss: 0.4011 - val_acc: 0.8622\n",
      "Epoch 8/10\n",
      "157/157 [==============================] - 5s 31ms/step - loss: 0.2631 - acc: 0.9078 - val_loss: 0.4412 - val_acc: 0.8624\n",
      "Epoch 9/10\n",
      "157/157 [==============================] - 5s 31ms/step - loss: 0.2466 - acc: 0.9155 - val_loss: 0.4233 - val_acc: 0.8728\n",
      "Epoch 10/10\n",
      "157/157 [==============================] - 5s 31ms/step - loss: 0.2151 - acc: 0.9307 - val_loss: 0.4412 - val_acc: 0.8708\n"
     ]
    }
   ],
   "source": [
    "from tensorflow.keras.models import Sequential\n",
    "from tensorflow.keras import layers\n",
    "from tensorflow.keras.optimizers import RMSprop\n",
    "model = Sequential()\n",
    "model.add(layers.Embedding(max_features, 128, input_length=max_len))\n",
    "model.add(layers.Conv1D(32, 7, activation='relu'))\n",
    "model.add(layers.MaxPooling1D(5))\n",
    "model.add(layers.Conv1D(32, 7, activation='relu'))\n",
    "model.add(layers.GlobalMaxPooling1D())\n",
    "model.add(layers.Dense(1))\n",
    "model.summary()\n",
    "model.compile(optimizer=RMSprop(lr=1e-4),\n",
    "              loss='binary_crossentropy',\n",
    "              metrics=['acc'])\n",
    "history = model.fit(x_train, y_train,\n",
    "                    epochs=10,\n",
    "                    batch_size=128,\n",
    "                    validation_split=0.2)"
   ]
  },
  {
   "cell_type": "code",
   "execution_count": 5,
   "metadata": {
    "colab": {
     "base_uri": "https://localhost:8080/",
     "height": 545
    },
    "id": "7i0tTnzdgiNu",
    "outputId": "1f16cfde-1249-4edd-c295-ef82fa904a91"
   },
   "outputs": [
    {
     "data": {
      "image/png": "[encoded data removed]",
      "text/plain": [
       "<Figure size 432x288 with 1 Axes>"
      ]
     },
     "metadata": {
      "needs_background": "light"
     },
     "output_type": "display_data"
    },
    {
     "data": {
      "image/png": "[encoded data removed]",
      "text/plain": [
       "<Figure size 432x288 with 1 Axes>"
      ]
     },
     "metadata": {
      "needs_background": "light"
     },
     "output_type": "display_data"
    }
   ],
   "source": [
    "import matplotlib.pyplot as plt\n",
    "acc = history.history['acc']\n",
    "val_acc = history.history['val_acc']\n",
    "loss = history.history['loss']\n",
    "val_loss = history.history['val_loss']\n",
    "epochs = range(1, len(acc) + 1)\n",
    "plt.plot(epochs, acc, 'bo', label='Training acc')\n",
    "plt.plot(epochs, val_acc, 'b', label='Validation acc')\n",
    "plt.title('Training and validation accuracy')\n",
    "plt.legend()\n",
    "plt.figure()\n",
    "plt.plot(epochs, loss, 'bo', label='Training loss')\n",
    "plt.plot(epochs, val_loss, 'b', label='Validation loss')\n",
    "plt.title('Training and validation loss')\n",
    "plt.legend()\n",
    "plt.show()"
   ]
  },
  {
   "cell_type": "markdown",
   "metadata": {
    "id": "ahcXcjKAiBFE"
   },
   "source": [
    "##`6.4.4 Combining CNNs and RNNs to process long sequences`\n",
    "###Listing 6.47 Training and evaluating a simple 1D convnet on the Jena data"
   ]
  },
  {
   "cell_type": "code",
   "execution_count": 8,
   "metadata": {
    "colab": {
     "base_uri": "https://localhost:8080/"
    },
    "id": "Xww-xSGDi-7b",
    "outputId": "375e63d0-65d2-42c7-823c-60a418cbb4da"
   },
   "outputs": [
    {
     "name": "stderr",
     "output_type": "stream",
     "text": [
      "A subdirectory or file jena_climate already exists.\n",
      "'wget' is not recognized as an internal or external command,\n",
      "operable program or batch file.\n",
      "unzip:  cannot find either jena_climate_2009_2016.csv.zip or jena_climate_2009_2016.csv.zip.zip.\n"
     ]
    }
   ],
   "source": [
    "!mkdir jena_climate\n",
    "!cd jena_climate\n",
    "!wget https://s3.amazonaws.com/keras-datasets/jena_climate_2009_2016.csv.zip \n",
    "!unzip jena_climate_2009_2016.csv.zip"
   ]
  },
  {
   "cell_type": "code",
   "execution_count": null,
   "metadata": {},
   "outputs": [],
   "source": [
    "data_dir"
   ]
  },
  {
   "cell_type": "code",
   "execution_count": 10,
   "metadata": {
    "colab": {
     "base_uri": "https://localhost:8080/"
    },
    "id": "q40hMgwCjIXT",
    "outputId": "c483e492-1a0a-43ff-c27c-0192ded4ae8f"
   },
   "outputs": [
    {
     "name": "stdout",
     "output_type": "stream",
     "text": [
      "['\"Date Time\"', '\"p (mbar)\"', '\"T (degC)\"', '\"Tpot (K)\"', '\"Tdew (degC)\"', '\"rh (%)\"', '\"VPmax (mbar)\"', '\"VPact (mbar)\"', '\"VPdef (mbar)\"', '\"sh (g/kg)\"', '\"H2OC (mmol/mol)\"', '\"rho (g/m**3)\"', '\"wv (m/s)\"', '\"max. wv (m/s)\"', '\"wd (deg)\"']\n",
      "420451\n"
     ]
    }
   ],
   "source": [
    "import os\n",
    "data_dir = './jena_climate'\n",
    "fname = os.path.join(data_dir, 'jena_climate_2009_2016.csv')\n",
    "f = open(fname)\n",
    "data = f.read()\n",
    "f.close()\n",
    "lines = data.split('\\n')\n",
    "header = lines[0].split(',')\n",
    "lines = lines[1:]\n",
    "print(header)\n",
    "print(len(lines))"
   ]
  },
  {
   "cell_type": "code",
   "execution_count": 11,
   "metadata": {
    "id": "24kojeXijZ4D"
   },
   "outputs": [],
   "source": [
    "import numpy as np\n",
    "float_data = np.zeros((len(lines), len(header) - 1))\n",
    "for i, line in enumerate(lines):\n",
    "  values = [float(x) for x in line.split(',')[1:]]\n",
    "  float_data[i, :] = values"
   ]
  },
  {
   "cell_type": "code",
   "execution_count": 12,
   "metadata": {
    "id": "OHXoz1bRjh9L"
   },
   "outputs": [],
   "source": [
    "mean = float_data[:200000].mean(axis=0)\n",
    "float_data -= mean\n",
    "std = float_data[:200000].std(axis=0)\n",
    "float_data /= std"
   ]
  },
  {
   "cell_type": "code",
   "execution_count": 13,
   "metadata": {
    "id": "kKnn64k-jpAz"
   },
   "outputs": [],
   "source": [
    "def generator(data, lookback, delay, min_index, max_index,shuffle=False, batch_size=128, step=6):\n",
    "  if max_index is None:\n",
    "    max_index = len(data) - delay - 1\n",
    "  i = min_index + lookback\n",
    "  while 1:\n",
    "    if shuffle:\n",
    "      rows = np.random.randint(min_index + lookback, max_index, size=batch_size)\n",
    "    else:\n",
    "      if i + batch_size >= max_index:\n",
    "        i = min_index + lookback\n",
    "      rows = np.arange(i, min(i + batch_size, max_index))\n",
    "      i += len(rows)\n",
    "    samples = np.zeros((len(rows),\n",
    "                        lookback // step,\n",
    "                        data.shape[-1]))\n",
    "    targets = np.zeros((len(rows),))\n",
    "    for j, row in enumerate(rows):\n",
    "      indices = range(rows[j] - lookback, rows[j], step)\n",
    "      samples[j] = data[indices]\n",
    "      targets[j] = data[rows[j] + delay][1]\n",
    "    yield samples, targets"
   ]
  },
  {
   "cell_type": "code",
   "execution_count": 14,
   "metadata": {
    "id": "E9AN8L1kkKbK"
   },
   "outputs": [],
   "source": [
    "lookback = 1440\n",
    "step = 6\n",
    "delay = 144\n",
    "batch_size = 128\n",
    "\n",
    "train_gen = generator(float_data,\n",
    "                      lookback=lookback,\n",
    "                      delay=delay,\n",
    "                      min_index=0,\n",
    "                      max_index=200000,\n",
    "                      shuffle=True,\n",
    "                      step=step,\n",
    "                      batch_size=batch_size)\n",
    "val_gen = generator(float_data,\n",
    "                    lookback=lookback,\n",
    "                    delay=delay,\n",
    "                    min_index=200001,\n",
    "                    max_index=300000,\n",
    "                    step=step,\n",
    "                    batch_size=batch_size)\n",
    "test_gen = generator(float_data,\n",
    "                     lookback=lookback,\n",
    "                     delay=delay,\n",
    "                     min_index=300001,\n",
    "                     max_index=None,\n",
    "                     step=step,\n",
    "                     batch_size=batch_size)\n",
    "val_steps = (300000 - 200001 - lookback)\n",
    "test_steps = (len(float_data) - 300001 - lookback)"
   ]
  },
  {
   "cell_type": "code",
   "execution_count": 15,
   "metadata": {
    "colab": {
     "base_uri": "https://localhost:8080/"
    },
    "id": "FdXtphhog95e",
    "outputId": "6bc72e4f-e034-4220-ee98-9135d52b0e57"
   },
   "outputs": [
    {
     "name": "stdout",
     "output_type": "stream",
     "text": [
      "Epoch 1/20\n",
      "500/500 [==============================] - 858s 2s/step - loss: 0.4663 - val_loss: 0.4585\n",
      "Epoch 2/20\n",
      "500/500 [==============================] - 840s 2s/step - loss: 0.3656 - val_loss: 0.4292\n",
      "Epoch 3/20\n",
      "500/500 [==============================] - 833s 2s/step - loss: 0.3405 - val_loss: 0.4369\n",
      "Epoch 4/20\n",
      "500/500 [==============================] - 875s 2s/step - loss: 0.3260 - val_loss: 0.4373\n",
      "Epoch 5/20\n",
      "500/500 [==============================] - 847s 2s/step - loss: 0.3110 - val_loss: 0.4856\n",
      "Epoch 6/20\n",
      "500/500 [==============================] - 847s 2s/step - loss: 0.3029 - val_loss: 0.4528\n",
      "Epoch 7/20\n",
      "500/500 [==============================] - 829s 2s/step - loss: 0.2929 - val_loss: 0.4614\n",
      "Epoch 8/20\n",
      "500/500 [==============================] - 825s 2s/step - loss: 0.2874 - val_loss: 0.4816\n",
      "Epoch 9/20\n",
      "500/500 [==============================] - 824s 2s/step - loss: 0.2813 - val_loss: 0.4565\n",
      "Epoch 10/20\n",
      "500/500 [==============================] - 830s 2s/step - loss: 0.2766 - val_loss: 0.4604\n",
      "Epoch 11/20\n",
      "500/500 [==============================] - 823s 2s/step - loss: 0.2718 - val_loss: 0.4793\n",
      "Epoch 12/20\n",
      "500/500 [==============================] - 847s 2s/step - loss: 0.2665 - val_loss: 0.4562\n",
      "Epoch 13/20\n",
      "500/500 [==============================] - 852s 2s/step - loss: 0.2629 - val_loss: 0.4697\n",
      "Epoch 14/20\n",
      "500/500 [==============================] - 846s 2s/step - loss: 0.2593 - val_loss: 0.4855\n",
      "Epoch 15/20\n",
      "500/500 [==============================] - 827s 2s/step - loss: 0.2582 - val_loss: 0.4777\n",
      "Epoch 16/20\n",
      "500/500 [==============================] - 837s 2s/step - loss: 0.2546 - val_loss: 0.4645\n",
      "Epoch 17/20\n",
      "500/500 [==============================] - 803s 2s/step - loss: 0.2505 - val_loss: 0.4568\n",
      "Epoch 18/20\n",
      "500/500 [==============================] - 803s 2s/step - loss: 0.2503 - val_loss: 0.4949\n",
      "Epoch 19/20\n",
      "500/500 [==============================] - 2878s 6s/step - loss: 0.2462 - val_loss: 0.4782\n",
      "Epoch 20/20\n",
      "500/500 [==============================] - 842s 2s/step - loss: 0.2481 - val_loss: 0.4768\n"
     ]
    }
   ],
   "source": [
    "from tensorflow.keras.models import Sequential\n",
    "from tensorflow.keras import layers\n",
    "from tensorflow.keras.optimizers import RMSprop\n",
    "model = Sequential()\n",
    "model.add(layers.Conv1D(32, 5, activation='relu',\n",
    "                        input_shape=(None, float_data.shape[-1])))\n",
    "model.add(layers.MaxPooling1D(3))\n",
    "model.add(layers.Conv1D(32, 5, activation='relu'))\n",
    "model.add(layers.MaxPooling1D(3))\n",
    "model.add(layers.Conv1D(32, 5, activation='relu'))\n",
    "model.add(layers.GlobalMaxPooling1D())\n",
    "model.add(layers.Dense(1))\n",
    "model.compile(optimizer=RMSprop(), loss='mae')\n",
    "history = model.fit(train_gen,\n",
    "                              steps_per_epoch=500,\n",
    "                              epochs=20,\n",
    "                              validation_data=val_gen,\n",
    "                              validation_steps=val_steps)"
   ]
  },
  {
   "cell_type": "code",
   "execution_count": 20,
   "metadata": {},
   "outputs": [
    {
     "data": {
      "text/plain": [
       "['loss', 'val_loss']"
      ]
     },
     "execution_count": 20,
     "metadata": {},
     "output_type": "execute_result"
    }
   ],
   "source": [
    "list(history.history.keys())"
   ]
  },
  {
   "cell_type": "code",
   "execution_count": 28,
   "metadata": {},
   "outputs": [
    {
     "data": {
      "text/plain": [
       "20"
      ]
     },
     "execution_count": 28,
     "metadata": {},
     "output_type": "execute_result"
    }
   ],
   "source": [
    "len(val_loss)"
   ]
  },
  {
   "cell_type": "code",
   "execution_count": 29,
   "metadata": {
    "id": "9pzOa6Yk3HSN"
   },
   "outputs": [
    {
     "data": {
      "image/png": "[encoded data removed]",
      "text/plain": [
       "<Figure size 432x288 with 1 Axes>"
      ]
     },
     "metadata": {
      "needs_background": "light"
     },
     "output_type": "display_data"
    }
   ],
   "source": [
    "import matplotlib.pyplot as plt\n",
    "\n",
    "\n",
    "loss = history.history['loss']\n",
    "val_loss = history.history['val_loss']\n",
    "\n",
    "\n",
    "\n",
    "\n",
    "plt.plot(range(1,len(loss)+1), loss, 'bo', label='Training loss')\n",
    "plt.plot(range(1,len(val_loss)+1), val_loss, 'b', label='Validation loss')\n",
    "plt.title('Training and validation loss')\n",
    "plt.legend()\n",
    "plt.show()"
   ]
  },
  {
   "cell_type": "markdown",
   "metadata": {
    "id": "DUSpXxuG2huU"
   },
   "source": [
    "### Listing 6.48 Preparing higher-resolution data generators for the Jena dataset"
   ]
  },
  {
   "cell_type": "code",
   "execution_count": 30,
   "metadata": {
    "id": "5TAqCSa72g_e"
   },
   "outputs": [],
   "source": [
    "step = 3\n",
    "lookback = 720\n",
    "delay = 144\n",
    "\n",
    "train_gen = generator(float_data,\n",
    "                      lookback=lookback,\n",
    "                      delay=delay,\n",
    "                      min_index=0,\n",
    "                      max_index=200000,\n",
    "                      shuffle=True,\n",
    "                      step=step)\n",
    "val_gen = generator(float_data,\n",
    "                    lookback=lookback,\n",
    "                    delay=delay,\n",
    "                    min_index=200001,\n",
    "                    max_index=300000,\n",
    "                    step=step)\n",
    "test_gen = generator(float_data,\n",
    "                     lookback=lookback,\n",
    "                     delay=delay,\n",
    "                     min_index=300001,\n",
    "                     max_index=None,\n",
    "                     step=step)\n",
    "val_steps = (300000 - 200001 - lookback) // 128\n",
    "test_steps = (len(float_data) - 300001 - lookback) // 128"
   ]
  },
  {
   "cell_type": "markdown",
   "metadata": {
    "id": "gTtj2soy23k9"
   },
   "source": [
    "# Listing 6.49 Model combining a 1D convolutional base and a GRU layer"
   ]
  },
  {
   "cell_type": "code",
   "execution_count": 32,
   "metadata": {
    "id": "LJ51KKCKiuWa"
   },
   "outputs": [
    {
     "name": "stdout",
     "output_type": "stream",
     "text": [
      "WARNING:tensorflow:Layer gru will not use cuDNN kernel since it doesn't meet the cuDNN kernel criteria. It will use generic GPU kernel as fallback when running on GPU\n",
      "Model: \"sequential_2\"\n",
      "_________________________________________________________________\n",
      "Layer (type)                 Output Shape              Param #   \n",
      "=================================================================\n",
      "conv1d_5 (Conv1D)            (None, None, 32)          2272      \n",
      "_________________________________________________________________\n",
      "max_pooling1d_3 (MaxPooling1 (None, None, 32)          0         \n",
      "_________________________________________________________________\n",
      "conv1d_6 (Conv1D)            (None, None, 32)          5152      \n",
      "_________________________________________________________________\n",
      "gru (GRU)                    (None, 32)                6336      \n",
      "_________________________________________________________________\n",
      "dense_2 (Dense)              (None, 1)                 33        \n",
      "=================================================================\n",
      "Total params: 13,793\n",
      "Trainable params: 13,793\n",
      "Non-trainable params: 0\n",
      "_________________________________________________________________\n"
     ]
    }
   ],
   "source": [
    "from tensorflow.keras.models import Sequential\n",
    "from tensorflow.keras import layers\n",
    "from tensorflow.keras.optimizers import RMSprop\n",
    "model = Sequential()\n",
    "model.add(layers.Conv1D(32, 5, activation='relu',\n",
    "                        input_shape=(None, float_data.shape[-1])))\n",
    "model.add(layers.MaxPooling1D(3))\n",
    "model.add(layers.Conv1D(32, 5, activation='relu'))\n",
    "model.add(layers.GRU(32, dropout=0.1, recurrent_dropout=0.5))\n",
    "model.add(layers.Dense(1))\n",
    "model.summary()\n",
    "model.compile(optimizer=RMSprop(), loss='mae')\n"
   ]
  },
  {
   "cell_type": "code",
   "execution_count": 33,
   "metadata": {
    "id": "J7oElGAJ2-Oq"
   },
   "outputs": [
    {
     "name": "stderr",
     "output_type": "stream",
     "text": [
      "C:\\ProgramData\\Anaconda3\\lib\\site-packages\\tensorflow\\python\\keras\\engine\\training.py:1844: UserWarning: `Model.fit_generator` is deprecated and will be removed in a future version. Please use `Model.fit`, which supports generators.\n",
      "  warnings.warn('`Model.fit_generator` is deprecated and '\n"
     ]
    },
    {
     "name": "stdout",
     "output_type": "stream",
     "text": [
      "Epoch 1/20\n",
      "500/500 [==============================] - 302s 600ms/step - loss: 0.3550 - val_loss: 0.2892\n",
      "Epoch 2/20\n",
      "500/500 [==============================] - 303s 605ms/step - loss: 0.2998 - val_loss: 0.2808\n",
      "Epoch 3/20\n",
      "500/500 [==============================] - 304s 607ms/step - loss: 0.2849 - val_loss: 0.2756\n",
      "Epoch 4/20\n",
      "500/500 [==============================] - 300s 600ms/step - loss: 0.2739 - val_loss: 0.2822\n",
      "Epoch 5/20\n",
      "500/500 [==============================] - 303s 606ms/step - loss: 0.2676 - val_loss: 0.2731\n",
      "Epoch 6/20\n",
      "500/500 [==============================] - 304s 608ms/step - loss: 0.2595 - val_loss: 0.2751\n",
      "Epoch 7/20\n",
      "500/500 [==============================] - 298s 596ms/step - loss: 0.2533 - val_loss: 0.2974\n",
      "Epoch 8/20\n",
      "500/500 [==============================] - 301s 602ms/step - loss: 0.2471 - val_loss: 0.2996\n",
      "Epoch 9/20\n",
      "500/500 [==============================] - 295s 591ms/step - loss: 0.2411 - val_loss: 0.2920\n",
      "Epoch 10/20\n",
      "500/500 [==============================] - 297s 595ms/step - loss: 0.2377 - val_loss: 0.3072\n",
      "Epoch 11/20\n",
      "500/500 [==============================] - 300s 600ms/step - loss: 0.2309 - val_loss: 0.2971\n",
      "Epoch 12/20\n",
      "500/500 [==============================] - 302s 605ms/step - loss: 0.2267 - val_loss: 0.2949\n",
      "Epoch 13/20\n",
      "500/500 [==============================] - 299s 598ms/step - loss: 0.2215 - val_loss: 0.3008\n",
      "Epoch 14/20\n",
      "500/500 [==============================] - 299s 597ms/step - loss: 0.2194 - val_loss: 0.3105\n",
      "Epoch 15/20\n",
      "500/500 [==============================] - 299s 598ms/step - loss: 0.2146 - val_loss: 0.3050\n",
      "Epoch 16/20\n",
      "500/500 [==============================] - 297s 593ms/step - loss: 0.2125 - val_loss: 0.3109\n",
      "Epoch 17/20\n",
      "500/500 [==============================] - 298s 595ms/step - loss: 0.2083 - val_loss: 0.3049\n",
      "Epoch 18/20\n",
      "500/500 [==============================] - 300s 600ms/step - loss: 0.2058 - val_loss: 0.3123\n",
      "Epoch 19/20\n",
      "500/500 [==============================] - 298s 596ms/step - loss: 0.2032 - val_loss: 0.3255\n",
      "Epoch 20/20\n",
      "500/500 [==============================] - 295s 591ms/step - loss: 0.1997 - val_loss: 0.3141\n"
     ]
    }
   ],
   "source": [
    "history = model.fit_generator(train_gen,\n",
    "                              steps_per_epoch=500,\n",
    "                              epochs=20,\n",
    "                              validation_data=val_gen,\n",
    "                              validation_steps=val_steps)"
   ]
  },
  {
   "cell_type": "code",
   "execution_count": 35,
   "metadata": {
    "id": "SjFJ3dkD3L6K"
   },
   "outputs": [
    {
     "data": {
      "image/png": "[encoded data removed]",
      "text/plain": [
       "<Figure size 432x288 with 1 Axes>"
      ]
     },
     "metadata": {
      "needs_background": "light"
     },
     "output_type": "display_data"
    }
   ],
   "source": [
    "import matplotlib.pyplot as plt\n",
    "\n",
    "\n",
    "loss = history.history['loss']\n",
    "val_loss = history.history['val_loss']\n",
    "\n",
    "\n",
    "\n",
    "\n",
    "plt.plot(range(1,len(loss)+1), loss, 'bo', label='Training loss')\n",
    "plt.plot(range(1,len(val_loss)+1), val_loss, 'b', label='Validation loss')\n",
    "plt.title('Training and validation loss')\n",
    "plt.legend()\n",
    "plt.show()"
   ]
  },
  {
   "cell_type": "code",
   "execution_count": null,
   "metadata": {
    "id": "tT3bBO9z3OLg"
   },
   "outputs": [],
   "source": []
  },
  {
   "cell_type": "code",
   "execution_count": 36,
   "metadata": {},
   "outputs": [
    {
     "data": {
      "text/plain": [
       "'D:\\\\Qasim\\\\PIAIC\\\\Quarter3\\\\Quarter3_Batch3_Islamabad\\\\Chapter6'"
      ]
     },
     "execution_count": 36,
     "metadata": {},
     "output_type": "execute_result"
    }
   ],
   "source": [
    "pwd"
   ]
  },
  {
   "cell_type": "code",
   "execution_count": null,
   "metadata": {},
   "outputs": [],
   "source": []
  }
 ],
 "metadata": {
  "accelerator": "GPU",
  "colab": {
   "collapsed_sections": [],
   "name": "6.4 Conv1D.ipynb",
   "provenance": []
  },
  "kernelspec": {
   "display_name": "Python 3",
   "language": "python",
   "name": "python3"
  },
  "language_info": {
   "codemirror_mode": {
    "name": "ipython",
    "version": 3
   },
   "file_extension": ".py",
   "mimetype": "text/x-python",
   "name": "python",
   "nbconvert_exporter": "python",
   "pygments_lexer": "ipython3",
   "version": "3.8.8"
  }
 },
 "nbformat": 4,
 "nbformat_minor": 1
}
