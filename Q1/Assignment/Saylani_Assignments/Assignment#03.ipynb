{
 "cells": [
  {
   "cell_type": "markdown",
   "metadata": {},
   "source": [
    "# Question # 01"
   ]
  },
  {
   "cell_type": "code",
   "execution_count": null,
   "metadata": {},
   "outputs": [],
   "source": [
    "print(\"Addition = + , Subtraction = - , Multiplactaion = * , Division = / , Power = ^\")\n",
    "num1 = int(input(\"Enter 1st Value : \"))\n",
    "num2 = int(input(\"Enter 2nd Value : \"))\n",
    "operator = input(\"Enter the Operator : \")\n",
    "if operator == \"+\":\n",
    "    value =num1+num2\n",
    "elif operator == \"-\":\n",
    "    value = num1-num2\n",
    "elif operator == \"*\":\n",
    "    value = num1*num2\n",
    "elif operator == \"/\":\n",
    "    value = num1/num2\n",
    "elif operator == \"^\":\n",
    "    value = pow(num1,num2)\n",
    "\n",
    "    \n",
    "value    "
   ]
  },
  {
   "cell_type": "markdown",
   "metadata": {},
   "source": [
    "# Question # 02"
   ]
  },
  {
   "cell_type": "code",
   "execution_count": null,
   "metadata": {},
   "outputs": [],
   "source": [
    "li = [1,2,3,\"Sameer\",\"ahmed\",\"s\",51]\n",
    "leng = len(li)\n",
    "newlist = []\n",
    "for i in range(leng):\n",
    "    for j in range(10000):\n",
    "        if j == li[i]:\n",
    "            newlist.append(li[i])\n",
    "\n",
    "newlist\n"
   ]
  },
  {
   "cell_type": "markdown",
   "metadata": {},
   "source": [
    "# Question # 03"
   ]
  },
  {
   "cell_type": "code",
   "execution_count": null,
   "metadata": {},
   "outputs": [],
   "source": [
    "dic = {1:\"Sameer\",2:\"Ahmed\",3:\"Zohaib\",4:\"Faisal\"}\n",
    "dic[5]= \"Hussain\"\n",
    "dic"
   ]
  },
  {
   "cell_type": "markdown",
   "metadata": {},
   "source": [
    "# Question # 04"
   ]
  },
  {
   "cell_type": "code",
   "execution_count": null,
   "metadata": {},
   "outputs": [],
   "source": [
    "dic1 = {1:52,2:68,3:90,4:87,5:52,6:87}\n",
    "value = 0\n",
    "for i in dic1.values():\n",
    "    value = value + i \n",
    "    \n",
    "    \n",
    "value    "
   ]
  },
  {
   "cell_type": "markdown",
   "metadata": {},
   "source": [
    "# Question # 05 "
   ]
  },
  {
   "cell_type": "code",
   "execution_count": null,
   "metadata": {},
   "outputs": [],
   "source": [
    "lis = [1,2,3,4,5,6,7,8,9,10,7,11,2,5]\n",
    "duplicList = []\n",
    "for i in range(len(lis)):\n",
    "    for j in range(len(lis)):\n",
    "        if lis[i]==lis[j] and i!=j:\n",
    "            duplicList.append(lis[i])\n",
    "            \n",
    "duplicList            "
   ]
  },
  {
   "cell_type": "markdown",
   "metadata": {},
   "source": [
    "# Question # 06"
   ]
  },
  {
   "cell_type": "code",
   "execution_count": null,
   "metadata": {},
   "outputs": [],
   "source": [
    "key = 5\n",
    "for i in dic1.keys():\n",
    "    if key == i:\n",
    "        print(\"Exists Key\")"
   ]
  },
  {
   "cell_type": "code",
   "execution_count": null,
   "metadata": {},
   "outputs": [],
   "source": []
  },
  {
   "cell_type": "code",
   "execution_count": null,
   "metadata": {},
   "outputs": [],
   "source": []
  }
 ],
 "metadata": {
  "kernelspec": {
   "display_name": "Python 3",
   "language": "python",
   "name": "python3"
  },
  "language_info": {
   "codemirror_mode": {
    "name": "ipython",
    "version": 3
   },
   "file_extension": ".py",
   "mimetype": "text/x-python",
   "name": "python",
   "nbconvert_exporter": "python",
   "pygments_lexer": "ipython3",
   "version": "3.7.3"
  }
 },
 "nbformat": 4,
 "nbformat_minor": 2
}
