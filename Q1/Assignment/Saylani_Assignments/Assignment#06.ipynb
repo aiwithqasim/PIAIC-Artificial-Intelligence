{
  "nbformat": 4,
  "nbformat_minor": 0,
  "metadata": {
    "colab": {
      "name": "Assignment#05.ipynb",
      "provenance": [],
      "collapsed_sections": []
    },
    "kernelspec": {
      "name": "python3",
      "display_name": "Python 3"
    }
  },
  "cells": [
    {
      "cell_type": "markdown",
      "metadata": {
        "id": "LWmIsIPOuZow",
        "colab_type": "text"
      },
      "source": [
        "# Question # 01"
      ]
    },
    {
      "cell_type": "markdown",
      "metadata": {
        "id": "7CEWg_PmuNyN",
        "colab_type": "text"
      },
      "source": [
        "Object-oriented programming (OOP) is a programming language model in which programs are organized around data, or objects, rather than functions and logic. An object can be defined as a data field that has unique attributes and behavior. Examples of an object can range from physical entities, such as a human being that is described by properties like name and address, down to small computer programs, such as widgets. This opposes the historical approach to programming where emphasis was placed on how the logic was written rather than how to define the data within the logic."
      ]
    },
    {
      "cell_type": "markdown",
      "metadata": {
        "id": "_eJB62k9t8C1",
        "colab_type": "text"
      },
      "source": [
        "# Question # 02 "
      ]
    },
    {
      "cell_type": "markdown",
      "metadata": {
        "id": "nA_XkNIbtEd-",
        "colab_type": "text"
      },
      "source": [
        "*   OOP provides a clear modular structure for programs.\n",
        "\n",
        "*   It is good for defining abstract data types.\n",
        "*   Implementation details are hidden from other modules and other modules has a clearly defined interface.\n",
        "\n",
        "*   It is easy to maintain and modify existing code as new objects can be created with small differences to existing ones.\n",
        "\n",
        "*   objects, methods, instance, message passing, inheritance are some important properties provided by these particular languages\n",
        "encapsulation, polymorphism, abstraction are also counts in these fundamentals of programming language.\n",
        "*   It implements real life scenario.\n",
        "\n",
        "*   In OOP, programmer not only defines data types but also deals with operations applied for data structures.\n",
        "\n",
        "\n",
        "\n",
        "\n",
        "\n"
      ]
    },
    {
      "cell_type": "markdown",
      "metadata": {
        "id": "a1zeBQy1s2o1",
        "colab_type": "text"
      },
      "source": [
        "# Question # 03"
      ]
    },
    {
      "cell_type": "markdown",
      "metadata": {
        "id": "7KbTq7Yesfr8",
        "colab_type": "text"
      },
      "source": [
        "**Method** : A method is a piece of code that is called by a name that is associated with an object. In most respects it is identical to a function except for two key differences:\n",
        "1.   A method is implicitly passed the object on which it was called.\n",
        "2.   A method is able to operate on data that is contained within the class (remembering that an object is an instance of a class - the class is the definition, the object is an instance of that data).\n",
        "\n",
        "**Function** : A function is a piece of code that is called by name. It can be passed data to operate on (i.e. the parameters) and can optionally return data (the return value). All data that is passed to a function is explicitly passed."
      ]
    },
    {
      "cell_type": "markdown",
      "metadata": {
        "id": "sk3JCaaQsKj8",
        "colab_type": "text"
      },
      "source": [
        "# Question # 04"
      ]
    },
    {
      "cell_type": "markdown",
      "metadata": {
        "id": "HT95-o13rP2e",
        "colab_type": "text"
      },
      "source": [
        "**Class** : A Class is like an object constructor, or a \"blueprint\" for creating objects.\n",
        "\n",
        "**Objects** : Almost everything in Python is an object, with its properties and methods.\n",
        "\n",
        "**Attributes** : Class attributes belong to the class itself they will be shared by all the instances. Such attributes are defined in the class body parts usually at the top, for legibility.\n",
        "\n",
        "**Behaviour** : Objects in Python are generally classified according to their behaviors and the features that they implement.\n"
      ]
    },
    {
      "cell_type": "markdown",
      "metadata": {
        "id": "sLO4fN1EqxUN",
        "colab_type": "text"
      },
      "source": [
        "# Question # 05"
      ]
    },
    {
      "cell_type": "code",
      "metadata": {
        "id": "8W7tfzIUZ3Oz",
        "colab_type": "code",
        "outputId": "acfe517d-43dc-463e-8acd-8d0fd5c44043",
        "colab": {
          "base_uri": "https://localhost:8080/",
          "height": 85
        }
      },
      "source": [
        "class Car:\n",
        "  def __init__(self,year,model,name,color):\n",
        "    self.year = year\n",
        "    self.model = model\n",
        "    self.name = name\n",
        "    self.color = color\n",
        "    self.speed = 300\n",
        "\n",
        "  def turnLeft(self):\n",
        "        print(\"Car is turn left \")\n",
        "\n",
        "  def turnRight(self):\n",
        "    print(\"Car is turn right \")      \n",
        "\n",
        "  def brake(self):\n",
        "        print(\"Brake\")\n",
        "\n",
        "year = int(input(\"Enter Car Year : \"))\n",
        "model = input(\"Enter Car model : \")  \n",
        "name = input(\"Enter Car name :\")  \n",
        "color = input(\"Enter Car color : \")    \n",
        "a = Car(year,model,name,color)"
      ],
      "execution_count": 0,
      "outputs": [
        {
          "output_type": "stream",
          "text": [
            "Enter Car Year : 2014\n",
            "Enter Car model : Alto\n",
            "Enter Car name :Suzuki\n",
            "Enter Car color : Black\n"
          ],
          "name": "stdout"
        }
      ]
    },
    {
      "cell_type": "code",
      "metadata": {
        "id": "hpbIAYhwa_-l",
        "colab_type": "code",
        "outputId": "3e6c31bf-c45a-471f-e8f3-9d4467ffab3e",
        "colab": {
          "base_uri": "https://localhost:8080/",
          "height": 34
        }
      },
      "source": [
        "a.year"
      ],
      "execution_count": 0,
      "outputs": [
        {
          "output_type": "execute_result",
          "data": {
            "text/plain": [
              "2014"
            ]
          },
          "metadata": {
            "tags": []
          },
          "execution_count": 29
        }
      ]
    },
    {
      "cell_type": "code",
      "metadata": {
        "id": "kpI-ciYEbEcy",
        "colab_type": "code",
        "outputId": "7af792b0-7ab0-4869-e8a3-a18946eea34c",
        "colab": {
          "base_uri": "https://localhost:8080/",
          "height": 34
        }
      },
      "source": [
        "a.turnLeft()"
      ],
      "execution_count": 0,
      "outputs": [
        {
          "output_type": "stream",
          "text": [
            "Car is turn left \n"
          ],
          "name": "stdout"
        }
      ]
    },
    {
      "cell_type": "code",
      "metadata": {
        "id": "N-m_0wXjbKvf",
        "colab_type": "code",
        "colab": {}
      },
      "source": [
        ""
      ],
      "execution_count": 0,
      "outputs": []
    }
  ]
}