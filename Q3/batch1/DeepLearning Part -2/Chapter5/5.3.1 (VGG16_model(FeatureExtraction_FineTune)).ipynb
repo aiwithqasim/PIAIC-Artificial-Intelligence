{
 "cells": [
  {
   "cell_type": "markdown",
   "metadata": {},
   "source": [
    "# Listing 5.16 Instantiating the VGG16 convolutional base"
   ]
  },
  {
   "cell_type": "code",
   "execution_count": 2,
   "metadata": {},
   "outputs": [
    {
     "name": "stdout",
     "output_type": "stream",
     "text": [
      "WARNING:tensorflow:From <ipython-input-2-09365002d536>:3: is_gpu_available (from tensorflow.python.framework.test_util) is deprecated and will be removed in a future version.\n",
      "Instructions for updating:\n",
      "Use `tf.config.list_physical_devices('GPU')` instead.\n"
     ]
    },
    {
     "data": {
      "text/plain": [
       "True"
      ]
     },
     "execution_count": 2,
     "metadata": {},
     "output_type": "execute_result"
    }
   ],
   "source": [
    "import tensorflow as tf\n",
    "tf.test.is_built_with_cuda()\n",
    "tf.test.is_gpu_available(cuda_only=False, min_cuda_compute_capability=None)"
   ]
  },
  {
   "cell_type": "code",
   "execution_count": 3,
   "metadata": {},
   "outputs": [],
   "source": [
    "from tensorflow.keras.applications import VGG16\n",
    "\n",
    "conv_base = VGG16(weights='imagenet',\n",
    "                 include_top=False,\n",
    "                 input_shape=(150,150,3))"
   ]
  },
  {
   "cell_type": "code",
   "execution_count": 4,
   "metadata": {},
   "outputs": [
    {
     "name": "stdout",
     "output_type": "stream",
     "text": [
      "Model: \"vgg16\"\n",
      "_________________________________________________________________\n",
      "Layer (type)                 Output Shape              Param #   \n",
      "=================================================================\n",
      "input_1 (InputLayer)         [(None, 150, 150, 3)]     0         \n",
      "_________________________________________________________________\n",
      "block1_conv1 (Conv2D)        (None, 150, 150, 64)      1792      \n",
      "_________________________________________________________________\n",
      "block1_conv2 (Conv2D)        (None, 150, 150, 64)      36928     \n",
      "_________________________________________________________________\n",
      "block1_pool (MaxPooling2D)   (None, 75, 75, 64)        0         \n",
      "_________________________________________________________________\n",
      "block2_conv1 (Conv2D)        (None, 75, 75, 128)       73856     \n",
      "_________________________________________________________________\n",
      "block2_conv2 (Conv2D)        (None, 75, 75, 128)       147584    \n",
      "_________________________________________________________________\n",
      "block2_pool (MaxPooling2D)   (None, 37, 37, 128)       0         \n",
      "_________________________________________________________________\n",
      "block3_conv1 (Conv2D)        (None, 37, 37, 256)       295168    \n",
      "_________________________________________________________________\n",
      "block3_conv2 (Conv2D)        (None, 37, 37, 256)       590080    \n",
      "_________________________________________________________________\n",
      "block3_conv3 (Conv2D)        (None, 37, 37, 256)       590080    \n",
      "_________________________________________________________________\n",
      "block3_pool (MaxPooling2D)   (None, 18, 18, 256)       0         \n",
      "_________________________________________________________________\n",
      "block4_conv1 (Conv2D)        (None, 18, 18, 512)       1180160   \n",
      "_________________________________________________________________\n",
      "block4_conv2 (Conv2D)        (None, 18, 18, 512)       2359808   \n",
      "_________________________________________________________________\n",
      "block4_conv3 (Conv2D)        (None, 18, 18, 512)       2359808   \n",
      "_________________________________________________________________\n",
      "block4_pool (MaxPooling2D)   (None, 9, 9, 512)         0         \n",
      "_________________________________________________________________\n",
      "block5_conv1 (Conv2D)        (None, 9, 9, 512)         2359808   \n",
      "_________________________________________________________________\n",
      "block5_conv2 (Conv2D)        (None, 9, 9, 512)         2359808   \n",
      "_________________________________________________________________\n",
      "block5_conv3 (Conv2D)        (None, 9, 9, 512)         2359808   \n",
      "_________________________________________________________________\n",
      "block5_pool (MaxPooling2D)   (None, 4, 4, 512)         0         \n",
      "=================================================================\n",
      "Total params: 14,714,688\n",
      "Trainable params: 14,714,688\n",
      "Non-trainable params: 0\n",
      "_________________________________________________________________\n"
     ]
    }
   ],
   "source": [
    "conv_base.summary()"
   ]
  },
  {
   "cell_type": "markdown",
   "metadata": {},
   "source": [
    "# Listing 5.17 Extracting features using the pretrained convolutional base"
   ]
  },
  {
   "cell_type": "code",
   "execution_count": 5,
   "metadata": {},
   "outputs": [],
   "source": [
    "config = tf.compat.v1.ConfigProto()\n",
    "\n",
    "config.gpu_options.allow_growth=True\n",
    "\n",
    "sess = tf.compat.v1.Session(config=config)"
   ]
  },
  {
   "cell_type": "code",
   "execution_count": 6,
   "metadata": {},
   "outputs": [
    {
     "name": "stdout",
     "output_type": "stream",
     "text": [
      "Num GPUs Available:  1\n"
     ]
    }
   ],
   "source": [
    "import tensorflow as tf\n",
    "print(\"Num GPUs Available: \", len(tf.config.experimental.list_physical_devices('GPU')))\n",
    "tf.debugging.set_log_device_placement(True)"
   ]
  },
  {
   "cell_type": "code",
   "execution_count": 7,
   "metadata": {},
   "outputs": [],
   "source": [
    "import tensorflow as tf\n",
    "config = tf.compat.v1.ConfigProto()\n",
    "sess = tf.compat.v1.Session(config=config)"
   ]
  },
  {
   "cell_type": "code",
   "execution_count": 8,
   "metadata": {},
   "outputs": [
    {
     "name": "stdout",
     "output_type": "stream",
     "text": [
      "Found 2000 images belonging to 2 classes.\n",
      "Found 1000 images belonging to 2 classes.\n",
      "Found 1000 images belonging to 2 classes.\n"
     ]
    }
   ],
   "source": [
    "tf.config.experimental.set_memory_growth = True\n",
    "import os\n",
    "import numpy as np\n",
    "from tensorflow.keras.preprocessing.image import ImageDataGenerator\n",
    "base_dir = './dog_cat1/abc'\n",
    "\n",
    "train_dir = os.path.join(base_dir, 'train')\n",
    "validation_dir = os.path.join(base_dir, 'validation')\n",
    "test_dir = os.path.join(base_dir, 'test')\n",
    "datagen = ImageDataGenerator(rescale=1./255)\n",
    "batch_size = 20\n",
    "\n",
    "def extract_features(directory, sample_count):\n",
    "    features = np.zeros(shape=(sample_count, 4, 4, 512))\n",
    "    labels = np.zeros(shape=(sample_count))\n",
    "    generator = datagen.flow_from_directory(\n",
    "        directory,\n",
    "        target_size=(150, 150),\n",
    "        batch_size=batch_size,\n",
    "        class_mode='binary')\n",
    "    i=0\n",
    "    for inputs_batch, labels_batch in generator:\n",
    "        features_batch = conv_base.predict(inputs_batch)\n",
    "        features[i * batch_size : (i + 1) * batch_size] = features_batch\n",
    "        labels[i * batch_size : (i + 1) * batch_size] = labels_batch\n",
    "        i += 1\n",
    "        if i * batch_size >= sample_count:\n",
    "            break\n",
    "    return features, labels\n",
    "train_features, train_labels = extract_features(train_dir, 2000)\n",
    "validation_features, validation_labels = extract_features(validation_dir, 1000)\n",
    "test_features, test_labels = extract_features(test_dir, 1000)\n"
   ]
  },
  {
   "cell_type": "code",
   "execution_count": 9,
   "metadata": {},
   "outputs": [],
   "source": [
    "train_features = np.reshape(train_features, (2000, 4*4* 512))\n",
    "validation_features = np.reshape(validation_features, (1000, 4*4* 512))\n",
    "test_features = np.reshape(test_features, (1000, 4*4* 512))"
   ]
  },
  {
   "cell_type": "markdown",
   "metadata": {},
   "source": [
    "# Listing 5.18 Defining and training the densely connected classifier"
   ]
  },
  {
   "cell_type": "code",
   "execution_count": 10,
   "metadata": {},
   "outputs": [
    {
     "name": "stdout",
     "output_type": "stream",
     "text": [
      "Epoch 1/30\n",
      "100/100 [==============================] - 2s 18ms/step - loss: 0.6457 - acc: 0.6097 - val_loss: 0.4382 - val_acc: 0.8150\n",
      "Epoch 2/30\n",
      "100/100 [==============================] - 1s 5ms/step - loss: 0.4423 - acc: 0.7898 - val_loss: 0.3565 - val_acc: 0.8540\n",
      "Epoch 3/30\n",
      "100/100 [==============================] - 1s 5ms/step - loss: 0.3550 - acc: 0.8701 - val_loss: 0.3200 - val_acc: 0.8720\n",
      "Epoch 4/30\n",
      "100/100 [==============================] - 1s 5ms/step - loss: 0.3070 - acc: 0.8723 - val_loss: 0.2928 - val_acc: 0.8850\n",
      "Epoch 5/30\n",
      "100/100 [==============================] - 1s 5ms/step - loss: 0.2872 - acc: 0.8843 - val_loss: 0.3145 - val_acc: 0.8500\n",
      "Epoch 6/30\n",
      "100/100 [==============================] - 1s 5ms/step - loss: 0.2832 - acc: 0.8891 - val_loss: 0.2689 - val_acc: 0.8970\n",
      "Epoch 7/30\n",
      "100/100 [==============================] - 0s 5ms/step - loss: 0.2515 - acc: 0.8974 - val_loss: 0.2588 - val_acc: 0.9000\n",
      "Epoch 8/30\n",
      "100/100 [==============================] - 0s 5ms/step - loss: 0.2216 - acc: 0.9184 - val_loss: 0.2591 - val_acc: 0.8880\n",
      "Epoch 9/30\n",
      "100/100 [==============================] - 1s 5ms/step - loss: 0.2156 - acc: 0.9201 - val_loss: 0.2482 - val_acc: 0.9020\n",
      "Epoch 10/30\n",
      "100/100 [==============================] - 1s 5ms/step - loss: 0.2087 - acc: 0.9232 - val_loss: 0.2438 - val_acc: 0.8980\n",
      "Epoch 11/30\n",
      "100/100 [==============================] - 1s 5ms/step - loss: 0.2044 - acc: 0.9275 - val_loss: 0.2417 - val_acc: 0.9010\n",
      "Epoch 12/30\n",
      "100/100 [==============================] - 0s 5ms/step - loss: 0.1915 - acc: 0.9325 - val_loss: 0.2370 - val_acc: 0.9020\n",
      "Epoch 13/30\n",
      "100/100 [==============================] - 1s 5ms/step - loss: 0.1698 - acc: 0.9296 - val_loss: 0.2371 - val_acc: 0.9070\n",
      "Epoch 14/30\n",
      "100/100 [==============================] - 1s 5ms/step - loss: 0.1791 - acc: 0.9343 - val_loss: 0.2377 - val_acc: 0.8990\n",
      "Epoch 15/30\n",
      "100/100 [==============================] - 1s 5ms/step - loss: 0.1499 - acc: 0.9432 - val_loss: 0.2385 - val_acc: 0.8980\n",
      "Epoch 16/30\n",
      "100/100 [==============================] - 0s 5ms/step - loss: 0.1569 - acc: 0.9435 - val_loss: 0.2345 - val_acc: 0.9020\n",
      "Epoch 17/30\n",
      "100/100 [==============================] - 0s 5ms/step - loss: 0.1488 - acc: 0.9444 - val_loss: 0.2324 - val_acc: 0.9030\n",
      "Epoch 18/30\n",
      "100/100 [==============================] - 1s 5ms/step - loss: 0.1347 - acc: 0.9573 - val_loss: 0.2380 - val_acc: 0.8990\n",
      "Epoch 19/30\n",
      "100/100 [==============================] - 1s 5ms/step - loss: 0.1356 - acc: 0.9532 - val_loss: 0.2321 - val_acc: 0.9020\n",
      "Epoch 20/30\n",
      "100/100 [==============================] - 1s 5ms/step - loss: 0.1378 - acc: 0.9495 - val_loss: 0.2311 - val_acc: 0.9010\n",
      "Epoch 21/30\n",
      "100/100 [==============================] - 1s 5ms/step - loss: 0.1228 - acc: 0.9627 - val_loss: 0.2315 - val_acc: 0.9050\n",
      "Epoch 22/30\n",
      "100/100 [==============================] - 1s 5ms/step - loss: 0.1240 - acc: 0.9635 - val_loss: 0.2315 - val_acc: 0.9050\n",
      "Epoch 23/30\n",
      "100/100 [==============================] - 0s 5ms/step - loss: 0.1093 - acc: 0.9677 - val_loss: 0.2413 - val_acc: 0.9050\n",
      "Epoch 24/30\n",
      "100/100 [==============================] - 0s 5ms/step - loss: 0.1254 - acc: 0.9633 - val_loss: 0.2363 - val_acc: 0.9030\n",
      "Epoch 25/30\n",
      "100/100 [==============================] - 1s 5ms/step - loss: 0.1137 - acc: 0.9610 - val_loss: 0.2343 - val_acc: 0.8980\n",
      "Epoch 26/30\n",
      "100/100 [==============================] - 0s 5ms/step - loss: 0.1073 - acc: 0.9639 - val_loss: 0.2358 - val_acc: 0.8970\n",
      "Epoch 27/30\n",
      "100/100 [==============================] - 1s 5ms/step - loss: 0.1056 - acc: 0.9604 - val_loss: 0.2402 - val_acc: 0.9020\n",
      "Epoch 28/30\n",
      "100/100 [==============================] - 1s 5ms/step - loss: 0.0954 - acc: 0.9687 - val_loss: 0.2461 - val_acc: 0.9080\n",
      "Epoch 29/30\n",
      "100/100 [==============================] - 1s 5ms/step - loss: 0.0947 - acc: 0.9683 - val_loss: 0.2362 - val_acc: 0.8990\n",
      "Epoch 30/30\n",
      "100/100 [==============================] - 1s 5ms/step - loss: 0.0938 - acc: 0.9688 - val_loss: 0.2363 - val_acc: 0.9010\n"
     ]
    }
   ],
   "source": [
    "from tensorflow.keras import models\n",
    "from tensorflow.keras import layers\n",
    "from tensorflow.keras import optimizers\n",
    "model = models.Sequential()\n",
    "model.add(layers.Dense(256, activation='relu', input_dim=4 * 4 * 512))\n",
    "model.add(layers.Dropout(0.5))\n",
    "model.add(layers.Dense(1, activation='sigmoid'))\n",
    "model.compile(optimizer=optimizers.RMSprop(lr=2e-5),\n",
    "    loss='binary_crossentropy',\n",
    "    metrics=['acc'])\n",
    "history = model.fit(train_features, train_labels,\n",
    "epochs=30,\n",
    "batch_size=20,\n",
    "validation_data=(validation_features, validation_labels))"
   ]
  },
  {
   "cell_type": "markdown",
   "metadata": {},
   "source": [
    "# Listing 5.19 Plotting the results"
   ]
  },
  {
   "cell_type": "code",
   "execution_count": 11,
   "metadata": {},
   "outputs": [
    {
     "data": {
      "image/png": "[encoded data removed]",
      "text/plain": [
       "<Figure size 432x288 with 1 Axes>"
      ]
     },
     "metadata": {
      "needs_background": "light"
     },
     "output_type": "display_data"
    },
    {
     "data": {
      "image/png": "[encoded data removed]",
      "text/plain": [
       "<Figure size 432x288 with 1 Axes>"
      ]
     },
     "metadata": {
      "needs_background": "light"
     },
     "output_type": "display_data"
    }
   ],
   "source": [
    "import matplotlib.pyplot as plt\n",
    "acc = history.history['acc']\n",
    "val_acc = history.history['val_acc']\n",
    "loss = history.history['loss']\n",
    "val_loss = history.history['val_loss']\n",
    "epochs = range(1, len(acc) + 1)\n",
    "plt.plot(epochs, acc, 'bo', label='Training acc')\n",
    "plt.plot(epochs, val_acc, 'b', label='Validation acc')\n",
    "plt.title('Training and validation accuracy')\n",
    "plt.legend()\n",
    "plt.figure()\n",
    "plt.plot(epochs, loss, 'bo', label='Training loss')\n",
    "plt.plot(epochs, val_loss, 'b', label='Validation loss')\n",
    "plt.title('Training and validation loss')\n",
    "plt.legend()\n",
    "plt.show()"
   ]
  },
  {
   "cell_type": "markdown",
   "metadata": {},
   "source": [
    "# Listing 5.20 Adding a densely connected classifier on top of the convolutional base"
   ]
  },
  {
   "cell_type": "code",
   "execution_count": 12,
   "metadata": {},
   "outputs": [],
   "source": [
    "from tensorflow.keras import models\n",
    "from tensorflow.keras import layers\n",
    "model = models.Sequential()\n",
    "model.add(conv_base)\n",
    "model.add(layers.Flatten())\n",
    "model.add(layers.Dense(256, activation='relu'))\n",
    "model.add(layers.Dense(1, activation='sigmoid'))"
   ]
  },
  {
   "cell_type": "code",
   "execution_count": 13,
   "metadata": {},
   "outputs": [
    {
     "name": "stdout",
     "output_type": "stream",
     "text": [
      "This is the number of trainable weights before freezing the conv base: 30\n"
     ]
    }
   ],
   "source": [
    "print('This is the number of trainable weights before freezing the conv base:', len(model.trainable_weights))"
   ]
  },
  {
   "cell_type": "code",
   "execution_count": 14,
   "metadata": {},
   "outputs": [],
   "source": [
    "conv_base.trainable = False"
   ]
  },
  {
   "cell_type": "code",
   "execution_count": 15,
   "metadata": {},
   "outputs": [
    {
     "name": "stdout",
     "output_type": "stream",
     "text": [
      "This is the number of trainable weights after freezing the conv base: 4\n"
     ]
    }
   ],
   "source": [
    " print('This is the number of trainable weights after freezing the conv base:', len(model.trainable_weights))"
   ]
  },
  {
   "cell_type": "markdown",
   "metadata": {},
   "source": [
    "# Listing 5.21 Training the model end to end with a frozen convolutional base"
   ]
  },
  {
   "cell_type": "code",
   "execution_count": 16,
   "metadata": {
    "scrolled": true
   },
   "outputs": [
    {
     "name": "stdout",
     "output_type": "stream",
     "text": [
      "Found 2000 images belonging to 2 classes.\n",
      "Found 1000 images belonging to 2 classes.\n"
     ]
    },
    {
     "name": "stderr",
     "output_type": "stream",
     "text": [
      "C:\\ProgramData\\Anaconda3\\lib\\site-packages\\tensorflow\\python\\keras\\engine\\training.py:1844: UserWarning: `Model.fit_generator` is deprecated and will be removed in a future version. Please use `Model.fit`, which supports generators.\n",
      "  warnings.warn('`Model.fit_generator` is deprecated and '\n"
     ]
    },
    {
     "name": "stdout",
     "output_type": "stream",
     "text": [
      "Epoch 1/30\n",
      "100/100 [==============================] - 15s 144ms/step - loss: 0.6450 - acc: 0.6321 - val_loss: 0.4662 - val_acc: 0.8080\n",
      "Epoch 2/30\n",
      "100/100 [==============================] - 16s 155ms/step - loss: 0.5096 - acc: 0.7553 - val_loss: 0.3798 - val_acc: 0.8530\n",
      "Epoch 3/30\n",
      "100/100 [==============================] - 16s 157ms/step - loss: 0.4595 - acc: 0.7900 - val_loss: 0.3534 - val_acc: 0.8610\n",
      "Epoch 4/30\n",
      "100/100 [==============================] - 15s 150ms/step - loss: 0.4279 - acc: 0.8110 - val_loss: 0.3120 - val_acc: 0.8790\n",
      "Epoch 5/30\n",
      "100/100 [==============================] - 15s 149ms/step - loss: 0.4015 - acc: 0.8266 - val_loss: 0.2970 - val_acc: 0.8930\n",
      "Epoch 6/30\n",
      "100/100 [==============================] - 15s 155ms/step - loss: 0.3746 - acc: 0.8517 - val_loss: 0.2849 - val_acc: 0.8920\n",
      "Epoch 7/30\n",
      "100/100 [==============================] - 15s 154ms/step - loss: 0.3605 - acc: 0.8480 - val_loss: 0.2751 - val_acc: 0.8960\n",
      "Epoch 8/30\n",
      "100/100 [==============================] - 16s 162ms/step - loss: 0.3536 - acc: 0.8434 - val_loss: 0.2700 - val_acc: 0.8940\n",
      "Epoch 9/30\n",
      "100/100 [==============================] - 17s 166ms/step - loss: 0.3507 - acc: 0.8476 - val_loss: 0.2650 - val_acc: 0.8960\n",
      "Epoch 10/30\n",
      "100/100 [==============================] - 17s 174ms/step - loss: 0.3486 - acc: 0.8509 - val_loss: 0.2639 - val_acc: 0.8940\n",
      "Epoch 11/30\n",
      "100/100 [==============================] - 17s 173ms/step - loss: 0.3153 - acc: 0.8613 - val_loss: 0.2579 - val_acc: 0.8960\n",
      "Epoch 12/30\n",
      "100/100 [==============================] - 17s 173ms/step - loss: 0.3258 - acc: 0.8653 - val_loss: 0.2556 - val_acc: 0.8950\n",
      "Epoch 13/30\n",
      "100/100 [==============================] - 18s 176ms/step - loss: 0.3051 - acc: 0.8788 - val_loss: 0.2552 - val_acc: 0.8960\n",
      "Epoch 14/30\n",
      "100/100 [==============================] - 19s 188ms/step - loss: 0.3182 - acc: 0.8585 - val_loss: 0.2759 - val_acc: 0.8780\n",
      "Epoch 15/30\n",
      "100/100 [==============================] - 19s 191ms/step - loss: 0.3143 - acc: 0.8506 - val_loss: 0.2478 - val_acc: 0.9010\n",
      "Epoch 16/30\n",
      "100/100 [==============================] - 20s 204ms/step - loss: 0.3058 - acc: 0.8619 - val_loss: 0.2465 - val_acc: 0.9040\n",
      "Epoch 17/30\n",
      "100/100 [==============================] - 20s 196ms/step - loss: 0.3208 - acc: 0.8604 - val_loss: 0.2454 - val_acc: 0.8930\n",
      "Epoch 18/30\n",
      "100/100 [==============================] - 20s 202ms/step - loss: 0.3202 - acc: 0.8568 - val_loss: 0.2421 - val_acc: 0.9070\n",
      "Epoch 19/30\n",
      "100/100 [==============================] - 21s 209ms/step - loss: 0.2787 - acc: 0.8779 - val_loss: 0.2403 - val_acc: 0.9080\n",
      "Epoch 20/30\n",
      "100/100 [==============================] - 21s 210ms/step - loss: 0.3159 - acc: 0.8612 - val_loss: 0.2396 - val_acc: 0.9090163 - acc: 0\n",
      "Epoch 21/30\n",
      "100/100 [==============================] - 21s 212ms/step - loss: 0.2920 - acc: 0.8754 - val_loss: 0.2374 - val_acc: 0.9070\n",
      "Epoch 22/30\n",
      "100/100 [==============================] - 22s 224ms/step - loss: 0.2941 - acc: 0.8728 - val_loss: 0.2442 - val_acc: 0.9000\n",
      "Epoch 23/30\n",
      "100/100 [==============================] - 23s 228ms/step - loss: 0.2907 - acc: 0.8758 - val_loss: 0.2545 - val_acc: 0.8900\n",
      "Epoch 24/30\n",
      "100/100 [==============================] - 23s 230ms/step - loss: 0.2984 - acc: 0.8598 - val_loss: 0.2408 - val_acc: 0.9040\n",
      "Epoch 25/30\n",
      "100/100 [==============================] - 24s 237ms/step - loss: 0.2855 - acc: 0.8740 - val_loss: 0.2386 - val_acc: 0.9090\n",
      "Epoch 26/30\n",
      "100/100 [==============================] - 24s 240ms/step - loss: 0.2688 - acc: 0.8851 - val_loss: 0.2373 - val_acc: 0.9110\n",
      "Epoch 27/30\n",
      "100/100 [==============================] - 103s 1s/step - loss: 0.2951 - acc: 0.8823 - val_loss: 0.2370 - val_acc: 0.9100\n",
      "Epoch 28/30\n",
      "100/100 [==============================] - 179s 2s/step - loss: 0.2949 - acc: 0.8719 - val_loss: 0.2467 - val_acc: 0.8970\n",
      "Epoch 29/30\n",
      "100/100 [==============================] - 179s 2s/step - loss: 0.2808 - acc: 0.8730 - val_loss: 0.2448 - val_acc: 0.9010\n",
      "Epoch 30/30\n",
      "100/100 [==============================] - 176s 2s/step - loss: 0.2781 - acc: 0.8731 - val_loss: 0.2356 - val_acc: 0.9090\n"
     ]
    }
   ],
   "source": [
    "from tensorflow.keras.preprocessing.image import ImageDataGenerator\n",
    "from tensorflow.keras import optimizers\n",
    "train_datagen = ImageDataGenerator(\n",
    "    rescale=1./255,\n",
    "    rotation_range=40,\n",
    "    width_shift_range=0.2,\n",
    "    height_shift_range=0.2,\n",
    "    shear_range=0.2,\n",
    "    zoom_range=0.2,\n",
    "    horizontal_flip=True,\n",
    "    fill_mode='nearest')\n",
    "test_datagen = ImageDataGenerator(rescale=1./255)\n",
    "train_generator = train_datagen.flow_from_directory(\n",
    "    train_dir,\n",
    "    target_size=(150, 150),\n",
    "    batch_size=20,\n",
    "    class_mode='binary')\n",
    "validation_generator = test_datagen.flow_from_directory(\n",
    "    validation_dir,\n",
    "    target_size=(150, 150),\n",
    "    batch_size=20,\n",
    "    class_mode='binary')\n",
    "model.compile(loss='binary_crossentropy',\n",
    "    optimizer=optimizers.RMSprop(lr=2e-5),\n",
    "    metrics=['acc'])\n",
    "history = model.fit_generator(\n",
    "    train_generator,\n",
    "    steps_per_epoch=100,\n",
    "    epochs=30,\n",
    "    validation_data=validation_generator,\n",
    "    validation_steps=50)\n"
   ]
  },
  {
   "cell_type": "code",
   "execution_count": 17,
   "metadata": {},
   "outputs": [
    {
     "data": {
      "image/png": "[encoded data removed]",
      "text/plain": [
       "<Figure size 432x288 with 1 Axes>"
      ]
     },
     "metadata": {
      "needs_background": "light"
     },
     "output_type": "display_data"
    },
    {
     "data": {
      "image/png": "[encoded data removed]",
      "text/plain": [
       "<Figure size 432x288 with 1 Axes>"
      ]
     },
     "metadata": {
      "needs_background": "light"
     },
     "output_type": "display_data"
    }
   ],
   "source": [
    "import matplotlib.pyplot as plt\n",
    "acc = history.history['acc']\n",
    "val_acc = history.history['val_acc']\n",
    "loss = history.history['loss']\n",
    "val_loss = history.history['val_loss']\n",
    "epochs = range(1, len(acc) + 1)\n",
    "plt.plot(epochs, acc, 'bo', label='Training acc')\n",
    "plt.plot(epochs, val_acc, 'b', label='Validation acc')\n",
    "plt.title('Training and validation accuracy')\n",
    "plt.legend()\n",
    "plt.figure()\n",
    "plt.plot(epochs, loss, 'bo', label='Training loss')\n",
    "plt.plot(epochs, val_loss, 'b', label='Validation loss')\n",
    "plt.title('Training and validation loss')\n",
    "plt.legend()\n",
    "plt.show()"
   ]
  },
  {
   "cell_type": "markdown",
   "metadata": {},
   "source": [
    "# As a reminder, this is what your convolutional base looks like:"
   ]
  },
  {
   "cell_type": "code",
   "execution_count": 18,
   "metadata": {},
   "outputs": [
    {
     "name": "stdout",
     "output_type": "stream",
     "text": [
      "Model: \"vgg16\"\n",
      "_________________________________________________________________\n",
      "Layer (type)                 Output Shape              Param #   \n",
      "=================================================================\n",
      "input_1 (InputLayer)         [(None, 150, 150, 3)]     0         \n",
      "_________________________________________________________________\n",
      "block1_conv1 (Conv2D)        (None, 150, 150, 64)      1792      \n",
      "_________________________________________________________________\n",
      "block1_conv2 (Conv2D)        (None, 150, 150, 64)      36928     \n",
      "_________________________________________________________________\n",
      "block1_pool (MaxPooling2D)   (None, 75, 75, 64)        0         \n",
      "_________________________________________________________________\n",
      "block2_conv1 (Conv2D)        (None, 75, 75, 128)       73856     \n",
      "_________________________________________________________________\n",
      "block2_conv2 (Conv2D)        (None, 75, 75, 128)       147584    \n",
      "_________________________________________________________________\n",
      "block2_pool (MaxPooling2D)   (None, 37, 37, 128)       0         \n",
      "_________________________________________________________________\n",
      "block3_conv1 (Conv2D)        (None, 37, 37, 256)       295168    \n",
      "_________________________________________________________________\n",
      "block3_conv2 (Conv2D)        (None, 37, 37, 256)       590080    \n",
      "_________________________________________________________________\n",
      "block3_conv3 (Conv2D)        (None, 37, 37, 256)       590080    \n",
      "_________________________________________________________________\n",
      "block3_pool (MaxPooling2D)   (None, 18, 18, 256)       0         \n",
      "_________________________________________________________________\n",
      "block4_conv1 (Conv2D)        (None, 18, 18, 512)       1180160   \n",
      "_________________________________________________________________\n",
      "block4_conv2 (Conv2D)        (None, 18, 18, 512)       2359808   \n",
      "_________________________________________________________________\n",
      "block4_conv3 (Conv2D)        (None, 18, 18, 512)       2359808   \n",
      "_________________________________________________________________\n",
      "block4_pool (MaxPooling2D)   (None, 9, 9, 512)         0         \n",
      "_________________________________________________________________\n",
      "block5_conv1 (Conv2D)        (None, 9, 9, 512)         2359808   \n",
      "_________________________________________________________________\n",
      "block5_conv2 (Conv2D)        (None, 9, 9, 512)         2359808   \n",
      "_________________________________________________________________\n",
      "block5_conv3 (Conv2D)        (None, 9, 9, 512)         2359808   \n",
      "_________________________________________________________________\n",
      "block5_pool (MaxPooling2D)   (None, 4, 4, 512)         0         \n",
      "=================================================================\n",
      "Total params: 14,714,688\n",
      "Trainable params: 0\n",
      "Non-trainable params: 14,714,688\n",
      "_________________________________________________________________\n"
     ]
    }
   ],
   "source": [
    " conv_base.summary()"
   ]
  },
  {
   "cell_type": "markdown",
   "metadata": {},
   "source": [
    "# Listing 5.22 Freezing all layers up to a specific on"
   ]
  },
  {
   "cell_type": "code",
   "execution_count": 14,
   "metadata": {},
   "outputs": [],
   "source": [
    "conv_base.trainable = True\n",
    "set_trainable = False\n",
    "for layer in conv_base.layers:\n",
    "    if layer.name == 'block5_conv1':\n",
    "        set_trainable = True\n",
    "    if set_trainable:\n",
    "        layer.trainable = True\n",
    "    else:\n",
    "        layer.trainable = False"
   ]
  },
  {
   "cell_type": "markdown",
   "metadata": {},
   "source": [
    "# Listing 5.23 Fine-tuning the model"
   ]
  },
  {
   "cell_type": "code",
   "execution_count": 15,
   "metadata": {},
   "outputs": [
    {
     "name": "stdout",
     "output_type": "stream",
     "text": [
      "Epoch 1/100\n",
      "100/100 [==============================] - 153s 2s/step - loss: 0.2931 - acc: 0.8670 - val_loss: 0.2287 - val_acc: 0.9130\n",
      "Epoch 2/100\n",
      "100/100 [==============================] - 151s 2s/step - loss: 0.2494 - acc: 0.8860 - val_loss: 0.2425 - val_acc: 0.9050\n",
      "Epoch 3/100\n",
      "100/100 [==============================] - 153s 2s/step - loss: 0.2266 - acc: 0.9030 - val_loss: 0.1953 - val_acc: 0.9200\n",
      "Epoch 4/100\n",
      "100/100 [==============================] - 154s 2s/step - loss: 0.2281 - acc: 0.9055 - val_loss: 0.1944 - val_acc: 0.9220\n",
      "Epoch 5/100\n",
      "100/100 [==============================] - 156s 2s/step - loss: 0.2189 - acc: 0.9085 - val_loss: 0.2023 - val_acc: 0.9230\n",
      "Epoch 6/100\n",
      "100/100 [==============================] - 154s 2s/step - loss: 0.1841 - acc: 0.9240 - val_loss: 0.2068 - val_acc: 0.9190\n",
      "Epoch 7/100\n",
      "100/100 [==============================] - 154s 2s/step - loss: 0.1863 - acc: 0.9210 - val_loss: 0.1978 - val_acc: 0.9250\n",
      "Epoch 8/100\n",
      "100/100 [==============================] - 156s 2s/step - loss: 0.1739 - acc: 0.9315 - val_loss: 0.1874 - val_acc: 0.9270\n",
      "Epoch 9/100\n",
      "100/100 [==============================] - 154s 2s/step - loss: 0.1697 - acc: 0.9240 - val_loss: 0.1981 - val_acc: 0.9240\n",
      "Epoch 10/100\n",
      "100/100 [==============================] - 153s 2s/step - loss: 0.1518 - acc: 0.9505 - val_loss: 0.2045 - val_acc: 0.9250\n",
      "Epoch 11/100\n",
      "100/100 [==============================] - 156s 2s/step - loss: 0.1513 - acc: 0.9395 - val_loss: 0.1836 - val_acc: 0.9300\n",
      "Epoch 12/100\n",
      "100/100 [==============================] - 154s 2s/step - loss: 0.1388 - acc: 0.9495 - val_loss: 0.2012 - val_acc: 0.9270\n",
      "Epoch 13/100\n",
      "100/100 [==============================] - 151s 2s/step - loss: 0.1397 - acc: 0.9470 - val_loss: 0.1884 - val_acc: 0.9320\n",
      "Epoch 14/100\n",
      "100/100 [==============================] - 152s 2s/step - loss: 0.1352 - acc: 0.9490 - val_loss: 0.2040 - val_acc: 0.9210\n",
      "Epoch 15/100\n",
      "100/100 [==============================] - 150s 2s/step - loss: 0.1165 - acc: 0.9520 - val_loss: 0.2084 - val_acc: 0.9270\n",
      "Epoch 16/100\n",
      "100/100 [==============================] - 149s 1s/step - loss: 0.1083 - acc: 0.9595 - val_loss: 0.2098 - val_acc: 0.9280\n",
      "Epoch 17/100\n",
      "100/100 [==============================] - 150s 2s/step - loss: 0.0990 - acc: 0.9645 - val_loss: 0.2010 - val_acc: 0.9300\n",
      "Epoch 18/100\n",
      "100/100 [==============================] - 154s 2s/step - loss: 0.1159 - acc: 0.9585 - val_loss: 0.1872 - val_acc: 0.9330\n",
      "Epoch 19/100\n",
      "100/100 [==============================] - 152s 2s/step - loss: 0.1104 - acc: 0.9620 - val_loss: 0.2027 - val_acc: 0.9360\n",
      "Epoch 20/100\n",
      "100/100 [==============================] - 152s 2s/step - loss: 0.0919 - acc: 0.9630 - val_loss: 0.1911 - val_acc: 0.9300\n",
      "Epoch 21/100\n",
      "100/100 [==============================] - 151s 2s/step - loss: 0.0946 - acc: 0.9635 - val_loss: 0.1958 - val_acc: 0.9290\n",
      "Epoch 22/100\n",
      "100/100 [==============================] - 152s 2s/step - loss: 0.0873 - acc: 0.9665 - val_loss: 0.2032 - val_acc: 0.9280\n",
      "Epoch 23/100\n",
      "100/100 [==============================] - 149s 1s/step - loss: 0.0873 - acc: 0.9730 - val_loss: 0.1853 - val_acc: 0.9330\n",
      "Epoch 24/100\n",
      "100/100 [==============================] - 150s 1s/step - loss: 0.0812 - acc: 0.9685 - val_loss: 0.2755 - val_acc: 0.9170\n",
      "Epoch 25/100\n",
      "100/100 [==============================] - 3517s 35s/step - loss: 0.0831 - acc: 0.9690 - val_loss: 0.1767 - val_acc: 0.9370\n",
      "Epoch 26/100\n",
      "100/100 [==============================] - 154s 2s/step - loss: 0.0704 - acc: 0.9730 - val_loss: 0.1930 - val_acc: 0.9340\n",
      "Epoch 27/100\n",
      "100/100 [==============================] - 153s 2s/step - loss: 0.0709 - acc: 0.9745 - val_loss: 0.2233 - val_acc: 0.9300\n",
      "Epoch 28/100\n",
      "100/100 [==============================] - 152s 2s/step - loss: 0.0831 - acc: 0.9675 - val_loss: 0.1916 - val_acc: 0.9340\n",
      "Epoch 29/100\n",
      "100/100 [==============================] - 154s 2s/step - loss: 0.0713 - acc: 0.9770 - val_loss: 0.1914 - val_acc: 0.9340\n",
      "Epoch 30/100\n",
      "100/100 [==============================] - 153s 2s/step - loss: 0.0675 - acc: 0.9725 - val_loss: 0.2102 - val_acc: 0.9340\n",
      "Epoch 31/100\n",
      "100/100 [==============================] - 153s 2s/step - loss: 0.0666 - acc: 0.9770 - val_loss: 0.1879 - val_acc: 0.9390\n",
      "Epoch 32/100\n",
      "100/100 [==============================] - 158s 2s/step - loss: 0.0545 - acc: 0.9835 - val_loss: 0.3036 - val_acc: 0.9130\n",
      "Epoch 33/100\n",
      "100/100 [==============================] - 156s 2s/step - loss: 0.0714 - acc: 0.9750 - val_loss: 0.2225 - val_acc: 0.9310\n",
      "Epoch 34/100\n",
      "100/100 [==============================] - 152s 2s/step - loss: 0.0581 - acc: 0.9785 - val_loss: 0.2475 - val_acc: 0.9240\n",
      "Epoch 35/100\n",
      "100/100 [==============================] - 150s 2s/step - loss: 0.0608 - acc: 0.9760 - val_loss: 0.2509 - val_acc: 0.9290\n",
      "Epoch 36/100\n",
      "100/100 [==============================] - 152s 2s/step - loss: 0.0589 - acc: 0.9775 - val_loss: 0.3007 - val_acc: 0.9200\n",
      "Epoch 37/100\n",
      "100/100 [==============================] - 152s 2s/step - loss: 0.0525 - acc: 0.9795 - val_loss: 0.3215 - val_acc: 0.9130\n",
      "Epoch 38/100\n",
      "100/100 [==============================] - 160s 2s/step - loss: 0.0517 - acc: 0.9775 - val_loss: 0.2277 - val_acc: 0.9310\n",
      "Epoch 39/100\n",
      "100/100 [==============================] - 157s 2s/step - loss: 0.0567 - acc: 0.9775 - val_loss: 0.2065 - val_acc: 0.9370\n",
      "Epoch 40/100\n",
      "100/100 [==============================] - 148s 1s/step - loss: 0.0555 - acc: 0.9810 - val_loss: 0.1864 - val_acc: 0.9380\n",
      "Epoch 41/100\n",
      "100/100 [==============================] - 153s 2s/step - loss: 0.0437 - acc: 0.9810 - val_loss: 0.2096 - val_acc: 0.9360\n",
      "Epoch 42/100\n",
      "100/100 [==============================] - 161s 2s/step - loss: 0.0491 - acc: 0.9820 - val_loss: 0.1751 - val_acc: 0.9420\n",
      "Epoch 43/100\n",
      "100/100 [==============================] - 150s 1s/step - loss: 0.0474 - acc: 0.9840 - val_loss: 0.2118 - val_acc: 0.9370\n",
      "Epoch 44/100\n",
      "100/100 [==============================] - 147s 1s/step - loss: 0.0403 - acc: 0.9875 - val_loss: 0.2249 - val_acc: 0.9280\n",
      "Epoch 45/100\n",
      "100/100 [==============================] - 146s 1s/step - loss: 0.0379 - acc: 0.9850 - val_loss: 0.2465 - val_acc: 0.9340\n",
      "Epoch 46/100\n",
      "100/100 [==============================] - 149s 1s/step - loss: 0.0494 - acc: 0.9850 - val_loss: 0.2085 - val_acc: 0.9370\n",
      "Epoch 47/100\n",
      "100/100 [==============================] - 147s 1s/step - loss: 0.0484 - acc: 0.9825 - val_loss: 0.2325 - val_acc: 0.9380\n",
      "Epoch 48/100\n",
      "100/100 [==============================] - 148s 1s/step - loss: 0.0384 - acc: 0.9855 - val_loss: 0.2312 - val_acc: 0.9360\n",
      "Epoch 49/100\n",
      "100/100 [==============================] - 147s 1s/step - loss: 0.0380 - acc: 0.9870 - val_loss: 0.2308 - val_acc: 0.9360\n",
      "Epoch 50/100\n",
      "100/100 [==============================] - 147s 1s/step - loss: 0.0421 - acc: 0.9845 - val_loss: 0.2259 - val_acc: 0.9390\n",
      "Epoch 51/100\n",
      "100/100 [==============================] - 148s 1s/step - loss: 0.0437 - acc: 0.9850 - val_loss: 0.2327 - val_acc: 0.9330\n",
      "Epoch 52/100\n",
      "100/100 [==============================] - 151s 2s/step - loss: 0.0387 - acc: 0.9850 - val_loss: 0.2748 - val_acc: 0.9320\n",
      "Epoch 53/100\n",
      "100/100 [==============================] - 159s 2s/step - loss: 0.0352 - acc: 0.9870 - val_loss: 0.3103 - val_acc: 0.9260\n",
      "Epoch 54/100\n",
      "100/100 [==============================] - 173s 2s/step - loss: 0.0377 - acc: 0.9865 - val_loss: 0.2199 - val_acc: 0.9330\n",
      "Epoch 55/100\n",
      "100/100 [==============================] - 165s 2s/step - loss: 0.0395 - acc: 0.9845 - val_loss: 0.2636 - val_acc: 0.9400\n",
      "Epoch 56/100\n",
      "100/100 [==============================] - 166s 2s/step - loss: 0.0267 - acc: 0.9905 - val_loss: 0.4220 - val_acc: 0.9120\n",
      "Epoch 57/100\n",
      "100/100 [==============================] - 167s 2s/step - loss: 0.0329 - acc: 0.9880 - val_loss: 0.3253 - val_acc: 0.9200\n",
      "Epoch 58/100\n",
      "100/100 [==============================] - 151s 2s/step - loss: 0.0271 - acc: 0.9900 - val_loss: 0.2617 - val_acc: 0.9350\n",
      "Epoch 59/100\n",
      "100/100 [==============================] - 145s 1s/step - loss: 0.0295 - acc: 0.9895 - val_loss: 0.2995 - val_acc: 0.9330\n",
      "Epoch 60/100\n",
      "100/100 [==============================] - 144s 1s/step - loss: 0.0348 - acc: 0.9885 - val_loss: 0.2229 - val_acc: 0.9450\n",
      "Epoch 61/100\n",
      "100/100 [==============================] - 145s 1s/step - loss: 0.0298 - acc: 0.9900 - val_loss: 0.3240 - val_acc: 0.9310\n"
     ]
    },
    {
     "name": "stdout",
     "output_type": "stream",
     "text": [
      "Epoch 62/100\n",
      "100/100 [==============================] - 145s 1s/step - loss: 0.0373 - acc: 0.9880 - val_loss: 0.2944 - val_acc: 0.9350\n",
      "Epoch 63/100\n",
      "100/100 [==============================] - 145s 1s/step - loss: 0.0310 - acc: 0.9870 - val_loss: 0.2696 - val_acc: 0.9430\n",
      "Epoch 64/100\n",
      "100/100 [==============================] - 145s 1s/step - loss: 0.0261 - acc: 0.9915 - val_loss: 0.2607 - val_acc: 0.9370\n",
      "Epoch 65/100\n",
      "100/100 [==============================] - 145s 1s/step - loss: 0.0279 - acc: 0.9910 - val_loss: 0.2736 - val_acc: 0.9370\n",
      "Epoch 66/100\n",
      "100/100 [==============================] - 145s 1s/step - loss: 0.0275 - acc: 0.9875 - val_loss: 0.3915 - val_acc: 0.9130\n",
      "Epoch 67/100\n",
      "100/100 [==============================] - 3027s 30s/step - loss: 0.0313 - acc: 0.9870 - val_loss: 0.2684 - val_acc: 0.9330\n",
      "Epoch 68/100\n",
      "100/100 [==============================] - 148s 1s/step - loss: 0.0280 - acc: 0.9925 - val_loss: 0.2866 - val_acc: 0.9290\n",
      "Epoch 69/100\n",
      "100/100 [==============================] - 151s 2s/step - loss: 0.0334 - acc: 0.9890 - val_loss: 0.2415 - val_acc: 0.9380\n",
      "Epoch 70/100\n",
      "100/100 [==============================] - 154s 2s/step - loss: 0.0275 - acc: 0.9915 - val_loss: 0.2466 - val_acc: 0.9400\n",
      "Epoch 71/100\n",
      "100/100 [==============================] - 161s 2s/step - loss: 0.0290 - acc: 0.9900 - val_loss: 0.2279 - val_acc: 0.9400\n",
      "Epoch 72/100\n",
      "100/100 [==============================] - 190s 2s/step - loss: 0.0374 - acc: 0.9875 - val_loss: 0.2432 - val_acc: 0.9400\n",
      "Epoch 73/100\n",
      "100/100 [==============================] - 197s 2s/step - loss: 0.0336 - acc: 0.9885 - val_loss: 0.2184 - val_acc: 0.9480\n",
      "Epoch 74/100\n",
      "100/100 [==============================] - 174s 2s/step - loss: 0.0228 - acc: 0.9915 - val_loss: 0.2410 - val_acc: 0.9410\n",
      "Epoch 75/100\n",
      "100/100 [==============================] - 172s 2s/step - loss: 0.0221 - acc: 0.9940 - val_loss: 0.2508 - val_acc: 0.9350\n",
      "Epoch 76/100\n",
      "100/100 [==============================] - 177s 2s/step - loss: 0.0279 - acc: 0.9885 - val_loss: 0.2343 - val_acc: 0.9430\n",
      "Epoch 77/100\n",
      "100/100 [==============================] - 174s 2s/step - loss: 0.0273 - acc: 0.9895 - val_loss: 0.2894 - val_acc: 0.9370\n",
      "Epoch 78/100\n",
      "100/100 [==============================] - 171s 2s/step - loss: 0.0228 - acc: 0.9925 - val_loss: 0.2506 - val_acc: 0.9420\n",
      "Epoch 79/100\n",
      "100/100 [==============================] - 169s 2s/step - loss: 0.0185 - acc: 0.9940 - val_loss: 0.2460 - val_acc: 0.9370\n",
      "Epoch 80/100\n",
      "100/100 [==============================] - 172s 2s/step - loss: 0.0233 - acc: 0.9895 - val_loss: 0.2746 - val_acc: 0.9390\n",
      "Epoch 81/100\n",
      "100/100 [==============================] - 168s 2s/step - loss: 0.0261 - acc: 0.9875 - val_loss: 0.2493 - val_acc: 0.9380\n",
      "Epoch 82/100\n",
      "100/100 [==============================] - 153s 2s/step - loss: 0.0193 - acc: 0.9950 - val_loss: 0.2570 - val_acc: 0.9380\n",
      "Epoch 83/100\n",
      "100/100 [==============================] - 155s 2s/step - loss: 0.0345 - acc: 0.9855 - val_loss: 0.2650 - val_acc: 0.9410\n",
      "Epoch 84/100\n",
      "100/100 [==============================] - 155s 2s/step - loss: 0.0170 - acc: 0.9955 - val_loss: 0.2348 - val_acc: 0.9490\n",
      "Epoch 85/100\n",
      "100/100 [==============================] - 156s 2s/step - loss: 0.0236 - acc: 0.9910 - val_loss: 0.2644 - val_acc: 0.9420\n",
      "Epoch 86/100\n",
      "100/100 [==============================] - 159s 2s/step - loss: 0.0234 - acc: 0.9925 - val_loss: 0.3377 - val_acc: 0.9340\n",
      "Epoch 87/100\n",
      "100/100 [==============================] - 194s 2s/step - loss: 0.0284 - acc: 0.9910 - val_loss: 0.2610 - val_acc: 0.9380\n",
      "Epoch 88/100\n",
      "100/100 [==============================] - 192s 2s/step - loss: 0.0284 - acc: 0.9890 - val_loss: 0.2258 - val_acc: 0.9410\n",
      "Epoch 89/100\n",
      "100/100 [==============================] - 170s 2s/step - loss: 0.0199 - acc: 0.9925 - val_loss: 0.3511 - val_acc: 0.9340\n",
      "Epoch 90/100\n",
      "100/100 [==============================] - 176s 2s/step - loss: 0.0214 - acc: 0.9930 - val_loss: 0.2529 - val_acc: 0.9410\n",
      "Epoch 91/100\n",
      "100/100 [==============================] - 162s 2s/step - loss: 0.0131 - acc: 0.9955 - val_loss: 0.3534 - val_acc: 0.9310\n",
      "Epoch 92/100\n",
      "100/100 [==============================] - 158s 2s/step - loss: 0.0149 - acc: 0.9945 - val_loss: 0.2525 - val_acc: 0.9440\n",
      "Epoch 93/100\n",
      "100/100 [==============================] - 153s 2s/step - loss: 0.0157 - acc: 0.9960 - val_loss: 0.3258 - val_acc: 0.9340\n",
      "Epoch 94/100\n",
      "100/100 [==============================] - 154s 2s/step - loss: 0.0217 - acc: 0.9930 - val_loss: 0.3009 - val_acc: 0.9360\n",
      "Epoch 95/100\n",
      "100/100 [==============================] - 151s 2s/step - loss: 0.0284 - acc: 0.9865 - val_loss: 0.2736 - val_acc: 0.9390\n",
      "Epoch 96/100\n",
      "100/100 [==============================] - 156s 2s/step - loss: 0.0194 - acc: 0.9930 - val_loss: 0.2730 - val_acc: 0.9380\n",
      "Epoch 97/100\n",
      "100/100 [==============================] - 156s 2s/step - loss: 0.0198 - acc: 0.9915 - val_loss: 0.3258 - val_acc: 0.9340\n",
      "Epoch 98/100\n",
      "100/100 [==============================] - 174s 2s/step - loss: 0.0132 - acc: 0.9965 - val_loss: 0.2851 - val_acc: 0.9370\n",
      "Epoch 99/100\n",
      "100/100 [==============================] - 179s 2s/step - loss: 0.0191 - acc: 0.9930 - val_loss: 0.3140 - val_acc: 0.9350\n",
      "Epoch 100/100\n",
      "100/100 [==============================] - 179s 2s/step - loss: 0.0150 - acc: 0.9950 - val_loss: 0.2920 - val_acc: 0.9370\n"
     ]
    }
   ],
   "source": [
    "model.compile(loss='binary_crossentropy',\n",
    "    optimizer=optimizers.RMSprop(lr=1e-5),\n",
    "    metrics=['acc'])\n",
    "history = model.fit_generator(\n",
    "    train_generator,\n",
    "    steps_per_epoch=100,\n",
    "    epochs=100,\n",
    "    validation_data=validation_generator,\n",
    "    validation_steps=50)"
   ]
  },
  {
   "cell_type": "code",
   "execution_count": 16,
   "metadata": {},
   "outputs": [
    {
     "data": {
      "image/png": "[encoded data removed]",
      "text/plain": [
       "<Figure size 432x288 with 1 Axes>"
      ]
     },
     "metadata": {
      "needs_background": "light"
     },
     "output_type": "display_data"
    },
    {
     "data": {
      "image/png": "[encoded data removed]",
      "text/plain": [
       "<Figure size 432x288 with 1 Axes>"
      ]
     },
     "metadata": {
      "needs_background": "light"
     },
     "output_type": "display_data"
    }
   ],
   "source": [
    "import matplotlib.pyplot as plt\n",
    "acc = history.history['acc']\n",
    "val_acc = history.history['val_acc']\n",
    "loss = history.history['loss']\n",
    "val_loss = history.history['val_loss']\n",
    "epochs = range(1, len(acc) + 1)\n",
    "plt.plot(epochs, acc, 'bo', label='Training acc')\n",
    "plt.plot(epochs, val_acc, 'b', label='Validation acc')\n",
    "plt.title('Training and validation accuracy')\n",
    "plt.legend()\n",
    "plt.figure()\n",
    "plt.plot(epochs, loss, 'bo', label='Training loss')\n",
    "plt.plot(epochs, val_loss, 'b', label='Validation loss')\n",
    "plt.title('Training and validation loss')\n",
    "plt.legend()\n",
    "plt.show()"
   ]
  },
  {
   "cell_type": "markdown",
   "metadata": {},
   "source": [
    "# Listing 5.24 Smoothing the plots"
   ]
  },
  {
   "cell_type": "code",
   "execution_count": 17,
   "metadata": {},
   "outputs": [
    {
     "data": {
      "text/plain": [
       "<matplotlib.legend.Legend at 0x1f1386b6c10>"
      ]
     },
     "execution_count": 17,
     "metadata": {},
     "output_type": "execute_result"
    },
    {
     "data": {
      "image/png": "[encoded data removed]",
      "text/plain": [
       "<Figure size 432x288 with 1 Axes>"
      ]
     },
     "metadata": {
      "needs_background": "light"
     },
     "output_type": "display_data"
    },
    {
     "data": {
      "image/png": "[encoded data removed]",
      "text/plain": [
       "<Figure size 432x288 with 1 Axes>"
      ]
     },
     "metadata": {
      "needs_background": "light"
     },
     "output_type": "display_data"
    }
   ],
   "source": [
    "def smooth_curve(points, factor=0.8):\n",
    "    smoothed_points = []\n",
    "    for point in points:\n",
    "        if smoothed_points:\n",
    "            previous = smoothed_points[-1]\n",
    "            smoothed_points.append(previous * factor + point * (1 - factor))\n",
    "        else:\n",
    "            smoothed_points.append(point)\n",
    "    return smoothed_points\n",
    "plt.plot(epochs,\n",
    "    smooth_curve(acc), 'bo', label='Smoothed training acc')\n",
    "plt.plot(epochs,\n",
    "    smooth_curve(val_acc), 'b', label='Smoothed validation acc')\n",
    "plt.title('Training and validation accuracy')\n",
    "plt.legend()\n",
    "plt.figure()\n",
    "plt.plot(epochs,\n",
    "    smooth_curve(loss), 'bo', label='Smoothed training loss')\n",
    "plt.plot(epochs,\n",
    "    smooth_curve(val_loss), 'b', label='Smoothed validation loss')\n",
    "plt.title('Training and validation loss')\n",
    "plt.legend()"
   ]
  },
  {
   "cell_type": "code",
   "execution_count": 18,
   "metadata": {},
   "outputs": [
    {
     "name": "stdout",
     "output_type": "stream",
     "text": [
      "Found 1000 images belonging to 2 classes.\n",
      "WARNING:tensorflow:From <ipython-input-18-d4b3f01ce44d>:6: Model.evaluate_generator (from tensorflow.python.keras.engine.training) is deprecated and will be removed in a future version.\n",
      "Instructions for updating:\n",
      "Please use Model.evaluate, which supports generators.\n",
      "test acc: 0.9430000185966492\n"
     ]
    }
   ],
   "source": [
    "test_generator = test_datagen.flow_from_directory(\n",
    "    test_dir,\n",
    "    target_size=(150, 150),\n",
    "    batch_size=20,\n",
    "    class_mode='binary')\n",
    "test_loss, test_acc = model.evaluate_generator(test_generator, steps=50)\n",
    "print('test acc:', test_acc)"
   ]
  },
  {
   "cell_type": "code",
   "execution_count": null,
   "metadata": {},
   "outputs": [],
   "source": []
  }
 ],
 "metadata": {
  "kernelspec": {
   "display_name": "Python 3",
   "language": "python",
   "name": "python3"
  },
  "language_info": {
   "codemirror_mode": {
    "name": "ipython",
    "version": 3
   },
   "file_extension": ".py",
   "mimetype": "text/x-python",
   "name": "python",
   "nbconvert_exporter": "python",
   "pygments_lexer": "ipython3",
   "version": "3.8.8"
  }
 },
 "nbformat": 4,
 "nbformat_minor": 4
}
