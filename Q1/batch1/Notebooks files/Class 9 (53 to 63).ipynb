{
 "cells": [
  {
   "cell_type": "code",
   "execution_count": 2,
   "metadata": {},
   "outputs": [
    {
     "name": "stdout",
     "output_type": "stream",
     "text": [
      "0\n",
      "1\n",
      "2\n",
      "3\n",
      "4\n",
      "5\n",
      "6\n",
      "7\n",
      "8\n",
      "9\n"
     ]
    }
   ],
   "source": [
    "var = 0\n",
    "while var <10:\n",
    "    print(var)\n",
    "    var += 1"
   ]
  },
  {
   "cell_type": "code",
   "execution_count": 6,
   "metadata": {},
   "outputs": [
    {
     "name": "stdout",
     "output_type": "stream",
     "text": [
      "Enter Purchasig goodsamosa\n",
      "Enter Purchasig goodpakora\n",
      "Enter Purchasig goodq\n"
     ]
    },
    {
     "ename": "AttributeError",
     "evalue": "'list' object has no attribute 'appened'",
     "output_type": "error",
     "traceback": [
      "\u001b[1;31m---------------------------------------------------------------------------\u001b[0m",
      "\u001b[1;31mAttributeError\u001b[0m                            Traceback (most recent call last)",
      "\u001b[1;32m<ipython-input-6-2ecf088ee8d7>\u001b[0m in \u001b[0;36m<module>\u001b[1;34m\u001b[0m\n\u001b[0;32m      6\u001b[0m         \u001b[0mflag\u001b[0m \u001b[1;33m=\u001b[0m \u001b[1;32mFalse\u001b[0m\u001b[1;33m\u001b[0m\u001b[1;33m\u001b[0m\u001b[0m\n\u001b[0;32m      7\u001b[0m \u001b[1;33m\u001b[0m\u001b[0m\n\u001b[1;32m----> 8\u001b[1;33m         \u001b[0mcart\u001b[0m\u001b[1;33m.\u001b[0m\u001b[0mappened\u001b[0m\u001b[1;33m(\u001b[0m\u001b[0muser_input\u001b[0m\u001b[1;33m)\u001b[0m\u001b[1;33m\u001b[0m\u001b[1;33m\u001b[0m\u001b[0m\n\u001b[0m",
      "\u001b[1;31mAttributeError\u001b[0m: 'list' object has no attribute 'appened'"
     ]
    }
   ],
   "source": [
    "cart = []\n",
    "flag = True\n",
    "while flag:\n",
    "    user_input = input(\"Enter Purchasig good\")\n",
    "    if user_input == 'q':\n",
    "        flag = False\n",
    "    \n",
    "        cart.appened(user_input)"
   ]
  },
  {
   "cell_type": "code",
   "execution_count": 18,
   "metadata": {},
   "outputs": [
    {
     "name": "stdout",
     "output_type": "stream",
     "text": [
      "Enter the item = samosa\n",
      "Enter the item = pakora\n",
      "Enter the item = q\n",
      "['samosa', 'pakora']\n"
     ]
    }
   ],
   "source": [
    "cart = []\n",
    "flag = True\n",
    "while flag:\n",
    "    item = input(\"Enter the item = \")\n",
    "    if item == 'q':\n",
    "        flag = False\n",
    "    else:\n",
    "        cart.append(item)\n",
    "print(cart)"
   ]
  },
  {
   "cell_type": "code",
   "execution_count": 22,
   "metadata": {},
   "outputs": [
    {
     "name": "stdout",
     "output_type": "stream",
     "text": [
      "Enter the item = samosa\n",
      "Enter the item = pakora\n",
      "Enter the item = q\n",
      "['samosa', 'pakora']\n"
     ]
    }
   ],
   "source": [
    "cart = []\n",
    "flag = True\n",
    "while flag:\n",
    "    item = input(\"Enter the item = \")\n",
    "    if item == 'q':\n",
    "        flag = False\n",
    "        break\n",
    "    cart.append(item)\n",
    "print(cart)"
   ]
  },
  {
   "cell_type": "code",
   "execution_count": 61,
   "metadata": {},
   "outputs": [],
   "source": [
    "class mobile ():\n",
    "    '''atributes:\n",
    "    volur \n",
    "    screen size\n",
    "    battery\n",
    "    brand\n",
    "    \n",
    "    function:\n",
    "    receive_call\n",
    "    dailed_call\n",
    "    write_mxg\n",
    "    read_mxg\n",
    "    play_game'''\n",
    "    \n",
    "    def __init__(self, colour,screen_size,battery,brand):\n",
    "        self.colour = colour\n",
    "        self.screen = screen_size\n",
    "        self.size_size = battery\n",
    "        self.battry = battery\n",
    "        self.brand = brand\n",
    "        \n",
    "    def receive_call(self):\n",
    "        print(f\"call is receive {self.brand}\")\n",
    "    \n",
    "    def dailed_call(self):\n",
    "        print(f\"call is dailed {self.brand}\")\n",
    "    \n",
    "    def write_mxg(self):\n",
    "        print(f\"mex is written {self.brand}\")\n",
    "    \n",
    "    def read_mxg(self):\n",
    "        print(f\"mxg is read {self.brand}\")\n",
    "    \n",
    "    def send_mxg(self):\n",
    "        print(f\"mxg is sent {self.brand}\")\n",
    "    \n",
    "    def play_game(self):\n",
    "        print(f\"game is Avaliable {self.brand}\")"
   ]
  },
  {
   "cell_type": "code",
   "execution_count": 62,
   "metadata": {},
   "outputs": [],
   "source": [
    "mobile1 = mobile(\"black\",\"5 inch\" , \"8 hour\" , \"oppo\")"
   ]
  },
  {
   "cell_type": "code",
   "execution_count": 64,
   "metadata": {},
   "outputs": [
    {
     "data": {
      "text/plain": [
       "'oppo'"
      ]
     },
     "execution_count": 64,
     "metadata": {},
     "output_type": "execute_result"
    }
   ],
   "source": [
    "mobile1.brand"
   ]
  },
  {
   "cell_type": "code",
   "execution_count": 67,
   "metadata": {},
   "outputs": [
    {
     "data": {
      "text/plain": [
       "'black'"
      ]
     },
     "execution_count": 67,
     "metadata": {},
     "output_type": "execute_result"
    }
   ],
   "source": [
    "mobile1.colour"
   ]
  },
  {
   "cell_type": "code",
   "execution_count": 68,
   "metadata": {},
   "outputs": [
    {
     "name": "stdout",
     "output_type": "stream",
     "text": [
      "call is receive oppo\n"
     ]
    }
   ],
   "source": [
    "mobile1.receive_call()"
   ]
  },
  {
   "cell_type": "code",
   "execution_count": 69,
   "metadata": {},
   "outputs": [],
   "source": [
    "mobile2 = mobile(\"gray\",\"5.5 inch\" , \"5 hour\" , \"Matrolla\")"
   ]
  },
  {
   "cell_type": "code",
   "execution_count": 70,
   "metadata": {},
   "outputs": [
    {
     "data": {
      "text/plain": [
       "'Matrolla'"
      ]
     },
     "execution_count": 70,
     "metadata": {},
     "output_type": "execute_result"
    }
   ],
   "source": [
    "mobile2.brand"
   ]
  },
  {
   "cell_type": "code",
   "execution_count": 71,
   "metadata": {},
   "outputs": [
    {
     "name": "stdout",
     "output_type": "stream",
     "text": [
      "mxg is sent Matrolla\n"
     ]
    }
   ],
   "source": [
    "mobile2.send_mxg()"
   ]
  },
  {
   "cell_type": "code",
   "execution_count": 83,
   "metadata": {},
   "outputs": [],
   "source": [
    "class mobile (): \n",
    "    def __init__(self, colour,battery,brand):\n",
    "        self.colour = colour\n",
    "        self.battry = battery\n",
    "        self.brand = brand\n",
    "        self.price = 0\n",
    "        \n",
    "    def receive_call(self):\n",
    "        print(f\"call is receive {self.brand}\")\n",
    "    \n",
    "    def dailed_call(self):\n",
    "        print(f\"call is dailed {self.brand}\")\n",
    "    \n",
    "    def write_mxg(self):\n",
    "        print(f\"mex is written {self.brand}\")\n",
    "    \n",
    "    def read_mxg(self):\n",
    "        print(f\"mxg is read {self.brand}\")\n",
    "    \n",
    "    def send_mxg(self):\n",
    "        print(f\"mxg is sent {self.brand}\")\n",
    "    \n",
    "    def play_game(self):\n",
    "        print(f\"game is Avaliable {self.brand}\")\n",
    "        \n",
    "    def getprice(self):\n",
    "        print(f\"{self.brand} price is : {self.price}\")\n",
    "        \n",
    "    def setprice(self,newprice):\n",
    "        self.price = newprice"
   ]
  },
  {
   "cell_type": "code",
   "execution_count": 84,
   "metadata": {},
   "outputs": [],
   "source": [
    "m1 = mobile(\"yellow\",\"5 hour\", \"nokia\")"
   ]
  },
  {
   "cell_type": "code",
   "execution_count": 85,
   "metadata": {},
   "outputs": [
    {
     "data": {
      "text/plain": [
       "'nokia'"
      ]
     },
     "execution_count": 85,
     "metadata": {},
     "output_type": "execute_result"
    }
   ],
   "source": [
    "m1.brand"
   ]
  },
  {
   "cell_type": "code",
   "execution_count": 86,
   "metadata": {},
   "outputs": [
    {
     "data": {
      "text/plain": [
       "0"
      ]
     },
     "execution_count": 86,
     "metadata": {},
     "output_type": "execute_result"
    }
   ],
   "source": [
    "m1.price"
   ]
  },
  {
   "cell_type": "code",
   "execution_count": 87,
   "metadata": {},
   "outputs": [],
   "source": [
    "m1.price = 100"
   ]
  },
  {
   "cell_type": "code",
   "execution_count": 88,
   "metadata": {},
   "outputs": [
    {
     "data": {
      "text/plain": [
       "100"
      ]
     },
     "execution_count": 88,
     "metadata": {},
     "output_type": "execute_result"
    }
   ],
   "source": [
    "m1.price"
   ]
  },
  {
   "cell_type": "code",
   "execution_count": 89,
   "metadata": {},
   "outputs": [
    {
     "name": "stdout",
     "output_type": "stream",
     "text": [
      "nokia price is : 1000\n"
     ]
    }
   ],
   "source": [
    "m1.setprice(1000)\n",
    "m1.getprice()"
   ]
  },
  {
   "cell_type": "code",
   "execution_count": null,
   "metadata": {},
   "outputs": [],
   "source": []
  }
 ],
 "metadata": {
  "kernelspec": {
   "display_name": "Python 3",
   "language": "python",
   "name": "python3"
  },
  "language_info": {
   "codemirror_mode": {
    "name": "ipython",
    "version": 3
   },
   "file_extension": ".py",
   "mimetype": "text/x-python",
   "name": "python",
   "nbconvert_exporter": "python",
   "pygments_lexer": "ipython3",
   "version": "3.7.3"
  }
 },
 "nbformat": 4,
 "nbformat_minor": 2
}
