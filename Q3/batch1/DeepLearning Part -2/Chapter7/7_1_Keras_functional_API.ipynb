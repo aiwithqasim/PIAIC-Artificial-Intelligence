{
  "nbformat": 4,
  "nbformat_minor": 0,
  "metadata": {
    "colab": {
      "name": "7.1-Keras_functional_API.ipynb",
      "provenance": [],
      "collapsed_sections": [
        "brg6cmV2ita0",
        "_cQmcivOitba",
        "rPoe4lHLitbf",
        "KU9v96yLitbi"
      ]
    },
    "kernelspec": {
      "display_name": "Python 3",
      "language": "python",
      "name": "python3"
    }
  },
  "cells": [
    {
      "cell_type": "markdown",
      "metadata": {
        "id": "QV1cubt_itZk"
      },
      "source": [
        "# Keras Functional API"
      ]
    },
    {
      "cell_type": "code",
      "metadata": {
        "id": "68_XZtnkitZn",
        "outputId": "07ca124f-5d98-4682-f0c5-bf89b313df1c"
      },
      "source": [
        "# sudo pip3 install --ignore-installed --upgrade tensorflow\n",
        "import keras\n",
        "import tensorflow as tf\n",
        "print(keras.__version__)\n",
        "print(tf.__version__)\n",
        "# To ignore keep_dims warning\n",
        "tf.logging.set_verbosity(tf.logging.ERROR)"
      ],
      "execution_count": null,
      "outputs": [
        {
          "output_type": "stream",
          "text": [
            "2.0.9\n",
            "1.8.0\n"
          ],
          "name": "stdout"
        }
      ]
    },
    {
      "cell_type": "markdown",
      "metadata": {
        "id": "qv6gHmdwitZ7"
      },
      "source": [
        "Let’s start with a minimal example that shows side by side a simple Sequential model and its equivalent in the functional API:"
      ]
    },
    {
      "cell_type": "code",
      "metadata": {
        "id": "kkJGu3UzitZ9"
      },
      "source": [
        "from keras.models import Sequential, Model \n",
        "from keras import layers \n",
        "from keras import Input \n",
        "\n",
        "seq_model = Sequential()\n",
        "seq_model.add(layers.Dense(32, activation='relu', input_shape=(64,))) \n",
        "seq_model.add(layers.Dense(32, activation='relu'))\n",
        "seq_model.add(layers.Dense(10, activation='softmax'))\n",
        "\n",
        "input_tensor = Input(shape=(64,))\n",
        "x = layers.Dense(32, activation='relu')(input_tensor)\n",
        "x = layers.Dense(32, activation='relu')(x)\n",
        "output_tensor = layers.Dense(10, activation='softmax')(x)\n",
        "\n",
        "model = Model(input_tensor, output_tensor)"
      ],
      "execution_count": null,
      "outputs": []
    },
    {
      "cell_type": "code",
      "metadata": {
        "id": "3IOualMXitaB",
        "outputId": "a42f2630-d3d8-4dd7-9753-b45aaf061f80"
      },
      "source": [
        "model.summary()\n",
        "\n",
        "from IPython.display import SVG\n",
        "from keras.utils.vis_utils import model_to_dot\n",
        "\n",
        "SVG(model_to_dot(model,show_shapes=True).create(prog='dot', format='svg'))"
      ],
      "execution_count": null,
      "outputs": [
        {
          "output_type": "stream",
          "text": [
            "_________________________________________________________________\n",
            "Layer (type)                 Output Shape              Param #   \n",
            "=================================================================\n",
            "input_2 (InputLayer)         (None, 64)                0         \n",
            "_________________________________________________________________\n",
            "dense_5 (Dense)              (None, 32)                2080      \n",
            "_________________________________________________________________\n",
            "dense_6 (Dense)              (None, 32)                1056      \n",
            "_________________________________________________________________\n",
            "dense_7 (Dense)              (None, 10)                330       \n",
            "=================================================================\n",
            "Total params: 3,466\n",
            "Trainable params: 3,466\n",
            "Non-trainable params: 0\n",
            "_________________________________________________________________\n"
          ],
          "name": "stdout"
        },
        {
          "output_type": "execute_result",
          "data": {
            "image/svg+xml": "<svg height=\"296pt\" viewBox=\"0.00 0.00 268.68 296.00\" width=\"269pt\" xmlns=\"http://www.w3.org/2000/svg\" xmlns:xlink=\"http://www.w3.org/1999/xlink\">\n<g class=\"graph\" id=\"graph0\" transform=\"scale(1 1) rotate(0) translate(4 292)\">\n<title>G</title>\n<polygon fill=\"#ffffff\" points=\"-4,4 -4,-292 264.6797,-292 264.6797,4 -4,4\" stroke=\"transparent\"/>\n<!-- 4681604848 -->\n<g class=\"node\" id=\"node1\">\n<title>4681604848</title>\n<polygon fill=\"none\" points=\"0,-243.5 0,-287.5 260.6797,-287.5 260.6797,-243.5 0,-243.5\" stroke=\"#000000\"/>\n<text fill=\"#000000\" font-family=\"Times,serif\" font-size=\"14.00\" text-anchor=\"middle\" x=\"64.1812\" y=\"-261.3\">input_2: InputLayer</text>\n<polyline fill=\"none\" points=\"128.3623,-243.5 128.3623,-287.5 \" stroke=\"#000000\"/>\n<text fill=\"#000000\" font-family=\"Times,serif\" font-size=\"14.00\" text-anchor=\"middle\" x=\"156.1968\" y=\"-272.3\">input:</text>\n<polyline fill=\"none\" points=\"128.3623,-265.5 184.0313,-265.5 \" stroke=\"#000000\"/>\n<text fill=\"#000000\" font-family=\"Times,serif\" font-size=\"14.00\" text-anchor=\"middle\" x=\"156.1968\" y=\"-250.3\">output:</text>\n<polyline fill=\"none\" points=\"184.0313,-243.5 184.0313,-287.5 \" stroke=\"#000000\"/>\n<text fill=\"#000000\" font-family=\"Times,serif\" font-size=\"14.00\" text-anchor=\"middle\" x=\"222.3555\" y=\"-272.3\">(None, 64)</text>\n<polyline fill=\"none\" points=\"184.0313,-265.5 260.6797,-265.5 \" stroke=\"#000000\"/>\n<text fill=\"#000000\" font-family=\"Times,serif\" font-size=\"14.00\" text-anchor=\"middle\" x=\"222.3555\" y=\"-250.3\">(None, 64)</text>\n</g>\n<!-- 4681689184 -->\n<g class=\"node\" id=\"node2\">\n<title>4681689184</title>\n<polygon fill=\"none\" points=\"12.0552,-162.5 12.0552,-206.5 248.6245,-206.5 248.6245,-162.5 12.0552,-162.5\" stroke=\"#000000\"/>\n<text fill=\"#000000\" font-family=\"Times,serif\" font-size=\"14.00\" text-anchor=\"middle\" x=\"64.1812\" y=\"-180.3\">dense_5: Dense</text>\n<polyline fill=\"none\" points=\"116.3071,-162.5 116.3071,-206.5 \" stroke=\"#000000\"/>\n<text fill=\"#000000\" font-family=\"Times,serif\" font-size=\"14.00\" text-anchor=\"middle\" x=\"144.1416\" y=\"-191.3\">input:</text>\n<polyline fill=\"none\" points=\"116.3071,-184.5 171.9761,-184.5 \" stroke=\"#000000\"/>\n<text fill=\"#000000\" font-family=\"Times,serif\" font-size=\"14.00\" text-anchor=\"middle\" x=\"144.1416\" y=\"-169.3\">output:</text>\n<polyline fill=\"none\" points=\"171.9761,-162.5 171.9761,-206.5 \" stroke=\"#000000\"/>\n<text fill=\"#000000\" font-family=\"Times,serif\" font-size=\"14.00\" text-anchor=\"middle\" x=\"210.3003\" y=\"-191.3\">(None, 64)</text>\n<polyline fill=\"none\" points=\"171.9761,-184.5 248.6245,-184.5 \" stroke=\"#000000\"/>\n<text fill=\"#000000\" font-family=\"Times,serif\" font-size=\"14.00\" text-anchor=\"middle\" x=\"210.3003\" y=\"-169.3\">(None, 32)</text>\n</g>\n<!-- 4681604848&#45;&gt;4681689184 -->\n<g class=\"edge\" id=\"edge1\">\n<title>4681604848-&gt;4681689184</title>\n<path d=\"M130.3398,-243.3664C130.3398,-235.1516 130.3398,-225.6579 130.3398,-216.7252\" fill=\"none\" stroke=\"#000000\"/>\n<polygon fill=\"#000000\" points=\"133.8399,-216.6068 130.3398,-206.6068 126.8399,-216.6069 133.8399,-216.6068\" stroke=\"#000000\"/>\n</g>\n<!-- 4681858632 -->\n<g class=\"node\" id=\"node3\">\n<title>4681858632</title>\n<polygon fill=\"none\" points=\"12.0552,-81.5 12.0552,-125.5 248.6245,-125.5 248.6245,-81.5 12.0552,-81.5\" stroke=\"#000000\"/>\n<text fill=\"#000000\" font-family=\"Times,serif\" font-size=\"14.00\" text-anchor=\"middle\" x=\"64.1812\" y=\"-99.3\">dense_6: Dense</text>\n<polyline fill=\"none\" points=\"116.3071,-81.5 116.3071,-125.5 \" stroke=\"#000000\"/>\n<text fill=\"#000000\" font-family=\"Times,serif\" font-size=\"14.00\" text-anchor=\"middle\" x=\"144.1416\" y=\"-110.3\">input:</text>\n<polyline fill=\"none\" points=\"116.3071,-103.5 171.9761,-103.5 \" stroke=\"#000000\"/>\n<text fill=\"#000000\" font-family=\"Times,serif\" font-size=\"14.00\" text-anchor=\"middle\" x=\"144.1416\" y=\"-88.3\">output:</text>\n<polyline fill=\"none\" points=\"171.9761,-81.5 171.9761,-125.5 \" stroke=\"#000000\"/>\n<text fill=\"#000000\" font-family=\"Times,serif\" font-size=\"14.00\" text-anchor=\"middle\" x=\"210.3003\" y=\"-110.3\">(None, 32)</text>\n<polyline fill=\"none\" points=\"171.9761,-103.5 248.6245,-103.5 \" stroke=\"#000000\"/>\n<text fill=\"#000000\" font-family=\"Times,serif\" font-size=\"14.00\" text-anchor=\"middle\" x=\"210.3003\" y=\"-88.3\">(None, 32)</text>\n</g>\n<!-- 4681689184&#45;&gt;4681858632 -->\n<g class=\"edge\" id=\"edge2\">\n<title>4681689184-&gt;4681858632</title>\n<path d=\"M130.3398,-162.3664C130.3398,-154.1516 130.3398,-144.6579 130.3398,-135.7252\" fill=\"none\" stroke=\"#000000\"/>\n<polygon fill=\"#000000\" points=\"133.8399,-135.6068 130.3398,-125.6068 126.8399,-135.6069 133.8399,-135.6068\" stroke=\"#000000\"/>\n</g>\n<!-- 4681858576 -->\n<g class=\"node\" id=\"node4\">\n<title>4681858576</title>\n<polygon fill=\"none\" points=\"12.0552,-.5 12.0552,-44.5 248.6245,-44.5 248.6245,-.5 12.0552,-.5\" stroke=\"#000000\"/>\n<text fill=\"#000000\" font-family=\"Times,serif\" font-size=\"14.00\" text-anchor=\"middle\" x=\"64.1812\" y=\"-18.3\">dense_7: Dense</text>\n<polyline fill=\"none\" points=\"116.3071,-.5 116.3071,-44.5 \" stroke=\"#000000\"/>\n<text fill=\"#000000\" font-family=\"Times,serif\" font-size=\"14.00\" text-anchor=\"middle\" x=\"144.1416\" y=\"-29.3\">input:</text>\n<polyline fill=\"none\" points=\"116.3071,-22.5 171.9761,-22.5 \" stroke=\"#000000\"/>\n<text fill=\"#000000\" font-family=\"Times,serif\" font-size=\"14.00\" text-anchor=\"middle\" x=\"144.1416\" y=\"-7.3\">output:</text>\n<polyline fill=\"none\" points=\"171.9761,-.5 171.9761,-44.5 \" stroke=\"#000000\"/>\n<text fill=\"#000000\" font-family=\"Times,serif\" font-size=\"14.00\" text-anchor=\"middle\" x=\"210.3003\" y=\"-29.3\">(None, 32)</text>\n<polyline fill=\"none\" points=\"171.9761,-22.5 248.6245,-22.5 \" stroke=\"#000000\"/>\n<text fill=\"#000000\" font-family=\"Times,serif\" font-size=\"14.00\" text-anchor=\"middle\" x=\"210.3003\" y=\"-7.3\">(None, 10)</text>\n</g>\n<!-- 4681858632&#45;&gt;4681858576 -->\n<g class=\"edge\" id=\"edge3\">\n<title>4681858632-&gt;4681858576</title>\n<path d=\"M130.3398,-81.3664C130.3398,-73.1516 130.3398,-63.6579 130.3398,-54.7252\" fill=\"none\" stroke=\"#000000\"/>\n<polygon fill=\"#000000\" points=\"133.8399,-54.6068 130.3398,-44.6068 126.8399,-54.6069 133.8399,-54.6068\" stroke=\"#000000\"/>\n</g>\n</g>\n</svg>",
            "text/plain": [
              "<IPython.core.display.SVG object>"
            ]
          },
          "metadata": {
            "tags": []
          },
          "execution_count": 3
        }
      ]
    },
    {
      "cell_type": "markdown",
      "metadata": {
        "id": "p5fnKTEtitaH"
      },
      "source": [
        "The only part that may seem a bit magical at this point is instantiating a Model object using only an input tensor and an output tensor. Behind the scenes, Keras retrieves every layer involved in going from input_tensor to output_tensor, bringing them together into a graph-like data structure—a Model. Of course, the reason it works is that output_tensor was obtained by repeatedly transforming input_tensor. \n",
        "\n",
        "If you tried to build a model from **inputs and outputs that weren’t related**, you’d get a RuntimeError:"
      ]
    },
    {
      "cell_type": "code",
      "metadata": {
        "scrolled": true,
        "id": "g45kjYvWitaJ",
        "outputId": "6a7fdeea-77b1-4bc3-a740-b745af149339"
      },
      "source": [
        "unrelated_input = Input(shape=(32,))\n",
        "bad_model = Model(unrelated_input, output_tensor)"
      ],
      "execution_count": null,
      "outputs": [
        {
          "output_type": "error",
          "ename": "RuntimeError",
          "evalue": "Graph disconnected: cannot obtain value for tensor Tensor(\"input_2:0\", shape=(?, 64), dtype=float32) at layer \"input_2\". The following previous layers were accessed without issue: []",
          "traceback": [
            "\u001b[0;31m---------------------------------------------------------------------------\u001b[0m",
            "\u001b[0;31mRuntimeError\u001b[0m                              Traceback (most recent call last)",
            "\u001b[0;32m<ipython-input-4-75c3f6647a99>\u001b[0m in \u001b[0;36m<module>\u001b[0;34m()\u001b[0m\n\u001b[1;32m      1\u001b[0m \u001b[0munrelated_input\u001b[0m \u001b[0;34m=\u001b[0m \u001b[0mInput\u001b[0m\u001b[0;34m(\u001b[0m\u001b[0mshape\u001b[0m\u001b[0;34m=\u001b[0m\u001b[0;34m(\u001b[0m\u001b[0;36m32\u001b[0m\u001b[0;34m,\u001b[0m\u001b[0;34m)\u001b[0m\u001b[0;34m)\u001b[0m\u001b[0;34m\u001b[0m\u001b[0m\n\u001b[0;32m----> 2\u001b[0;31m \u001b[0mbad_model\u001b[0m \u001b[0;34m=\u001b[0m \u001b[0mModel\u001b[0m\u001b[0;34m(\u001b[0m\u001b[0munrelated_input\u001b[0m\u001b[0;34m,\u001b[0m \u001b[0moutput_tensor\u001b[0m\u001b[0;34m)\u001b[0m\u001b[0;34m\u001b[0m\u001b[0m\n\u001b[0m",
            "\u001b[0;32m/Library/Frameworks/Python.framework/Versions/3.6/lib/python3.6/site-packages/keras/legacy/interfaces.py\u001b[0m in \u001b[0;36mwrapper\u001b[0;34m(*args, **kwargs)\u001b[0m\n\u001b[1;32m     85\u001b[0m                 warnings.warn('Update your `' + object_name +\n\u001b[1;32m     86\u001b[0m                               '` call to the Keras 2 API: ' + signature, stacklevel=2)\n\u001b[0;32m---> 87\u001b[0;31m             \u001b[0;32mreturn\u001b[0m \u001b[0mfunc\u001b[0m\u001b[0;34m(\u001b[0m\u001b[0;34m*\u001b[0m\u001b[0margs\u001b[0m\u001b[0;34m,\u001b[0m \u001b[0;34m**\u001b[0m\u001b[0mkwargs\u001b[0m\u001b[0;34m)\u001b[0m\u001b[0;34m\u001b[0m\u001b[0m\n\u001b[0m\u001b[1;32m     88\u001b[0m         \u001b[0mwrapper\u001b[0m\u001b[0;34m.\u001b[0m\u001b[0m_original_function\u001b[0m \u001b[0;34m=\u001b[0m \u001b[0mfunc\u001b[0m\u001b[0;34m\u001b[0m\u001b[0m\n\u001b[1;32m     89\u001b[0m         \u001b[0;32mreturn\u001b[0m \u001b[0mwrapper\u001b[0m\u001b[0;34m\u001b[0m\u001b[0m\n",
            "\u001b[0;32m/Library/Frameworks/Python.framework/Versions/3.6/lib/python3.6/site-packages/keras/engine/topology.py\u001b[0m in \u001b[0;36m__init__\u001b[0;34m(self, inputs, outputs, name)\u001b[0m\n\u001b[1;32m   1791\u001b[0m                                 \u001b[0;34m'The following previous layers '\u001b[0m\u001b[0;34m\u001b[0m\u001b[0m\n\u001b[1;32m   1792\u001b[0m                                 \u001b[0;34m'were accessed without issue: '\u001b[0m \u001b[0;34m+\u001b[0m\u001b[0;34m\u001b[0m\u001b[0m\n\u001b[0;32m-> 1793\u001b[0;31m                                 str(layers_with_complete_input))\n\u001b[0m\u001b[1;32m   1794\u001b[0m                     \u001b[0;32mfor\u001b[0m \u001b[0mx\u001b[0m \u001b[0;32min\u001b[0m \u001b[0mnode\u001b[0m\u001b[0;34m.\u001b[0m\u001b[0moutput_tensors\u001b[0m\u001b[0;34m:\u001b[0m\u001b[0;34m\u001b[0m\u001b[0m\n\u001b[1;32m   1795\u001b[0m                         \u001b[0mcomputable_tensors\u001b[0m\u001b[0;34m.\u001b[0m\u001b[0mappend\u001b[0m\u001b[0;34m(\u001b[0m\u001b[0mx\u001b[0m\u001b[0;34m)\u001b[0m\u001b[0;34m\u001b[0m\u001b[0m\n",
            "\u001b[0;31mRuntimeError\u001b[0m: Graph disconnected: cannot obtain value for tensor Tensor(\"input_2:0\", shape=(?, 64), dtype=float32) at layer \"input_2\". The following previous layers were accessed without issue: []"
          ]
        }
      ]
    },
    {
      "cell_type": "markdown",
      "metadata": {
        "id": "yO2NGSuWitaQ"
      },
      "source": [
        "This error tells you, in essence, that Keras couldn’t reach input_2 from the provided output tensor. \n",
        "\n",
        "When it comes to compiling, training, or evaluating such an instance of Model, the API is *the same as that of Sequential*:"
      ]
    },
    {
      "cell_type": "code",
      "metadata": {
        "scrolled": true,
        "id": "DU0acd3nitaR",
        "outputId": "500a6d84-9784-4555-e22a-0363450eb9ca"
      },
      "source": [
        "model.compile(optimizer='rmsprop', loss='categorical_crossentropy')\n",
        "\n",
        "import numpy as np\n",
        "x_train = np.random.random((1000, 64))\n",
        "y_train = np.random.random((1000, 10)) \n",
        "\n",
        "model.fit(x_train, y_train, epochs=10, batch_size=128)\n",
        "\n",
        "score = model.evaluate(x_train, y_train)"
      ],
      "execution_count": null,
      "outputs": [
        {
          "output_type": "stream",
          "text": [
            "WARNING:tensorflow:From /Library/Frameworks/Python.framework/Versions/3.6/lib/python3.6/site-packages/keras/backend/tensorflow_backend.py:2857: calling reduce_sum (from tensorflow.python.ops.math_ops) with keep_dims is deprecated and will be removed in a future version.\n",
            "Instructions for updating:\n",
            "keep_dims is deprecated, use keepdims instead\n",
            "WARNING:tensorflow:From /Library/Frameworks/Python.framework/Versions/3.6/lib/python3.6/site-packages/keras/backend/tensorflow_backend.py:1340: calling reduce_mean (from tensorflow.python.ops.math_ops) with keep_dims is deprecated and will be removed in a future version.\n",
            "Instructions for updating:\n",
            "keep_dims is deprecated, use keepdims instead\n",
            "Epoch 1/10\n",
            "1000/1000 [==============================] - 0s 222us/step - loss: 11.6923\n",
            "Epoch 2/10\n",
            "1000/1000 [==============================] - 0s 18us/step - loss: 11.5943\n",
            "Epoch 3/10\n",
            "1000/1000 [==============================] - 0s 17us/step - loss: 11.5780\n",
            "Epoch 4/10\n",
            "1000/1000 [==============================] - 0s 16us/step - loss: 11.5710\n",
            "Epoch 5/10\n",
            "1000/1000 [==============================] - 0s 18us/step - loss: 11.5663\n",
            "Epoch 6/10\n",
            "1000/1000 [==============================] - 0s 19us/step - loss: 11.5621\n",
            "Epoch 7/10\n",
            "1000/1000 [==============================] - 0s 18us/step - loss: 11.5598\n",
            "Epoch 8/10\n",
            "1000/1000 [==============================] - 0s 18us/step - loss: 11.5562\n",
            "Epoch 9/10\n",
            "1000/1000 [==============================] - 0s 18us/step - loss: 11.5546\n",
            "Epoch 10/10\n",
            "1000/1000 [==============================] - 0s 18us/step - loss: 11.5529\n",
            "1000/1000 [==============================] - 0s 78us/step\n"
          ],
          "name": "stdout"
        }
      ]
    },
    {
      "cell_type": "markdown",
      "metadata": {
        "id": "yZyrNv0iitaW"
      },
      "source": [
        "## Multi-input models\n",
        "\n",
        "\n",
        "#### A question-answering model example\n",
        "\n",
        "Following is an example of how you can build such a model with the functional API. You set up two independent branches, encoding the text input and the question input as representation vectors; then, concatenate these vectors; and finally, add a softmax classifier on top of the concatenated representations."
      ]
    },
    {
      "cell_type": "code",
      "metadata": {
        "id": "C6Jeaie5itaX"
      },
      "source": [
        "from keras.models import Model\n",
        "from keras import layers\n",
        "from keras import Input\n",
        "\n",
        "text_vocabulary_size = 10000\n",
        "question_vocabulary_size = 10000\n",
        "answer_vocabulary_size = 500\n",
        "\n",
        "# The text input is a variable-length sequence of integers. \n",
        "# Note that you can optionally name the inputs.\n",
        "text_input = Input(shape=(None,), dtype='int32', name='text')\n",
        "\n",
        "# Embeds the inputs into a sequence of vectors of size 64\n",
        "# embedded_text = layers.Embedding(64, text_vocabulary_size)(text_input)\n",
        "# embedded_text = layers.Embedding(output_dim=64, input_dim=text_vocabulary_size)(text_input)\n",
        "embedded_text = layers.Embedding(text_vocabulary_size,64)(text_input)\n",
        "\n",
        "# Encodes the vectors in a single vector via an LSTM\n",
        "encoded_text = layers.LSTM(32)(embedded_text)\n",
        "\n",
        "\n",
        "# Same process (with different layer instances) for the question\n",
        "question_input = Input(shape=(None,),dtype='int32',name='question')\n",
        "\n",
        "# embedded_question = layers.Embedding(32, question_vocabulary_size)(question_input)\n",
        "# embedded_question = layers.Embedding(output_dim=32, input_dim=question_vocabulary_size)(question_input)\n",
        "embedded_question = layers.Embedding(question_vocabulary_size,32)(question_input)\n",
        "\n",
        "encoded_question = layers.LSTM(16)(embedded_question) \n",
        "\n",
        "# Concatenates the encoded question and encoded text\n",
        "concatenated = layers.concatenate([encoded_text, encoded_question],axis=-1)\n",
        "\n",
        "# Adds a softmax classifier on top\n",
        "answer = layers.Dense(answer_vocabulary_size, activation='softmax')(concatenated)\n",
        "\n",
        "# At model instantiation, you specify the two inputs and the output.\n",
        "model = Model([text_input, question_input], answer)\n",
        "model.compile(optimizer='rmsprop',loss='categorical_crossentropy',metrics=['acc'])"
      ],
      "execution_count": null,
      "outputs": []
    },
    {
      "cell_type": "code",
      "metadata": {
        "id": "dDJNwY-xitaa",
        "outputId": "9a2595ec-aeaa-4cbe-8fcf-868dbf6417ee"
      },
      "source": [
        "model.summary()\n",
        "\n",
        "from IPython.display import SVG\n",
        "from keras.utils.vis_utils import model_to_dot\n",
        "\n",
        "SVG(model_to_dot(model,show_shapes=True).create(prog='dot', format='svg'))"
      ],
      "execution_count": null,
      "outputs": [
        {
          "output_type": "stream",
          "text": [
            "__________________________________________________________________________________________________\n",
            "Layer (type)                    Output Shape         Param #     Connected to                     \n",
            "==================================================================================================\n",
            "text (InputLayer)               (None, None)         0                                            \n",
            "__________________________________________________________________________________________________\n",
            "question (InputLayer)           (None, None)         0                                            \n",
            "__________________________________________________________________________________________________\n",
            "embedding_3 (Embedding)         (None, None, 64)     640000      text[0][0]                       \n",
            "__________________________________________________________________________________________________\n",
            "embedding_4 (Embedding)         (None, None, 32)     320000      question[0][0]                   \n",
            "__________________________________________________________________________________________________\n",
            "lstm_3 (LSTM)                   (None, 32)           12416       embedding_3[0][0]                \n",
            "__________________________________________________________________________________________________\n",
            "lstm_4 (LSTM)                   (None, 16)           3136        embedding_4[0][0]                \n",
            "__________________________________________________________________________________________________\n",
            "concatenate_2 (Concatenate)     (None, 48)           0           lstm_3[0][0]                     \n",
            "                                                                 lstm_4[0][0]                     \n",
            "__________________________________________________________________________________________________\n",
            "dense_9 (Dense)                 (None, 500)          24500       concatenate_2[0][0]              \n",
            "==================================================================================================\n",
            "Total params: 1,000,052\n",
            "Trainable params: 1,000,052\n",
            "Non-trainable params: 0\n",
            "__________________________________________________________________________________________________\n"
          ],
          "name": "stdout"
        },
        {
          "output_type": "execute_result",
          "data": {
            "image/svg+xml": "<svg height=\"377pt\" viewBox=\"0.00 0.00 693.78 377.00\" width=\"694pt\" xmlns=\"http://www.w3.org/2000/svg\" xmlns:xlink=\"http://www.w3.org/1999/xlink\">\n<g class=\"graph\" id=\"graph0\" transform=\"scale(1 1) rotate(0) translate(4 373)\">\n<title>G</title>\n<polygon fill=\"#ffffff\" points=\"-4,4 -4,-373 689.7832,-373 689.7832,4 -4,4\" stroke=\"transparent\"/>\n<!-- 4732374208 -->\n<g class=\"node\" id=\"node1\">\n<title>4732374208</title>\n<polygon fill=\"none\" points=\"39.2827,-324.5 39.2827,-368.5 294.5005,-368.5 294.5005,-324.5 39.2827,-324.5\" stroke=\"#000000\"/>\n<text fill=\"#000000\" font-family=\"Times,serif\" font-size=\"14.00\" text-anchor=\"middle\" x=\"92.5708\" y=\"-342.3\">text: InputLayer</text>\n<polyline fill=\"none\" points=\"145.8589,-324.5 145.8589,-368.5 \" stroke=\"#000000\"/>\n<text fill=\"#000000\" font-family=\"Times,serif\" font-size=\"14.00\" text-anchor=\"middle\" x=\"173.6934\" y=\"-353.3\">input:</text>\n<polyline fill=\"none\" points=\"145.8589,-346.5 201.5278,-346.5 \" stroke=\"#000000\"/>\n<text fill=\"#000000\" font-family=\"Times,serif\" font-size=\"14.00\" text-anchor=\"middle\" x=\"173.6934\" y=\"-331.3\">output:</text>\n<polyline fill=\"none\" points=\"201.5278,-324.5 201.5278,-368.5 \" stroke=\"#000000\"/>\n<text fill=\"#000000\" font-family=\"Times,serif\" font-size=\"14.00\" text-anchor=\"middle\" x=\"248.0142\" y=\"-353.3\">(None, None)</text>\n<polyline fill=\"none\" points=\"201.5278,-346.5 294.5005,-346.5 \" stroke=\"#000000\"/>\n<text fill=\"#000000\" font-family=\"Times,serif\" font-size=\"14.00\" text-anchor=\"middle\" x=\"248.0142\" y=\"-331.3\">(None, None)</text>\n</g>\n<!-- 4683672880 -->\n<g class=\"node\" id=\"node3\">\n<title>4683672880</title>\n<polygon fill=\"none\" points=\"0,-243.5 0,-287.5 333.7832,-287.5 333.7832,-243.5 0,-243.5\" stroke=\"#000000\"/>\n<text fill=\"#000000\" font-family=\"Times,serif\" font-size=\"14.00\" text-anchor=\"middle\" x=\"82.0708\" y=\"-261.3\">embedding_3: Embedding</text>\n<polyline fill=\"none\" points=\"164.1416,-243.5 164.1416,-287.5 \" stroke=\"#000000\"/>\n<text fill=\"#000000\" font-family=\"Times,serif\" font-size=\"14.00\" text-anchor=\"middle\" x=\"191.9761\" y=\"-272.3\">input:</text>\n<polyline fill=\"none\" points=\"164.1416,-265.5 219.8105,-265.5 \" stroke=\"#000000\"/>\n<text fill=\"#000000\" font-family=\"Times,serif\" font-size=\"14.00\" text-anchor=\"middle\" x=\"191.9761\" y=\"-250.3\">output:</text>\n<polyline fill=\"none\" points=\"219.8105,-243.5 219.8105,-287.5 \" stroke=\"#000000\"/>\n<text fill=\"#000000\" font-family=\"Times,serif\" font-size=\"14.00\" text-anchor=\"middle\" x=\"276.7969\" y=\"-272.3\">(None, None)</text>\n<polyline fill=\"none\" points=\"219.8105,-265.5 333.7832,-265.5 \" stroke=\"#000000\"/>\n<text fill=\"#000000\" font-family=\"Times,serif\" font-size=\"14.00\" text-anchor=\"middle\" x=\"276.7969\" y=\"-250.3\">(None, None, 64)</text>\n</g>\n<!-- 4732374208&#45;&gt;4683672880 -->\n<g class=\"edge\" id=\"edge1\">\n<title>4732374208-&gt;4683672880</title>\n<path d=\"M166.8916,-324.3664C166.8916,-316.1516 166.8916,-306.6579 166.8916,-297.7252\" fill=\"none\" stroke=\"#000000\"/>\n<polygon fill=\"#000000\" points=\"170.3917,-297.6068 166.8916,-287.6068 163.3917,-297.6069 170.3917,-297.6068\" stroke=\"#000000\"/>\n</g>\n<!-- 4732374432 -->\n<g class=\"node\" id=\"node2\">\n<title>4732374432</title>\n<polygon fill=\"none\" points=\"378.0586,-324.5 378.0586,-368.5 659.7246,-368.5 659.7246,-324.5 378.0586,-324.5\" stroke=\"#000000\"/>\n<text fill=\"#000000\" font-family=\"Times,serif\" font-size=\"14.00\" text-anchor=\"middle\" x=\"444.5708\" y=\"-342.3\">question: InputLayer</text>\n<polyline fill=\"none\" points=\"511.083,-324.5 511.083,-368.5 \" stroke=\"#000000\"/>\n<text fill=\"#000000\" font-family=\"Times,serif\" font-size=\"14.00\" text-anchor=\"middle\" x=\"538.9175\" y=\"-353.3\">input:</text>\n<polyline fill=\"none\" points=\"511.083,-346.5 566.752,-346.5 \" stroke=\"#000000\"/>\n<text fill=\"#000000\" font-family=\"Times,serif\" font-size=\"14.00\" text-anchor=\"middle\" x=\"538.9175\" y=\"-331.3\">output:</text>\n<polyline fill=\"none\" points=\"566.752,-324.5 566.752,-368.5 \" stroke=\"#000000\"/>\n<text fill=\"#000000\" font-family=\"Times,serif\" font-size=\"14.00\" text-anchor=\"middle\" x=\"613.2383\" y=\"-353.3\">(None, None)</text>\n<polyline fill=\"none\" points=\"566.752,-346.5 659.7246,-346.5 \" stroke=\"#000000\"/>\n<text fill=\"#000000\" font-family=\"Times,serif\" font-size=\"14.00\" text-anchor=\"middle\" x=\"613.2383\" y=\"-331.3\">(None, None)</text>\n</g>\n<!-- 4732433016 -->\n<g class=\"node\" id=\"node4\">\n<title>4732433016</title>\n<polygon fill=\"none\" points=\"352,-243.5 352,-287.5 685.7832,-287.5 685.7832,-243.5 352,-243.5\" stroke=\"#000000\"/>\n<text fill=\"#000000\" font-family=\"Times,serif\" font-size=\"14.00\" text-anchor=\"middle\" x=\"434.0708\" y=\"-261.3\">embedding_4: Embedding</text>\n<polyline fill=\"none\" points=\"516.1416,-243.5 516.1416,-287.5 \" stroke=\"#000000\"/>\n<text fill=\"#000000\" font-family=\"Times,serif\" font-size=\"14.00\" text-anchor=\"middle\" x=\"543.9761\" y=\"-272.3\">input:</text>\n<polyline fill=\"none\" points=\"516.1416,-265.5 571.8105,-265.5 \" stroke=\"#000000\"/>\n<text fill=\"#000000\" font-family=\"Times,serif\" font-size=\"14.00\" text-anchor=\"middle\" x=\"543.9761\" y=\"-250.3\">output:</text>\n<polyline fill=\"none\" points=\"571.8105,-243.5 571.8105,-287.5 \" stroke=\"#000000\"/>\n<text fill=\"#000000\" font-family=\"Times,serif\" font-size=\"14.00\" text-anchor=\"middle\" x=\"628.7969\" y=\"-272.3\">(None, None)</text>\n<polyline fill=\"none\" points=\"571.8105,-265.5 685.7832,-265.5 \" stroke=\"#000000\"/>\n<text fill=\"#000000\" font-family=\"Times,serif\" font-size=\"14.00\" text-anchor=\"middle\" x=\"628.7969\" y=\"-250.3\">(None, None, 32)</text>\n</g>\n<!-- 4732374432&#45;&gt;4732433016 -->\n<g class=\"edge\" id=\"edge2\">\n<title>4732374432-&gt;4732433016</title>\n<path d=\"M518.8916,-324.3664C518.8916,-316.1516 518.8916,-306.6579 518.8916,-297.7252\" fill=\"none\" stroke=\"#000000\"/>\n<polygon fill=\"#000000\" points=\"522.3917,-297.6068 518.8916,-287.6068 515.3917,-297.6069 522.3917,-297.6068\" stroke=\"#000000\"/>\n</g>\n<!-- 4683672656 -->\n<g class=\"node\" id=\"node5\">\n<title>4683672656</title>\n<polygon fill=\"none\" points=\"65.6484,-162.5 65.6484,-206.5 334.1348,-206.5 334.1348,-162.5 65.6484,-162.5\" stroke=\"#000000\"/>\n<text fill=\"#000000\" font-family=\"Times,serif\" font-size=\"14.00\" text-anchor=\"middle\" x=\"115.0708\" y=\"-180.3\">lstm_3: LSTM</text>\n<polyline fill=\"none\" points=\"164.4932,-162.5 164.4932,-206.5 \" stroke=\"#000000\"/>\n<text fill=\"#000000\" font-family=\"Times,serif\" font-size=\"14.00\" text-anchor=\"middle\" x=\"192.3276\" y=\"-191.3\">input:</text>\n<polyline fill=\"none\" points=\"164.4932,-184.5 220.1621,-184.5 \" stroke=\"#000000\"/>\n<text fill=\"#000000\" font-family=\"Times,serif\" font-size=\"14.00\" text-anchor=\"middle\" x=\"192.3276\" y=\"-169.3\">output:</text>\n<polyline fill=\"none\" points=\"220.1621,-162.5 220.1621,-206.5 \" stroke=\"#000000\"/>\n<text fill=\"#000000\" font-family=\"Times,serif\" font-size=\"14.00\" text-anchor=\"middle\" x=\"277.1484\" y=\"-191.3\">(None, None, 64)</text>\n<polyline fill=\"none\" points=\"220.1621,-184.5 334.1348,-184.5 \" stroke=\"#000000\"/>\n<text fill=\"#000000\" font-family=\"Times,serif\" font-size=\"14.00\" text-anchor=\"middle\" x=\"276.9863\" y=\"-169.3\">(None, 32)</text>\n</g>\n<!-- 4683672880&#45;&gt;4683672656 -->\n<g class=\"edge\" id=\"edge3\">\n<title>4683672880-&gt;4683672656</title>\n<path d=\"M175.909,-243.3664C179.3285,-234.9731 183.292,-225.2445 186.9998,-216.1434\" fill=\"none\" stroke=\"#000000\"/>\n<polygon fill=\"#000000\" points=\"190.3534,-217.1883 190.8851,-206.6068 183.8708,-214.5472 190.3534,-217.1883\" stroke=\"#000000\"/>\n</g>\n<!-- 4732433184 -->\n<g class=\"node\" id=\"node6\">\n<title>4732433184</title>\n<polygon fill=\"none\" points=\"367.6484,-162.5 367.6484,-206.5 636.1348,-206.5 636.1348,-162.5 367.6484,-162.5\" stroke=\"#000000\"/>\n<text fill=\"#000000\" font-family=\"Times,serif\" font-size=\"14.00\" text-anchor=\"middle\" x=\"417.0708\" y=\"-180.3\">lstm_4: LSTM</text>\n<polyline fill=\"none\" points=\"466.4932,-162.5 466.4932,-206.5 \" stroke=\"#000000\"/>\n<text fill=\"#000000\" font-family=\"Times,serif\" font-size=\"14.00\" text-anchor=\"middle\" x=\"494.3276\" y=\"-191.3\">input:</text>\n<polyline fill=\"none\" points=\"466.4932,-184.5 522.1621,-184.5 \" stroke=\"#000000\"/>\n<text fill=\"#000000\" font-family=\"Times,serif\" font-size=\"14.00\" text-anchor=\"middle\" x=\"494.3276\" y=\"-169.3\">output:</text>\n<polyline fill=\"none\" points=\"522.1621,-162.5 522.1621,-206.5 \" stroke=\"#000000\"/>\n<text fill=\"#000000\" font-family=\"Times,serif\" font-size=\"14.00\" text-anchor=\"middle\" x=\"579.1484\" y=\"-191.3\">(None, None, 32)</text>\n<polyline fill=\"none\" points=\"522.1621,-184.5 636.1348,-184.5 \" stroke=\"#000000\"/>\n<text fill=\"#000000\" font-family=\"Times,serif\" font-size=\"14.00\" text-anchor=\"middle\" x=\"578.9863\" y=\"-169.3\">(None, 16)</text>\n</g>\n<!-- 4732433016&#45;&gt;4732433184 -->\n<g class=\"edge\" id=\"edge4\">\n<title>4732433016-&gt;4732433184</title>\n<path d=\"M514.2463,-243.3664C512.5035,-235.0624 510.4863,-225.4514 508.5938,-216.4341\" fill=\"none\" stroke=\"#000000\"/>\n<polygon fill=\"#000000\" points=\"512.0108,-215.6747 506.5313,-206.6068 505.16,-217.1126 512.0108,-215.6747\" stroke=\"#000000\"/>\n</g>\n<!-- 4738358576 -->\n<g class=\"node\" id=\"node7\">\n<title>4738358576</title>\n<polygon fill=\"none\" points=\"151.9272,-81.5 151.9272,-125.5 533.856,-125.5 533.856,-81.5 151.9272,-81.5\" stroke=\"#000000\"/>\n<text fill=\"#000000\" font-family=\"Times,serif\" font-size=\"14.00\" text-anchor=\"middle\" x=\"238.2466\" y=\"-99.3\">concatenate_2: Concatenate</text>\n<polyline fill=\"none\" points=\"324.5659,-81.5 324.5659,-125.5 \" stroke=\"#000000\"/>\n<text fill=\"#000000\" font-family=\"Times,serif\" font-size=\"14.00\" text-anchor=\"middle\" x=\"352.4004\" y=\"-110.3\">input:</text>\n<polyline fill=\"none\" points=\"324.5659,-103.5 380.2349,-103.5 \" stroke=\"#000000\"/>\n<text fill=\"#000000\" font-family=\"Times,serif\" font-size=\"14.00\" text-anchor=\"middle\" x=\"352.4004\" y=\"-88.3\">output:</text>\n<polyline fill=\"none\" points=\"380.2349,-81.5 380.2349,-125.5 \" stroke=\"#000000\"/>\n<text fill=\"#000000\" font-family=\"Times,serif\" font-size=\"14.00\" text-anchor=\"middle\" x=\"457.0454\" y=\"-110.3\">[(None, 32), (None, 16)]</text>\n<polyline fill=\"none\" points=\"380.2349,-103.5 533.856,-103.5 \" stroke=\"#000000\"/>\n<text fill=\"#000000\" font-family=\"Times,serif\" font-size=\"14.00\" text-anchor=\"middle\" x=\"456.5591\" y=\"-88.3\">(None, 48)</text>\n</g>\n<!-- 4683672656&#45;&gt;4738358576 -->\n<g class=\"edge\" id=\"edge5\">\n<title>4683672656-&gt;4738358576</title>\n<path d=\"M238.967,-162.3664C256.307,-152.5444 276.875,-140.894 295.1186,-130.5602\" fill=\"none\" stroke=\"#000000\"/>\n<polygon fill=\"#000000\" points=\"296.8874,-133.5809 303.8635,-125.6068 293.4373,-127.4901 296.8874,-133.5809\" stroke=\"#000000\"/>\n</g>\n<!-- 4732433184&#45;&gt;4738358576 -->\n<g class=\"edge\" id=\"edge6\">\n<title>4732433184-&gt;4738358576</title>\n<path d=\"M458.4442,-162.3664C438.9887,-152.4551 415.8785,-140.682 395.4573,-130.2787\" fill=\"none\" stroke=\"#000000\"/>\n<polygon fill=\"#000000\" points=\"396.7857,-127.0275 386.2865,-125.6068 393.6082,-133.2648 396.7857,-127.0275\" stroke=\"#000000\"/>\n</g>\n<!-- 4732433912 -->\n<g class=\"node\" id=\"node8\">\n<title>4732433912</title>\n<polygon fill=\"none\" points=\"221.1069,-.5 221.1069,-44.5 464.6763,-44.5 464.6763,-.5 221.1069,-.5\" stroke=\"#000000\"/>\n<text fill=\"#000000\" font-family=\"Times,serif\" font-size=\"14.00\" text-anchor=\"middle\" x=\"273.2329\" y=\"-18.3\">dense_9: Dense</text>\n<polyline fill=\"none\" points=\"325.3589,-.5 325.3589,-44.5 \" stroke=\"#000000\"/>\n<text fill=\"#000000\" font-family=\"Times,serif\" font-size=\"14.00\" text-anchor=\"middle\" x=\"353.1934\" y=\"-29.3\">input:</text>\n<polyline fill=\"none\" points=\"325.3589,-22.5 381.0278,-22.5 \" stroke=\"#000000\"/>\n<text fill=\"#000000\" font-family=\"Times,serif\" font-size=\"14.00\" text-anchor=\"middle\" x=\"353.1934\" y=\"-7.3\">output:</text>\n<polyline fill=\"none\" points=\"381.0278,-.5 381.0278,-44.5 \" stroke=\"#000000\"/>\n<text fill=\"#000000\" font-family=\"Times,serif\" font-size=\"14.00\" text-anchor=\"middle\" x=\"422.8521\" y=\"-29.3\">(None, 48)</text>\n<polyline fill=\"none\" points=\"381.0278,-22.5 464.6763,-22.5 \" stroke=\"#000000\"/>\n<text fill=\"#000000\" font-family=\"Times,serif\" font-size=\"14.00\" text-anchor=\"middle\" x=\"422.8521\" y=\"-7.3\">(None, 500)</text>\n</g>\n<!-- 4738358576&#45;&gt;4732433912 -->\n<g class=\"edge\" id=\"edge7\">\n<title>4738358576-&gt;4732433912</title>\n<path d=\"M342.8916,-81.3664C342.8916,-73.1516 342.8916,-63.6579 342.8916,-54.7252\" fill=\"none\" stroke=\"#000000\"/>\n<polygon fill=\"#000000\" points=\"346.3917,-54.6068 342.8916,-44.6068 339.3917,-54.6069 346.3917,-54.6068\" stroke=\"#000000\"/>\n</g>\n</g>\n</svg>",
            "text/plain": [
              "<IPython.core.display.SVG object>"
            ]
          },
          "metadata": {
            "tags": []
          },
          "execution_count": 14
        }
      ]
    },
    {
      "cell_type": "markdown",
      "metadata": {
        "id": "TUpk6PB8itac"
      },
      "source": [
        "Now, how do you **train** this two-input model? \n",
        "\n",
        "There are two possible APIs: \n",
        "* you can feed the model a list of Numpy arrays as inputs\n",
        "* you can feed it a dictionary that maps input names to Numpy arrays. \n",
        "\n",
        "Naturally, the latter option is available only if you give names to your inputs. \n",
        "\n",
        "#### Training the multi-input model"
      ]
    },
    {
      "cell_type": "code",
      "metadata": {
        "scrolled": true,
        "id": "0PSnzPb-itad"
      },
      "source": [
        "import numpy as np\n",
        "num_samples = 1000 \n",
        "max_length = 100\n",
        "\n",
        "# Generates dummy Numpy data\n",
        "text = np.random.randint(1, text_vocabulary_size,size=(num_samples, max_length))\n",
        "question = np.random.randint(1, question_vocabulary_size,size=(num_samples, max_length)) \n",
        "\n",
        "# Answers are one-hot encoded, not integers\n",
        "# answers = np.random.randint(0, 1,size=(num_samples, answer_vocabulary_size))\n",
        "answers = np.random.randint(answer_vocabulary_size, size=(num_samples))\n",
        "answers = keras.utils.to_categorical(answers, answer_vocabulary_size)\n",
        "\n",
        "# Fitting using a list of inputs\n",
        "print('-'*10,\"First training run with list of NumPy arrays\",'-'*60)\n",
        "\n",
        "model.fit([text, question], answers, epochs=10, batch_size=128)\n",
        "\n",
        "print()\n",
        "\n",
        "# Fitting using a dictionary of inputs (only if inputs are named)\n",
        "print('-'*10,\"Second training run with dictionary and named inputs\",'-'*60)\n",
        "\n",
        "model.fit({'text': text, 'question': question}, answers,epochs=10, batch_size=128)"
      ],
      "execution_count": null,
      "outputs": []
    },
    {
      "cell_type": "markdown",
      "metadata": {
        "id": "qxEz6HYPitag"
      },
      "source": [
        "## Multi-output models\n",
        "You can also use the functional API to build models with multiple outputs (or multiple *heads*). \n",
        "\n",
        "####  Example - prediction of Age, Gender and Income from social media posts\n",
        "A simple example is a network that attempts to simultaneously predict different properties of the data, such as a network that takes as input a series of social media posts from a single anonymous person and tries to predict attributes of that person, such as age, gender, and income level.\n"
      ]
    },
    {
      "cell_type": "code",
      "metadata": {
        "id": "I2GApQlBitah",
        "outputId": "81eacbee-1bea-4342-ebe5-4ac510dcbbba"
      },
      "source": [
        "from keras import layers\n",
        "from keras import Input \n",
        "from keras.models import Model \n",
        "\n",
        "vocabulary_size = 50000 \n",
        "num_income_groups = 10 \n",
        "\n",
        "posts_input = Input(shape=(None,), dtype='int32', name='posts')\n",
        "\n",
        "#embedded_posts = layers.Embedding(256, vocabulary_size)(posts_input) \n",
        "embedded_posts = layers.Embedding(vocabulary_size,256)(posts_input)\n",
        "\n",
        "x = layers.Conv1D(128, 5, activation='relu', padding='same')(embedded_posts)\n",
        "x = layers.MaxPooling1D(5)(x)\n",
        "x = layers.Conv1D(256, 5, activation='relu', padding='same')(x)\n",
        "x = layers.Conv1D(256, 5, activation='relu', padding='same')(x)\n",
        "x = layers.MaxPooling1D(5)(x)\n",
        "x = layers.Conv1D(256, 5, activation='relu', padding='same')(x)\n",
        "x = layers.Conv1D(256, 5, activation='relu', padding='same')(x) \n",
        "x = layers.GlobalMaxPooling1D()(x)\n",
        "x = layers.Dense(128, activation='relu')(x) \n",
        "\n",
        "# Note that the output layers are given names.\n",
        "\n",
        "age_prediction = layers.Dense(1, name='age')(x)\n",
        "\n",
        "income_prediction = layers.Dense(num_income_groups, activation='softmax',name='income')(x)\n",
        "\n",
        "gender_prediction = layers.Dense(1, activation='sigmoid', name='gender')(x)\n",
        "\n",
        "model = Model(posts_input,[age_prediction, income_prediction, gender_prediction])\n",
        "\n",
        "print(\"Model is ready!\")"
      ],
      "execution_count": null,
      "outputs": [
        {
          "output_type": "stream",
          "text": [
            "Model is ready!\n"
          ],
          "name": "stdout"
        }
      ]
    },
    {
      "cell_type": "markdown",
      "metadata": {
        "id": "-HH4Dc31ital"
      },
      "source": [
        "#### Compilation options of a multi-output model: multiple losses"
      ]
    },
    {
      "cell_type": "code",
      "metadata": {
        "id": "WMAPDafBitam"
      },
      "source": [
        "model.compile(optimizer='rmsprop', loss=['mse', 'categorical_crossentropy', 'binary_crossentropy'])\n",
        "\n",
        "# Equivalent (possible only if you give names to the output layers)\n",
        "model.compile(optimizer='rmsprop',loss={'age': 'mse',\n",
        "                                        'income': 'categorical_crossentropy',\n",
        "                                        'gender': 'binary_crossentropy'})"
      ],
      "execution_count": null,
      "outputs": []
    },
    {
      "cell_type": "code",
      "metadata": {
        "id": "I42tD-rHitaq"
      },
      "source": [
        "model.compile(optimizer='rmsprop',\n",
        "              loss=['mse', 'categorical_crossentropy', 'binary_crossentropy'],\n",
        "              loss_weights=[0.25, 1., 10.]) \n",
        "\n",
        "# Equivalent (possible only if you give names to the output layers)\n",
        "model.compile(optimizer='rmsprop',\n",
        "              loss={'age': 'mse','income': 'categorical_crossentropy','gender': 'binary_crossentropy'},\n",
        "              loss_weights={'age': 0.25,\n",
        "                            'income': 1.,\n",
        "                            'gender': 10.})"
      ],
      "execution_count": null,
      "outputs": []
    },
    {
      "cell_type": "code",
      "metadata": {
        "id": "K5GvCBtIitav",
        "outputId": "906a1a71-853b-49f3-b5c3-a3e84f0f7634"
      },
      "source": [
        "model.summary()\n",
        "\n",
        "from IPython.display import SVG\n",
        "from keras.utils.vis_utils import model_to_dot\n",
        "\n",
        "SVG(model_to_dot(model,show_shapes=True).create(prog='dot', format='svg'))"
      ],
      "execution_count": null,
      "outputs": [
        {
          "output_type": "stream",
          "text": [
            "__________________________________________________________________________________________________\n",
            "Layer (type)                    Output Shape         Param #     Connected to                     \n",
            "==================================================================================================\n",
            "posts (InputLayer)              (None, None)         0                                            \n",
            "__________________________________________________________________________________________________\n",
            "embedding_5 (Embedding)         (None, None, 256)    12800000    posts[0][0]                      \n",
            "__________________________________________________________________________________________________\n",
            "conv1d_1 (Conv1D)               (None, None, 128)    163968      embedding_5[0][0]                \n",
            "__________________________________________________________________________________________________\n",
            "max_pooling1d_1 (MaxPooling1D)  (None, None, 128)    0           conv1d_1[0][0]                   \n",
            "__________________________________________________________________________________________________\n",
            "conv1d_2 (Conv1D)               (None, None, 256)    164096      max_pooling1d_1[0][0]            \n",
            "__________________________________________________________________________________________________\n",
            "conv1d_3 (Conv1D)               (None, None, 256)    327936      conv1d_2[0][0]                   \n",
            "__________________________________________________________________________________________________\n",
            "max_pooling1d_2 (MaxPooling1D)  (None, None, 256)    0           conv1d_3[0][0]                   \n",
            "__________________________________________________________________________________________________\n",
            "conv1d_4 (Conv1D)               (None, None, 256)    327936      max_pooling1d_2[0][0]            \n",
            "__________________________________________________________________________________________________\n",
            "conv1d_5 (Conv1D)               (None, None, 256)    327936      conv1d_4[0][0]                   \n",
            "__________________________________________________________________________________________________\n",
            "global_max_pooling1d_1 (GlobalM (None, 256)          0           conv1d_5[0][0]                   \n",
            "__________________________________________________________________________________________________\n",
            "dense_10 (Dense)                (None, 128)          32896       global_max_pooling1d_1[0][0]     \n",
            "__________________________________________________________________________________________________\n",
            "age (Dense)                     (None, 1)            129         dense_10[0][0]                   \n",
            "__________________________________________________________________________________________________\n",
            "income (Dense)                  (None, 10)           1290        dense_10[0][0]                   \n",
            "__________________________________________________________________________________________________\n",
            "gender (Dense)                  (None, 1)            129         dense_10[0][0]                   \n",
            "==================================================================================================\n",
            "Total params: 14,146,316\n",
            "Trainable params: 14,146,316\n",
            "Non-trainable params: 0\n",
            "__________________________________________________________________________________________________\n"
          ],
          "name": "stdout"
        },
        {
          "output_type": "execute_result",
          "data": {
            "image/svg+xml": "<svg height=\"944pt\" viewBox=\"0.00 0.00 735.45 944.00\" width=\"735pt\" xmlns=\"http://www.w3.org/2000/svg\" xmlns:xlink=\"http://www.w3.org/1999/xlink\">\n<g class=\"graph\" id=\"graph0\" transform=\"scale(1 1) rotate(0) translate(4 940)\">\n<title>G</title>\n<polygon fill=\"#ffffff\" points=\"-4,4 -4,-940 731.4521,-940 731.4521,4 -4,4\" stroke=\"transparent\"/>\n<!-- 4779083368 -->\n<g class=\"node\" id=\"node1\">\n<title>4779083368</title>\n<polygon fill=\"none\" points=\"223.0552,-891.5 223.0552,-935.5 486.0659,-935.5 486.0659,-891.5 223.0552,-891.5\" stroke=\"#000000\"/>\n<text fill=\"#000000\" font-family=\"Times,serif\" font-size=\"14.00\" text-anchor=\"middle\" x=\"280.2397\" y=\"-909.3\">posts: InputLayer</text>\n<polyline fill=\"none\" points=\"337.4243,-891.5 337.4243,-935.5 \" stroke=\"#000000\"/>\n<text fill=\"#000000\" font-family=\"Times,serif\" font-size=\"14.00\" text-anchor=\"middle\" x=\"365.2588\" y=\"-920.3\">input:</text>\n<polyline fill=\"none\" points=\"337.4243,-913.5 393.0933,-913.5 \" stroke=\"#000000\"/>\n<text fill=\"#000000\" font-family=\"Times,serif\" font-size=\"14.00\" text-anchor=\"middle\" x=\"365.2588\" y=\"-898.3\">output:</text>\n<polyline fill=\"none\" points=\"393.0933,-891.5 393.0933,-935.5 \" stroke=\"#000000\"/>\n<text fill=\"#000000\" font-family=\"Times,serif\" font-size=\"14.00\" text-anchor=\"middle\" x=\"439.5796\" y=\"-920.3\">(None, None)</text>\n<polyline fill=\"none\" points=\"393.0933,-913.5 486.0659,-913.5 \" stroke=\"#000000\"/>\n<text fill=\"#000000\" font-family=\"Times,serif\" font-size=\"14.00\" text-anchor=\"middle\" x=\"439.5796\" y=\"-898.3\">(None, None)</text>\n</g>\n<!-- 4779083424 -->\n<g class=\"node\" id=\"node2\">\n<title>4779083424</title>\n<polygon fill=\"none\" points=\"184.1689,-810.5 184.1689,-854.5 524.9521,-854.5 524.9521,-810.5 184.1689,-810.5\" stroke=\"#000000\"/>\n<text fill=\"#000000\" font-family=\"Times,serif\" font-size=\"14.00\" text-anchor=\"middle\" x=\"266.2397\" y=\"-828.3\">embedding_5: Embedding</text>\n<polyline fill=\"none\" points=\"348.3105,-810.5 348.3105,-854.5 \" stroke=\"#000000\"/>\n<text fill=\"#000000\" font-family=\"Times,serif\" font-size=\"14.00\" text-anchor=\"middle\" x=\"376.145\" y=\"-839.3\">input:</text>\n<polyline fill=\"none\" points=\"348.3105,-832.5 403.9795,-832.5 \" stroke=\"#000000\"/>\n<text fill=\"#000000\" font-family=\"Times,serif\" font-size=\"14.00\" text-anchor=\"middle\" x=\"376.145\" y=\"-817.3\">output:</text>\n<polyline fill=\"none\" points=\"403.9795,-810.5 403.9795,-854.5 \" stroke=\"#000000\"/>\n<text fill=\"#000000\" font-family=\"Times,serif\" font-size=\"14.00\" text-anchor=\"middle\" x=\"464.4658\" y=\"-839.3\">(None, None)</text>\n<polyline fill=\"none\" points=\"403.9795,-832.5 524.9521,-832.5 \" stroke=\"#000000\"/>\n<text fill=\"#000000\" font-family=\"Times,serif\" font-size=\"14.00\" text-anchor=\"middle\" x=\"464.4658\" y=\"-817.3\">(None, None, 256)</text>\n</g>\n<!-- 4779083368&#45;&gt;4779083424 -->\n<g class=\"edge\" id=\"edge1\">\n<title>4779083368-&gt;4779083424</title>\n<path d=\"M354.5605,-891.3664C354.5605,-883.1516 354.5605,-873.6579 354.5605,-864.7252\" fill=\"none\" stroke=\"#000000\"/>\n<polygon fill=\"#000000\" points=\"358.0606,-864.6068 354.5605,-854.6068 351.0606,-864.6069 358.0606,-864.6068\" stroke=\"#000000\"/>\n</g>\n<!-- 4779083760 -->\n<g class=\"node\" id=\"node3\">\n<title>4779083760</title>\n<polygon fill=\"none\" points=\"203.2139,-729.5 203.2139,-773.5 505.9072,-773.5 505.9072,-729.5 203.2139,-729.5\" stroke=\"#000000\"/>\n<text fill=\"#000000\" font-family=\"Times,serif\" font-size=\"14.00\" text-anchor=\"middle\" x=\"266.2397\" y=\"-747.3\">conv1d_1: Conv1D</text>\n<polyline fill=\"none\" points=\"329.2656,-729.5 329.2656,-773.5 \" stroke=\"#000000\"/>\n<text fill=\"#000000\" font-family=\"Times,serif\" font-size=\"14.00\" text-anchor=\"middle\" x=\"357.1001\" y=\"-758.3\">input:</text>\n<polyline fill=\"none\" points=\"329.2656,-751.5 384.9346,-751.5 \" stroke=\"#000000\"/>\n<text fill=\"#000000\" font-family=\"Times,serif\" font-size=\"14.00\" text-anchor=\"middle\" x=\"357.1001\" y=\"-736.3\">output:</text>\n<polyline fill=\"none\" points=\"384.9346,-729.5 384.9346,-773.5 \" stroke=\"#000000\"/>\n<text fill=\"#000000\" font-family=\"Times,serif\" font-size=\"14.00\" text-anchor=\"middle\" x=\"445.4209\" y=\"-758.3\">(None, None, 256)</text>\n<polyline fill=\"none\" points=\"384.9346,-751.5 505.9072,-751.5 \" stroke=\"#000000\"/>\n<text fill=\"#000000\" font-family=\"Times,serif\" font-size=\"14.00\" text-anchor=\"middle\" x=\"445.4209\" y=\"-736.3\">(None, None, 128)</text>\n</g>\n<!-- 4779083424&#45;&gt;4779083760 -->\n<g class=\"edge\" id=\"edge2\">\n<title>4779083424-&gt;4779083760</title>\n<path d=\"M354.5605,-810.3664C354.5605,-802.1516 354.5605,-792.6579 354.5605,-783.7252\" fill=\"none\" stroke=\"#000000\"/>\n<polygon fill=\"#000000\" points=\"358.0606,-783.6068 354.5605,-773.6068 351.0606,-783.6069 358.0606,-783.6068\" stroke=\"#000000\"/>\n</g>\n<!-- 4779083816 -->\n<g class=\"node\" id=\"node4\">\n<title>4779083816</title>\n<polygon fill=\"none\" points=\"160.4346,-648.5 160.4346,-692.5 548.6865,-692.5 548.6865,-648.5 160.4346,-648.5\" stroke=\"#000000\"/>\n<text fill=\"#000000\" font-family=\"Times,serif\" font-size=\"14.00\" text-anchor=\"middle\" x=\"266.2397\" y=\"-666.3\">max_pooling1d_1: MaxPooling1D</text>\n<polyline fill=\"none\" points=\"372.0449,-648.5 372.0449,-692.5 \" stroke=\"#000000\"/>\n<text fill=\"#000000\" font-family=\"Times,serif\" font-size=\"14.00\" text-anchor=\"middle\" x=\"399.8794\" y=\"-677.3\">input:</text>\n<polyline fill=\"none\" points=\"372.0449,-670.5 427.7139,-670.5 \" stroke=\"#000000\"/>\n<text fill=\"#000000\" font-family=\"Times,serif\" font-size=\"14.00\" text-anchor=\"middle\" x=\"399.8794\" y=\"-655.3\">output:</text>\n<polyline fill=\"none\" points=\"427.7139,-648.5 427.7139,-692.5 \" stroke=\"#000000\"/>\n<text fill=\"#000000\" font-family=\"Times,serif\" font-size=\"14.00\" text-anchor=\"middle\" x=\"488.2002\" y=\"-677.3\">(None, None, 128)</text>\n<polyline fill=\"none\" points=\"427.7139,-670.5 548.6865,-670.5 \" stroke=\"#000000\"/>\n<text fill=\"#000000\" font-family=\"Times,serif\" font-size=\"14.00\" text-anchor=\"middle\" x=\"488.2002\" y=\"-655.3\">(None, None, 128)</text>\n</g>\n<!-- 4779083760&#45;&gt;4779083816 -->\n<g class=\"edge\" id=\"edge3\">\n<title>4779083760-&gt;4779083816</title>\n<path d=\"M354.5605,-729.3664C354.5605,-721.1516 354.5605,-711.6579 354.5605,-702.7252\" fill=\"none\" stroke=\"#000000\"/>\n<polygon fill=\"#000000\" points=\"358.0606,-702.6068 354.5605,-692.6068 351.0606,-702.6069 358.0606,-702.6068\" stroke=\"#000000\"/>\n</g>\n<!-- 4779083984 -->\n<g class=\"node\" id=\"node5\">\n<title>4779083984</title>\n<polygon fill=\"none\" points=\"203.2139,-567.5 203.2139,-611.5 505.9072,-611.5 505.9072,-567.5 203.2139,-567.5\" stroke=\"#000000\"/>\n<text fill=\"#000000\" font-family=\"Times,serif\" font-size=\"14.00\" text-anchor=\"middle\" x=\"266.2397\" y=\"-585.3\">conv1d_2: Conv1D</text>\n<polyline fill=\"none\" points=\"329.2656,-567.5 329.2656,-611.5 \" stroke=\"#000000\"/>\n<text fill=\"#000000\" font-family=\"Times,serif\" font-size=\"14.00\" text-anchor=\"middle\" x=\"357.1001\" y=\"-596.3\">input:</text>\n<polyline fill=\"none\" points=\"329.2656,-589.5 384.9346,-589.5 \" stroke=\"#000000\"/>\n<text fill=\"#000000\" font-family=\"Times,serif\" font-size=\"14.00\" text-anchor=\"middle\" x=\"357.1001\" y=\"-574.3\">output:</text>\n<polyline fill=\"none\" points=\"384.9346,-567.5 384.9346,-611.5 \" stroke=\"#000000\"/>\n<text fill=\"#000000\" font-family=\"Times,serif\" font-size=\"14.00\" text-anchor=\"middle\" x=\"445.4209\" y=\"-596.3\">(None, None, 128)</text>\n<polyline fill=\"none\" points=\"384.9346,-589.5 505.9072,-589.5 \" stroke=\"#000000\"/>\n<text fill=\"#000000\" font-family=\"Times,serif\" font-size=\"14.00\" text-anchor=\"middle\" x=\"445.4209\" y=\"-574.3\">(None, None, 256)</text>\n</g>\n<!-- 4779083816&#45;&gt;4779083984 -->\n<g class=\"edge\" id=\"edge4\">\n<title>4779083816-&gt;4779083984</title>\n<path d=\"M354.5605,-648.3664C354.5605,-640.1516 354.5605,-630.6579 354.5605,-621.7252\" fill=\"none\" stroke=\"#000000\"/>\n<polygon fill=\"#000000\" points=\"358.0606,-621.6068 354.5605,-611.6068 351.0606,-621.6069 358.0606,-621.6068\" stroke=\"#000000\"/>\n</g>\n<!-- 4779083928 -->\n<g class=\"node\" id=\"node6\">\n<title>4779083928</title>\n<polygon fill=\"none\" points=\"203.2139,-486.5 203.2139,-530.5 505.9072,-530.5 505.9072,-486.5 203.2139,-486.5\" stroke=\"#000000\"/>\n<text fill=\"#000000\" font-family=\"Times,serif\" font-size=\"14.00\" text-anchor=\"middle\" x=\"266.2397\" y=\"-504.3\">conv1d_3: Conv1D</text>\n<polyline fill=\"none\" points=\"329.2656,-486.5 329.2656,-530.5 \" stroke=\"#000000\"/>\n<text fill=\"#000000\" font-family=\"Times,serif\" font-size=\"14.00\" text-anchor=\"middle\" x=\"357.1001\" y=\"-515.3\">input:</text>\n<polyline fill=\"none\" points=\"329.2656,-508.5 384.9346,-508.5 \" stroke=\"#000000\"/>\n<text fill=\"#000000\" font-family=\"Times,serif\" font-size=\"14.00\" text-anchor=\"middle\" x=\"357.1001\" y=\"-493.3\">output:</text>\n<polyline fill=\"none\" points=\"384.9346,-486.5 384.9346,-530.5 \" stroke=\"#000000\"/>\n<text fill=\"#000000\" font-family=\"Times,serif\" font-size=\"14.00\" text-anchor=\"middle\" x=\"445.4209\" y=\"-515.3\">(None, None, 256)</text>\n<polyline fill=\"none\" points=\"384.9346,-508.5 505.9072,-508.5 \" stroke=\"#000000\"/>\n<text fill=\"#000000\" font-family=\"Times,serif\" font-size=\"14.00\" text-anchor=\"middle\" x=\"445.4209\" y=\"-493.3\">(None, None, 256)</text>\n</g>\n<!-- 4779083984&#45;&gt;4779083928 -->\n<g class=\"edge\" id=\"edge5\">\n<title>4779083984-&gt;4779083928</title>\n<path d=\"M354.5605,-567.3664C354.5605,-559.1516 354.5605,-549.6579 354.5605,-540.7252\" fill=\"none\" stroke=\"#000000\"/>\n<polygon fill=\"#000000\" points=\"358.0606,-540.6068 354.5605,-530.6068 351.0606,-540.6069 358.0606,-540.6068\" stroke=\"#000000\"/>\n</g>\n<!-- 4779061488 -->\n<g class=\"node\" id=\"node7\">\n<title>4779061488</title>\n<polygon fill=\"none\" points=\"160.4346,-405.5 160.4346,-449.5 548.6865,-449.5 548.6865,-405.5 160.4346,-405.5\" stroke=\"#000000\"/>\n<text fill=\"#000000\" font-family=\"Times,serif\" font-size=\"14.00\" text-anchor=\"middle\" x=\"266.2397\" y=\"-423.3\">max_pooling1d_2: MaxPooling1D</text>\n<polyline fill=\"none\" points=\"372.0449,-405.5 372.0449,-449.5 \" stroke=\"#000000\"/>\n<text fill=\"#000000\" font-family=\"Times,serif\" font-size=\"14.00\" text-anchor=\"middle\" x=\"399.8794\" y=\"-434.3\">input:</text>\n<polyline fill=\"none\" points=\"372.0449,-427.5 427.7139,-427.5 \" stroke=\"#000000\"/>\n<text fill=\"#000000\" font-family=\"Times,serif\" font-size=\"14.00\" text-anchor=\"middle\" x=\"399.8794\" y=\"-412.3\">output:</text>\n<polyline fill=\"none\" points=\"427.7139,-405.5 427.7139,-449.5 \" stroke=\"#000000\"/>\n<text fill=\"#000000\" font-family=\"Times,serif\" font-size=\"14.00\" text-anchor=\"middle\" x=\"488.2002\" y=\"-434.3\">(None, None, 256)</text>\n<polyline fill=\"none\" points=\"427.7139,-427.5 548.6865,-427.5 \" stroke=\"#000000\"/>\n<text fill=\"#000000\" font-family=\"Times,serif\" font-size=\"14.00\" text-anchor=\"middle\" x=\"488.2002\" y=\"-412.3\">(None, None, 256)</text>\n</g>\n<!-- 4779083928&#45;&gt;4779061488 -->\n<g class=\"edge\" id=\"edge6\">\n<title>4779083928-&gt;4779061488</title>\n<path d=\"M354.5605,-486.3664C354.5605,-478.1516 354.5605,-468.6579 354.5605,-459.7252\" fill=\"none\" stroke=\"#000000\"/>\n<polygon fill=\"#000000\" points=\"358.0606,-459.6068 354.5605,-449.6068 351.0606,-459.6069 358.0606,-459.6068\" stroke=\"#000000\"/>\n</g>\n<!-- 4861368864 -->\n<g class=\"node\" id=\"node8\">\n<title>4861368864</title>\n<polygon fill=\"none\" points=\"203.2139,-324.5 203.2139,-368.5 505.9072,-368.5 505.9072,-324.5 203.2139,-324.5\" stroke=\"#000000\"/>\n<text fill=\"#000000\" font-family=\"Times,serif\" font-size=\"14.00\" text-anchor=\"middle\" x=\"266.2397\" y=\"-342.3\">conv1d_4: Conv1D</text>\n<polyline fill=\"none\" points=\"329.2656,-324.5 329.2656,-368.5 \" stroke=\"#000000\"/>\n<text fill=\"#000000\" font-family=\"Times,serif\" font-size=\"14.00\" text-anchor=\"middle\" x=\"357.1001\" y=\"-353.3\">input:</text>\n<polyline fill=\"none\" points=\"329.2656,-346.5 384.9346,-346.5 \" stroke=\"#000000\"/>\n<text fill=\"#000000\" font-family=\"Times,serif\" font-size=\"14.00\" text-anchor=\"middle\" x=\"357.1001\" y=\"-331.3\">output:</text>\n<polyline fill=\"none\" points=\"384.9346,-324.5 384.9346,-368.5 \" stroke=\"#000000\"/>\n<text fill=\"#000000\" font-family=\"Times,serif\" font-size=\"14.00\" text-anchor=\"middle\" x=\"445.4209\" y=\"-353.3\">(None, None, 256)</text>\n<polyline fill=\"none\" points=\"384.9346,-346.5 505.9072,-346.5 \" stroke=\"#000000\"/>\n<text fill=\"#000000\" font-family=\"Times,serif\" font-size=\"14.00\" text-anchor=\"middle\" x=\"445.4209\" y=\"-331.3\">(None, None, 256)</text>\n</g>\n<!-- 4779061488&#45;&gt;4861368864 -->\n<g class=\"edge\" id=\"edge7\">\n<title>4779061488-&gt;4861368864</title>\n<path d=\"M354.5605,-405.3664C354.5605,-397.1516 354.5605,-387.6579 354.5605,-378.7252\" fill=\"none\" stroke=\"#000000\"/>\n<polygon fill=\"#000000\" points=\"358.0606,-378.6068 354.5605,-368.6068 351.0606,-378.6069 358.0606,-378.6068\" stroke=\"#000000\"/>\n</g>\n<!-- 4861224216 -->\n<g class=\"node\" id=\"node9\">\n<title>4861224216</title>\n<polygon fill=\"none\" points=\"203.2139,-243.5 203.2139,-287.5 505.9072,-287.5 505.9072,-243.5 203.2139,-243.5\" stroke=\"#000000\"/>\n<text fill=\"#000000\" font-family=\"Times,serif\" font-size=\"14.00\" text-anchor=\"middle\" x=\"266.2397\" y=\"-261.3\">conv1d_5: Conv1D</text>\n<polyline fill=\"none\" points=\"329.2656,-243.5 329.2656,-287.5 \" stroke=\"#000000\"/>\n<text fill=\"#000000\" font-family=\"Times,serif\" font-size=\"14.00\" text-anchor=\"middle\" x=\"357.1001\" y=\"-272.3\">input:</text>\n<polyline fill=\"none\" points=\"329.2656,-265.5 384.9346,-265.5 \" stroke=\"#000000\"/>\n<text fill=\"#000000\" font-family=\"Times,serif\" font-size=\"14.00\" text-anchor=\"middle\" x=\"357.1001\" y=\"-250.3\">output:</text>\n<polyline fill=\"none\" points=\"384.9346,-243.5 384.9346,-287.5 \" stroke=\"#000000\"/>\n<text fill=\"#000000\" font-family=\"Times,serif\" font-size=\"14.00\" text-anchor=\"middle\" x=\"445.4209\" y=\"-272.3\">(None, None, 256)</text>\n<polyline fill=\"none\" points=\"384.9346,-265.5 505.9072,-265.5 \" stroke=\"#000000\"/>\n<text fill=\"#000000\" font-family=\"Times,serif\" font-size=\"14.00\" text-anchor=\"middle\" x=\"445.4209\" y=\"-250.3\">(None, None, 256)</text>\n</g>\n<!-- 4861368864&#45;&gt;4861224216 -->\n<g class=\"edge\" id=\"edge8\">\n<title>4861368864-&gt;4861224216</title>\n<path d=\"M354.5605,-324.3664C354.5605,-316.1516 354.5605,-306.6579 354.5605,-297.7252\" fill=\"none\" stroke=\"#000000\"/>\n<polygon fill=\"#000000\" points=\"358.0606,-297.6068 354.5605,-287.6068 351.0606,-297.6069 358.0606,-297.6068\" stroke=\"#000000\"/>\n</g>\n<!-- 4782105712 -->\n<g class=\"node\" id=\"node10\">\n<title>4782105712</title>\n<polygon fill=\"none\" points=\"120.3862,-162.5 120.3862,-206.5 588.7349,-206.5 588.7349,-162.5 120.3862,-162.5\" stroke=\"#000000\"/>\n<text fill=\"#000000\" font-family=\"Times,serif\" font-size=\"14.00\" text-anchor=\"middle\" x=\"266.2397\" y=\"-180.3\">global_max_pooling1d_1: GlobalMaxPooling1D</text>\n<polyline fill=\"none\" points=\"412.0933,-162.5 412.0933,-206.5 \" stroke=\"#000000\"/>\n<text fill=\"#000000\" font-family=\"Times,serif\" font-size=\"14.00\" text-anchor=\"middle\" x=\"439.9277\" y=\"-191.3\">input:</text>\n<polyline fill=\"none\" points=\"412.0933,-184.5 467.7622,-184.5 \" stroke=\"#000000\"/>\n<text fill=\"#000000\" font-family=\"Times,serif\" font-size=\"14.00\" text-anchor=\"middle\" x=\"439.9277\" y=\"-169.3\">output:</text>\n<polyline fill=\"none\" points=\"467.7622,-162.5 467.7622,-206.5 \" stroke=\"#000000\"/>\n<text fill=\"#000000\" font-family=\"Times,serif\" font-size=\"14.00\" text-anchor=\"middle\" x=\"528.2485\" y=\"-191.3\">(None, None, 256)</text>\n<polyline fill=\"none\" points=\"467.7622,-184.5 588.7349,-184.5 \" stroke=\"#000000\"/>\n<text fill=\"#000000\" font-family=\"Times,serif\" font-size=\"14.00\" text-anchor=\"middle\" x=\"528.0864\" y=\"-169.3\">(None, 256)</text>\n</g>\n<!-- 4861224216&#45;&gt;4782105712 -->\n<g class=\"edge\" id=\"edge9\">\n<title>4861224216-&gt;4782105712</title>\n<path d=\"M354.5605,-243.3664C354.5605,-235.1516 354.5605,-225.6579 354.5605,-216.7252\" fill=\"none\" stroke=\"#000000\"/>\n<polygon fill=\"#000000\" points=\"358.0606,-216.6068 354.5605,-206.6068 351.0606,-216.6069 358.0606,-216.6068\" stroke=\"#000000\"/>\n</g>\n<!-- 4782169952 -->\n<g class=\"node\" id=\"node11\">\n<title>4782169952</title>\n<polygon fill=\"none\" points=\"229.2759,-81.5 229.2759,-125.5 479.8452,-125.5 479.8452,-81.5 229.2759,-81.5\" stroke=\"#000000\"/>\n<text fill=\"#000000\" font-family=\"Times,serif\" font-size=\"14.00\" text-anchor=\"middle\" x=\"284.9019\" y=\"-99.3\">dense_10: Dense</text>\n<polyline fill=\"none\" points=\"340.5278,-81.5 340.5278,-125.5 \" stroke=\"#000000\"/>\n<text fill=\"#000000\" font-family=\"Times,serif\" font-size=\"14.00\" text-anchor=\"middle\" x=\"368.3623\" y=\"-110.3\">input:</text>\n<polyline fill=\"none\" points=\"340.5278,-103.5 396.1968,-103.5 \" stroke=\"#000000\"/>\n<text fill=\"#000000\" font-family=\"Times,serif\" font-size=\"14.00\" text-anchor=\"middle\" x=\"368.3623\" y=\"-88.3\">output:</text>\n<polyline fill=\"none\" points=\"396.1968,-81.5 396.1968,-125.5 \" stroke=\"#000000\"/>\n<text fill=\"#000000\" font-family=\"Times,serif\" font-size=\"14.00\" text-anchor=\"middle\" x=\"438.021\" y=\"-110.3\">(None, 256)</text>\n<polyline fill=\"none\" points=\"396.1968,-103.5 479.8452,-103.5 \" stroke=\"#000000\"/>\n<text fill=\"#000000\" font-family=\"Times,serif\" font-size=\"14.00\" text-anchor=\"middle\" x=\"438.021\" y=\"-88.3\">(None, 128)</text>\n</g>\n<!-- 4782105712&#45;&gt;4782169952 -->\n<g class=\"edge\" id=\"edge10\">\n<title>4782105712-&gt;4782169952</title>\n<path d=\"M354.5605,-162.3664C354.5605,-154.1516 354.5605,-144.6579 354.5605,-135.7252\" fill=\"none\" stroke=\"#000000\"/>\n<polygon fill=\"#000000\" points=\"358.0606,-135.6068 354.5605,-125.6068 351.0606,-135.6069 358.0606,-135.6068\" stroke=\"#000000\"/>\n</g>\n<!-- 4781536872 -->\n<g class=\"node\" id=\"node12\">\n<title>4781536872</title>\n<polygon fill=\"none\" points=\"0,-.5 0,-44.5 217.1211,-44.5 217.1211,-.5 0,-.5\" stroke=\"#000000\"/>\n<text fill=\"#000000\" font-family=\"Times,serif\" font-size=\"14.00\" text-anchor=\"middle\" x=\"38.9019\" y=\"-18.3\">age: Dense</text>\n<polyline fill=\"none\" points=\"77.8037,-.5 77.8037,-44.5 \" stroke=\"#000000\"/>\n<text fill=\"#000000\" font-family=\"Times,serif\" font-size=\"14.00\" text-anchor=\"middle\" x=\"105.6382\" y=\"-29.3\">input:</text>\n<polyline fill=\"none\" points=\"77.8037,-22.5 133.4727,-22.5 \" stroke=\"#000000\"/>\n<text fill=\"#000000\" font-family=\"Times,serif\" font-size=\"14.00\" text-anchor=\"middle\" x=\"105.6382\" y=\"-7.3\">output:</text>\n<polyline fill=\"none\" points=\"133.4727,-.5 133.4727,-44.5 \" stroke=\"#000000\"/>\n<text fill=\"#000000\" font-family=\"Times,serif\" font-size=\"14.00\" text-anchor=\"middle\" x=\"175.2969\" y=\"-29.3\">(None, 128)</text>\n<polyline fill=\"none\" points=\"133.4727,-22.5 217.1211,-22.5 \" stroke=\"#000000\"/>\n<text fill=\"#000000\" font-family=\"Times,serif\" font-size=\"14.00\" text-anchor=\"middle\" x=\"175.2969\" y=\"-7.3\">(None, 1)</text>\n</g>\n<!-- 4782169952&#45;&gt;4781536872 -->\n<g class=\"edge\" id=\"edge11\">\n<title>4782169952-&gt;4781536872</title>\n<path d=\"M287.6649,-81.4734C255.939,-71.027 217.8751,-58.4938 185.0118,-47.673\" fill=\"none\" stroke=\"#000000\"/>\n<polygon fill=\"#000000\" points=\"186.0359,-44.3254 175.4429,-44.5222 183.8466,-50.9742 186.0359,-44.3254\" stroke=\"#000000\"/>\n</g>\n<!-- 4781698016 -->\n<g class=\"node\" id=\"node13\">\n<title>4781698016</title>\n<polygon fill=\"none\" points=\"235.1104,-.5 235.1104,-44.5 474.0107,-44.5 474.0107,-.5 235.1104,-.5\" stroke=\"#000000\"/>\n<text fill=\"#000000\" font-family=\"Times,serif\" font-size=\"14.00\" text-anchor=\"middle\" x=\"284.9019\" y=\"-18.3\">income: Dense</text>\n<polyline fill=\"none\" points=\"334.6934,-.5 334.6934,-44.5 \" stroke=\"#000000\"/>\n<text fill=\"#000000\" font-family=\"Times,serif\" font-size=\"14.00\" text-anchor=\"middle\" x=\"362.5278\" y=\"-29.3\">input:</text>\n<polyline fill=\"none\" points=\"334.6934,-22.5 390.3623,-22.5 \" stroke=\"#000000\"/>\n<text fill=\"#000000\" font-family=\"Times,serif\" font-size=\"14.00\" text-anchor=\"middle\" x=\"362.5278\" y=\"-7.3\">output:</text>\n<polyline fill=\"none\" points=\"390.3623,-.5 390.3623,-44.5 \" stroke=\"#000000\"/>\n<text fill=\"#000000\" font-family=\"Times,serif\" font-size=\"14.00\" text-anchor=\"middle\" x=\"432.1865\" y=\"-29.3\">(None, 128)</text>\n<polyline fill=\"none\" points=\"390.3623,-22.5 474.0107,-22.5 \" stroke=\"#000000\"/>\n<text fill=\"#000000\" font-family=\"Times,serif\" font-size=\"14.00\" text-anchor=\"middle\" x=\"432.1865\" y=\"-7.3\">(None, 10)</text>\n</g>\n<!-- 4782169952&#45;&gt;4781698016 -->\n<g class=\"edge\" id=\"edge12\">\n<title>4782169952-&gt;4781698016</title>\n<path d=\"M354.5605,-81.3664C354.5605,-73.1516 354.5605,-63.6579 354.5605,-54.7252\" fill=\"none\" stroke=\"#000000\"/>\n<polygon fill=\"#000000\" points=\"358.0606,-54.6068 354.5605,-44.6068 351.0606,-54.6069 358.0606,-54.6068\" stroke=\"#000000\"/>\n</g>\n<!-- 4710543032 -->\n<g class=\"node\" id=\"node14\">\n<title>4710543032</title>\n<polygon fill=\"none\" points=\"491.6689,-.5 491.6689,-44.5 727.4521,-44.5 727.4521,-.5 491.6689,-.5\" stroke=\"#000000\"/>\n<text fill=\"#000000\" font-family=\"Times,serif\" font-size=\"14.00\" text-anchor=\"middle\" x=\"539.9019\" y=\"-18.3\">gender: Dense</text>\n<polyline fill=\"none\" points=\"588.1348,-.5 588.1348,-44.5 \" stroke=\"#000000\"/>\n<text fill=\"#000000\" font-family=\"Times,serif\" font-size=\"14.00\" text-anchor=\"middle\" x=\"615.9692\" y=\"-29.3\">input:</text>\n<polyline fill=\"none\" points=\"588.1348,-22.5 643.8037,-22.5 \" stroke=\"#000000\"/>\n<text fill=\"#000000\" font-family=\"Times,serif\" font-size=\"14.00\" text-anchor=\"middle\" x=\"615.9692\" y=\"-7.3\">output:</text>\n<polyline fill=\"none\" points=\"643.8037,-.5 643.8037,-44.5 \" stroke=\"#000000\"/>\n<text fill=\"#000000\" font-family=\"Times,serif\" font-size=\"14.00\" text-anchor=\"middle\" x=\"685.6279\" y=\"-29.3\">(None, 128)</text>\n<polyline fill=\"none\" points=\"643.8037,-22.5 727.4521,-22.5 \" stroke=\"#000000\"/>\n<text fill=\"#000000\" font-family=\"Times,serif\" font-size=\"14.00\" text-anchor=\"middle\" x=\"685.6279\" y=\"-7.3\">(None, 1)</text>\n</g>\n<!-- 4782169952&#45;&gt;4710543032 -->\n<g class=\"edge\" id=\"edge13\">\n<title>4782169952-&gt;4710543032</title>\n<path d=\"M423.9036,-81.4734C456.7902,-71.027 496.2467,-58.4938 530.3123,-47.673\" fill=\"none\" stroke=\"#000000\"/>\n<polygon fill=\"#000000\" points=\"531.7602,-50.8855 540.2313,-44.5222 529.641,-44.2139 531.7602,-50.8855\" stroke=\"#000000\"/>\n</g>\n</g>\n</svg>",
            "text/plain": [
              "<IPython.core.display.SVG object>"
            ]
          },
          "metadata": {
            "tags": []
          },
          "execution_count": 21
        }
      ]
    },
    {
      "cell_type": "markdown",
      "metadata": {
        "id": "brg6cmV2ita0"
      },
      "source": [
        "#### Feeding data to a multi-output model\n",
        "\n",
        "Much as in the case of multi-input models, you can pass Numpy data to the model for training either via a list of arrays or via a dictionary of arrays."
      ]
    },
    {
      "cell_type": "markdown",
      "metadata": {
        "id": "HofGquIdita1"
      },
      "source": [
        "#### Training a multi-output model"
      ]
    },
    {
      "cell_type": "code",
      "metadata": {
        "scrolled": true,
        "id": "YZtRzcdyita3",
        "outputId": "652aaabd-7de8-4fa7-ec8b-7fac9c331ec8"
      },
      "source": [
        "import numpy as np \n",
        "\n",
        "TRACE = False\n",
        "\n",
        "num_samples = 1000 \n",
        "max_length = 100 \n",
        "\n",
        "posts = np.random.randint(1, vocabulary_size, size=(num_samples, max_length))\n",
        "if TRACE:\n",
        "    print(\"*** POSTS ***\")\n",
        "    print(posts.shape)\n",
        "    print(posts[:10])\n",
        "    print()\n",
        "\n",
        "age_targets = np.random.randint(0, 100, size=(num_samples,1))\n",
        "if TRACE:\n",
        "    print(\"*** AGE ***\")\n",
        "    print(age_targets.shape)\n",
        "    print(age_targets[:10])\n",
        "    print()\n",
        "\n",
        "income_targets = np.random.randint(1, num_income_groups, size=(num_samples,1))\n",
        "income_targets = keras.utils.to_categorical(income_targets,num_income_groups)\n",
        "if TRACE:\n",
        "    print(\"*** INCOME ***\")\n",
        "    print(income_targets.shape)\n",
        "    print(income_targets[:10])\n",
        "    print()\n",
        "\n",
        "gender_targets = np.random.randint(0, 2, size=(num_samples,1))\n",
        "if TRACE:\n",
        "    print(\"*** GENDER ***\")\n",
        "    print(gender_targets.shape)\n",
        "    print(gender_targets[:10])\n",
        "    print()\n",
        "\n",
        "print('-'*10, \"First training run with NumPy arrays\", '-'*60)\n",
        "\n",
        "# age_targets, income_targets, and gender_targets are assumed to be Numpy arrays.\n",
        "\n",
        "model.fit(posts, [age_targets, income_targets, gender_targets], epochs=10, batch_size=64)\n",
        "\n",
        "print('-'*10,\"Second training run with dictionary and named outputs\",'-'*60)\n",
        "\n",
        "# Equivalent (possible only if you give names to the output layers)\n",
        "\n",
        "model.fit(posts, {'age': age_targets,\n",
        "                  'income': income_targets,\n",
        "                  'gender': gender_targets},\n",
        "          epochs=10, batch_size=64)"
      ],
      "execution_count": null,
      "outputs": [
        {
          "output_type": "stream",
          "text": [
            "---------- First training run with NumPy arrays ------------------------------------------------------------\n",
            "Epoch 1/10\n",
            "1000/1000 [==============================] - 9s 9ms/step - loss: 2034.5990 - age_loss: 8066.3788 - income_loss: 4.0558 - gender_loss: 1.3948\n",
            "Epoch 2/10\n",
            "1000/1000 [==============================] - 9s 9ms/step - loss: 150.4753 - age_loss: 542.2556 - income_loss: 2.4038 - gender_loss: 1.2508\n",
            "Epoch 3/10\n",
            "1000/1000 [==============================] - 10s 10ms/step - loss: 163.5628 - age_loss: 575.2898 - income_loss: 2.6241 - gender_loss: 1.7116\n",
            "Epoch 4/10\n",
            "1000/1000 [==============================] - 8s 8ms/step - loss: 402.7297 - age_loss: 1402.9028 - income_loss: 9.0451 - gender_loss: 4.2959\n",
            "Epoch 5/10\n",
            "1000/1000 [==============================] - 8s 8ms/step - loss: 17855.3646 - age_loss: 71078.0439 - income_loss: 13.6580 - gender_loss: 7.2195\n",
            "Epoch 6/10\n",
            "1000/1000 [==============================] - 8s 8ms/step - loss: 585917.7878 - age_loss: 2343302.9990 - income_loss: 14.3116 - gender_loss: 7.7740\n",
            "Epoch 7/10\n",
            "1000/1000 [==============================] - 10s 10ms/step - loss: 81165.1498 - age_loss: 324283.9278 - income_loss: 14.2973 - gender_loss: 7.9871\n",
            "Epoch 8/10\n",
            "1000/1000 [==============================] - 9s 9ms/step - loss: 43909.6058 - age_loss: 175262.1013 - income_loss: 14.2088 - gender_loss: 7.9871\n",
            "Epoch 9/10\n",
            "1000/1000 [==============================] - 8s 8ms/step - loss: 1022139.5908 - age_loss: 4088181.4002 - income_loss: 14.3887 - gender_loss: 7.9871\n",
            "Epoch 10/10\n",
            "1000/1000 [==============================] - 9s 9ms/step - loss: 119479.2284 - age_loss: 477539.7231 - income_loss: 14.4289 - gender_loss: 7.9871\n",
            "---------- Second training run with dictionary and named outputs ------------------------------------------------------------\n",
            "Epoch 1/10\n",
            "1000/1000 [==============================] - 8s 8ms/step - loss: 124047.4452 - age_loss: 495812.8410 - income_loss: 14.3610 - gender_loss: 7.9871\n",
            "Epoch 2/10\n",
            "1000/1000 [==============================] - 7s 7ms/step - loss: 40409.4534 - age_loss: 161260.9529 - income_loss: 14.3451 - gender_loss: 7.9871\n",
            "Epoch 3/10\n",
            "1000/1000 [==============================] - 8s 8ms/step - loss: 2701707.6878 - age_loss: 10806453.8409 - income_loss: 14.4096 - gender_loss: 7.9871\n",
            "Epoch 4/10\n",
            "1000/1000 [==============================] - 8s 8ms/step - loss: 326507.1074 - age_loss: 1305652.0114 - income_loss: 14.2323 - gender_loss: 7.9871\n",
            "Epoch 5/10\n",
            "1000/1000 [==============================] - 8s 8ms/step - loss: 960.2075 - age_loss: 3463.2557 - income_loss: 14.5223 - gender_loss: 7.9871\n",
            "Epoch 6/10\n",
            "1000/1000 [==============================] - 8s 8ms/step - loss: 1366666.2853 - age_loss: 5466288.3055 - income_loss: 14.3686 - gender_loss: 7.9871\n",
            "Epoch 7/10\n",
            "1000/1000 [==============================] - 8s 8ms/step - loss: 936314.2207 - age_loss: 3744880.3891 - income_loss: 14.2731 - gender_loss: 7.9871\n",
            "Epoch 8/10\n",
            "1000/1000 [==============================] - 8s 8ms/step - loss: 30479.6221 - age_loss: 121541.4295 - income_loss: 14.3935 - gender_loss: 7.9871\n",
            "Epoch 9/10\n",
            "1000/1000 [==============================] - 8s 8ms/step - loss: 3721.0663 - age_loss: 14507.2060 - income_loss: 14.3935 - gender_loss: 7.9871\n",
            "Epoch 10/10\n",
            "1000/1000 [==============================] - 8s 8ms/step - loss: 6087.8961 - age_loss: 23974.5251 - income_loss: 14.3935 - gender_loss: 7.9871\n"
          ],
          "name": "stdout"
        },
        {
          "output_type": "execute_result",
          "data": {
            "text/plain": [
              "<keras.callbacks.History at 0x124f7f2e8>"
            ]
          },
          "metadata": {
            "tags": []
          },
          "execution_count": 22
        }
      ]
    },
    {
      "cell_type": "markdown",
      "metadata": {
        "collapsed": true,
        "id": "lA7f-au_ita8"
      },
      "source": [
        "### 7.1.4 Directed acyclic graphs of layers \n",
        "\n",
        "With the functional API, not only can you build models with multiple inputs and multiple outputs, but you can also implement networks with a complex internal topology. \n",
        "\n",
        "Neural networks in Keras are allowed to be arbitrary directed acyclic graphs of layers (the only processing loops that are allowed are those internal to recurrent layers).\n",
        "\n",
        "Several common neural-network components are implemented as graphs. Two notable ones are <i>Inception modules</i> and <i>residual connections</i>. To better understand how the functional API can be used to build graphs of layers, let’s take a look at how you can implement both of them in Keras."
      ]
    },
    {
      "cell_type": "markdown",
      "metadata": {
        "collapsed": true,
        "id": "2LPd5W6yita9"
      },
      "source": [
        "#### Inception modules \n",
        "\n",
        "Inception [3] is a popular type of network architecture for convolutional neural networks. It consists of a stack of modules that themselves look like small independent networks, split into several parallel branches.\n",
        "\n",
        "##### The purpose of 1 × 1 convolutions \n",
        "\n",
        "1 × 1 convolutions (also called pointwise convolutions) are featured in Inception modules, where they contribute to factoring out channel-wise feature learning and space-wise feature learning.\n",
        " "
      ]
    },
    {
      "cell_type": "code",
      "metadata": {
        "id": "Q24z1e7Xita-",
        "outputId": "a3a36c69-ae75-4a21-ee62-f4d6a83910cf"
      },
      "source": [
        "from keras import layers \n",
        "from keras.layers import Input\n",
        "\n",
        "# This example assumes the existence of a 4D input tensor x:\n",
        "# This returns a typical image tensor like those of MNIST dataset \n",
        "x = Input(shape=(28, 28, 1), dtype='float32', name='images')\n",
        "print(\"x.shape:\",x.shape)\n",
        "\n",
        "# Every branch has the same stride value (2), which is necessary to \n",
        "# keep all branch outputs the same size so you can concatenate them\n",
        "branch_a = layers.Conv2D(128, 1, padding='same', activation='relu', strides=2)(x)\n",
        "\n",
        "# In this branch, the striding occurs in the spatial convolution layer.\n",
        "branch_b = layers.Conv2D(128, 1, padding='same', activation='relu')(x)\n",
        "branch_b = layers.Conv2D(128, 3, padding='same', activation='relu', strides=2)(branch_b)\n",
        "\n",
        "# In this branch, the striding occurs in the average pooling layer.\n",
        "branch_c = layers.AveragePooling2D(3,  padding='same', strides=2)(x)\n",
        "branch_c = layers.Conv2D(128, 3, padding='same', activation='relu')(branch_c)\n",
        "\n",
        "branch_d = layers.Conv2D(128, 1, padding='same', activation='relu')(x) \n",
        "branch_d = layers.Conv2D(128, 3, padding='same', activation='relu')(branch_d)\n",
        "branch_d = layers.Conv2D(128, 3, padding='same', activation='relu', strides=2)(branch_d)\n",
        "\n",
        "# Concatenates the branch outputs to obtain the module output\n",
        "output = layers.concatenate([branch_a, branch_b, branch_c, branch_d], axis=-1)\n",
        "\n",
        "# Adding a classifier on top of the convnet\n",
        "output = layers.Flatten()(output)\n",
        "output = layers.Dense(512, activation='relu')(output)\n",
        "predictions = layers.Dense(10, activation='softmax')(output)\n",
        "\n",
        "model = keras.models.Model(inputs=x, outputs=predictions)"
      ],
      "execution_count": null,
      "outputs": [
        {
          "output_type": "stream",
          "text": [
            "x.shape: (?, 28, 28, 1)\n"
          ],
          "name": "stdout"
        }
      ]
    },
    {
      "cell_type": "markdown",
      "metadata": {
        "id": "HMk_oialitbC"
      },
      "source": [
        "#### Train the Inception model using the Dataset API and the MNIST data\n",
        "\n",
        "Inspired by: https://github.com/keras-team/keras/blob/master/examples/mnist_dataset_api.py"
      ]
    },
    {
      "cell_type": "code",
      "metadata": {
        "id": "LMQ81q5OitbD",
        "outputId": "d60182e5-a70f-4af8-cadb-e4e1afa9bc48"
      },
      "source": [
        "import numpy as np\n",
        "import os\n",
        "import tempfile\n",
        "\n",
        "import keras\n",
        "from keras import backend as K\n",
        "from keras import layers\n",
        "from keras.datasets import mnist\n",
        "\n",
        "import tensorflow as tf\n",
        "\n",
        "if K.backend() != 'tensorflow':\n",
        "    raise RuntimeError('This example can only run with the TensorFlow backend,'\n",
        "                       ' because it requires the Dataset API, which is not'\n",
        "                       ' supported on other platforms.')\n",
        "\n",
        "batch_size = 128\n",
        "buffer_size = 10000\n",
        "steps_per_epoch = int(np.ceil(60000 / float(batch_size)))  # = 469\n",
        "epochs = 5\n",
        "num_classes = 10\n",
        "\n",
        "def cnn_layers(x):\n",
        "    \n",
        "    # This example assumes the existence of a 4D input tensor x:\n",
        "    # This returns a typical image tensor like those of MNIST dataset \n",
        "    print(\"x.shape:\",x.shape)\n",
        "\n",
        "    # Every branch has the same stride value (2), which is necessary to \n",
        "    # keep all branch outputs the same size so you can concatenate them\n",
        "    branch_a = layers.Conv2D(128, 1, padding='same', activation='relu', strides=2)(x)\n",
        "\n",
        "    # In this branch, the striding occurs in the spatial convolution layer.\n",
        "    branch_b = layers.Conv2D(128, 1, padding='same', activation='relu')(x)\n",
        "    branch_b = layers.Conv2D(128, 3, padding='same', activation='relu', strides=2)(branch_b)\n",
        "\n",
        "    # In this branch, the striding occurs in the average pooling layer.\n",
        "    branch_c = layers.AveragePooling2D(3,  padding='same', strides=2)(x)\n",
        "    branch_c = layers.Conv2D(128, 3, padding='same', activation='relu')(branch_c)\n",
        "\n",
        "    branch_d = layers.Conv2D(128, 1, padding='same', activation='relu')(x) \n",
        "    branch_d = layers.Conv2D(128, 3, padding='same', activation='relu')(branch_d)\n",
        "    branch_d = layers.Conv2D(128, 3, padding='same', activation='relu', strides=2)(branch_d)\n",
        "\n",
        "    # Concatenates the branch outputs to obtain the module output\n",
        "    output = layers.concatenate([branch_a, branch_b, branch_c, branch_d], axis=-1)\n",
        "\n",
        "    # Adding a classifier on top of the convnet\n",
        "    output = layers.Flatten()(output)\n",
        "    output = layers.Dense(512, activation='relu')(output)\n",
        "    predictions = layers.Dense(num_classes, activation='softmax')(output)\n",
        "    \n",
        "    return predictions\n",
        "\n",
        "(x_train, y_train), (x_test, y_test) = mnist.load_data()\n",
        "x_train = x_train.astype(np.float32) / 255\n",
        "x_train = np.expand_dims(x_train, -1)\n",
        "y_train = tf.one_hot(y_train, num_classes)\n",
        "\n",
        "# Create the dataset and its associated one-shot iterator.\n",
        "dataset = tf.data.Dataset.from_tensor_slices((x_train, y_train))\n",
        "dataset = dataset.repeat()\n",
        "dataset = dataset.shuffle(buffer_size)\n",
        "dataset = dataset.batch(batch_size)\n",
        "iterator = dataset.make_one_shot_iterator()\n",
        "\n",
        "# Model creation using tensors from the get_next() graph node.\n",
        "inputs, targets = iterator.get_next()\n",
        "\n",
        "print(\"inputs.shape:\",inputs.shape)\n",
        "print(\"targets.shape:\",targets.shape)\n",
        "\n",
        "model_input = layers.Input(tensor=inputs)\n",
        "model_output = cnn_layers(model_input)\n",
        "\n",
        "model = keras.models.Model(inputs=model_input, outputs=model_output)\n",
        "\n",
        "model.compile(optimizer=keras.optimizers.RMSprop(lr=2e-3, decay=1e-5),\n",
        "              loss='categorical_crossentropy',\n",
        "              metrics=['accuracy'],\n",
        "              target_tensors=[targets])"
      ],
      "execution_count": null,
      "outputs": [
        {
          "output_type": "stream",
          "text": [
            "inputs.shape: (?, 28, 28, 1)\n",
            "targets.shape: (?, 10)\n",
            "x.shape: (?, 28, 28, 1)\n"
          ],
          "name": "stdout"
        }
      ]
    },
    {
      "cell_type": "code",
      "metadata": {
        "id": "2u2D1gV9itbG",
        "outputId": "7a968f3e-8cbb-4336-d78a-34c4b00eb644"
      },
      "source": [
        "model.summary()\n",
        "\n",
        "from IPython.display import SVG\n",
        "from keras.utils.vis_utils import model_to_dot\n",
        "\n",
        "SVG(model_to_dot(model,show_shapes=True).create(prog='dot', format='svg'))"
      ],
      "execution_count": null,
      "outputs": [
        {
          "output_type": "stream",
          "text": [
            "__________________________________________________________________________________________________\n",
            "Layer (type)                    Output Shape         Param #     Connected to                     \n",
            "==================================================================================================\n",
            "input_6 (InputLayer)            (None, 28, 28, 1)    0                                            \n",
            "__________________________________________________________________________________________________\n",
            "conv2d_26 (Conv2D)              (None, 28, 28, 128)  256         input_6[0][0]                    \n",
            "__________________________________________________________________________________________________\n",
            "conv2d_23 (Conv2D)              (None, 28, 28, 128)  256         input_6[0][0]                    \n",
            "__________________________________________________________________________________________________\n",
            "average_pooling2d_4 (AveragePoo (None, 14, 14, 1)    0           input_6[0][0]                    \n",
            "__________________________________________________________________________________________________\n",
            "conv2d_27 (Conv2D)              (None, 28, 28, 128)  147584      conv2d_26[0][0]                  \n",
            "__________________________________________________________________________________________________\n",
            "conv2d_22 (Conv2D)              (None, 14, 14, 128)  256         input_6[0][0]                    \n",
            "__________________________________________________________________________________________________\n",
            "conv2d_24 (Conv2D)              (None, 14, 14, 128)  147584      conv2d_23[0][0]                  \n",
            "__________________________________________________________________________________________________\n",
            "conv2d_25 (Conv2D)              (None, 14, 14, 128)  1280        average_pooling2d_4[0][0]        \n",
            "__________________________________________________________________________________________________\n",
            "conv2d_28 (Conv2D)              (None, 14, 14, 128)  147584      conv2d_27[0][0]                  \n",
            "__________________________________________________________________________________________________\n",
            "concatenate_6 (Concatenate)     (None, 14, 14, 512)  0           conv2d_22[0][0]                  \n",
            "                                                                 conv2d_24[0][0]                  \n",
            "                                                                 conv2d_25[0][0]                  \n",
            "                                                                 conv2d_28[0][0]                  \n",
            "__________________________________________________________________________________________________\n",
            "flatten_4 (Flatten)             (None, 100352)       0           concatenate_6[0][0]              \n",
            "__________________________________________________________________________________________________\n",
            "dense_17 (Dense)                (None, 512)          51380736    flatten_4[0][0]                  \n",
            "__________________________________________________________________________________________________\n",
            "dense_18 (Dense)                (None, 10)           5130        dense_17[0][0]                   \n",
            "==================================================================================================\n",
            "Total params: 51,830,666\n",
            "Trainable params: 51,830,666\n",
            "Non-trainable params: 0\n",
            "__________________________________________________________________________________________________\n"
          ],
          "name": "stdout"
        },
        {
          "output_type": "execute_result",
          "data": {
            "image/svg+xml": "<svg height=\"620pt\" viewBox=\"0.00 0.00 1161.37 620.00\" width=\"1161pt\" xmlns=\"http://www.w3.org/2000/svg\" xmlns:xlink=\"http://www.w3.org/1999/xlink\">\n<g class=\"graph\" id=\"graph0\" transform=\"scale(1 1) rotate(0) translate(4 616)\">\n<title>G</title>\n<polygon fill=\"#ffffff\" points=\"-4,4 -4,-616 1157.3691,-616 1157.3691,4 -4,4\" stroke=\"transparent\"/>\n<!-- 4902738240 -->\n<g class=\"node\" id=\"node1\">\n<title>4902738240</title>\n<polygon fill=\"none\" points=\"502.3447,-567.5 502.3447,-611.5 798.0244,-611.5 798.0244,-567.5 502.3447,-567.5\" stroke=\"#000000\"/>\n<text fill=\"#000000\" font-family=\"Times,serif\" font-size=\"14.00\" text-anchor=\"middle\" x=\"566.5259\" y=\"-585.3\">input_6: InputLayer</text>\n<polyline fill=\"none\" points=\"630.707,-567.5 630.707,-611.5 \" stroke=\"#000000\"/>\n<text fill=\"#000000\" font-family=\"Times,serif\" font-size=\"14.00\" text-anchor=\"middle\" x=\"658.5415\" y=\"-596.3\">input:</text>\n<polyline fill=\"none\" points=\"630.707,-589.5 686.376,-589.5 \" stroke=\"#000000\"/>\n<text fill=\"#000000\" font-family=\"Times,serif\" font-size=\"14.00\" text-anchor=\"middle\" x=\"658.5415\" y=\"-574.3\">output:</text>\n<polyline fill=\"none\" points=\"686.376,-567.5 686.376,-611.5 \" stroke=\"#000000\"/>\n<text fill=\"#000000\" font-family=\"Times,serif\" font-size=\"14.00\" text-anchor=\"middle\" x=\"742.2002\" y=\"-596.3\">(None, 28, 28, 1)</text>\n<polyline fill=\"none\" points=\"686.376,-589.5 798.0244,-589.5 \" stroke=\"#000000\"/>\n<text fill=\"#000000\" font-family=\"Times,serif\" font-size=\"14.00\" text-anchor=\"middle\" x=\"742.2002\" y=\"-574.3\">(None, 28, 28, 1)</text>\n</g>\n<!-- 5041729208 -->\n<g class=\"node\" id=\"node2\">\n<title>5041729208</title>\n<polygon fill=\"none\" points=\"95,-486.5 95,-530.5 409.3691,-530.5 409.3691,-486.5 95,-486.5\" stroke=\"#000000\"/>\n<text fill=\"#000000\" font-family=\"Times,serif\" font-size=\"14.00\" text-anchor=\"middle\" x=\"161.5259\" y=\"-504.3\">conv2d_26: Conv2D</text>\n<polyline fill=\"none\" points=\"228.0518,-486.5 228.0518,-530.5 \" stroke=\"#000000\"/>\n<text fill=\"#000000\" font-family=\"Times,serif\" font-size=\"14.00\" text-anchor=\"middle\" x=\"255.8862\" y=\"-515.3\">input:</text>\n<polyline fill=\"none\" points=\"228.0518,-508.5 283.7207,-508.5 \" stroke=\"#000000\"/>\n<text fill=\"#000000\" font-family=\"Times,serif\" font-size=\"14.00\" text-anchor=\"middle\" x=\"255.8862\" y=\"-493.3\">output:</text>\n<polyline fill=\"none\" points=\"283.7207,-486.5 283.7207,-530.5 \" stroke=\"#000000\"/>\n<text fill=\"#000000\" font-family=\"Times,serif\" font-size=\"14.00\" text-anchor=\"middle\" x=\"346.5449\" y=\"-515.3\">(None, 28, 28, 1)</text>\n<polyline fill=\"none\" points=\"283.7207,-508.5 409.3691,-508.5 \" stroke=\"#000000\"/>\n<text fill=\"#000000\" font-family=\"Times,serif\" font-size=\"14.00\" text-anchor=\"middle\" x=\"346.5449\" y=\"-493.3\">(None, 28, 28, 128)</text>\n</g>\n<!-- 4902738240&#45;&gt;5041729208 -->\n<g class=\"edge\" id=\"edge1\">\n<title>4902738240-&gt;5041729208</title>\n<path d=\"M541.955,-567.4734C488.8637,-556.6684 424.8021,-543.6307 370.4279,-532.5646\" fill=\"none\" stroke=\"#000000\"/>\n<polygon fill=\"#000000\" points=\"370.8897,-529.0869 360.3926,-530.5222 369.4936,-535.9463 370.8897,-529.0869\" stroke=\"#000000\"/>\n</g>\n<!-- 4910963064 -->\n<g class=\"node\" id=\"node3\">\n<title>4910963064</title>\n<polygon fill=\"none\" points=\"332,-405.5 332,-449.5 646.3691,-449.5 646.3691,-405.5 332,-405.5\" stroke=\"#000000\"/>\n<text fill=\"#000000\" font-family=\"Times,serif\" font-size=\"14.00\" text-anchor=\"middle\" x=\"398.5259\" y=\"-423.3\">conv2d_23: Conv2D</text>\n<polyline fill=\"none\" points=\"465.0518,-405.5 465.0518,-449.5 \" stroke=\"#000000\"/>\n<text fill=\"#000000\" font-family=\"Times,serif\" font-size=\"14.00\" text-anchor=\"middle\" x=\"492.8862\" y=\"-434.3\">input:</text>\n<polyline fill=\"none\" points=\"465.0518,-427.5 520.7207,-427.5 \" stroke=\"#000000\"/>\n<text fill=\"#000000\" font-family=\"Times,serif\" font-size=\"14.00\" text-anchor=\"middle\" x=\"492.8862\" y=\"-412.3\">output:</text>\n<polyline fill=\"none\" points=\"520.7207,-405.5 520.7207,-449.5 \" stroke=\"#000000\"/>\n<text fill=\"#000000\" font-family=\"Times,serif\" font-size=\"14.00\" text-anchor=\"middle\" x=\"583.5449\" y=\"-434.3\">(None, 28, 28, 1)</text>\n<polyline fill=\"none\" points=\"520.7207,-427.5 646.3691,-427.5 \" stroke=\"#000000\"/>\n<text fill=\"#000000\" font-family=\"Times,serif\" font-size=\"14.00\" text-anchor=\"middle\" x=\"583.5449\" y=\"-412.3\">(None, 28, 28, 128)</text>\n</g>\n<!-- 4902738240&#45;&gt;4910963064 -->\n<g class=\"edge\" id=\"edge2\">\n<title>4902738240-&gt;4910963064</title>\n<path d=\"M592.7803,-567.4058C574.3182,-558.2347 554.8644,-546.1412 540.1846,-531 520.5957,-510.7955 507.1479,-481.5976 499.0002,-459.3613\" fill=\"none\" stroke=\"#000000\"/>\n<polygon fill=\"#000000\" points=\"502.2255,-457.9807 495.6266,-449.6918 495.6162,-460.2867 502.2255,-457.9807\" stroke=\"#000000\"/>\n</g>\n<!-- 4911590816 -->\n<g class=\"node\" id=\"node4\">\n<title>4911590816</title>\n<polygon fill=\"none\" points=\"549.0366,-486.5 549.0366,-530.5 967.3325,-530.5 967.3325,-486.5 549.0366,-486.5\" stroke=\"#000000\"/>\n<text fill=\"#000000\" font-family=\"Times,serif\" font-size=\"14.00\" text-anchor=\"middle\" x=\"674.5259\" y=\"-504.3\">average_pooling2d_4: AveragePooling2D</text>\n<polyline fill=\"none\" points=\"800.0151,-486.5 800.0151,-530.5 \" stroke=\"#000000\"/>\n<text fill=\"#000000\" font-family=\"Times,serif\" font-size=\"14.00\" text-anchor=\"middle\" x=\"827.8496\" y=\"-515.3\">input:</text>\n<polyline fill=\"none\" points=\"800.0151,-508.5 855.6841,-508.5 \" stroke=\"#000000\"/>\n<text fill=\"#000000\" font-family=\"Times,serif\" font-size=\"14.00\" text-anchor=\"middle\" x=\"827.8496\" y=\"-493.3\">output:</text>\n<polyline fill=\"none\" points=\"855.6841,-486.5 855.6841,-530.5 \" stroke=\"#000000\"/>\n<text fill=\"#000000\" font-family=\"Times,serif\" font-size=\"14.00\" text-anchor=\"middle\" x=\"911.5083\" y=\"-515.3\">(None, 28, 28, 1)</text>\n<polyline fill=\"none\" points=\"855.6841,-508.5 967.3325,-508.5 \" stroke=\"#000000\"/>\n<text fill=\"#000000\" font-family=\"Times,serif\" font-size=\"14.00\" text-anchor=\"middle\" x=\"911.5083\" y=\"-493.3\">(None, 14, 14, 1)</text>\n</g>\n<!-- 4902738240&#45;&gt;4911590816 -->\n<g class=\"edge\" id=\"edge3\">\n<title>4902738240-&gt;4911590816</title>\n<path d=\"M679.696,-567.3664C692.3158,-557.9016 707.1994,-546.7389 720.5944,-536.6926\" fill=\"none\" stroke=\"#000000\"/>\n<polygon fill=\"#000000\" points=\"722.8088,-539.4069 728.7088,-530.6068 718.6087,-533.8069 722.8088,-539.4069\" stroke=\"#000000\"/>\n</g>\n<!-- 4910962728 -->\n<g class=\"node\" id=\"node6\">\n<title>4910962728</title>\n<polygon fill=\"none\" points=\"839,-324.5 839,-368.5 1153.3691,-368.5 1153.3691,-324.5 839,-324.5\" stroke=\"#000000\"/>\n<text fill=\"#000000\" font-family=\"Times,serif\" font-size=\"14.00\" text-anchor=\"middle\" x=\"905.5259\" y=\"-342.3\">conv2d_22: Conv2D</text>\n<polyline fill=\"none\" points=\"972.0518,-324.5 972.0518,-368.5 \" stroke=\"#000000\"/>\n<text fill=\"#000000\" font-family=\"Times,serif\" font-size=\"14.00\" text-anchor=\"middle\" x=\"999.8862\" y=\"-353.3\">input:</text>\n<polyline fill=\"none\" points=\"972.0518,-346.5 1027.7207,-346.5 \" stroke=\"#000000\"/>\n<text fill=\"#000000\" font-family=\"Times,serif\" font-size=\"14.00\" text-anchor=\"middle\" x=\"999.8862\" y=\"-331.3\">output:</text>\n<polyline fill=\"none\" points=\"1027.7207,-324.5 1027.7207,-368.5 \" stroke=\"#000000\"/>\n<text fill=\"#000000\" font-family=\"Times,serif\" font-size=\"14.00\" text-anchor=\"middle\" x=\"1090.5449\" y=\"-353.3\">(None, 28, 28, 1)</text>\n<polyline fill=\"none\" points=\"1027.7207,-346.5 1153.3691,-346.5 \" stroke=\"#000000\"/>\n<text fill=\"#000000\" font-family=\"Times,serif\" font-size=\"14.00\" text-anchor=\"middle\" x=\"1090.5449\" y=\"-331.3\">(None, 14, 14, 128)</text>\n</g>\n<!-- 4902738240&#45;&gt;4910962728 -->\n<g class=\"edge\" id=\"edge5\">\n<title>4902738240-&gt;4910962728</title>\n<path d=\"M798.0556,-579.7505C872.0703,-571.6773 951.1699,-557.1031 976.1846,-531 1014.9427,-490.5554 1010.28,-419.9452 1003.2984,-378.7994\" fill=\"none\" stroke=\"#000000\"/>\n<polygon fill=\"#000000\" points=\"1006.7034,-377.9639 1001.4495,-368.7635 999.8193,-379.2321 1006.7034,-377.9639\" stroke=\"#000000\"/>\n</g>\n<!-- 5041815392 -->\n<g class=\"node\" id=\"node5\">\n<title>5041815392</title>\n<polygon fill=\"none\" points=\"0,-405.5 0,-449.5 314.3691,-449.5 314.3691,-405.5 0,-405.5\" stroke=\"#000000\"/>\n<text fill=\"#000000\" font-family=\"Times,serif\" font-size=\"14.00\" text-anchor=\"middle\" x=\"66.5259\" y=\"-423.3\">conv2d_27: Conv2D</text>\n<polyline fill=\"none\" points=\"133.0518,-405.5 133.0518,-449.5 \" stroke=\"#000000\"/>\n<text fill=\"#000000\" font-family=\"Times,serif\" font-size=\"14.00\" text-anchor=\"middle\" x=\"160.8862\" y=\"-434.3\">input:</text>\n<polyline fill=\"none\" points=\"133.0518,-427.5 188.7207,-427.5 \" stroke=\"#000000\"/>\n<text fill=\"#000000\" font-family=\"Times,serif\" font-size=\"14.00\" text-anchor=\"middle\" x=\"160.8862\" y=\"-412.3\">output:</text>\n<polyline fill=\"none\" points=\"188.7207,-405.5 188.7207,-449.5 \" stroke=\"#000000\"/>\n<text fill=\"#000000\" font-family=\"Times,serif\" font-size=\"14.00\" text-anchor=\"middle\" x=\"251.5449\" y=\"-434.3\">(None, 28, 28, 128)</text>\n<polyline fill=\"none\" points=\"188.7207,-427.5 314.3691,-427.5 \" stroke=\"#000000\"/>\n<text fill=\"#000000\" font-family=\"Times,serif\" font-size=\"14.00\" text-anchor=\"middle\" x=\"251.5449\" y=\"-412.3\">(None, 28, 28, 128)</text>\n</g>\n<!-- 5041729208&#45;&gt;5041815392 -->\n<g class=\"edge\" id=\"edge4\">\n<title>5041729208-&gt;5041815392</title>\n<path d=\"M226.2254,-486.3664C215.3341,-477.0802 202.526,-466.1595 190.9183,-456.2625\" fill=\"none\" stroke=\"#000000\"/>\n<polygon fill=\"#000000\" points=\"192.9927,-453.4316 183.1124,-449.6068 188.451,-458.7583 192.9927,-453.4316\" stroke=\"#000000\"/>\n</g>\n<!-- 4910964128 -->\n<g class=\"node\" id=\"node7\">\n<title>4910964128</title>\n<polygon fill=\"none\" points=\"442,-324.5 442,-368.5 756.3691,-368.5 756.3691,-324.5 442,-324.5\" stroke=\"#000000\"/>\n<text fill=\"#000000\" font-family=\"Times,serif\" font-size=\"14.00\" text-anchor=\"middle\" x=\"508.5259\" y=\"-342.3\">conv2d_24: Conv2D</text>\n<polyline fill=\"none\" points=\"575.0518,-324.5 575.0518,-368.5 \" stroke=\"#000000\"/>\n<text fill=\"#000000\" font-family=\"Times,serif\" font-size=\"14.00\" text-anchor=\"middle\" x=\"602.8862\" y=\"-353.3\">input:</text>\n<polyline fill=\"none\" points=\"575.0518,-346.5 630.7207,-346.5 \" stroke=\"#000000\"/>\n<text fill=\"#000000\" font-family=\"Times,serif\" font-size=\"14.00\" text-anchor=\"middle\" x=\"602.8862\" y=\"-331.3\">output:</text>\n<polyline fill=\"none\" points=\"630.7207,-324.5 630.7207,-368.5 \" stroke=\"#000000\"/>\n<text fill=\"#000000\" font-family=\"Times,serif\" font-size=\"14.00\" text-anchor=\"middle\" x=\"693.5449\" y=\"-353.3\">(None, 28, 28, 128)</text>\n<polyline fill=\"none\" points=\"630.7207,-346.5 756.3691,-346.5 \" stroke=\"#000000\"/>\n<text fill=\"#000000\" font-family=\"Times,serif\" font-size=\"14.00\" text-anchor=\"middle\" x=\"693.5449\" y=\"-331.3\">(None, 14, 14, 128)</text>\n</g>\n<!-- 4910963064&#45;&gt;4910964128 -->\n<g class=\"edge\" id=\"edge6\">\n<title>4910963064-&gt;4910964128</title>\n<path d=\"M519.2426,-405.3664C532.096,-395.9016 547.2552,-384.7389 560.8983,-374.6926\" fill=\"none\" stroke=\"#000000\"/>\n<polygon fill=\"#000000\" points=\"563.1858,-377.3547 569.1629,-368.6068 559.0352,-371.718 563.1858,-377.3547\" stroke=\"#000000\"/>\n</g>\n<!-- 5041726072 -->\n<g class=\"node\" id=\"node8\">\n<title>5041726072</title>\n<polygon fill=\"none\" points=\"664,-405.5 664,-449.5 978.3691,-449.5 978.3691,-405.5 664,-405.5\" stroke=\"#000000\"/>\n<text fill=\"#000000\" font-family=\"Times,serif\" font-size=\"14.00\" text-anchor=\"middle\" x=\"730.5259\" y=\"-423.3\">conv2d_25: Conv2D</text>\n<polyline fill=\"none\" points=\"797.0518,-405.5 797.0518,-449.5 \" stroke=\"#000000\"/>\n<text fill=\"#000000\" font-family=\"Times,serif\" font-size=\"14.00\" text-anchor=\"middle\" x=\"824.8862\" y=\"-434.3\">input:</text>\n<polyline fill=\"none\" points=\"797.0518,-427.5 852.7207,-427.5 \" stroke=\"#000000\"/>\n<text fill=\"#000000\" font-family=\"Times,serif\" font-size=\"14.00\" text-anchor=\"middle\" x=\"824.8862\" y=\"-412.3\">output:</text>\n<polyline fill=\"none\" points=\"852.7207,-405.5 852.7207,-449.5 \" stroke=\"#000000\"/>\n<text fill=\"#000000\" font-family=\"Times,serif\" font-size=\"14.00\" text-anchor=\"middle\" x=\"915.5449\" y=\"-434.3\">(None, 14, 14, 1)</text>\n<polyline fill=\"none\" points=\"852.7207,-427.5 978.3691,-427.5 \" stroke=\"#000000\"/>\n<text fill=\"#000000\" font-family=\"Times,serif\" font-size=\"14.00\" text-anchor=\"middle\" x=\"915.5449\" y=\"-412.3\">(None, 14, 14, 128)</text>\n</g>\n<!-- 4911590816&#45;&gt;5041726072 -->\n<g class=\"edge\" id=\"edge7\">\n<title>4911590816-&gt;5041726072</title>\n<path d=\"M775.3996,-486.3664C782.275,-477.5266 790.3023,-467.2058 797.6982,-457.6967\" fill=\"none\" stroke=\"#000000\"/>\n<polygon fill=\"#000000\" points=\"800.6137,-459.6492 803.9904,-449.6068 795.0882,-455.3516 800.6137,-459.6492\" stroke=\"#000000\"/>\n</g>\n<!-- 4911169152 -->\n<g class=\"node\" id=\"node9\">\n<title>4911169152</title>\n<polygon fill=\"none\" points=\"73,-324.5 73,-368.5 387.3691,-368.5 387.3691,-324.5 73,-324.5\" stroke=\"#000000\"/>\n<text fill=\"#000000\" font-family=\"Times,serif\" font-size=\"14.00\" text-anchor=\"middle\" x=\"139.5259\" y=\"-342.3\">conv2d_28: Conv2D</text>\n<polyline fill=\"none\" points=\"206.0518,-324.5 206.0518,-368.5 \" stroke=\"#000000\"/>\n<text fill=\"#000000\" font-family=\"Times,serif\" font-size=\"14.00\" text-anchor=\"middle\" x=\"233.8862\" y=\"-353.3\">input:</text>\n<polyline fill=\"none\" points=\"206.0518,-346.5 261.7207,-346.5 \" stroke=\"#000000\"/>\n<text fill=\"#000000\" font-family=\"Times,serif\" font-size=\"14.00\" text-anchor=\"middle\" x=\"233.8862\" y=\"-331.3\">output:</text>\n<polyline fill=\"none\" points=\"261.7207,-324.5 261.7207,-368.5 \" stroke=\"#000000\"/>\n<text fill=\"#000000\" font-family=\"Times,serif\" font-size=\"14.00\" text-anchor=\"middle\" x=\"324.5449\" y=\"-353.3\">(None, 28, 28, 128)</text>\n<polyline fill=\"none\" points=\"261.7207,-346.5 387.3691,-346.5 \" stroke=\"#000000\"/>\n<text fill=\"#000000\" font-family=\"Times,serif\" font-size=\"14.00\" text-anchor=\"middle\" x=\"324.5449\" y=\"-331.3\">(None, 14, 14, 128)</text>\n</g>\n<!-- 5041815392&#45;&gt;4911169152 -->\n<g class=\"edge\" id=\"edge8\">\n<title>5041815392-&gt;4911169152</title>\n<path d=\"M177.1321,-405.3664C185.2598,-396.348 194.7767,-385.7882 203.4887,-376.1214\" fill=\"none\" stroke=\"#000000\"/>\n<polygon fill=\"#000000\" points=\"206.1663,-378.3784 210.2611,-368.6068 200.9664,-373.6921 206.1663,-378.3784\" stroke=\"#000000\"/>\n</g>\n<!-- 4911167976 -->\n<g class=\"node\" id=\"node10\">\n<title>4911167976</title>\n<polygon fill=\"none\" points=\"334.5718,-243.5 334.5718,-287.5 1047.7974,-287.5 1047.7974,-243.5 334.5718,-243.5\" stroke=\"#000000\"/>\n<text fill=\"#000000\" font-family=\"Times,serif\" font-size=\"14.00\" text-anchor=\"middle\" x=\"420.8911\" y=\"-261.3\">concatenate_6: Concatenate</text>\n<polyline fill=\"none\" points=\"507.2104,-243.5 507.2104,-287.5 \" stroke=\"#000000\"/>\n<text fill=\"#000000\" font-family=\"Times,serif\" font-size=\"14.00\" text-anchor=\"middle\" x=\"535.0449\" y=\"-272.3\">input:</text>\n<polyline fill=\"none\" points=\"507.2104,-265.5 562.8794,-265.5 \" stroke=\"#000000\"/>\n<text fill=\"#000000\" font-family=\"Times,serif\" font-size=\"14.00\" text-anchor=\"middle\" x=\"535.0449\" y=\"-250.3\">output:</text>\n<polyline fill=\"none\" points=\"562.8794,-243.5 562.8794,-287.5 \" stroke=\"#000000\"/>\n<text fill=\"#000000\" font-family=\"Times,serif\" font-size=\"14.00\" text-anchor=\"middle\" x=\"805.3384\" y=\"-272.3\">[(None, 14, 14, 128), (None, 14, 14, 128), (None, 14, 14, 128), (None, 14, 14, 128)]</text>\n<polyline fill=\"none\" points=\"562.8794,-265.5 1047.7974,-265.5 \" stroke=\"#000000\"/>\n<text fill=\"#000000\" font-family=\"Times,serif\" font-size=\"14.00\" text-anchor=\"middle\" x=\"805.2036\" y=\"-250.3\">(None, 14, 14, 512)</text>\n</g>\n<!-- 4910962728&#45;&gt;4911167976 -->\n<g class=\"edge\" id=\"edge9\">\n<title>4910962728-&gt;4911167976</title>\n<path d=\"M913.2449,-324.4734C873.2346,-313.8477 825.0942,-301.0629 783.879,-290.1172\" fill=\"none\" stroke=\"#000000\"/>\n<polygon fill=\"#000000\" points=\"784.6711,-286.7063 774.1078,-287.5222 782.8744,-293.4718 784.6711,-286.7063\" stroke=\"#000000\"/>\n</g>\n<!-- 4910964128&#45;&gt;4911167976 -->\n<g class=\"edge\" id=\"edge10\">\n<title>4910964128-&gt;4911167976</title>\n<path d=\"M624.324,-324.3664C634.8713,-315.0802 647.275,-304.1595 658.5161,-294.2625\" fill=\"none\" stroke=\"#000000\"/>\n<polygon fill=\"#000000\" points=\"660.8829,-296.8419 666.0756,-287.6068 656.2572,-291.5881 660.8829,-296.8419\" stroke=\"#000000\"/>\n</g>\n<!-- 5041726072&#45;&gt;4911167976 -->\n<g class=\"edge\" id=\"edge11\">\n<title>5041726072-&gt;4911167976</title>\n<path d=\"M812.3383,-405.3092C802.8329,-383.1982 786.2156,-349.0246 765.1846,-324 755.9429,-313.0035 744.3472,-302.6749 733.0955,-293.8476\" fill=\"none\" stroke=\"#000000\"/>\n<polygon fill=\"#000000\" points=\"735.0814,-290.9608 725.0018,-287.6971 730.8461,-296.5342 735.0814,-290.9608\" stroke=\"#000000\"/>\n</g>\n<!-- 4911169152&#45;&gt;4911167976 -->\n<g class=\"edge\" id=\"edge12\">\n<title>4911169152-&gt;4911167976</title>\n<path d=\"M355.5459,-324.4734C417.5515,-313.5787 492.4756,-300.4142 555.79,-289.2895\" fill=\"none\" stroke=\"#000000\"/>\n<polygon fill=\"#000000\" points=\"556.6048,-292.7 565.8482,-287.5222 555.3933,-285.8057 556.6048,-292.7\" stroke=\"#000000\"/>\n</g>\n<!-- 4911020744 -->\n<g class=\"node\" id=\"node11\">\n<title>4911020744</title>\n<polygon fill=\"none\" points=\"544.8931,-162.5 544.8931,-206.5 837.4761,-206.5 837.4761,-162.5 544.8931,-162.5\" stroke=\"#000000\"/>\n<text fill=\"#000000\" font-family=\"Times,serif\" font-size=\"14.00\" text-anchor=\"middle\" x=\"600.5259\" y=\"-180.3\">flatten_4: Flatten</text>\n<polyline fill=\"none\" points=\"656.1587,-162.5 656.1587,-206.5 \" stroke=\"#000000\"/>\n<text fill=\"#000000\" font-family=\"Times,serif\" font-size=\"14.00\" text-anchor=\"middle\" x=\"683.9932\" y=\"-191.3\">input:</text>\n<polyline fill=\"none\" points=\"656.1587,-184.5 711.8276,-184.5 \" stroke=\"#000000\"/>\n<text fill=\"#000000\" font-family=\"Times,serif\" font-size=\"14.00\" text-anchor=\"middle\" x=\"683.9932\" y=\"-169.3\">output:</text>\n<polyline fill=\"none\" points=\"711.8276,-162.5 711.8276,-206.5 \" stroke=\"#000000\"/>\n<text fill=\"#000000\" font-family=\"Times,serif\" font-size=\"14.00\" text-anchor=\"middle\" x=\"774.6519\" y=\"-191.3\">(None, 14, 14, 512)</text>\n<polyline fill=\"none\" points=\"711.8276,-184.5 837.4761,-184.5 \" stroke=\"#000000\"/>\n<text fill=\"#000000\" font-family=\"Times,serif\" font-size=\"14.00\" text-anchor=\"middle\" x=\"774.6519\" y=\"-169.3\">(None, 100352)</text>\n</g>\n<!-- 4911167976&#45;&gt;4911020744 -->\n<g class=\"edge\" id=\"edge13\">\n<title>4911167976-&gt;4911020744</title>\n<path d=\"M691.1846,-243.3664C691.1846,-235.1516 691.1846,-225.6579 691.1846,-216.7252\" fill=\"none\" stroke=\"#000000\"/>\n<polygon fill=\"#000000\" points=\"694.6847,-216.6068 691.1846,-206.6068 687.6847,-216.6069 694.6847,-216.6068\" stroke=\"#000000\"/>\n</g>\n<!-- 4804455000 -->\n<g class=\"node\" id=\"node12\">\n<title>4804455000</title>\n<polygon fill=\"none\" points=\"555.3999,-81.5 555.3999,-125.5 826.9692,-125.5 826.9692,-81.5 555.3999,-81.5\" stroke=\"#000000\"/>\n<text fill=\"#000000\" font-family=\"Times,serif\" font-size=\"14.00\" text-anchor=\"middle\" x=\"611.0259\" y=\"-99.3\">dense_17: Dense</text>\n<polyline fill=\"none\" points=\"666.6519,-81.5 666.6519,-125.5 \" stroke=\"#000000\"/>\n<text fill=\"#000000\" font-family=\"Times,serif\" font-size=\"14.00\" text-anchor=\"middle\" x=\"694.4863\" y=\"-110.3\">input:</text>\n<polyline fill=\"none\" points=\"666.6519,-103.5 722.3208,-103.5 \" stroke=\"#000000\"/>\n<text fill=\"#000000\" font-family=\"Times,serif\" font-size=\"14.00\" text-anchor=\"middle\" x=\"694.4863\" y=\"-88.3\">output:</text>\n<polyline fill=\"none\" points=\"722.3208,-81.5 722.3208,-125.5 \" stroke=\"#000000\"/>\n<text fill=\"#000000\" font-family=\"Times,serif\" font-size=\"14.00\" text-anchor=\"middle\" x=\"774.645\" y=\"-110.3\">(None, 100352)</text>\n<polyline fill=\"none\" points=\"722.3208,-103.5 826.9692,-103.5 \" stroke=\"#000000\"/>\n<text fill=\"#000000\" font-family=\"Times,serif\" font-size=\"14.00\" text-anchor=\"middle\" x=\"774.645\" y=\"-88.3\">(None, 512)</text>\n</g>\n<!-- 4911020744&#45;&gt;4804455000 -->\n<g class=\"edge\" id=\"edge14\">\n<title>4911020744-&gt;4804455000</title>\n<path d=\"M691.1846,-162.3664C691.1846,-154.1516 691.1846,-144.6579 691.1846,-135.7252\" fill=\"none\" stroke=\"#000000\"/>\n<polygon fill=\"#000000\" points=\"694.6847,-135.6068 691.1846,-125.6068 687.6847,-135.6069 694.6847,-135.6068\" stroke=\"#000000\"/>\n</g>\n<!-- 5055998664 -->\n<g class=\"node\" id=\"node13\">\n<title>5055998664</title>\n<polygon fill=\"none\" points=\"565.8999,-.5 565.8999,-44.5 816.4692,-44.5 816.4692,-.5 565.8999,-.5\" stroke=\"#000000\"/>\n<text fill=\"#000000\" font-family=\"Times,serif\" font-size=\"14.00\" text-anchor=\"middle\" x=\"621.5259\" y=\"-18.3\">dense_18: Dense</text>\n<polyline fill=\"none\" points=\"677.1519,-.5 677.1519,-44.5 \" stroke=\"#000000\"/>\n<text fill=\"#000000\" font-family=\"Times,serif\" font-size=\"14.00\" text-anchor=\"middle\" x=\"704.9863\" y=\"-29.3\">input:</text>\n<polyline fill=\"none\" points=\"677.1519,-22.5 732.8208,-22.5 \" stroke=\"#000000\"/>\n<text fill=\"#000000\" font-family=\"Times,serif\" font-size=\"14.00\" text-anchor=\"middle\" x=\"704.9863\" y=\"-7.3\">output:</text>\n<polyline fill=\"none\" points=\"732.8208,-.5 732.8208,-44.5 \" stroke=\"#000000\"/>\n<text fill=\"#000000\" font-family=\"Times,serif\" font-size=\"14.00\" text-anchor=\"middle\" x=\"774.645\" y=\"-29.3\">(None, 512)</text>\n<polyline fill=\"none\" points=\"732.8208,-22.5 816.4692,-22.5 \" stroke=\"#000000\"/>\n<text fill=\"#000000\" font-family=\"Times,serif\" font-size=\"14.00\" text-anchor=\"middle\" x=\"774.645\" y=\"-7.3\">(None, 10)</text>\n</g>\n<!-- 4804455000&#45;&gt;5055998664 -->\n<g class=\"edge\" id=\"edge15\">\n<title>4804455000-&gt;5055998664</title>\n<path d=\"M691.1846,-81.3664C691.1846,-73.1516 691.1846,-63.6579 691.1846,-54.7252\" fill=\"none\" stroke=\"#000000\"/>\n<polygon fill=\"#000000\" points=\"694.6847,-54.6068 691.1846,-44.6068 687.6847,-54.6069 694.6847,-54.6068\" stroke=\"#000000\"/>\n</g>\n</g>\n</svg>",
            "text/plain": [
              "<IPython.core.display.SVG object>"
            ]
          },
          "metadata": {
            "tags": []
          },
          "execution_count": 33
        }
      ]
    },
    {
      "cell_type": "markdown",
      "metadata": {
        "id": "hBfAXt99itbJ"
      },
      "source": [
        "#### Train Inception model"
      ]
    },
    {
      "cell_type": "code",
      "metadata": {
        "id": "qtQccNo_itbJ",
        "outputId": "23717e2e-3432-4176-93f5-f2f08592533a"
      },
      "source": [
        "model.fit(epochs=epochs,\n",
        "          steps_per_epoch=steps_per_epoch)\n",
        "\n",
        "# Save the model weights.\n",
        "weight_path = os.path.join(tempfile.gettempdir(), 'saved_Inception_wt.h5')\n",
        "model.save_weights(weight_path)"
      ],
      "execution_count": null,
      "outputs": [
        {
          "output_type": "stream",
          "text": [
            "Epoch 1/5\n",
            "469/469 [==============================] - 2079s 4s/step - loss: 0.0478 - acc: 0.9861\n",
            "Epoch 2/5\n",
            "469/469 [==============================] - 1916s 4s/step - loss: 0.0264 - acc: 0.9920\n",
            "Epoch 3/5\n",
            "469/469 [==============================] - 1843s 4s/step - loss: 0.0182 - acc: 0.9946\n",
            "Epoch 4/5\n",
            "469/469 [==============================] - 1825s 4s/step - loss: 0.0122 - acc: 0.9968\n",
            "Epoch 5/5\n",
            "469/469 [==============================] - 1828s 4s/step - loss: 0.0101 - acc: 0.9974\n"
          ],
          "name": "stdout"
        }
      ]
    },
    {
      "cell_type": "markdown",
      "metadata": {
        "id": "a4SQQQv_itbL"
      },
      "source": [
        "#### Test the Inception model\n",
        "\n",
        "Second session to test loading trained model without tensors."
      ]
    },
    {
      "cell_type": "code",
      "metadata": {
        "id": "yiAUlOV1itbM",
        "outputId": "622636ba-c188-4cf0-d187-03f043490f2a"
      },
      "source": [
        "# Clean up the TF session.\n",
        "K.clear_session()\n",
        "\n",
        "# Second session to test loading trained model without tensors.\n",
        "x_test = x_test.astype(np.float32)\n",
        "x_test = np.expand_dims(x_test, -1)\n",
        "\n",
        "x_test_inp = layers.Input(shape=x_test.shape[1:])\n",
        "test_out = cnn_layers(x_test_inp)\n",
        "test_model = keras.models.Model(inputs=x_test_inp, outputs=test_out)\n",
        "\n",
        "weight_path = os.path.join(tempfile.gettempdir(), 'saved_Inception_wt.h5')\n",
        "test_model.load_weights(weight_path)\n",
        "\n",
        "test_model.compile(optimizer='rmsprop',\n",
        "                   loss='sparse_categorical_crossentropy',\n",
        "                   metrics=['accuracy'])\n",
        "test_model.summary()\n",
        "\n",
        "SVG(model_to_dot(test_model).create(prog='dot', format='svg'))\n",
        "\n",
        "loss, acc = test_model.evaluate(x_test, y_test, num_classes)\n",
        "print('\\nTest accuracy: {0}'.format(acc))"
      ],
      "execution_count": null,
      "outputs": [
        {
          "output_type": "stream",
          "text": [
            "x.shape: (?, 28, 28, 1)\n",
            "__________________________________________________________________________________________________\n",
            "Layer (type)                    Output Shape         Param #     Connected to                     \n",
            "==================================================================================================\n",
            "input_1 (InputLayer)            (None, 28, 28, 1)    0                                            \n",
            "__________________________________________________________________________________________________\n",
            "conv2d_5 (Conv2D)               (None, 28, 28, 128)  256         input_1[0][0]                    \n",
            "__________________________________________________________________________________________________\n",
            "conv2d_2 (Conv2D)               (None, 28, 28, 128)  256         input_1[0][0]                    \n",
            "__________________________________________________________________________________________________\n",
            "average_pooling2d_1 (AveragePoo (None, 14, 14, 1)    0           input_1[0][0]                    \n",
            "__________________________________________________________________________________________________\n",
            "conv2d_6 (Conv2D)               (None, 28, 28, 128)  147584      conv2d_5[0][0]                   \n",
            "__________________________________________________________________________________________________\n",
            "conv2d_1 (Conv2D)               (None, 14, 14, 128)  256         input_1[0][0]                    \n",
            "__________________________________________________________________________________________________\n",
            "conv2d_3 (Conv2D)               (None, 14, 14, 128)  147584      conv2d_2[0][0]                   \n",
            "__________________________________________________________________________________________________\n",
            "conv2d_4 (Conv2D)               (None, 14, 14, 128)  1280        average_pooling2d_1[0][0]        \n",
            "__________________________________________________________________________________________________\n",
            "conv2d_7 (Conv2D)               (None, 14, 14, 128)  147584      conv2d_6[0][0]                   \n",
            "__________________________________________________________________________________________________\n",
            "concatenate_1 (Concatenate)     (None, 14, 14, 512)  0           conv2d_1[0][0]                   \n",
            "                                                                 conv2d_3[0][0]                   \n",
            "                                                                 conv2d_4[0][0]                   \n",
            "                                                                 conv2d_7[0][0]                   \n",
            "__________________________________________________________________________________________________\n",
            "flatten_1 (Flatten)             (None, 100352)       0           concatenate_1[0][0]              \n",
            "__________________________________________________________________________________________________\n",
            "dense_1 (Dense)                 (None, 512)          51380736    flatten_1[0][0]                  \n",
            "__________________________________________________________________________________________________\n",
            "dense_2 (Dense)                 (None, 10)           5130        dense_1[0][0]                    \n",
            "==================================================================================================\n",
            "Total params: 51,830,666\n",
            "Trainable params: 51,830,666\n",
            "Non-trainable params: 0\n",
            "__________________________________________________________________________________________________\n",
            "10000/10000 [==============================] - 124s 12ms/step\n",
            "\n",
            "Test accuracy: 0.9828999968171119\n"
          ],
          "name": "stdout"
        }
      ]
    },
    {
      "cell_type": "markdown",
      "metadata": {
        "id": "WmcQ0gDgitbO"
      },
      "source": [
        "#### Residual connections - ResNET\n",
        "\n",
        "Residual connections or ResNET are a common graph-like network component found in many post-2015 network architectures, including Xception. They were introduced by He et al. from Microsoft and are figthing two common problems with large-scale deep-learning model: vanishing gradients and representational bottlenecks. \n",
        "\n",
        "A residual connection consists of making the output of an earlier layer available as input to a later layer, effectively creating a shortcut in a sequential network. Rather than being concatenated to the later activation, the earlier output is summed with the later activation, which assumes that both activations are the same size. If they’re different sizes, you can use a linear transformation to reshape the earlier activation into the target shape (for example, a Dense layer without an activation or, for convolutional feature maps, a 1 × 1 convolution without an activation). \n",
        "\n",
        "###### ResNET implementation when the feature-map sizes are the same\n",
        "\n",
        "Here’s how to implement a residual connection in Keras when the feature-map sizes are the same, using identity residual connections. This example assumes the existence of a 4D input tensor x:"
      ]
    },
    {
      "cell_type": "code",
      "metadata": {
        "id": "MD6XKaomitbP",
        "outputId": "0500c513-4bdc-44aa-e482-7a424d9e57e7"
      },
      "source": [
        "from keras import layers \n",
        "from keras.layers import Input\n",
        "\n",
        "# This example assumes the existence of a 4D input tensor x:\n",
        "# This returns a typical image tensor like those of MNIST dataset \n",
        "x = Input(shape=(28, 28, 1), dtype='float32', name='images')\n",
        "print(\"x.shape:\",x.shape)\n",
        "\n",
        "# Applies a transformation to x\n",
        "y = layers.Conv2D(128, 3, activation='relu', padding='same')(x)\n",
        "y = layers.Conv2D(128, 3, activation='relu', padding='same')(y)\n",
        "y = layers.Conv2D(128, 3, activation='relu', padding='same')(y)\n",
        "\n",
        "# Adds the original x back to the output features\n",
        "output = layers.add([y, x])\n",
        "\n",
        "# Adding a classifier on top of the convnet\n",
        "output = layers.Flatten()(output)\n",
        "output = layers.Dense(512, activation='relu')(output)\n",
        "predictions = layers.Dense(10, activation='softmax')(output)"
      ],
      "execution_count": null,
      "outputs": [
        {
          "output_type": "stream",
          "text": [
            "x.shape: (?, 28, 28, 1)\n"
          ],
          "name": "stdout"
        }
      ]
    },
    {
      "cell_type": "code",
      "metadata": {
        "id": "g4aXbISBitbR",
        "outputId": "8748f081-d680-4cae-9602-80a3b75713a0"
      },
      "source": [
        "model.summary()\n",
        "\n",
        "from IPython.display import SVG\n",
        "from keras.utils.vis_utils import model_to_dot\n",
        "\n",
        "SVG(model_to_dot(model,show_shapes=True).create(prog='dot', format='svg'))"
      ],
      "execution_count": null,
      "outputs": [
        {
          "output_type": "stream",
          "text": [
            "__________________________________________________________________________________________________\n",
            "Layer (type)                    Output Shape         Param #     Connected to                     \n",
            "==================================================================================================\n",
            "input_6 (InputLayer)            (None, 28, 28, 1)    0                                            \n",
            "__________________________________________________________________________________________________\n",
            "conv2d_26 (Conv2D)              (None, 28, 28, 128)  256         input_6[0][0]                    \n",
            "__________________________________________________________________________________________________\n",
            "conv2d_23 (Conv2D)              (None, 28, 28, 128)  256         input_6[0][0]                    \n",
            "__________________________________________________________________________________________________\n",
            "average_pooling2d_4 (AveragePoo (None, 14, 14, 1)    0           input_6[0][0]                    \n",
            "__________________________________________________________________________________________________\n",
            "conv2d_27 (Conv2D)              (None, 28, 28, 128)  147584      conv2d_26[0][0]                  \n",
            "__________________________________________________________________________________________________\n",
            "conv2d_22 (Conv2D)              (None, 14, 14, 128)  256         input_6[0][0]                    \n",
            "__________________________________________________________________________________________________\n",
            "conv2d_24 (Conv2D)              (None, 14, 14, 128)  147584      conv2d_23[0][0]                  \n",
            "__________________________________________________________________________________________________\n",
            "conv2d_25 (Conv2D)              (None, 14, 14, 128)  1280        average_pooling2d_4[0][0]        \n",
            "__________________________________________________________________________________________________\n",
            "conv2d_28 (Conv2D)              (None, 14, 14, 128)  147584      conv2d_27[0][0]                  \n",
            "__________________________________________________________________________________________________\n",
            "concatenate_6 (Concatenate)     (None, 14, 14, 512)  0           conv2d_22[0][0]                  \n",
            "                                                                 conv2d_24[0][0]                  \n",
            "                                                                 conv2d_25[0][0]                  \n",
            "                                                                 conv2d_28[0][0]                  \n",
            "__________________________________________________________________________________________________\n",
            "flatten_4 (Flatten)             (None, 100352)       0           concatenate_6[0][0]              \n",
            "__________________________________________________________________________________________________\n",
            "dense_17 (Dense)                (None, 512)          51380736    flatten_4[0][0]                  \n",
            "__________________________________________________________________________________________________\n",
            "dense_18 (Dense)                (None, 10)           5130        dense_17[0][0]                   \n",
            "==================================================================================================\n",
            "Total params: 51,830,666\n",
            "Trainable params: 51,830,666\n",
            "Non-trainable params: 0\n",
            "__________________________________________________________________________________________________\n"
          ],
          "name": "stdout"
        },
        {
          "output_type": "execute_result",
          "data": {
            "image/svg+xml": "<svg height=\"620pt\" viewBox=\"0.00 0.00 1161.37 620.00\" width=\"1161pt\" xmlns=\"http://www.w3.org/2000/svg\" xmlns:xlink=\"http://www.w3.org/1999/xlink\">\n<g class=\"graph\" id=\"graph0\" transform=\"scale(1 1) rotate(0) translate(4 616)\">\n<title>G</title>\n<polygon fill=\"#ffffff\" points=\"-4,4 -4,-616 1157.3691,-616 1157.3691,4 -4,4\" stroke=\"transparent\"/>\n<!-- 4902738240 -->\n<g class=\"node\" id=\"node1\">\n<title>4902738240</title>\n<polygon fill=\"none\" points=\"502.3447,-567.5 502.3447,-611.5 798.0244,-611.5 798.0244,-567.5 502.3447,-567.5\" stroke=\"#000000\"/>\n<text fill=\"#000000\" font-family=\"Times,serif\" font-size=\"14.00\" text-anchor=\"middle\" x=\"566.5259\" y=\"-585.3\">input_6: InputLayer</text>\n<polyline fill=\"none\" points=\"630.707,-567.5 630.707,-611.5 \" stroke=\"#000000\"/>\n<text fill=\"#000000\" font-family=\"Times,serif\" font-size=\"14.00\" text-anchor=\"middle\" x=\"658.5415\" y=\"-596.3\">input:</text>\n<polyline fill=\"none\" points=\"630.707,-589.5 686.376,-589.5 \" stroke=\"#000000\"/>\n<text fill=\"#000000\" font-family=\"Times,serif\" font-size=\"14.00\" text-anchor=\"middle\" x=\"658.5415\" y=\"-574.3\">output:</text>\n<polyline fill=\"none\" points=\"686.376,-567.5 686.376,-611.5 \" stroke=\"#000000\"/>\n<text fill=\"#000000\" font-family=\"Times,serif\" font-size=\"14.00\" text-anchor=\"middle\" x=\"742.2002\" y=\"-596.3\">(None, 28, 28, 1)</text>\n<polyline fill=\"none\" points=\"686.376,-589.5 798.0244,-589.5 \" stroke=\"#000000\"/>\n<text fill=\"#000000\" font-family=\"Times,serif\" font-size=\"14.00\" text-anchor=\"middle\" x=\"742.2002\" y=\"-574.3\">(None, 28, 28, 1)</text>\n</g>\n<!-- 5041729208 -->\n<g class=\"node\" id=\"node2\">\n<title>5041729208</title>\n<polygon fill=\"none\" points=\"95,-486.5 95,-530.5 409.3691,-530.5 409.3691,-486.5 95,-486.5\" stroke=\"#000000\"/>\n<text fill=\"#000000\" font-family=\"Times,serif\" font-size=\"14.00\" text-anchor=\"middle\" x=\"161.5259\" y=\"-504.3\">conv2d_26: Conv2D</text>\n<polyline fill=\"none\" points=\"228.0518,-486.5 228.0518,-530.5 \" stroke=\"#000000\"/>\n<text fill=\"#000000\" font-family=\"Times,serif\" font-size=\"14.00\" text-anchor=\"middle\" x=\"255.8862\" y=\"-515.3\">input:</text>\n<polyline fill=\"none\" points=\"228.0518,-508.5 283.7207,-508.5 \" stroke=\"#000000\"/>\n<text fill=\"#000000\" font-family=\"Times,serif\" font-size=\"14.00\" text-anchor=\"middle\" x=\"255.8862\" y=\"-493.3\">output:</text>\n<polyline fill=\"none\" points=\"283.7207,-486.5 283.7207,-530.5 \" stroke=\"#000000\"/>\n<text fill=\"#000000\" font-family=\"Times,serif\" font-size=\"14.00\" text-anchor=\"middle\" x=\"346.5449\" y=\"-515.3\">(None, 28, 28, 1)</text>\n<polyline fill=\"none\" points=\"283.7207,-508.5 409.3691,-508.5 \" stroke=\"#000000\"/>\n<text fill=\"#000000\" font-family=\"Times,serif\" font-size=\"14.00\" text-anchor=\"middle\" x=\"346.5449\" y=\"-493.3\">(None, 28, 28, 128)</text>\n</g>\n<!-- 4902738240&#45;&gt;5041729208 -->\n<g class=\"edge\" id=\"edge1\">\n<title>4902738240-&gt;5041729208</title>\n<path d=\"M541.955,-567.4734C488.8637,-556.6684 424.8021,-543.6307 370.4279,-532.5646\" fill=\"none\" stroke=\"#000000\"/>\n<polygon fill=\"#000000\" points=\"370.8897,-529.0869 360.3926,-530.5222 369.4936,-535.9463 370.8897,-529.0869\" stroke=\"#000000\"/>\n</g>\n<!-- 4910963064 -->\n<g class=\"node\" id=\"node3\">\n<title>4910963064</title>\n<polygon fill=\"none\" points=\"332,-405.5 332,-449.5 646.3691,-449.5 646.3691,-405.5 332,-405.5\" stroke=\"#000000\"/>\n<text fill=\"#000000\" font-family=\"Times,serif\" font-size=\"14.00\" text-anchor=\"middle\" x=\"398.5259\" y=\"-423.3\">conv2d_23: Conv2D</text>\n<polyline fill=\"none\" points=\"465.0518,-405.5 465.0518,-449.5 \" stroke=\"#000000\"/>\n<text fill=\"#000000\" font-family=\"Times,serif\" font-size=\"14.00\" text-anchor=\"middle\" x=\"492.8862\" y=\"-434.3\">input:</text>\n<polyline fill=\"none\" points=\"465.0518,-427.5 520.7207,-427.5 \" stroke=\"#000000\"/>\n<text fill=\"#000000\" font-family=\"Times,serif\" font-size=\"14.00\" text-anchor=\"middle\" x=\"492.8862\" y=\"-412.3\">output:</text>\n<polyline fill=\"none\" points=\"520.7207,-405.5 520.7207,-449.5 \" stroke=\"#000000\"/>\n<text fill=\"#000000\" font-family=\"Times,serif\" font-size=\"14.00\" text-anchor=\"middle\" x=\"583.5449\" y=\"-434.3\">(None, 28, 28, 1)</text>\n<polyline fill=\"none\" points=\"520.7207,-427.5 646.3691,-427.5 \" stroke=\"#000000\"/>\n<text fill=\"#000000\" font-family=\"Times,serif\" font-size=\"14.00\" text-anchor=\"middle\" x=\"583.5449\" y=\"-412.3\">(None, 28, 28, 128)</text>\n</g>\n<!-- 4902738240&#45;&gt;4910963064 -->\n<g class=\"edge\" id=\"edge2\">\n<title>4902738240-&gt;4910963064</title>\n<path d=\"M592.7803,-567.4058C574.3182,-558.2347 554.8644,-546.1412 540.1846,-531 520.5957,-510.7955 507.1479,-481.5976 499.0002,-459.3613\" fill=\"none\" stroke=\"#000000\"/>\n<polygon fill=\"#000000\" points=\"502.2255,-457.9807 495.6266,-449.6918 495.6162,-460.2867 502.2255,-457.9807\" stroke=\"#000000\"/>\n</g>\n<!-- 4911590816 -->\n<g class=\"node\" id=\"node4\">\n<title>4911590816</title>\n<polygon fill=\"none\" points=\"549.0366,-486.5 549.0366,-530.5 967.3325,-530.5 967.3325,-486.5 549.0366,-486.5\" stroke=\"#000000\"/>\n<text fill=\"#000000\" font-family=\"Times,serif\" font-size=\"14.00\" text-anchor=\"middle\" x=\"674.5259\" y=\"-504.3\">average_pooling2d_4: AveragePooling2D</text>\n<polyline fill=\"none\" points=\"800.0151,-486.5 800.0151,-530.5 \" stroke=\"#000000\"/>\n<text fill=\"#000000\" font-family=\"Times,serif\" font-size=\"14.00\" text-anchor=\"middle\" x=\"827.8496\" y=\"-515.3\">input:</text>\n<polyline fill=\"none\" points=\"800.0151,-508.5 855.6841,-508.5 \" stroke=\"#000000\"/>\n<text fill=\"#000000\" font-family=\"Times,serif\" font-size=\"14.00\" text-anchor=\"middle\" x=\"827.8496\" y=\"-493.3\">output:</text>\n<polyline fill=\"none\" points=\"855.6841,-486.5 855.6841,-530.5 \" stroke=\"#000000\"/>\n<text fill=\"#000000\" font-family=\"Times,serif\" font-size=\"14.00\" text-anchor=\"middle\" x=\"911.5083\" y=\"-515.3\">(None, 28, 28, 1)</text>\n<polyline fill=\"none\" points=\"855.6841,-508.5 967.3325,-508.5 \" stroke=\"#000000\"/>\n<text fill=\"#000000\" font-family=\"Times,serif\" font-size=\"14.00\" text-anchor=\"middle\" x=\"911.5083\" y=\"-493.3\">(None, 14, 14, 1)</text>\n</g>\n<!-- 4902738240&#45;&gt;4911590816 -->\n<g class=\"edge\" id=\"edge3\">\n<title>4902738240-&gt;4911590816</title>\n<path d=\"M679.696,-567.3664C692.3158,-557.9016 707.1994,-546.7389 720.5944,-536.6926\" fill=\"none\" stroke=\"#000000\"/>\n<polygon fill=\"#000000\" points=\"722.8088,-539.4069 728.7088,-530.6068 718.6087,-533.8069 722.8088,-539.4069\" stroke=\"#000000\"/>\n</g>\n<!-- 4910962728 -->\n<g class=\"node\" id=\"node6\">\n<title>4910962728</title>\n<polygon fill=\"none\" points=\"839,-324.5 839,-368.5 1153.3691,-368.5 1153.3691,-324.5 839,-324.5\" stroke=\"#000000\"/>\n<text fill=\"#000000\" font-family=\"Times,serif\" font-size=\"14.00\" text-anchor=\"middle\" x=\"905.5259\" y=\"-342.3\">conv2d_22: Conv2D</text>\n<polyline fill=\"none\" points=\"972.0518,-324.5 972.0518,-368.5 \" stroke=\"#000000\"/>\n<text fill=\"#000000\" font-family=\"Times,serif\" font-size=\"14.00\" text-anchor=\"middle\" x=\"999.8862\" y=\"-353.3\">input:</text>\n<polyline fill=\"none\" points=\"972.0518,-346.5 1027.7207,-346.5 \" stroke=\"#000000\"/>\n<text fill=\"#000000\" font-family=\"Times,serif\" font-size=\"14.00\" text-anchor=\"middle\" x=\"999.8862\" y=\"-331.3\">output:</text>\n<polyline fill=\"none\" points=\"1027.7207,-324.5 1027.7207,-368.5 \" stroke=\"#000000\"/>\n<text fill=\"#000000\" font-family=\"Times,serif\" font-size=\"14.00\" text-anchor=\"middle\" x=\"1090.5449\" y=\"-353.3\">(None, 28, 28, 1)</text>\n<polyline fill=\"none\" points=\"1027.7207,-346.5 1153.3691,-346.5 \" stroke=\"#000000\"/>\n<text fill=\"#000000\" font-family=\"Times,serif\" font-size=\"14.00\" text-anchor=\"middle\" x=\"1090.5449\" y=\"-331.3\">(None, 14, 14, 128)</text>\n</g>\n<!-- 4902738240&#45;&gt;4910962728 -->\n<g class=\"edge\" id=\"edge5\">\n<title>4902738240-&gt;4910962728</title>\n<path d=\"M798.0556,-579.7505C872.0703,-571.6773 951.1699,-557.1031 976.1846,-531 1014.9427,-490.5554 1010.28,-419.9452 1003.2984,-378.7994\" fill=\"none\" stroke=\"#000000\"/>\n<polygon fill=\"#000000\" points=\"1006.7034,-377.9639 1001.4495,-368.7635 999.8193,-379.2321 1006.7034,-377.9639\" stroke=\"#000000\"/>\n</g>\n<!-- 5041815392 -->\n<g class=\"node\" id=\"node5\">\n<title>5041815392</title>\n<polygon fill=\"none\" points=\"0,-405.5 0,-449.5 314.3691,-449.5 314.3691,-405.5 0,-405.5\" stroke=\"#000000\"/>\n<text fill=\"#000000\" font-family=\"Times,serif\" font-size=\"14.00\" text-anchor=\"middle\" x=\"66.5259\" y=\"-423.3\">conv2d_27: Conv2D</text>\n<polyline fill=\"none\" points=\"133.0518,-405.5 133.0518,-449.5 \" stroke=\"#000000\"/>\n<text fill=\"#000000\" font-family=\"Times,serif\" font-size=\"14.00\" text-anchor=\"middle\" x=\"160.8862\" y=\"-434.3\">input:</text>\n<polyline fill=\"none\" points=\"133.0518,-427.5 188.7207,-427.5 \" stroke=\"#000000\"/>\n<text fill=\"#000000\" font-family=\"Times,serif\" font-size=\"14.00\" text-anchor=\"middle\" x=\"160.8862\" y=\"-412.3\">output:</text>\n<polyline fill=\"none\" points=\"188.7207,-405.5 188.7207,-449.5 \" stroke=\"#000000\"/>\n<text fill=\"#000000\" font-family=\"Times,serif\" font-size=\"14.00\" text-anchor=\"middle\" x=\"251.5449\" y=\"-434.3\">(None, 28, 28, 128)</text>\n<polyline fill=\"none\" points=\"188.7207,-427.5 314.3691,-427.5 \" stroke=\"#000000\"/>\n<text fill=\"#000000\" font-family=\"Times,serif\" font-size=\"14.00\" text-anchor=\"middle\" x=\"251.5449\" y=\"-412.3\">(None, 28, 28, 128)</text>\n</g>\n<!-- 5041729208&#45;&gt;5041815392 -->\n<g class=\"edge\" id=\"edge4\">\n<title>5041729208-&gt;5041815392</title>\n<path d=\"M226.2254,-486.3664C215.3341,-477.0802 202.526,-466.1595 190.9183,-456.2625\" fill=\"none\" stroke=\"#000000\"/>\n<polygon fill=\"#000000\" points=\"192.9927,-453.4316 183.1124,-449.6068 188.451,-458.7583 192.9927,-453.4316\" stroke=\"#000000\"/>\n</g>\n<!-- 4910964128 -->\n<g class=\"node\" id=\"node7\">\n<title>4910964128</title>\n<polygon fill=\"none\" points=\"442,-324.5 442,-368.5 756.3691,-368.5 756.3691,-324.5 442,-324.5\" stroke=\"#000000\"/>\n<text fill=\"#000000\" font-family=\"Times,serif\" font-size=\"14.00\" text-anchor=\"middle\" x=\"508.5259\" y=\"-342.3\">conv2d_24: Conv2D</text>\n<polyline fill=\"none\" points=\"575.0518,-324.5 575.0518,-368.5 \" stroke=\"#000000\"/>\n<text fill=\"#000000\" font-family=\"Times,serif\" font-size=\"14.00\" text-anchor=\"middle\" x=\"602.8862\" y=\"-353.3\">input:</text>\n<polyline fill=\"none\" points=\"575.0518,-346.5 630.7207,-346.5 \" stroke=\"#000000\"/>\n<text fill=\"#000000\" font-family=\"Times,serif\" font-size=\"14.00\" text-anchor=\"middle\" x=\"602.8862\" y=\"-331.3\">output:</text>\n<polyline fill=\"none\" points=\"630.7207,-324.5 630.7207,-368.5 \" stroke=\"#000000\"/>\n<text fill=\"#000000\" font-family=\"Times,serif\" font-size=\"14.00\" text-anchor=\"middle\" x=\"693.5449\" y=\"-353.3\">(None, 28, 28, 128)</text>\n<polyline fill=\"none\" points=\"630.7207,-346.5 756.3691,-346.5 \" stroke=\"#000000\"/>\n<text fill=\"#000000\" font-family=\"Times,serif\" font-size=\"14.00\" text-anchor=\"middle\" x=\"693.5449\" y=\"-331.3\">(None, 14, 14, 128)</text>\n</g>\n<!-- 4910963064&#45;&gt;4910964128 -->\n<g class=\"edge\" id=\"edge6\">\n<title>4910963064-&gt;4910964128</title>\n<path d=\"M519.2426,-405.3664C532.096,-395.9016 547.2552,-384.7389 560.8983,-374.6926\" fill=\"none\" stroke=\"#000000\"/>\n<polygon fill=\"#000000\" points=\"563.1858,-377.3547 569.1629,-368.6068 559.0352,-371.718 563.1858,-377.3547\" stroke=\"#000000\"/>\n</g>\n<!-- 5041726072 -->\n<g class=\"node\" id=\"node8\">\n<title>5041726072</title>\n<polygon fill=\"none\" points=\"664,-405.5 664,-449.5 978.3691,-449.5 978.3691,-405.5 664,-405.5\" stroke=\"#000000\"/>\n<text fill=\"#000000\" font-family=\"Times,serif\" font-size=\"14.00\" text-anchor=\"middle\" x=\"730.5259\" y=\"-423.3\">conv2d_25: Conv2D</text>\n<polyline fill=\"none\" points=\"797.0518,-405.5 797.0518,-449.5 \" stroke=\"#000000\"/>\n<text fill=\"#000000\" font-family=\"Times,serif\" font-size=\"14.00\" text-anchor=\"middle\" x=\"824.8862\" y=\"-434.3\">input:</text>\n<polyline fill=\"none\" points=\"797.0518,-427.5 852.7207,-427.5 \" stroke=\"#000000\"/>\n<text fill=\"#000000\" font-family=\"Times,serif\" font-size=\"14.00\" text-anchor=\"middle\" x=\"824.8862\" y=\"-412.3\">output:</text>\n<polyline fill=\"none\" points=\"852.7207,-405.5 852.7207,-449.5 \" stroke=\"#000000\"/>\n<text fill=\"#000000\" font-family=\"Times,serif\" font-size=\"14.00\" text-anchor=\"middle\" x=\"915.5449\" y=\"-434.3\">(None, 14, 14, 1)</text>\n<polyline fill=\"none\" points=\"852.7207,-427.5 978.3691,-427.5 \" stroke=\"#000000\"/>\n<text fill=\"#000000\" font-family=\"Times,serif\" font-size=\"14.00\" text-anchor=\"middle\" x=\"915.5449\" y=\"-412.3\">(None, 14, 14, 128)</text>\n</g>\n<!-- 4911590816&#45;&gt;5041726072 -->\n<g class=\"edge\" id=\"edge7\">\n<title>4911590816-&gt;5041726072</title>\n<path d=\"M775.3996,-486.3664C782.275,-477.5266 790.3023,-467.2058 797.6982,-457.6967\" fill=\"none\" stroke=\"#000000\"/>\n<polygon fill=\"#000000\" points=\"800.6137,-459.6492 803.9904,-449.6068 795.0882,-455.3516 800.6137,-459.6492\" stroke=\"#000000\"/>\n</g>\n<!-- 4911169152 -->\n<g class=\"node\" id=\"node9\">\n<title>4911169152</title>\n<polygon fill=\"none\" points=\"73,-324.5 73,-368.5 387.3691,-368.5 387.3691,-324.5 73,-324.5\" stroke=\"#000000\"/>\n<text fill=\"#000000\" font-family=\"Times,serif\" font-size=\"14.00\" text-anchor=\"middle\" x=\"139.5259\" y=\"-342.3\">conv2d_28: Conv2D</text>\n<polyline fill=\"none\" points=\"206.0518,-324.5 206.0518,-368.5 \" stroke=\"#000000\"/>\n<text fill=\"#000000\" font-family=\"Times,serif\" font-size=\"14.00\" text-anchor=\"middle\" x=\"233.8862\" y=\"-353.3\">input:</text>\n<polyline fill=\"none\" points=\"206.0518,-346.5 261.7207,-346.5 \" stroke=\"#000000\"/>\n<text fill=\"#000000\" font-family=\"Times,serif\" font-size=\"14.00\" text-anchor=\"middle\" x=\"233.8862\" y=\"-331.3\">output:</text>\n<polyline fill=\"none\" points=\"261.7207,-324.5 261.7207,-368.5 \" stroke=\"#000000\"/>\n<text fill=\"#000000\" font-family=\"Times,serif\" font-size=\"14.00\" text-anchor=\"middle\" x=\"324.5449\" y=\"-353.3\">(None, 28, 28, 128)</text>\n<polyline fill=\"none\" points=\"261.7207,-346.5 387.3691,-346.5 \" stroke=\"#000000\"/>\n<text fill=\"#000000\" font-family=\"Times,serif\" font-size=\"14.00\" text-anchor=\"middle\" x=\"324.5449\" y=\"-331.3\">(None, 14, 14, 128)</text>\n</g>\n<!-- 5041815392&#45;&gt;4911169152 -->\n<g class=\"edge\" id=\"edge8\">\n<title>5041815392-&gt;4911169152</title>\n<path d=\"M177.1321,-405.3664C185.2598,-396.348 194.7767,-385.7882 203.4887,-376.1214\" fill=\"none\" stroke=\"#000000\"/>\n<polygon fill=\"#000000\" points=\"206.1663,-378.3784 210.2611,-368.6068 200.9664,-373.6921 206.1663,-378.3784\" stroke=\"#000000\"/>\n</g>\n<!-- 4911167976 -->\n<g class=\"node\" id=\"node10\">\n<title>4911167976</title>\n<polygon fill=\"none\" points=\"334.5718,-243.5 334.5718,-287.5 1047.7974,-287.5 1047.7974,-243.5 334.5718,-243.5\" stroke=\"#000000\"/>\n<text fill=\"#000000\" font-family=\"Times,serif\" font-size=\"14.00\" text-anchor=\"middle\" x=\"420.8911\" y=\"-261.3\">concatenate_6: Concatenate</text>\n<polyline fill=\"none\" points=\"507.2104,-243.5 507.2104,-287.5 \" stroke=\"#000000\"/>\n<text fill=\"#000000\" font-family=\"Times,serif\" font-size=\"14.00\" text-anchor=\"middle\" x=\"535.0449\" y=\"-272.3\">input:</text>\n<polyline fill=\"none\" points=\"507.2104,-265.5 562.8794,-265.5 \" stroke=\"#000000\"/>\n<text fill=\"#000000\" font-family=\"Times,serif\" font-size=\"14.00\" text-anchor=\"middle\" x=\"535.0449\" y=\"-250.3\">output:</text>\n<polyline fill=\"none\" points=\"562.8794,-243.5 562.8794,-287.5 \" stroke=\"#000000\"/>\n<text fill=\"#000000\" font-family=\"Times,serif\" font-size=\"14.00\" text-anchor=\"middle\" x=\"805.3384\" y=\"-272.3\">[(None, 14, 14, 128), (None, 14, 14, 128), (None, 14, 14, 128), (None, 14, 14, 128)]</text>\n<polyline fill=\"none\" points=\"562.8794,-265.5 1047.7974,-265.5 \" stroke=\"#000000\"/>\n<text fill=\"#000000\" font-family=\"Times,serif\" font-size=\"14.00\" text-anchor=\"middle\" x=\"805.2036\" y=\"-250.3\">(None, 14, 14, 512)</text>\n</g>\n<!-- 4910962728&#45;&gt;4911167976 -->\n<g class=\"edge\" id=\"edge9\">\n<title>4910962728-&gt;4911167976</title>\n<path d=\"M913.2449,-324.4734C873.2346,-313.8477 825.0942,-301.0629 783.879,-290.1172\" fill=\"none\" stroke=\"#000000\"/>\n<polygon fill=\"#000000\" points=\"784.6711,-286.7063 774.1078,-287.5222 782.8744,-293.4718 784.6711,-286.7063\" stroke=\"#000000\"/>\n</g>\n<!-- 4910964128&#45;&gt;4911167976 -->\n<g class=\"edge\" id=\"edge10\">\n<title>4910964128-&gt;4911167976</title>\n<path d=\"M624.324,-324.3664C634.8713,-315.0802 647.275,-304.1595 658.5161,-294.2625\" fill=\"none\" stroke=\"#000000\"/>\n<polygon fill=\"#000000\" points=\"660.8829,-296.8419 666.0756,-287.6068 656.2572,-291.5881 660.8829,-296.8419\" stroke=\"#000000\"/>\n</g>\n<!-- 5041726072&#45;&gt;4911167976 -->\n<g class=\"edge\" id=\"edge11\">\n<title>5041726072-&gt;4911167976</title>\n<path d=\"M812.3383,-405.3092C802.8329,-383.1982 786.2156,-349.0246 765.1846,-324 755.9429,-313.0035 744.3472,-302.6749 733.0955,-293.8476\" fill=\"none\" stroke=\"#000000\"/>\n<polygon fill=\"#000000\" points=\"735.0814,-290.9608 725.0018,-287.6971 730.8461,-296.5342 735.0814,-290.9608\" stroke=\"#000000\"/>\n</g>\n<!-- 4911169152&#45;&gt;4911167976 -->\n<g class=\"edge\" id=\"edge12\">\n<title>4911169152-&gt;4911167976</title>\n<path d=\"M355.5459,-324.4734C417.5515,-313.5787 492.4756,-300.4142 555.79,-289.2895\" fill=\"none\" stroke=\"#000000\"/>\n<polygon fill=\"#000000\" points=\"556.6048,-292.7 565.8482,-287.5222 555.3933,-285.8057 556.6048,-292.7\" stroke=\"#000000\"/>\n</g>\n<!-- 4911020744 -->\n<g class=\"node\" id=\"node11\">\n<title>4911020744</title>\n<polygon fill=\"none\" points=\"544.8931,-162.5 544.8931,-206.5 837.4761,-206.5 837.4761,-162.5 544.8931,-162.5\" stroke=\"#000000\"/>\n<text fill=\"#000000\" font-family=\"Times,serif\" font-size=\"14.00\" text-anchor=\"middle\" x=\"600.5259\" y=\"-180.3\">flatten_4: Flatten</text>\n<polyline fill=\"none\" points=\"656.1587,-162.5 656.1587,-206.5 \" stroke=\"#000000\"/>\n<text fill=\"#000000\" font-family=\"Times,serif\" font-size=\"14.00\" text-anchor=\"middle\" x=\"683.9932\" y=\"-191.3\">input:</text>\n<polyline fill=\"none\" points=\"656.1587,-184.5 711.8276,-184.5 \" stroke=\"#000000\"/>\n<text fill=\"#000000\" font-family=\"Times,serif\" font-size=\"14.00\" text-anchor=\"middle\" x=\"683.9932\" y=\"-169.3\">output:</text>\n<polyline fill=\"none\" points=\"711.8276,-162.5 711.8276,-206.5 \" stroke=\"#000000\"/>\n<text fill=\"#000000\" font-family=\"Times,serif\" font-size=\"14.00\" text-anchor=\"middle\" x=\"774.6519\" y=\"-191.3\">(None, 14, 14, 512)</text>\n<polyline fill=\"none\" points=\"711.8276,-184.5 837.4761,-184.5 \" stroke=\"#000000\"/>\n<text fill=\"#000000\" font-family=\"Times,serif\" font-size=\"14.00\" text-anchor=\"middle\" x=\"774.6519\" y=\"-169.3\">(None, 100352)</text>\n</g>\n<!-- 4911167976&#45;&gt;4911020744 -->\n<g class=\"edge\" id=\"edge13\">\n<title>4911167976-&gt;4911020744</title>\n<path d=\"M691.1846,-243.3664C691.1846,-235.1516 691.1846,-225.6579 691.1846,-216.7252\" fill=\"none\" stroke=\"#000000\"/>\n<polygon fill=\"#000000\" points=\"694.6847,-216.6068 691.1846,-206.6068 687.6847,-216.6069 694.6847,-216.6068\" stroke=\"#000000\"/>\n</g>\n<!-- 4804455000 -->\n<g class=\"node\" id=\"node12\">\n<title>4804455000</title>\n<polygon fill=\"none\" points=\"555.3999,-81.5 555.3999,-125.5 826.9692,-125.5 826.9692,-81.5 555.3999,-81.5\" stroke=\"#000000\"/>\n<text fill=\"#000000\" font-family=\"Times,serif\" font-size=\"14.00\" text-anchor=\"middle\" x=\"611.0259\" y=\"-99.3\">dense_17: Dense</text>\n<polyline fill=\"none\" points=\"666.6519,-81.5 666.6519,-125.5 \" stroke=\"#000000\"/>\n<text fill=\"#000000\" font-family=\"Times,serif\" font-size=\"14.00\" text-anchor=\"middle\" x=\"694.4863\" y=\"-110.3\">input:</text>\n<polyline fill=\"none\" points=\"666.6519,-103.5 722.3208,-103.5 \" stroke=\"#000000\"/>\n<text fill=\"#000000\" font-family=\"Times,serif\" font-size=\"14.00\" text-anchor=\"middle\" x=\"694.4863\" y=\"-88.3\">output:</text>\n<polyline fill=\"none\" points=\"722.3208,-81.5 722.3208,-125.5 \" stroke=\"#000000\"/>\n<text fill=\"#000000\" font-family=\"Times,serif\" font-size=\"14.00\" text-anchor=\"middle\" x=\"774.645\" y=\"-110.3\">(None, 100352)</text>\n<polyline fill=\"none\" points=\"722.3208,-103.5 826.9692,-103.5 \" stroke=\"#000000\"/>\n<text fill=\"#000000\" font-family=\"Times,serif\" font-size=\"14.00\" text-anchor=\"middle\" x=\"774.645\" y=\"-88.3\">(None, 512)</text>\n</g>\n<!-- 4911020744&#45;&gt;4804455000 -->\n<g class=\"edge\" id=\"edge14\">\n<title>4911020744-&gt;4804455000</title>\n<path d=\"M691.1846,-162.3664C691.1846,-154.1516 691.1846,-144.6579 691.1846,-135.7252\" fill=\"none\" stroke=\"#000000\"/>\n<polygon fill=\"#000000\" points=\"694.6847,-135.6068 691.1846,-125.6068 687.6847,-135.6069 694.6847,-135.6068\" stroke=\"#000000\"/>\n</g>\n<!-- 5055998664 -->\n<g class=\"node\" id=\"node13\">\n<title>5055998664</title>\n<polygon fill=\"none\" points=\"565.8999,-.5 565.8999,-44.5 816.4692,-44.5 816.4692,-.5 565.8999,-.5\" stroke=\"#000000\"/>\n<text fill=\"#000000\" font-family=\"Times,serif\" font-size=\"14.00\" text-anchor=\"middle\" x=\"621.5259\" y=\"-18.3\">dense_18: Dense</text>\n<polyline fill=\"none\" points=\"677.1519,-.5 677.1519,-44.5 \" stroke=\"#000000\"/>\n<text fill=\"#000000\" font-family=\"Times,serif\" font-size=\"14.00\" text-anchor=\"middle\" x=\"704.9863\" y=\"-29.3\">input:</text>\n<polyline fill=\"none\" points=\"677.1519,-22.5 732.8208,-22.5 \" stroke=\"#000000\"/>\n<text fill=\"#000000\" font-family=\"Times,serif\" font-size=\"14.00\" text-anchor=\"middle\" x=\"704.9863\" y=\"-7.3\">output:</text>\n<polyline fill=\"none\" points=\"732.8208,-.5 732.8208,-44.5 \" stroke=\"#000000\"/>\n<text fill=\"#000000\" font-family=\"Times,serif\" font-size=\"14.00\" text-anchor=\"middle\" x=\"774.645\" y=\"-29.3\">(None, 512)</text>\n<polyline fill=\"none\" points=\"732.8208,-22.5 816.4692,-22.5 \" stroke=\"#000000\"/>\n<text fill=\"#000000\" font-family=\"Times,serif\" font-size=\"14.00\" text-anchor=\"middle\" x=\"774.645\" y=\"-7.3\">(None, 10)</text>\n</g>\n<!-- 4804455000&#45;&gt;5055998664 -->\n<g class=\"edge\" id=\"edge15\">\n<title>4804455000-&gt;5055998664</title>\n<path d=\"M691.1846,-81.3664C691.1846,-73.1516 691.1846,-63.6579 691.1846,-54.7252\" fill=\"none\" stroke=\"#000000\"/>\n<polygon fill=\"#000000\" points=\"694.6847,-54.6068 691.1846,-44.6068 687.6847,-54.6069 694.6847,-54.6068\" stroke=\"#000000\"/>\n</g>\n</g>\n</svg>",
            "text/plain": [
              "<IPython.core.display.SVG object>"
            ]
          },
          "metadata": {
            "tags": []
          },
          "execution_count": 38
        }
      ]
    },
    {
      "cell_type": "markdown",
      "metadata": {
        "id": "eoq7CbMHitbU"
      },
      "source": [
        "###### ResNET implementation when the feature-map sizes differ\n",
        "\n",
        "And the following implements a residual connection when the feature-map sizes differ, using a linear residual connection (again, assuming the existence of a 4D input tensor x):"
      ]
    },
    {
      "cell_type": "code",
      "metadata": {
        "id": "GVAc6i9fitbV",
        "outputId": "d489833e-d167-4bed-f955-048fd327e35d"
      },
      "source": [
        "from keras import layers \n",
        "from keras.layers import Input\n",
        "\n",
        "# This example assumes the existence of a 4D input tensor x:\n",
        "# This returns a typical image tensor like those of MNIST dataset \n",
        "x = Input(shape=(28, 28, 1), dtype='float32', name='images')\n",
        "print(\"x.shape:\",x.shape)\n",
        "\n",
        "# Applies a transformation to x\n",
        "y = layers.Conv2D(128, 3, activation='relu', padding='same')(x)\n",
        "y = layers.Conv2D(128, 3, activation='relu', padding='same')(y)\n",
        "y = layers.MaxPooling2D(2, strides=2)(y)\n",
        "\n",
        "# Uses a 1 × 1 convolution to linearly downsample the original x tensor to the same shape as y\n",
        "residual = layers.Conv2D(128, 1, strides=2, padding='same')(x)\n",
        "\n",
        "# Adds the residual tensor back to the output features\n",
        "output = layers.add([y, residual])\n",
        "\n",
        "# Adding a classifier on top of the convnet\n",
        "output = layers.Flatten()(output)\n",
        "output = layers.Dense(512, activation='relu')(output)\n",
        "predictions = layers.Dense(10, activation='softmax')(output)\n",
        "model = keras.models.Model(inputs=x, outputs=predictions)"
      ],
      "execution_count": null,
      "outputs": [
        {
          "output_type": "stream",
          "text": [
            "x.shape: (?, 28, 28, 1)\n"
          ],
          "name": "stdout"
        }
      ]
    },
    {
      "cell_type": "code",
      "metadata": {
        "id": "uFN1qKF-itbY",
        "outputId": "54e12ab7-1c83-41ea-bed6-118ada617350"
      },
      "source": [
        "model.summary()\n",
        "\n",
        "from IPython.display import SVG\n",
        "from keras.utils.vis_utils import model_to_dot\n",
        "\n",
        "SVG(model_to_dot(model,show_shapes=True).create(prog='dot', format='svg'))"
      ],
      "execution_count": null,
      "outputs": [
        {
          "output_type": "stream",
          "text": [
            "__________________________________________________________________________________________________\n",
            "Layer (type)                    Output Shape         Param #     Connected to                     \n",
            "==================================================================================================\n",
            "images (InputLayer)             (None, 28, 28, 1)    0                                            \n",
            "__________________________________________________________________________________________________\n",
            "conv2d_11 (Conv2D)              (None, 28, 28, 128)  1280        images[0][0]                     \n",
            "__________________________________________________________________________________________________\n",
            "conv2d_12 (Conv2D)              (None, 28, 28, 128)  147584      conv2d_11[0][0]                  \n",
            "__________________________________________________________________________________________________\n",
            "max_pooling2d_1 (MaxPooling2D)  (None, 14, 14, 128)  0           conv2d_12[0][0]                  \n",
            "__________________________________________________________________________________________________\n",
            "conv2d_13 (Conv2D)              (None, 14, 14, 128)  256         images[0][0]                     \n",
            "__________________________________________________________________________________________________\n",
            "add_2 (Add)                     (None, 14, 14, 128)  0           max_pooling2d_1[0][0]            \n",
            "                                                                 conv2d_13[0][0]                  \n",
            "__________________________________________________________________________________________________\n",
            "flatten_3 (Flatten)             (None, 25088)        0           add_2[0][0]                      \n",
            "__________________________________________________________________________________________________\n",
            "dense_5 (Dense)                 (None, 512)          12845568    flatten_3[0][0]                  \n",
            "__________________________________________________________________________________________________\n",
            "dense_6 (Dense)                 (None, 10)           5130        dense_5[0][0]                    \n",
            "==================================================================================================\n",
            "Total params: 12,999,818\n",
            "Trainable params: 12,999,818\n",
            "Non-trainable params: 0\n",
            "__________________________________________________________________________________________________\n"
          ],
          "name": "stdout"
        },
        {
          "output_type": "execute_result",
          "data": {
            "image/svg+xml": "<svg height=\"620pt\" viewBox=\"0.00 0.00 654.37 620.00\" width=\"654pt\" xmlns=\"http://www.w3.org/2000/svg\" xmlns:xlink=\"http://www.w3.org/1999/xlink\">\n<g class=\"graph\" id=\"graph0\" transform=\"scale(1 1) rotate(0) translate(4 616)\">\n<title>G</title>\n<polygon fill=\"#ffffff\" points=\"-4,4 -4,-616 650.3691,-616 650.3691,4 -4,4\" stroke=\"transparent\"/>\n<!-- 5070625368 -->\n<g class=\"node\" id=\"node1\">\n<title>5070625368</title>\n<polygon fill=\"none\" points=\"175.9067,-567.5 175.9067,-611.5 468.4624,-611.5 468.4624,-567.5 175.9067,-567.5\" stroke=\"#000000\"/>\n<text fill=\"#000000\" font-family=\"Times,serif\" font-size=\"14.00\" text-anchor=\"middle\" x=\"238.5259\" y=\"-585.3\">images: InputLayer</text>\n<polyline fill=\"none\" points=\"301.145,-567.5 301.145,-611.5 \" stroke=\"#000000\"/>\n<text fill=\"#000000\" font-family=\"Times,serif\" font-size=\"14.00\" text-anchor=\"middle\" x=\"328.9795\" y=\"-596.3\">input:</text>\n<polyline fill=\"none\" points=\"301.145,-589.5 356.814,-589.5 \" stroke=\"#000000\"/>\n<text fill=\"#000000\" font-family=\"Times,serif\" font-size=\"14.00\" text-anchor=\"middle\" x=\"328.9795\" y=\"-574.3\">output:</text>\n<polyline fill=\"none\" points=\"356.814,-567.5 356.814,-611.5 \" stroke=\"#000000\"/>\n<text fill=\"#000000\" font-family=\"Times,serif\" font-size=\"14.00\" text-anchor=\"middle\" x=\"412.6382\" y=\"-596.3\">(None, 28, 28, 1)</text>\n<polyline fill=\"none\" points=\"356.814,-589.5 468.4624,-589.5 \" stroke=\"#000000\"/>\n<text fill=\"#000000\" font-family=\"Times,serif\" font-size=\"14.00\" text-anchor=\"middle\" x=\"412.6382\" y=\"-574.3\">(None, 28, 28, 1)</text>\n</g>\n<!-- 5058439544 -->\n<g class=\"node\" id=\"node2\">\n<title>5058439544</title>\n<polygon fill=\"none\" points=\"73.2563,-486.5 73.2563,-530.5 387.1128,-530.5 387.1128,-486.5 73.2563,-486.5\" stroke=\"#000000\"/>\n<text fill=\"#000000\" font-family=\"Times,serif\" font-size=\"14.00\" text-anchor=\"middle\" x=\"139.5259\" y=\"-504.3\">conv2d_11: Conv2D</text>\n<polyline fill=\"none\" points=\"205.7954,-486.5 205.7954,-530.5 \" stroke=\"#000000\"/>\n<text fill=\"#000000\" font-family=\"Times,serif\" font-size=\"14.00\" text-anchor=\"middle\" x=\"233.6299\" y=\"-515.3\">input:</text>\n<polyline fill=\"none\" points=\"205.7954,-508.5 261.4644,-508.5 \" stroke=\"#000000\"/>\n<text fill=\"#000000\" font-family=\"Times,serif\" font-size=\"14.00\" text-anchor=\"middle\" x=\"233.6299\" y=\"-493.3\">output:</text>\n<polyline fill=\"none\" points=\"261.4644,-486.5 261.4644,-530.5 \" stroke=\"#000000\"/>\n<text fill=\"#000000\" font-family=\"Times,serif\" font-size=\"14.00\" text-anchor=\"middle\" x=\"324.2886\" y=\"-515.3\">(None, 28, 28, 1)</text>\n<polyline fill=\"none\" points=\"261.4644,-508.5 387.1128,-508.5 \" stroke=\"#000000\"/>\n<text fill=\"#000000\" font-family=\"Times,serif\" font-size=\"14.00\" text-anchor=\"middle\" x=\"324.2886\" y=\"-493.3\">(None, 28, 28, 128)</text>\n</g>\n<!-- 5070625368&#45;&gt;5058439544 -->\n<g class=\"edge\" id=\"edge1\">\n<title>5070625368-&gt;5058439544</title>\n<path d=\"M297.0452,-567.3664C286.4978,-558.0802 274.0941,-547.1595 262.853,-537.2625\" fill=\"none\" stroke=\"#000000\"/>\n<polygon fill=\"#000000\" points=\"265.112,-534.5881 255.2936,-530.6068 260.4863,-539.8419 265.112,-534.5881\" stroke=\"#000000\"/>\n</g>\n<!-- 5048752672 -->\n<g class=\"node\" id=\"node5\">\n<title>5048752672</title>\n<polygon fill=\"none\" points=\"332,-405.5 332,-449.5 646.3691,-449.5 646.3691,-405.5 332,-405.5\" stroke=\"#000000\"/>\n<text fill=\"#000000\" font-family=\"Times,serif\" font-size=\"14.00\" text-anchor=\"middle\" x=\"398.5259\" y=\"-423.3\">conv2d_13: Conv2D</text>\n<polyline fill=\"none\" points=\"465.0518,-405.5 465.0518,-449.5 \" stroke=\"#000000\"/>\n<text fill=\"#000000\" font-family=\"Times,serif\" font-size=\"14.00\" text-anchor=\"middle\" x=\"492.8862\" y=\"-434.3\">input:</text>\n<polyline fill=\"none\" points=\"465.0518,-427.5 520.7207,-427.5 \" stroke=\"#000000\"/>\n<text fill=\"#000000\" font-family=\"Times,serif\" font-size=\"14.00\" text-anchor=\"middle\" x=\"492.8862\" y=\"-412.3\">output:</text>\n<polyline fill=\"none\" points=\"520.7207,-405.5 520.7207,-449.5 \" stroke=\"#000000\"/>\n<text fill=\"#000000\" font-family=\"Times,serif\" font-size=\"14.00\" text-anchor=\"middle\" x=\"583.5449\" y=\"-434.3\">(None, 28, 28, 1)</text>\n<polyline fill=\"none\" points=\"520.7207,-427.5 646.3691,-427.5 \" stroke=\"#000000\"/>\n<text fill=\"#000000\" font-family=\"Times,serif\" font-size=\"14.00\" text-anchor=\"middle\" x=\"583.5449\" y=\"-412.3\">(None, 14, 14, 128)</text>\n</g>\n<!-- 5070625368&#45;&gt;5048752672 -->\n<g class=\"edge\" id=\"edge4\">\n<title>5070625368-&gt;5048752672</title>\n<path d=\"M352.6672,-567.2654C366.4104,-556.777 382.5735,-543.7786 396.1846,-531 420.8588,-507.8348 446.3801,-479.026 464.4312,-457.6889\" fill=\"none\" stroke=\"#000000\"/>\n<polygon fill=\"#000000\" points=\"467.2173,-459.8138 470.9664,-449.9044 461.856,-455.3129 467.2173,-459.8138\" stroke=\"#000000\"/>\n</g>\n<!-- 5070625984 -->\n<g class=\"node\" id=\"node3\">\n<title>5070625984</title>\n<polygon fill=\"none\" points=\"0,-405.5 0,-449.5 314.3691,-449.5 314.3691,-405.5 0,-405.5\" stroke=\"#000000\"/>\n<text fill=\"#000000\" font-family=\"Times,serif\" font-size=\"14.00\" text-anchor=\"middle\" x=\"66.5259\" y=\"-423.3\">conv2d_12: Conv2D</text>\n<polyline fill=\"none\" points=\"133.0518,-405.5 133.0518,-449.5 \" stroke=\"#000000\"/>\n<text fill=\"#000000\" font-family=\"Times,serif\" font-size=\"14.00\" text-anchor=\"middle\" x=\"160.8862\" y=\"-434.3\">input:</text>\n<polyline fill=\"none\" points=\"133.0518,-427.5 188.7207,-427.5 \" stroke=\"#000000\"/>\n<text fill=\"#000000\" font-family=\"Times,serif\" font-size=\"14.00\" text-anchor=\"middle\" x=\"160.8862\" y=\"-412.3\">output:</text>\n<polyline fill=\"none\" points=\"188.7207,-405.5 188.7207,-449.5 \" stroke=\"#000000\"/>\n<text fill=\"#000000\" font-family=\"Times,serif\" font-size=\"14.00\" text-anchor=\"middle\" x=\"251.5449\" y=\"-434.3\">(None, 28, 28, 128)</text>\n<polyline fill=\"none\" points=\"188.7207,-427.5 314.3691,-427.5 \" stroke=\"#000000\"/>\n<text fill=\"#000000\" font-family=\"Times,serif\" font-size=\"14.00\" text-anchor=\"middle\" x=\"251.5449\" y=\"-412.3\">(None, 28, 28, 128)</text>\n</g>\n<!-- 5058439544&#45;&gt;5070625984 -->\n<g class=\"edge\" id=\"edge2\">\n<title>5058439544-&gt;5070625984</title>\n<path d=\"M210.237,-486.3664C202.1093,-477.348 192.5925,-466.7882 183.8804,-457.1214\" fill=\"none\" stroke=\"#000000\"/>\n<polygon fill=\"#000000\" points=\"186.4027,-454.6921 177.108,-449.6068 181.2028,-459.3784 186.4027,-454.6921\" stroke=\"#000000\"/>\n</g>\n<!-- 5070625424 -->\n<g class=\"node\" id=\"node4\">\n<title>5070625424</title>\n<polygon fill=\"none\" points=\"14.7207,-324.5 14.7207,-368.5 407.6484,-368.5 407.6484,-324.5 14.7207,-324.5\" stroke=\"#000000\"/>\n<text fill=\"#000000\" font-family=\"Times,serif\" font-size=\"14.00\" text-anchor=\"middle\" x=\"120.5259\" y=\"-342.3\">max_pooling2d_1: MaxPooling2D</text>\n<polyline fill=\"none\" points=\"226.3311,-324.5 226.3311,-368.5 \" stroke=\"#000000\"/>\n<text fill=\"#000000\" font-family=\"Times,serif\" font-size=\"14.00\" text-anchor=\"middle\" x=\"254.1655\" y=\"-353.3\">input:</text>\n<polyline fill=\"none\" points=\"226.3311,-346.5 282,-346.5 \" stroke=\"#000000\"/>\n<text fill=\"#000000\" font-family=\"Times,serif\" font-size=\"14.00\" text-anchor=\"middle\" x=\"254.1655\" y=\"-331.3\">output:</text>\n<polyline fill=\"none\" points=\"282,-324.5 282,-368.5 \" stroke=\"#000000\"/>\n<text fill=\"#000000\" font-family=\"Times,serif\" font-size=\"14.00\" text-anchor=\"middle\" x=\"344.8242\" y=\"-353.3\">(None, 28, 28, 128)</text>\n<polyline fill=\"none\" points=\"282,-346.5 407.6484,-346.5 \" stroke=\"#000000\"/>\n<text fill=\"#000000\" font-family=\"Times,serif\" font-size=\"14.00\" text-anchor=\"middle\" x=\"344.8242\" y=\"-331.3\">(None, 14, 14, 128)</text>\n</g>\n<!-- 5070625984&#45;&gt;5070625424 -->\n<g class=\"edge\" id=\"edge3\">\n<title>5070625984-&gt;5070625424</title>\n<path d=\"M171.9403,-405.3664C177.774,-396.6159 184.5751,-386.4142 190.8612,-376.9851\" fill=\"none\" stroke=\"#000000\"/>\n<polygon fill=\"#000000\" points=\"193.8118,-378.8688 196.4467,-368.6068 187.9874,-374.9859 193.8118,-378.8688\" stroke=\"#000000\"/>\n</g>\n<!-- 5048713624 -->\n<g class=\"node\" id=\"node6\">\n<title>5048713624</title>\n<polygon fill=\"none\" points=\"129.0654,-243.5 129.0654,-287.5 517.3037,-287.5 517.3037,-243.5 129.0654,-243.5\" stroke=\"#000000\"/>\n<text fill=\"#000000\" font-family=\"Times,serif\" font-size=\"14.00\" text-anchor=\"middle\" x=\"169.5396\" y=\"-261.3\">add_2: Add</text>\n<polyline fill=\"none\" points=\"210.0137,-243.5 210.0137,-287.5 \" stroke=\"#000000\"/>\n<text fill=\"#000000\" font-family=\"Times,serif\" font-size=\"14.00\" text-anchor=\"middle\" x=\"237.8481\" y=\"-272.3\">input:</text>\n<polyline fill=\"none\" points=\"210.0137,-265.5 265.6826,-265.5 \" stroke=\"#000000\"/>\n<text fill=\"#000000\" font-family=\"Times,serif\" font-size=\"14.00\" text-anchor=\"middle\" x=\"237.8481\" y=\"-250.3\">output:</text>\n<polyline fill=\"none\" points=\"265.6826,-243.5 265.6826,-287.5 \" stroke=\"#000000\"/>\n<text fill=\"#000000\" font-family=\"Times,serif\" font-size=\"14.00\" text-anchor=\"middle\" x=\"391.4932\" y=\"-272.3\">[(None, 14, 14, 128), (None, 14, 14, 128)]</text>\n<polyline fill=\"none\" points=\"265.6826,-265.5 517.3037,-265.5 \" stroke=\"#000000\"/>\n<text fill=\"#000000\" font-family=\"Times,serif\" font-size=\"14.00\" text-anchor=\"middle\" x=\"391.0068\" y=\"-250.3\">(None, 14, 14, 128)</text>\n</g>\n<!-- 5070625424&#45;&gt;5048713624 -->\n<g class=\"edge\" id=\"edge5\">\n<title>5070625424-&gt;5048713624</title>\n<path d=\"M241.7891,-324.3664C254.8762,-314.9016 270.311,-303.7389 284.2022,-293.6926\" fill=\"none\" stroke=\"#000000\"/>\n<polygon fill=\"#000000\" points=\"286.5652,-296.3031 292.6171,-287.6068 282.463,-290.631 286.5652,-296.3031\" stroke=\"#000000\"/>\n</g>\n<!-- 5048752672&#45;&gt;5048713624 -->\n<g class=\"edge\" id=\"edge6\">\n<title>5048752672-&gt;5048713624</title>\n<path d=\"M477.0982,-405.3846C464.1206,-383.0188 441.8692,-348.3633 416.1846,-324 403.9219,-312.3682 389.0063,-301.78 374.7433,-292.9065\" fill=\"none\" stroke=\"#000000\"/>\n<polygon fill=\"#000000\" points=\"376.3454,-289.7852 365.9765,-287.609 372.7251,-295.7764 376.3454,-289.7852\" stroke=\"#000000\"/>\n</g>\n<!-- 5048705320 -->\n<g class=\"node\" id=\"node7\">\n<title>5048705320</title>\n<polygon fill=\"none\" points=\"176.8931,-162.5 176.8931,-206.5 469.4761,-206.5 469.4761,-162.5 176.8931,-162.5\" stroke=\"#000000\"/>\n<text fill=\"#000000\" font-family=\"Times,serif\" font-size=\"14.00\" text-anchor=\"middle\" x=\"232.5259\" y=\"-180.3\">flatten_3: Flatten</text>\n<polyline fill=\"none\" points=\"288.1587,-162.5 288.1587,-206.5 \" stroke=\"#000000\"/>\n<text fill=\"#000000\" font-family=\"Times,serif\" font-size=\"14.00\" text-anchor=\"middle\" x=\"315.9932\" y=\"-191.3\">input:</text>\n<polyline fill=\"none\" points=\"288.1587,-184.5 343.8276,-184.5 \" stroke=\"#000000\"/>\n<text fill=\"#000000\" font-family=\"Times,serif\" font-size=\"14.00\" text-anchor=\"middle\" x=\"315.9932\" y=\"-169.3\">output:</text>\n<polyline fill=\"none\" points=\"343.8276,-162.5 343.8276,-206.5 \" stroke=\"#000000\"/>\n<text fill=\"#000000\" font-family=\"Times,serif\" font-size=\"14.00\" text-anchor=\"middle\" x=\"406.6519\" y=\"-191.3\">(None, 14, 14, 128)</text>\n<polyline fill=\"none\" points=\"343.8276,-184.5 469.4761,-184.5 \" stroke=\"#000000\"/>\n<text fill=\"#000000\" font-family=\"Times,serif\" font-size=\"14.00\" text-anchor=\"middle\" x=\"406.6519\" y=\"-169.3\">(None, 25088)</text>\n</g>\n<!-- 5048713624&#45;&gt;5048705320 -->\n<g class=\"edge\" id=\"edge7\">\n<title>5048713624-&gt;5048705320</title>\n<path d=\"M323.1846,-243.3664C323.1846,-235.1516 323.1846,-225.6579 323.1846,-216.7252\" fill=\"none\" stroke=\"#000000\"/>\n<polygon fill=\"#000000\" points=\"326.6847,-216.6068 323.1846,-206.6068 319.6847,-216.6069 326.6847,-216.6068\" stroke=\"#000000\"/>\n</g>\n<!-- 5048707112 -->\n<g class=\"node\" id=\"node8\">\n<title>5048707112</title>\n<polygon fill=\"none\" points=\"194.3999,-81.5 194.3999,-125.5 451.9692,-125.5 451.9692,-81.5 194.3999,-81.5\" stroke=\"#000000\"/>\n<text fill=\"#000000\" font-family=\"Times,serif\" font-size=\"14.00\" text-anchor=\"middle\" x=\"246.5259\" y=\"-99.3\">dense_5: Dense</text>\n<polyline fill=\"none\" points=\"298.6519,-81.5 298.6519,-125.5 \" stroke=\"#000000\"/>\n<text fill=\"#000000\" font-family=\"Times,serif\" font-size=\"14.00\" text-anchor=\"middle\" x=\"326.4863\" y=\"-110.3\">input:</text>\n<polyline fill=\"none\" points=\"298.6519,-103.5 354.3208,-103.5 \" stroke=\"#000000\"/>\n<text fill=\"#000000\" font-family=\"Times,serif\" font-size=\"14.00\" text-anchor=\"middle\" x=\"326.4863\" y=\"-88.3\">output:</text>\n<polyline fill=\"none\" points=\"354.3208,-81.5 354.3208,-125.5 \" stroke=\"#000000\"/>\n<text fill=\"#000000\" font-family=\"Times,serif\" font-size=\"14.00\" text-anchor=\"middle\" x=\"403.145\" y=\"-110.3\">(None, 25088)</text>\n<polyline fill=\"none\" points=\"354.3208,-103.5 451.9692,-103.5 \" stroke=\"#000000\"/>\n<text fill=\"#000000\" font-family=\"Times,serif\" font-size=\"14.00\" text-anchor=\"middle\" x=\"403.145\" y=\"-88.3\">(None, 512)</text>\n</g>\n<!-- 5048705320&#45;&gt;5048707112 -->\n<g class=\"edge\" id=\"edge8\">\n<title>5048705320-&gt;5048707112</title>\n<path d=\"M323.1846,-162.3664C323.1846,-154.1516 323.1846,-144.6579 323.1846,-135.7252\" fill=\"none\" stroke=\"#000000\"/>\n<polygon fill=\"#000000\" points=\"326.6847,-135.6068 323.1846,-125.6068 319.6847,-135.6069 326.6847,-135.6068\" stroke=\"#000000\"/>\n</g>\n<!-- 5048700264 -->\n<g class=\"node\" id=\"node9\">\n<title>5048700264</title>\n<polygon fill=\"none\" points=\"201.3999,-.5 201.3999,-44.5 444.9692,-44.5 444.9692,-.5 201.3999,-.5\" stroke=\"#000000\"/>\n<text fill=\"#000000\" font-family=\"Times,serif\" font-size=\"14.00\" text-anchor=\"middle\" x=\"253.5259\" y=\"-18.3\">dense_6: Dense</text>\n<polyline fill=\"none\" points=\"305.6519,-.5 305.6519,-44.5 \" stroke=\"#000000\"/>\n<text fill=\"#000000\" font-family=\"Times,serif\" font-size=\"14.00\" text-anchor=\"middle\" x=\"333.4863\" y=\"-29.3\">input:</text>\n<polyline fill=\"none\" points=\"305.6519,-22.5 361.3208,-22.5 \" stroke=\"#000000\"/>\n<text fill=\"#000000\" font-family=\"Times,serif\" font-size=\"14.00\" text-anchor=\"middle\" x=\"333.4863\" y=\"-7.3\">output:</text>\n<polyline fill=\"none\" points=\"361.3208,-.5 361.3208,-44.5 \" stroke=\"#000000\"/>\n<text fill=\"#000000\" font-family=\"Times,serif\" font-size=\"14.00\" text-anchor=\"middle\" x=\"403.145\" y=\"-29.3\">(None, 512)</text>\n<polyline fill=\"none\" points=\"361.3208,-22.5 444.9692,-22.5 \" stroke=\"#000000\"/>\n<text fill=\"#000000\" font-family=\"Times,serif\" font-size=\"14.00\" text-anchor=\"middle\" x=\"403.145\" y=\"-7.3\">(None, 10)</text>\n</g>\n<!-- 5048707112&#45;&gt;5048700264 -->\n<g class=\"edge\" id=\"edge9\">\n<title>5048707112-&gt;5048700264</title>\n<path d=\"M323.1846,-81.3664C323.1846,-73.1516 323.1846,-63.6579 323.1846,-54.7252\" fill=\"none\" stroke=\"#000000\"/>\n<polygon fill=\"#000000\" points=\"326.6847,-54.6068 323.1846,-44.6068 319.6847,-54.6069 326.6847,-54.6068\" stroke=\"#000000\"/>\n</g>\n</g>\n</svg>",
            "text/plain": [
              "<IPython.core.display.SVG object>"
            ]
          },
          "metadata": {
            "tags": []
          },
          "execution_count": 40
        }
      ]
    },
    {
      "cell_type": "markdown",
      "metadata": {
        "id": "_cQmcivOitba"
      },
      "source": [
        "#### Train the ResNET model using the Dataset API and the MNIST data\n",
        "(when the feature-map sizes are the same)"
      ]
    },
    {
      "cell_type": "code",
      "metadata": {
        "id": "C4ZM4nReitba",
        "outputId": "a05526e4-74ef-49e0-d22c-6349e22cda0b"
      },
      "source": [
        "import numpy as np\n",
        "import os\n",
        "import tempfile\n",
        "\n",
        "import keras\n",
        "from keras import backend as K\n",
        "from keras import layers\n",
        "from keras.datasets import mnist\n",
        "\n",
        "import tensorflow as tf\n",
        "\n",
        "if K.backend() != 'tensorflow':\n",
        "    raise RuntimeError('This example can only run with the TensorFlow backend,'\n",
        "                       ' because it requires the Dataset API, which is not'\n",
        "                       ' supported on other platforms.')\n",
        "\n",
        "batch_size = 128\n",
        "buffer_size = 10000\n",
        "steps_per_epoch = int(np.ceil(60000 / float(batch_size)))  # = 469\n",
        "epochs = 5\n",
        "num_classes = 10\n",
        "\n",
        "def cnn_layers(x):\n",
        "    # This example assumes the existence of a 4D input tensor x:\n",
        "    # This returns a typical image tensor like those of MNIST dataset \n",
        "    print(\"x.shape:\",x.shape)\n",
        "    # Applies a transformation to x\n",
        "    y = layers.Conv2D(128, 3, activation='relu', padding='same')(x)\n",
        "    y = layers.Conv2D(128, 3, activation='relu', padding='same')(y)\n",
        "    y = layers.Conv2D(128, 3, activation='relu', padding='same')(y)\n",
        "    # Adds the original x back to the output features\n",
        "    output = layers.add([y, x])\n",
        "\n",
        "    # Adding a classifier on top of the convnet\n",
        "    output = layers.Flatten()(output)\n",
        "    output = layers.Dense(512, activation='relu')(output)\n",
        "    predictions = layers.Dense(10, activation='softmax')(output)\n",
        "    return predictions\n",
        "\n",
        "(x_train, y_train), (x_test, y_test) = mnist.load_data()\n",
        "x_train = x_train.astype(np.float32) / 255\n",
        "x_train = np.expand_dims(x_train, -1)\n",
        "y_train = tf.one_hot(y_train, num_classes)\n",
        "\n",
        "# Create the dataset and its associated one-shot iterator.\n",
        "dataset = tf.data.Dataset.from_tensor_slices((x_train, y_train))\n",
        "dataset = dataset.repeat()\n",
        "dataset = dataset.shuffle(buffer_size)\n",
        "dataset = dataset.batch(batch_size)\n",
        "iterator = dataset.make_one_shot_iterator()\n",
        "\n",
        "# Model creation using tensors from the get_next() graph node.\n",
        "inputs, targets = iterator.get_next()\n",
        "\n",
        "print(\"inputs.shape:\",inputs.shape)\n",
        "print(\"targets.shape:\",targets.shape)\n",
        "\n",
        "model_input = layers.Input(tensor=inputs)\n",
        "model_output = cnn_layers(model_input)\n",
        "\n",
        "model = keras.models.Model(inputs=model_input, outputs=model_output)\n",
        "\n",
        "model.compile(optimizer=keras.optimizers.RMSprop(lr=2e-3, decay=1e-5),\n",
        "              loss='categorical_crossentropy',\n",
        "              metrics=['accuracy'],\n",
        "              target_tensors=[targets])"
      ],
      "execution_count": null,
      "outputs": [
        {
          "output_type": "stream",
          "text": [
            "inputs.shape: (?, 28, 28, 1)\n",
            "targets.shape: (?, 10)\n",
            "x.shape: (?, 28, 28, 1)\n"
          ],
          "name": "stdout"
        }
      ]
    },
    {
      "cell_type": "code",
      "metadata": {
        "id": "pil9epLaitbd",
        "outputId": "42b96b98-7788-410a-b624-c6b67a67f2f2"
      },
      "source": [
        "model.summary()\n",
        "\n",
        "from IPython.display import SVG\n",
        "from keras.utils.vis_utils import model_to_dot\n",
        "\n",
        "SVG(model_to_dot(model,show_shapes=True).create(prog='dot', format='svg'))"
      ],
      "execution_count": null,
      "outputs": [
        {
          "output_type": "stream",
          "text": [
            "__________________________________________________________________________________________________\n",
            "Layer (type)                    Output Shape         Param #     Connected to                     \n",
            "==================================================================================================\n",
            "input_2 (InputLayer)            (None, 28, 28, 1)    0                                            \n",
            "__________________________________________________________________________________________________\n",
            "conv2d_14 (Conv2D)              (None, 28, 28, 128)  1280        input_2[0][0]                    \n",
            "__________________________________________________________________________________________________\n",
            "conv2d_15 (Conv2D)              (None, 28, 28, 128)  147584      conv2d_14[0][0]                  \n",
            "__________________________________________________________________________________________________\n",
            "conv2d_16 (Conv2D)              (None, 28, 28, 128)  147584      conv2d_15[0][0]                  \n",
            "__________________________________________________________________________________________________\n",
            "add_3 (Add)                     (None, 28, 28, 128)  0           conv2d_16[0][0]                  \n",
            "                                                                 input_2[0][0]                    \n",
            "__________________________________________________________________________________________________\n",
            "flatten_4 (Flatten)             (None, 100352)       0           add_3[0][0]                      \n",
            "__________________________________________________________________________________________________\n",
            "dense_7 (Dense)                 (None, 512)          51380736    flatten_4[0][0]                  \n",
            "__________________________________________________________________________________________________\n",
            "dense_8 (Dense)                 (None, 10)           5130        dense_7[0][0]                    \n",
            "==================================================================================================\n",
            "Total params: 51,682,314\n",
            "Trainable params: 51,682,314\n",
            "Non-trainable params: 0\n",
            "__________________________________________________________________________________________________\n"
          ],
          "name": "stdout"
        },
        {
          "output_type": "execute_result",
          "data": {
            "image/svg+xml": "<svg height=\"620pt\" viewBox=\"0.00 0.00 444.30 620.00\" width=\"444pt\" xmlns=\"http://www.w3.org/2000/svg\" xmlns:xlink=\"http://www.w3.org/1999/xlink\">\n<g class=\"graph\" id=\"graph0\" transform=\"scale(1 1) rotate(0) translate(4 616)\">\n<title>G</title>\n<polygon fill=\"#ffffff\" points=\"-4,4 -4,-616 440.3037,-616 440.3037,4 -4,4\" stroke=\"transparent\"/>\n<!-- 4911167416 -->\n<g class=\"node\" id=\"node1\">\n<title>4911167416</title>\n<polygon fill=\"none\" points=\"101.3447,-567.5 101.3447,-611.5 397.0244,-611.5 397.0244,-567.5 101.3447,-567.5\" stroke=\"#000000\"/>\n<text fill=\"#000000\" font-family=\"Times,serif\" font-size=\"14.00\" text-anchor=\"middle\" x=\"165.5259\" y=\"-585.3\">input_2: InputLayer</text>\n<polyline fill=\"none\" points=\"229.707,-567.5 229.707,-611.5 \" stroke=\"#000000\"/>\n<text fill=\"#000000\" font-family=\"Times,serif\" font-size=\"14.00\" text-anchor=\"middle\" x=\"257.5415\" y=\"-596.3\">input:</text>\n<polyline fill=\"none\" points=\"229.707,-589.5 285.376,-589.5 \" stroke=\"#000000\"/>\n<text fill=\"#000000\" font-family=\"Times,serif\" font-size=\"14.00\" text-anchor=\"middle\" x=\"257.5415\" y=\"-574.3\">output:</text>\n<polyline fill=\"none\" points=\"285.376,-567.5 285.376,-611.5 \" stroke=\"#000000\"/>\n<text fill=\"#000000\" font-family=\"Times,serif\" font-size=\"14.00\" text-anchor=\"middle\" x=\"341.2002\" y=\"-596.3\">(None, 28, 28, 1)</text>\n<polyline fill=\"none\" points=\"285.376,-589.5 397.0244,-589.5 \" stroke=\"#000000\"/>\n<text fill=\"#000000\" font-family=\"Times,serif\" font-size=\"14.00\" text-anchor=\"middle\" x=\"341.2002\" y=\"-574.3\">(None, 28, 28, 1)</text>\n</g>\n<!-- 5345916632 -->\n<g class=\"node\" id=\"node2\">\n<title>5345916632</title>\n<polygon fill=\"none\" points=\"0,-486.5 0,-530.5 314.3691,-530.5 314.3691,-486.5 0,-486.5\" stroke=\"#000000\"/>\n<text fill=\"#000000\" font-family=\"Times,serif\" font-size=\"14.00\" text-anchor=\"middle\" x=\"66.5259\" y=\"-504.3\">conv2d_14: Conv2D</text>\n<polyline fill=\"none\" points=\"133.0518,-486.5 133.0518,-530.5 \" stroke=\"#000000\"/>\n<text fill=\"#000000\" font-family=\"Times,serif\" font-size=\"14.00\" text-anchor=\"middle\" x=\"160.8862\" y=\"-515.3\">input:</text>\n<polyline fill=\"none\" points=\"133.0518,-508.5 188.7207,-508.5 \" stroke=\"#000000\"/>\n<text fill=\"#000000\" font-family=\"Times,serif\" font-size=\"14.00\" text-anchor=\"middle\" x=\"160.8862\" y=\"-493.3\">output:</text>\n<polyline fill=\"none\" points=\"188.7207,-486.5 188.7207,-530.5 \" stroke=\"#000000\"/>\n<text fill=\"#000000\" font-family=\"Times,serif\" font-size=\"14.00\" text-anchor=\"middle\" x=\"251.5449\" y=\"-515.3\">(None, 28, 28, 1)</text>\n<polyline fill=\"none\" points=\"188.7207,-508.5 314.3691,-508.5 \" stroke=\"#000000\"/>\n<text fill=\"#000000\" font-family=\"Times,serif\" font-size=\"14.00\" text-anchor=\"middle\" x=\"251.5449\" y=\"-493.3\">(None, 28, 28, 128)</text>\n</g>\n<!-- 4911167416&#45;&gt;5345916632 -->\n<g class=\"edge\" id=\"edge1\">\n<title>4911167416-&gt;5345916632</title>\n<path d=\"M224.0452,-567.3664C213.4978,-558.0802 201.0941,-547.1595 189.853,-537.2625\" fill=\"none\" stroke=\"#000000\"/>\n<polygon fill=\"#000000\" points=\"192.112,-534.5881 182.2936,-530.6068 187.4863,-539.8419 192.112,-534.5881\" stroke=\"#000000\"/>\n</g>\n<!-- 5361872176 -->\n<g class=\"node\" id=\"node5\">\n<title>5361872176</title>\n<polygon fill=\"none\" points=\"62.0654,-243.5 62.0654,-287.5 436.3037,-287.5 436.3037,-243.5 62.0654,-243.5\" stroke=\"#000000\"/>\n<text fill=\"#000000\" font-family=\"Times,serif\" font-size=\"14.00\" text-anchor=\"middle\" x=\"102.5396\" y=\"-261.3\">add_3: Add</text>\n<polyline fill=\"none\" points=\"143.0137,-243.5 143.0137,-287.5 \" stroke=\"#000000\"/>\n<text fill=\"#000000\" font-family=\"Times,serif\" font-size=\"14.00\" text-anchor=\"middle\" x=\"170.8481\" y=\"-272.3\">input:</text>\n<polyline fill=\"none\" points=\"143.0137,-265.5 198.6826,-265.5 \" stroke=\"#000000\"/>\n<text fill=\"#000000\" font-family=\"Times,serif\" font-size=\"14.00\" text-anchor=\"middle\" x=\"170.8481\" y=\"-250.3\">output:</text>\n<polyline fill=\"none\" points=\"198.6826,-243.5 198.6826,-287.5 \" stroke=\"#000000\"/>\n<text fill=\"#000000\" font-family=\"Times,serif\" font-size=\"14.00\" text-anchor=\"middle\" x=\"317.4932\" y=\"-272.3\">[(None, 28, 28, 128), (None, 28, 28, 1)]</text>\n<polyline fill=\"none\" points=\"198.6826,-265.5 436.3037,-265.5 \" stroke=\"#000000\"/>\n<text fill=\"#000000\" font-family=\"Times,serif\" font-size=\"14.00\" text-anchor=\"middle\" x=\"317.0068\" y=\"-250.3\">(None, 28, 28, 128)</text>\n</g>\n<!-- 4911167416&#45;&gt;5361872176 -->\n<g class=\"edge\" id=\"edge5\">\n<title>4911167416-&gt;5361872176</title>\n<path d=\"M290.1808,-567.2259C303.1949,-557.8906 316.0476,-545.7399 323.1846,-531 363.278,-448.1959 363.278,-406.8041 323.1846,-324 317.553,-312.3693 308.3628,-302.3507 298.3426,-294.0553\" fill=\"none\" stroke=\"#000000\"/>\n<polygon fill=\"#000000\" points=\"300.2404,-291.0993 290.1808,-287.7741 295.9711,-296.6468 300.2404,-291.0993\" stroke=\"#000000\"/>\n</g>\n<!-- 5345916968 -->\n<g class=\"node\" id=\"node3\">\n<title>5345916968</title>\n<polygon fill=\"none\" points=\"0,-405.5 0,-449.5 314.3691,-449.5 314.3691,-405.5 0,-405.5\" stroke=\"#000000\"/>\n<text fill=\"#000000\" font-family=\"Times,serif\" font-size=\"14.00\" text-anchor=\"middle\" x=\"66.5259\" y=\"-423.3\">conv2d_15: Conv2D</text>\n<polyline fill=\"none\" points=\"133.0518,-405.5 133.0518,-449.5 \" stroke=\"#000000\"/>\n<text fill=\"#000000\" font-family=\"Times,serif\" font-size=\"14.00\" text-anchor=\"middle\" x=\"160.8862\" y=\"-434.3\">input:</text>\n<polyline fill=\"none\" points=\"133.0518,-427.5 188.7207,-427.5 \" stroke=\"#000000\"/>\n<text fill=\"#000000\" font-family=\"Times,serif\" font-size=\"14.00\" text-anchor=\"middle\" x=\"160.8862\" y=\"-412.3\">output:</text>\n<polyline fill=\"none\" points=\"188.7207,-405.5 188.7207,-449.5 \" stroke=\"#000000\"/>\n<text fill=\"#000000\" font-family=\"Times,serif\" font-size=\"14.00\" text-anchor=\"middle\" x=\"251.5449\" y=\"-434.3\">(None, 28, 28, 128)</text>\n<polyline fill=\"none\" points=\"188.7207,-427.5 314.3691,-427.5 \" stroke=\"#000000\"/>\n<text fill=\"#000000\" font-family=\"Times,serif\" font-size=\"14.00\" text-anchor=\"middle\" x=\"251.5449\" y=\"-412.3\">(None, 28, 28, 128)</text>\n</g>\n<!-- 5345916632&#45;&gt;5345916968 -->\n<g class=\"edge\" id=\"edge2\">\n<title>5345916632-&gt;5345916968</title>\n<path d=\"M157.1846,-486.3664C157.1846,-478.1516 157.1846,-468.6579 157.1846,-459.7252\" fill=\"none\" stroke=\"#000000\"/>\n<polygon fill=\"#000000\" points=\"160.6847,-459.6068 157.1846,-449.6068 153.6847,-459.6069 160.6847,-459.6068\" stroke=\"#000000\"/>\n</g>\n<!-- 5345918704 -->\n<g class=\"node\" id=\"node4\">\n<title>5345918704</title>\n<polygon fill=\"none\" points=\"0,-324.5 0,-368.5 314.3691,-368.5 314.3691,-324.5 0,-324.5\" stroke=\"#000000\"/>\n<text fill=\"#000000\" font-family=\"Times,serif\" font-size=\"14.00\" text-anchor=\"middle\" x=\"66.5259\" y=\"-342.3\">conv2d_16: Conv2D</text>\n<polyline fill=\"none\" points=\"133.0518,-324.5 133.0518,-368.5 \" stroke=\"#000000\"/>\n<text fill=\"#000000\" font-family=\"Times,serif\" font-size=\"14.00\" text-anchor=\"middle\" x=\"160.8862\" y=\"-353.3\">input:</text>\n<polyline fill=\"none\" points=\"133.0518,-346.5 188.7207,-346.5 \" stroke=\"#000000\"/>\n<text fill=\"#000000\" font-family=\"Times,serif\" font-size=\"14.00\" text-anchor=\"middle\" x=\"160.8862\" y=\"-331.3\">output:</text>\n<polyline fill=\"none\" points=\"188.7207,-324.5 188.7207,-368.5 \" stroke=\"#000000\"/>\n<text fill=\"#000000\" font-family=\"Times,serif\" font-size=\"14.00\" text-anchor=\"middle\" x=\"251.5449\" y=\"-353.3\">(None, 28, 28, 128)</text>\n<polyline fill=\"none\" points=\"188.7207,-346.5 314.3691,-346.5 \" stroke=\"#000000\"/>\n<text fill=\"#000000\" font-family=\"Times,serif\" font-size=\"14.00\" text-anchor=\"middle\" x=\"251.5449\" y=\"-331.3\">(None, 28, 28, 128)</text>\n</g>\n<!-- 5345916968&#45;&gt;5345918704 -->\n<g class=\"edge\" id=\"edge3\">\n<title>5345916968-&gt;5345918704</title>\n<path d=\"M157.1846,-405.3664C157.1846,-397.1516 157.1846,-387.6579 157.1846,-378.7252\" fill=\"none\" stroke=\"#000000\"/>\n<polygon fill=\"#000000\" points=\"160.6847,-378.6068 157.1846,-368.6068 153.6847,-378.6069 160.6847,-378.6068\" stroke=\"#000000\"/>\n</g>\n<!-- 5345918704&#45;&gt;5361872176 -->\n<g class=\"edge\" id=\"edge4\">\n<title>5345918704-&gt;5361872176</title>\n<path d=\"M182.324,-324.3664C192.8713,-315.0802 205.275,-304.1595 216.5161,-294.2625\" fill=\"none\" stroke=\"#000000\"/>\n<polygon fill=\"#000000\" points=\"218.8829,-296.8419 224.0756,-287.6068 214.2572,-291.5881 218.8829,-296.8419\" stroke=\"#000000\"/>\n</g>\n<!-- 5362013968 -->\n<g class=\"node\" id=\"node6\">\n<title>5362013968</title>\n<polygon fill=\"none\" points=\"102.8931,-162.5 102.8931,-206.5 395.4761,-206.5 395.4761,-162.5 102.8931,-162.5\" stroke=\"#000000\"/>\n<text fill=\"#000000\" font-family=\"Times,serif\" font-size=\"14.00\" text-anchor=\"middle\" x=\"158.5259\" y=\"-180.3\">flatten_4: Flatten</text>\n<polyline fill=\"none\" points=\"214.1587,-162.5 214.1587,-206.5 \" stroke=\"#000000\"/>\n<text fill=\"#000000\" font-family=\"Times,serif\" font-size=\"14.00\" text-anchor=\"middle\" x=\"241.9932\" y=\"-191.3\">input:</text>\n<polyline fill=\"none\" points=\"214.1587,-184.5 269.8276,-184.5 \" stroke=\"#000000\"/>\n<text fill=\"#000000\" font-family=\"Times,serif\" font-size=\"14.00\" text-anchor=\"middle\" x=\"241.9932\" y=\"-169.3\">output:</text>\n<polyline fill=\"none\" points=\"269.8276,-162.5 269.8276,-206.5 \" stroke=\"#000000\"/>\n<text fill=\"#000000\" font-family=\"Times,serif\" font-size=\"14.00\" text-anchor=\"middle\" x=\"332.6519\" y=\"-191.3\">(None, 28, 28, 128)</text>\n<polyline fill=\"none\" points=\"269.8276,-184.5 395.4761,-184.5 \" stroke=\"#000000\"/>\n<text fill=\"#000000\" font-family=\"Times,serif\" font-size=\"14.00\" text-anchor=\"middle\" x=\"332.6519\" y=\"-169.3\">(None, 100352)</text>\n</g>\n<!-- 5361872176&#45;&gt;5362013968 -->\n<g class=\"edge\" id=\"edge6\">\n<title>5361872176-&gt;5362013968</title>\n<path d=\"M249.1846,-243.3664C249.1846,-235.1516 249.1846,-225.6579 249.1846,-216.7252\" fill=\"none\" stroke=\"#000000\"/>\n<polygon fill=\"#000000\" points=\"252.6847,-216.6068 249.1846,-206.6068 245.6847,-216.6069 252.6847,-216.6068\" stroke=\"#000000\"/>\n</g>\n<!-- 5070623296 -->\n<g class=\"node\" id=\"node7\">\n<title>5070623296</title>\n<polygon fill=\"none\" points=\"116.8999,-81.5 116.8999,-125.5 381.4692,-125.5 381.4692,-81.5 116.8999,-81.5\" stroke=\"#000000\"/>\n<text fill=\"#000000\" font-family=\"Times,serif\" font-size=\"14.00\" text-anchor=\"middle\" x=\"169.0259\" y=\"-99.3\">dense_7: Dense</text>\n<polyline fill=\"none\" points=\"221.1519,-81.5 221.1519,-125.5 \" stroke=\"#000000\"/>\n<text fill=\"#000000\" font-family=\"Times,serif\" font-size=\"14.00\" text-anchor=\"middle\" x=\"248.9863\" y=\"-110.3\">input:</text>\n<polyline fill=\"none\" points=\"221.1519,-103.5 276.8208,-103.5 \" stroke=\"#000000\"/>\n<text fill=\"#000000\" font-family=\"Times,serif\" font-size=\"14.00\" text-anchor=\"middle\" x=\"248.9863\" y=\"-88.3\">output:</text>\n<polyline fill=\"none\" points=\"276.8208,-81.5 276.8208,-125.5 \" stroke=\"#000000\"/>\n<text fill=\"#000000\" font-family=\"Times,serif\" font-size=\"14.00\" text-anchor=\"middle\" x=\"329.145\" y=\"-110.3\">(None, 100352)</text>\n<polyline fill=\"none\" points=\"276.8208,-103.5 381.4692,-103.5 \" stroke=\"#000000\"/>\n<text fill=\"#000000\" font-family=\"Times,serif\" font-size=\"14.00\" text-anchor=\"middle\" x=\"329.145\" y=\"-88.3\">(None, 512)</text>\n</g>\n<!-- 5362013968&#45;&gt;5070623296 -->\n<g class=\"edge\" id=\"edge7\">\n<title>5362013968-&gt;5070623296</title>\n<path d=\"M249.1846,-162.3664C249.1846,-154.1516 249.1846,-144.6579 249.1846,-135.7252\" fill=\"none\" stroke=\"#000000\"/>\n<polygon fill=\"#000000\" points=\"252.6847,-135.6068 249.1846,-125.6068 245.6847,-135.6069 252.6847,-135.6068\" stroke=\"#000000\"/>\n</g>\n<!-- 5091804216 -->\n<g class=\"node\" id=\"node8\">\n<title>5091804216</title>\n<polygon fill=\"none\" points=\"127.3999,-.5 127.3999,-44.5 370.9692,-44.5 370.9692,-.5 127.3999,-.5\" stroke=\"#000000\"/>\n<text fill=\"#000000\" font-family=\"Times,serif\" font-size=\"14.00\" text-anchor=\"middle\" x=\"179.5259\" y=\"-18.3\">dense_8: Dense</text>\n<polyline fill=\"none\" points=\"231.6519,-.5 231.6519,-44.5 \" stroke=\"#000000\"/>\n<text fill=\"#000000\" font-family=\"Times,serif\" font-size=\"14.00\" text-anchor=\"middle\" x=\"259.4863\" y=\"-29.3\">input:</text>\n<polyline fill=\"none\" points=\"231.6519,-22.5 287.3208,-22.5 \" stroke=\"#000000\"/>\n<text fill=\"#000000\" font-family=\"Times,serif\" font-size=\"14.00\" text-anchor=\"middle\" x=\"259.4863\" y=\"-7.3\">output:</text>\n<polyline fill=\"none\" points=\"287.3208,-.5 287.3208,-44.5 \" stroke=\"#000000\"/>\n<text fill=\"#000000\" font-family=\"Times,serif\" font-size=\"14.00\" text-anchor=\"middle\" x=\"329.145\" y=\"-29.3\">(None, 512)</text>\n<polyline fill=\"none\" points=\"287.3208,-22.5 370.9692,-22.5 \" stroke=\"#000000\"/>\n<text fill=\"#000000\" font-family=\"Times,serif\" font-size=\"14.00\" text-anchor=\"middle\" x=\"329.145\" y=\"-7.3\">(None, 10)</text>\n</g>\n<!-- 5070623296&#45;&gt;5091804216 -->\n<g class=\"edge\" id=\"edge8\">\n<title>5070623296-&gt;5091804216</title>\n<path d=\"M249.1846,-81.3664C249.1846,-73.1516 249.1846,-63.6579 249.1846,-54.7252\" fill=\"none\" stroke=\"#000000\"/>\n<polygon fill=\"#000000\" points=\"252.6847,-54.6068 249.1846,-44.6068 245.6847,-54.6069 252.6847,-54.6068\" stroke=\"#000000\"/>\n</g>\n</g>\n</svg>",
            "text/plain": [
              "<IPython.core.display.SVG object>"
            ]
          },
          "metadata": {
            "tags": []
          },
          "execution_count": 42
        }
      ]
    },
    {
      "cell_type": "markdown",
      "metadata": {
        "id": "rPoe4lHLitbf"
      },
      "source": [
        "#### Train and Save the ResNet model"
      ]
    },
    {
      "cell_type": "code",
      "metadata": {
        "id": "aYV89mBTitbf",
        "outputId": "dc474182-ca21-4c4c-a8aa-49d84e3abf08"
      },
      "source": [
        "model.fit(epochs=epochs,\n",
        "          steps_per_epoch=steps_per_epoch)\n",
        "\n",
        "# Save the model weights.\n",
        "weight_path = os.path.join(tempfile.gettempdir(), 'saved_ResNet_wt.h5')\n",
        "model.save_weights(weight_path)"
      ],
      "execution_count": null,
      "outputs": [
        {
          "output_type": "stream",
          "text": [
            "Epoch 1/5\n",
            "469/469 [==============================] - 2159s 5s/step - loss: 7.3090 - acc: 0.5429\n",
            "Epoch 2/5\n",
            "469/469 [==============================] - 2127s 5s/step - loss: 5.7656 - acc: 0.6412\n",
            "Epoch 3/5\n",
            "469/469 [==============================] - 2129s 5s/step - loss: 5.3445 - acc: 0.6674\n",
            "Epoch 4/5\n",
            "469/469 [==============================] - 2127s 5s/step - loss: 4.4341 - acc: 0.7239\n",
            "Epoch 5/5\n",
            "469/469 [==============================] - 2126s 5s/step - loss: 4.3280 - acc: 0.7306\n"
          ],
          "name": "stdout"
        }
      ]
    },
    {
      "cell_type": "markdown",
      "metadata": {
        "id": "KU9v96yLitbi"
      },
      "source": [
        "#### Second session to test loading trained model without tensors."
      ]
    },
    {
      "cell_type": "code",
      "metadata": {
        "id": "5NVCTmV8itbj",
        "outputId": "6d31134a-902c-43a5-9ac0-15646553f2f0"
      },
      "source": [
        "# Clean up the TF session.\n",
        "K.clear_session()\n",
        "\n",
        "# Second session to test loading trained model without tensors.\n",
        "x_test = x_test.astype(np.float32)\n",
        "x_test = np.expand_dims(x_test, -1)\n",
        "\n",
        "x_test_inp = layers.Input(shape=x_test.shape[1:])\n",
        "test_out = cnn_layers(x_test_inp)\n",
        "test_model = keras.models.Model(inputs=x_test_inp, outputs=test_out)\n",
        "\n",
        "weight_path = os.path.join(tempfile.gettempdir(), 'saved_ResNet_wt.h5')\n",
        "test_model.load_weights(weight_path)\n",
        "test_model.compile(optimizer='rmsprop',\n",
        "                   loss='sparse_categorical_crossentropy',\n",
        "                   metrics=['accuracy'])\n",
        "test_model.summary()\n",
        "\n",
        "loss, acc = test_model.evaluate(x_test, y_test, num_classes)\n",
        "print('\\nTest accuracy: {0}'.format(acc))"
      ],
      "execution_count": null,
      "outputs": [
        {
          "output_type": "stream",
          "text": [
            "x.shape: (?, 28, 28, 1)\n",
            "__________________________________________________________________________________________________\n",
            "Layer (type)                    Output Shape         Param #     Connected to                     \n",
            "==================================================================================================\n",
            "input_1 (InputLayer)            (None, 28, 28, 1)    0                                            \n",
            "__________________________________________________________________________________________________\n",
            "conv2d_1 (Conv2D)               (None, 28, 28, 128)  1280        input_1[0][0]                    \n",
            "__________________________________________________________________________________________________\n",
            "conv2d_2 (Conv2D)               (None, 28, 28, 128)  147584      conv2d_1[0][0]                   \n",
            "__________________________________________________________________________________________________\n",
            "conv2d_3 (Conv2D)               (None, 28, 28, 128)  147584      conv2d_2[0][0]                   \n",
            "__________________________________________________________________________________________________\n",
            "add_1 (Add)                     (None, 28, 28, 128)  0           conv2d_3[0][0]                   \n",
            "                                                                 input_1[0][0]                    \n",
            "__________________________________________________________________________________________________\n",
            "flatten_1 (Flatten)             (None, 100352)       0           add_1[0][0]                      \n",
            "__________________________________________________________________________________________________\n",
            "dense_1 (Dense)                 (None, 512)          51380736    flatten_1[0][0]                  \n",
            "__________________________________________________________________________________________________\n",
            "dense_2 (Dense)                 (None, 10)           5130        dense_1[0][0]                    \n",
            "==================================================================================================\n",
            "Total params: 51,682,314\n",
            "Trainable params: 51,682,314\n",
            "Non-trainable params: 0\n",
            "__________________________________________________________________________________________________\n",
            "10000/10000 [==============================] - 148s 15ms/step\n",
            "\n",
            "Test accuracy: 0.7399000000655651\n"
          ],
          "name": "stdout"
        }
      ]
    },
    {
      "cell_type": "markdown",
      "metadata": {
        "id": "z9ipfYSUitbn"
      },
      "source": [
        "Not very good... probably normal since residual connection are good with very deep network but here we have only 2 hidden layers.  "
      ]
    },
    {
      "cell_type": "markdown",
      "metadata": {
        "id": "xEeBo5umitbp"
      },
      "source": [
        "### 7.1.5. Layer weights sharing\n",
        "\n",
        "One more important feature of the functional API is the ability to reuse a layer instance several times where instead of instantiating a new layer for each call, you reuse the same weights with every call. This allows you to build models that have shared branches—several branches that all share the same knowledge and perform the same operations.  \n",
        "\n",
        "####  Example - semantic similarity between two sentences\n",
        "\n",
        "For example, consider a model that attempts to assess the semantic similarity between two sentences. The model has two inputs (the two sentences to compare) and outputs a score between 0 and 1, where 0 means unrelated sentences and 1 means sentences that are either identical or reformulations of each other. Such a model could be useful in many applications, including deduplicating natural-language queries in a dialog system. \n",
        "\n",
        "In this setup, the two input sentences are interchangeable, because semantic similarity is a symmetrical relationship: the similarity of A to B is identical to the similarity of B to A. For this reason, it wouldn’t make sense to learn two independent models for processing each input sentence. Rather, you want to process both with a single LSTM layer. The representations of this LSTM layer (its weights) are learned based on both inputs simultaneously. This is what we call a Siamese LSTM model or a shared LSTM.\n",
        "\n",
        "    Note: Siamese network is a special type of neural network architecture. Instead of learning to classify its\n",
        "    inputs, the Siamese neural network learns to differentiate between two inputs. It learns the similarity.\n",
        "\n",
        "Here’s how to implement such a model using layer sharing (layer reuse) in the Keras functional API:"
      ]
    },
    {
      "cell_type": "code",
      "metadata": {
        "id": "67njl38Nitbq"
      },
      "source": [
        "from keras import layers\n",
        "from keras import Input\n",
        "from keras.models import Model\n",
        "\n",
        "# Instantiates a single LSTM layer, once\n",
        "lstm = layers.LSTM(32)\n",
        "\n",
        "# Building the left branch of the model: \n",
        "# inputs are variable-length sequences of vectors of size 128.\n",
        "left_input = Input(shape=(None, 128))\n",
        "left_output = lstm(left_input)\n",
        "\n",
        "# Building the right branch of the model:\n",
        "# when you call an existing layer instance, you reuse its weights.\n",
        "right_input = Input(shape=(None, 128))\n",
        "right_output = lstm(right_input)\n",
        "\n",
        "# Builds the classifier on top\n",
        "merged = layers.concatenate([left_output, right_output], axis=-1)\n",
        "predictions = layers.Dense(1, activation='sigmoid')(merged)\n",
        "\n",
        "# Instantiating the model\n",
        "model = Model([left_input, right_input], predictions)"
      ],
      "execution_count": null,
      "outputs": []
    },
    {
      "cell_type": "code",
      "metadata": {
        "id": "BMZusGEAitbt",
        "outputId": "5d0b280a-c102-4a7c-e29d-4690be3e9c6c"
      },
      "source": [
        "model.summary()\n",
        "\n",
        "from IPython.display import SVG\n",
        "from keras.utils.vis_utils import model_to_dot\n",
        "\n",
        "SVG(model_to_dot(model,show_shapes=True).create(prog='dot', format='svg'))"
      ],
      "execution_count": null,
      "outputs": [
        {
          "output_type": "stream",
          "text": [
            "__________________________________________________________________________________________________\n",
            "Layer (type)                    Output Shape         Param #     Connected to                     \n",
            "==================================================================================================\n",
            "input_12 (InputLayer)           (None, None, 128)    0                                            \n",
            "__________________________________________________________________________________________________\n",
            "input_13 (InputLayer)           (None, None, 128)    0                                            \n",
            "__________________________________________________________________________________________________\n",
            "lstm_3 (LSTM)                   (None, 32)           20608       input_12[0][0]                   \n",
            "                                                                 input_13[0][0]                   \n",
            "__________________________________________________________________________________________________\n",
            "concatenate_5 (Concatenate)     (None, 64)           0           lstm_3[0][0]                     \n",
            "                                                                 lstm_3[1][0]                     \n",
            "__________________________________________________________________________________________________\n",
            "dense_7 (Dense)                 (None, 1)            65          concatenate_5[0][0]              \n",
            "==================================================================================================\n",
            "Total params: 20,673\n",
            "Trainable params: 20,673\n",
            "Non-trainable params: 0\n",
            "__________________________________________________________________________________________________\n"
          ],
          "name": "stdout"
        },
        {
          "output_type": "execute_result",
          "data": {
            "image/svg+xml": "<svg height=\"296pt\" viewBox=\"0.00 0.00 650.00 296.00\" width=\"650pt\" xmlns=\"http://www.w3.org/2000/svg\" xmlns:xlink=\"http://www.w3.org/1999/xlink\">\n<g class=\"graph\" id=\"graph0\" transform=\"scale(1 1) rotate(0) translate(4 292)\">\n<title>G</title>\n<polygon fill=\"#ffffff\" points=\"-4,4 -4,-292 646.0039,-292 646.0039,4 -4,4\" stroke=\"transparent\"/>\n<!-- 20784802224 -->\n<g class=\"node\" id=\"node1\">\n<title>20784802224</title>\n<polygon fill=\"none\" points=\"0,-243.5 0,-287.5 312.0039,-287.5 312.0039,-243.5 0,-243.5\" stroke=\"#000000\"/>\n<text fill=\"#000000\" font-family=\"Times,serif\" font-size=\"14.00\" text-anchor=\"middle\" x=\"67.6812\" y=\"-261.3\">input_12: InputLayer</text>\n<polyline fill=\"none\" points=\"135.3623,-243.5 135.3623,-287.5 \" stroke=\"#000000\"/>\n<text fill=\"#000000\" font-family=\"Times,serif\" font-size=\"14.00\" text-anchor=\"middle\" x=\"163.1968\" y=\"-272.3\">input:</text>\n<polyline fill=\"none\" points=\"135.3623,-265.5 191.0313,-265.5 \" stroke=\"#000000\"/>\n<text fill=\"#000000\" font-family=\"Times,serif\" font-size=\"14.00\" text-anchor=\"middle\" x=\"163.1968\" y=\"-250.3\">output:</text>\n<polyline fill=\"none\" points=\"191.0313,-243.5 191.0313,-287.5 \" stroke=\"#000000\"/>\n<text fill=\"#000000\" font-family=\"Times,serif\" font-size=\"14.00\" text-anchor=\"middle\" x=\"251.5176\" y=\"-272.3\">(None, None, 128)</text>\n<polyline fill=\"none\" points=\"191.0313,-265.5 312.0039,-265.5 \" stroke=\"#000000\"/>\n<text fill=\"#000000\" font-family=\"Times,serif\" font-size=\"14.00\" text-anchor=\"middle\" x=\"251.5176\" y=\"-250.3\">(None, None, 128)</text>\n</g>\n<!-- 20784802056 -->\n<g class=\"node\" id=\"node3\">\n<title>20784802056</title>\n<polygon fill=\"none\" points=\"183.2588,-162.5 183.2588,-206.5 458.7451,-206.5 458.7451,-162.5 183.2588,-162.5\" stroke=\"#000000\"/>\n<text fill=\"#000000\" font-family=\"Times,serif\" font-size=\"14.00\" text-anchor=\"middle\" x=\"232.6812\" y=\"-180.3\">lstm_3: LSTM</text>\n<polyline fill=\"none\" points=\"282.1035,-162.5 282.1035,-206.5 \" stroke=\"#000000\"/>\n<text fill=\"#000000\" font-family=\"Times,serif\" font-size=\"14.00\" text-anchor=\"middle\" x=\"309.938\" y=\"-191.3\">input:</text>\n<polyline fill=\"none\" points=\"282.1035,-184.5 337.7725,-184.5 \" stroke=\"#000000\"/>\n<text fill=\"#000000\" font-family=\"Times,serif\" font-size=\"14.00\" text-anchor=\"middle\" x=\"309.938\" y=\"-169.3\">output:</text>\n<polyline fill=\"none\" points=\"337.7725,-162.5 337.7725,-206.5 \" stroke=\"#000000\"/>\n<text fill=\"#000000\" font-family=\"Times,serif\" font-size=\"14.00\" text-anchor=\"middle\" x=\"398.2588\" y=\"-191.3\">(None, None, 128)</text>\n<polyline fill=\"none\" points=\"337.7725,-184.5 458.7451,-184.5 \" stroke=\"#000000\"/>\n<text fill=\"#000000\" font-family=\"Times,serif\" font-size=\"14.00\" text-anchor=\"middle\" x=\"398.0967\" y=\"-169.3\">(None, 32)</text>\n</g>\n<!-- 20784802224&#45;&gt;20784802056 -->\n<g class=\"edge\" id=\"edge1\">\n<title>20784802224-&gt;20784802056</title>\n<path d=\"M201.0889,-243.3664C221.3695,-233.4105 245.4769,-221.5759 266.7389,-211.1382\" fill=\"none\" stroke=\"#000000\"/>\n<polygon fill=\"#000000\" points=\"268.5352,-214.1555 275.9695,-206.6068 265.4504,-207.8718 268.5352,-214.1555\" stroke=\"#000000\"/>\n</g>\n<!-- 20784803232 -->\n<g class=\"node\" id=\"node2\">\n<title>20784803232</title>\n<polygon fill=\"none\" points=\"330,-243.5 330,-287.5 642.0039,-287.5 642.0039,-243.5 330,-243.5\" stroke=\"#000000\"/>\n<text fill=\"#000000\" font-family=\"Times,serif\" font-size=\"14.00\" text-anchor=\"middle\" x=\"397.6812\" y=\"-261.3\">input_13: InputLayer</text>\n<polyline fill=\"none\" points=\"465.3623,-243.5 465.3623,-287.5 \" stroke=\"#000000\"/>\n<text fill=\"#000000\" font-family=\"Times,serif\" font-size=\"14.00\" text-anchor=\"middle\" x=\"493.1968\" y=\"-272.3\">input:</text>\n<polyline fill=\"none\" points=\"465.3623,-265.5 521.0313,-265.5 \" stroke=\"#000000\"/>\n<text fill=\"#000000\" font-family=\"Times,serif\" font-size=\"14.00\" text-anchor=\"middle\" x=\"493.1968\" y=\"-250.3\">output:</text>\n<polyline fill=\"none\" points=\"521.0313,-243.5 521.0313,-287.5 \" stroke=\"#000000\"/>\n<text fill=\"#000000\" font-family=\"Times,serif\" font-size=\"14.00\" text-anchor=\"middle\" x=\"581.5176\" y=\"-272.3\">(None, None, 128)</text>\n<polyline fill=\"none\" points=\"521.0313,-265.5 642.0039,-265.5 \" stroke=\"#000000\"/>\n<text fill=\"#000000\" font-family=\"Times,serif\" font-size=\"14.00\" text-anchor=\"middle\" x=\"581.5176\" y=\"-250.3\">(None, None, 128)</text>\n</g>\n<!-- 20784803232&#45;&gt;20784802056 -->\n<g class=\"edge\" id=\"edge2\">\n<title>20784803232-&gt;20784802056</title>\n<path d=\"M440.915,-243.3664C420.6344,-233.4105 396.527,-221.5759 375.265,-211.1382\" fill=\"none\" stroke=\"#000000\"/>\n<polygon fill=\"#000000\" points=\"376.5535,-207.8718 366.0344,-206.6068 373.4687,-214.1555 376.5535,-207.8718\" stroke=\"#000000\"/>\n</g>\n<!-- 20784803288 -->\n<g class=\"node\" id=\"node4\">\n<title>20784803288</title>\n<polygon fill=\"none\" points=\"130.0376,-81.5 130.0376,-125.5 511.9663,-125.5 511.9663,-81.5 130.0376,-81.5\" stroke=\"#000000\"/>\n<text fill=\"#000000\" font-family=\"Times,serif\" font-size=\"14.00\" text-anchor=\"middle\" x=\"216.3569\" y=\"-99.3\">concatenate_5: Concatenate</text>\n<polyline fill=\"none\" points=\"302.6763,-81.5 302.6763,-125.5 \" stroke=\"#000000\"/>\n<text fill=\"#000000\" font-family=\"Times,serif\" font-size=\"14.00\" text-anchor=\"middle\" x=\"330.5107\" y=\"-110.3\">input:</text>\n<polyline fill=\"none\" points=\"302.6763,-103.5 358.3452,-103.5 \" stroke=\"#000000\"/>\n<text fill=\"#000000\" font-family=\"Times,serif\" font-size=\"14.00\" text-anchor=\"middle\" x=\"330.5107\" y=\"-88.3\">output:</text>\n<polyline fill=\"none\" points=\"358.3452,-81.5 358.3452,-125.5 \" stroke=\"#000000\"/>\n<text fill=\"#000000\" font-family=\"Times,serif\" font-size=\"14.00\" text-anchor=\"middle\" x=\"435.1558\" y=\"-110.3\">[(None, 32), (None, 32)]</text>\n<polyline fill=\"none\" points=\"358.3452,-103.5 511.9663,-103.5 \" stroke=\"#000000\"/>\n<text fill=\"#000000\" font-family=\"Times,serif\" font-size=\"14.00\" text-anchor=\"middle\" x=\"434.6694\" y=\"-88.3\">(None, 64)</text>\n</g>\n<!-- 20784802056&#45;&gt;20784803288 -->\n<g class=\"edge\" id=\"edge3\">\n<title>20784802056-&gt;20784803288</title>\n<path d=\"M321.002,-162.3664C321.002,-154.1516 321.002,-144.6579 321.002,-135.7252\" fill=\"none\" stroke=\"#000000\"/>\n<polygon fill=\"#000000\" points=\"324.5021,-135.6068 321.002,-125.6068 317.5021,-135.6069 324.5021,-135.6068\" stroke=\"#000000\"/>\n</g>\n<!-- 20785528560 -->\n<g class=\"node\" id=\"node5\">\n<title>20785528560</title>\n<polygon fill=\"none\" points=\"202.7173,-.5 202.7173,-44.5 439.2866,-44.5 439.2866,-.5 202.7173,-.5\" stroke=\"#000000\"/>\n<text fill=\"#000000\" font-family=\"Times,serif\" font-size=\"14.00\" text-anchor=\"middle\" x=\"254.8433\" y=\"-18.3\">dense_7: Dense</text>\n<polyline fill=\"none\" points=\"306.9692,-.5 306.9692,-44.5 \" stroke=\"#000000\"/>\n<text fill=\"#000000\" font-family=\"Times,serif\" font-size=\"14.00\" text-anchor=\"middle\" x=\"334.8037\" y=\"-29.3\">input:</text>\n<polyline fill=\"none\" points=\"306.9692,-22.5 362.6382,-22.5 \" stroke=\"#000000\"/>\n<text fill=\"#000000\" font-family=\"Times,serif\" font-size=\"14.00\" text-anchor=\"middle\" x=\"334.8037\" y=\"-7.3\">output:</text>\n<polyline fill=\"none\" points=\"362.6382,-.5 362.6382,-44.5 \" stroke=\"#000000\"/>\n<text fill=\"#000000\" font-family=\"Times,serif\" font-size=\"14.00\" text-anchor=\"middle\" x=\"400.9624\" y=\"-29.3\">(None, 64)</text>\n<polyline fill=\"none\" points=\"362.6382,-22.5 439.2866,-22.5 \" stroke=\"#000000\"/>\n<text fill=\"#000000\" font-family=\"Times,serif\" font-size=\"14.00\" text-anchor=\"middle\" x=\"400.9624\" y=\"-7.3\">(None, 1)</text>\n</g>\n<!-- 20784803288&#45;&gt;20785528560 -->\n<g class=\"edge\" id=\"edge5\">\n<title>20784803288-&gt;20785528560</title>\n<path d=\"M321.002,-81.3664C321.002,-73.1516 321.002,-63.6579 321.002,-54.7252\" fill=\"none\" stroke=\"#000000\"/>\n<polygon fill=\"#000000\" points=\"324.5021,-54.6068 321.002,-44.6068 317.5021,-54.6069 324.5021,-54.6068\" stroke=\"#000000\"/>\n</g>\n</g>\n</svg>",
            "text/plain": [
              "<IPython.core.display.SVG object>"
            ]
          },
          "metadata": {
            "tags": []
          },
          "execution_count": 59
        }
      ]
    },
    {
      "cell_type": "code",
      "metadata": {
        "id": "bcmqcAsYitbv",
        "outputId": "7d14d161-e8c5-4559-b944-e9c968036fe3"
      },
      "source": [
        "import numpy as np\n",
        "\n",
        "num_samples = 100\n",
        "num_symbols = 2\n",
        "\n",
        "TRACE = False\n",
        "\n",
        "left_data = np.random.randint(0,num_symbols, size=(num_samples,1,128))\n",
        "if TRACE:\n",
        "    print(type(left_data))\n",
        "    print(left_data.shape)\n",
        "    print(left_data)\n",
        "    print('-'*50)\n",
        "\n",
        "right_data = np.random.randint(0,num_symbols, size=(num_samples,1,128))\n",
        "if TRACE:\n",
        "    print(type(right_data))\n",
        "    print(right_data.shape)\n",
        "    print(right_data)\n",
        "    print('-'*50)\n",
        "\n",
        "matching_list = [np.random.randint(0,num_symbols) for _ in range(num_samples)]\n",
        "targets = np.array(matching_list)\n",
        "if TRACE:\n",
        "    print(type(targets))\n",
        "    print(targets.shape)\n",
        "    print(targets)\n",
        "    print('-'*50)\n",
        "\n",
        "# We must compile a model before training/testing.\n",
        "model.compile(optimizer='rmsprop',loss='binary_crossentropy',metrics=['acc'])\n",
        "\n",
        "# Training the model: when you train such a model,\n",
        "# the weights of the LSTM layer are updated based on both inputs.\n",
        "model.fit([left_data, right_data],targets)"
      ],
      "execution_count": null,
      "outputs": [
        {
          "output_type": "stream",
          "text": [
            "Epoch 1/1\n",
            "100/100 [==============================] - 4s 37ms/step - loss: 0.7013 - acc: 0.4800\n"
          ],
          "name": "stdout"
        },
        {
          "output_type": "execute_result",
          "data": {
            "text/plain": [
              "<keras.callbacks.History at 0x19a64fcf8>"
            ]
          },
          "metadata": {
            "tags": []
          },
          "execution_count": 96
        }
      ]
    },
    {
      "cell_type": "markdown",
      "metadata": {
        "id": "ADDLI9x1itb0"
      },
      "source": [
        "### 7.1.6. Models as layers\n",
        "\n",
        "Importantly, in the functional API, models can be used as you’d use layers—effectively, you can think of a model as a “bigger layer.” This is true of both the Sequential and Model classes. This means you can call a model on an input tensor and retrieve an output tensor: \n",
        "\n",
        "    y = model(x)\n",
        "\n",
        "If the model has multiple input tensors and multiple output tensors, it should be called with a list of tensors: \n",
        "\n",
        "    y1, y2 = model([x1, x2])\n",
        "\n",
        "When you call a model instance, you’re reusing the weights of the model—exactly like what happens when you call a layer instance. Calling an instance, whether it’s a layer instance or a model instance, will always reuse the existing learned representations of the instance—which is intuitive."
      ]
    },
    {
      "cell_type": "code",
      "metadata": {
        "id": "EiML2aIQitb0"
      },
      "source": [
        "from keras import layers\n",
        "from keras import applications \n",
        "from keras import Input\n",
        "\n",
        "nbr_classes = 10\n",
        "\n",
        "# The base image-processing model is the Xception network (convolutional base only).\n",
        "xception_base = applications.Xception(weights=None,include_top=False)\n",
        "\n",
        "# The inputs are 250 × 250 RGB images.\n",
        "left_input = Input(shape=(250, 250, 3))\n",
        "right_input = Input(shape=(250, 250, 3))\n",
        "\n",
        "left_features = xception_base(left_input)\n",
        "# right_input = xception_base(right_input)\n",
        "right_features = xception_base(right_input)\n",
        "\n",
        "merged_features = layers.concatenate([left_features, right_features], axis=-1)\n",
        "\n",
        "predictions = layers.Dense(nbr_classes, activation='softmax')(merged_features)\n",
        "\n",
        "# Instantiating the model\n",
        "model = Model([left_input, right_input], predictions)"
      ],
      "execution_count": null,
      "outputs": []
    },
    {
      "cell_type": "code",
      "metadata": {
        "id": "TQaTEbOSitb2",
        "outputId": "9fb17a0a-2923-41ef-9426-87d921b9b3c6"
      },
      "source": [
        "model.summary()\n",
        "\n",
        "from IPython.display import SVG\n",
        "from keras.utils.vis_utils import model_to_dot\n",
        "\n",
        "SVG(model_to_dot(model,show_shapes=True).create(prog='dot', format='svg'))"
      ],
      "execution_count": null,
      "outputs": [
        {
          "output_type": "stream",
          "text": [
            "__________________________________________________________________________________________________\n",
            "Layer (type)                    Output Shape         Param #     Connected to                     \n",
            "==================================================================================================\n",
            "input_15 (InputLayer)           (None, 250, 250, 3)  0                                            \n",
            "__________________________________________________________________________________________________\n",
            "input_16 (InputLayer)           (None, 250, 250, 3)  0                                            \n",
            "__________________________________________________________________________________________________\n",
            "xception (Model)                multiple             20861480    input_15[0][0]                   \n",
            "                                                                 input_16[0][0]                   \n",
            "__________________________________________________________________________________________________\n",
            "concatenate_6 (Concatenate)     (None, 8, 8, 4096)   0           xception[1][0]                   \n",
            "                                                                 xception[2][0]                   \n",
            "__________________________________________________________________________________________________\n",
            "dense_8 (Dense)                 (None, 8, 8, 10)     40970       concatenate_6[0][0]              \n",
            "==================================================================================================\n",
            "Total params: 20,902,450\n",
            "Trainable params: 20,847,922\n",
            "Non-trainable params: 54,528\n",
            "__________________________________________________________________________________________________\n"
          ],
          "name": "stdout"
        },
        {
          "output_type": "execute_result",
          "data": {
            "image/svg+xml": "<svg height=\"296pt\" viewBox=\"0.00 0.00 659.68 296.00\" width=\"660pt\" xmlns=\"http://www.w3.org/2000/svg\" xmlns:xlink=\"http://www.w3.org/1999/xlink\">\n<g class=\"graph\" id=\"graph0\" transform=\"scale(1 1) rotate(0) translate(4 292)\">\n<title>G</title>\n<polygon fill=\"#ffffff\" points=\"-4,4 -4,-292 655.6797,-292 655.6797,4 -4,4\" stroke=\"transparent\"/>\n<!-- 6778837088 -->\n<g class=\"node\" id=\"node1\">\n<title>6778837088</title>\n<polygon fill=\"none\" points=\"0,-243.5 0,-287.5 316.6797,-287.5 316.6797,-243.5 0,-243.5\" stroke=\"#000000\"/>\n<text fill=\"#000000\" font-family=\"Times,serif\" font-size=\"14.00\" text-anchor=\"middle\" x=\"67.6812\" y=\"-261.3\">input_15: InputLayer</text>\n<polyline fill=\"none\" points=\"135.3623,-243.5 135.3623,-287.5 \" stroke=\"#000000\"/>\n<text fill=\"#000000\" font-family=\"Times,serif\" font-size=\"14.00\" text-anchor=\"middle\" x=\"163.1968\" y=\"-272.3\">input:</text>\n<polyline fill=\"none\" points=\"135.3623,-265.5 191.0313,-265.5 \" stroke=\"#000000\"/>\n<text fill=\"#000000\" font-family=\"Times,serif\" font-size=\"14.00\" text-anchor=\"middle\" x=\"163.1968\" y=\"-250.3\">output:</text>\n<polyline fill=\"none\" points=\"191.0313,-243.5 191.0313,-287.5 \" stroke=\"#000000\"/>\n<text fill=\"#000000\" font-family=\"Times,serif\" font-size=\"14.00\" text-anchor=\"middle\" x=\"253.8555\" y=\"-272.3\">(None, 250, 250, 3)</text>\n<polyline fill=\"none\" points=\"191.0313,-265.5 316.6797,-265.5 \" stroke=\"#000000\"/>\n<text fill=\"#000000\" font-family=\"Times,serif\" font-size=\"14.00\" text-anchor=\"middle\" x=\"253.8555\" y=\"-250.3\">(None, 250, 250, 3)</text>\n</g>\n<!-- 7721941872 -->\n<g class=\"node\" id=\"node3\">\n<title>7721941872</title>\n<polygon fill=\"none\" points=\"212.1001,-162.5 212.1001,-206.5 438.5796,-206.5 438.5796,-162.5 212.1001,-162.5\" stroke=\"#000000\"/>\n<text fill=\"#000000\" font-family=\"Times,serif\" font-size=\"14.00\" text-anchor=\"middle\" x=\"266.1743\" y=\"-180.3\">xception: Model</text>\n<polyline fill=\"none\" points=\"320.2485,-162.5 320.2485,-206.5 \" stroke=\"#000000\"/>\n<text fill=\"#000000\" font-family=\"Times,serif\" font-size=\"14.00\" text-anchor=\"middle\" x=\"348.083\" y=\"-191.3\">input:</text>\n<polyline fill=\"none\" points=\"320.2485,-184.5 375.9175,-184.5 \" stroke=\"#000000\"/>\n<text fill=\"#000000\" font-family=\"Times,serif\" font-size=\"14.00\" text-anchor=\"middle\" x=\"348.083\" y=\"-169.3\">output:</text>\n<polyline fill=\"none\" points=\"375.9175,-162.5 375.9175,-206.5 \" stroke=\"#000000\"/>\n<text fill=\"#000000\" font-family=\"Times,serif\" font-size=\"14.00\" text-anchor=\"middle\" x=\"407.2485\" y=\"-191.3\">multiple</text>\n<polyline fill=\"none\" points=\"375.9175,-184.5 438.5796,-184.5 \" stroke=\"#000000\"/>\n<text fill=\"#000000\" font-family=\"Times,serif\" font-size=\"14.00\" text-anchor=\"middle\" x=\"407.2485\" y=\"-169.3\">multiple</text>\n</g>\n<!-- 6778837088&#45;&gt;7721941872 -->\n<g class=\"edge\" id=\"edge1\">\n<title>6778837088-&gt;7721941872</title>\n<path d=\"M203.9733,-243.3664C224.5918,-233.3658 249.1183,-221.4698 270.7084,-210.9979\" fill=\"none\" stroke=\"#000000\"/>\n<polygon fill=\"#000000\" points=\"272.2915,-214.1201 279.7615,-206.6068 269.2366,-207.8218 272.2915,-214.1201\" stroke=\"#000000\"/>\n</g>\n<!-- 7717161336 -->\n<g class=\"node\" id=\"node2\">\n<title>7717161336</title>\n<polygon fill=\"none\" points=\"335,-243.5 335,-287.5 651.6797,-287.5 651.6797,-243.5 335,-243.5\" stroke=\"#000000\"/>\n<text fill=\"#000000\" font-family=\"Times,serif\" font-size=\"14.00\" text-anchor=\"middle\" x=\"402.6812\" y=\"-261.3\">input_16: InputLayer</text>\n<polyline fill=\"none\" points=\"470.3623,-243.5 470.3623,-287.5 \" stroke=\"#000000\"/>\n<text fill=\"#000000\" font-family=\"Times,serif\" font-size=\"14.00\" text-anchor=\"middle\" x=\"498.1968\" y=\"-272.3\">input:</text>\n<polyline fill=\"none\" points=\"470.3623,-265.5 526.0313,-265.5 \" stroke=\"#000000\"/>\n<text fill=\"#000000\" font-family=\"Times,serif\" font-size=\"14.00\" text-anchor=\"middle\" x=\"498.1968\" y=\"-250.3\">output:</text>\n<polyline fill=\"none\" points=\"526.0313,-243.5 526.0313,-287.5 \" stroke=\"#000000\"/>\n<text fill=\"#000000\" font-family=\"Times,serif\" font-size=\"14.00\" text-anchor=\"middle\" x=\"588.8555\" y=\"-272.3\">(None, 250, 250, 3)</text>\n<polyline fill=\"none\" points=\"526.0313,-265.5 651.6797,-265.5 \" stroke=\"#000000\"/>\n<text fill=\"#000000\" font-family=\"Times,serif\" font-size=\"14.00\" text-anchor=\"middle\" x=\"588.8555\" y=\"-250.3\">(None, 250, 250, 3)</text>\n</g>\n<!-- 7717161336&#45;&gt;7721941872 -->\n<g class=\"edge\" id=\"edge2\">\n<title>7717161336-&gt;7721941872</title>\n<path d=\"M447.4331,-243.3664C426.6912,-233.3658 402.0178,-221.4698 380.2985,-210.9979\" fill=\"none\" stroke=\"#000000\"/>\n<polygon fill=\"#000000\" points=\"381.7188,-207.7972 371.1911,-206.6068 378.6787,-214.1026 381.7188,-207.7972\" stroke=\"#000000\"/>\n</g>\n<!-- 7722372512 -->\n<g class=\"node\" id=\"node4\">\n<title>7722372512</title>\n<polygon fill=\"none\" points=\"92.3755,-81.5 92.3755,-125.5 558.3042,-125.5 558.3042,-81.5 92.3755,-81.5\" stroke=\"#000000\"/>\n<text fill=\"#000000\" font-family=\"Times,serif\" font-size=\"14.00\" text-anchor=\"middle\" x=\"178.6948\" y=\"-99.3\">concatenate_6: Concatenate</text>\n<polyline fill=\"none\" points=\"265.0142,-81.5 265.0142,-125.5 \" stroke=\"#000000\"/>\n<text fill=\"#000000\" font-family=\"Times,serif\" font-size=\"14.00\" text-anchor=\"middle\" x=\"292.8486\" y=\"-110.3\">input:</text>\n<polyline fill=\"none\" points=\"265.0142,-103.5 320.6831,-103.5 \" stroke=\"#000000\"/>\n<text fill=\"#000000\" font-family=\"Times,serif\" font-size=\"14.00\" text-anchor=\"middle\" x=\"292.8486\" y=\"-88.3\">output:</text>\n<polyline fill=\"none\" points=\"320.6831,-81.5 320.6831,-125.5 \" stroke=\"#000000\"/>\n<text fill=\"#000000\" font-family=\"Times,serif\" font-size=\"14.00\" text-anchor=\"middle\" x=\"439.4937\" y=\"-110.3\">[(None, 8, 8, 2048), (None, 8, 8, 2048)]</text>\n<polyline fill=\"none\" points=\"320.6831,-103.5 558.3042,-103.5 \" stroke=\"#000000\"/>\n<text fill=\"#000000\" font-family=\"Times,serif\" font-size=\"14.00\" text-anchor=\"middle\" x=\"439.0073\" y=\"-88.3\">(None, 8, 8, 4096)</text>\n</g>\n<!-- 7721941872&#45;&gt;7722372512 -->\n<g class=\"edge\" id=\"edge3\">\n<title>7721941872-&gt;7722372512</title>\n<path d=\"M325.3398,-162.3664C325.3398,-154.1516 325.3398,-144.6579 325.3398,-135.7252\" fill=\"none\" stroke=\"#000000\"/>\n<polygon fill=\"#000000\" points=\"328.8399,-135.6068 325.3398,-125.6068 321.8399,-135.6069 328.8399,-135.6068\" stroke=\"#000000\"/>\n</g>\n<!-- 7722372736 -->\n<g class=\"node\" id=\"node5\">\n<title>7722372736</title>\n<polygon fill=\"none\" points=\"186.0552,-.5 186.0552,-44.5 464.6245,-44.5 464.6245,-.5 186.0552,-.5\" stroke=\"#000000\"/>\n<text fill=\"#000000\" font-family=\"Times,serif\" font-size=\"14.00\" text-anchor=\"middle\" x=\"238.1812\" y=\"-18.3\">dense_8: Dense</text>\n<polyline fill=\"none\" points=\"290.3071,-.5 290.3071,-44.5 \" stroke=\"#000000\"/>\n<text fill=\"#000000\" font-family=\"Times,serif\" font-size=\"14.00\" text-anchor=\"middle\" x=\"318.1416\" y=\"-29.3\">input:</text>\n<polyline fill=\"none\" points=\"290.3071,-22.5 345.9761,-22.5 \" stroke=\"#000000\"/>\n<text fill=\"#000000\" font-family=\"Times,serif\" font-size=\"14.00\" text-anchor=\"middle\" x=\"318.1416\" y=\"-7.3\">output:</text>\n<polyline fill=\"none\" points=\"345.9761,-.5 345.9761,-44.5 \" stroke=\"#000000\"/>\n<text fill=\"#000000\" font-family=\"Times,serif\" font-size=\"14.00\" text-anchor=\"middle\" x=\"405.3003\" y=\"-29.3\">(None, 8, 8, 4096)</text>\n<polyline fill=\"none\" points=\"345.9761,-22.5 464.6245,-22.5 \" stroke=\"#000000\"/>\n<text fill=\"#000000\" font-family=\"Times,serif\" font-size=\"14.00\" text-anchor=\"middle\" x=\"405.3003\" y=\"-7.3\">(None, 8, 8, 10)</text>\n</g>\n<!-- 7722372512&#45;&gt;7722372736 -->\n<g class=\"edge\" id=\"edge5\">\n<title>7722372512-&gt;7722372736</title>\n<path d=\"M325.3398,-81.3664C325.3398,-73.1516 325.3398,-63.6579 325.3398,-54.7252\" fill=\"none\" stroke=\"#000000\"/>\n<polygon fill=\"#000000\" points=\"328.8399,-54.6068 325.3398,-44.6068 321.8399,-54.6069 328.8399,-54.6068\" stroke=\"#000000\"/>\n</g>\n</g>\n</svg>",
            "text/plain": [
              "<IPython.core.display.SVG object>"
            ]
          },
          "metadata": {
            "tags": []
          },
          "execution_count": 98
        }
      ]
    },
    {
      "cell_type": "code",
      "metadata": {
        "id": "uF0E3Sg1itb4"
      },
      "source": [
        ""
      ],
      "execution_count": null,
      "outputs": []
    }
  ]
}