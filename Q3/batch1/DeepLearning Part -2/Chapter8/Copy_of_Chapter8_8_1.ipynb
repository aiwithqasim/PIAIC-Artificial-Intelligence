{
  "nbformat": 4,
  "nbformat_minor": 0,
  "metadata": {
    "colab": {
      "name": "Copy of Chapter8_8.1.ipynb",
      "provenance": []
    },
    "kernelspec": {
      "name": "python3",
      "display_name": "Python 3"
    },
    "language_info": {
      "name": "python"
    },
    "accelerator": "GPU"
  },
  "cells": [
    {
      "cell_type": "code",
      "metadata": {
        "id": "1TZ5FHk5Ss6_"
      },
      "source": [
        "import numpy as np\n",
        "def reweight_distribution(original_distribution, temperature=0.5):\n",
        "  distribution = np.log(original_distribution) / temperature\n",
        "  distribution = np.exp(distribution)\n",
        "  return distribution / np.sum(distribution)"
      ],
      "execution_count": null,
      "outputs": []
    },
    {
      "cell_type": "code",
      "metadata": {
        "colab": {
          "base_uri": "https://localhost:8080/",
          "height": 199
        },
        "id": "wRKJKHC9Z_2R",
        "outputId": "726915d2-1cbe-4ec4-c5f5-4f474ec93cbf"
      },
      "source": [
        "text = \"\"\"\n",
        "PREFACE\n",
        "\n",
        "\n",
        "SUPPOSING that Truth is a woman--what then? Is there not ground\n",
        "for suspecting that all philosophers, in so far as they have been\n",
        "dogmatists, have failed to understand women--that the terrible\n",
        "seriousness and clumsy importunity with which they have usually paid\n",
        "their addresses to Truth, have been unskilled and unseemly methods for\n",
        "winning a woman? Certainly she has never allowed herself to be won; and\n",
        "at present every kind of dogma stands with sad and discouraged mien--IF,\n",
        "indeed, it stands at all! For there are scoffers who maintain that it\n",
        "has fallen, that all dogma lies on the ground--nay more, that it is at\n",
        "its last gasp. But to speak seriously, there are good grounds for hoping\n",
        "that all dogmatizing in philosophy, whatever solemn, whatever conclusive\n",
        "and decided airs it has assumed, may have been only a noble puerilism\n",
        "and tyronism; and probably the time is at hand when it will be once\n",
        "and again understood WHAT has actually sufficed for the basis of such\n",
        "imposing and absolute philosophical edifices as the dogmatists have\n",
        "hitherto reared: perhaps some popular superstition of immemorial time\n",
        "(such as the soul-superstition, which, in the form of subject- and\n",
        "ego-superstition, has not yet ceased doing mischief): perhaps some\n",
        "play upon words, a deception on the part of grammar, or an\n",
        "audacious generalization of very restricted, very personal, very\n",
        "human--all-too-human facts. The philosophy of the dogmatists, it is to\n",
        "be hoped, was only a promise for thousands of years afterwards, as was\n",
        "astrology in still earlier times, in the service of which probably more\n",
        "labour, gold, acuteness, and patience have been spent than on any\n",
        "actual science hitherto: we owe to it, and to its \"super-terrestrial\"\n",
        "pretensions in Asia and Egypt, the grand style of architecture. It seems\n",
        "that in order to inscribe themselves upon the heart of humanity with\n",
        "everlasting claims, all great things have first to wander about the\n",
        "earth as enormous and awe-inspiring caricatures: dogmatic philosophy has\n",
        "been a caricature of this kind--for instance, the Vedanta doctrine in\n",
        "Asia, and Platonism in Europe. Let us not be ungrateful to it, although\n",
        "it must certainly be confessed that the worst, the most tiresome,\n",
        "and the most dangerous of errors hitherto has been a dogmatist\n",
        "error--namely, Plato's invention of Pure Spirit and the Good in Itself.\n",
        "But now when it has been surmounted, when Europe, rid of this nightmare,\n",
        "can again draw breath freely and at least enjoy a healthier--sleep,\n",
        "we, WHOSE DUTY IS WAKEFULNESS ITSELF, are the heirs of all the strength\n",
        "which the struggle against this error has fostered. It amounted to\n",
        "the very inversion of truth, and the denial of the PERSPECTIVE--the\n",
        "fundamental condition--of life, to speak of Spirit and the Good as Plato\n",
        "spoke of them; indeed one might ask, as a physician: \"How did such a\n",
        "malady attack that finest product of antiquity, Plato? Had the wicked\n",
        "Socrates really corrupted him? Was Socrates after all a corrupter of\n",
        "youths, and deserved his hemlock?\" But the struggle against Plato,\n",
        "or--to speak plainer, and for the \"people\"--the struggle against\n",
        "the ecclesiastical oppression of millenniums of Christianity (FOR\n",
        "CHRISTIANITY IS PLATONISM FOR THE \"PEOPLE\"), produced in Europe\n",
        "a magnificent tension of soul, such as had not existed anywhere\n",
        "previously; with such a tensely strained bow one can now aim at the\n",
        "furthest goals. As a matter of fact, the European feels this tension as\n",
        "a state of distress, and twice attempts have been made in grand style to\n",
        "unbend the bow: once by means of Jesuitism, and the second time by means\n",
        "of democratic enlightenment--which, with the aid of liberty of the press\n",
        "and newspaper-reading, might, in fact, bring it about that the spirit\n",
        "would not so easily find itself in \"distress\"! (The Germans invented\n",
        "gunpowder--all credit to them! but they again made things square--they\n",
        "invented printing.) But we, who are neither Jesuits, nor democrats,\n",
        "nor even sufficiently Germans, we GOOD EUROPEANS, and free, VERY free\n",
        "spirits--we have it still, all the distress of spirit and all the\n",
        "tension of its bow! And perhaps also the arrow, the duty, and, who\n",
        "knows? THE GOAL TO AIM AT....\n",
        "\n",
        "\n",
        "\"\"\".lower()\n",
        "print(len(text))\n",
        "text"
      ],
      "execution_count": null,
      "outputs": [
        {
          "output_type": "stream",
          "text": [
            "4183\n"
          ],
          "name": "stdout"
        },
        {
          "output_type": "execute_result",
          "data": {
            "application/vnd.google.colaboratory.intrinsic+json": {
              "type": "string"
            },
            "text/plain": [
              "'\\npreface\\n\\n\\nsupposing that truth is a woman--what then? is there not ground\\nfor suspecting that all philosophers, in so far as they have been\\ndogmatists, have failed to understand women--that the terrible\\nseriousness and clumsy importunity with which they have usually paid\\ntheir addresses to truth, have been unskilled and unseemly methods for\\nwinning a woman? certainly she has never allowed herself to be won; and\\nat present every kind of dogma stands with sad and discouraged mien--if,\\nindeed, it stands at all! for there are scoffers who maintain that it\\nhas fallen, that all dogma lies on the ground--nay more, that it is at\\nits last gasp. but to speak seriously, there are good grounds for hoping\\nthat all dogmatizing in philosophy, whatever solemn, whatever conclusive\\nand decided airs it has assumed, may have been only a noble puerilism\\nand tyronism; and probably the time is at hand when it will be once\\nand again understood what has actually sufficed for the basis of such\\nimposing and absolute philosophical edifices as the dogmatists have\\nhitherto reared: perhaps some popular superstition of immemorial time\\n(such as the soul-superstition, which, in the form of subject- and\\nego-superstition, has not yet ceased doing mischief): perhaps some\\nplay upon words, a deception on the part of grammar, or an\\naudacious generalization of very restricted, very personal, very\\nhuman--all-too-human facts. the philosophy of the dogmatists, it is to\\nbe hoped, was only a promise for thousands of years afterwards, as was\\nastrology in still earlier times, in the service of which probably more\\nlabour, gold, acuteness, and patience have been spent than on any\\nactual science hitherto: we owe to it, and to its \"super-terrestrial\"\\npretensions in asia and egypt, the grand style of architecture. it seems\\nthat in order to inscribe themselves upon the heart of humanity with\\neverlasting claims, all great things have first to wander about the\\nearth as enormous and awe-inspiring caricatures: dogmatic philosophy has\\nbeen a caricature of this kind--for instance, the vedanta doctrine in\\nasia, and platonism in europe. let us not be ungrateful to it, although\\nit must certainly be confessed that the worst, the most tiresome,\\nand the most dangerous of errors hitherto has been a dogmatist\\nerror--namely, plato\\'s invention of pure spirit and the good in itself.\\nbut now when it has been surmounted, when europe, rid of this nightmare,\\ncan again draw breath freely and at least enjoy a healthier--sleep,\\nwe, whose duty is wakefulness itself, are the heirs of all the strength\\nwhich the struggle against this error has fostered. it amounted to\\nthe very inversion of truth, and the denial of the perspective--the\\nfundamental condition--of life, to speak of spirit and the good as plato\\nspoke of them; indeed one might ask, as a physician: \"how did such a\\nmalady attack that finest product of antiquity, plato? had the wicked\\nsocrates really corrupted him? was socrates after all a corrupter of\\nyouths, and deserved his hemlock?\" but the struggle against plato,\\nor--to speak plainer, and for the \"people\"--the struggle against\\nthe ecclesiastical oppression of millenniums of christianity (for\\nchristianity is platonism for the \"people\"), produced in europe\\na magnificent tension of soul, such as had not existed anywhere\\npreviously; with such a tensely strained bow one can now aim at the\\nfurthest goals. as a matter of fact, the european feels this tension as\\na state of distress, and twice attempts have been made in grand style to\\nunbend the bow: once by means of jesuitism, and the second time by means\\nof democratic enlightenment--which, with the aid of liberty of the press\\nand newspaper-reading, might, in fact, bring it about that the spirit\\nwould not so easily find itself in \"distress\"! (the germans invented\\ngunpowder--all credit to them! but they again made things square--they\\ninvented printing.) but we, who are neither jesuits, nor democrats,\\nnor even sufficiently germans, we good europeans, and free, very free\\nspirits--we have it still, all the distress of spirit and all the\\ntension of its bow! and perhaps also the arrow, the duty, and, who\\nknows? the goal to aim at....\\n\\n\\n'"
            ]
          },
          "metadata": {
            "tags": []
          },
          "execution_count": 3
        }
      ]
    },
    {
      "cell_type": "markdown",
      "metadata": {
        "id": "qzazffZ8UPTj"
      },
      "source": [
        "## Listing 8.2 Downloading and parsing the initial text file"
      ]
    },
    {
      "cell_type": "code",
      "metadata": {
        "colab": {
          "base_uri": "https://localhost:8080/"
        },
        "id": "NkQFYt_kS4lN",
        "outputId": "35311f4b-2c1d-4e1b-d46a-d6405c63b8ad"
      },
      "source": [
        "import keras\n",
        "import numpy as np\n",
        "path = keras.utils.get_file('nietzsche.txt',\n",
        "                            origin='https://s3.amazonaws.com/text-datasets/nietzsche.txt')\n",
        "\n",
        "text = open(path).read().lower()\n",
        "print('Corpus length:', len(text))"
      ],
      "execution_count": null,
      "outputs": [
        {
          "output_type": "stream",
          "text": [
            "Downloading data from https://s3.amazonaws.com/text-datasets/nietzsche.txt\n",
            "606208/600901 [==============================] - 0s 0us/step\n",
            "Corpus length: 600893\n"
          ],
          "name": "stdout"
        }
      ]
    },
    {
      "cell_type": "markdown",
      "metadata": {
        "id": "zJCYIbaqUh3K"
      },
      "source": [
        "## Listing 8.3 Vectorizing sequences of characters"
      ]
    },
    {
      "cell_type": "code",
      "metadata": {
        "id": "FBJ611L4da0x"
      },
      "source": [
        "maxlen = 60\n",
        "step = 3\n",
        "sentences = []\n",
        "next_chars = []\n",
        "for i in range(0, len(text) - maxlen, step):\n",
        "  sentences.append(text[i: i + maxlen])\n",
        "  next_chars.append(text[i + maxlen])"
      ],
      "execution_count": null,
      "outputs": []
    },
    {
      "cell_type": "code",
      "metadata": {
        "colab": {
          "base_uri": "https://localhost:8080/"
        },
        "id": "3Sk4X3fVd3QO",
        "outputId": "49d43f1e-ef13-4917-fabf-3be8137ae093"
      },
      "source": [
        "\n",
        "print('Number of sequences:', len(sentences))\n",
        "chars = sorted(list(set(text)))\n",
        "print('Unique characters:', len(chars))\n",
        "char_indices = dict((char, chars.index(char)) for char in chars)\n",
        "print('Vectorization...')\n"
      ],
      "execution_count": null,
      "outputs": [
        {
          "output_type": "stream",
          "text": [
            "Number of sequences: 200278\n",
            "Unique characters: 57\n",
            "Vectorization...\n"
          ],
          "name": "stdout"
        }
      ]
    },
    {
      "cell_type": "code",
      "metadata": {
        "colab": {
          "base_uri": "https://localhost:8080/"
        },
        "id": "NbuET0_ZeYto",
        "outputId": "aaa7f3ae-8932-4388-b1ed-89a1cda4dd42"
      },
      "source": [
        "\n",
        "x = np.zeros((len(sentences), maxlen, len(chars)), dtype=np.bool)\n",
        "y = np.zeros((len(sentences), len(chars)), dtype=np.bool)\n",
        "\n",
        "y[2]"
      ],
      "execution_count": null,
      "outputs": [
        {
          "output_type": "execute_result",
          "data": {
            "text/plain": [
              "array([False, False, False, False, False, False, False, False, False,\n",
              "       False, False, False, False, False, False, False, False, False,\n",
              "       False, False, False, False, False, False, False, False, False,\n",
              "       False, False, False, False, False, False, False, False, False,\n",
              "       False, False, False, False, False, False, False, False, False,\n",
              "       False, False, False, False, False, False, False, False, False,\n",
              "       False, False, False])"
            ]
          },
          "metadata": {
            "tags": []
          },
          "execution_count": 34
        }
      ]
    },
    {
      "cell_type": "code",
      "metadata": {
        "id": "gdHPeQbnUXzO"
      },
      "source": [
        "\n",
        "for i, sentence in enumerate(sentences):\n",
        "  for t, char in enumerate(sentence):\n",
        "    x[i, t, char_indices[char]] = 1\n",
        "  y[i, char_indices[next_chars[i]]] = 1"
      ],
      "execution_count": null,
      "outputs": []
    },
    {
      "cell_type": "code",
      "metadata": {
        "colab": {
          "base_uri": "https://localhost:8080/"
        },
        "id": "aj6obGInerxM",
        "outputId": "87fdcf7b-b106-47d6-c347-836d6032edcd"
      },
      "source": [
        "y[0]"
      ],
      "execution_count": null,
      "outputs": [
        {
          "output_type": "execute_result",
          "data": {
            "text/plain": [
              "array([False, False, False, False, False, False, False, False, False,\n",
              "       False, False, False, False, False, False, False, False, False,\n",
              "       False, False, False, False, False, False, False, False, False,\n",
              "       False, False, False, False, False, False, False, False, False,\n",
              "       False, False, False, False, False, False, False, False,  True,\n",
              "       False, False, False, False, False, False, False, False, False,\n",
              "       False, False, False])"
            ]
          },
          "metadata": {
            "tags": []
          },
          "execution_count": 36
        }
      ]
    },
    {
      "cell_type": "markdown",
      "metadata": {
        "id": "QtBZbuADVODB"
      },
      "source": [
        "## Listing 8.4 Single-layer LSTM model for next-character prediction"
      ]
    },
    {
      "cell_type": "code",
      "metadata": {
        "id": "JN8Oce9_U-fM"
      },
      "source": [
        "import keras\n",
        "from keras import layers\n",
        "model = keras.models.Sequential()\n",
        "model.add(layers.LSTM(128, input_shape=(maxlen, len(chars))))\n",
        "model.add(layers.Dense(len(chars), activation='softmax'))"
      ],
      "execution_count": null,
      "outputs": []
    },
    {
      "cell_type": "markdown",
      "metadata": {
        "id": "16yfGWheVWBr"
      },
      "source": [
        "## Listing 8.5 Model compilation configuration"
      ]
    },
    {
      "cell_type": "code",
      "metadata": {
        "id": "uVcMhC6tVSl1"
      },
      "source": [
        "optimizer = keras.optimizers.RMSprop(lr=0.01)\n",
        "model.compile(loss='categorical_crossentropy', optimizer=optimizer)"
      ],
      "execution_count": null,
      "outputs": []
    },
    {
      "cell_type": "markdown",
      "metadata": {
        "id": "coKf816_V1et"
      },
      "source": [
        "## Listing 8.6 Function to sample the next character given the model’s predictions"
      ]
    },
    {
      "cell_type": "code",
      "metadata": {
        "id": "sdTI3vcTVZmu"
      },
      "source": [
        "def sample(preds, temperature=1.0):\n",
        "  preds = np.asarray(preds).astype('float64')\n",
        "  preds = np.log(preds) / temperature\n",
        "  exp_preds = np.exp(preds)\n",
        "  preds = exp_preds / np.sum(exp_preds)\n",
        "  probas = np.random.multinomial(1, preds, 1)\n",
        "  return np.argmax(probas)"
      ],
      "execution_count": null,
      "outputs": []
    },
    {
      "cell_type": "markdown",
      "metadata": {
        "id": "4kNfDmCJWAmR"
      },
      "source": [
        "## Listing 8.7 Text-generation loop"
      ]
    },
    {
      "cell_type": "code",
      "metadata": {
        "colab": {
          "base_uri": "https://localhost:8080/"
        },
        "id": "sA4s-ik7bB7v",
        "outputId": "ab62eceb-2b10-4543-bbb3-fb042e15a661"
      },
      "source": [
        "import random\n",
        "import sys\n",
        "\n",
        "\n",
        "model.fit(x, y, batch_size=128, epochs=10)\n",
        "start_index = random.randint(0, len(text) - maxlen - 1)\n",
        "generated_text = text[start_index: start_index + maxlen]\n",
        "print('--- Generating with seed: \"' + generated_text + '\"')"
      ],
      "execution_count": null,
      "outputs": [
        {
          "output_type": "stream",
          "text": [
            "Epoch 1/10\n",
            "1565/1565 [==============================] - 12s 7ms/step - loss: 2.2583\n",
            "Epoch 2/10\n",
            "1565/1565 [==============================] - 11s 7ms/step - loss: 1.6249\n",
            "Epoch 3/10\n",
            "1565/1565 [==============================] - 10s 7ms/step - loss: 1.5246\n",
            "Epoch 4/10\n",
            "1565/1565 [==============================] - 10s 7ms/step - loss: 1.4681\n",
            "Epoch 5/10\n",
            "1565/1565 [==============================] - 10s 7ms/step - loss: 1.4281\n",
            "Epoch 6/10\n",
            "1565/1565 [==============================] - 11s 7ms/step - loss: 1.4156\n",
            "Epoch 7/10\n",
            "1565/1565 [==============================] - 11s 7ms/step - loss: 1.3970\n",
            "Epoch 8/10\n",
            "1565/1565 [==============================] - 11s 7ms/step - loss: 1.3843\n",
            "Epoch 9/10\n",
            "1565/1565 [==============================] - 11s 7ms/step - loss: 1.3706\n",
            "Epoch 10/10\n",
            "1565/1565 [==============================] - 10s 7ms/step - loss: 1.3580\n",
            "--- Generating with seed: \"hts and depths of their requirements;\n",
            "it is europe, the one \"\n"
          ],
          "name": "stdout"
        }
      ]
    },
    {
      "cell_type": "code",
      "metadata": {
        "colab": {
          "base_uri": "https://localhost:8080/"
        },
        "id": "CskxCYNQcimq",
        "outputId": "7987e653-7312-41cd-aa45-0bd5a9b44803"
      },
      "source": [
        "temperature = 0.5\n",
        "for i in range(400):\n",
        "    sampled = np.zeros((1, maxlen, len(chars)))\n",
        "    for t, char in enumerate(generated_text):\n",
        "      sampled[0, t, char_indices[char]] = 1.\n",
        "    preds = model.predict(sampled, verbose=0)[0]\n",
        "    next_index = sample(preds, temperature)\n",
        "    next_char = chars[next_index]\n",
        "    generated_text += next_char\n",
        "    generated_text = generated_text[1:]\n",
        "    sys.stdout.write(next_char)"
      ],
      "execution_count": null,
      "outputs": [
        {
          "output_type": "stream",
          "text": [
            "of such religious of all the strength also it with the carry is even of the present men to with the man and the something to the deceived that the principal and christianity and not to consequence of himself--and even of the most desisted that the formed to the sense of the present feels and all the world and instincts, that the instincts of the precisely the experience that it is modest disting t"
          ],
          "name": "stdout"
        }
      ]
    },
    {
      "cell_type": "code",
      "metadata": {
        "colab": {
          "base_uri": "https://localhost:8080/"
        },
        "id": "G49RqUssV5i3",
        "outputId": "3221e82d-8c46-452e-db90-0f86cb652217"
      },
      "source": [
        "import random\n",
        "import sys\n",
        "\n",
        "for epoch in range(1, 60):\n",
        "  print('epoch', epoch)\n",
        "  model.fit(x, y, batch_size=128, epochs=1)\n",
        "  start_index = random.randint(0, len(text) - maxlen - 1)\n",
        "  generated_text = text[start_index: start_index + maxlen]\n",
        "  print('--- Generating with seed: \"' + generated_text + '\"')\n",
        "\n",
        "for temperature in [0.2, 0.5, 1.0, 1.2]:\n",
        "  print('------ temperature:', temperature)\n",
        "  sys.stdout.write(generated_text)\n",
        "  for i in range(400):\n",
        "    sampled = np.zeros((1, maxlen, len(chars)))\n",
        "    for t, char in enumerate(generated_text):\n",
        "      sampled[0, t, char_indices[char]] = 1.\n",
        "    preds = model.predict(sampled, verbose=0)[0]\n",
        "    next_index = sample(preds, temperature)\n",
        "    next_char = chars[next_index]\n",
        "    generated_text += next_char\n",
        "    generated_text = generated_text[1:]\n",
        "    sys.stdout.write(next_char)"
      ],
      "execution_count": null,
      "outputs": [
        {
          "output_type": "stream",
          "text": [
            "epoch 1\n",
            "1565/1565 [==============================] - 42s 6ms/step - loss: 2.2836\n",
            "--- Generating with seed: \"ame, woman's play is\n",
            "mediocre.\n",
            "\n",
            "116. the great epochs of our\"\n",
            "epoch 2\n",
            "1565/1565 [==============================] - 10s 6ms/step - loss: 1.6186\n",
            "--- Generating with seed: \"autonomous herd (to the extent even of\n",
            "repudiating the notio\"\n",
            "epoch 3\n",
            "1565/1565 [==============================] - 10s 6ms/step - loss: 1.5294\n",
            "--- Generating with seed: \"rt's window-pane at night,\n",
            "     gazing on me, that speaks \"w\"\n",
            "epoch 4\n",
            "1565/1565 [==============================] - 10s 6ms/step - loss: 1.4803\n",
            "--- Generating with seed: \"paradox extant in the well known lines\n",
            "\n",
            "     the greatest si\"\n",
            "epoch 5\n",
            "1565/1565 [==============================] - 10s 6ms/step - loss: 1.4487\n",
            "--- Generating with seed: \" more pleasantly--one is much more of an artist\n",
            "than one is \"\n",
            "epoch 6\n",
            "1565/1565 [==============================] - 10s 6ms/step - loss: 1.4257\n",
            "--- Generating with seed: \"movement which,\n",
            "historically considered, was still shorter, \"\n",
            "epoch 7\n",
            "1565/1565 [==============================] - 10s 6ms/step - loss: 1.4082\n",
            "--- Generating with seed: \"and justify the christian god:--all this\n",
            "violence, arbitrari\"\n",
            "epoch 8\n",
            "1565/1565 [==============================] - 10s 6ms/step - loss: 1.3947\n",
            "--- Generating with seed: \" peacefully\n",
            "industrious democrats and revolution-ideologues,\"\n",
            "epoch 9\n",
            "1565/1565 [==============================] - 10s 6ms/step - loss: 1.3842\n",
            "--- Generating with seed: \"asses--the conception \"higher\n",
            "man.\"... let the german friend\"\n",
            "epoch 10\n",
            "1565/1565 [==============================] - 10s 6ms/step - loss: 1.3733\n",
            "--- Generating with seed: \"h so often keeps persons of different sexes from too\n",
            "hasty a\"\n",
            "epoch 11\n",
            "1565/1565 [==============================] - 10s 6ms/step - loss: 1.3644\n",
            "--- Generating with seed: \"rrow,\n",
            "except one species of man, the incurably mediocre. the\"\n",
            "epoch 12\n",
            "1565/1565 [==============================] - 10s 6ms/step - loss: 1.3572\n",
            "--- Generating with seed: \" with\n",
            "everlasting claims, all great things have first to wan\"\n",
            "epoch 13\n",
            "1565/1565 [==============================] - 10s 6ms/step - loss: 1.3505\n",
            "--- Generating with seed: \"--not being at all accustomed to\n",
            "fix values, he did not assi\"\n",
            "epoch 14\n",
            "1565/1565 [==============================] - 10s 6ms/step - loss: 1.3440\n",
            "--- Generating with seed: \"hey are not, therefore, bad. \"pain self\n",
            "prepared\" does not e\"\n",
            "epoch 15\n",
            "1565/1565 [==============================] - 10s 6ms/step - loss: 1.3374\n",
            "--- Generating with seed: \"dedly vulgar religion,\n",
            "involving perpetual anxiety because o\"\n",
            "epoch 16\n",
            "1565/1565 [==============================] - 10s 6ms/step - loss: 1.3317\n",
            "--- Generating with seed: \"e and have made far more for civilization\n",
            "than those other m\"\n",
            "epoch 17\n",
            "1565/1565 [==============================] - 10s 6ms/step - loss: 1.3275\n",
            "--- Generating with seed: \"christianity.=--the greeks did not look upon the\n",
            "homeric god\"\n",
            "epoch 18\n",
            "1565/1565 [==============================] - 10s 6ms/step - loss: 1.3216\n",
            "--- Generating with seed: \"s own expense. in short, the question\n",
            "is always who he is, a\"\n",
            "epoch 19\n",
            "1565/1565 [==============================] - 10s 6ms/step - loss: 1.3193\n",
            "--- Generating with seed: \"ull of petty envy, and\n",
            "has a lynx-eye for the weak points in\"\n",
            "epoch 20\n",
            "1565/1565 [==============================] - 10s 6ms/step - loss: 1.3143\n",
            "--- Generating with seed: \"e, and finally of an 'ego'\n",
            "as cause of thought?\" he who vent\"\n",
            "epoch 21\n",
            "1565/1565 [==============================] - 10s 6ms/step - loss: 1.3088\n",
            "--- Generating with seed: \" must always have its basis in a personal need)?\n",
            "how could t\"\n",
            "epoch 22\n",
            "1565/1565 [==============================] - 10s 6ms/step - loss: 1.3055\n",
            "--- Generating with seed: \"nt collection of\n",
            "everything of the nature of servitude and b\"\n",
            "epoch 23\n",
            "1565/1565 [==============================] - 10s 6ms/step - loss: 1.3020\n",
            "--- Generating with seed: \"cording to the principle, \"as slowly as possible\"!\n",
            "a thinker\"\n",
            "epoch 24\n",
            "1565/1565 [==============================] - 10s 6ms/step - loss: 1.2992\n",
            "--- Generating with seed: \"s and moral physiologists. and whenever\n",
            "anyone speaks withou\"\n",
            "epoch 25\n",
            "1565/1565 [==============================] - 10s 6ms/step - loss: 1.2963\n",
            "--- Generating with seed: \"he witness soundly: one thereby obscures his\n",
            "recollection. m\"\n",
            "epoch 26\n",
            "1565/1565 [==============================] - 10s 6ms/step - loss: 1.2914\n",
            "--- Generating with seed: \"ntly betrays to us. all in all, however, no beauty, no\n",
            "south\"\n",
            "epoch 27\n",
            "1565/1565 [==============================] - 10s 6ms/step - loss: 1.2885\n",
            "--- Generating with seed: \" the most\n",
            "portentous of presumptions. men, not great enough,\"\n",
            "epoch 28\n",
            "1565/1565 [==============================] - 10s 6ms/step - loss: 1.2862\n",
            "--- Generating with seed: \"ed \"sympathy\" by such\n",
            "groups of visionaries, is always, i be\"\n",
            "epoch 29\n",
            "1565/1565 [==============================] - 10s 6ms/step - loss: 1.2835\n",
            "--- Generating with seed: \"he will no longer attain to\n",
            "his elevation, that is to say, t\"\n",
            "epoch 30\n",
            "1565/1565 [==============================] - 10s 6ms/step - loss: 1.2810\n",
            "--- Generating with seed: \"smile, those rigorous spirits, when any one\n",
            "says in their pr\"\n",
            "epoch 31\n",
            "1565/1565 [==============================] - 10s 6ms/step - loss: 1.2788\n",
            "--- Generating with seed: \"sm and sublimity of moral\n",
            "questionableness--and consequently\"\n",
            "epoch 32\n",
            "1565/1565 [==============================] - 10s 6ms/step - loss: 1.2763\n",
            "--- Generating with seed: \"is\n",
            "\"metaphysical necessity,\" they naturally arrived at concl\"\n",
            "epoch 33\n",
            "1565/1565 [==============================] - 10s 6ms/step - loss: 1.2750\n",
            "--- Generating with seed: \" steeped in literature to their eyes and ears--the\n",
            "first art\"\n",
            "epoch 34\n",
            "1565/1565 [==============================] - 10s 6ms/step - loss: 1.2720\n",
            "--- Generating with seed: \"es of the world learned to have a new\n",
            "fear before him, they \"\n",
            "epoch 35\n",
            "1565/1565 [==============================] - 10s 6ms/step - loss: 1.2687\n",
            "--- Generating with seed: \" discharged (to borrow their pet phrase from our\n",
            "physicists)\"\n",
            "epoch 36\n",
            "1565/1565 [==============================] - 10s 6ms/step - loss: 1.2688\n",
            "--- Generating with seed: \"(werthschätzungen). with what results may now be very clearl\"\n",
            "epoch 37\n",
            "1565/1565 [==============================] - 10s 7ms/step - loss: 1.2658\n",
            "--- Generating with seed: \" and on principle to unlearn her wisdom and art-of\n",
            "charming,\"\n",
            "epoch 38\n",
            "1565/1565 [==============================] - 10s 6ms/step - loss: 1.2634\n",
            "--- Generating with seed: \"m induce sleep? \"by means of\n",
            "a means (faculty),\" namely the \"\n",
            "epoch 39\n",
            "1565/1565 [==============================] - 10s 7ms/step - loss: 1.2618\n",
            "--- Generating with seed: \"embellishment, something of\n",
            "justification of all the commonp\"\n",
            "epoch 40\n",
            "1565/1565 [==============================] - 10s 6ms/step - loss: 1.2598\n",
            "--- Generating with seed: \"t this motleyness. therein it\n",
            "seems to me that we should agr\"\n",
            "epoch 41\n",
            "1565/1565 [==============================] - 10s 6ms/step - loss: 1.2569\n",
            "--- Generating with seed: \"t a dwarfed, almost ludicrous species\n",
            "has been produced, a g\"\n",
            "epoch 42\n",
            "1565/1565 [==============================] - 10s 6ms/step - loss: 1.2554\n",
            "--- Generating with seed: \"ness and\n",
            "self-responsibility almost offends, and awakens dis\"\n",
            "epoch 43\n",
            "1565/1565 [==============================] - 10s 6ms/step - loss: 1.2544\n",
            "--- Generating with seed: \"o ease, one does well at the very first to\n",
            "grant them a play\"\n",
            "epoch 44\n",
            "1565/1565 [==============================] - 10s 6ms/step - loss: 1.2539\n",
            "--- Generating with seed: \"role of executors of older\n",
            "and higher orders (of predecessor\"\n",
            "epoch 45\n",
            "1565/1565 [==============================] - 10s 6ms/step - loss: 1.2513\n",
            "--- Generating with seed: \"ression to that ancient truth which\n",
            "is wisdom in itself, ina\"\n",
            "epoch 46\n",
            "1565/1565 [==============================] - 10s 6ms/step - loss: 1.2491\n",
            "--- Generating with seed: \"curately, seeing\n",
            "through delusion, one may bleed to death. b\"\n",
            "epoch 47\n",
            "1565/1565 [==============================] - 10s 6ms/step - loss: 1.2480\n",
            "--- Generating with seed: \"o\n",
            "cheerful, too healthy, too anti-catholic for the taste of \"\n",
            "epoch 48\n",
            "1565/1565 [==============================] - 10s 6ms/step - loss: 1.2481\n",
            "--- Generating with seed: \"ier's grey today for you\n",
            "                         rose-garla\"\n",
            "epoch 49\n",
            "1565/1565 [==============================] - 10s 6ms/step - loss: 1.2464\n",
            "--- Generating with seed: \" the inability to kill: were\n",
            "looks sufficient, it would have\"\n",
            "epoch 50\n",
            "1565/1565 [==============================] - 10s 6ms/step - loss: 1.2435\n",
            "--- Generating with seed: \"es a skeptic console\n",
            "himself; and in truth he needs some con\"\n",
            "epoch 51\n",
            "1565/1565 [==============================] - 10s 6ms/step - loss: 1.2451\n",
            "--- Generating with seed: \"ed forms of disguise is epicurism,\n",
            "along with a certain oste\"\n",
            "epoch 52\n",
            "1565/1565 [==============================] - 10s 6ms/step - loss: 1.2433\n",
            "--- Generating with seed: \"ine. on the other hand, those\n",
            "qualities which serve to allev\"\n",
            "epoch 53\n",
            "1565/1565 [==============================] - 10s 6ms/step - loss: 1.2408\n",
            "--- Generating with seed: \" be fairly reproached with much\n",
            "\"art\" in this regard, many f\"\n",
            "epoch 54\n",
            "1565/1565 [==============================] - 10s 6ms/step - loss: 1.2393\n",
            "--- Generating with seed: \"n,\" insofar as it is desired and demanded by women themselve\"\n",
            "epoch 55\n",
            "1565/1565 [==============================] - 10s 6ms/step - loss: 1.2400\n",
            "--- Generating with seed: \"n; and\n",
            "before it has arrived man denies--that there are star\"\n",
            "epoch 56\n",
            "1565/1565 [==============================] - 10s 6ms/step - loss: 1.2365\n",
            "--- Generating with seed: \"durable, so the\n",
            "impulses and passions of the soul are enclos\"\n",
            "epoch 57\n",
            "1565/1565 [==============================] - 10s 6ms/step - loss: 1.2347\n",
            "--- Generating with seed: \" by a mortal woman;\n",
            "a sage who demands that no more work be \"\n",
            "epoch 58\n",
            "1565/1565 [==============================] - 10s 6ms/step - loss: 1.2340\n",
            "--- Generating with seed: \"s folies,\n",
            "qui vous feront grand plaisir\"--the motherliest an\"\n",
            "epoch 59\n",
            "1565/1565 [==============================] - 10s 6ms/step - loss: 1.2339\n",
            "--- Generating with seed: \",\n",
            "which had centuries of struggle between philosophical scho\"\n",
            "------ temperature: 0.2\n",
            ",\n",
            "which had centuries of struggle between philosophical scholars of"
          ],
          "name": "stdout"
        },
        {
          "output_type": "stream",
          "text": [
            "/usr/local/lib/python3.7/dist-packages/ipykernel_launcher.py:3: RuntimeWarning: divide by zero encountered in log\n",
            "  This is separate from the ipykernel package so we can avoid doing imports until\n"
          ],
          "name": "stderr"
        },
        {
          "output_type": "stream",
          "text": [
            " the sense of the expedient of the stronger of the spirit and morality of the man of the superiorism, the sense of the man of the strength and demands of the world and personal according to the sense of the spirit that is the sense of a superiorise the whole and present that the sense of the present the man of the strength and also in the spirit which a man who are all the soul, and the sam------ temperature: 0.5\n",
            " in the spirit which a man who are all the soul, and the same as a really to permitted the present merely and many and man and opinions of religion. the contrary and sage as the brute of the heredity of his own present the lives and unconditioned to be strength, advance, and who has not to be will too more a\n",
            "extent origin and the cause of the put the present and things of the emphatiar of the pride of all the word was also to be the one and conscious, whic------ temperature: 1.0\n",
            "e of all the word was also to be the one and conscious, which may be loved estably and degreeful, asgule sedument therefore of wearis the creativity, namely, to him ages\n",
            "opventation instance absolutely would be  hum of  fines.\n",
            "\n",
            "\n",
            "13\n",
            "\n",
            "=too, lalithes?\"--what is only equally\n",
            "its sigple, to ease foo beauty, man nameless fortry and dangerous. by his principle\n",
            "recearable and kwary seldfted from whateve\n",
            "eartis to traityrahing of him an atteminated the\n",
            "question of ------ temperature: 1.2\n",
            "artis to traityrahing of him an atteminated the\n",
            "question of good and sprilor raithts mannerly world days.\n",
            "\n",
            "\n",
            "t  \"yrefond, with anything incvectence, constution through the actsoritioty it. \"a swendent\n",
            "astreasorice fridudr\n",
            "sextallined to-distrigation\" than the pwerbarce. ebsutoly with time tud, \"impbegents,\" such type defenses, but--at a existiny, who \"still\n",
            "necessary above to most directions with its martety. all\n",
            "idea uters, mables; busing is io boor intait"
          ],
          "name": "stdout"
        }
      ]
    },
    {
      "cell_type": "code",
      "metadata": {
        "id": "a9PehOkAWmtn"
      },
      "source": [
        ""
      ],
      "execution_count": null,
      "outputs": []
    }
  ]
}