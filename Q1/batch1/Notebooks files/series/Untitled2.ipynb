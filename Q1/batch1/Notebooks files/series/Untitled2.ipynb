{
 "cells": [
  {
   "cell_type": "markdown",
   "metadata": {},
   "source": [
    "# loop"
   ]
  },
  {
   "cell_type": "code",
   "execution_count": null,
   "metadata": {},
   "outputs": [],
   "source": [
    "my number = [1,2,4,6,8,10]\n"
   ]
  },
  {
   "cell_type": "code",
   "execution_count": 3,
   "metadata": {},
   "outputs": [
    {
     "name": "stdout",
     "output_type": "stream",
     "text": [
      "ali\n",
      "umer\n",
      "haseeb\n",
      "amir\n",
      "hannan\n"
     ]
    }
   ],
   "source": [
    "name = ['ali','umer','haseeb','amir','hannan']\n",
    "for name2 in name:\n",
    "    print(name2)"
   ]
  },
  {
   "cell_type": "code",
   "execution_count": 4,
   "metadata": {},
   "outputs": [
    {
     "name": "stdout",
     "output_type": "stream",
     "text": [
      "0 saylani trust\n",
      "1 saylani trust\n",
      "2 saylani trust\n",
      "3 saylani trust\n",
      "4 saylani trust\n",
      "5 saylani trust\n",
      "6 saylani trust\n",
      "7 saylani trust\n",
      "8 saylani trust\n",
      "9 saylani trust\n",
      "10 saylani trust\n"
     ]
    }
   ],
   "source": [
    "for i in range(11):\n",
    "    print(i,\"saylani trust\")"
   ]
  },
  {
   "cell_type": "code",
   "execution_count": 8,
   "metadata": {},
   "outputs": [
    {
     "name": "stdout",
     "output_type": "stream",
     "text": [
      "1 qasim hassan\n",
      "2 qasim hassan\n",
      "3 qasim hassan\n",
      "4 qasim hassan\n",
      "5 qasim hassan\n",
      "6 qasim hassan\n",
      "7 qasim hassan\n",
      "8 qasim hassan\n",
      "9 qasim hassan\n",
      "10 qasim hassan\n"
     ]
    }
   ],
   "source": [
    "for a in range(1,11):\n",
    "     print(a,'qasim hassan')"
   ]
  },
  {
   "cell_type": "code",
   "execution_count": 10,
   "metadata": {},
   "outputs": [
    {
     "name": "stdout",
     "output_type": "stream",
     "text": [
      "1 piaic\n",
      "2 piaic\n",
      "3 piaic\n",
      "4 piaic\n",
      "5 piaic\n",
      "6 piaic\n",
      "7 piaic\n",
      "8 piaic\n",
      "9 piaic\n",
      "10 piaic\n"
     ]
    }
   ],
   "source": [
    "for a in range(1,11,1):\n",
    "    print(a,\"piaic\")"
   ]
  },
  {
   "cell_type": "code",
   "execution_count": 11,
   "metadata": {},
   "outputs": [
    {
     "name": "stdout",
     "output_type": "stream",
     "text": [
      "1 PIAIC\n",
      "3 PIAIC\n",
      "5 PIAIC\n",
      "7 PIAIC\n",
      "9 PIAIC\n"
     ]
    }
   ],
   "source": [
    "for a in range(1,11,2):\n",
    "    print(a,\"PIAIC\")"
   ]
  },
  {
   "cell_type": "code",
   "execution_count": 16,
   "metadata": {},
   "outputs": [
    {
     "name": "stdout",
     "output_type": "stream",
     "text": [
      "10 \n",
      "9 \n",
      "8 \n",
      "7 \n",
      "6 \n",
      "5 \n",
      "4 \n",
      "3 \n",
      "2 \n",
      "1 \n"
     ]
    }
   ],
   "source": [
    "for r in range(10,0,-1):\n",
    "    \n",
    "    print(r,end=\" \\n\")  #escap character"
   ]
  },
  {
   "cell_type": "code",
   "execution_count": 18,
   "metadata": {},
   "outputs": [
    {
     "name": "stdout",
     "output_type": "stream",
     "text": [
      "ali******hamza******qasim******hassan\n"
     ]
    }
   ],
   "source": [
    "print ('ali','hamza','qasim','hassan',sep=\"******\")"
   ]
  },
  {
   "cell_type": "code",
   "execution_count": 19,
   "metadata": {},
   "outputs": [
    {
     "name": "stdout",
     "output_type": "stream",
     "text": [
      "my name is name and my age is age\n"
     ]
    }
   ],
   "source": [
    "name = \"qasim\"\n",
    "age = \"18\"\n",
    "print (\"my name is name and my age is age\")"
   ]
  },
  {
   "cell_type": "code",
   "execution_count": 20,
   "metadata": {},
   "outputs": [
    {
     "name": "stdout",
     "output_type": "stream",
     "text": [
      "my name is qasim and my age is 18\n"
     ]
    }
   ],
   "source": [
    "name = \"qasim\"\n",
    "age = \"18\"\n",
    "print (\"my name is \" +name +\" and my age is \"+age)"
   ]
  },
  {
   "cell_type": "code",
   "execution_count": 23,
   "metadata": {},
   "outputs": [
    {
     "name": "stdout",
     "output_type": "stream",
     "text": [
      "my name is 18 and my age is qasim\n"
     ]
    }
   ],
   "source": [
    "print (\"my name is {0} and my age is {1}\".format(name,age))\n",
    "                                      #FORMAT (  0, 1 )"
   ]
  },
  {
   "cell_type": "code",
   "execution_count": 25,
   "metadata": {},
   "outputs": [
    {
     "name": "stdout",
     "output_type": "stream",
     "text": [
      "my name is qasim and my age is 18 \n"
     ]
    }
   ],
   "source": [
    "print (f\"my name is {name} and my age is {age} \")"
   ]
  },
  {
   "cell_type": "code",
   "execution_count": 26,
   "metadata": {},
   "outputs": [
    {
     "name": "stdout",
     "output_type": "stream",
     "text": [
      "my name is  qasim and my age is  18\n"
     ]
    }
   ],
   "source": [
    "print(\"my name is \",name,\"and my age is \",age)"
   ]
  },
  {
   "cell_type": "code",
   "execution_count": 35,
   "metadata": {},
   "outputs": [
    {
     "name": "stdout",
     "output_type": "stream",
     "text": [
      "Enter table number = 2\n",
      "2*1=2\n",
      "2*2=4\n",
      "2*3=6\n",
      "2*4=8\n",
      "2*5=10\n",
      "2*6=12\n",
      "2*7=14\n",
      "2*8=16\n",
      "2*9=18\n",
      "2*10=20\n"
     ]
    }
   ],
   "source": [
    "#print table\n",
    "table= int(input(\"Enter table number = \"))\n",
    "for a in range(1,11):\n",
    "    print(f\"{table}*{a}={table*a}\") "
   ]
  },
  {
   "cell_type": "code",
   "execution_count": null,
   "metadata": {},
   "outputs": [],
   "source": [
    "#break ,continus,pass"
   ]
  },
  {
   "cell_type": "code",
   "execution_count": 47,
   "metadata": {},
   "outputs": [
    {
     "name": "stdout",
     "output_type": "stream",
     "text": [
      "enter any number = 4\n",
      "4*1=4\n",
      "4*2=8\n"
     ]
    }
   ],
   "source": [
    "number = int(input(\"enter any number = \"))\n",
    "for i in range(1,11,1):\n",
    "    if i==3:\n",
    "        break\n",
    "    print(f\"{number}*{i}={number*i}\")"
   ]
  },
  {
   "cell_type": "code",
   "execution_count": 53,
   "metadata": {},
   "outputs": [
    {
     "name": "stdout",
     "output_type": "stream",
     "text": [
      "enjoy\n",
      "enjoy\n",
      "khtm sab\n"
     ]
    }
   ],
   "source": [
    "dost = ['ali','qasim','haseeb','hannan','amir']\n",
    "for i in dost:\n",
    "    if i !=\"haseeb\":\n",
    "        print(\"enjoy\")\n",
    "    else:\n",
    "            print(\"khtm sab\")\n",
    "            break"
   ]
  },
  {
   "cell_type": "code",
   "execution_count": 55,
   "metadata": {},
   "outputs": [],
   "source": [
    " for a in range(10):\n",
    "        pass"
   ]
  },
  {
   "cell_type": "markdown",
   "metadata": {},
   "source": [
    "# nested for loop\n"
   ]
  },
  {
   "cell_type": "code",
   "execution_count": 59,
   "metadata": {},
   "outputs": [
    {
     "name": "stdout",
     "output_type": "stream",
     "text": [
      "0\n",
      "1\n",
      "2\n",
      "3\n",
      "4\n",
      "5\n",
      "6\n",
      "7\n",
      "8\n",
      "9\n",
      "9 a\n",
      "9 b\n",
      "9 c\n",
      "9 d\n"
     ]
    }
   ],
   "source": [
    "for a in range(10):\n",
    "    print(a)\n",
    "for b in ['a','b','c','d']:\n",
    "     print(a,b)"
   ]
  },
  {
   "cell_type": "code",
   "execution_count": 66,
   "metadata": {},
   "outputs": [
    {
     "name": "stdout",
     "output_type": "stream",
     "text": [
      "0 a\n",
      "0 b\n",
      "0 c\n",
      "0 d\n",
      "1 a\n",
      "1 b\n",
      "1 c\n",
      "1 d\n",
      "2 a\n",
      "2 b\n",
      "2 c\n",
      "2 d\n"
     ]
    }
   ],
   "source": [
    "for a in range(3):\n",
    "    for b in ['a','b','c','d']:\n",
    "        print(a,b)"
   ]
  },
  {
   "cell_type": "code",
   "execution_count": null,
   "metadata": {},
   "outputs": [],
   "source": []
  },
  {
   "cell_type": "code",
   "execution_count": null,
   "metadata": {},
   "outputs": [],
   "source": []
  },
  {
   "cell_type": "code",
   "execution_count": null,
   "metadata": {},
   "outputs": [],
   "source": []
  },
  {
   "cell_type": "code",
   "execution_count": null,
   "metadata": {},
   "outputs": [],
   "source": []
  },
  {
   "cell_type": "code",
   "execution_count": null,
   "metadata": {},
   "outputs": [],
   "source": []
  },
  {
   "cell_type": "code",
   "execution_count": null,
   "metadata": {},
   "outputs": [],
   "source": []
  },
  {
   "cell_type": "code",
   "execution_count": null,
   "metadata": {},
   "outputs": [],
   "source": []
  },
  {
   "cell_type": "code",
   "execution_count": null,
   "metadata": {},
   "outputs": [],
   "source": []
  },
  {
   "cell_type": "code",
   "execution_count": null,
   "metadata": {},
   "outputs": [],
   "source": []
  },
  {
   "cell_type": "code",
   "execution_count": null,
   "metadata": {},
   "outputs": [],
   "source": []
  },
  {
   "cell_type": "code",
   "execution_count": null,
   "metadata": {},
   "outputs": [],
   "source": []
  }
 ],
 "metadata": {
  "kernelspec": {
   "display_name": "Python 3",
   "language": "python",
   "name": "python3"
  },
  "language_info": {
   "codemirror_mode": {
    "name": "ipython",
    "version": 3
   },
   "file_extension": ".py",
   "mimetype": "text/x-python",
   "name": "python",
   "nbconvert_exporter": "python",
   "pygments_lexer": "ipython3",
   "version": "3.7.3"
  }
 },
 "nbformat": 4,
 "nbformat_minor": 2
}
