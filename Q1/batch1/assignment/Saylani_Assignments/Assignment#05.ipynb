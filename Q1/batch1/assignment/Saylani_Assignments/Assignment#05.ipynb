{
 "cells": [
  {
   "cell_type": "markdown",
   "metadata": {},
   "source": [
    "# Question # 01"
   ]
  },
  {
   "cell_type": "code",
   "execution_count": 18,
   "metadata": {},
   "outputs": [
    {
     "name": "stdout",
     "output_type": "stream",
     "text": [
      "Please Enter the factorial Number : 6\n"
     ]
    },
    {
     "data": {
      "text/plain": [
       "720"
      ]
     },
     "execution_count": 18,
     "metadata": {},
     "output_type": "execute_result"
    }
   ],
   "source": [
    "def fac(num):\n",
    "    if num>=0:\n",
    "        x = 1\n",
    "        for i in range(num,0,-1):\n",
    "            x = x*i\n",
    "            \n",
    "        return x   \n",
    "    else:\n",
    "        print(\"you enter Negative number Please enter positive number\")        \n",
    "    \n",
    "num = int(input(\"Please Enter the factorial Number : \"))\n",
    "fac(num)"
   ]
  },
  {
   "cell_type": "markdown",
   "metadata": {},
   "source": [
    "# Question # 02"
   ]
  },
  {
   "cell_type": "code",
   "execution_count": 92,
   "metadata": {},
   "outputs": [
    {
     "name": "stdout",
     "output_type": "stream",
     "text": [
      "Enter the statment : SAMEERAHMEDjj\n",
      "Upper Value : 11\n",
      "Lower Value : 2\n"
     ]
    }
   ],
   "source": [
    "def upperLower(statment):\n",
    "    u=0\n",
    "    l=0\n",
    "    for i in range(len(statment)):\n",
    "        if statment[i]==statment[i].upper():\n",
    "            u+=1\n",
    "            \n",
    "            \n",
    "        elif statment[i]==statment[i].lower():\n",
    "            l+=1\n",
    "    print(\"Upper Value : \"+str(u))\n",
    "    print(\"Lower Value : \"+str(l))\n",
    "statment = input(\"Enter the statment : \")    \n",
    "upperLower(statment)\n",
    "            "
   ]
  },
  {
   "cell_type": "markdown",
   "metadata": {},
   "source": [
    "# Question # 03"
   ]
  },
  {
   "cell_type": "code",
   "execution_count": 97,
   "metadata": {},
   "outputs": [
    {
     "data": {
      "text/plain": [
       "[2, 4, 6, 4]"
      ]
     },
     "execution_count": 97,
     "metadata": {},
     "output_type": "execute_result"
    }
   ],
   "source": [
    "def even(num):\n",
    "    li = []\n",
    "    for i in num:\n",
    "        if i%2==0:\n",
    "            li.append(i)\n",
    "    return li\n",
    "\n",
    "even([1,2,3,4,5,6,4])"
   ]
  },
  {
   "cell_type": "markdown",
   "metadata": {},
   "source": [
    "# Question # 04"
   ]
  },
  {
   "cell_type": "code",
   "execution_count": 11,
   "metadata": {},
   "outputs": [
    {
     "name": "stdout",
     "output_type": "stream",
     "text": [
      "Enter palindrome string : madam\n",
      "True\n"
     ]
    }
   ],
   "source": [
    "def Palindrome(string):\n",
    "    a = 0\n",
    "    b = len(string) - 1\n",
    "    \n",
    "    while b >= a:\n",
    "        if not string[a] == string[b]:\n",
    "            return False\n",
    "        a += 1\n",
    "        b -= 1\n",
    "    return True\n",
    "\n",
    "string= input(\"Enter palindrome string : \")\n",
    "print(Palindrome(string)) "
   ]
  },
  {
   "cell_type": "markdown",
   "metadata": {},
   "source": [
    "# Question # 05"
   ]
  },
  {
   "cell_type": "code",
   "execution_count": 4,
   "metadata": {},
   "outputs": [
    {
     "name": "stdout",
     "output_type": "stream",
     "text": [
      "Enter number : 12\n",
      "Not a prime\n"
     ]
    }
   ],
   "source": [
    "def prime(num):\n",
    "    p = 0\n",
    "    for i in range(1,num):\n",
    "        if num%i==0:\n",
    "            p+=1\n",
    "            \n",
    "    if p >1:\n",
    "        print(\"Not a prime\")\n",
    "    else:\n",
    "        print(\"Prime Number\")\n",
    "        \n",
    "        \n",
    "num = int(input(\"Enter number : \"))         \n",
    "prime(num)        "
   ]
  },
  {
   "cell_type": "markdown",
   "metadata": {},
   "source": [
    "# Question # 06"
   ]
  },
  {
   "cell_type": "code",
   "execution_count": 5,
   "metadata": {},
   "outputs": [
    {
     "name": "stdout",
     "output_type": "stream",
     "text": [
      "You added shopping items or your shopping is finished if added = s s\n",
      "Enter items : fruit\n",
      "You added shopping items or your shopping is finished if added = s s\n",
      "Enter items : pinapple\n",
      "You added shopping items or your shopping is finished if added = s s\n",
      "Enter items : apple\n",
      "You added shopping items or your shopping is finished if added = s s\n",
      "Enter items : graphes\n",
      "You added shopping items or your shopping is finished if added = s q\n"
     ]
    },
    {
     "data": {
      "text/plain": [
       "['fruit', 'pinapple', 'apple', 'graphes']"
      ]
     },
     "execution_count": 5,
     "metadata": {},
     "output_type": "execute_result"
    }
   ],
   "source": [
    "def shoppingItem(a):\n",
    "    for i in range(10000):\n",
    "        cmd = input(\"You added shopping items or your shopping is finished if added = s \")\n",
    "        if cmd == \"s\":\n",
    "            item = input(\"Enter items : \")\n",
    "            a.append(item)\n",
    "          \n",
    "        else:\n",
    "            break\n",
    "    return a          \n",
    "        \n",
    "valshoppingItem([])"
   ]
  },
  {
   "cell_type": "code",
   "execution_count": null,
   "metadata": {},
   "outputs": [],
   "source": []
  },
  {
   "cell_type": "code",
   "execution_count": null,
   "metadata": {},
   "outputs": [],
   "source": []
  },
  {
   "cell_type": "code",
   "execution_count": null,
   "metadata": {},
   "outputs": [],
   "source": []
  }
 ],
 "metadata": {
  "kernelspec": {
   "display_name": "Python 3",
   "language": "python",
   "name": "python3"
  },
  "language_info": {
   "codemirror_mode": {
    "name": "ipython",
    "version": 3
   },
   "file_extension": ".py",
   "mimetype": "text/x-python",
   "name": "python",
   "nbconvert_exporter": "python",
   "pygments_lexer": "ipython3",
   "version": "3.7.3"
  }
 },
 "nbformat": 4,
 "nbformat_minor": 2
}
